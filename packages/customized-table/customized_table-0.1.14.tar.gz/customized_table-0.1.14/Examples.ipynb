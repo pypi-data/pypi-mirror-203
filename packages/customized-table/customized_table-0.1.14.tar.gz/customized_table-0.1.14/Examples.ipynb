{
 "cells": [
  {
   "cell_type": "markdown",
   "id": "0100c16b-b8b1-4dbd-bc63-8d64b6cb3381",
   "metadata": {},
   "source": [
    "## Imports"
   ]
  },
  {
   "cell_type": "code",
   "execution_count": 1,
   "id": "532f5660-db16-400e-874f-77400e2f124d",
   "metadata": {},
   "outputs": [
    {
     "name": "stdout",
     "output_type": "stream",
     "text": [
      "0.1.14\n"
     ]
    }
   ],
   "source": [
    "import customized_table\n",
    "print(customized_table.__version__)\n",
    "from customized_table import *\n",
    "import numpy as np"
   ]
  },
  {
   "cell_type": "markdown",
   "id": "5ae7f8a9-f5fb-4607-bfec-9b9275eb170b",
   "metadata": {},
   "source": [
    "## Test data"
   ]
  },
  {
   "cell_type": "code",
   "execution_count": 2,
   "id": "17175a47-ef30-4825-9c06-7c0ce7fe2544",
   "metadata": {},
   "outputs": [],
   "source": [
    "data = [\n",
    "    [\"The Shawshank Redemption\", 1994, 9.3],\n",
    "    [\"The Dark Knight\", 2008, 9.0],\n",
    "    [\"Batman Begins\", 2005, 8.2],\n",
    "    [\"The Light Between Oceans\", 2016, 7.2],\n",
    "    [\"The Empire Strikes Back\", 1980, 8.7],\n",
    "]"
   ]
  },
  {
   "cell_type": "markdown",
   "id": "47269d6d-670c-47b5-8281-fa5bd706661b",
   "metadata": {},
   "source": [
    "## Example tables"
   ]
  },
  {
   "cell_type": "markdown",
   "id": "f367f9b5-01a6-4b9f-9410-967ff2f0a1ea",
   "metadata": {},
   "source": [
    "### Simple table with footer"
   ]
  },
  {
   "cell_type": "code",
   "execution_count": 3,
   "id": "c6cd2bf8-ff38-4e14-b5ca-40b24b98a71e",
   "metadata": {},
   "outputs": [
    {
     "data": {
      "text/html": [
       "<table><tr><td style='color:black;background:#eef;padding-top:3px;padding-bottom:3px;padding-left:5px;padding-right:15px;font-family:Verdana;font-size:12px;font-weight:bold;border-top:1px solid #aaa;border-bottom:1px solid #aaa;font:Verdana 12px;text-align:left;'>Title</td><td style='color:black;background:#eef;padding-top:3px;padding-bottom:3px;padding-left:5px;padding-right:15px;font-family:Verdana;font-size:12px;font-weight:bold;border-top:1px solid #aaa;border-bottom:1px solid #aaa;font:Verdana 12px;text-align:left;'>Year</td><td style='color:black;background:#eef;padding-top:3px;padding-bottom:3px;padding-left:5px;padding-right:15px;font-family:Verdana;font-size:12px;font-weight:bold;border-top:1px solid #aaa;border-bottom:1px solid #aaa;font:Verdana 12px;text-align:left;'>Rating</td></tr><tr><td style='text-align:left;background:white;padding-top:3px;padding-bottom:3px;padding-left:5px;padding-right:15px;font-family:Verdana;font-size:12px;filter:brightness(100%);font:Verdana 12px;'>The Shawshank Redemption</td><td style='text-align:left;background:white;padding-top:3px;padding-bottom:3px;padding-left:5px;padding-right:15px;font-family:Verdana;font-size:12px;filter:brightness(100%);font:Verdana 12px;'>1994</td><td style='text-align:left;background:white;padding-top:3px;padding-bottom:3px;padding-left:5px;padding-right:15px;font-family:Verdana;font-size:12px;filter:brightness(100%);font:Verdana 12px;'>9.3</td></tr><tr><td style='text-align:left;background:white;padding-top:3px;padding-bottom:3px;padding-left:5px;padding-right:15px;font-family:Verdana;font-size:12px;filter:brightness(96%);font:Verdana 12px;'>The Dark Knight</td><td style='text-align:left;background:white;padding-top:3px;padding-bottom:3px;padding-left:5px;padding-right:15px;font-family:Verdana;font-size:12px;filter:brightness(96%);font:Verdana 12px;'>2008</td><td style='text-align:left;background:white;padding-top:3px;padding-bottom:3px;padding-left:5px;padding-right:15px;font-family:Verdana;font-size:12px;filter:brightness(96%);font:Verdana 12px;'>9.0</td></tr><tr><td style='text-align:left;background:white;padding-top:3px;padding-bottom:3px;padding-left:5px;padding-right:15px;font-family:Verdana;font-size:12px;filter:brightness(100%);font:Verdana 12px;'>Batman Begins</td><td style='text-align:left;background:white;padding-top:3px;padding-bottom:3px;padding-left:5px;padding-right:15px;font-family:Verdana;font-size:12px;filter:brightness(100%);font:Verdana 12px;'>2005</td><td style='text-align:left;background:white;padding-top:3px;padding-bottom:3px;padding-left:5px;padding-right:15px;font-family:Verdana;font-size:12px;filter:brightness(100%);font:Verdana 12px;'>8.2</td></tr><tr><td style='text-align:left;background:white;padding-top:3px;padding-bottom:3px;padding-left:5px;padding-right:15px;font-family:Verdana;font-size:12px;filter:brightness(96%);font:Verdana 12px;'>The Light Between Oceans</td><td style='text-align:left;background:white;padding-top:3px;padding-bottom:3px;padding-left:5px;padding-right:15px;font-family:Verdana;font-size:12px;filter:brightness(96%);font:Verdana 12px;'>2016</td><td style='text-align:left;background:white;padding-top:3px;padding-bottom:3px;padding-left:5px;padding-right:15px;font-family:Verdana;font-size:12px;filter:brightness(96%);font:Verdana 12px;'>7.2</td></tr><tr><td style='text-align:left;background:white;padding-top:3px;padding-bottom:3px;padding-left:5px;padding-right:15px;font-family:Verdana;font-size:12px;filter:brightness(100%);font:Verdana 12px;'>The Empire Strikes Back</td><td style='text-align:left;background:white;padding-top:3px;padding-bottom:3px;padding-left:5px;padding-right:15px;font-family:Verdana;font-size:12px;filter:brightness(100%);font:Verdana 12px;'>1980</td><td style='text-align:left;background:white;padding-top:3px;padding-bottom:3px;padding-left:5px;padding-right:15px;font-family:Verdana;font-size:12px;filter:brightness(100%);font:Verdana 12px;'>8.7</td></tr><tr><td style='text-align:left;background:#eef;padding-top:3px;padding-bottom:3px;padding-left:5px;padding-right:15px;color:black;row-toggle-background:0;font-family:Verdana;font-size:12px;font-weight:bold;border-top:1px solid #aaa;border-bottom:1px solid #aaa;font:Verdana 12px;'>Mean:</td><td style='text-align:left;background:#eef;padding-top:3px;padding-bottom:3px;padding-left:5px;padding-right:15px;color:black;row-toggle-background:0;font-family:Verdana;font-size:12px;font-weight:bold;border-top:1px solid #aaa;border-bottom:1px solid #aaa;font:Verdana 12px;'></td><td style='text-align:left;background:#eef;padding-top:3px;padding-bottom:3px;padding-left:5px;padding-right:15px;color:black;row-toggle-background:0;font-family:Verdana;font-size:12px;font-weight:bold;border-top:1px solid #aaa;border-bottom:1px solid #aaa;font:Verdana 12px;'>8.48</td></tr></table>"
      ],
      "text/plain": [
       "<IPython.core.display.HTML object>"
      ]
     },
     "metadata": {},
     "output_type": "display_data"
    }
   ],
   "source": [
    "t = CustomizedTable(\n",
    "    [\"Title\", \"Year\", \"Rating\"], \n",
    "    subheader_style={\"background\": \"#eef\"}, \n",
    "    header_style={\"background\": \"#eef\"},\n",
    ")\n",
    "for r in data:\n",
    "    t.add_row(r)\n",
    "t.add_subheader([\"Mean:\", \"\", np.mean([x[2] for x in data])])\n",
    "t.display()"
   ]
  },
  {
   "cell_type": "markdown",
   "id": "76c257aa-a2d3-4d2f-881d-8aa2c7dc0ab0",
   "metadata": {},
   "source": [
    "### Row styles"
   ]
  },
  {
   "cell_type": "code",
   "execution_count": 4,
   "id": "462f2d60-5809-4ffb-af3a-5a8e9051224b",
   "metadata": {},
   "outputs": [
    {
     "data": {
      "text/html": [
       "<table><tr><td style='color:black;background:#ddd;padding-top:3px;padding-bottom:3px;padding-left:5px;padding-right:15px;font-family:Verdana;font-size:12px;font-weight:bold;border-top:1px solid #aaa;border-bottom:1px solid #aaa;font:Verdana 12px;text-align:left;'>Title</td><td style='color:black;background:#ddd;padding-top:3px;padding-bottom:3px;padding-left:5px;padding-right:15px;font-family:Verdana;font-size:12px;font-weight:bold;border-top:1px solid #aaa;border-bottom:1px solid #aaa;font:Verdana 12px;text-align:left;'>Year</td><td style='color:black;background:#ddd;padding-top:3px;padding-bottom:3px;padding-left:5px;padding-right:15px;font-family:Verdana;font-size:12px;font-weight:bold;border-top:1px solid #aaa;border-bottom:1px solid #aaa;font:Verdana 12px;text-align:left;'>Rating</td></tr><tr><td style='text-align:left;background:white;padding-top:3px;padding-bottom:3px;padding-left:5px;padding-right:15px;color:blue;font-family:Verdana;font-size:12px;filter:brightness(100%);font:Verdana 12px;'>The Shawshank Redemption</td><td style='text-align:left;background:white;padding-top:3px;padding-bottom:3px;padding-left:5px;padding-right:15px;color:blue;font-family:Verdana;font-size:12px;filter:brightness(100%);font:Verdana 12px;'>1994</td><td style='text-align:left;background:white;padding-top:3px;padding-bottom:3px;padding-left:5px;padding-right:15px;color:blue;font-family:Verdana;font-size:12px;filter:brightness(100%);font:Verdana 12px;'>9.3</td></tr><tr><td style='text-align:left;background:white;padding-top:3px;padding-bottom:3px;padding-left:5px;padding-right:15px;color:#777;row-toggle-background:0;font-family:Verdana;font-size:12px;font:Verdana 12px;'>The Dark Knight</td><td style='text-align:left;background:white;padding-top:3px;padding-bottom:3px;padding-left:5px;padding-right:15px;color:#777;row-toggle-background:0;font-family:Verdana;font-size:12px;font:Verdana 12px;'>2008</td><td style='text-align:left;background:white;padding-top:3px;padding-bottom:3px;padding-left:5px;padding-right:15px;color:#777;row-toggle-background:0;font-family:Verdana;font-size:12px;font:Verdana 12px;'>9.0</td></tr><tr><td style='text-align:left;background:white;padding-top:3px;padding-bottom:3px;padding-left:5px;padding-right:15px;color:blue;font-family:Verdana;font-size:12px;filter:brightness(100%);font:Verdana 12px;'>Batman Begins</td><td style='text-align:left;background:white;padding-top:3px;padding-bottom:3px;padding-left:5px;padding-right:15px;color:blue;font-family:Verdana;font-size:12px;filter:brightness(100%);font:Verdana 12px;'>2005</td><td style='text-align:left;background:white;padding-top:3px;padding-bottom:3px;padding-left:5px;padding-right:15px;color:blue;font-family:Verdana;font-size:12px;filter:brightness(100%);font:Verdana 12px;'>8.2</td></tr><tr><td style='text-align:left;background:white;padding-top:3px;padding-bottom:3px;padding-left:5px;padding-right:15px;color:red;font-family:Verdana;font-size:12px;filter:brightness(96%);font:Verdana 12px;'>The Light Between Oceans</td><td style='text-align:left;background:white;padding-top:3px;padding-bottom:3px;padding-left:5px;padding-right:15px;color:red;font-family:Verdana;font-size:12px;filter:brightness(96%);font:Verdana 12px;'>2016</td><td style='text-align:left;background:white;padding-top:3px;padding-bottom:3px;padding-left:5px;padding-right:15px;color:red;font-family:Verdana;font-size:12px;filter:brightness(96%);font:Verdana 12px;'>7.2</td></tr><tr><td style='text-align:left;background:white;padding-top:3px;padding-bottom:3px;padding-left:5px;padding-right:15px;color:red;font-family:Verdana;font-size:12px;filter:brightness(100%);border-bottom:1px solid #aaa;font:Verdana 12px;'>The Empire Strikes Back</td><td style='text-align:left;background:white;padding-top:3px;padding-bottom:3px;padding-left:5px;padding-right:15px;color:red;font-family:Verdana;font-size:12px;filter:brightness(100%);border-bottom:1px solid #aaa;font:Verdana 12px;'>1980</td><td style='text-align:left;background:white;padding-top:3px;padding-bottom:3px;padding-left:5px;padding-right:15px;color:red;font-family:Verdana;font-size:12px;filter:brightness(100%);border-bottom:1px solid #aaa;font:Verdana 12px;'>8.7</td></tr></table>"
      ],
      "text/plain": [
       "<IPython.core.display.HTML object>"
      ]
     },
     "metadata": {},
     "output_type": "display_data"
    }
   ],
   "source": [
    "t = CustomizedTable([\"Title\", \"Year\", \"Rating\"])\n",
    "for r in data:\n",
    "    t.add_row(r)\n",
    "t.row_style([0,2], {\"color\": \"blue\"})\n",
    "t.row_style(range(3,5), {\"color\": \"red\"})\n",
    "t.row_style(1, style={\"color\": \"#777\", \"row-toggle-background\": 0})\n",
    "t.display()"
   ]
  },
  {
   "cell_type": "markdown",
   "id": "d6e4d3c7-66cd-4c30-baad-b8f6db760e55",
   "metadata": {},
   "source": [
    "### Column styles"
   ]
  },
  {
   "cell_type": "code",
   "execution_count": 5,
   "id": "f6d53e5d-cd08-4c7b-812c-d68ec8309b1c",
   "metadata": {},
   "outputs": [
    {
     "data": {
      "text/html": [
       "<table><tr><td style='color:black;background:#ddd;padding-top:3px;padding-bottom:3px;padding-left:5px;padding-right:15px;font-family:Verdana;font-size:12px;font-weight:bold;border-top:1px solid #aaa;border-bottom:1px solid #aaa;font:Verdana 12px;text-align:left;'>Title</td><td style='color:black;background:#ddd;padding-top:3px;padding-bottom:3px;padding-left:5px;padding-right:15px;font-family:Verdana;font-size:12px;font-weight:bold;border-top:1px solid #aaa;border-bottom:1px solid #aaa;font:Verdana 12px;text-align:left;'>Year</td><td style='color:black;background:#ddd;padding-top:3px;padding-bottom:3px;padding-left:5px;padding-right:15px;font-family:Verdana;font-size:12px;font-weight:bold;border-top:1px solid #aaa;border-bottom:1px solid #aaa;font:Verdana 12px;text-align:left;'>Rating</td></tr><tr><td style='text-align:left;background:white;padding-top:3px;padding-bottom:3px;padding-left:5px;padding-right:15px;font-family:Verdana;font-size:12px;filter:brightness(100%);font:Verdana 12px;'>The Shawshank Redemption</td><td style='text-align:left;background:white;padding-top:3px;padding-bottom:3px;padding-left:5px;padding-right:15px;color:blue;font-family:Verdana;font-size:12px;filter:brightness(100%);font:Verdana 12px;'>1994</td><td style='text-align:left;background:white;padding-top:3px;padding-bottom:3px;padding-left:5px;padding-right:15px;color:blue;font-family:Verdana;font-size:12px;filter:brightness(100%);font:Verdana 12px;'>9.3</td></tr><tr><td style='text-align:left;background:white;padding-top:3px;padding-bottom:3px;padding-left:5px;padding-right:15px;font-family:Verdana;font-size:12px;filter:brightness(96%);font:Verdana 12px;'>The Dark Knight</td><td style='text-align:left;background:white;padding-top:3px;padding-bottom:3px;padding-left:5px;padding-right:15px;color:blue;font-family:Verdana;font-size:12px;filter:brightness(96%);font:Verdana 12px;'>2008</td><td style='text-align:left;background:white;padding-top:3px;padding-bottom:3px;padding-left:5px;padding-right:15px;color:blue;font-family:Verdana;font-size:12px;filter:brightness(96%);font:Verdana 12px;'>9.0</td></tr><tr><td style='text-align:left;background:white;padding-top:3px;padding-bottom:3px;padding-left:5px;padding-right:15px;font-family:Verdana;font-size:12px;filter:brightness(100%);font:Verdana 12px;'>Batman Begins</td><td style='text-align:left;background:white;padding-top:3px;padding-bottom:3px;padding-left:5px;padding-right:15px;color:blue;font-family:Verdana;font-size:12px;filter:brightness(100%);font:Verdana 12px;'>2005</td><td style='text-align:left;background:white;padding-top:3px;padding-bottom:3px;padding-left:5px;padding-right:15px;color:blue;font-family:Verdana;font-size:12px;filter:brightness(100%);font:Verdana 12px;'>8.2</td></tr><tr><td style='text-align:left;background:white;padding-top:3px;padding-bottom:3px;padding-left:5px;padding-right:15px;font-family:Verdana;font-size:12px;filter:brightness(96%);font:Verdana 12px;'>The Light Between Oceans</td><td style='text-align:left;background:white;padding-top:3px;padding-bottom:3px;padding-left:5px;padding-right:15px;color:blue;font-family:Verdana;font-size:12px;filter:brightness(96%);font:Verdana 12px;'>2016</td><td style='text-align:left;background:white;padding-top:3px;padding-bottom:3px;padding-left:5px;padding-right:15px;color:blue;font-family:Verdana;font-size:12px;filter:brightness(96%);font:Verdana 12px;'>7.2</td></tr><tr><td style='text-align:left;background:white;padding-top:3px;padding-bottom:3px;padding-left:5px;padding-right:15px;font-family:Verdana;font-size:12px;filter:brightness(100%);border-bottom:1px solid #aaa;font:Verdana 12px;'>The Empire Strikes Back</td><td style='text-align:left;background:white;padding-top:3px;padding-bottom:3px;padding-left:5px;padding-right:15px;color:blue;font-family:Verdana;font-size:12px;filter:brightness(100%);border-bottom:1px solid #aaa;font:Verdana 12px;'>1980</td><td style='text-align:left;background:white;padding-top:3px;padding-bottom:3px;padding-left:5px;padding-right:15px;color:blue;font-family:Verdana;font-size:12px;filter:brightness(100%);border-bottom:1px solid #aaa;font:Verdana 12px;'>8.7</td></tr></table>"
      ],
      "text/plain": [
       "<IPython.core.display.HTML object>"
      ]
     },
     "metadata": {},
     "output_type": "display_data"
    }
   ],
   "source": [
    "t = CustomizedTable([\"Title\", \"Year\", \"Rating\"])\n",
    "for r in data:\n",
    "    t.add_row(r)\n",
    "t.column_style([1,2], {\"color\": \"blue\"})\n",
    "t.display()"
   ]
  },
  {
   "cell_type": "markdown",
   "id": "1c7b6f28-7de1-4c42-aca0-2259dc430f64",
   "metadata": {},
   "source": [
    "### Monospace font"
   ]
  },
  {
   "cell_type": "code",
   "execution_count": 6,
   "id": "f47782a8-c5a0-4752-9403-4b7556dadc37",
   "metadata": {},
   "outputs": [
    {
     "data": {
      "text/html": [
       "<table><tr><td style='color:black;background:#ddd;padding-top:3px;padding-bottom:3px;padding-left:5px;padding-right:15px;font-family:Courier;font-size:12px;font-weight:bold;border-top:1px solid #aaa;border-bottom:1px solid #aaa;font:Courier 12px;text-align:left;'>Title</td><td style='color:black;background:#ddd;padding-top:3px;padding-bottom:3px;padding-left:5px;padding-right:15px;font-family:Courier;font-size:12px;font-weight:bold;border-top:1px solid #aaa;border-bottom:1px solid #aaa;font:Courier 12px;text-align:left;'>Year</td><td style='color:black;background:#ddd;padding-top:3px;padding-bottom:3px;padding-left:5px;padding-right:15px;font-family:Courier;font-size:12px;font-weight:bold;border-top:1px solid #aaa;border-bottom:1px solid #aaa;font:Courier 12px;text-align:left;'>Rating</td></tr><tr><td style='text-align:left;background:white;padding-top:3px;padding-bottom:3px;padding-left:5px;padding-right:15px;font-family:Courier;font-size:12px;filter:brightness(100%);font:Courier 12px;'>The Shawshank Redemption</td><td style='text-align:left;background:white;padding-top:3px;padding-bottom:3px;padding-left:5px;padding-right:15px;color:blue;font-family:Courier;font-size:12px;filter:brightness(100%);font:Courier 12px;'>1994</td><td style='text-align:left;background:white;padding-top:3px;padding-bottom:3px;padding-left:5px;padding-right:15px;color:blue;font-family:Courier;font-size:12px;filter:brightness(100%);font:Courier 12px;'>9.3</td></tr><tr><td style='text-align:left;background:white;padding-top:3px;padding-bottom:3px;padding-left:5px;padding-right:15px;font-family:Courier;font-size:12px;filter:brightness(96%);font:Courier 12px;'>The Dark Knight</td><td style='text-align:left;background:white;padding-top:3px;padding-bottom:3px;padding-left:5px;padding-right:15px;color:blue;font-family:Courier;font-size:12px;filter:brightness(96%);font:Courier 12px;'>2008</td><td style='text-align:left;background:white;padding-top:3px;padding-bottom:3px;padding-left:5px;padding-right:15px;color:blue;font-family:Courier;font-size:12px;filter:brightness(96%);font:Courier 12px;'>9.0</td></tr><tr><td style='text-align:left;background:white;padding-top:3px;padding-bottom:3px;padding-left:5px;padding-right:15px;font-family:Courier;font-size:12px;filter:brightness(100%);font:Courier 12px;'>Batman Begins</td><td style='text-align:left;background:white;padding-top:3px;padding-bottom:3px;padding-left:5px;padding-right:15px;color:blue;font-family:Courier;font-size:12px;filter:brightness(100%);font:Courier 12px;'>2005</td><td style='text-align:left;background:white;padding-top:3px;padding-bottom:3px;padding-left:5px;padding-right:15px;color:blue;font-family:Courier;font-size:12px;filter:brightness(100%);font:Courier 12px;'>8.2</td></tr><tr><td style='text-align:left;background:white;padding-top:3px;padding-bottom:3px;padding-left:5px;padding-right:15px;font-family:Courier;font-size:12px;filter:brightness(96%);font:Courier 12px;'>The Light Between Oceans</td><td style='text-align:left;background:white;padding-top:3px;padding-bottom:3px;padding-left:5px;padding-right:15px;color:blue;font-family:Courier;font-size:12px;filter:brightness(96%);font:Courier 12px;'>2016</td><td style='text-align:left;background:white;padding-top:3px;padding-bottom:3px;padding-left:5px;padding-right:15px;color:blue;font-family:Courier;font-size:12px;filter:brightness(96%);font:Courier 12px;'>7.2</td></tr><tr><td style='text-align:left;background:white;padding-top:3px;padding-bottom:3px;padding-left:5px;padding-right:15px;font-family:Courier;font-size:12px;filter:brightness(100%);border-bottom:1px solid #aaa;font:Courier 12px;'>The Empire Strikes Back</td><td style='text-align:left;background:white;padding-top:3px;padding-bottom:3px;padding-left:5px;padding-right:15px;color:blue;font-family:Courier;font-size:12px;filter:brightness(100%);border-bottom:1px solid #aaa;font:Courier 12px;'>1980</td><td style='text-align:left;background:white;padding-top:3px;padding-bottom:3px;padding-left:5px;padding-right:15px;color:blue;font-family:Courier;font-size:12px;filter:brightness(100%);border-bottom:1px solid #aaa;font:Courier 12px;'>8.7</td></tr></table>"
      ],
      "text/plain": [
       "<IPython.core.display.HTML object>"
      ]
     },
     "metadata": {},
     "output_type": "display_data"
    }
   ],
   "source": [
    "t = CustomizedTable([\"Title\", \"Year\", \"Rating\"], monospace=True)\n",
    "for r in data:\n",
    "    t.add_row(r)\n",
    "t.column_style([1,2], {\"color\": \"blue\"})\n",
    "t.display()"
   ]
  },
  {
   "cell_type": "markdown",
   "id": "43935874-65e8-4d65-bf98-5f79a4328f9a",
   "metadata": {},
   "source": [
    "### Sorted tables"
   ]
  },
  {
   "cell_type": "code",
   "execution_count": 7,
   "id": "66ac9713-cc19-46d1-8db0-19b366420af5",
   "metadata": {},
   "outputs": [
    {
     "data": {
      "text/html": [
       "<table><tr><td style='color:black;background:#ddd;padding-top:3px;padding-bottom:3px;padding-left:5px;padding-right:15px;font-family:Courier;font-size:12px;font-weight:bold;border-top:1px solid #aaa;border-bottom:1px solid #aaa;font:Courier 12px;text-align:left;'>Title</td><td style='color:black;background:#ddd;padding-top:3px;padding-bottom:3px;padding-left:5px;padding-right:15px;font-family:Courier;font-size:12px;font-weight:bold;border-top:1px solid #aaa;border-bottom:1px solid #aaa;font:Courier 12px;text-align:left;'>Year</td><td style='color:black;background:#ddd;padding-top:3px;padding-bottom:3px;padding-left:5px;padding-right:15px;font-family:Courier;font-size:12px;font-weight:bold;border-top:1px solid #aaa;border-bottom:1px solid #aaa;font:Courier 12px;text-align:left;'>Rating</td></tr><tr><td style='text-align:left;background:white;padding-top:3px;padding-bottom:3px;padding-left:5px;padding-right:15px;font-family:Courier;font-size:12px;filter:brightness(100%);font:Courier 12px;'>The Shawshank Redemption</td><td style='text-align:left;background:white;padding-top:3px;padding-bottom:3px;padding-left:5px;padding-right:15px;color:blue;font-family:Courier;font-size:12px;filter:brightness(100%);font:Courier 12px;'>1994</td><td style='text-align:left;background:#cfc;padding-top:3px;padding-bottom:3px;padding-left:5px;padding-right:15px;color:blue;font-family:Courier;font-size:12px;filter:brightness(100%);font:Courier 12px;'>9.3</td></tr><tr><td style='text-align:left;background:white;padding-top:3px;padding-bottom:3px;padding-left:5px;padding-right:15px;font-family:Courier;font-size:12px;filter:brightness(96%);font:Courier 12px;'>The Dark Knight</td><td style='text-align:left;background:white;padding-top:3px;padding-bottom:3px;padding-left:5px;padding-right:15px;color:blue;font-family:Courier;font-size:12px;filter:brightness(96%);font:Courier 12px;'>2008</td><td style='text-align:left;background:#cfc;padding-top:3px;padding-bottom:3px;padding-left:5px;padding-right:15px;color:blue;font-family:Courier;font-size:12px;filter:brightness(96%);font:Courier 12px;'>9.0</td></tr><tr><td style='text-align:left;background:white;padding-top:3px;padding-bottom:3px;padding-left:5px;padding-right:15px;font-family:Courier;font-size:12px;filter:brightness(100%);font:Courier 12px;'>The Empire Strikes Back</td><td style='text-align:left;background:white;padding-top:3px;padding-bottom:3px;padding-left:5px;padding-right:15px;color:blue;font-family:Courier;font-size:12px;filter:brightness(100%);font:Courier 12px;'>1980</td><td style='text-align:left;background:#cfc;padding-top:3px;padding-bottom:3px;padding-left:5px;padding-right:15px;color:blue;font-family:Courier;font-size:12px;filter:brightness(100%);font:Courier 12px;'>8.7</td></tr><tr><td style='text-align:left;background:white;padding-top:3px;padding-bottom:3px;padding-left:5px;padding-right:15px;font-family:Courier;font-size:12px;filter:brightness(96%);font:Courier 12px;'>Batman Begins</td><td style='text-align:left;background:white;padding-top:3px;padding-bottom:3px;padding-left:5px;padding-right:15px;color:blue;font-family:Courier;font-size:12px;filter:brightness(96%);font:Courier 12px;'>2005</td><td style='text-align:left;background:#cfc;padding-top:3px;padding-bottom:3px;padding-left:5px;padding-right:15px;color:blue;font-family:Courier;font-size:12px;filter:brightness(96%);font:Courier 12px;'>8.2</td></tr><tr><td style='text-align:left;background:white;padding-top:3px;padding-bottom:3px;padding-left:5px;padding-right:15px;font-family:Courier;font-size:12px;filter:brightness(100%);border-bottom:1px solid #aaa;font:Courier 12px;'>The Light Between Oceans</td><td style='text-align:left;background:white;padding-top:3px;padding-bottom:3px;padding-left:5px;padding-right:15px;color:blue;font-family:Courier;font-size:12px;filter:brightness(100%);border-bottom:1px solid #aaa;font:Courier 12px;'>2016</td><td style='text-align:left;background:#cfc;padding-top:3px;padding-bottom:3px;padding-left:5px;padding-right:15px;color:blue;font-family:Courier;font-size:12px;filter:brightness(100%);border-bottom:1px solid #aaa;font:Courier 12px;'>7.2</td></tr></table>"
      ],
      "text/plain": [
       "<IPython.core.display.HTML object>"
      ]
     },
     "metadata": {},
     "output_type": "display_data"
    },
    {
     "data": {
      "text/html": [
       "<table><tr><td style='color:black;background:#ddd;padding-top:3px;padding-bottom:3px;padding-left:5px;padding-right:15px;font-family:Courier;font-size:12px;font-weight:bold;border-top:1px solid #aaa;border-bottom:1px solid #aaa;font:Courier 12px;text-align:left;'>Title</td><td style='color:black;background:#ddd;padding-top:3px;padding-bottom:3px;padding-left:5px;padding-right:15px;font-family:Courier;font-size:12px;font-weight:bold;border-top:1px solid #aaa;border-bottom:1px solid #aaa;font:Courier 12px;text-align:left;'>Year</td><td style='color:black;background:#ddd;padding-top:3px;padding-bottom:3px;padding-left:5px;padding-right:15px;font-family:Courier;font-size:12px;font-weight:bold;border-top:1px solid #aaa;border-bottom:1px solid #aaa;font:Courier 12px;text-align:left;'>Rating</td></tr><tr><td style='text-align:left;background:white;padding-top:3px;padding-bottom:3px;padding-left:5px;padding-right:15px;font-family:Courier;font-size:12px;filter:brightness(100%);font:Courier 12px;'>The Empire Strikes Back</td><td style='text-align:left;background:#cfc;padding-top:3px;padding-bottom:3px;padding-left:5px;padding-right:15px;color:blue;font-family:Courier;font-size:12px;filter:brightness(100%);font:Courier 12px;'>1980</td><td style='text-align:left;background:#fff;padding-top:3px;padding-bottom:3px;padding-left:5px;padding-right:15px;color:blue;font-family:Courier;font-size:12px;filter:brightness(100%);font:Courier 12px;'>8.7</td></tr><tr><td style='text-align:left;background:white;padding-top:3px;padding-bottom:3px;padding-left:5px;padding-right:15px;font-family:Courier;font-size:12px;filter:brightness(96%);font:Courier 12px;'>The Shawshank Redemption</td><td style='text-align:left;background:#cfc;padding-top:3px;padding-bottom:3px;padding-left:5px;padding-right:15px;color:blue;font-family:Courier;font-size:12px;filter:brightness(96%);font:Courier 12px;'>1994</td><td style='text-align:left;background:#fff;padding-top:3px;padding-bottom:3px;padding-left:5px;padding-right:15px;color:blue;font-family:Courier;font-size:12px;filter:brightness(96%);font:Courier 12px;'>9.3</td></tr><tr><td style='text-align:left;background:white;padding-top:3px;padding-bottom:3px;padding-left:5px;padding-right:15px;font-family:Courier;font-size:12px;filter:brightness(100%);font:Courier 12px;'>Batman Begins</td><td style='text-align:left;background:#cfc;padding-top:3px;padding-bottom:3px;padding-left:5px;padding-right:15px;color:blue;font-family:Courier;font-size:12px;filter:brightness(100%);font:Courier 12px;'>2005</td><td style='text-align:left;background:#fff;padding-top:3px;padding-bottom:3px;padding-left:5px;padding-right:15px;color:blue;font-family:Courier;font-size:12px;filter:brightness(100%);font:Courier 12px;'>8.2</td></tr><tr><td style='text-align:left;background:white;padding-top:3px;padding-bottom:3px;padding-left:5px;padding-right:15px;font-family:Courier;font-size:12px;filter:brightness(96%);font:Courier 12px;'>The Dark Knight</td><td style='text-align:left;background:#cfc;padding-top:3px;padding-bottom:3px;padding-left:5px;padding-right:15px;color:blue;font-family:Courier;font-size:12px;filter:brightness(96%);font:Courier 12px;'>2008</td><td style='text-align:left;background:#fff;padding-top:3px;padding-bottom:3px;padding-left:5px;padding-right:15px;color:blue;font-family:Courier;font-size:12px;filter:brightness(96%);font:Courier 12px;'>9.0</td></tr><tr><td style='text-align:left;background:white;padding-top:3px;padding-bottom:3px;padding-left:5px;padding-right:15px;font-family:Courier;font-size:12px;filter:brightness(100%);border-bottom:1px solid #aaa;font:Courier 12px;'>The Light Between Oceans</td><td style='text-align:left;background:#cfc;padding-top:3px;padding-bottom:3px;padding-left:5px;padding-right:15px;color:blue;font-family:Courier;font-size:12px;filter:brightness(100%);border-bottom:1px solid #aaa;font:Courier 12px;'>2016</td><td style='text-align:left;background:#fff;padding-top:3px;padding-bottom:3px;padding-left:5px;padding-right:15px;color:blue;font-family:Courier;font-size:12px;filter:brightness(100%);border-bottom:1px solid #aaa;font:Courier 12px;'>7.2</td></tr></table>"
      ],
      "text/plain": [
       "<IPython.core.display.HTML object>"
      ]
     },
     "metadata": {},
     "output_type": "display_data"
    }
   ],
   "source": [
    "t = CustomizedTable([\"Title\", \"Year\", \"Rating\"], monospace=True)\n",
    "for r in data:\n",
    "    t.add_row(r)\n",
    "t.column_style([1,2], {\"color\": \"blue\"})\n",
    "\n",
    "t.sort(\"Rating\", reverse=True)\n",
    "t.column_style(\"Rating\", {\"background\": \"#cfc\", \"color\": \"blue\"})\n",
    "t.display()\n",
    "\n",
    "t.sort(\"Year\")\n",
    "t.column_style(\"Rating\", {\"background\": \"#fff\", \"color\": \"blue\"})\n",
    "t.column_style(\"Year\", {\"background\": \"#cfc\", \"color\": \"blue\"})\n",
    "t.display()"
   ]
  },
  {
   "cell_type": "markdown",
   "id": "43447993-a1ad-4eeb-8291-29493445890c",
   "metadata": {},
   "source": [
    "### Set max rows to show"
   ]
  },
  {
   "cell_type": "code",
   "execution_count": 8,
   "id": "53d2fe6b-210e-4242-a1a9-e530dcbc2733",
   "metadata": {},
   "outputs": [
    {
     "data": {
      "text/html": [
       "<table><tr><td style='color:black;background:#ddd;padding-top:3px;padding-bottom:3px;padding-left:5px;padding-right:15px;font-family:Verdana;font-size:12px;font-weight:bold;border-top:1px solid #aaa;border-bottom:1px solid #aaa;font:Verdana 12px;text-align:left;'>Title</td><td style='color:black;background:#ddd;padding-top:3px;padding-bottom:3px;padding-left:5px;padding-right:15px;font-family:Verdana;font-size:12px;font-weight:bold;border-top:1px solid #aaa;border-bottom:1px solid #aaa;font:Verdana 12px;text-align:left;'>Year</td><td style='color:black;background:#ddd;padding-top:3px;padding-bottom:3px;padding-left:5px;padding-right:15px;font-family:Verdana;font-size:12px;font-weight:bold;border-top:1px solid #aaa;border-bottom:1px solid #aaa;font:Verdana 12px;text-align:left;'>Rating</td></tr><tr><td style='text-align:left;background:white;padding-top:3px;padding-bottom:3px;padding-left:5px;padding-right:15px;font-family:Verdana;font-size:12px;filter:brightness(100%);font:Verdana 12px;'>The Light Between Oceans</td><td style='text-align:left;background:white;padding-top:3px;padding-bottom:3px;padding-left:5px;padding-right:15px;color:blue;font-family:Verdana;font-size:12px;filter:brightness(100%);font:Verdana 12px;'>2016</td><td style='text-align:left;background:white;padding-top:3px;padding-bottom:3px;padding-left:5px;padding-right:15px;color:blue;font-family:Verdana;font-size:12px;filter:brightness(100%);font:Verdana 12px;'>7.2</td></tr><tr><td style='text-align:left;background:white;padding-top:3px;padding-bottom:3px;padding-left:5px;padding-right:15px;font-family:Verdana;font-size:12px;filter:brightness(96%);font:Verdana 12px;'>Batman Begins</td><td style='text-align:left;background:white;padding-top:3px;padding-bottom:3px;padding-left:5px;padding-right:15px;color:blue;font-family:Verdana;font-size:12px;filter:brightness(96%);font:Verdana 12px;'>2005</td><td style='text-align:left;background:white;padding-top:3px;padding-bottom:3px;padding-left:5px;padding-right:15px;color:blue;font-family:Verdana;font-size:12px;filter:brightness(96%);font:Verdana 12px;'>8.2</td></tr><tr><td style='text-align:left;background:white;padding-top:3px;padding-bottom:3px;padding-left:5px;padding-right:15px;font-family:Verdana;font-size:12px;filter:brightness(100%);border-bottom:1px solid #aaa;font:Verdana 12px;'>The Empire Strikes Back</td><td style='text-align:left;background:white;padding-top:3px;padding-bottom:3px;padding-left:5px;padding-right:15px;color:blue;font-family:Verdana;font-size:12px;filter:brightness(100%);border-bottom:1px solid #aaa;font:Verdana 12px;'>1980</td><td style='text-align:left;background:white;padding-top:3px;padding-bottom:3px;padding-left:5px;padding-right:15px;color:blue;font-family:Verdana;font-size:12px;filter:brightness(100%);border-bottom:1px solid #aaa;font:Verdana 12px;'>8.7</td></tr></table>"
      ],
      "text/plain": [
       "<IPython.core.display.HTML object>"
      ]
     },
     "metadata": {},
     "output_type": "display_data"
    }
   ],
   "source": [
    "t = CustomizedTable([\"Title\", \"Year\", \"Rating\"], max_rows=3)\n",
    "for r in data:\n",
    "    t.add_row(r)\n",
    "t.column_style([1,2], {\"color\": \"blue\"})\n",
    "t.sort(2)\n",
    "t.display()"
   ]
  },
  {
   "cell_type": "markdown",
   "id": "0e34709a-f8f3-4353-b57a-99d193a31d37",
   "metadata": {},
   "source": [
    "### Vertical borders"
   ]
  },
  {
   "cell_type": "code",
   "execution_count": 9,
   "id": "c61f54bc-0458-4593-ad12-2a0b18ce8dce",
   "metadata": {},
   "outputs": [
    {
     "data": {
      "text/html": [
       "<table><tr><td style='color:black;background:#ddd;padding-top:3px;padding-bottom:3px;padding-left:5px;padding-right:15px;font-family:Verdana;font-size:12px;font-weight:bold;border-top:1px solid #aaa;border-bottom:1px solid #aaa;border-left:1px solid #aaa;border-right:1px solid #aaa;font:Verdana 12px;text-align:left;'>Title</td><td style='color:black;background:#ddd;padding-top:3px;padding-bottom:3px;padding-left:5px;padding-right:15px;font-family:Verdana;font-size:12px;font-weight:bold;border-top:1px solid #aaa;border-bottom:1px solid #aaa;border-left:1px solid #aaa;border-right:1px solid #aaa;font:Verdana 12px;text-align:left;'>Year</td><td style='color:black;background:#ddd;padding-top:3px;padding-bottom:3px;padding-left:5px;padding-right:15px;font-family:Verdana;font-size:12px;font-weight:bold;border-top:1px solid #aaa;border-bottom:1px solid #aaa;border-left:1px solid #aaa;border-right:1px solid #aaa;font:Verdana 12px;text-align:left;'>Rating</td></tr><tr><td style='text-align:left;background:white;padding-top:3px;padding-bottom:3px;padding-left:5px;padding-right:15px;font-family:Verdana;font-size:12px;border-left:1px solid #aaa;border-right:1px solid #aaa;filter:brightness(100%);font:Verdana 12px;'>The Shawshank Redemption</td><td style='text-align:center;background:white;padding-top:3px;padding-bottom:3px;padding-left:5px;padding-right:15px;color:blue;font-family:Verdana;font-size:12px;border-right:1px solid #aaa;filter:brightness(100%);font:Verdana 12px;'>1994</td><td style='text-align:center;background:white;padding-top:3px;padding-bottom:3px;padding-left:5px;padding-right:15px;color:blue;font-family:Verdana;font-size:12px;border-right:1px solid #aaa;filter:brightness(100%);font:Verdana 12px;'>9.3</td></tr><tr><td style='text-align:left;background:white;padding-top:3px;padding-bottom:3px;padding-left:5px;padding-right:15px;font-family:Verdana;font-size:12px;border-left:1px solid #aaa;border-right:1px solid #aaa;filter:brightness(96%);font:Verdana 12px;'>The Dark Knight</td><td style='text-align:center;background:white;padding-top:3px;padding-bottom:3px;padding-left:5px;padding-right:15px;color:blue;font-family:Verdana;font-size:12px;border-right:1px solid #aaa;filter:brightness(96%);font:Verdana 12px;'>2008</td><td style='text-align:center;background:white;padding-top:3px;padding-bottom:3px;padding-left:5px;padding-right:15px;color:blue;font-family:Verdana;font-size:12px;border-right:1px solid #aaa;filter:brightness(96%);font:Verdana 12px;'>9.0</td></tr><tr><td style='text-align:left;background:white;padding-top:3px;padding-bottom:3px;padding-left:5px;padding-right:15px;font-family:Verdana;font-size:12px;border-left:1px solid #aaa;border-right:1px solid #aaa;filter:brightness(100%);font:Verdana 12px;'>Batman Begins</td><td style='text-align:center;background:white;padding-top:3px;padding-bottom:3px;padding-left:5px;padding-right:15px;color:blue;font-family:Verdana;font-size:12px;border-right:1px solid #aaa;filter:brightness(100%);font:Verdana 12px;'>2005</td><td style='text-align:center;background:white;padding-top:3px;padding-bottom:3px;padding-left:5px;padding-right:15px;color:blue;font-family:Verdana;font-size:12px;border-right:1px solid #aaa;filter:brightness(100%);font:Verdana 12px;'>8.2</td></tr><tr><td style='text-align:left;background:white;padding-top:3px;padding-bottom:3px;padding-left:5px;padding-right:15px;font-family:Verdana;font-size:12px;border-left:1px solid #aaa;border-right:1px solid #aaa;filter:brightness(96%);font:Verdana 12px;'>The Light Between Oceans</td><td style='text-align:center;background:white;padding-top:3px;padding-bottom:3px;padding-left:5px;padding-right:15px;color:blue;font-family:Verdana;font-size:12px;border-right:1px solid #aaa;filter:brightness(96%);font:Verdana 12px;'>2016</td><td style='text-align:center;background:white;padding-top:3px;padding-bottom:3px;padding-left:5px;padding-right:15px;color:blue;font-family:Verdana;font-size:12px;border-right:1px solid #aaa;filter:brightness(96%);font:Verdana 12px;'>7.2</td></tr><tr><td style='text-align:left;background:white;padding-top:3px;padding-bottom:3px;padding-left:5px;padding-right:15px;font-family:Verdana;font-size:12px;border-left:1px solid #aaa;border-right:1px solid #aaa;filter:brightness(100%);border-bottom:1px solid #aaa;font:Verdana 12px;'>The Empire Strikes Back</td><td style='text-align:center;background:white;padding-top:3px;padding-bottom:3px;padding-left:5px;padding-right:15px;color:blue;font-family:Verdana;font-size:12px;border-right:1px solid #aaa;filter:brightness(100%);border-bottom:1px solid #aaa;font:Verdana 12px;'>1980</td><td style='text-align:center;background:white;padding-top:3px;padding-bottom:3px;padding-left:5px;padding-right:15px;color:blue;font-family:Verdana;font-size:12px;border-right:1px solid #aaa;filter:brightness(100%);border-bottom:1px solid #aaa;font:Verdana 12px;'>8.7</td></tr></table>"
      ],
      "text/plain": [
       "<IPython.core.display.HTML object>"
      ]
     },
     "metadata": {},
     "output_type": "display_data"
    }
   ],
   "source": [
    "t = CustomizedTable([\"Title\", \"Year\", \"Rating\"], header_style={\"border\": \"top bottom left right\"})\n",
    "for r in data:\n",
    "    t.add_row(r)\n",
    "t.column_style(0, {\"border\": \"left right\"})\n",
    "t.column_style([1,2], {\"color\": \"blue\", \"border\": \"right\", \"text-align\": \"center\"})\n",
    "t.display()"
   ]
  },
  {
   "cell_type": "markdown",
   "id": "2f259b15-2dc2-413c-8fee-668515d768d9",
   "metadata": {},
   "source": [
    "### Block styles"
   ]
  },
  {
   "cell_type": "code",
   "execution_count": 10,
   "id": "ed3f1312-7e3b-4073-9981-7f6545356c9b",
   "metadata": {},
   "outputs": [
    {
     "data": {
      "text/html": [
       "<table><tr><td style='color:black;background:#ddd;padding-top:3px;padding-bottom:3px;padding-left:5px;padding-right:15px;font-family:Verdana;font-size:12px;font-weight:bold;border-top:1px solid #aaa;border-bottom:1px solid #aaa;font:Verdana 12px;text-align:left;'>No</td><td style='color:black;background:#ddd;padding-top:3px;padding-bottom:3px;padding-left:5px;padding-right:15px;font-family:Verdana;font-size:12px;font-weight:bold;border-top:1px solid #aaa;border-bottom:1px solid #aaa;font:Verdana 12px;text-align:left;'>Title</td><td style='color:black;background:#ddd;padding-top:3px;padding-bottom:3px;padding-left:5px;padding-right:15px;font-family:Verdana;font-size:12px;font-weight:bold;border-top:1px solid #aaa;border-bottom:1px solid #aaa;font:Verdana 12px;text-align:left;'>Year</td><td style='color:black;background:#ddd;padding-top:3px;padding-bottom:3px;padding-left:5px;padding-right:15px;font-family:Verdana;font-size:12px;font-weight:bold;border-top:1px solid #aaa;border-bottom:1px solid #aaa;font:Verdana 12px;text-align:left;'>Rating</td></tr><tr><td style='text-align:left;background:white;padding-top:3px;padding-bottom:3px;padding-left:5px;padding-right:15px;font-family:Verdana;font-size:12px;font-style:italic;filter:brightness(100%);font:Verdana 12px;'>1</td><td style='text-align:left;background:white;padding-top:3px;padding-bottom:3px;padding-left:5px;padding-right:15px;font-family:Verdana;font-size:12px;font-style:italic;filter:brightness(100%);font:Verdana 12px;'>The Shawshank Redemption</td><td style='text-align:left;background:white;padding-top:3px;padding-bottom:3px;padding-left:5px;padding-right:15px;font-family:Verdana;font-size:12px;font-style:italic;filter:brightness(100%);font:Verdana 12px;'>1994</td><td style='text-align:left;background:white;padding-top:3px;padding-bottom:3px;padding-left:5px;padding-right:15px;font-family:Verdana;font-size:12px;font-style:italic;filter:brightness(100%);font:Verdana 12px;'>9.3</td></tr><tr><td style='text-align:left;background:white;padding-top:3px;padding-bottom:3px;padding-left:5px;padding-right:15px;font-family:Verdana;font-size:12px;font-style:italic;filter:brightness(96%);font:Verdana 12px;'>2</td><td style='text-align:left;background:white;padding-top:3px;padding-bottom:3px;padding-left:5px;padding-right:15px;color:blue;font-family:Verdana;font-size:14px;font-style:normal;font-weight:bold;filter:brightness(96%);font:Verdana 12px;'>The Dark Knight</td><td style='text-align:left;background:white;padding-top:3px;padding-bottom:3px;padding-left:5px;padding-right:15px;color:blue;font-family:Verdana;font-size:14px;font-style:normal;font-weight:bold;filter:brightness(96%);font:Verdana 12px;'>2008</td><td style='text-align:left;background:white;padding-top:3px;padding-bottom:3px;padding-left:5px;padding-right:15px;font-family:Verdana;font-size:12px;font-style:italic;filter:brightness(96%);font:Verdana 12px;'>9.0</td></tr><tr><td style='text-align:left;background:white;padding-top:3px;padding-bottom:3px;padding-left:5px;padding-right:15px;font-family:Verdana;font-size:12px;font-style:italic;filter:brightness(100%);font:Verdana 12px;'>3</td><td style='text-align:left;background:white;padding-top:3px;padding-bottom:3px;padding-left:5px;padding-right:15px;color:blue;font-family:Verdana;font-size:14px;font-style:normal;font-weight:bold;filter:brightness(100%);font:Verdana 12px;'>Batman Begins</td><td style='text-align:left;background:white;padding-top:3px;padding-bottom:3px;padding-left:5px;padding-right:15px;color:blue;font-family:Verdana;font-size:14px;font-style:normal;font-weight:bold;filter:brightness(100%);font:Verdana 12px;'>2005</td><td style='text-align:left;background:white;padding-top:3px;padding-bottom:3px;padding-left:5px;padding-right:15px;font-family:Verdana;font-size:12px;font-style:italic;filter:brightness(100%);font:Verdana 12px;'>8.2</td></tr><tr><td style='text-align:left;background:white;padding-top:3px;padding-bottom:3px;padding-left:5px;padding-right:15px;font-family:Verdana;font-size:12px;font-style:italic;filter:brightness(96%);font:Verdana 12px;'>4</td><td style='text-align:left;background:white;padding-top:3px;padding-bottom:3px;padding-left:5px;padding-right:15px;color:blue;font-family:Verdana;font-size:14px;font-style:normal;font-weight:bold;filter:brightness(96%);font:Verdana 12px;'>The Light Between Oceans</td><td style='text-align:left;background:white;padding-top:3px;padding-bottom:3px;padding-left:5px;padding-right:15px;color:blue;font-family:Verdana;font-size:14px;font-style:normal;font-weight:bold;filter:brightness(96%);font:Verdana 12px;'>2016</td><td style='text-align:left;background:white;padding-top:3px;padding-bottom:3px;padding-left:5px;padding-right:15px;font-family:Verdana;font-size:12px;font-style:italic;filter:brightness(96%);font:Verdana 12px;'>7.2</td></tr><tr><td style='text-align:left;background:white;padding-top:3px;padding-bottom:3px;padding-left:5px;padding-right:15px;font-family:Verdana;font-size:12px;font-style:italic;filter:brightness(100%);border-bottom:1px solid #aaa;font:Verdana 12px;'>5</td><td style='text-align:left;background:white;padding-top:3px;padding-bottom:3px;padding-left:5px;padding-right:15px;font-family:Verdana;font-size:12px;font-style:italic;filter:brightness(100%);border-bottom:1px solid #aaa;font:Verdana 12px;'>The Empire Strikes Back</td><td style='text-align:left;background:white;padding-top:3px;padding-bottom:3px;padding-left:5px;padding-right:15px;font-family:Verdana;font-size:12px;font-style:italic;filter:brightness(100%);border-bottom:1px solid #aaa;font:Verdana 12px;'>1980</td><td style='text-align:left;background:white;padding-top:3px;padding-bottom:3px;padding-left:5px;padding-right:15px;font-family:Verdana;font-size:12px;font-style:italic;filter:brightness(100%);border-bottom:1px solid #aaa;font:Verdana 12px;'>8.7</td></tr></table>"
      ],
      "text/plain": [
       "<IPython.core.display.HTML object>"
      ]
     },
     "metadata": {},
     "output_type": "display_data"
    }
   ],
   "source": [
    "t = CustomizedTable([\"No\", \"Title\", \"Year\", \"Rating\"])\n",
    "for i,r in enumerate(data):\n",
    "    t.add_row([i+1]+r, style={\"font\": \"italic\"})\n",
    "t.cell_style(range(1,3), range(1,4), {\"color\": \"blue\", \"font\": \"bold normal 14px\"})\n",
    "t.display()"
   ]
  },
  {
   "cell_type": "markdown",
   "id": "a7eb5af6-1dcd-473a-824a-302567d11555",
   "metadata": {},
   "source": [
    "### Styles for specific cells"
   ]
  },
  {
   "cell_type": "code",
   "execution_count": 11,
   "id": "a8d205ae-0dbe-48d0-a513-fc820e661583",
   "metadata": {},
   "outputs": [
    {
     "data": {
      "text/html": [
       "<table><tr><td style='color:black;background:#ddd;padding-top:3px;padding-bottom:3px;padding-left:5px;padding-right:15px;font-family:Verdana;font-size:12px;font-weight:bold;border-top:1px solid #aaa;border-bottom:1px solid #aaa;font:Verdana 12px;text-align:left;'>Title</td><td style='color:black;background:#ddd;padding-top:3px;padding-bottom:3px;padding-left:5px;padding-right:15px;font-family:Verdana;font-size:12px;font-weight:bold;border-top:1px solid #aaa;border-bottom:1px solid #aaa;font:Verdana 12px;text-align:left;'>Year</td><td style='color:black;background:#ddd;padding-top:3px;padding-bottom:3px;padding-left:5px;padding-right:15px;font-family:Verdana;font-size:12px;font-weight:bold;border-top:1px solid #aaa;border-bottom:1px solid #aaa;font:Verdana 12px;text-align:left;'>Rating</td></tr><tr><td style='text-align:left;background:white;padding-top:3px;padding-bottom:3px;padding-left:5px;padding-right:15px;color:#777;font-family:Verdana;font-size:12px;font-weight:bold;filter:brightness(100%);font:Verdana 12px;'>The Shawshank Redemption</td><td style='text-align:left;background:white;padding-top:3px;padding-bottom:3px;padding-left:5px;padding-right:15px;font-family:Verdana;font-size:12px;font-weight:bold;filter:brightness(100%);font:Verdana 12px;'>1994</td><td style='text-align:left;background:#9f9;padding-top:3px;padding-bottom:3px;padding-left:5px;padding-right:15px;color:blue;font-family:Verdana;font-size:12px;font-weight:bold;filter:brightness(100%);font:Verdana 12px;'>9.3</td></tr><tr><td style='text-align:left;background:white;padding-top:3px;padding-bottom:3px;padding-left:5px;padding-right:15px;color:#777;font-family:Verdana;font-size:12px;filter:brightness(96%);font:Verdana 12px;'>The Dark Knight</td><td style='text-align:left;background:white;padding-top:3px;padding-bottom:3px;padding-left:5px;padding-right:15px;font-family:Verdana;font-size:12px;filter:brightness(96%);font:Verdana 12px;'>2008</td><td style='text-align:left;background:white;padding-top:3px;padding-bottom:3px;padding-left:5px;padding-right:15px;color:blue;font-family:Verdana;font-size:12px;filter:brightness(96%);font:Verdana 12px;'>9.0</td></tr><tr><td style='text-align:left;background:white;padding-top:3px;padding-bottom:3px;padding-left:5px;padding-right:15px;color:#777;font-family:Verdana;font-size:12px;filter:brightness(100%);font:Verdana 12px;'>Batman Begins</td><td style='text-align:left;background:white;padding-top:3px;padding-bottom:3px;padding-left:5px;padding-right:15px;font-family:Verdana;font-size:12px;filter:brightness(100%);font:Verdana 12px;'>2005</td><td style='text-align:left;background:white;padding-top:3px;padding-bottom:3px;padding-left:5px;padding-right:15px;color:blue;font-family:Verdana;font-size:12px;filter:brightness(100%);font:Verdana 12px;'>8.2</td></tr><tr><td style='text-align:left;background:white;padding-top:3px;padding-bottom:3px;padding-left:5px;padding-right:15px;color:#777;font-family:Verdana;font-size:12px;filter:brightness(96%);font:Verdana 12px;'>The Light Between Oceans</td><td style='text-align:left;background:white;padding-top:3px;padding-bottom:3px;padding-left:5px;padding-right:15px;font-family:Verdana;font-size:12px;filter:brightness(96%);font:Verdana 12px;'>2016</td><td style='text-align:left;background:#f999;padding-top:3px;padding-bottom:3px;padding-left:5px;padding-right:15px;color:blue;font-family:Verdana;font-size:12px;filter:brightness(96%);font:Verdana 12px;'>7.2</td></tr><tr><td style='text-align:left;background:white;padding-top:3px;padding-bottom:3px;padding-left:5px;padding-right:15px;color:#777;font-family:Verdana;font-size:12px;filter:brightness(100%);border-bottom:1px solid #aaa;font:Verdana 12px;'>The Empire Strikes Back</td><td style='text-align:left;background:white;padding-top:3px;padding-bottom:3px;padding-left:5px;padding-right:15px;font-family:Verdana;font-size:12px;filter:brightness(100%);border-bottom:1px solid #aaa;font:Verdana 12px;'>1980</td><td style='text-align:left;background:white;padding-top:3px;padding-bottom:3px;padding-left:5px;padding-right:15px;color:blue;font-family:Verdana;font-size:12px;filter:brightness(100%);border-bottom:1px solid #aaa;font:Verdana 12px;'>8.7</td></tr></table>"
      ],
      "text/plain": [
       "<IPython.core.display.HTML object>"
      ]
     },
     "metadata": {},
     "output_type": "display_data"
    }
   ],
   "source": [
    "t = CustomizedTable([\"Title\", \"Year\", \"Rating\"])\n",
    "for r in data:\n",
    "    t.add_row(r)\n",
    "t.column_style(\"Rating\", {\"color\": \"blue\"})\n",
    "t.column_style(0, {\"color\": \"#777\"})\n",
    "t.row_style(0, {\"font\": \"bold\"})\n",
    "t.cell_style(\"Rating\", 0, {\"background\": \"#9f9\"})\n",
    "t.cell_style(\"Rating\", 3, {\"background\": \"#f999\"})\n",
    "t.display()"
   ]
  },
  {
   "cell_type": "markdown",
   "id": "01dbaf4d-56a3-445c-9b66-635beeb6ccdb",
   "metadata": {},
   "source": [
    "### Font styles"
   ]
  },
  {
   "cell_type": "code",
   "execution_count": 12,
   "id": "228e88fe-3327-4f5f-9da4-eeda58382188",
   "metadata": {},
   "outputs": [
    {
     "data": {
      "text/html": [
       "<table><tr><td style='color:black;background:#ddd;padding-top:3px;padding-bottom:3px;padding-left:5px;padding-right:15px;font-family:Arial;font-size:10px;font-weight:bold;border-top:1px solid #aaa;border-bottom:1px solid #aaa;font:Arial 10px;text-align:left;'>Title</td><td style='color:black;background:#ddd;padding-top:3px;padding-bottom:3px;padding-left:5px;padding-right:15px;font-family:Arial;font-size:10px;font-weight:bold;border-top:1px solid #aaa;border-bottom:1px solid #aaa;font:Arial 10px;text-align:left;'>Year</td><td style='color:black;background:#ddd;padding-top:3px;padding-bottom:3px;padding-left:5px;padding-right:15px;font-family:Arial;font-size:10px;font-weight:bold;border-top:1px solid #aaa;border-bottom:1px solid #aaa;font:Arial 10px;text-align:left;'>Rating</td></tr><tr><td style='text-align:left;background:white;padding-top:3px;padding-bottom:3px;padding-left:5px;padding-right:15px;font-family:Arial;font-size:10px;filter:brightness(100%);font:Arial 10px;'>The Shawshank Redemption</td><td style='text-align:left;background:white;padding-top:3px;padding-bottom:3px;padding-left:5px;padding-right:15px;font-family:Arial;font-size:10px;filter:brightness(100%);font:Arial 10px;'>1994</td><td style='text-align:left;background:white;padding-top:3px;padding-bottom:3px;padding-left:5px;padding-right:15px;font-family:Arial;font-size:10px;filter:brightness(100%);font:Arial 10px;'>9.3</td></tr><tr><td style='text-align:left;background:white;padding-top:3px;padding-bottom:3px;padding-left:5px;padding-right:15px;font-family:Arial;font-size:10px;filter:brightness(96%);font:Arial 10px;'>The Dark Knight</td><td style='text-align:left;background:white;padding-top:3px;padding-bottom:3px;padding-left:5px;padding-right:15px;font-family:Arial;font-size:10px;filter:brightness(96%);font:Arial 10px;'>2008</td><td style='text-align:left;background:white;padding-top:3px;padding-bottom:3px;padding-left:5px;padding-right:15px;font-family:Arial;font-size:10px;filter:brightness(96%);font:Arial 10px;'>9.0</td></tr><tr><td style='text-align:left;background:white;padding-top:3px;padding-bottom:3px;padding-left:5px;padding-right:15px;font-family:Arial;font-size:10px;filter:brightness(100%);font:Arial 10px;'>Batman Begins</td><td style='text-align:left;background:white;padding-top:3px;padding-bottom:3px;padding-left:5px;padding-right:15px;font-family:Arial;font-size:10px;filter:brightness(100%);font:Arial 10px;'>2005</td><td style='text-align:left;background:white;padding-top:3px;padding-bottom:3px;padding-left:5px;padding-right:15px;font-family:Arial;font-size:10px;filter:brightness(100%);font:Arial 10px;'>8.2</td></tr><tr><td style='text-align:left;background:white;padding-top:3px;padding-bottom:3px;padding-left:5px;padding-right:15px;font-family:Arial;font-size:10px;filter:brightness(96%);font:Arial 10px;'>The Light Between Oceans</td><td style='text-align:left;background:white;padding-top:3px;padding-bottom:3px;padding-left:5px;padding-right:15px;font-family:Arial;font-size:10px;filter:brightness(96%);font:Arial 10px;'>2016</td><td style='text-align:left;background:white;padding-top:3px;padding-bottom:3px;padding-left:5px;padding-right:15px;font-family:Arial;font-size:10px;filter:brightness(96%);font:Arial 10px;'>7.2</td></tr><tr><td style='text-align:left;background:white;padding-top:3px;padding-bottom:3px;padding-left:5px;padding-right:15px;font-family:Arial;font-size:10px;filter:brightness(100%);border-bottom:1px solid #aaa;font:Arial 10px;'>The Empire Strikes Back</td><td style='text-align:left;background:white;padding-top:3px;padding-bottom:3px;padding-left:5px;padding-right:15px;font-family:Arial;font-size:10px;filter:brightness(100%);border-bottom:1px solid #aaa;font:Arial 10px;'>1980</td><td style='text-align:left;background:white;padding-top:3px;padding-bottom:3px;padding-left:5px;padding-right:15px;font-family:Arial;font-size:10px;filter:brightness(100%);border-bottom:1px solid #aaa;font:Arial 10px;'>8.7</td></tr></table>"
      ],
      "text/plain": [
       "<IPython.core.display.HTML object>"
      ]
     },
     "metadata": {},
     "output_type": "display_data"
    }
   ],
   "source": [
    "t = CustomizedTable([\"Title\", \"Year\", \"Rating\"], style={\"font\": \"Arial 10px\"})\n",
    "for r in data:\n",
    "    t.add_row(r)\n",
    "t.display()"
   ]
  },
  {
   "cell_type": "markdown",
   "id": "b195a611-f793-4b11-abfd-9c0732165296",
   "metadata": {},
   "source": [
    "### Rows spanning multiple columns, text tagging and table width"
   ]
  },
  {
   "cell_type": "code",
   "execution_count": 13,
   "id": "d2bcaf50-2b8e-40bf-9c69-94ef90f99c9c",
   "metadata": {},
   "outputs": [
    {
     "data": {
      "text/html": [
       "<table style='width=500px; max-width:500px; min-width:500px; table-layout: fixed; word-wrap: break-word;'><tr><td style='color:black;background:#ddd;padding-top:3px;padding-bottom:3px;padding-left:5px;padding-right:15px;font-family:Verdana;font-size:12px;font-weight:bold;border-top:1px solid #aaa;border-bottom:1px solid #aaa;font:Verdana 12px;text-align:left;'>Title</td><td style='color:black;background:#ddd;padding-top:3px;padding-bottom:3px;padding-left:5px;padding-right:15px;font-family:Verdana;font-size:12px;font-weight:bold;border-top:1px solid #aaa;border-bottom:1px solid #aaa;font:Verdana 12px;text-align:left;'>Year</td><td style='color:black;background:#ddd;padding-top:3px;padding-bottom:3px;padding-left:5px;padding-right:15px;font-family:Verdana;font-size:12px;font-weight:bold;border-top:1px solid #aaa;border-bottom:1px solid #aaa;font:Verdana 12px;text-align:left;'>Rating</td></tr><tr><td style='text-align:left;background:white;padding-top:3px;padding-bottom:3px;padding-left:5px;padding-right:15px;font-family:Verdana;font-size:12px;filter:brightness(100%);font:Verdana 12px;'>The Shawshank Redemption</td><td style='text-align:left;background:white;padding-top:3px;padding-bottom:3px;padding-left:5px;padding-right:15px;font-family:Verdana;font-size:12px;filter:brightness(100%);font:Verdana 12px;'>1994</td><td style='text-align:left;background:white;padding-top:3px;padding-bottom:3px;padding-left:5px;padding-right:15px;font-family:Verdana;font-size:12px;filter:brightness(100%);font:Verdana 12px;'>9.3</td></tr><tr><td style='text-align:left;background:white;padding-top:3px;padding-bottom:3px;padding-left:5px;padding-right:15px;font-family:Verdana;font-size:12px;filter:brightness(96%);font:Verdana 12px;'>The Dark Knight</td><td style='text-align:left;background:white;padding-top:3px;padding-bottom:3px;padding-left:5px;padding-right:15px;font-family:Verdana;font-size:12px;filter:brightness(96%);font:Verdana 12px;'>2008</td><td style='text-align:left;background:white;padding-top:3px;padding-bottom:3px;padding-left:5px;padding-right:15px;font-family:Verdana;font-size:12px;filter:brightness(96%);font:Verdana 12px;'>9.0</td></tr><tr><td style='text-align:left;background:white;padding-top:3px;padding-bottom:3px;padding-left:5px;padding-right:15px;font-family:Verdana;font-size:12px;filter:brightness(100%);font:Verdana 12px;'><span style='color:#b40403;font-weight:bold;'>Batman</span> Begins</td><td style='text-align:left;background:white;padding-top:3px;padding-bottom:3px;padding-left:5px;padding-right:15px;font-family:Verdana;font-size:12px;filter:brightness(100%);font:Verdana 12px;'>2005</td><td style='text-align:left;background:white;padding-top:3px;padding-bottom:3px;padding-left:5px;padding-right:15px;font-family:Verdana;font-size:12px;filter:brightness(100%);font:Verdana 12px;'>8.2</td></tr><tr><td style='text-align:left;background:white;padding-top:3px;padding-bottom:3px;padding-left:5px;padding-right:15px;font-family:Verdana;font-size:12px;filter:brightness(96%);font:Verdana 12px;'>The Light Between Oceans</td><td style='text-align:left;background:white;padding-top:3px;padding-bottom:3px;padding-left:5px;padding-right:15px;font-family:Verdana;font-size:12px;filter:brightness(96%);font:Verdana 12px;'>2016</td><td style='text-align:left;background:white;padding-top:3px;padding-bottom:3px;padding-left:5px;padding-right:15px;font-family:Verdana;font-size:12px;filter:brightness(96%);font:Verdana 12px;'>7.2</td></tr><tr><td style='text-align:left;background:white;padding-top:3px;padding-bottom:3px;padding-left:5px;padding-right:15px;font-family:Verdana;font-size:12px;filter:brightness(100%);font:Verdana 12px;'>The Empire Strikes Back</td><td style='text-align:left;background:white;padding-top:3px;padding-bottom:3px;padding-left:5px;padding-right:15px;font-family:Verdana;font-size:12px;filter:brightness(100%);font:Verdana 12px;'>1980</td><td style='text-align:left;background:white;padding-top:3px;padding-bottom:3px;padding-left:5px;padding-right:15px;font-family:Verdana;font-size:12px;filter:brightness(100%);font:Verdana 12px;'>8.7</td></tr><tr><td style='text-align:center;background:#7e7;padding-top:10px;padding-bottom:10px;padding-left:15px;padding-right:15px;color:green;row-toggle-background:0;font-family:Verdana;font-size:12px;font-weight:bold;border-top:1px solid #aaa;border-bottom:1px solid #aaa;font:Verdana 12px;' colspan=3>IMDB ratings</td></tr></table>"
      ],
      "text/plain": [
       "<IPython.core.display.HTML object>"
      ]
     },
     "metadata": {},
     "output_type": "display_data"
    }
   ],
   "source": [
    "t = CustomizedTable([\"Title\", \"Year\", \"Rating\"], width=500)\n",
    "for r in data:\n",
    "    t.add_row(r.copy())\n",
    "t.update_cell(0, 2, tag_text(\"<name bold>Batman</> Begins\"))\n",
    "t.add_colspan_row(\n",
    "    [[\"IMDB ratings\", 3]], \n",
    "    style={\"color\": \"green\", \"font\": \"bold\", \"background\": \"#7e7\", \"row-toggle-background\": 0, \"border\": \"top\", \"text-align\": \"center\", \"padding\": \"10px 15px\"})\n",
    "t.display()"
   ]
  },
  {
   "cell_type": "markdown",
   "id": "2c85ab4c-e9ce-446c-8acb-34cdbd82c472",
   "metadata": {},
   "source": [
    "### Formatting values and dump to csv, Excel and png"
   ]
  },
  {
   "cell_type": "code",
   "execution_count": 14,
   "id": "777da0a1-79fe-4d8e-9267-880f495b20c3",
   "metadata": {},
   "outputs": [
    {
     "data": {
      "text/html": [
       "<table><tr><td style='color:black;background:#ddd;padding-top:3px;padding-bottom:3px;padding-left:5px;padding-right:15px;font-family:Arial;font-size:12px;font-weight:bold;border-top:1px solid #aaa;border-bottom:1px solid #aaa;font:Arial 12px;text-align:left;'>No</td><td style='color:black;background:#ddd;padding-top:3px;padding-bottom:3px;padding-left:5px;padding-right:15px;font-family:Arial;font-size:12px;font-weight:bold;border-top:1px solid #aaa;border-bottom:1px solid #aaa;font:Arial 12px;text-align:left;' width=250>Title</td><td style='color:black;background:#ddd;padding-top:3px;padding-bottom:3px;padding-left:5px;padding-right:15px;font-family:Arial;font-size:12px;font-weight:bold;border-top:1px solid #aaa;border-bottom:1px solid #aaa;font:Arial 12px;text-align:left;'>Year</td><td style='color:black;background:#ddd;padding-top:3px;padding-bottom:3px;padding-left:5px;padding-right:15px;font-family:Arial;font-size:12px;font-weight:bold;border-top:1px solid #aaa;border-bottom:1px solid #aaa;font:Arial 12px;text-align:left;'>Rating</td><td style='color:black;background:#ddd;padding-top:3px;padding-bottom:3px;padding-left:5px;padding-right:15px;font-family:Arial;font-size:12px;font-weight:bold;border-top:1px solid #aaa;border-bottom:1px solid #aaa;font:Arial 12px;text-align:left;'>No ratings</td><td style='color:black;background:#ddd;padding-top:3px;padding-bottom:3px;padding-left:5px;padding-right:15px;font-family:Arial;font-size:12px;font-weight:bold;border-top:1px solid #aaa;border-bottom:1px solid #aaa;font:Arial 12px;text-align:left;'>Part</td><td style='color:black;background:#ddd;padding-top:3px;padding-bottom:3px;padding-left:5px;padding-right:15px;font-family:Arial;font-size:12px;font-weight:bold;border-top:1px solid #aaa;border-bottom:1px solid #aaa;font:Arial 12px;text-align:left;' width=250>Genre</td></tr><tr><td style='text-align:left;background:white;padding-top:3px;padding-bottom:3px;padding-left:5px;padding-right:15px;color:#666;font-family:Arial;font-size:12px;filter:brightness(100%);font:Arial 12px;'>1</td><td style='text-align:left;background:white;padding-top:3px;padding-bottom:3px;padding-left:5px;padding-right:15px;color:#b40403;font-family:Arial;font-size:12px;filter:brightness(100%);font:Arial 12px;'>The Shawshank Redemption</td><td style='text-align:left;background:white;padding-top:3px;padding-bottom:3px;padding-left:5px;padding-right:15px;color:#3b08d3;font-family:Arial;font-size:12px;filter:brightness(100%);font:Arial 12px;'>1994</td><td style='text-align:left;background:white;padding-top:3px;padding-bottom:3px;padding-left:5px;padding-right:15px;color:#3b08d3;font-family:Arial;font-size:12px;filter:brightness(100%);font:Arial 12px;'>9.3</td><td style='text-align:left;background:white;padding-top:3px;padding-bottom:3px;padding-left:5px;padding-right:15px;color:#3b08d3;num-format:prefix;font-family:Arial;font-size:12px;filter:brightness(100%);font:Arial 12px;'>2.6M</td><td style='text-align:left;background:white;padding-top:3px;padding-bottom:3px;padding-left:5px;padding-right:15px;color:#7a03fc;num-format:pct-1;font-family:Arial;font-size:12px;filter:brightness(100%);font:Arial 12px;'>32.3%</td><td style='text-align:left;background:white;padding-top:3px;padding-bottom:3px;padding-left:5px;padding-right:15px;color:#fb4b04;font-family:Arial;font-size:12px;filter:brightness(100%);font:Arial 12px;'>Drama</td></tr><tr><td style='text-align:left;background:white;padding-top:3px;padding-bottom:3px;padding-left:5px;padding-right:15px;color:#666;font-family:Arial;font-size:12px;filter:brightness(96%);font:Arial 12px;'>2</td><td style='text-align:left;background:white;padding-top:3px;padding-bottom:3px;padding-left:5px;padding-right:15px;color:#b40403;font-family:Arial;font-size:12px;filter:brightness(96%);font:Arial 12px;'>The Dark Knight</td><td style='text-align:left;background:white;padding-top:3px;padding-bottom:3px;padding-left:5px;padding-right:15px;color:#3b08d3;font-family:Arial;font-size:12px;filter:brightness(96%);font:Arial 12px;'>2008</td><td style='text-align:left;background:white;padding-top:3px;padding-bottom:3px;padding-left:5px;padding-right:15px;color:#3b08d3;font-family:Arial;font-size:12px;filter:brightness(96%);font:Arial 12px;'>9.0</td><td style='text-align:left;background:white;padding-top:3px;padding-bottom:3px;padding-left:5px;padding-right:15px;color:#3b08d3;num-format:prefix;font-family:Arial;font-size:12px;filter:brightness(96%);font:Arial 12px;'>2.6M</td><td style='text-align:left;background:white;padding-top:3px;padding-bottom:3px;padding-left:5px;padding-right:15px;color:#7a03fc;num-format:pct-1;font-family:Arial;font-size:12px;filter:brightness(96%);font:Arial 12px;'>32.3%</td><td style='text-align:left;background:white;padding-top:3px;padding-bottom:3px;padding-left:5px;padding-right:15px;color:#fb4b04;font-family:Arial;font-size:12px;filter:brightness(96%);font:Arial 12px;'>Action/Crime/Drama</td></tr><tr><td style='text-align:left;background:white;padding-top:3px;padding-bottom:3px;padding-left:5px;padding-right:15px;color:#666;font-family:Arial;font-size:12px;filter:brightness(100%);font:Arial 12px;'>3</td><td style='text-align:left;background:white;padding-top:3px;padding-bottom:3px;padding-left:5px;padding-right:15px;color:#b40403;font-family:Arial;font-size:12px;filter:brightness(100%);font:Arial 12px;'>Batman Begins</td><td style='text-align:left;background:white;padding-top:3px;padding-bottom:3px;padding-left:5px;padding-right:15px;color:#3b08d3;font-family:Arial;font-size:12px;filter:brightness(100%);font:Arial 12px;'>2005</td><td style='text-align:left;background:white;padding-top:3px;padding-bottom:3px;padding-left:5px;padding-right:15px;color:#3b08d3;font-family:Arial;font-size:12px;filter:brightness(100%);font:Arial 12px;'>8.2</td><td style='text-align:left;background:white;padding-top:3px;padding-bottom:3px;padding-left:5px;padding-right:15px;color:#3b08d3;num-format:prefix;font-family:Arial;font-size:12px;filter:brightness(100%);font:Arial 12px;'>1.5M</td><td style='text-align:left;background:white;padding-top:3px;padding-bottom:3px;padding-left:5px;padding-right:15px;color:#7a03fc;num-format:pct-1;font-family:Arial;font-size:12px;filter:brightness(100%);font:Arial 12px;'>18.6%</td><td style='text-align:left;background:white;padding-top:3px;padding-bottom:3px;padding-left:5px;padding-right:15px;color:#fb4b04;font-family:Arial;font-size:12px;filter:brightness(100%);font:Arial 12px;'>Action/Crime/Drama</td></tr><tr><td style='text-align:left;background:white;padding-top:3px;padding-bottom:3px;padding-left:5px;padding-right:15px;color:#666;font-family:Arial;font-size:12px;filter:brightness(96%);font:Arial 12px;'>4</td><td style='text-align:left;background:white;padding-top:3px;padding-bottom:3px;padding-left:5px;padding-right:15px;color:#b40403;font-family:Arial;font-size:12px;filter:brightness(96%);font:Arial 12px;'>The Light Between Oceans</td><td style='text-align:left;background:white;padding-top:3px;padding-bottom:3px;padding-left:5px;padding-right:15px;color:#3b08d3;font-family:Arial;font-size:12px;filter:brightness(96%);font:Arial 12px;'>2016</td><td style='text-align:left;background:white;padding-top:3px;padding-bottom:3px;padding-left:5px;padding-right:15px;color:#3b08d3;font-family:Arial;font-size:12px;filter:brightness(96%);font:Arial 12px;'>7.2</td><td style='text-align:left;background:white;padding-top:3px;padding-bottom:3px;padding-left:5px;padding-right:15px;color:#3b08d3;num-format:prefix;font-family:Arial;font-size:12px;filter:brightness(96%);font:Arial 12px;'>57k</td><td style='text-align:left;background:white;padding-top:3px;padding-bottom:3px;padding-left:5px;padding-right:15px;color:#7a03fc;num-format:pct-1;font-family:Arial;font-size:12px;filter:brightness(96%);font:Arial 12px;'>0.7%</td><td style='text-align:left;background:white;padding-top:3px;padding-bottom:3px;padding-left:5px;padding-right:15px;color:#fb4b04;font-family:Arial;font-size:12px;filter:brightness(96%);font:Arial 12px;'>Drama/Romance</td></tr><tr><td style='text-align:left;background:white;padding-top:3px;padding-bottom:3px;padding-left:5px;padding-right:15px;color:#666;font-family:Arial;font-size:12px;filter:brightness(100%);border-bottom:1px solid #aaa;font:Arial 12px;'>5</td><td style='text-align:left;background:white;padding-top:3px;padding-bottom:3px;padding-left:5px;padding-right:15px;color:#b40403;font-family:Arial;font-size:12px;filter:brightness(100%);border-bottom:1px solid #aaa;font:Arial 12px;'>The Empire Strikes Back</td><td style='text-align:left;background:white;padding-top:3px;padding-bottom:3px;padding-left:5px;padding-right:15px;color:#3b08d3;font-family:Arial;font-size:12px;filter:brightness(100%);border-bottom:1px solid #aaa;font:Arial 12px;'>1980</td><td style='text-align:left;background:white;padding-top:3px;padding-bottom:3px;padding-left:5px;padding-right:15px;color:#3b08d3;font-family:Arial;font-size:12px;filter:brightness(100%);border-bottom:1px solid #aaa;font:Arial 12px;'>8.7</td><td style='text-align:left;background:white;padding-top:3px;padding-bottom:3px;padding-left:5px;padding-right:15px;color:#3b08d3;num-format:prefix;font-family:Arial;font-size:12px;filter:brightness(100%);border-bottom:1px solid #aaa;font:Arial 12px;'>1.3M</td><td style='text-align:left;background:white;padding-top:3px;padding-bottom:3px;padding-left:5px;padding-right:15px;color:#7a03fc;num-format:pct-1;font-family:Arial;font-size:12px;filter:brightness(100%);border-bottom:1px solid #aaa;font:Arial 12px;'>16.1%</td><td style='text-align:left;background:white;padding-top:3px;padding-bottom:3px;padding-left:5px;padding-right:15px;color:#fb4b04;font-family:Arial;font-size:12px;filter:brightness(100%);border-bottom:1px solid #aaa;font:Arial 12px;'>Action/Adventure/Fantasy</td></tr></table>"
      ],
      "text/plain": [
       "<IPython.core.display.HTML object>"
      ]
     },
     "metadata": {},
     "output_type": "display_data"
    },
    {
     "name": "stdout",
     "output_type": "stream",
     "text": [
      "Loading page (1/2)\n",
      "Rendering (2/2)                                                    \n",
      "Done                                                               \n"
     ]
    }
   ],
   "source": [
    "t = CustomizedTable([\"No\", \"Title\", \"Year\", \"Rating\", \"No ratings\", \"Part\", \"Genre\"], style={\"font\": \"Arial 12px\"})\n",
    "ratings = [2600000, 2600000, 1500000, 57000, 1300000]\n",
    "genres = [\"Drama\", \"Action/Crime/Drama\", \"Action/Crime/Drama\", \"Drama/Romance\", \"Action/Adventure/Fantasy\"]\n",
    "for i,r in enumerate(data):\n",
    "    t.add_row([i+1] + r + [ratings[i]] + [ratings[i]/sum(ratings)] + [genres[i]])\n",
    "t.column_style(\"Genre\", {\"color\": \"category\"})\n",
    "t.column_style(\"Part\", {\"color\": \"percent\", \"num-format\": \"pct-1\"})\n",
    "t.column_style([2,3], {\"color\": \"value\"})\n",
    "t.column_style(4, {\"color\": \"value\", \"num-format\": \"prefix\"})\n",
    "t.column_style(1, {\"color\": \"name\"})\n",
    "t.column_style(0, {\"color\": \"id\"})\n",
    "t.column_width(\"Title\",250)\n",
    "t.column_width(\"Genre\",250)\n",
    "t.display()\n",
    "t.to_csv(\"movies.csv\")\n",
    "t.to_excel(\"movies.xlsx\")\n",
    "t.to_image(\"movies.png\")"
   ]
  },
  {
   "cell_type": "markdown",
   "id": "d0f7669b-f2b9-4d00-8006-a36d261473cb",
   "metadata": {},
   "source": [
    "### Create table from csv file"
   ]
  },
  {
   "cell_type": "code",
   "execution_count": 15,
   "id": "53a25f28-34fd-4d14-b35a-d205dc734447",
   "metadata": {},
   "outputs": [
    {
     "data": {
      "text/html": [
       "<table><tr><td style='color:black;background:#ddd;padding-top:3px;padding-bottom:3px;padding-left:5px;padding-right:15px;font-family:Verdana;font-size:12px;font-weight:bold;border-top:1px solid #aaa;border-bottom:1px solid #aaa;font:Verdana 12px;text-align:left;'>No</td><td style='color:black;background:#ddd;padding-top:3px;padding-bottom:3px;padding-left:5px;padding-right:15px;font-family:Verdana;font-size:12px;font-weight:bold;border-top:1px solid #aaa;border-bottom:1px solid #aaa;font:Verdana 12px;text-align:left;'>Title</td><td style='color:black;background:#ddd;padding-top:3px;padding-bottom:3px;padding-left:5px;padding-right:15px;font-family:Verdana;font-size:12px;font-weight:bold;border-top:1px solid #aaa;border-bottom:1px solid #aaa;font:Verdana 12px;text-align:left;'>Year</td><td style='color:black;background:#ddd;padding-top:3px;padding-bottom:3px;padding-left:5px;padding-right:15px;font-family:Verdana;font-size:12px;font-weight:bold;border-top:1px solid #aaa;border-bottom:1px solid #aaa;font:Verdana 12px;text-align:left;'>Rating</td><td style='color:black;background:#ddd;padding-top:3px;padding-bottom:3px;padding-left:5px;padding-right:15px;font-family:Verdana;font-size:12px;font-weight:bold;border-top:1px solid #aaa;border-bottom:1px solid #aaa;font:Verdana 12px;text-align:left;'>No ratings</td><td style='color:black;background:#ddd;padding-top:3px;padding-bottom:3px;padding-left:5px;padding-right:15px;font-family:Verdana;font-size:12px;font-weight:bold;border-top:1px solid #aaa;border-bottom:1px solid #aaa;font:Verdana 12px;text-align:left;'>Part</td><td style='color:black;background:#ddd;padding-top:3px;padding-bottom:3px;padding-left:5px;padding-right:15px;font-family:Verdana;font-size:12px;font-weight:bold;border-top:1px solid #aaa;border-bottom:1px solid #aaa;font:Verdana 12px;text-align:left;'>Genre</td></tr><tr><td style='text-align:left;background:white;padding-top:3px;padding-bottom:3px;padding-left:5px;padding-right:15px;color:#666;font-family:Verdana;font-size:12px;filter:brightness(100%);font:Verdana 12px;'>1</td><td style='text-align:left;background:white;padding-top:3px;padding-bottom:3px;padding-left:5px;padding-right:15px;color:#b40403;font-family:Verdana;font-size:12px;filter:brightness(100%);font:Verdana 12px;'>The Shawshank Redemption</td><td style='text-align:left;background:white;padding-top:3px;padding-bottom:3px;padding-left:5px;padding-right:15px;color:#3b08d3;font-family:Verdana;font-size:12px;filter:brightness(100%);font:Verdana 12px;'>1994</td><td style='text-align:left;background:white;padding-top:3px;padding-bottom:3px;padding-left:5px;padding-right:15px;color:#3b08d3;font-family:Verdana;font-size:12px;filter:brightness(100%);font:Verdana 12px;'>9.3</td><td style='text-align:left;background:white;padding-top:3px;padding-bottom:3px;padding-left:5px;padding-right:15px;color:#3b08d3;num-format:prefix;font-family:Verdana;font-size:12px;filter:brightness(100%);font:Verdana 12px;'>2.6M</td><td style='text-align:left;background:white;padding-top:3px;padding-bottom:3px;padding-left:5px;padding-right:15px;color:#7a03fc;num-format:pct-1;font-family:Verdana;font-size:12px;filter:brightness(100%);font:Verdana 12px;'>32.3%</td><td style='text-align:left;background:white;padding-top:3px;padding-bottom:3px;padding-left:5px;padding-right:15px;color:#fb4b04;font-family:Verdana;font-size:12px;filter:brightness(100%);font:Verdana 12px;'>Drama</td></tr><tr><td style='text-align:left;background:white;padding-top:3px;padding-bottom:3px;padding-left:5px;padding-right:15px;color:#666;font-family:Verdana;font-size:12px;filter:brightness(96%);font:Verdana 12px;'>2</td><td style='text-align:left;background:white;padding-top:3px;padding-bottom:3px;padding-left:5px;padding-right:15px;color:#b40403;font-family:Verdana;font-size:12px;filter:brightness(96%);font:Verdana 12px;'>The Dark Knight</td><td style='text-align:left;background:white;padding-top:3px;padding-bottom:3px;padding-left:5px;padding-right:15px;color:#3b08d3;font-family:Verdana;font-size:12px;filter:brightness(96%);font:Verdana 12px;'>2008</td><td style='text-align:left;background:white;padding-top:3px;padding-bottom:3px;padding-left:5px;padding-right:15px;color:#3b08d3;font-family:Verdana;font-size:12px;filter:brightness(96%);font:Verdana 12px;'>9.0</td><td style='text-align:left;background:white;padding-top:3px;padding-bottom:3px;padding-left:5px;padding-right:15px;color:#3b08d3;num-format:prefix;font-family:Verdana;font-size:12px;filter:brightness(96%);font:Verdana 12px;'>2.6M</td><td style='text-align:left;background:white;padding-top:3px;padding-bottom:3px;padding-left:5px;padding-right:15px;color:#7a03fc;num-format:pct-1;font-family:Verdana;font-size:12px;filter:brightness(96%);font:Verdana 12px;'>32.3%</td><td style='text-align:left;background:white;padding-top:3px;padding-bottom:3px;padding-left:5px;padding-right:15px;color:#fb4b04;font-family:Verdana;font-size:12px;filter:brightness(96%);font:Verdana 12px;'>Action/Crime/Drama</td></tr><tr><td style='text-align:left;background:white;padding-top:3px;padding-bottom:3px;padding-left:5px;padding-right:15px;color:#666;font-family:Verdana;font-size:12px;filter:brightness(100%);font:Verdana 12px;'>3</td><td style='text-align:left;background:white;padding-top:3px;padding-bottom:3px;padding-left:5px;padding-right:15px;color:#b40403;font-family:Verdana;font-size:12px;filter:brightness(100%);font:Verdana 12px;'>Batman Begins</td><td style='text-align:left;background:white;padding-top:3px;padding-bottom:3px;padding-left:5px;padding-right:15px;color:#3b08d3;font-family:Verdana;font-size:12px;filter:brightness(100%);font:Verdana 12px;'>2005</td><td style='text-align:left;background:white;padding-top:3px;padding-bottom:3px;padding-left:5px;padding-right:15px;color:#3b08d3;font-family:Verdana;font-size:12px;filter:brightness(100%);font:Verdana 12px;'>8.2</td><td style='text-align:left;background:white;padding-top:3px;padding-bottom:3px;padding-left:5px;padding-right:15px;color:#3b08d3;num-format:prefix;font-family:Verdana;font-size:12px;filter:brightness(100%);font:Verdana 12px;'>1.5M</td><td style='text-align:left;background:white;padding-top:3px;padding-bottom:3px;padding-left:5px;padding-right:15px;color:#7a03fc;num-format:pct-1;font-family:Verdana;font-size:12px;filter:brightness(100%);font:Verdana 12px;'>18.6%</td><td style='text-align:left;background:white;padding-top:3px;padding-bottom:3px;padding-left:5px;padding-right:15px;color:#fb4b04;font-family:Verdana;font-size:12px;filter:brightness(100%);font:Verdana 12px;'>Action/Crime/Drama</td></tr><tr><td style='text-align:left;background:white;padding-top:3px;padding-bottom:3px;padding-left:5px;padding-right:15px;color:#666;font-family:Verdana;font-size:12px;filter:brightness(96%);font:Verdana 12px;'>4</td><td style='text-align:left;background:white;padding-top:3px;padding-bottom:3px;padding-left:5px;padding-right:15px;color:#b40403;font-family:Verdana;font-size:12px;filter:brightness(96%);font:Verdana 12px;'>The Light Between Oceans</td><td style='text-align:left;background:white;padding-top:3px;padding-bottom:3px;padding-left:5px;padding-right:15px;color:#3b08d3;font-family:Verdana;font-size:12px;filter:brightness(96%);font:Verdana 12px;'>2016</td><td style='text-align:left;background:white;padding-top:3px;padding-bottom:3px;padding-left:5px;padding-right:15px;color:#3b08d3;font-family:Verdana;font-size:12px;filter:brightness(96%);font:Verdana 12px;'>7.2</td><td style='text-align:left;background:white;padding-top:3px;padding-bottom:3px;padding-left:5px;padding-right:15px;color:#3b08d3;num-format:prefix;font-family:Verdana;font-size:12px;filter:brightness(96%);font:Verdana 12px;'>57k</td><td style='text-align:left;background:white;padding-top:3px;padding-bottom:3px;padding-left:5px;padding-right:15px;color:#7a03fc;num-format:pct-1;font-family:Verdana;font-size:12px;filter:brightness(96%);font:Verdana 12px;'>0.7%</td><td style='text-align:left;background:white;padding-top:3px;padding-bottom:3px;padding-left:5px;padding-right:15px;color:#fb4b04;font-family:Verdana;font-size:12px;filter:brightness(96%);font:Verdana 12px;'>Drama/Romance</td></tr><tr><td style='text-align:left;background:white;padding-top:3px;padding-bottom:3px;padding-left:5px;padding-right:15px;color:#666;font-family:Verdana;font-size:12px;filter:brightness(100%);border-bottom:1px solid #aaa;font:Verdana 12px;'>5</td><td style='text-align:left;background:white;padding-top:3px;padding-bottom:3px;padding-left:5px;padding-right:15px;color:#b40403;font-family:Verdana;font-size:12px;filter:brightness(100%);border-bottom:1px solid #aaa;font:Verdana 12px;'>The Empire Strikes Back</td><td style='text-align:left;background:white;padding-top:3px;padding-bottom:3px;padding-left:5px;padding-right:15px;color:#3b08d3;font-family:Verdana;font-size:12px;filter:brightness(100%);border-bottom:1px solid #aaa;font:Verdana 12px;'>1980</td><td style='text-align:left;background:white;padding-top:3px;padding-bottom:3px;padding-left:5px;padding-right:15px;color:#3b08d3;font-family:Verdana;font-size:12px;filter:brightness(100%);border-bottom:1px solid #aaa;font:Verdana 12px;'>8.7</td><td style='text-align:left;background:white;padding-top:3px;padding-bottom:3px;padding-left:5px;padding-right:15px;color:#3b08d3;num-format:prefix;font-family:Verdana;font-size:12px;filter:brightness(100%);border-bottom:1px solid #aaa;font:Verdana 12px;'>1.3M</td><td style='text-align:left;background:white;padding-top:3px;padding-bottom:3px;padding-left:5px;padding-right:15px;color:#7a03fc;num-format:pct-1;font-family:Verdana;font-size:12px;filter:brightness(100%);border-bottom:1px solid #aaa;font:Verdana 12px;'>16.1%</td><td style='text-align:left;background:white;padding-top:3px;padding-bottom:3px;padding-left:5px;padding-right:15px;color:#fb4b04;font-family:Verdana;font-size:12px;filter:brightness(100%);border-bottom:1px solid #aaa;font:Verdana 12px;'>Action/Adventure/Fantasy</td></tr></table>"
      ],
      "text/plain": [
       "<IPython.core.display.HTML object>"
      ]
     },
     "metadata": {},
     "output_type": "display_data"
    }
   ],
   "source": [
    "t = from_csv(\"movies.csv\")\n",
    "t.column_style(\"Genre\", {\"color\": \"category\"})\n",
    "t.column_style(\"Part\", {\"color\": \"percent\", \"num-format\": \"pct-1\"})\n",
    "t.column_style([2,3], {\"color\": \"value\"})\n",
    "t.column_style(4, {\"color\": \"value\", \"num-format\": \"prefix\"})\n",
    "t.column_style(1, {\"color\": \"name\"})\n",
    "t.column_style(0, {\"color\": \"id\"})\n",
    "t.display()"
   ]
  },
  {
   "cell_type": "markdown",
   "id": "5b9143b8-2a3e-4786-b8f6-611c97b315ee",
   "metadata": {},
   "source": [
    "### Number formatting and formatting cells with lists"
   ]
  },
  {
   "cell_type": "code",
   "execution_count": 16,
   "id": "8d11ee19-2da0-42c5-8902-b52955336a29",
   "metadata": {},
   "outputs": [
    {
     "data": {
      "text/html": [
       "<table><tr><td style='text-align:left;background:white;padding-top:3px;padding-bottom:3px;padding-left:5px;padding-right:15px;cell-format:list;color:#272;font-family:Verdana;font-size:12px;filter:brightness(100%);border-top:1px solid #aaa;font:Verdana 12px;'>The Shawshank Redemption, The Dark Knight, Batman Begins, The Light Between Oceans, The Empire Strikes Back</td></tr><tr><td style='text-align:left;background:white;padding-top:3px;padding-bottom:3px;padding-left:5px;padding-right:15px;cell-format:list;font-family:Verdana;font-size:12px;filter:brightness(96%);font:Verdana 12px;'>0.6394267984578837, 0.025010755222666936, 0.27502931836911926, 0.22321073814882275, 0.7364712141640124</td></tr><tr><td style='text-align:left;background:white;padding-top:3px;padding-bottom:3px;padding-left:5px;padding-right:15px;cell-format:list;num-format:dec-4;font-family:Verdana;font-size:12px;filter:brightness(100%);font:Verdana 12px;'>0.6394, 0.0250, 0.2750, 0.2232, 0.7365</td></tr><tr><td style='text-align:left;background:white;padding-top:3px;padding-bottom:3px;padding-left:5px;padding-right:15px;cell-format:list;num-format:dec-2;font-family:Verdana;font-size:12px;filter:brightness(96%);font:Verdana 12px;'>0.64, 0.03, 0.28, 0.22, 0.74</td></tr><tr><td style='text-align:left;background:white;padding-top:3px;padding-bottom:3px;padding-left:5px;padding-right:15px;cell-format:list: ;num-format:pct-2;font-family:Verdana;font-size:12px;filter:brightness(100%);font:Verdana 12px;'>63.94% 2.50% 27.50% 22.32% 73.65%</td></tr><tr><td style='text-align:left;background:white;padding-top:3px;padding-bottom:3px;padding-left:5px;padding-right:15px;cell-format:list:\n",
       ";num-format:pct-0;color:blue;font-family:Verdana;font-size:12px;filter:brightness(96%);font:Verdana 12px;'>64%<br>3%<br>28%<br>22%<br>74%</td></tr><tr><td style='text-align:left;background:white;padding-top:3px;padding-bottom:3px;padding-left:5px;padding-right:15px;cell-format:tag-text;font-family:Verdana;font-size:12px;filter:brightness(100%);border-bottom:1px solid #aaa;font:Verdana 12px;'>This is <span style='color:orange;'>a</span> <span style='color:red;font-style:italic;'>tagged</span> <span style='font-weight:bold;color:green;'>text</span> with<br/>line break</td></tr></table>"
      ],
      "text/plain": [
       "<IPython.core.display.HTML object>"
      ]
     },
     "metadata": {},
     "output_type": "display_data"
    }
   ],
   "source": [
    "# List of random floats\n",
    "from random import Random\n",
    "rnd = Random(42)\n",
    "numbers = [rnd.random() for x in range(0,5)]\n",
    "# Movie titles\n",
    "titles = [x[0] for x in data]\n",
    "\n",
    "t = CustomizedTable([\"\"], header=False)\n",
    "t.add_row([titles], style={\"cell-format\": \"list\", \"color\": \"#272\"})\n",
    "t.add_row([numbers], style={\"cell-format\": \"list\"})\n",
    "t.add_row([numbers], style={\"cell-format\": \"list\", \"num-format\": \"dec-4\"})\n",
    "t.add_row([numbers], style={\"cell-format\": \"list\", \"num-format\": \"dec-2\"})\n",
    "t.add_row([numbers], style={\"cell-format\": \"list: \", \"num-format\": \"pct-2\"})\n",
    "t.add_row([numbers], style={\"cell-format\": \"list:\\n\", \"num-format\": \"pct-0\", \"color\": \"blue\"})\n",
    "t.add_row([\"This is <orange>a</> <red italic>tagged</> <bold green>text</> with\\nline break\"], \n",
    "          style={\"cell-format\": \"tag-text\"})\n",
    "t.display()"
   ]
  },
  {
   "cell_type": "markdown",
   "id": "f68aa5f2-e9a3-4604-a912-128c30538c6d",
   "metadata": {},
   "source": [
    "### Generate a counts table from a list or dict"
   ]
  },
  {
   "cell_type": "code",
   "execution_count": 17,
   "id": "fb47a2ea-b862-4b01-9fda-8dc7118f8fbe",
   "metadata": {},
   "outputs": [
    {
     "data": {
      "text/html": [
       "<table><tr><td style='color:black;background:#ddd;padding-top:3px;padding-bottom:3px;padding-left:5px;padding-right:15px;font-family:Verdana;font-size:12px;font-weight:bold;border-top:1px solid #aaa;border-bottom:1px solid #aaa;font:Verdana 12px;text-align:left;'></td><td style='color:black;background:#ddd;padding-top:3px;padding-bottom:3px;padding-left:5px;padding-right:15px;font-family:Verdana;font-size:12px;font-weight:bold;border-top:1px solid #aaa;border-bottom:1px solid #aaa;font:Verdana 12px;text-align:left;'>No</td><td style='color:black;background:#ddd;padding-top:3px;padding-bottom:3px;padding-left:5px;padding-right:15px;font-family:Verdana;font-size:12px;font-weight:bold;border-top:1px solid #aaa;border-bottom:1px solid #aaa;font:Verdana 12px;text-align:left;'>Part</td></tr><tr><td style='text-align:left;background:white;padding-top:3px;padding-bottom:3px;padding-left:5px;padding-right:15px;font-family:Verdana;font-size:12px;filter:brightness(100%);font:Verdana 12px;'>Action/Adventure/Fantasy</td><td style='text-align:left;background:white;padding-top:3px;padding-bottom:3px;padding-left:5px;padding-right:15px;color:#3b08d3;font-family:Verdana;font-size:12px;filter:brightness(100%);font:Verdana 12px;'>1</td><td style='text-align:left;background:white;padding-top:3px;padding-bottom:3px;padding-left:5px;padding-right:15px;color:#7a03fc;num-format:pct-2;font-family:Verdana;font-size:12px;filter:brightness(100%);font:Verdana 12px;'>20.00%</td></tr><tr><td style='text-align:left;background:white;padding-top:3px;padding-bottom:3px;padding-left:5px;padding-right:15px;font-family:Verdana;font-size:12px;filter:brightness(96%);font:Verdana 12px;'>Action/Crime/Drama</td><td style='text-align:left;background:white;padding-top:3px;padding-bottom:3px;padding-left:5px;padding-right:15px;color:#3b08d3;font-family:Verdana;font-size:12px;filter:brightness(96%);font:Verdana 12px;'>2</td><td style='text-align:left;background:white;padding-top:3px;padding-bottom:3px;padding-left:5px;padding-right:15px;color:#7a03fc;num-format:pct-2;font-family:Verdana;font-size:12px;filter:brightness(96%);font:Verdana 12px;'>40.00%</td></tr><tr><td style='text-align:left;background:white;padding-top:3px;padding-bottom:3px;padding-left:5px;padding-right:15px;font-family:Verdana;font-size:12px;filter:brightness(100%);font:Verdana 12px;'>Drama</td><td style='text-align:left;background:white;padding-top:3px;padding-bottom:3px;padding-left:5px;padding-right:15px;color:#3b08d3;font-family:Verdana;font-size:12px;filter:brightness(100%);font:Verdana 12px;'>1</td><td style='text-align:left;background:white;padding-top:3px;padding-bottom:3px;padding-left:5px;padding-right:15px;color:#7a03fc;num-format:pct-2;font-family:Verdana;font-size:12px;filter:brightness(100%);font:Verdana 12px;'>20.00%</td></tr><tr><td style='text-align:left;background:white;padding-top:3px;padding-bottom:3px;padding-left:5px;padding-right:15px;font-family:Verdana;font-size:12px;border-bottom:1px solid #aaa;filter:brightness(96%);font:Verdana 12px;'>Drama/Romance</td><td style='text-align:left;background:white;padding-top:3px;padding-bottom:3px;padding-left:5px;padding-right:15px;color:#3b08d3;font-family:Verdana;font-size:12px;border-bottom:1px solid #aaa;filter:brightness(96%);font:Verdana 12px;'>1</td><td style='text-align:left;background:white;padding-top:3px;padding-bottom:3px;padding-left:5px;padding-right:15px;color:#7a03fc;num-format:pct-2;font-family:Verdana;font-size:12px;border-bottom:1px solid #aaa;filter:brightness(96%);font:Verdana 12px;'>20.00%</td></tr><tr><td style='text-align:left;background:#eee;padding-top:3px;padding-bottom:3px;padding-left:5px;padding-right:15px;row-toggle-background:0;font-family:Verdana;font-size:12px;border-bottom:1px solid #aaa;font:Verdana 12px;'>Total:</td><td style='text-align:left;background:#eee;padding-top:3px;padding-bottom:3px;padding-left:5px;padding-right:15px;color:#3b08d3;row-toggle-background:0;font-family:Verdana;font-size:12px;border-bottom:1px solid #aaa;font:Verdana 12px;'>5</td><td style='text-align:left;background:#eee;padding-top:3px;padding-bottom:3px;padding-left:5px;padding-right:15px;color:#7a03fc;num-format:pct-2;row-toggle-background:0;font-family:Verdana;font-size:12px;border-bottom:1px solid #aaa;font:Verdana 12px;'></td></tr></table>"
      ],
      "text/plain": [
       "<IPython.core.display.HTML object>"
      ]
     },
     "metadata": {},
     "output_type": "display_data"
    },
    {
     "name": "stdout",
     "output_type": "stream",
     "text": [
      "\n"
     ]
    },
    {
     "data": {
      "text/html": [
       "<table><tr><td style='color:black;background:#ddd;padding-top:3px;padding-bottom:3px;padding-left:5px;padding-right:15px;font-family:Arial;font-size:12px;font-weight:bold;border-top:1px solid #aaa;border-bottom:1px solid #aaa;font:Arial 12px;text-align:left;'>Genre</td><td style='color:black;background:#ddd;padding-top:3px;padding-bottom:3px;padding-left:5px;padding-right:15px;font-family:Arial;font-size:12px;font-weight:bold;border-top:1px solid #aaa;border-bottom:1px solid #aaa;font:Arial 12px;text-align:left;'>Antal</td><td style='color:black;background:#ddd;padding-top:3px;padding-bottom:3px;padding-left:5px;padding-right:15px;font-family:Arial;font-size:12px;font-weight:bold;border-top:1px solid #aaa;border-bottom:1px solid #aaa;font:Arial 12px;text-align:left;'>Andel</td></tr><tr><td style='text-align:left;background:white;padding-top:3px;padding-bottom:3px;padding-left:5px;padding-right:15px;font-family:Arial;font-size:12px;filter:brightness(100%);font:Arial 12px;'>Drama</td><td style='text-align:left;background:white;padding-top:3px;padding-bottom:3px;padding-left:5px;padding-right:15px;color:#3b08d3;font-family:Arial;font-size:12px;filter:brightness(100%);font:Arial 12px;'>12</td><td style='text-align:left;background:white;padding-top:3px;padding-bottom:3px;padding-left:5px;padding-right:15px;color:#7a03fc;num-format:pct-2;font-family:Arial;font-size:12px;filter:brightness(100%);font:Arial 12px;'>27.91%</td></tr><tr><td style='text-align:left;background:white;padding-top:3px;padding-bottom:3px;padding-left:5px;padding-right:15px;font-family:Arial;font-size:12px;filter:brightness(96%);font:Arial 12px;'>Fantasy</td><td style='text-align:left;background:white;padding-top:3px;padding-bottom:3px;padding-left:5px;padding-right:15px;color:#3b08d3;font-family:Arial;font-size:12px;filter:brightness(96%);font:Arial 12px;'>8</td><td style='text-align:left;background:white;padding-top:3px;padding-bottom:3px;padding-left:5px;padding-right:15px;color:#7a03fc;num-format:pct-2;font-family:Arial;font-size:12px;filter:brightness(96%);font:Arial 12px;'>18.60%</td></tr><tr><td style='text-align:left;background:white;padding-top:3px;padding-bottom:3px;padding-left:5px;padding-right:15px;font-family:Arial;font-size:12px;filter:brightness(100%);font:Arial 12px;'>Thriller</td><td style='text-align:left;background:white;padding-top:3px;padding-bottom:3px;padding-left:5px;padding-right:15px;color:#3b08d3;font-family:Arial;font-size:12px;filter:brightness(100%);font:Arial 12px;'>7</td><td style='text-align:left;background:white;padding-top:3px;padding-bottom:3px;padding-left:5px;padding-right:15px;color:#7a03fc;num-format:pct-2;font-family:Arial;font-size:12px;filter:brightness(100%);font:Arial 12px;'>16.28%</td></tr><tr><td style='text-align:left;background:white;padding-top:3px;padding-bottom:3px;padding-left:5px;padding-right:15px;font-family:Arial;font-size:12px;filter:brightness(96%);font:Arial 12px;'>Sci-Fi</td><td style='text-align:left;background:white;padding-top:3px;padding-bottom:3px;padding-left:5px;padding-right:15px;color:#3b08d3;font-family:Arial;font-size:12px;filter:brightness(96%);font:Arial 12px;'>6</td><td style='text-align:left;background:white;padding-top:3px;padding-bottom:3px;padding-left:5px;padding-right:15px;color:#7a03fc;num-format:pct-2;font-family:Arial;font-size:12px;filter:brightness(96%);font:Arial 12px;'>13.95%</td></tr><tr><td style='text-align:left;background:white;padding-top:3px;padding-bottom:3px;padding-left:5px;padding-right:15px;font-family:Arial;font-size:12px;filter:brightness(100%);font:Arial 12px;'>Crime</td><td style='text-align:left;background:white;padding-top:3px;padding-bottom:3px;padding-left:5px;padding-right:15px;color:#3b08d3;font-family:Arial;font-size:12px;filter:brightness(100%);font:Arial 12px;'>4</td><td style='text-align:left;background:white;padding-top:3px;padding-bottom:3px;padding-left:5px;padding-right:15px;color:#7a03fc;num-format:pct-2;font-family:Arial;font-size:12px;filter:brightness(100%);font:Arial 12px;'>9.30%</td></tr><tr><td style='text-align:left;background:white;padding-top:3px;padding-bottom:3px;padding-left:5px;padding-right:15px;color:#811;font-family:Arial;font-size:12px;border-bottom:1px solid #aaa;filter:brightness(96%);font:Arial 12px;'>Other:</td><td style='text-align:left;background:white;padding-top:3px;padding-bottom:3px;padding-left:5px;padding-right:15px;color:#933;font-family:Arial;font-size:12px;border-bottom:1px solid #aaa;filter:brightness(96%);font:Arial 12px;'>6</td><td style='text-align:left;background:white;padding-top:3px;padding-bottom:3px;padding-left:5px;padding-right:15px;color:#944;num-format:pct-2;font-family:Arial;font-size:12px;border-bottom:1px solid #aaa;filter:brightness(96%);font:Arial 12px;'>13.95%</td></tr><tr><td style='text-align:left;background:#eee;padding-top:3px;padding-bottom:3px;padding-left:5px;padding-right:15px;row-toggle-background:0;font-family:Arial;font-size:12px;font:Arial 12px;'>Total:</td><td style='text-align:left;background:#eee;padding-top:3px;padding-bottom:3px;padding-left:5px;padding-right:15px;color:#3b08d3;row-toggle-background:0;font-family:Arial;font-size:12px;font:Arial 12px;'>43</td><td style='text-align:left;background:#eee;padding-top:3px;padding-bottom:3px;padding-left:5px;padding-right:15px;color:#7a03fc;num-format:pct-2;row-toggle-background:0;font-family:Arial;font-size:12px;font:Arial 12px;'></td></tr><tr><td style='text-align:left;background:#eee;padding-top:3px;padding-bottom:3px;padding-left:5px;padding-right:15px;row-toggle-background:0;font-family:Arial;font-size:12px;border-bottom:1px solid #aaa;font:Arial 12px;'>Medel:</td><td style='text-align:left;background:#eee;padding-top:3px;padding-bottom:3px;padding-left:5px;padding-right:15px;color:#3b08d3;row-toggle-background:0;num-format:dec-2;font-family:Arial;font-size:12px;border-bottom:1px solid #aaa;font:Arial 12px;'>5.38</td><td style='text-align:left;background:#eee;padding-top:3px;padding-bottom:3px;padding-left:5px;padding-right:15px;color:#7a03fc;num-format:pct-2;row-toggle-background:0;font-family:Arial;font-size:12px;border-bottom:1px solid #aaa;font:Arial 12px;'></td></tr></table>"
      ],
      "text/plain": [
       "<IPython.core.display.HTML object>"
      ]
     },
     "metadata": {},
     "output_type": "display_data"
    }
   ],
   "source": [
    "t = generate_counts(genres, sort=\"key\")\n",
    "t.display()\n",
    "print()\n",
    "gnrs = {\"Action\": 3, \"Drama\": 12, \"Thriller\": 7, \"Crime\": 4, \"Fantasy\": 8, \"Comedy\": 1, \"Sci-Fi\": 6, \"History\": 2}\n",
    "t = generate_counts(gnrs, \n",
    "                    labels={\n",
    "                        \"title\": \"Genre\",\n",
    "                        \"no\": \"Antal\",\n",
    "                        \"part\": \"Andel\",\n",
    "                        \"mean\": \"Medel:\",\n",
    "                    }, \n",
    "                    sort=\"desc\", \n",
    "                    footer=[\"total\",\"mean\"],\n",
    "                    group=5,\n",
    "                    style={\"font\": \"Arial 12px\"}\n",
    "                   )\n",
    "t.display()"
   ]
  },
  {
   "cell_type": "markdown",
   "id": "7e3ca1c1-7f8c-4455-b5b5-5f03303c0eca",
   "metadata": {},
   "source": [
    "### Format cells with style rules"
   ]
  },
  {
   "cell_type": "code",
   "execution_count": 18,
   "id": "b637f042-b0ea-44bd-976c-f278d0fa7dd6",
   "metadata": {},
   "outputs": [
    {
     "data": {
      "text/html": [
       "<table><tr><td style='color:black;background:#eef;padding-top:3px;padding-bottom:3px;padding-left:5px;padding-right:15px;font-family:Verdana;font-size:12px;font-weight:bold;border-top:1px solid #aaa;border-bottom:1px solid #aaa;font:Verdana 12px;text-align:left;'>Title</td><td style='color:black;background:#eef;padding-top:3px;padding-bottom:3px;padding-left:5px;padding-right:15px;font-family:Verdana;font-size:12px;font-weight:bold;border-top:1px solid #aaa;border-bottom:1px solid #aaa;font:Verdana 12px;text-align:left;'>Year</td><td style='color:black;background:#eef;padding-top:3px;padding-bottom:3px;padding-left:5px;padding-right:15px;font-family:Verdana;font-size:12px;font-weight:bold;border-top:1px solid #aaa;border-bottom:1px solid #aaa;font:Verdana 12px;text-align:left;'>Rating</td></tr><tr><td style='text-align:left;background:white;padding-top:3px;padding-bottom:3px;padding-left:5px;padding-right:15px;font-family:Verdana;font-size:12px;filter:brightness(100%);color:green;font:Verdana 12px;'>The Shawshank Redemption</td><td style='text-align:left;background:white;padding-top:3px;padding-bottom:3px;padding-left:5px;padding-right:15px;font-family:Verdana;font-size:12px;filter:brightness(100%);font:Verdana 12px;'>1994</td><td style='text-align:left;background:white;padding-top:3px;padding-bottom:3px;padding-left:5px;padding-right:15px;font-family:Verdana;font-size:12px;filter:brightness(100%);font:Verdana 12px;'>9.3</td></tr><tr><td style='text-align:left;background:white;padding-top:3px;padding-bottom:3px;padding-left:5px;padding-right:15px;font-family:Verdana;font-size:12px;filter:brightness(96%);color:green;font:Verdana 12px;'>The Dark Knight</td><td style='text-align:left;background:white;padding-top:3px;padding-bottom:3px;padding-left:5px;padding-right:15px;font-family:Verdana;font-size:12px;filter:brightness(96%);font:Verdana 12px;'>2008</td><td style='text-align:left;background:white;padding-top:3px;padding-bottom:3px;padding-left:5px;padding-right:15px;font-family:Verdana;font-size:12px;filter:brightness(96%);font:Verdana 12px;'>9.0</td></tr><tr><td style='text-align:left;background:pink;padding-top:3px;padding-bottom:3px;padding-left:5px;padding-right:15px;font-family:Verdana;font-size:12px;filter:brightness(100%);font:Verdana 12px;'>Batman Begins</td><td style='text-align:left;background:pink;padding-top:3px;padding-bottom:3px;padding-left:5px;padding-right:15px;font-family:Verdana;font-size:12px;filter:brightness(100%);font:Verdana 12px;'>2005</td><td style='text-align:left;background:pink;padding-top:3px;padding-bottom:3px;padding-left:5px;padding-right:15px;font-family:Verdana;font-size:12px;filter:brightness(100%);font:Verdana 12px;'>8.2</td></tr><tr><td style='text-align:left;background:white;padding-top:3px;padding-bottom:3px;padding-left:5px;padding-right:15px;font-family:Verdana;font-size:12px;filter:brightness(96%);color:red;font:Verdana 12px;'>The Light Between Oceans</td><td style='text-align:left;background:white;padding-top:3px;padding-bottom:3px;padding-left:5px;padding-right:15px;font-family:Verdana;font-size:12px;filter:brightness(96%);font:Verdana 12px;'>2016</td><td style='text-align:left;background:white;padding-top:3px;padding-bottom:3px;padding-left:5px;padding-right:15px;font-family:Verdana;font-size:12px;filter:brightness(96%);font:Verdana 12px;'>7.2</td></tr><tr><td style='text-align:left;background:white;padding-top:3px;padding-bottom:3px;padding-left:5px;padding-right:15px;font-family:Verdana;font-size:12px;filter:brightness(100%);border-bottom:1px solid #aaa;font:Verdana 12px;'>The Empire Strikes Back</td><td style='text-align:left;background:white;padding-top:3px;padding-bottom:3px;padding-left:5px;padding-right:15px;font-family:Verdana;font-size:12px;filter:brightness(100%);border-bottom:1px solid #aaa;font:Verdana 12px;'>1980</td><td style='text-align:left;background:white;padding-top:3px;padding-bottom:3px;padding-left:5px;padding-right:15px;font-family:Verdana;font-size:12px;filter:brightness(100%);border-bottom:1px solid #aaa;font:Verdana 12px;'>8.7</td></tr></table>"
      ],
      "text/plain": [
       "<IPython.core.display.HTML object>"
      ]
     },
     "metadata": {},
     "output_type": "display_data"
    },
    {
     "name": "stdout",
     "output_type": "stream",
     "text": [
      "\n"
     ]
    },
    {
     "data": {
      "text/html": [
       "<table><tr><td style='color:black;background:#eef;padding-top:3px;padding-bottom:3px;padding-left:5px;padding-right:15px;font-family:Verdana;font-size:12px;font-weight:bold;border-top:1px solid #aaa;border-bottom:1px solid #aaa;font:Verdana 12px;text-align:left;'>Title</td><td style='color:black;background:#eef;padding-top:3px;padding-bottom:3px;padding-left:5px;padding-right:15px;font-family:Verdana;font-size:12px;font-weight:bold;border-top:1px solid #aaa;border-bottom:1px solid #aaa;font:Verdana 12px;text-align:left;'>Year</td><td style='color:black;background:#eef;padding-top:3px;padding-bottom:3px;padding-left:5px;padding-right:15px;font-family:Verdana;font-size:12px;font-weight:bold;border-top:1px solid #aaa;border-bottom:1px solid #aaa;font:Verdana 12px;text-align:left;'>Rating</td></tr><tr><td style='text-align:left;background:white;padding-top:3px;padding-bottom:3px;padding-left:5px;padding-right:15px;font-family:Verdana;font-size:12px;filter:brightness(100%);color:green;font:Verdana 12px;'>The Shawshank Redemption</td><td style='text-align:left;background:white;padding-top:3px;padding-bottom:3px;padding-left:5px;padding-right:15px;font-family:Verdana;font-size:12px;filter:brightness(100%);font:Verdana 12px;'>1994</td><td style='text-align:left;background:white;padding-top:3px;padding-bottom:3px;padding-left:5px;padding-right:15px;font-family:Verdana;font-size:12px;filter:brightness(100%);font:Verdana 12px;'>9.3</td></tr><tr><td style='text-align:left;background:white;padding-top:3px;padding-bottom:3px;padding-left:5px;padding-right:15px;font-family:Verdana;font-size:12px;filter:brightness(96%);color:green;font:Verdana 12px;'>The Dark Knight</td><td style='text-align:left;background:white;padding-top:3px;padding-bottom:3px;padding-left:5px;padding-right:15px;font-family:Verdana;font-size:12px;filter:brightness(96%);font:Verdana 12px;'>2008</td><td style='text-align:left;background:white;padding-top:3px;padding-bottom:3px;padding-left:5px;padding-right:15px;font-family:Verdana;font-size:12px;filter:brightness(96%);font:Verdana 12px;'>9.0</td></tr><tr><td style='text-align:left;background:white;padding-top:3px;padding-bottom:3px;padding-left:5px;padding-right:15px;font-family:Verdana;font-size:12px;filter:brightness(100%);font:Verdana 12px;'>The Empire Strikes Back</td><td style='text-align:left;background:white;padding-top:3px;padding-bottom:3px;padding-left:5px;padding-right:15px;font-family:Verdana;font-size:12px;filter:brightness(100%);font:Verdana 12px;'>1980</td><td style='text-align:left;background:white;padding-top:3px;padding-bottom:3px;padding-left:5px;padding-right:15px;font-family:Verdana;font-size:12px;filter:brightness(100%);font:Verdana 12px;'>8.7</td></tr><tr><td style='text-align:left;background:pink;padding-top:3px;padding-bottom:3px;padding-left:5px;padding-right:15px;font-family:Verdana;font-size:12px;filter:brightness(96%);font:Verdana 12px;'>Batman Begins</td><td style='text-align:left;background:pink;padding-top:3px;padding-bottom:3px;padding-left:5px;padding-right:15px;font-family:Verdana;font-size:12px;filter:brightness(96%);font:Verdana 12px;'>2005</td><td style='text-align:left;background:pink;padding-top:3px;padding-bottom:3px;padding-left:5px;padding-right:15px;font-family:Verdana;font-size:12px;filter:brightness(96%);font:Verdana 12px;'>8.2</td></tr><tr><td style='text-align:left;background:white;padding-top:3px;padding-bottom:3px;padding-left:5px;padding-right:15px;font-family:Verdana;font-size:12px;filter:brightness(100%);border-bottom:1px solid #aaa;color:red;font:Verdana 12px;'>The Light Between Oceans</td><td style='text-align:left;background:white;padding-top:3px;padding-bottom:3px;padding-left:5px;padding-right:15px;font-family:Verdana;font-size:12px;filter:brightness(100%);border-bottom:1px solid #aaa;font:Verdana 12px;'>2016</td><td style='text-align:left;background:white;padding-top:3px;padding-bottom:3px;padding-left:5px;padding-right:15px;font-family:Verdana;font-size:12px;filter:brightness(100%);border-bottom:1px solid #aaa;font:Verdana 12px;'>7.2</td></tr></table>"
      ],
      "text/plain": [
       "<IPython.core.display.HTML object>"
      ]
     },
     "metadata": {},
     "output_type": "display_data"
    }
   ],
   "source": [
    "t = CustomizedTable([\"Title\", \"Year\", \"Rating\"], \n",
    "                    subheader_style={\"background\": \"#eef\"}, \n",
    "                    header_style={\"background\": \"#eef\"})\n",
    "for r in data:\n",
    "    t.add_row(r)\n",
    "# If value in column 2 >= 9 then set style to column 0\n",
    "t.style_rule(2,\">=\",9,{\"color\": \"green\"},0)\n",
    "# If value in column 2 < 8 then set style to column 0\n",
    "t.style_rule(2,\"<\",8,{\"color\": \"red\"},0)\n",
    "# If value in column 0 equals 'Batman Begins' then set style to whole row\n",
    "t.style_rule(0,\"=\",\"Batman Begins\",{\"background\": \"pink\"})\n",
    "t.display()\n",
    "\n",
    "print()\n",
    "t.sort(col=2, reverse=True)\n",
    "t.display()"
   ]
  },
  {
   "cell_type": "code",
   "execution_count": null,
   "id": "7acbd113-0727-4ce5-a925-702ba1d0dbd8",
   "metadata": {},
   "outputs": [],
   "source": []
  }
 ],
 "metadata": {
  "kernelspec": {
   "display_name": "Python 3 (ipykernel)",
   "language": "python",
   "name": "python3"
  },
  "language_info": {
   "codemirror_mode": {
    "name": "ipython",
    "version": 3
   },
   "file_extension": ".py",
   "mimetype": "text/x-python",
   "name": "python",
   "nbconvert_exporter": "python",
   "pygments_lexer": "ipython3",
   "version": "3.11.0"
  }
 },
 "nbformat": 4,
 "nbformat_minor": 5
}
