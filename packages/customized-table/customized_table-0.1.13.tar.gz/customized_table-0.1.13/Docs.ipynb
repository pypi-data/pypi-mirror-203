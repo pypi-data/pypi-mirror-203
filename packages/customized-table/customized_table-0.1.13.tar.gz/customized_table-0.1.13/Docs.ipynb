{
 "cells": [
  {
   "cell_type": "code",
   "execution_count": 1,
   "id": "532f5660-db16-400e-874f-77400e2f124d",
   "metadata": {},
   "outputs": [
    {
     "name": "stdout",
     "output_type": "stream",
     "text": [
      "Version 0.1.13\n"
     ]
    }
   ],
   "source": [
    "import customized_table\n",
    "print(\"Version\", customized_table.__version__)\n",
    "from customized_table import *\n",
    "import numpy as np"
   ]
  },
  {
   "cell_type": "markdown",
   "id": "3d9bcd6c-5c55-499e-b30b-b33686b79776",
   "metadata": {},
   "source": [
    "## Cell and text formatting"
   ]
  },
  {
   "cell_type": "code",
   "execution_count": 2,
   "id": "b0b36ba1-7100-440f-8f9b-907ac6f2a4bb",
   "metadata": {},
   "outputs": [
    {
     "data": {
      "text/html": [
       "<table style='width=1110px; max-width:1110px; min-width:1110px; table-layout: fixed; word-wrap: break-word;'><tr><td style='color:black;background:#ddd;padding-top:3px;padding-bottom:3px;padding-left:5px;padding-right:15px;font-family:Verdana;font-size:12px;font-weight:bold;border-top:1px solid #aaa;border-bottom:1px solid #aaa;font:Verdana 12px;text-align:left;' width=220>Tag</td><td style='color:black;background:#ddd;padding-top:3px;padding-bottom:3px;padding-left:5px;padding-right:15px;font-family:Verdana;font-size:12px;font-weight:bold;border-top:1px solid #aaa;border-bottom:1px solid #aaa;font:Verdana 12px;text-align:left;'>Description</td></tr><tr><td style='text-align:left;background:white;padding-top:3px;padding-bottom:3px;padding-left:5px;padding-right:15px;font-family:Verdana;font-size:12px;font-weight:bold;filter:brightness(100%);font:Verdana 12px;'>color</td><td style='text-align:left;background:white;padding-top:3px;padding-bottom:3px;padding-left:5px;padding-right:15px;cell-format:list:\n",
       ";font-family:Verdana;font-size:12px;filter:brightness(100%);font:Verdana 12px;'>Sets text color (CSS color or named color):<br>&nbsp;<span style='color:#a44;font-style:italic;'>#a44</span><br>&nbsp;<span style='color:#f40bd9;font-style:italic;'>#f40bd9</span><br>&nbsp;<span style='color:red;font-style:italic;'>red</span><br>&nbsp;<span style='color:#3b08d3;font-style:italic;'>value</span></td></tr><tr><td style='text-align:left;background:white;padding-top:3px;padding-bottom:3px;padding-left:5px;padding-right:15px;font-family:Verdana;font-size:12px;font-weight:bold;filter:brightness(96%);font:Verdana 12px;'>font</td><td style='text-align:left;background:white;padding-top:3px;padding-bottom:3px;padding-left:5px;padding-right:15px;cell-format:list:\n",
       ";font-family:Courier;font-size:12px;filter:brightness(96%);font:Verdana 12px;'>List with font style settings <span style='color:#888;'>(bold, italic, normal, font size, font family)</span><br>For example <span style='font-weight:bold;'>'Courier 12px bold'</span></td></tr><tr><td style='text-align:left;background:white;padding-top:3px;padding-bottom:3px;padding-left:5px;padding-right:15px;font-family:Verdana;font-size:12px;font-weight:bold;filter:brightness(100%);font:Verdana 12px;'>background</td><td style='text-align:left;background:#eef;padding-top:3px;padding-bottom:3px;padding-left:5px;padding-right:15px;row-toggle-background:0;font-family:Verdana;font-size:12px;font:Verdana 12px;'>Same as color but sets backgrond color, for example <span style='font-style:italic;'>#eef</span></td></tr><tr><td style='text-align:left;background:white;padding-top:3px;padding-bottom:3px;padding-left:5px;padding-right:15px;font-family:Verdana;font-size:12px;font-weight:bold;filter:brightness(96%);font:Verdana 12px;'>border</td><td style='text-align:left;background:white;padding-top:3px;padding-bottom:3px;padding-left:5px;padding-right:15px;font-family:Verdana;font-size:12px;border-top:1px solid #aaa;border-bottom:1px solid #aaa;border-left:1px solid #aaa;border-right:1px solid #aaa;filter:brightness(96%);font:Verdana 12px;'>List of which borders to show <span style='color:#888;'>(top bottom left right)</span></td></tr><tr><td style='text-align:left;background:white;padding-top:3px;padding-bottom:3px;padding-left:5px;padding-right:15px;font-family:Verdana;font-size:12px;font-weight:bold;filter:brightness(100%);font:Verdana 12px;'>text-align</td><td style='text-align:center;background:white;padding-top:3px;padding-bottom:3px;padding-left:5px;padding-right:15px;font-family:Verdana;font-size:12px;filter:brightness(100%);font:Verdana 12px;'>Sets text alignment (CSS text alignment, for example <span style='font-style:italic;'>center</span>)</td></tr><tr><td style='text-align:left;background:white;padding-top:3px;padding-bottom:3px;padding-left:5px;padding-right:15px;font-family:Verdana;font-size:12px;font-weight:bold;filter:brightness(96%);font:Verdana 12px;'>row-toggle-background</td><td style='text-align:left;background:white;padding-top:3px;padding-bottom:3px;padding-left:5px;padding-right:15px;row-toggle-background:0;font-family:Verdana;font-size:12px;font:Verdana 12px;'>Disables alternating shading for a row or cell (set to 0)</td></tr><tr><td style='text-align:left;background:white;padding-top:3px;padding-bottom:3px;padding-left:5px;padding-right:15px;font-family:Verdana;font-size:12px;font-weight:bold;filter:brightness(100%);font:Verdana 12px;'>padding</td><td style='text-align:left;background:white;padding-top:10px;padding-bottom:10px;padding-left:3px;padding-right:3px;cell-format:list:\n",
       ";font-family:Verdana;font-size:12px;filter:brightness(100%);font:Verdana 12px;'>Sets padding (space between cell contents and border):<br>&nbsp;<span style='font-style:italic;color:#a44;'>2px 4px 5px 3px</span> sets padding top to <span style='color:blue;'>2px</span>, right to <span style='color:blue;'>4px</span>, bottom to <span style='color:blue;'>5px</span> and left to <span style='color:blue;'>3px</span><br>&nbsp;<span style='font-style:italic;color:#a44;'>2px 5px 3px</span> sets padding top to <span style='color:blue;'>2px</span>, right and left to <span style='color:blue;'>5px</span>, and bottom to <span style='color:blue;'>3px</span><br>&nbsp;<span style='font-style:italic;color:#a44;'>3px 5px</span> sets padding top and bottom to <span style='color:blue;'>3px</span>, and right and left to <span style='color:blue;'>5px</span><br>&nbsp;<span style='font-style:italic;color:#a44;'>8px</span> sets all four paddings to <span style='color:blue;'>8px</span></td></tr><tr><td style='text-align:left;background:white;padding-top:3px;padding-bottom:3px;padding-left:5px;padding-right:15px;font-family:Verdana;font-size:12px;font-weight:bold;filter:brightness(96%);font:Verdana 12px;'>num-format</td><td style='text-align:left;background:white;padding-top:3px;padding-bottom:3px;padding-left:5px;padding-right:15px;cell-format:list:\n",
       ";font-family:Verdana;font-size:12px;filter:brightness(96%);font:Verdana 12px;'>Number formatting:<br>&nbsp;<span style='font-style:italic;color:#a44;'>dec-#</span> formats values to # decimal digits, for example <span style='color:#3b08d3;'>3.14</span> is shown for <span style='color:#3b08d3;'>3.14159</span> using <span style='font-style:italic;color:#a44;'>dec-2</span><br>&nbsp;<span style='font-style:italic;color:#a44;'>int-#</span> formats values to # decimal digits or no digits if integer, for example <span style='color:#3b08d3;'>3.14</span> is shown for <span style='color:#3b08d3;'>3.14159</span> and <span style='color:#3b08d3;'>3</span> is shown for <span style='color:#3b08d3;'>3.0</span> using <span style='font-style:italic;color:#a44;'>int-2</span><br>&nbsp;<span style='font-style:italic;color:#a44;'>pct-#</span> formats values to percents with # decimal digits, for example <span style='color:#3b08d3;'>73.1%</span> is shown for <span style='color:#3b08d3;'>0.731</span> using <span style='font-style:italic;color:#a44;'>pct-1</span><br>&nbsp;<span style='font-style:italic;color:#a44;'>int</span> formats values to integers, for example <span style='color:#3b08d3;'>3</span> is shown for <span style='color:#3b08d3;'>3.14159</span> using <span style='font-style:italic;color:#a44;'>int</span><br>&nbsp;<span style='font-style:italic;color:#a44;'>prefix</span> formats values to use prefixes, for example <span style='color:#3b08d3;'>2.5M</span> is shown for <span style='color:#3b08d3;'>2500000</span> using <span style='font-style:italic;color:#a44;'>prefix</span><br>&nbsp;<span style='font-style:italic;color:#a44;'>prefix-#</span> formats values to use prefixes with # decimal digits, for example <span style='color:#3b08d3;'>2.5M</span> is shown for <span style='color:#3b08d3;'>2513000</span> using <span style='font-style:italic;color:#a44;'>prefix-1</span></td></tr><tr><td style='text-align:left;background:white;padding-top:3px;padding-bottom:3px;padding-left:5px;padding-right:15px;font-family:Verdana;font-size:12px;font-weight:bold;filter:brightness(100%);border-bottom:1px solid #aaa;font:Verdana 12px;'>cell-format</td><td style='text-align:left;background:white;padding-top:3px;padding-bottom:3px;padding-left:5px;padding-right:15px;cell-format:list:\n",
       ";font-family:Verdana;font-size:12px;filter:brightness(100%);border-bottom:1px solid #aaa;font:Verdana 12px;'>Cell contents formatting:<br>&nbsp;<span style='font-style:italic;color:#a44;'>list</span> shows a Python list as a string, for example <span style='color:#3b08d3;'>Batman, Robin</span> is shown for <span style='color:#3b08d3;'>['Batman', 'Robin']</span> using <span style='font-style:italic;color:#a44;'>list</span><br>&nbsp;<span style='font-style:italic;color:#a44;'>list:#</span> shows a list using custom delimiter, for example <span style='color:#3b08d3;'>Batman & Robin</span> is shown for <span style='color:#3b08d3;'>['Batman', 'Robin']</span> using <span style='font-style:italic;color:#a44;'>list:&</span><br>&nbsp;<span style='font-style:italic;color:#a44;'>tag-text</span> handles tagged text strings (see <span style='font-style:italic;color:#272;'>tag_text</span> function)</td></tr></table>"
      ],
      "text/plain": [
       "<IPython.core.display.HTML object>"
      ]
     },
     "metadata": {},
     "output_type": "display_data"
    }
   ],
   "source": [
    "docs_formatting()"
   ]
  },
  {
   "cell_type": "markdown",
   "id": "e99f511e-7eda-47a2-baf9-6288538b6c80",
   "metadata": {},
   "source": [
    "## CustomizedTable class"
   ]
  },
  {
   "cell_type": "code",
   "execution_count": 3,
   "id": "c58fbfa6-1af0-4cb4-8a8f-857e1b7d0a4b",
   "metadata": {},
   "outputs": [
    {
     "data": {
      "text/html": [
       "<table style='width=1110px; max-width:1110px; min-width:1110px; table-layout: fixed; word-wrap: break-word;'><tr><td style='color:black;background:#ddd;padding-top:3px;padding-bottom:3px;padding-left:5px;padding-right:15px;font-family:Verdana;font-size:12px;font-weight:bold;border-top:1px solid #aaa;border-bottom:1px solid #aaa;font:Verdana 12px;text-align:left;' width=220>Functions (CustomizedTable)</td><td style='color:black;background:#ddd;padding-top:3px;padding-bottom:3px;padding-left:5px;padding-right:15px;font-family:Verdana;font-size:12px;font-weight:bold;border-top:1px solid #aaa;border-bottom:1px solid #aaa;font:Verdana 12px;text-align:left;'>Description</td></tr><tr><td style='text-align:left;background:white;padding-top:3px;padding-bottom:3px;padding-left:5px;padding-right:15px;color:#272;font-family:Verdana;font-size:12px;font-weight:bold;filter:brightness(100%);font:Verdana 12px;'>CustomizedTable (constructor)</td><td style='text-align:left;background:white;padding-top:3px;padding-bottom:3px;padding-left:5px;padding-right:15px;cell-format:list:\n",
       ";font-family:Verdana;font-size:12px;filter:brightness(100%);font:Verdana 12px;'>Creates a new table.<br>Params:<br>&nbsp;<span style='color:#a44;font-style:italic;'>cols</span> The table column names. <span style='color:#888;'>(list of strings)</span><br>&nbsp;<span style='color:#a44;font-style:italic;'>style</span> Changes default formatting. <span style='color:#888;'>(dict)</span><br>&nbsp;<span style='color:#a44;font-style:italic;'>header_style</span> Changes default formatting for the header. <span style='color:#888;'>(dict)</span><br>&nbsp;<span style='color:#a44;font-style:italic;'>subheader_style</span> Changes default formatting for subheaders. <span style='color:#888;'>(dict)</span><br>&nbsp;<span style='color:#a44;font-style:italic;'>width</span> Sets table width. If not set, auto size is used. <span style='color:#888;'>(int or None)</span><br>&nbsp;<span style='color:#a44;font-style:italic;'>header</span> Show or hide header, default is show. <span style='color:#888;'>(True or False)</span><br>&nbsp;<span style='color:#a44;font-style:italic;'>max_rows</span> Set max rows to show. <span style='color:#888;'>(int or None)</span><br>&nbsp;<span style='color:#a44;font-style:italic;'>monospace</span> Use standard or monospace default font. <span style='color:#888;'>(True or False)</span></td></tr><tr><td style='text-align:left;background:white;padding-top:3px;padding-bottom:3px;padding-left:5px;padding-right:15px;color:#272;font-family:Verdana;font-size:12px;font-weight:bold;filter:brightness(96%);font:Verdana 12px;'>add_row</td><td style='text-align:left;background:white;padding-top:3px;padding-bottom:3px;padding-left:5px;padding-right:15px;cell-format:list:\n",
       ";font-family:Verdana;font-size:12px;filter:brightness(96%);font:Verdana 12px;'>Adds a row to the table.<br>Params:<br>&nbsp;<span style='color:#a44;font-style:italic;'>row</span> The row to add. <span style='color:#888;'>(list of same size as columns)</span><br>&nbsp;<span style='color:#a44;font-style:italic;'>style</span> Style for the row (tags + values). <span style='color:#888;'>(dict, optional)</span></td></tr><tr><td style='text-align:left;background:white;padding-top:3px;padding-bottom:3px;padding-left:5px;padding-right:15px;color:#272;font-family:Verdana;font-size:12px;font-weight:bold;filter:brightness(100%);font:Verdana 12px;'>add_colspanrow</td><td style='text-align:left;background:white;padding-top:3px;padding-bottom:3px;padding-left:5px;padding-right:15px;cell-format:list:\n",
       ";font-family:Verdana;font-size:12px;filter:brightness(100%);font:Verdana 12px;'>Adds a row spanning over multiple columns to the table.<br>Params:<br>&nbsp;<span style='color:#a44;font-style:italic;'>row</span> The row to add. <span style='color:#888;'>(list of same size as columns)</span><br>&nbsp;&nbsp;&nbsp;&nbsp;&nbsp;A cell spanning over multiple rows is specified as a list, for example <span style='font-style:italic;'>row</span> = <span style='color:#3b08d3;'>[['Span 2 cols',2],'Col 3']</span><br>&nbsp;<span style='color:#a44;font-style:italic;'>style</span> Style for the row (tags + values). <span style='color:#888;'>(dict, optional)</span></td></tr><tr><td style='text-align:left;background:white;padding-top:3px;padding-bottom:3px;padding-left:5px;padding-right:15px;color:#272;font-family:Verdana;font-size:12px;font-weight:bold;filter:brightness(96%);font:Verdana 12px;'>no_rows</td><td style='text-align:left;background:white;padding-top:3px;padding-bottom:3px;padding-left:5px;padding-right:15px;cell-format:list:\n",
       ";font-family:Verdana;font-size:12px;filter:brightness(96%);font:Verdana 12px;'>Returns the number of rows in the table.</td></tr><tr><td style='text-align:left;background:white;padding-top:3px;padding-bottom:3px;padding-left:5px;padding-right:15px;color:#272;font-family:Verdana;font-size:12px;font-weight:bold;filter:brightness(100%);font:Verdana 12px;'>column_width</td><td style='text-align:left;background:white;padding-top:3px;padding-bottom:3px;padding-left:5px;padding-right:15px;cell-format:list:\n",
       ";font-family:Verdana;font-size:12px;filter:brightness(100%);font:Verdana 12px;'>Sets width for one or more columns.<br>Params:<br>&nbsp;<span style='color:#a44;font-style:italic;'>cols</span> Columns to set width for. <span style='color:#888;'>(column name or index, or list of column names or indexes)</span><br>&nbsp;<span style='color:#a44;font-style:italic;'>width</span> Width of columns. <span style='color:#888;'>(int)</span></td></tr><tr><td style='text-align:left;background:white;padding-top:3px;padding-bottom:3px;padding-left:5px;padding-right:15px;color:#272;font-family:Verdana;font-size:12px;font-weight:bold;filter:brightness(96%);font:Verdana 12px;'>column_style</td><td style='text-align:left;background:white;padding-top:3px;padding-bottom:3px;padding-left:5px;padding-right:15px;cell-format:list:\n",
       ";font-family:Verdana;font-size:12px;filter:brightness(96%);font:Verdana 12px;'>Sets style for formatting one or more columns.<br>Params:<br>&nbsp;<span style='color:#a44;font-style:italic;'>cols</span> Columns to set style for. <span style='color:#888;'>(column name or index, or list of column names or indexes)</span><br>&nbsp;<span style='color:#a44;font-style:italic;'>style</span> Style (tags + values). <span style='color:#888;'>(dict)</span></td></tr><tr><td style='text-align:left;background:white;padding-top:3px;padding-bottom:3px;padding-left:5px;padding-right:15px;color:#272;font-family:Verdana;font-size:12px;font-weight:bold;filter:brightness(100%);font:Verdana 12px;'>row_style</td><td style='text-align:left;background:white;padding-top:3px;padding-bottom:3px;padding-left:5px;padding-right:15px;cell-format:list:\n",
       ";font-family:Verdana;font-size:12px;filter:brightness(100%);font:Verdana 12px;'>Sets style for formatting one or more rows.<br>Params:<br>&nbsp;<span style='color:#a44;font-style:italic;'>rows</span> Rows to set style for. <span style='color:#888;'>(row number or -1 for last row, or list of row numbers)</span><br>&nbsp;<span style='color:#a44;font-style:italic;'>style</span> Style (tags + values). <span style='color:#888;'>(dict)</span></td></tr><tr><td style='text-align:left;background:white;padding-top:3px;padding-bottom:3px;padding-left:5px;padding-right:15px;color:#272;font-family:Verdana;font-size:12px;font-weight:bold;filter:brightness(96%);font:Verdana 12px;'>cell_style</td><td style='text-align:left;background:white;padding-top:3px;padding-bottom:3px;padding-left:5px;padding-right:15px;cell-format:list:\n",
       ";font-family:Verdana;font-size:12px;filter:brightness(96%);font:Verdana 12px;'>Sets style for formatting one or more cells.<br>Params:<br>&nbsp;<span style='color:#a44;font-style:italic;'>cols</span> Columns to set style for. <span style='color:#888;'>(column name or index, or list of column names or indexes)</span><br>&nbsp;<span style='color:#a44;font-style:italic;'>rows</span> Rows to set style for. <span style='color:#888;'>(row number or -1 for last row, or list of row numbers)</span><br>&nbsp;<span style='color:#a44;font-style:italic;'>style</span> Style (tags + values). <span style='color:#888;'>(dict)</span></td></tr><tr><td style='text-align:left;background:white;padding-top:3px;padding-bottom:3px;padding-left:5px;padding-right:15px;color:#272;font-family:Verdana;font-size:12px;font-weight:bold;filter:brightness(100%);font:Verdana 12px;'>style_rule</td><td style='text-align:left;background:white;padding-top:3px;padding-bottom:3px;padding-left:5px;padding-right:15px;cell-format:list:\n",
       ";font-family:Verdana;font-size:12px;filter:brightness(100%);font:Verdana 12px;'>Sets style to row or cell based on comparisons.<br>Params:<br>&nbsp;<span style='color:#a44;font-style:italic;'>col</span> Column to compare value for. <span style='color:#888;'>(column name or index)</span><br>&nbsp;<span style='color:#a44;font-style:italic;'>comp</span> Comparison identifier. <span style='color:#888;'>('&gt;','&gt;=','&lt;','&lt;=','=')</span><br>&nbsp;<span style='color:#a44;font-style:italic;'>val</span> Value to compare with. <span style='color:#888;'>(int,float,str)</span><br>&nbsp;<span style='color:#a44;font-style:italic;'>style</span> Style (tags + values). <span style='color:#888;'>(dict)</span><br>&nbsp;<span style='color:#a44;font-style:italic;'>cidx</span> Cell column index to set style for, or None for whole row. <span style='color:#888;'>(column name or index, or None)</span></td></tr><tr><td style='text-align:left;background:white;padding-top:3px;padding-bottom:3px;padding-left:5px;padding-right:15px;color:#272;font-family:Verdana;font-size:12px;font-weight:bold;filter:brightness(96%);font:Verdana 12px;'>sort</td><td style='text-align:left;background:white;padding-top:3px;padding-bottom:3px;padding-left:5px;padding-right:15px;cell-format:list:\n",
       ";font-family:Verdana;font-size:12px;filter:brightness(96%);font:Verdana 12px;'>Sorts the table on a specified column.<br>Params:<br>&nbsp;<span style='color:#a44;font-style:italic;'>col</span> Column to to sort on. <span style='color:#888;'>(column name or index)</span><br>&nbsp;<span style='color:#a44;font-style:italic;'>reverse</span> Sort reversed or not (default is not). <span style='color:#888;'>(True or False)</span><br>&nbsp;<span style='color:#a44;font-style:italic;'>lock</span> Rows from the specified index are locked/not sorted. <span style='color:#888;'>(None or index)</span></td></tr><tr><td style='text-align:left;background:white;padding-top:3px;padding-bottom:3px;padding-left:5px;padding-right:15px;color:#272;font-family:Verdana;font-size:12px;font-weight:bold;filter:brightness(100%);font:Verdana 12px;'>update_cell</td><td style='text-align:left;background:white;padding-top:3px;padding-bottom:3px;padding-left:5px;padding-right:15px;cell-format:list:\n",
       ";font-family:Verdana;font-size:12px;filter:brightness(100%);font:Verdana 12px;'>Updates the content in a cell.<br>Params:<br>&nbsp;<span style='color:#a44;font-style:italic;'>col</span> Column of the cell. <span style='color:#888;'>(column name or index)</span><br>&nbsp;<span style='color:#a44;font-style:italic;'>row</span> Row of the cell. <span style='color:#888;'>(row number or -1 for last row)</span><br>&nbsp;<span style='color:#a44;font-style:italic;'>val</span> New cell contents.</td></tr><tr><td style='text-align:left;background:white;padding-top:3px;padding-bottom:3px;padding-left:5px;padding-right:15px;color:#272;font-family:Verdana;font-size:12px;font-weight:bold;filter:brightness(96%);font:Verdana 12px;'>display</td><td style='text-align:left;background:white;padding-top:3px;padding-bottom:3px;padding-left:5px;padding-right:15px;cell-format:list:\n",
       ";font-family:Verdana;font-size:12px;filter:brightness(96%);font:Verdana 12px;'>Displays the table.</td></tr><tr><td style='text-align:left;background:white;padding-top:3px;padding-bottom:3px;padding-left:5px;padding-right:15px;color:#272;font-family:Verdana;font-size:12px;font-weight:bold;filter:brightness(100%);font:Verdana 12px;'>to_csv</td><td style='text-align:left;background:white;padding-top:3px;padding-bottom:3px;padding-left:5px;padding-right:15px;cell-format:list:\n",
       ";font-family:Verdana;font-size:12px;filter:brightness(100%);font:Verdana 12px;'>Saves the table to a <span style='font-style:italic;'>csv</span> file.<br>Params:<br>&nbsp;<span style='color:#a44;font-style:italic;'>file</span> File name and path for the file. <span style='color:#888;'>(string)</span></td></tr><tr><td style='text-align:left;background:white;padding-top:3px;padding-bottom:3px;padding-left:5px;padding-right:15px;color:#272;font-family:Verdana;font-size:12px;font-weight:bold;filter:brightness(96%);font:Verdana 12px;'>to_excel</td><td style='text-align:left;background:white;padding-top:3px;padding-bottom:3px;padding-left:5px;padding-right:15px;font-family:Verdana;font-size:12px;filter:brightness(96%);font:Verdana 12px;' colspan=Params:>Saves the table to an <span style='font-style:italic;'>Excel</span> file.</td></tr><tr><td style='text-align:left;background:white;padding-top:3px;padding-bottom:3px;padding-left:5px;padding-right:15px;color:#272;font-family:Verdana;font-size:12px;font-weight:bold;filter:brightness(100%);border-bottom:1px solid #aaa;font:Verdana 12px;'>to_image</td><td style='text-align:left;background:white;padding-top:3px;padding-bottom:3px;padding-left:5px;padding-right:15px;cell-format:list:\n",
       ";font-family:Verdana;font-size:12px;filter:brightness(100%);border-bottom:1px solid #aaa;font:Verdana 12px;'>Saves the table to a <span style='font-style:italic;'>png</span> image.<br>Params:<br>&nbsp;<span style='color:#a44;font-style:italic;'>file</span> File name and path for the file. <span style='color:#888;'>(string)</span></td></tr></table>"
      ],
      "text/plain": [
       "<IPython.core.display.HTML object>"
      ]
     },
     "metadata": {},
     "output_type": "display_data"
    }
   ],
   "source": [
    "docs_customizedtable()"
   ]
  },
  {
   "cell_type": "markdown",
   "id": "bc1878d5-52e4-4ace-9afc-a5dcd7c8222c",
   "metadata": {},
   "source": [
    "## General functions"
   ]
  },
  {
   "cell_type": "code",
   "execution_count": 4,
   "id": "4127290c-b323-4d26-a2ef-fa9388d87499",
   "metadata": {},
   "outputs": [
    {
     "data": {
      "text/html": [
       "<table style='width=1110px; max-width:1110px; min-width:1110px; table-layout: fixed; word-wrap: break-word;'><tr><td style='color:black;background:#ddd;padding-top:3px;padding-bottom:3px;padding-left:5px;padding-right:15px;font-family:Verdana;font-size:12px;font-weight:bold;border-top:1px solid #aaa;border-bottom:1px solid #aaa;font:Verdana 12px;text-align:left;' width=220>Functions (general)</td><td style='color:black;background:#ddd;padding-top:3px;padding-bottom:3px;padding-left:5px;padding-right:15px;font-family:Verdana;font-size:12px;font-weight:bold;border-top:1px solid #aaa;border-bottom:1px solid #aaa;font:Verdana 12px;text-align:left;'>Description</td></tr><tr><td style='text-align:left;background:white;padding-top:3px;padding-bottom:3px;padding-left:5px;padding-right:15px;color:#272;font-family:Verdana;font-size:12px;font-weight:bold;filter:brightness(100%);font:Verdana 12px;'>tag_text</td><td style='text-align:left;background:white;padding-top:3px;padding-bottom:3px;padding-left:5px;padding-right:15px;cell-format:list:\n",
       ";font-family:Verdana;font-size:12px;filter:brightness(100%);font:Verdana 12px;'>Handles tagged text strings. Tagged text strings can contain tags for text color and style.<br>Params:<br>&nbsp;<span style='color:#a44;font-style:italic;'>txt</span> Tagged text string. <span style='color:#888;'>(string)</span><br>Examples:<br>&nbsp;<span style='color:#a44;'>&lt;bold&gt;bold&lt;/&gt;</span> shows a <span style='font-weight:bold;'>bold</span> text.<br>&nbsp;<span style='color:#a44;'>&lt;italic&gt;titalic&lt;/&gt;</span> shows an <span style='font-style:italic;'>italic</span> text.<br>&nbsp;<span style='color:#a44;'>&lt;blue&gt;blue&lt;/&gt;</span> shows a <span style='color:blue;'>blue</span> text.<br>&nbsp;<span style='color:#a44;'>&lt;blue bold&gt;blue and bold&lt;/&gt;</span> shows a <span style='color:blue;font-weight:bold;'>blue and bold</span> text.<br>&nbsp;<span style='color:#a44;'>&lt;red italic&gt;red and italic&lt;/&gt;</span> shows a <span style='color:red;font-style:italic;'>red and italic</span> text.<br>&nbsp;<span style='color:#a44;'>&lt;#f708b1&gt;pink&lt;/&gt;</span> shows a <span style='color:#f708b1;'>pink</span> text.</td></tr><tr><td style='text-align:left;background:white;padding-top:3px;padding-bottom:3px;padding-left:5px;padding-right:15px;color:#272;font-family:Verdana;font-size:12px;font-weight:bold;filter:brightness(96%);font:Verdana 12px;'>from_csv</td><td style='text-align:left;background:white;padding-top:3px;padding-bottom:3px;padding-left:5px;padding-right:15px;cell-format:list:\n",
       ";font-family:Verdana;font-size:12px;filter:brightness(96%);font:Verdana 12px;'>Creates a table from a <span style='font-style:italic;'>csv</span> file.<br>Params:<br>&nbsp;<span style='color:#a44;font-style:italic;'>file</span> File name and path for the file. <span style='color:#888;'>(string)</span></td></tr><tr><td style='text-align:left;background:white;padding-top:3px;padding-bottom:3px;padding-left:5px;padding-right:15px;color:#272;font-family:Verdana;font-size:12px;font-weight:bold;filter:brightness(100%);border-bottom:1px solid #aaa;font:Verdana 12px;'>generate_counts</td><td style='text-align:left;background:white;padding-top:3px;padding-bottom:3px;padding-left:5px;padding-right:15px;cell-format:list:\n",
       ";font-family:Verdana;font-size:12px;filter:brightness(100%);border-bottom:1px solid #aaa;font:Verdana 12px;'>Generates a counts table (number of occurences for each item) from a list or dict.<br>Params:<br>&nbsp;<span style='color:#a44;font-style:italic;'>data</span> Data to generate counts from. <span style='color:#888;'>(list or dict)</span><br>&nbsp;<span style='color:#a44;font-style:italic;'>cidx</span> Column to generate counts from, if data is list of lists. <span style='color:#888;'>(column index, optional)</span><br>&nbsp;<span style='color:#a44;font-style:italic;'>labels</span> Set labels for the counts table (title,no,part,total,mean). <span style='color:#888;'>(dict, optional)</span><br>&nbsp;<span style='color:#a44;font-style:italic;'>sort</span> How to sort the counts table. <span style='color:#888;'>(None for no sorting, or 'key', 'asc', 'desc')</span><br>&nbsp;<span style='color:#a44;font-style:italic;'>footer</span> What to show in the footer. <span style='color:#888;'>(list ('total','mean') or None)</span><br>&nbsp;<span style='color:#a44;font-style:italic;'>group</span> Group all entries after the specified row to make the table more compact. <span style='color:#888;'>(row index, optional)</span><br>&nbsp;<span style='color:#a44;font-style:italic;'>style</span> Changes default formatting. <span style='color:#888;'>(dict, optional)</span></td></tr></table>"
      ],
      "text/plain": [
       "<IPython.core.display.HTML object>"
      ]
     },
     "metadata": {},
     "output_type": "display_data"
    }
   ],
   "source": [
    "docs_general()"
   ]
  },
  {
   "cell_type": "code",
   "execution_count": null,
   "id": "60d68e40-5ea2-4d1a-a2e5-06967f24db55",
   "metadata": {},
   "outputs": [],
   "source": []
  }
 ],
 "metadata": {
  "kernelspec": {
   "display_name": "Python 3 (ipykernel)",
   "language": "python",
   "name": "python3"
  },
  "language_info": {
   "codemirror_mode": {
    "name": "ipython",
    "version": 3
   },
   "file_extension": ".py",
   "mimetype": "text/x-python",
   "name": "python",
   "nbconvert_exporter": "python",
   "pygments_lexer": "ipython3",
   "version": "3.11.0"
  }
 },
 "nbformat": 4,
 "nbformat_minor": 5
}
