{
 "cells": [
  {
   "cell_type": "code",
   "execution_count": 1,
   "id": "8a7e200a-f153-4536-8f88-9c268af6b847",
   "metadata": {},
   "outputs": [],
   "source": [
    "import pandas as pd\n",
    "import numpy as np\n",
    "from scalecast.MVForecaster import MVForecaster\n",
    "from scalecast.SeriesTransformer import SeriesTransformer\n",
    "from scalecast import GridGenerator\n",
    "from test_MVForecaster import build_MVForecaster"
   ]
  },
  {
   "cell_type": "code",
   "execution_count": 2,
   "id": "602bbec6-9fd9-42fe-b00b-76360fe06c34",
   "metadata": {},
   "outputs": [
    {
     "data": {
      "text/plain": [
       "MVForecaster(\n",
       "    DateStartActuals=2000-01-01T00:00:00.000000000\n",
       "    DateEndActuals=2022-10-01T00:00:00.000000000\n",
       "    Freq=MS\n",
       "    N_actuals=274\n",
       "    N_series=3\n",
       "    SeriesNames=['UTUR', 'UNRATE', 'SAHMREALTIME']\n",
       "    ForecastLength=24\n",
       "    Xvars=[]\n",
       "    TestLength=24\n",
       "    ValidationLength=1\n",
       "    ValidationMetric=rmse\n",
       "    ForecastsEvaluated=[]\n",
       "    CILevel=None\n",
       "    CurrentEstimator=mlr\n",
       "    OptimizeOn=mean\n",
       "    GridsFile=MVGrids\n",
       ")"
      ]
     },
     "execution_count": 2,
     "metadata": {},
     "output_type": "execute_result"
    }
   ],
   "source": [
    "mvf = build_MVForecaster()\n",
    "mvf"
   ]
  },
  {
   "cell_type": "code",
   "execution_count": 6,
   "id": "f8b4bf32-7438-4399-99bd-78cf1f79e6fe",
   "metadata": {},
   "outputs": [
    {
     "name": "stdout",
     "output_type": "stream",
     "text": [
      "['monthsin', 'LAG_UTUR_1', 'LAG_UTUR_3', 'LAG_UTUR_4', 'LAG_UNRATE_1', 'LAG_UNRATE_2']\n",
      "['monthsin', 'LAG_UTUR_1', 'LAG_UTUR_3', 'LAG_UTUR_4', 'LAG_UNRATE_1', 'LAG_UNRATE_2']\n"
     ]
    }
   ],
   "source": [
    "mvf.set_estimator('elasticnet')\n",
    "mvf.add_seasonal_regressors('month',raw=False,sincos=True)\n",
    "mvf.manual_forecast(test_again=True, lags = {'UTUR':[1,3,4],'UNRATE':2})"
   ]
  },
  {
   "cell_type": "code",
   "execution_count": 4,
   "id": "da7a00cb-da6c-4540-8500-57898f12f53e",
   "metadata": {},
   "outputs": [
    {
     "data": {
      "text/plain": [
       "24"
      ]
     },
     "execution_count": 4,
     "metadata": {},
     "output_type": "execute_result"
    }
   ],
   "source": [
    "len(mvf.history['elasticnet']['Forecast']['UTUR'])"
   ]
  },
  {
   "cell_type": "code",
   "execution_count": 5,
   "id": "915ca729-0be3-493e-a1e2-9feecb92bb1e",
   "metadata": {},
   "outputs": [
    {
     "data": {
      "text/plain": [
       "DATE\n",
       "2000-01-01    3.1\n",
       "2000-02-01    3.1\n",
       "2000-03-01    3.1\n",
       "2000-04-01    3.2\n",
       "2000-05-01    3.2\n",
       "             ... \n",
       "2022-06-01    2.3\n",
       "2022-07-01    2.3\n",
       "2022-08-01    2.4\n",
       "2022-09-01    2.4\n",
       "2022-10-01    2.4\n",
       "Name: UTUR, Length: 274, dtype: float64"
      ]
     },
     "execution_count": 5,
     "metadata": {},
     "output_type": "execute_result"
    }
   ],
   "source": [
    "mvf.y['UTUR']"
   ]
  },
  {
   "cell_type": "code",
   "execution_count": null,
   "id": "b54b529c-902c-4a88-8947-27c88d011483",
   "metadata": {},
   "outputs": [],
   "source": []
  }
 ],
 "metadata": {
  "kernelspec": {
   "display_name": "Python 3 (ipykernel)",
   "language": "python",
   "name": "python3"
  },
  "language_info": {
   "codemirror_mode": {
    "name": "ipython",
    "version": 3
   },
   "file_extension": ".py",
   "mimetype": "text/x-python",
   "name": "python",
   "nbconvert_exporter": "python",
   "pygments_lexer": "ipython3",
   "version": "3.8.13"
  }
 },
 "nbformat": 4,
 "nbformat_minor": 5
}
