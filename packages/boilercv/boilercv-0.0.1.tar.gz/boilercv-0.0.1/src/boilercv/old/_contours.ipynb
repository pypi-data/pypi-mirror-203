{
 "cells": [
  {
   "cell_type": "code",
   "execution_count": null,
   "metadata": {},
   "outputs": [],
   "source": [
    "\"\"\"Experiment with interactive parameters.\"\"\"\n",
    "\n",
    "from ipywidgets import fixed, interact\n",
    "\n",
    "from boilercv.old._contours import preview_contours\n",
    "\n",
    "_ = interact(\n",
    "    preview_contours,\n",
    "    block_size=11,\n",
    "    thresh_dist_from_mean=10,\n",
    "    contour_index=fixed(-1),\n",
    "    thickness=fixed(2),\n",
    "    interact=fixed(True),\n",
    ")\n"
   ]
  }
 ],
 "metadata": {
  "kernelspec": {
   "display_name": ".venv",
   "language": "python",
   "name": "python3"
  },
  "language_info": {
   "codemirror_mode": {
    "name": "ipython",
    "version": 3
   },
   "file_extension": ".py",
   "mimetype": "text/x-python",
   "name": "python",
   "nbconvert_exporter": "python",
   "pygments_lexer": "ipython3"
  }
 },
 "nbformat": 4,
 "nbformat_minor": 2
}
