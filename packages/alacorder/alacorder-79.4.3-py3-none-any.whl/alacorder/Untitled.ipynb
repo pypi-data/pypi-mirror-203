{
 "cells": [
  {
   "cell_type": "code",
   "execution_count": 3,
   "id": "7e77686e",
   "metadata": {
    "scrolled": true
   },
   "outputs": [
    {
     "name": "stdout",
     "output_type": "stream",
     "text": [
      "Requirement already satisfied: PyMuPDF in /opt/homebrew/anaconda3/lib/python3.9/site-packages (1.22.0)\n",
      "Requirement already satisfied: selenium in /opt/homebrew/anaconda3/lib/python3.9/site-packages (4.8.2)\n",
      "Requirement already satisfied: click in /opt/homebrew/anaconda3/lib/python3.9/site-packages (8.1.3)\n",
      "Requirement already satisfied: tqdm in /opt/homebrew/anaconda3/lib/python3.9/site-packages (4.65.0)\n",
      "Requirement already satisfied: xlsxwriter in /opt/homebrew/anaconda3/lib/python3.9/site-packages (3.0.8)\n",
      "Collecting xlsx2csv\n",
      "  Using cached xlsx2csv-0.8.1-py3-none-any.whl (13 kB)\n",
      "Collecting PySimpleGUI\n",
      "  Using cached PySimpleGUI-4.60.4-py3-none-any.whl (509 kB)\n",
      "Collecting polars\n",
      "  Downloading polars-0.17.5-cp37-abi3-macosx_11_0_arm64.whl (14.8 MB)\n",
      "\u001b[2K     \u001b[90m━━━━━━━━━━━━━━━━━━━━━━━━━━━━━━━━━━━━━━━\u001b[0m \u001b[32m14.8/14.8 MB\u001b[0m \u001b[31m635.8 kB/s\u001b[0m eta \u001b[36m0:00:00\u001b[0m00:01\u001b[0m00:01\u001b[0m\n",
      "\u001b[?25hRequirement already satisfied: trio~=0.17 in /opt/homebrew/anaconda3/lib/python3.9/site-packages (from selenium) (0.22.0)\n",
      "Requirement already satisfied: trio-websocket~=0.9 in /opt/homebrew/anaconda3/lib/python3.9/site-packages (from selenium) (0.9.2)\n",
      "Requirement already satisfied: urllib3[socks]~=1.26 in /opt/homebrew/anaconda3/lib/python3.9/site-packages (from selenium) (1.26.11)\n",
      "Requirement already satisfied: certifi>=2021.10.8 in /opt/homebrew/anaconda3/lib/python3.9/site-packages (from selenium) (2022.12.7)\n",
      "Requirement already satisfied: typing_extensions>=4.0.1 in /opt/homebrew/anaconda3/lib/python3.9/site-packages (from polars) (4.3.0)\n",
      "Requirement already satisfied: attrs>=19.2.0 in /opt/homebrew/anaconda3/lib/python3.9/site-packages (from trio~=0.17->selenium) (21.4.0)\n",
      "Requirement already satisfied: sortedcontainers in /opt/homebrew/anaconda3/lib/python3.9/site-packages (from trio~=0.17->selenium) (2.4.0)\n",
      "Requirement already satisfied: exceptiongroup>=1.0.0rc9 in /opt/homebrew/anaconda3/lib/python3.9/site-packages (from trio~=0.17->selenium) (1.1.0)\n",
      "Requirement already satisfied: async-generator>=1.9 in /opt/homebrew/anaconda3/lib/python3.9/site-packages (from trio~=0.17->selenium) (1.10)\n",
      "Requirement already satisfied: idna in /opt/homebrew/anaconda3/lib/python3.9/site-packages (from trio~=0.17->selenium) (3.3)\n",
      "Requirement already satisfied: outcome in /opt/homebrew/anaconda3/lib/python3.9/site-packages (from trio~=0.17->selenium) (1.2.0)\n",
      "Requirement already satisfied: sniffio in /opt/homebrew/anaconda3/lib/python3.9/site-packages (from trio~=0.17->selenium) (1.2.0)\n",
      "Requirement already satisfied: wsproto>=0.14 in /opt/homebrew/anaconda3/lib/python3.9/site-packages (from trio-websocket~=0.9->selenium) (1.2.0)\n",
      "Requirement already satisfied: PySocks!=1.5.7,<2.0,>=1.5.6 in /opt/homebrew/anaconda3/lib/python3.9/site-packages (from urllib3[socks]~=1.26->selenium) (1.7.1)\n",
      "Requirement already satisfied: h11<1,>=0.9.0 in /opt/homebrew/anaconda3/lib/python3.9/site-packages (from wsproto>=0.14->trio-websocket~=0.9->selenium) (0.14.0)\n",
      "Installing collected packages: xlsx2csv, PySimpleGUI, polars\n",
      "Successfully installed PySimpleGUI-4.60.4 polars-0.17.5 xlsx2csv-0.8.1\n",
      "Note: you may need to restart the kernel to use updated packages.\n"
     ]
    }
   ],
   "source": [
    "pip install PyMuPDF selenium click tqdm xlsxwriter xlsx2csv PySimpleGUI polars"
   ]
  },
  {
   "cell_type": "code",
   "execution_count": 4,
   "id": "9069065e",
   "metadata": {},
   "outputs": [
    {
     "name": "stdout",
     "output_type": "stream",
     "text": [
      "Extracting text...\n"
     ]
    },
    {
     "data": {
      "application/vnd.jupyter.widget-view+json": {
       "model_id": "6c8d751512d843129140e5520546f66b",
       "version_major": 2,
       "version_minor": 0
      },
      "text/plain": [
       "  0%|          | 0/147551 [00:00<?, ?it/s]"
      ]
     },
     "metadata": {},
     "output_type": "display_data"
    },
    {
     "ename": "ModuleNotFoundError",
     "evalue": "\"autofit=True\" requires xlsxwriter 3.0.8 or higher; found 3.0.3.",
     "output_type": "error",
     "traceback": [
      "\u001b[0;31m---------------------------------------------------------------------------\u001b[0m",
      "\u001b[0;31mModuleNotFoundError\u001b[0m                       Traceback (most recent call last)",
      "Cell \u001b[0;32mIn[4], line 3\u001b[0m\n\u001b[1;32m      1\u001b[0m \u001b[38;5;28;01mimport\u001b[39;00m \u001b[38;5;21;01malac\u001b[39;00m\u001b[38;5;241m,\u001b[39m \u001b[38;5;21;01mtime\u001b[39;00m\n\u001b[1;32m      2\u001b[0m start \u001b[38;5;241m=\u001b[39m time\u001b[38;5;241m.\u001b[39mtime()\n\u001b[0;32m----> 3\u001b[0m a \u001b[38;5;241m=\u001b[39m \u001b[43malac\u001b[49m\u001b[38;5;241;43m.\u001b[39;49m\u001b[43mset\u001b[49m\u001b[43m(\u001b[49m\u001b[38;5;124;43m\"\u001b[39;49m\u001b[38;5;124;43m/Users/samuelrobson/Desktop/pdfbin2\u001b[39;49m\u001b[38;5;124;43m\"\u001b[39;49m\u001b[43m,\u001b[49m\u001b[43m \u001b[49m\u001b[38;5;124;43m\"\u001b[39;49m\u001b[38;5;124;43m/Users/samuelrobson/Desktop/pdfbin2.xlsx\u001b[39;49m\u001b[38;5;124;43m\"\u001b[39;49m\u001b[43m,\u001b[49m\u001b[43m \u001b[49m\u001b[43moverwrite\u001b[49m\u001b[38;5;241;43m=\u001b[39;49m\u001b[38;5;28;43;01mTrue\u001b[39;49;00m\u001b[43m,\u001b[49m\u001b[43m \u001b[49m\u001b[43marchive\u001b[49m\u001b[38;5;241;43m=\u001b[39;49m\u001b[38;5;28;43;01mTrue\u001b[39;49;00m\u001b[43m,\u001b[49m\u001b[43m \u001b[49m\u001b[43mnow\u001b[49m\u001b[38;5;241;43m=\u001b[39;49m\u001b[38;5;28;43;01mTrue\u001b[39;49;00m\u001b[43m)\u001b[49m\n\u001b[1;32m      4\u001b[0m finish \u001b[38;5;241m=\u001b[39m time\u001b[38;5;241m.\u001b[39mtime()\n\u001b[1;32m      5\u001b[0m \u001b[38;5;28mprint\u001b[39m(\u001b[38;5;124mf\u001b[39m\u001b[38;5;124m\"\u001b[39m\u001b[38;5;124mFinished archive in \u001b[39m\u001b[38;5;132;01m{\u001b[39;00mfinish \u001b[38;5;241m-\u001b[39m start\u001b[38;5;132;01m}\u001b[39;00m\u001b[38;5;124m seconds. (\u001b[39m\u001b[38;5;132;01m{\u001b[39;00m(finish \u001b[38;5;241m-\u001b[39m start) \u001b[38;5;241m/\u001b[39m a[\u001b[38;5;124m'\u001b[39m\u001b[38;5;124mQUEUE\u001b[39m\u001b[38;5;124m'\u001b[39m]\u001b[38;5;241m.\u001b[39mshape[\u001b[38;5;241m0\u001b[39m]\u001b[38;5;132;01m}\u001b[39;00m\u001b[38;5;124m ca/s)\u001b[39m\u001b[38;5;124m\"\u001b[39m)\n",
      "File \u001b[0;32m~/Desktop/alacorder/alacorder/src/alacorder/alac.py:1366\u001b[0m, in \u001b[0;36mset\u001b[0;34m(inputs, outputs, count, table, archive, no_prompt, debug, overwrite, no_write, fetch, cID, uID, pwd, qmax, qskip, append, window, force, no_update, now)\u001b[0m\n\u001b[1;32m   1364\u001b[0m dlog(out, cf\u001b[38;5;241m=\u001b[39mdebug)\n\u001b[1;32m   1365\u001b[0m \u001b[38;5;28;01mif\u001b[39;00m now:\n\u001b[0;32m-> 1366\u001b[0m     \u001b[38;5;28;01mreturn\u001b[39;00m \u001b[43minit\u001b[49m\u001b[43m(\u001b[49m\u001b[43mout\u001b[49m\u001b[43m,\u001b[49m\u001b[43m \u001b[49m\u001b[43mwindow\u001b[49m\u001b[38;5;241;43m=\u001b[39;49m\u001b[43mwindow\u001b[49m\u001b[43m,\u001b[49m\u001b[43m \u001b[49m\u001b[43mdebug\u001b[49m\u001b[38;5;241;43m=\u001b[39;49m\u001b[43mdebug\u001b[49m\u001b[43m)\u001b[49m\n\u001b[1;32m   1367\u001b[0m \u001b[38;5;28;01mreturn\u001b[39;00m out\n",
      "File \u001b[0;32m~/Desktop/alacorder/alacorder/src/alacorder/alac.py:1118\u001b[0m, in \u001b[0;36minit\u001b[0;34m(cf, window, debug)\u001b[0m\n\u001b[1;32m   1116\u001b[0m     \u001b[38;5;28;01mreturn\u001b[39;00m ft\n\u001b[1;32m   1117\u001b[0m \u001b[38;5;28;01melif\u001b[39;00m cf[\u001b[38;5;124m\"\u001b[39m\u001b[38;5;124mARCHIVE\u001b[39m\u001b[38;5;124m\"\u001b[39m] \u001b[38;5;241m==\u001b[39m \u001b[38;5;28;01mTrue\u001b[39;00m:\n\u001b[0;32m-> 1118\u001b[0m     ar \u001b[38;5;241m=\u001b[39m \u001b[43marchive\u001b[49m\u001b[43m(\u001b[49m\u001b[43mcf\u001b[49m\u001b[43m,\u001b[49m\u001b[43m \u001b[49m\u001b[43mwindow\u001b[49m\u001b[38;5;241;43m=\u001b[39;49m\u001b[43mwindow\u001b[49m\u001b[43m)\u001b[49m\n\u001b[1;32m   1119\u001b[0m     \u001b[38;5;28;01mreturn\u001b[39;00m ar\n\u001b[1;32m   1120\u001b[0m \u001b[38;5;28;01melif\u001b[39;00m (\n\u001b[1;32m   1121\u001b[0m     cf[\u001b[38;5;124m\"\u001b[39m\u001b[38;5;124mTABLE\u001b[39m\u001b[38;5;124m\"\u001b[39m]\u001b[38;5;241m.\u001b[39mlower() \u001b[38;5;129;01min\u001b[39;00m (\u001b[38;5;124m\"\u001b[39m\u001b[38;5;124mcharges\u001b[39m\u001b[38;5;124m\"\u001b[39m, \u001b[38;5;124m\"\u001b[39m\u001b[38;5;124mdisposition\u001b[39m\u001b[38;5;124m\"\u001b[39m, \u001b[38;5;124m\"\u001b[39m\u001b[38;5;124mfiling\u001b[39m\u001b[38;5;124m\"\u001b[39m)\n\u001b[1;32m   1122\u001b[0m     \u001b[38;5;129;01mand\u001b[39;00m cf[\u001b[38;5;124m\"\u001b[39m\u001b[38;5;124mSUPPORT_SINGLETABLE\u001b[39m\u001b[38;5;124m\"\u001b[39m]\n\u001b[1;32m   1123\u001b[0m ):\n",
      "File \u001b[0;32m~/Desktop/alacorder/alacorder/src/alacorder/alac.py:1173\u001b[0m, in \u001b[0;36marchive\u001b[0;34m(cf, window, debug)\u001b[0m\n\u001b[1;32m   1169\u001b[0m \u001b[38;5;124;03m\"\"\"\u001b[39;00m\n\u001b[1;32m   1170\u001b[0m \u001b[38;5;124;03mWrite a full text archive from inputs using configuration `cf`.\u001b[39;00m\n\u001b[1;32m   1171\u001b[0m \u001b[38;5;124;03m\"\"\"\u001b[39;00m\n\u001b[1;32m   1172\u001b[0m a \u001b[38;5;241m=\u001b[39m read(cf, window)\n\u001b[0;32m-> 1173\u001b[0m \u001b[43mwrite\u001b[49m\u001b[43m(\u001b[49m\u001b[43ma\u001b[49m\u001b[43m,\u001b[49m\u001b[43m \u001b[49m\u001b[43mcf\u001b[49m\u001b[38;5;241;43m=\u001b[39;49m\u001b[43mcf\u001b[49m\u001b[43m)\u001b[49m\n\u001b[1;32m   1174\u001b[0m \u001b[38;5;28;01mif\u001b[39;00m window:\n\u001b[1;32m   1175\u001b[0m     window\u001b[38;5;241m.\u001b[39mwrite_event_value(\u001b[38;5;124m\"\u001b[39m\u001b[38;5;124mCOMPLETE-MA\u001b[39m\u001b[38;5;124m\"\u001b[39m, \u001b[38;5;28;01mTrue\u001b[39;00m)\n",
      "File \u001b[0;32m~/Desktop/alacorder/alacorder/src/alacorder/alac.py:1489\u001b[0m, in \u001b[0;36mwrite\u001b[0;34m(outputs, sheet_names, cf, path, overwrite)\u001b[0m\n\u001b[1;32m   1482\u001b[0m                 x\u001b[38;5;241m.\u001b[39mwrite_excel(\n\u001b[1;32m   1483\u001b[0m                     workbook\u001b[38;5;241m=\u001b[39mworkbook,\n\u001b[1;32m   1484\u001b[0m                     worksheet\u001b[38;5;241m=\u001b[39msheet_names[i],\n\u001b[1;32m   1485\u001b[0m                     autofit\u001b[38;5;241m=\u001b[39m\u001b[38;5;28;01mTrue\u001b[39;00m,\n\u001b[1;32m   1486\u001b[0m                     float_precision\u001b[38;5;241m=\u001b[39m\u001b[38;5;241m2\u001b[39m,\n\u001b[1;32m   1487\u001b[0m                 )\n\u001b[1;32m   1488\u001b[0m         \u001b[38;5;28;01melse\u001b[39;00m:\n\u001b[0;32m-> 1489\u001b[0m             \u001b[43moutputs\u001b[49m\u001b[43m[\u001b[49m\u001b[38;5;241;43m0\u001b[39;49m\u001b[43m]\u001b[49m\u001b[38;5;241;43m.\u001b[39;49m\u001b[43mwrite_excel\u001b[49m\u001b[43m(\u001b[49m\n\u001b[1;32m   1490\u001b[0m \u001b[43m                \u001b[49m\u001b[43mworkbook\u001b[49m\u001b[38;5;241;43m=\u001b[39;49m\u001b[43mworkbook\u001b[49m\u001b[43m,\u001b[49m\u001b[43m \u001b[49m\u001b[43mautofit\u001b[49m\u001b[38;5;241;43m=\u001b[39;49m\u001b[38;5;28;43;01mTrue\u001b[39;49;00m\u001b[43m,\u001b[49m\u001b[43m \u001b[49m\u001b[43mfloat_precision\u001b[49m\u001b[38;5;241;43m=\u001b[39;49m\u001b[38;5;241;43m2\u001b[39;49m\n\u001b[1;32m   1491\u001b[0m \u001b[43m            \u001b[49m\u001b[43m)\u001b[49m\n\u001b[1;32m   1492\u001b[0m \u001b[38;5;28;01melif\u001b[39;00m cf[\u001b[38;5;124m\"\u001b[39m\u001b[38;5;124mOUTPUT_EXT\u001b[39m\u001b[38;5;124m\"\u001b[39m] \u001b[38;5;241m==\u001b[39m \u001b[38;5;124m\"\u001b[39m\u001b[38;5;124m.parquet\u001b[39m\u001b[38;5;124m\"\u001b[39m:\n\u001b[1;32m   1493\u001b[0m     \u001b[38;5;28;01mtry\u001b[39;00m:\n",
      "File \u001b[0;32m/opt/homebrew/anaconda3/lib/python3.9/site-packages/polars/dataframe/frame.py:2934\u001b[0m, in \u001b[0;36mDataFrame.write_excel\u001b[0;34m(self, workbook, worksheet, position, table_style, table_name, column_formats, dtype_formats, conditional_formats, column_totals, column_widths, row_totals, row_heights, sparklines, formulas, float_precision, has_header, autofilter, autofit, hidden_columns, hide_gridlines, sheet_zoom)\u001b[0m\n\u001b[1;32m   2932\u001b[0m     xlv \u001b[38;5;241m=\u001b[39m xlsxwriter\u001b[38;5;241m.\u001b[39m__version__\n\u001b[1;32m   2933\u001b[0m     \u001b[38;5;28;01mif\u001b[39;00m parse_version(xlv) \u001b[38;5;241m<\u001b[39m parse_version(\u001b[38;5;124m\"\u001b[39m\u001b[38;5;124m3.0.8\u001b[39m\u001b[38;5;124m\"\u001b[39m):\n\u001b[0;32m-> 2934\u001b[0m         \u001b[38;5;28;01mraise\u001b[39;00m \u001b[38;5;167;01mModuleNotFoundError\u001b[39;00m(\n\u001b[1;32m   2935\u001b[0m             \u001b[38;5;124mf\u001b[39m\u001b[38;5;124m'\u001b[39m\u001b[38;5;124m\"\u001b[39m\u001b[38;5;124mautofit=True\u001b[39m\u001b[38;5;124m\"\u001b[39m\u001b[38;5;124m requires xlsxwriter 3.0.8 or higher; found \u001b[39m\u001b[38;5;132;01m{\u001b[39;00mxlv\u001b[38;5;132;01m}\u001b[39;00m\u001b[38;5;124m.\u001b[39m\u001b[38;5;124m'\u001b[39m\n\u001b[1;32m   2936\u001b[0m         )\n\u001b[1;32m   2937\u001b[0m     ws\u001b[38;5;241m.\u001b[39mautofit()\n\u001b[1;32m   2939\u001b[0m \u001b[38;5;28;01mif\u001b[39;00m can_close:\n",
      "\u001b[0;31mModuleNotFoundError\u001b[0m: \"autofit=True\" requires xlsxwriter 3.0.8 or higher; found 3.0.3."
     ]
    }
   ],
   "source": [
    "import alac, time\n",
    "start = time.time()\n",
    "a = alac.set(\"/Users/samuelrobson/Desktop/pdfbin2\", \"/Users/samuelrobson/Desktop/pdfbin2.xlsx\", overwrite=True, archive=True, now=True)\n",
    "finish = time.time()\n",
    "print(f\"Finished archive in {finish - start} seconds. ({(finish - start) / a['QUEUE'].shape[0]} ca/s)\")"
   ]
  },
  {
   "cell_type": "code",
   "execution_count": null,
   "id": "aade31fd",
   "metadata": {},
   "outputs": [],
   "source": []
  }
 ],
 "metadata": {
  "kernelspec": {
   "display_name": "Python 3 (ipykernel)",
   "language": "python",
   "name": "python3"
  },
  "language_info": {
   "codemirror_mode": {
    "name": "ipython",
    "version": 3
   },
   "file_extension": ".py",
   "mimetype": "text/x-python",
   "name": "python",
   "nbconvert_exporter": "python",
   "pygments_lexer": "ipython3",
   "version": "3.9.13"
  }
 },
 "nbformat": 4,
 "nbformat_minor": 5
}
