{
 "cells": [
  {
   "cell_type": "code",
   "execution_count": 3,
   "id": "aaac9c1d",
   "metadata": {
    "scrolled": true
   },
   "outputs": [
    {
     "name": "stdout",
     "output_type": "stream",
     "text": [
      "Requirement already satisfied: PyMuPDF in /opt/homebrew/anaconda3/lib/python3.9/site-packages (1.22.0)\n",
      "Requirement already satisfied: selenium in /opt/homebrew/anaconda3/lib/python3.9/site-packages (4.8.2)\n",
      "Requirement already satisfied: click in /opt/homebrew/anaconda3/lib/python3.9/site-packages (8.1.3)\n",
      "Requirement already satisfied: tqdm in /opt/homebrew/anaconda3/lib/python3.9/site-packages (4.65.0)\n",
      "Requirement already satisfied: xlsxwriter in /opt/homebrew/anaconda3/lib/python3.9/site-packages (3.0.8)\n",
      "Collecting xlsx2csv\n",
      "  Using cached xlsx2csv-0.8.1-py3-none-any.whl (13 kB)\n",
      "Collecting PySimpleGUI\n",
      "  Using cached PySimpleGUI-4.60.4-py3-none-any.whl (509 kB)\n",
      "Collecting polars\n",
      "  Downloading polars-0.17.5-cp37-abi3-macosx_11_0_arm64.whl (14.8 MB)\n",
      "\u001b[2K     \u001b[90m━━━━━━━━━━━━━━━━━━━━━━━━━━━━━━━━━━━━━━━\u001b[0m \u001b[32m14.8/14.8 MB\u001b[0m \u001b[31m635.8 kB/s\u001b[0m eta \u001b[36m0:00:00\u001b[0m00:01\u001b[0m00:01\u001b[0m\n",
      "\u001b[?25hRequirement already satisfied: trio~=0.17 in /opt/homebrew/anaconda3/lib/python3.9/site-packages (from selenium) (0.22.0)\n",
      "Requirement already satisfied: trio-websocket~=0.9 in /opt/homebrew/anaconda3/lib/python3.9/site-packages (from selenium) (0.9.2)\n",
      "Requirement already satisfied: urllib3[socks]~=1.26 in /opt/homebrew/anaconda3/lib/python3.9/site-packages (from selenium) (1.26.11)\n",
      "Requirement already satisfied: certifi>=2021.10.8 in /opt/homebrew/anaconda3/lib/python3.9/site-packages (from selenium) (2022.12.7)\n",
      "Requirement already satisfied: typing_extensions>=4.0.1 in /opt/homebrew/anaconda3/lib/python3.9/site-packages (from polars) (4.3.0)\n",
      "Requirement already satisfied: attrs>=19.2.0 in /opt/homebrew/anaconda3/lib/python3.9/site-packages (from trio~=0.17->selenium) (21.4.0)\n",
      "Requirement already satisfied: sortedcontainers in /opt/homebrew/anaconda3/lib/python3.9/site-packages (from trio~=0.17->selenium) (2.4.0)\n",
      "Requirement already satisfied: exceptiongroup>=1.0.0rc9 in /opt/homebrew/anaconda3/lib/python3.9/site-packages (from trio~=0.17->selenium) (1.1.0)\n",
      "Requirement already satisfied: async-generator>=1.9 in /opt/homebrew/anaconda3/lib/python3.9/site-packages (from trio~=0.17->selenium) (1.10)\n",
      "Requirement already satisfied: idna in /opt/homebrew/anaconda3/lib/python3.9/site-packages (from trio~=0.17->selenium) (3.3)\n",
      "Requirement already satisfied: outcome in /opt/homebrew/anaconda3/lib/python3.9/site-packages (from trio~=0.17->selenium) (1.2.0)\n",
      "Requirement already satisfied: sniffio in /opt/homebrew/anaconda3/lib/python3.9/site-packages (from trio~=0.17->selenium) (1.2.0)\n",
      "Requirement already satisfied: wsproto>=0.14 in /opt/homebrew/anaconda3/lib/python3.9/site-packages (from trio-websocket~=0.9->selenium) (1.2.0)\n",
      "Requirement already satisfied: PySocks!=1.5.7,<2.0,>=1.5.6 in /opt/homebrew/anaconda3/lib/python3.9/site-packages (from urllib3[socks]~=1.26->selenium) (1.7.1)\n",
      "Requirement already satisfied: h11<1,>=0.9.0 in /opt/homebrew/anaconda3/lib/python3.9/site-packages (from wsproto>=0.14->trio-websocket~=0.9->selenium) (0.14.0)\n",
      "Installing collected packages: xlsx2csv, PySimpleGUI, polars\n",
      "Successfully installed PySimpleGUI-4.60.4 polars-0.17.5 xlsx2csv-0.8.1\n",
      "Note: you may need to restart the kernel to use updated packages.\n"
     ]
    }
   ],
   "source": [
    "pip install PyMuPDF selenium click tqdm xlsxwriter xlsx2csv PySimpleGUI polars"
   ]
  },
  {
   "cell_type": "code",
   "execution_count": null,
   "id": "75fe676d",
   "metadata": {},
   "outputs": [
    {
     "name": "stdout",
     "output_type": "stream",
     "text": [
      "Extracting text...\n"
     ]
    },
    {
     "data": {
      "application/vnd.jupyter.widget-view+json": {
       "model_id": "6c8d751512d843129140e5520546f66b",
       "version_major": 2,
       "version_minor": 0
      },
      "text/plain": [
       "  0%|          | 0/147551 [00:00<?, ?it/s]"
      ]
     },
     "metadata": {},
     "output_type": "display_data"
    }
   ],
   "source": [
    "import alac, time\n",
    "start = time.time()\n",
    "a = alac.set(\"/Users/samuelrobson/Desktop/pdfbin2\", \"/Users/samuelrobson/Desktop/pdfbin2.xlsx\", overwrite=True, archive=True, now=True)\n",
    "finish = time.time()\n",
    "print(f\"Finished archive in {finish - start} seconds. ({(finish - start) / a['QUEUE'].shape[0]} ca/s)\")"
   ]
  },
  {
   "cell_type": "code",
   "execution_count": null,
   "id": "ac96dccb",
   "metadata": {},
   "outputs": [],
   "source": []
  }
 ],
 "metadata": {
  "kernelspec": {
   "display_name": "Python 3 (ipykernel)",
   "language": "python",
   "name": "python3"
  },
  "language_info": {
   "codemirror_mode": {
    "name": "ipython",
    "version": 3
   },
   "file_extension": ".py",
   "mimetype": "text/x-python",
   "name": "python",
   "nbconvert_exporter": "python",
   "pygments_lexer": "ipython3",
   "version": "3.9.13"
  }
 },
 "nbformat": 4,
 "nbformat_minor": 5
}
