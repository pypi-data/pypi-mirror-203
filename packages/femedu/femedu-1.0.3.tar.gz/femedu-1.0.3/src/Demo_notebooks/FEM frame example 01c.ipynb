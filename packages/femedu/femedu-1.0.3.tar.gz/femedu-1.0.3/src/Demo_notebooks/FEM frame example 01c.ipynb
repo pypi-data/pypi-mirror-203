{
 "cells": [
  {
   "cell_type": "markdown",
   "id": "9c59a118",
   "metadata": {},
   "source": [
    "# A Finite Element Examples: Frame 01c\n",
    "\n",
    "This example is based on the frame01 example distributed with FEM.edu"
   ]
  },
  {
   "cell_type": "markdown",
   "id": "59ec54b3",
   "metadata": {},
   "source": [
    "## Load needed components"
   ]
  },
  {
   "cell_type": "markdown",
   "id": "606af4c0",
   "metadata": {},
   "source": [
    "We need to add the local code to the path or python won't find FEM.edu"
   ]
  },
  {
   "cell_type": "code",
   "execution_count": 1,
   "id": "87e9aa99",
   "metadata": {},
   "outputs": [],
   "source": [
    "import sys, os\n",
    "sys.path.insert(0, os.path.abspath(os.path.join(\"..\")))"
   ]
  },
  {
   "cell_type": "markdown",
   "id": "0cbe6efe",
   "metadata": {},
   "source": [
    "Now load the needed components of FEM.edu"
   ]
  },
  {
   "cell_type": "code",
   "execution_count": 2,
   "id": "8677f776",
   "metadata": {},
   "outputs": [],
   "source": [
    "from femedu.domain import *\n",
    "from femedu.solver.NewtonRaphsonSolver import *\n",
    "from femedu.elements.Frame2D import *\n",
    "from femedu.materials.ElasticSection import *"
   ]
  },
  {
   "cell_type": "markdown",
   "id": "e6818727",
   "metadata": {},
   "source": [
    "## Build a model"
   ]
  },
  {
   "cell_type": "code",
   "execution_count": 3,
   "id": "27c5939c",
   "metadata": {},
   "outputs": [],
   "source": [
    "# ========== setting mesh parameters ==============\n",
    "\n",
    "N = 16         # number of elements in the mesh\n",
    "L = 100.0     # column free length\n",
    "\n",
    "\n",
    "# ========== setting material parameters ==============\n",
    "\n",
    "params = dict(\n",
    "    E = 20000.,    # Young's modulus\n",
    "    A = 100.0,     # cross section area\n",
    "    I = 10.0       # cross section moment of inertia\n",
    ")\n",
    "\n",
    "# ========== setting load parameters ==============\n",
    "\n",
    "w   = -0.1         # uniform lateral load on the column\n",
    "Pcr = np.pi**2 * params['E'] * params['I'] / L**2    # Euler buckling load\n",
    "\n",
    "# ========== setting analysis parameters ==============\n",
    "\n",
    "target_load_level = 0.95      # 99% of Euler load\n",
    "max_steps = 10                # solve max_steps points on the primary path\n",
    "\n",
    "\n",
    "\n",
    "# define a list of target load levels\n",
    "load_levels = np.linspace(0, target_load_level, max_steps)\n",
    "\n",
    "#\n",
    "# ==== Build the system model ====\n",
    "#\n",
    "\n",
    "model = System()\n",
    "model.setSolver(NewtonRaphsonSolver())\n",
    "\n",
    "# create nodes\n",
    "\n",
    "nd0 = Node(0.0, 0.0)\n",
    "model += nd0\n",
    "\n",
    "ndi = nd0\n",
    "for i in range(N):\n",
    "    # nodes\n",
    "    ndj = Node( (i+1)*L/N, 0.0 )\n",
    "    model += ndj\n",
    "\n",
    "    # elements\n",
    "    elem = Frame2D(ndi, ndj, ElasticSection(params))\n",
    "    model += elem\n",
    "\n",
    "    # ** apply the element portion of the reference load\n",
    "    elem.setDistLoad(w)\n",
    "\n",
    "    ndi = ndj    # jump to next element: make current end-node the next start-node\n",
    "\n",
    "# define support(s)\n",
    "\n",
    "nd0.fixDOF('ux', 'uy', 'rz')    # horizontal support left end\n",
    "ndi.fixDOF('uy')          # vertical support right end\n",
    "\n",
    "for i in range(N//4):\n",
    "    # nodes\n",
    "    ndj = Node( L+(i+1)*L/N, 0.0 )\n",
    "    model += ndj\n",
    "\n",
    "    # elements\n",
    "    elem = Frame2D(ndi, ndj, ElasticSection(params))\n",
    "    model += elem\n",
    "\n",
    "    # ** apply the element portion of the reference load\n",
    "    elem.setDistLoad(w)\n",
    "\n",
    "    ndi = ndj    # jump to next element: make current end-node the next start-node\n",
    "\n",
    "# ==== complete the reference load ====\n",
    "\n",
    "# these are only nodal forces as part of the reference load\n",
    "# .. load only the upper node\n",
    "ndi.setLoad((-Pcr,), ('ux',))\n"
   ]
  },
  {
   "cell_type": "markdown",
   "id": "fc41d46e",
   "metadata": {},
   "source": [
    "## Analyze the model"
   ]
  },
  {
   "cell_type": "markdown",
   "id": "9dc16de0",
   "metadata": {},
   "source": [
    "## Stability Analysis"
   ]
  },
  {
   "cell_type": "code",
   "execution_count": 4,
   "id": "b9aff45d",
   "metadata": {},
   "outputs": [
    {
     "name": "stdout",
     "output_type": "stream",
     "text": [
      "norm of the out-of-balance force:   0.0000e+00\n",
      "+\n",
      "\n",
      " ** Stability check: (smallest eigenvalue of Kt) = 2.2555990021373087\n",
      "\n",
      "+\n",
      "\n",
      "=== next load level ===\n",
      "\n",
      "norm of the out-of-balance force:   2.0838e+01\n",
      "norm of the out-of-balance force:   1.6309e-02\n",
      "norm of the out-of-balance force:   5.1886e-11\n",
      "+\n",
      "\n",
      " ** Stability check: (smallest eigenvalue of Kt) = 2.0104375104086247\n",
      "\n",
      "+\n",
      "\n",
      "=== next load level ===\n",
      "\n",
      "norm of the out-of-balance force:   2.0838e+01\n",
      "norm of the out-of-balance force:   3.7238e-02\n",
      "norm of the out-of-balance force:   2.4577e-10\n",
      "+\n",
      "\n",
      " ** Stability check: (smallest eigenvalue of Kt) = 1.7591977462798154\n",
      "\n",
      "+\n",
      "\n",
      "=== next load level ===\n",
      "\n",
      "norm of the out-of-balance force:   2.0838e+01\n",
      "norm of the out-of-balance force:   6.5291e-02\n",
      "norm of the out-of-balance force:   2.1328e-10\n",
      "+\n",
      "\n",
      " ** Stability check: (smallest eigenvalue of Kt) = 1.5015226541571878\n",
      "\n",
      "+\n",
      "\n",
      "=== next load level ===\n",
      "\n",
      "norm of the out-of-balance force:   2.0838e+01\n",
      "norm of the out-of-balance force:   1.0492e-01\n",
      "norm of the out-of-balance force:   3.6193e-10\n",
      "+\n",
      "\n",
      " ** Stability check: (smallest eigenvalue of Kt) = 1.2370551113836417\n",
      "\n",
      "+\n",
      "\n",
      "=== next load level ===\n",
      "\n",
      "norm of the out-of-balance force:   2.0838e+01\n",
      "norm of the out-of-balance force:   1.6477e-01\n",
      "norm of the out-of-balance force:   1.5355e-12\n",
      "+\n",
      "\n",
      " ** Stability check: (smallest eigenvalue of Kt) = 0.9654432691392771\n",
      "\n",
      "+\n",
      "\n",
      "=== next load level ===\n",
      "\n",
      "norm of the out-of-balance force:   2.0838e+01\n",
      "norm of the out-of-balance force:   2.6391e-01\n",
      "norm of the out-of-balance force:   1.2415e-11\n",
      "+\n",
      "\n",
      " ** Stability check: (smallest eigenvalue of Kt) = 0.6863466030059117\n",
      "\n",
      "+\n",
      "\n",
      "=== next load level ===\n",
      "\n",
      "norm of the out-of-balance force:   2.0838e+01\n",
      "norm of the out-of-balance force:   4.5413e-01\n",
      "norm of the out-of-balance force:   3.6040e-10\n",
      "+\n",
      "\n",
      " ** Stability check: (smallest eigenvalue of Kt) = 0.3994425338577144\n",
      "\n",
      "+\n",
      "\n",
      "=== next load level ===\n",
      "\n",
      "norm of the out-of-balance force:   2.0838e+01\n",
      "norm of the out-of-balance force:   9.4120e-01\n",
      "norm of the out-of-balance force:   9.8848e-09\n",
      "+\n",
      "\n",
      " ** Stability check: (smallest eigenvalue of Kt) = 0.1044333881290513\n",
      "\n",
      "+\n",
      "\n",
      "=== next load level ===\n",
      "\n",
      "norm of the out-of-balance force:   2.0838e+01\n",
      "norm of the out-of-balance force:   4.3013e+00\n",
      "norm of the out-of-balance force:   2.8863e-09\n",
      "+\n",
      "\n",
      " ** Stability check: (smallest eigenvalue of Kt) = -0.19894660527406988\n",
      "\n",
      "+\n",
      "\n",
      "=== next load level ===\n",
      "\n"
     ]
    }
   ],
   "source": [
    "# initialize the analysis:\n",
    "model.resetDisplacements()   # set U to all zeros\n",
    "model.setLoadFactor(0.0)     # define a known equilibrium solution\n",
    "\n",
    "model.startRecorder()        # not doing anything yet, but will do the data collection soon\n",
    "\n",
    "detKt   = []\n",
    "lambdas = []\n",
    "\n",
    "# solve for all load_levels\n",
    "for loadfactor in load_levels:\n",
    "\n",
    "    model.setLoadFactor(loadfactor)\n",
    "    model.solve(verbose=True)\n",
    "\n",
    "    # stability check\n",
    "    lambdas.append(model.loadfactor)\n",
    "    detKt.append(model.solver.checkStability())\n",
    "\n",
    "    # report results\n",
    "    print('+')\n",
    "    #model.report()\n",
    "\n",
    "    print(\"\\n=== next load level ===\\n\")\n"
   ]
  },
  {
   "cell_type": "code",
   "execution_count": 5,
   "id": "e4f97d43",
   "metadata": {},
   "outputs": [],
   "source": [
    "#\n",
    "# ==== check the current state of the model ===\n",
    "#\n",
    "\n",
    "#model.report()"
   ]
  },
  {
   "cell_type": "code",
   "execution_count": 6,
   "id": "92a5aa49",
   "metadata": {},
   "outputs": [
    {
     "data": {
      "image/png": "[encoded data removed]",
      "text/plain": [
       "<Figure size 432x288 with 1 Axes>"
      ]
     },
     "metadata": {
      "needs_background": "light"
     },
     "output_type": "display_data"
    },
    {
     "data": {
      "image/png": "[encoded data removed]",
      "text/plain": [
       "<Figure size 432x288 with 1 Axes>"
      ]
     },
     "metadata": {
      "needs_background": "light"
     },
     "output_type": "display_data"
    },
    {
     "data": {
      "image/png": "[encoded data removed]",
      "text/plain": [
       "<Figure size 432x288 with 1 Axes>"
      ]
     },
     "metadata": {
      "needs_background": "light"
     },
     "output_type": "display_data"
    },
    {
     "data": {
      "image/png": "[encoded data removed]",
      "text/plain": [
       "<Figure size 432x288 with 1 Axes>"
      ]
     },
     "metadata": {
      "needs_background": "light"
     },
     "output_type": "display_data"
    },
    {
     "data": {
      "image/png": "[encoded data removed]",
      "text/plain": [
       "<Figure size 432x288 with 1 Axes>"
      ]
     },
     "metadata": {
      "needs_background": "light"
     },
     "output_type": "display_data"
    },
    {
     "data": {
      "image/png": "[encoded data removed]",
      "text/plain": [
       "<Figure size 432x288 with 1 Axes>"
      ]
     },
     "metadata": {
      "needs_background": "light"
     },
     "output_type": "display_data"
    }
   ],
   "source": [
    "#\n",
    "# ==== create some nice plots ===\n",
    "#\n",
    "\n",
    "plt.plot(lambdas,detKt,'--*r')\n",
    "plt.grid(True)\n",
    "plt.xlabel('Load factor, $ \\lambda $')\n",
    "plt.ylabel(\"Stability index, $ {det}\\: {\\\\bf K}_t $\")\n",
    "plt.show()\n",
    "\n",
    "model.plot(factor=1.0)\n",
    "\n",
    "model.beamValuePlot(\"F\")\n",
    "model.beamValuePlot(\"M\")\n",
    "model.beamValuePlot(\"V\")\n",
    "\n",
    "model.plotBucklingMode(factor=10.)\n"
   ]
  },
  {
   "cell_type": "code",
   "execution_count": 7,
   "id": "51d6f86d",
   "metadata": {},
   "outputs": [
    {
     "data": {
      "text/plain": [
       "array([0.        , 0.10555556, 0.21111111, 0.31666667, 0.42222222,\n",
       "       0.52777778, 0.63333333, 0.73888889, 0.84444444, 0.95      ])"
      ]
     },
     "execution_count": 7,
     "metadata": {},
     "output_type": "execute_result"
    }
   ],
   "source": [
    "load_levels"
   ]
  },
  {
   "cell_type": "code",
   "execution_count": 8,
   "id": "e6374604",
   "metadata": {},
   "outputs": [
    {
     "name": "stdout",
     "output_type": "stream",
     "text": [
      "norm of the out-of-balance force:   1.0858e+02\n",
      "norm of the out-of-balance force:   1.9846e+01\n",
      "norm of the out-of-balance force:   1.6398e-10\n",
      "+\n",
      "\n",
      " ** Stability check: (smallest eigenvalue of Kt) = -1.9220534505899818\n",
      "\n"
     ]
    },
    {
     "data": {
      "image/png": "[encoded data removed]",
      "text/plain": [
       "<Figure size 432x288 with 1 Axes>"
      ]
     },
     "metadata": {
      "needs_background": "light"
     },
     "output_type": "display_data"
    },
    {
     "data": {
      "image/png": "[encoded data removed]",
      "text/plain": [
       "<Figure size 432x288 with 1 Axes>"
      ]
     },
     "metadata": {
      "needs_background": "light"
     },
     "output_type": "display_data"
    },
    {
     "data": {
      "image/png": "[encoded data removed]",
      "text/plain": [
       "<Figure size 432x288 with 1 Axes>"
      ]
     },
     "metadata": {
      "needs_background": "light"
     },
     "output_type": "display_data"
    },
    {
     "data": {
      "image/png": "[encoded data removed]",
      "text/plain": [
       "<Figure size 432x288 with 1 Axes>"
      ]
     },
     "metadata": {
      "needs_background": "light"
     },
     "output_type": "display_data"
    },
    {
     "data": {
      "image/png": "[encoded data removed]",
      "text/plain": [
       "<Figure size 432x288 with 1 Axes>"
      ]
     },
     "metadata": {
      "needs_background": "light"
     },
     "output_type": "display_data"
    },
    {
     "data": {
      "image/png": "[encoded data removed]",
      "text/plain": [
       "<Figure size 432x288 with 1 Axes>"
      ]
     },
     "metadata": {
      "needs_background": "light"
     },
     "output_type": "display_data"
    }
   ],
   "source": [
    "model.setLoadFactor(1.5)\n",
    "model.solve(verbose=True)\n",
    "\n",
    "# stability check\n",
    "lambdas.append(model.loadfactor)\n",
    "detKt.append(model.solver.checkStability())\n",
    "\n",
    "#\n",
    "# ==== create some nice plots ===\n",
    "#\n",
    "\n",
    "plt.plot(lambdas,detKt,'--*r')\n",
    "plt.grid(True)\n",
    "plt.xlabel('Load factor, $ \\lambda $')\n",
    "plt.ylabel(\"Stability index, $ {det}\\: {\\\\bf K}_t $\")\n",
    "plt.show()\n",
    "\n",
    "model.plot(factor=1.0)\n",
    "\n",
    "model.beamValuePlot(\"F\")\n",
    "model.beamValuePlot(\"M\")\n",
    "model.beamValuePlot(\"V\")\n",
    "\n",
    "model.plotBucklingMode(factor=10.)\n"
   ]
  },
  {
   "cell_type": "code",
   "execution_count": 9,
   "id": "085e2f47",
   "metadata": {},
   "outputs": [
    {
     "name": "stdout",
     "output_type": "stream",
     "text": [
      "norm of the out-of-balance force:   9.8705e+01\n",
      "norm of the out-of-balance force:   3.7967e+00\n",
      "norm of the out-of-balance force:   2.0690e-10\n",
      "+\n",
      "\n",
      " ** Stability check: (smallest eigenvalue of Kt) = -3.697834152548421\n",
      "\n"
     ]
    },
    {
     "data": {
      "image/png": "[encoded data removed]",
      "text/plain": [
       "<Figure size 432x288 with 1 Axes>"
      ]
     },
     "metadata": {
      "needs_background": "light"
     },
     "output_type": "display_data"
    },
    {
     "data": {
      "image/png": "[encoded data removed]",
      "text/plain": [
       "<Figure size 432x288 with 1 Axes>"
      ]
     },
     "metadata": {
      "needs_background": "light"
     },
     "output_type": "display_data"
    },
    {
     "data": {
      "image/png": "[encoded data removed]",
      "text/plain": [
       "<Figure size 432x288 with 1 Axes>"
      ]
     },
     "metadata": {
      "needs_background": "light"
     },
     "output_type": "display_data"
    },
    {
     "data": {
      "image/png": "[encoded data removed]",
      "text/plain": [
       "<Figure size 432x288 with 1 Axes>"
      ]
     },
     "metadata": {
      "needs_background": "light"
     },
     "output_type": "display_data"
    },
    {
     "data": {
      "image/png": "[encoded data removed]",
      "text/plain": [
       "<Figure size 432x288 with 1 Axes>"
      ]
     },
     "metadata": {
      "needs_background": "light"
     },
     "output_type": "display_data"
    },
    {
     "data": {
      "image/png": "[encoded data removed]",
      "text/plain": [
       "<Figure size 432x288 with 1 Axes>"
      ]
     },
     "metadata": {
      "needs_background": "light"
     },
     "output_type": "display_data"
    }
   ],
   "source": [
    "model.setLoadFactor(2.0)\n",
    "model.solve(verbose=True)\n",
    "\n",
    "# stability check\n",
    "lambdas.append(model.loadfactor)\n",
    "detKt.append(model.solver.checkStability())\n",
    "\n",
    "#\n",
    "# ==== create some nice plots ===\n",
    "#\n",
    "\n",
    "plt.plot(lambdas,detKt,'--*r')\n",
    "plt.grid(True)\n",
    "plt.xlabel('Load factor, $ \\lambda $')\n",
    "plt.ylabel(\"Stability index, $ {det}\\: {\\\\bf K}_t $\")\n",
    "plt.show()\n",
    "\n",
    "model.plot(factor=1.0)\n",
    "\n",
    "model.beamValuePlot(\"F\")\n",
    "model.beamValuePlot(\"M\")\n",
    "model.beamValuePlot(\"V\")\n",
    "\n",
    "model.plotBucklingMode(factor=10.)\n"
   ]
  },
  {
   "cell_type": "code",
   "execution_count": null,
   "id": "b10f56cd",
   "metadata": {},
   "outputs": [],
   "source": []
  }
 ],
 "metadata": {
  "kernelspec": {
   "display_name": "Python 3 (ipykernel)",
   "language": "python",
   "name": "python3"
  },
  "language_info": {
   "codemirror_mode": {
    "name": "ipython",
    "version": 3
   },
   "file_extension": ".py",
   "mimetype": "text/x-python",
   "name": "python",
   "nbconvert_exporter": "python",
   "pygments_lexer": "ipython3",
   "version": "3.10.8"
  }
 },
 "nbformat": 4,
 "nbformat_minor": 5
}
