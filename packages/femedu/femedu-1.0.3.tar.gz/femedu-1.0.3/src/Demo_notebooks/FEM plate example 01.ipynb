{
 "cells": [
  {
   "cell_type": "markdown",
   "id": "9c59a118",
   "metadata": {},
   "source": [
    "# A Finite Element Examples: Plate 01\n",
    "\n",
    "This example is based on the plate01 example distributed with FEM.edu\n",
    "\n",
    "## Patch test for triangular plate under in-plane loading\n",
    "\n",
    "The patch test is an empirical minimum test which every finite element has to pass to ensure convergence with mesh refinement.\n",
    "\n",
    "It consists of a problem for which a known homogeneous solution exists.  For plates, we commonly use a rectangular plate subject to homogenous edge loading, e.g., constant tension in the x-direction, or constant shear, etc.\n",
    "\n",
    "The mesh must contain distorted elements and at least one element not attached to any node on the boundary."
   ]
  },
  {
   "cell_type": "markdown",
   "id": "59ec54b3",
   "metadata": {},
   "source": [
    "## Load needed components"
   ]
  },
  {
   "cell_type": "markdown",
   "id": "606af4c0",
   "metadata": {},
   "source": [
    "We need to add the local code to the path or python won't find FEM.edu"
   ]
  },
  {
   "cell_type": "code",
   "execution_count": 1,
   "id": "87e9aa99",
   "metadata": {},
   "outputs": [],
   "source": [
    "import sys, os\n",
    "sys.path.insert(0, os.path.abspath(os.path.join(\"..\")))"
   ]
  },
  {
   "cell_type": "markdown",
   "id": "0cbe6efe",
   "metadata": {},
   "source": [
    "Now load the needed components of FEM.edu"
   ]
  },
  {
   "cell_type": "code",
   "execution_count": 2,
   "id": "8677f776",
   "metadata": {},
   "outputs": [],
   "source": [
    "from femedu.domain import *\n",
    "from femedu.solver.NewtonRaphsonSolver import *\n",
    "from femedu.elements.LinearTriangle import *\n",
    "from femedu.materials.PlaneStress import *"
   ]
  },
  {
   "cell_type": "markdown",
   "id": "e6818727",
   "metadata": {},
   "source": [
    "## Build a model"
   ]
  },
  {
   "cell_type": "code",
   "execution_count": 11,
   "id": "27c5939c",
   "metadata": {},
   "outputs": [
    {
     "data": {
      "image/png": "[encoded data removed]",
      "text/plain": [
       "<Figure size 432x288 with 1 Axes>"
      ]
     },
     "metadata": {
      "needs_background": "light"
     },
     "output_type": "display_data"
    }
   ],
   "source": [
    "# ========== setting mesh parameters ==============\n",
    "\n",
    "N = 8         # number of elements in the mesh\n",
    "Lx = 100.0    # length of plate in the x-direction\n",
    "Ly =  80.0    # length of plate in the y-direction\n",
    "\n",
    "\n",
    "# ========== setting material parameters ==============\n",
    "\n",
    "params = dict(\n",
    "    E  = 20000.,    # Young's modulus\n",
    "    nu = 0.250,     # Poisson's ratio\n",
    "    t  = 1.00       # thickness of the plate\n",
    ")\n",
    "\n",
    "# ========== setting load parameters ==============\n",
    "\n",
    "px  = 1.0         # uniform load normal to x=const\n",
    "py  = 0.0         # uniform load normal to y=const\n",
    "pxy = 0.0         # uniform shear load on x=const and y=const\n",
    "\n",
    "# ========== setting analysis parameters ==============\n",
    "\n",
    "target_load_level = 1.00     # reference load\n",
    "max_steps = 2                # number of load steps: 2 -> [0.0, 1.0]\n",
    "\n",
    "# define a list of target load levels\n",
    "load_levels = np.linspace(0, target_load_level, max_steps)\n",
    "\n",
    "#\n",
    "# ==== Build the system model ====\n",
    "#\n",
    "\n",
    "model = System()\n",
    "model.setSolver(NewtonRaphsonSolver())\n",
    "\n",
    "# create nodes\n",
    "\n",
    "nodes = (\n",
    "    Node(0.0*Lx, 0.0*Ly),  # nd 0\n",
    "    Node(0.2*Lx, 0.0*Ly),  # nd 1\n",
    "    Node(0.5*Lx, 0.0*Ly),  # nd 2\n",
    "    Node(0.7*Lx, 0.0*Ly),  # nd 3\n",
    "    Node(1.0*Lx, 0.0*Ly),  # nd 4\n",
    "    #\n",
    "    Node(0.0*Lx, 0.2*Ly),  # nd 5\n",
    "    Node(0.15*Lx,0.3*Ly),  # nd 6\n",
    "    Node(0.5*Lx, 0.2*Ly),  # nd 7\n",
    "    Node(0.8*Lx, 0.3*Ly),  # nd 8\n",
    "    Node(1.0*Lx, 0.2*Ly),  # nd 9\n",
    "    #\n",
    "    Node(0.0*Lx, 0.6*Ly),  # nd 10\n",
    "    Node(0.2*Lx, 0.5*Ly),  # nd 11\n",
    "    Node(0.7*Lx, 0.7*Ly),  # nd 12\n",
    "    Node(0.9*Lx, 0.6*Ly),  # nd 13\n",
    "    Node(1.0*Lx, 0.8*Ly),  # nd 14\n",
    "    #\n",
    "    Node(0.0*Lx, 1.0*Ly),  # nd 15\n",
    "    Node(0.3*Lx, 1.0*Ly),  # nd 16\n",
    "    Node(0.55*Lx,1.0*Ly),  # nd 17\n",
    "    Node(0.8*Lx, 1.0*Ly),  # nd 18\n",
    "    Node(1.0*Lx, 1.0*Ly),  # nd 19\n",
    ")\n",
    "\n",
    "elements = (\n",
    "    LinearTriangle(nodes[0],nodes[1],nodes[5],PlaneStress(params)),  # elem 0\n",
    "    LinearTriangle(nodes[1],nodes[2],nodes[6],PlaneStress(params)),  # elem 1\n",
    "    LinearTriangle(nodes[2],nodes[3],nodes[7],PlaneStress(params)),  # elem 2\n",
    "    LinearTriangle(nodes[3],nodes[4],nodes[8],PlaneStress(params)),  # elem 3\n",
    "    #\n",
    "    LinearTriangle(nodes[6],nodes[5],nodes[1],PlaneStress(params)),  # elem 4\n",
    "    LinearTriangle(nodes[7],nodes[6],nodes[2],PlaneStress(params)),  # elem 5\n",
    "    LinearTriangle(nodes[8],nodes[7],nodes[3],PlaneStress(params)),  # elem 6\n",
    "    LinearTriangle(nodes[9],nodes[8],nodes[4],PlaneStress(params)),  # elem 7\n",
    "    #\n",
    "    LinearTriangle(nodes[5],nodes[6],nodes[10],PlaneStress(params)),  # elem 8\n",
    "    LinearTriangle(nodes[6],nodes[7],nodes[11],PlaneStress(params)),  # elem 9\n",
    "    LinearTriangle(nodes[7],nodes[8],nodes[12],PlaneStress(params)),  # elem 10\n",
    "    LinearTriangle(nodes[8],nodes[9],nodes[13],PlaneStress(params)),  # elem 11\n",
    "    #\n",
    "    LinearTriangle(nodes[11],nodes[10],nodes[6],PlaneStress(params)),  # elem 12\n",
    "    LinearTriangle(nodes[12],nodes[11],nodes[7],PlaneStress(params)),  # elem 13\n",
    "    LinearTriangle(nodes[13],nodes[12],nodes[8],PlaneStress(params)),  # elem 14\n",
    "    LinearTriangle(nodes[14],nodes[13],nodes[9],PlaneStress(params)),  # elem 15\n",
    "    #\n",
    "    LinearTriangle(nodes[10],nodes[11],nodes[15],PlaneStress(params)),  # elem 16\n",
    "    LinearTriangle(nodes[11],nodes[12],nodes[16],PlaneStress(params)),  # elem 17\n",
    "    LinearTriangle(nodes[12],nodes[13],nodes[17],PlaneStress(params)),  # elem 18\n",
    "    LinearTriangle(nodes[13],nodes[14],nodes[18],PlaneStress(params)),  # elem 19\n",
    "    #\n",
    "    LinearTriangle(nodes[16],nodes[15],nodes[11],PlaneStress(params)),  # elem 20\n",
    "    LinearTriangle(nodes[17],nodes[16],nodes[12],PlaneStress(params)),  # elem 21\n",
    "    LinearTriangle(nodes[18],nodes[17],nodes[13],PlaneStress(params)),  # elem 22\n",
    "    LinearTriangle(nodes[19],nodes[18],nodes[14],PlaneStress(params)),  # elem 23\n",
    ")\n",
    "\n",
    "model.addNode(*nodes)\n",
    "model.addElement(*elements)\n",
    "\n",
    "# define support(s)\n",
    "\n",
    "fix_x = (0,5,10,15)\n",
    "fix_y = (0,1,2,3,4)\n",
    "\n",
    "for idx in fix_x:\n",
    "    nodes[idx].fixDOF('ux')    # horizontal support left end\n",
    "for idx in fix_y:\n",
    "    nodes[idx].fixDOF('uy')          # vertical support right end\n",
    "\n",
    "# ==== complete the reference load ====\n",
    "\n",
    "# these are only nodal forces as part of the reference load\n",
    "# .. load only the upper node\n",
    "\n",
    "#model.report()\n",
    "\n",
    "model.plot(filename=\"plate02_unloaded.png\")"
   ]
  },
  {
   "cell_type": "markdown",
   "id": "fc41d46e",
   "metadata": {},
   "source": [
    "## Analyze the model"
   ]
  },
  {
   "cell_type": "code",
   "execution_count": 4,
   "id": "d39cabf8",
   "metadata": {},
   "outputs": [
    {
     "ename": "AttributeError",
     "evalue": "'LinearTriangle' object has no attribute 'dof_list'",
     "output_type": "error",
     "traceback": [
      "\u001b[0;31m---------------------------------------------------------------------------\u001b[0m",
      "\u001b[0;31mAttributeError\u001b[0m                            Traceback (most recent call last)",
      "Input \u001b[0;32mIn [4]\u001b[0m, in \u001b[0;36m<cell line: 1>\u001b[0;34m()\u001b[0m\n\u001b[0;32m----> 1\u001b[0m \u001b[43mmodel\u001b[49m\u001b[38;5;241;43m.\u001b[39;49m\u001b[43msolve\u001b[49m\u001b[43m(\u001b[49m\u001b[43mverbose\u001b[49m\u001b[38;5;241;43m=\u001b[39;49m\u001b[38;5;28;43;01mTrue\u001b[39;49;00m\u001b[43m)\u001b[49m\n\u001b[1;32m      3\u001b[0m model\u001b[38;5;241m.\u001b[39mreport()\n",
      "File \u001b[0;32m~/Development/Educational/FEM.edu/src/femedu/domain/System.py:285\u001b[0m, in \u001b[0;36mSystem.solve\u001b[0;34m(self, **kwargs)\u001b[0m\n\u001b[1;32m    281\u001b[0m \u001b[38;5;124;03m\"\"\"\u001b[39;00m\n\u001b[1;32m    282\u001b[0m \u001b[38;5;124;03mSolve system of equations and find state of deformation for the given load level.\u001b[39;00m\n\u001b[1;32m    283\u001b[0m \u001b[38;5;124;03m\"\"\"\u001b[39;00m\n\u001b[1;32m    284\u001b[0m \u001b[38;5;28;01mif\u001b[39;00m \u001b[38;5;28mself\u001b[39m\u001b[38;5;241m.\u001b[39msolve:\n\u001b[0;32m--> 285\u001b[0m     \u001b[38;5;28;43mself\u001b[39;49m\u001b[38;5;241;43m.\u001b[39;49m\u001b[43msolver\u001b[49m\u001b[38;5;241;43m.\u001b[39;49m\u001b[43msolve\u001b[49m\u001b[43m(\u001b[49m\u001b[38;5;241;43m*\u001b[39;49m\u001b[38;5;241;43m*\u001b[39;49m\u001b[43mkwargs\u001b[49m\u001b[43m)\u001b[49m\n\u001b[1;32m    286\u001b[0m \u001b[38;5;28;01melse\u001b[39;00m:\n\u001b[1;32m    287\u001b[0m     msg \u001b[38;5;241m=\u001b[39m \u001b[38;5;124m\"\u001b[39m\u001b[38;5;124m** WARNING ** \u001b[39m\u001b[38;5;132;01m{}\u001b[39;00m\u001b[38;5;124m.\u001b[39m\u001b[38;5;132;01m{}\u001b[39;00m\u001b[38;5;124m not implemented\u001b[39m\u001b[38;5;124m\"\u001b[39m\u001b[38;5;241m.\u001b[39mformat(\u001b[38;5;28mself\u001b[39m\u001b[38;5;241m.\u001b[39m\u001b[38;5;18m__class__\u001b[39m\u001b[38;5;241m.\u001b[39m\u001b[38;5;18m__name__\u001b[39m, sys\u001b[38;5;241m.\u001b[39m_getframe()\u001b[38;5;241m.\u001b[39mf_code\u001b[38;5;241m.\u001b[39mco_name)\n",
      "File \u001b[0;32m~/Development/Educational/FEM.edu/src/femedu/solver/NewtonRaphsonSolver.py:23\u001b[0m, in \u001b[0;36mNewtonRaphsonSolver.solve\u001b[0;34m(self, max_steps, verbose, **kwargs)\u001b[0m\n\u001b[1;32m     15\u001b[0m \u001b[38;5;124;03m\"\"\"\u001b[39;00m\n\u001b[1;32m     16\u001b[0m \u001b[38;5;124;03m:param max_step: maximum number of iterations (int)\u001b[39;00m\n\u001b[1;32m     17\u001b[0m \u001b[38;5;124;03m:param verbose: set to :code:`True` for additional information\u001b[39;00m\n\u001b[1;32m     18\u001b[0m \u001b[38;5;124;03m\"\"\"\u001b[39;00m\n\u001b[1;32m     20\u001b[0m \u001b[38;5;28;01mfor\u001b[39;00m k \u001b[38;5;129;01min\u001b[39;00m \u001b[38;5;28mrange\u001b[39m(max_steps):\n\u001b[1;32m     21\u001b[0m \n\u001b[1;32m     22\u001b[0m \u001b[38;5;66;03m# compute force vector and tangent stiffness\u001b[39;00m\n\u001b[0;32m---> 23\u001b[0m     \u001b[38;5;28;43mself\u001b[39;49m\u001b[38;5;241;43m.\u001b[39;49m\u001b[43massemble\u001b[49m\u001b[43m(\u001b[49m\u001b[43m)\u001b[49m\n\u001b[1;32m     25\u001b[0m     \u001b[38;5;66;03m# we are using , force_only=False and simply reuse self.Kt from that run (!)\u001b[39;00m\n\u001b[1;32m     26\u001b[0m     normR \u001b[38;5;241m=\u001b[39m \u001b[38;5;28mself\u001b[39m\u001b[38;5;241m.\u001b[39mcheckResiduum(verbose, force_only\u001b[38;5;241m=\u001b[39m\u001b[38;5;28;01mFalse\u001b[39;00m)\n",
      "File \u001b[0;32m~/Development/Educational/FEM.edu/src/femedu/solver/NewtonRaphsonSolver.py:87\u001b[0m, in \u001b[0;36mNewtonRaphsonSolver.assemble\u001b[0;34m(self, force_only)\u001b[0m\n\u001b[1;32m     83\u001b[0m \u001b[38;5;28;01mdef\u001b[39;00m \u001b[38;5;21massemble\u001b[39m(\u001b[38;5;28mself\u001b[39m, force_only\u001b[38;5;241m=\u001b[39m\u001b[38;5;28;01mFalse\u001b[39;00m):\n\u001b[1;32m     84\u001b[0m     \u001b[38;5;124;03m\"\"\"\u001b[39;00m\n\u001b[1;32m     85\u001b[0m \u001b[38;5;124;03m    inherited from :code:`Solver` class.\u001b[39;00m\n\u001b[1;32m     86\u001b[0m \u001b[38;5;124;03m    \"\"\"\u001b[39;00m\n\u001b[0;32m---> 87\u001b[0m     \u001b[38;5;28;43msuper\u001b[39;49m\u001b[43m(\u001b[49m\u001b[43mNewtonRaphsonSolver\u001b[49m\u001b[43m,\u001b[49m\u001b[43m \u001b[49m\u001b[38;5;28;43mself\u001b[39;49m\u001b[43m)\u001b[49m\u001b[38;5;241;43m.\u001b[39;49m\u001b[43massemble\u001b[49m\u001b[43m(\u001b[49m\u001b[43mforce_only\u001b[49m\u001b[38;5;241;43m=\u001b[39;49m\u001b[43mforce_only\u001b[49m\u001b[43m)\u001b[49m\n",
      "File \u001b[0;32m~/Development/Educational/FEM.edu/src/femedu/solver/Solver.py:160\u001b[0m, in \u001b[0;36mSolver.assemble\u001b[0;34m(self, force_only)\u001b[0m\n\u001b[1;32m    158\u001b[0m \u001b[38;5;66;03m# Element Loop: assemble element forces and stiffness\u001b[39;00m\n\u001b[1;32m    159\u001b[0m \u001b[38;5;28;01mfor\u001b[39;00m element \u001b[38;5;129;01min\u001b[39;00m \u001b[38;5;28mself\u001b[39m\u001b[38;5;241m.\u001b[39melements:\n\u001b[0;32m--> 160\u001b[0m     Fe \u001b[38;5;241m=\u001b[39m \u001b[43melement\u001b[49m\u001b[38;5;241;43m.\u001b[39;49m\u001b[43mgetForce\u001b[49m\u001b[43m(\u001b[49m\u001b[43m)\u001b[49m     \u001b[38;5;66;03m# Element State Update occurs here\u001b[39;00m\n\u001b[1;32m    161\u001b[0m     Pe \u001b[38;5;241m=\u001b[39m element\u001b[38;5;241m.\u001b[39mgetLoad()      \u001b[38;5;66;03m# Element State Update occurs here\u001b[39;00m\n\u001b[1;32m    162\u001b[0m     \u001b[38;5;28;01mfor\u001b[39;00m (i,ndI) \u001b[38;5;129;01min\u001b[39;00m \u001b[38;5;28menumerate\u001b[39m(element\u001b[38;5;241m.\u001b[39mnodes):\n",
      "File \u001b[0;32m~/Development/Educational/FEM.edu/src/femedu/elements/Element.py:82\u001b[0m, in \u001b[0;36mElement.getForce\u001b[0;34m(self)\u001b[0m\n\u001b[1;32m     76\u001b[0m \u001b[38;5;28;01mdef\u001b[39;00m \u001b[38;5;21mgetForce\u001b[39m(\u001b[38;5;28mself\u001b[39m):\n\u001b[1;32m     77\u001b[0m     \u001b[38;5;124;03m\"\"\"\u001b[39;00m\n\u001b[1;32m     78\u001b[0m \u001b[38;5;124;03m    Request the internal force vector (stress driven force only; **no applied element loads**)\u001b[39;00m\n\u001b[1;32m     79\u001b[0m \n\u001b[1;32m     80\u001b[0m \u001b[38;5;124;03m    :return:\u001b[39;00m\n\u001b[1;32m     81\u001b[0m \u001b[38;5;124;03m    \"\"\"\u001b[39;00m\n\u001b[0;32m---> 82\u001b[0m     \u001b[38;5;28;43mself\u001b[39;49m\u001b[38;5;241;43m.\u001b[39;49m\u001b[43mupdateState\u001b[49m\u001b[43m(\u001b[49m\u001b[43m)\u001b[49m\n\u001b[1;32m     83\u001b[0m     \u001b[38;5;28;01mreturn\u001b[39;00m \u001b[38;5;28mself\u001b[39m\u001b[38;5;241m.\u001b[39mForces\n",
      "File \u001b[0;32m~/Development/Educational/FEM.edu/src/femedu/elements/LinearTriangle.py:60\u001b[0m, in \u001b[0;36mLinearTriangle.updateState\u001b[0;34m(self)\u001b[0m\n\u001b[1;32m     56\u001b[0m Gu \u001b[38;5;241m=\u001b[39m \u001b[38;5;241m-\u001b[39mGs \u001b[38;5;241m-\u001b[39m Gt\n\u001b[1;32m     58\u001b[0m \u001b[38;5;66;03m# covariant base vectors (current system)\u001b[39;00m\n\u001b[0;32m---> 60\u001b[0m gs \u001b[38;5;241m=\u001b[39m node1\u001b[38;5;241m.\u001b[39mgetDeformedPos(\u001b[38;5;28;43mself\u001b[39;49m\u001b[38;5;241;43m.\u001b[39;49m\u001b[43mdof_list\u001b[49m) \u001b[38;5;241m-\u001b[39m node0\u001b[38;5;241m.\u001b[39mgetDeformedPos(\u001b[38;5;28mself\u001b[39m\u001b[38;5;241m.\u001b[39mdof_list)\n\u001b[1;32m     61\u001b[0m gt \u001b[38;5;241m=\u001b[39m node2\u001b[38;5;241m.\u001b[39mgetDeformedPos(\u001b[38;5;28mself\u001b[39m\u001b[38;5;241m.\u001b[39mdof_list) \u001b[38;5;241m-\u001b[39m node0\u001b[38;5;241m.\u001b[39mgetDeformedPos(\u001b[38;5;28mself\u001b[39m\u001b[38;5;241m.\u001b[39mdof_list)\n\u001b[1;32m     62\u001b[0m gu \u001b[38;5;241m=\u001b[39m \u001b[38;5;241m-\u001b[39mgs \u001b[38;5;241m-\u001b[39m gt\n",
      "\u001b[0;31mAttributeError\u001b[0m: 'LinearTriangle' object has no attribute 'dof_list'"
     ]
    }
   ],
   "source": [
    "\n",
    "model.solve(verbose=True)\n",
    "\n",
    "model.report()\n"
   ]
  },
  {
   "cell_type": "code",
   "execution_count": null,
   "id": "95bd9427",
   "metadata": {},
   "outputs": [],
   "source": [
    "# create plots\n",
    "\n",
    "model.plot(factor=1000.0, filename=\"frame1_deformed.png\")\n",
    "\n",
    "model.beamValuePlot(\"F\", filename=\"frame1_force.png\")\n",
    "model.beamValuePlot(\"M\", filename=\"frame1_moment.png\")\n",
    "model.beamValuePlot(\"V\", filename=\"frame1_shear.png\")"
   ]
  },
  {
   "cell_type": "markdown",
   "id": "9dc16de0",
   "metadata": {},
   "source": [
    "## Stability Analysis"
   ]
  },
  {
   "cell_type": "code",
   "execution_count": null,
   "id": "b9aff45d",
   "metadata": {},
   "outputs": [],
   "source": [
    "# initialize the analysis:\n",
    "model.resetDisplacements()   # set U to all zeros\n",
    "model.initRecorder()         # sets variables to track; \n",
    "                             # defaults are load_level and stability index\n",
    "\n",
    "model.setLoadFactor(0.0)     # define a known equilibrium solution\n",
    "\n",
    "model.startRecorder()        # this starts the recording of requested variables\n",
    "\n",
    "model.trackStability(True)   # this adds a stability check every recordThisStep()\n",
    "\n",
    "# solve for all load_levels\n",
    "for loadfactor in load_levels:\n",
    "\n",
    "    # define node X2 as the controled node; downward direction is prescribed:\n",
    "    model.setLoadFactor(loadfactor)\n",
    "    model.solve(verbose=True)\n",
    "\n",
    "    # stability check\n",
    "    model.recordThisStep()   # run stability check and record history\n",
    "\n",
    "    print(\"\\n=== next load level ===\\n\")\n"
   ]
  },
  {
   "cell_type": "code",
   "execution_count": null,
   "id": "e4f97d43",
   "metadata": {},
   "outputs": [],
   "source": [
    "#\n",
    "# ==== check the current state of the model ===\n",
    "#\n",
    "\n",
    "model.report()"
   ]
  },
  {
   "cell_type": "code",
   "execution_count": null,
   "id": "92a5aa49",
   "metadata": {},
   "outputs": [],
   "source": [
    "#\n",
    "# ==== create some nice plots ===\n",
    "#       \n",
    "model.plot(factor=1.0)\n",
    "\n",
    "model.beamValuePlot(\"F\")\n",
    "model.beamValuePlot(\"M\")\n",
    "model.beamValuePlot(\"V\")\n",
    "\n",
    "model.historyPlot('stability')\n",
    "model.plotBucklingMode(factor=10., filename=\"frame1_buckling_mode0.png\")\n"
   ]
  },
  {
   "cell_type": "code",
   "execution_count": null,
   "id": "7c341f5c",
   "metadata": {},
   "outputs": [],
   "source": []
  }
 ],
 "metadata": {
  "kernelspec": {
   "display_name": "Python 3 (ipykernel)",
   "language": "python",
   "name": "python3"
  },
  "language_info": {
   "codemirror_mode": {
    "name": "ipython",
    "version": 3
   },
   "file_extension": ".py",
   "mimetype": "text/x-python",
   "name": "python",
   "nbconvert_exporter": "python",
   "pygments_lexer": "ipython3",
   "version": "3.10.8"
  }
 },
 "nbformat": 4,
 "nbformat_minor": 5
}
