{
 "cells": [
  {
   "cell_type": "markdown",
   "id": "9c59a118",
   "metadata": {},
   "source": [
    "# A Finite Element Examples: Beam 01\n",
    "\n",
    "This example is based on the beam01 example distributed with FEM.edu\n",
    "\n",
    "Class demo"
   ]
  },
  {
   "cell_type": "markdown",
   "id": "59ec54b3",
   "metadata": {},
   "source": [
    "## Load needed components"
   ]
  },
  {
   "cell_type": "markdown",
   "id": "606af4c0",
   "metadata": {},
   "source": [
    "We need to add the local code to the path or python won't find FEM.edu"
   ]
  },
  {
   "cell_type": "code",
   "execution_count": 1,
   "id": "87e9aa99",
   "metadata": {},
   "outputs": [],
   "source": [
    "import sys, os\n",
    "sys.path.insert(0, os.path.abspath(os.path.join(\"..\")))"
   ]
  },
  {
   "cell_type": "markdown",
   "id": "0cbe6efe",
   "metadata": {},
   "source": [
    "Now load the needed components of FEM.edu"
   ]
  },
  {
   "cell_type": "code",
   "execution_count": 2,
   "id": "8677f776",
   "metadata": {},
   "outputs": [],
   "source": [
    "from femedu.domain import *\n",
    "from femedu.elements.Beam2D import *\n",
    "from femedu.materials.ElasticSection import ElasticSection"
   ]
  },
  {
   "cell_type": "markdown",
   "id": "e6818727",
   "metadata": {},
   "source": [
    "## Build a model"
   ]
  },
  {
   "cell_type": "code",
   "execution_count": 3,
   "id": "bc78b102",
   "metadata": {},
   "outputs": [],
   "source": [
    "# initialize a system model\n",
    "SpanLength = 10.0 * 12\n",
    "w =  -1.0   # distributed load (positive if acting in local y-direction\n",
    "P =   -40.0   # center point load (uses global system)\n",
    "\n",
    "Nelems = 4    # number of elements\n",
    "params = {'E': 29000., 'A': 4.7, 'I':103}\n",
    "\n",
    "model = System()\n",
    "\n",
    "# meshing parameters\n",
    "Le = SpanLength / Nelems\n",
    "Xnode = 0.0\n",
    "Ynode = 0.0\n",
    "\n",
    "# create left node\n",
    "nd0 = Node(Xnode, Ynode)\n",
    "model += nd0\n",
    "\n",
    "ndP = None\n",
    "\n",
    "# initialization for node and element creation\n",
    "ndi = nd0\n",
    "\n",
    "for e in range(Nelems):\n",
    "    # create next node\n",
    "    Xnode += Le\n",
    "    ndj = Node(Xnode, Ynode)\n",
    "    model += ndj\n",
    "\n",
    "    # remember center node for loading\n",
    "    if Xnode <= SpanLength/2:\n",
    "        ndP = ndj\n",
    "\n",
    "    # create elements\n",
    "    elem = Beam2D(ndi, ndj, ElasticSection(params))\n",
    "    model += elem\n",
    "\n",
    "    # load the element\n",
    "    elem.setDistLoad(w)\n",
    "\n",
    "    # shift one node to the right\n",
    "    ndi = ndj\n",
    "\n",
    "# define support(s)\n",
    "nd0.fixDOF('ux', 'uy')     # pin support left end\n",
    "ndj.fixDOF('uy')           # roller support right end\n",
    "\n",
    "# add point loads\n",
    "# .. load only the center node\n",
    "if ndP:\n",
    "    ndP.setLoad([0.0, P], ('ux', 'uy'))"
   ]
  },
  {
   "cell_type": "markdown",
   "id": "276098a2",
   "metadata": {},
   "source": [
    "## Solve the system equations"
   ]
  },
  {
   "cell_type": "code",
   "execution_count": 4,
   "id": "af76d42f",
   "metadata": {},
   "outputs": [],
   "source": [
    "# analyze the model\n",
    "model.solve()"
   ]
  },
  {
   "cell_type": "code",
   "execution_count": 5,
   "id": "82af083c",
   "metadata": {},
   "outputs": [
    {
     "name": "stdout",
     "output_type": "stream",
     "text": [
      "\n",
      "System Analysis Report\n",
      "=======================\n",
      "\n",
      "Nodes:\n",
      "---------------------\n",
      "  Node 0: {'uy': 0, 'rz': 1}\n",
      "          x:[0. 0.], fix:['ux', 'uy'], \n",
      "          P:[0. 0.], u:[ 0.         -0.03615668]\n",
      "  Node 1: {'uy': 0, 'rz': 1}\n",
      "          x:[30.  0.], fix:[], \n",
      "          P:[0. 0.], u:[-0.97547707 -0.02561098]\n",
      "  Node 2: {'uy': 0, 'rz': 1}\n",
      "          x:[60.  0.], fix:[], \n",
      "          P:[-40.   0.], u:[-1.38600603e+00 -1.37017950e-17]\n",
      "  Node 3: {'uy': 0, 'rz': 1}\n",
      "          x:[90.  0.], fix:[], \n",
      "          P:[0. 0.], u:[-0.97547707  0.02561098]\n",
      "  Node 4: {'uy': 0, 'rz': 1}\n",
      "          x:[120.   0.], fix:['uy'], \n",
      "          P:[0. 0.], u:[0.         0.03615668]\n",
      "\n",
      "Elements:\n",
      "---------------------\n",
      "  Beam2D: node 0 to node 1:\n",
      "     material ElasticSection properties: {'E': 29000.0, 'A': 4.7, 'I': 103, 'nu': 0.0, 'fy': 1e+30}  strain:{'axial': 0.0, 'flexure': 0.0}   stress:{'axial': 0.0, 'flexure': 0.0}\n",
      "     nodal forces: Vi:65.0 Mi:-74.99999999999909 Vj:-65.0 Mj:2024.999999999989\n",
      "  Beam2D: node 1 to node 2:\n",
      "     material ElasticSection properties: {'E': 29000.0, 'A': 4.7, 'I': 103, 'nu': 0.0, 'fy': 1e+30}  strain:{'axial': 0.0, 'flexure': 0.0}   stress:{'axial': 0.0, 'flexure': 0.0}\n",
      "     nodal forces: Vi:34.999999999999886 Mi:-2024.9999999999864 Vj:-34.999999999999886 Mj:3074.999999999981\n",
      "  Beam2D: node 2 to node 3:\n",
      "     material ElasticSection properties: {'E': 29000.0, 'A': 4.7, 'I': 103, 'nu': 0.0, 'fy': 1e+30}  strain:{'axial': 0.0, 'flexure': 0.0}   stress:{'axial': 0.0, 'flexure': 0.0}\n",
      "     nodal forces: Vi:-34.999999999999716 Mi:-3074.99999999998 Vj:34.999999999999716 Mj:2024.9999999999936\n",
      "  Beam2D: node 3 to node 4:\n",
      "     material ElasticSection properties: {'E': 29000.0, 'A': 4.7, 'I': 103, 'nu': 0.0, 'fy': 1e+30}  strain:{'axial': 0.0, 'flexure': 0.0}   stress:{'axial': 0.0, 'flexure': 0.0}\n",
      "     nodal forces: Vi:-65.00000000000023 Mi:-2024.9999999999936 Vj:65.00000000000023 Mj:74.99999999999818\n",
      "\n"
     ]
    }
   ],
   "source": [
    "# get a lot of info on the analysis\n",
    "model.report()"
   ]
  },
  {
   "cell_type": "code",
   "execution_count": 5,
   "id": "95bd9427",
   "metadata": {},
   "outputs": [
    {
     "data": {
      "image/png": "[encoded data removed]",
      "text/plain": [
       "<Figure size 432x288 with 1 Axes>"
      ]
     },
     "metadata": {
      "needs_background": "light"
     },
     "output_type": "display_data"
    },
    {
     "data": {
      "image/png": "[encoded data removed]",
      "text/plain": [
       "<Figure size 432x288 with 1 Axes>"
      ]
     },
     "metadata": {
      "needs_background": "light"
     },
     "output_type": "display_data"
    },
    {
     "data": {
      "image/png": "[encoded data removed]",
      "text/plain": [
       "<Figure size 432x288 with 1 Axes>"
      ]
     },
     "metadata": {
      "needs_background": "light"
     },
     "output_type": "display_data"
    }
   ],
   "source": [
    "# create plots\n",
    "model.plot(factor=10., filename=\"beam01_deformed.png\")\n",
    "\n",
    "model.beamValuePlot('V', filename=\"beam01_shear.png\")\n",
    "model.beamValuePlot('M', filename=\"beam01_moment.png\")"
   ]
  },
  {
   "cell_type": "code",
   "execution_count": 6,
   "id": "8bbe3a2b",
   "metadata": {},
   "outputs": [
    {
     "name": "stdout",
     "output_type": "stream",
     "text": [
      "Node 2: {'uy': 0, 'rz': 1}\n",
      "        x:[60.  0.], fix:[], \n",
      "        P:[-40.   0.], u:[-1.38600603e+00 -1.37017950e-17]\n"
     ]
    }
   ],
   "source": [
    "# extracting information for a single node\n",
    "print(ndP)"
   ]
  }
 ],
 "metadata": {
  "kernelspec": {
   "display_name": "Python 3 (ipykernel)",
   "language": "python",
   "name": "python3"
  },
  "language_info": {
   "codemirror_mode": {
    "name": "ipython",
    "version": 3
   },
   "file_extension": ".py",
   "mimetype": "text/x-python",
   "name": "python",
   "nbconvert_exporter": "python",
   "pygments_lexer": "ipython3",
   "version": "3.10.8"
  }
 },
 "nbformat": 4,
 "nbformat_minor": 5
}
