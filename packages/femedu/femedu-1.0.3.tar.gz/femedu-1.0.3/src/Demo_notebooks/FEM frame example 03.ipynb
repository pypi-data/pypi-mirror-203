{
 "cells": [
  {
   "cell_type": "markdown",
   "id": "9c59a118",
   "metadata": {},
   "source": [
    "# A Finite Element Examples: Frame 05\n",
    "\n",
    "This example is based on the frame03 example distributed with FEM.edu\n",
    "\n",
    "This is a single story-single bay frame system."
   ]
  },
  {
   "cell_type": "markdown",
   "id": "59ec54b3",
   "metadata": {},
   "source": [
    "## Load needed components"
   ]
  },
  {
   "cell_type": "markdown",
   "id": "606af4c0",
   "metadata": {},
   "source": [
    "We need to add the local code to the path or python won't find FEM.edu"
   ]
  },
  {
   "cell_type": "code",
   "execution_count": 1,
   "id": "87e9aa99",
   "metadata": {},
   "outputs": [],
   "source": [
    "import sys, os\n",
    "sys.path.insert(0, os.path.abspath(os.path.join(\"..\")))"
   ]
  },
  {
   "cell_type": "markdown",
   "id": "0cbe6efe",
   "metadata": {},
   "source": [
    "Now load the needed components of FEM.edu"
   ]
  },
  {
   "cell_type": "code",
   "execution_count": 2,
   "id": "8677f776",
   "metadata": {},
   "outputs": [],
   "source": [
    "from femedu.domain import *\n",
    "from femedu.solver.NewtonRaphsonSolver import *\n",
    "from femedu.elements.Frame2D import *\n",
    "from femedu.materials.ElasticSection import *"
   ]
  },
  {
   "cell_type": "markdown",
   "id": "e6818727",
   "metadata": {},
   "source": [
    "## Build a model"
   ]
  },
  {
   "cell_type": "code",
   "execution_count": 3,
   "id": "e62cf3a9",
   "metadata": {},
   "outputs": [],
   "source": [
    "# initialize a system model\n",
    "\n",
    "B = 240.\n",
    "H = 200.\n",
    "\n",
    "E  = 29000.0\n",
    "\n",
    "Ac = 20.0\n",
    "Ic = 10.0\n",
    "\n",
    "Af = 20.0\n",
    "If = 10.0\n",
    "\n",
    "w = 1.0\n",
    "\n",
    "Ph = 0.00      # additional horizontal load per floor (imperfection)\n",
    "\n",
    "# ========== setting global parameters ==============\n",
    "\n",
    "target_load_level = 1.00\n",
    "max_steps = 10\n",
    "load_levels = np.linspace(0, target_load_level, max_steps)\n",
    "\n",
    "# ========= build your structural model =============\n",
    "\n",
    "model = System()\n",
    "model.setSolver(NewtonRaphsonSolver())\n",
    "\n",
    "x1 = 0.0\n",
    "x2 = B\n",
    "x3 = 2*B\n",
    "x4 = 0.5*B\n",
    "x5 = 1.5*B\n",
    "\n",
    "y0 = 0.0\n",
    "y1 = H \n",
    "y2 = 2 * H\n",
    "\n",
    "# first column\n",
    "X10 = Node(x1, y0)\n",
    "X11 = Node(x1, y1)\n",
    "X12 = Node(x1, y2)\n",
    "\n",
    "# second column\n",
    "X20 = Node(x2, y0)\n",
    "X21 = Node(x2, y1)\n",
    "X22 = Node(x2, y2)\n",
    "\n",
    "# third column\n",
    "X30 = Node(x3, y0)\n",
    "X31 = Node(x3, y1)\n",
    "X32 = Node(x3, y2)\n",
    "\n",
    "# 4th (virtual) column\n",
    "X41 = Node(x4, y1)\n",
    "X42 = Node(x4, y2)\n",
    "\n",
    "# 5th (virtuial) column\n",
    "X51 = Node(x5, y1)\n",
    "X52 = Node(x5, y2)\n",
    "\n",
    "model.addNode(X10,X11,X12)\n",
    "model.addNode(X20,X21,X22)\n",
    "model.addNode(X30,X31,X32)\n",
    "model.addNode(X41,X42)\n",
    "model.addNode(X51,X52)\n",
    "\n",
    "# columns\n",
    "\n",
    "paramsCol   = {'E': E, 'A': Ac, 'I': Ic}\n",
    "\n",
    "C10 = Frame2D(X10, X11, ElasticSection(paramsCol))\n",
    "C11 = Frame2D(X11, X12, ElasticSection(paramsCol))\n",
    "\n",
    "C20 = Frame2D(X20, X21, ElasticSection(paramsCol))\n",
    "C21 = Frame2D(X21, X22, ElasticSection(paramsCol))\n",
    "\n",
    "model += Frame2D(X30, X31, ElasticSection(paramsCol))\n",
    "model += Frame2D(X31, X32, ElasticSection(paramsCol))\n",
    "\n",
    "model.addElement(C10,C11, C20,C21)\n",
    "\n",
    "# floors\n",
    "\n",
    "paramsFloor = {'E': E, 'A': Af, 'I': If}\n",
    "\n",
    "F11 = Frame2D(X11, X41, ElasticSection(paramsFloor))\n",
    "F12 = Frame2D(X41, X21, ElasticSection(paramsFloor))\n",
    "F13 = Frame2D(X21, X51, ElasticSection(paramsFloor))\n",
    "F14 = Frame2D(X51, X31, ElasticSection(paramsFloor))\n",
    "\n",
    "model.addElement(F11,F12,F13,F14)\n",
    "\n",
    "F21 = Frame2D(X12, X42, ElasticSection(paramsFloor))\n",
    "F22 = Frame2D(X42, X22, ElasticSection(paramsFloor))\n",
    "F23 = Frame2D(X22, X52, ElasticSection(paramsFloor))\n",
    "F24 = Frame2D(X52, X32, ElasticSection(paramsFloor))\n",
    "\n",
    "model.addElement(F21,F22,F23,F24)\n",
    "\n",
    "# fixities\n",
    "X10.fixDOF('ux','uy')        # pin\n",
    "X20.fixDOF('ux','uy','rz')   # fixed\n",
    "X30.fixDOF('ux','uy')        # pin\n",
    "\n",
    "# reference load\n",
    "#Pcr = np.pi**2 * EI / L**2\n",
    "model.resetLoad()            # size load vector and initialize\n",
    "#model.addLoad(Xn, -Pcr, dof=0) # add a horizontal force (first dof only) ; remember C-style indexing: 0,1,...,(n-1)\n",
    "\n",
    "\n",
    "# floor loading as distributed loads ...\n",
    "\n",
    "F11.setDistLoad(-w)\n",
    "F12.setDistLoad(-w)\n",
    "F23.setDistLoad(-w)\n",
    "F24.setDistLoad(-w)\n",
    "\n",
    "\n",
    "# wind load ...\n",
    "\n",
    "#X11.addLoad([Ph],['ux'])   # horizontal load\n",
    "\n",
    "\n",
    "# show model information\n",
    "#print(model)\n",
    "\n"
   ]
  },
  {
   "cell_type": "markdown",
   "id": "9dc16de0",
   "metadata": {},
   "source": [
    "## Path-Following and Stability Analysis"
   ]
  },
  {
   "cell_type": "code",
   "execution_count": 4,
   "id": "b9aff45d",
   "metadata": {},
   "outputs": [
    {
     "name": "stdout",
     "output_type": "stream",
     "text": [
      "norm of the out-of-balance force:   0.0000e+00\n",
      "+\n",
      "\n",
      " ** Stability check: (smallest eigenvalue of Kt) = 0.03379264486689718\n",
      "\n",
      "+\n",
      "\n",
      "=== next load level ===\n",
      "\n",
      "norm of the out-of-balance force:   2.6766e+01\n",
      "norm of the out-of-balance force:   7.0019e-01\n",
      "norm of the out-of-balance force:   3.8632e-04\n",
      "norm of the out-of-balance force:   2.5328e-07\n",
      "+\n",
      "\n",
      " ** Stability check: (smallest eigenvalue of Kt) = 0.03184240213712757\n",
      "\n",
      "+\n",
      "\n",
      "=== next load level ===\n",
      "\n",
      "norm of the out-of-balance force:   2.6766e+01\n",
      "norm of the out-of-balance force:   1.4243e+00\n",
      "norm of the out-of-balance force:   1.6782e-03\n",
      "norm of the out-of-balance force:   2.2462e-06\n",
      "norm of the out-of-balance force:   1.0169e-08\n",
      "+\n",
      "\n",
      " ** Stability check: (smallest eigenvalue of Kt) = 0.02987637478306606\n",
      "\n",
      "+\n",
      "\n",
      "=== next load level ===\n",
      "\n",
      "norm of the out-of-balance force:   2.6766e+01\n",
      "norm of the out-of-balance force:   2.1738e+00\n",
      "norm of the out-of-balance force:   4.1562e-03\n",
      "norm of the out-of-balance force:   8.5223e-06\n",
      "norm of the out-of-balance force:   5.5035e-08\n",
      "+\n",
      "\n",
      " ** Stability check: (smallest eigenvalue of Kt) = 0.027893403189845026\n",
      "\n",
      "+\n",
      "\n",
      "=== next load level ===\n",
      "\n",
      "norm of the out-of-balance force:   2.6766e+01\n",
      "norm of the out-of-balance force:   2.9488e+00\n",
      "norm of the out-of-balance force:   8.0072e-03\n",
      "norm of the out-of-balance force:   2.4229e-05\n",
      "norm of the out-of-balance force:   3.0119e-07\n",
      "+\n",
      "\n",
      " ** Stability check: (smallest eigenvalue of Kt) = 0.025892737200483303\n",
      "\n",
      "+\n",
      "\n",
      "=== next load level ===\n",
      "\n",
      "norm of the out-of-balance force:   2.6766e+01\n",
      "norm of the out-of-balance force:   3.7536e+00\n",
      "norm of the out-of-balance force:   1.4292e-02\n",
      "norm of the out-of-balance force:   5.6747e-05\n",
      "norm of the out-of-balance force:   7.1436e-07\n",
      "+\n",
      "\n",
      " ** Stability check: (smallest eigenvalue of Kt) = 0.023872207607355662\n",
      "\n",
      "+\n",
      "\n",
      "=== next load level ===\n",
      "\n",
      "norm of the out-of-balance force:   2.6766e+01\n",
      "norm of the out-of-balance force:   4.5878e+00\n",
      "norm of the out-of-balance force:   2.4118e-02\n",
      "norm of the out-of-balance force:   1.2028e-04\n",
      "norm of the out-of-balance force:   1.6423e-06\n",
      "norm of the out-of-balance force:   2.4736e-08\n",
      "+\n",
      "\n",
      " ** Stability check: (smallest eigenvalue of Kt) = 0.021830578191301513\n",
      "\n",
      "+\n",
      "\n",
      "=== next load level ===\n",
      "\n",
      "norm of the out-of-balance force:   2.6766e+01\n",
      "norm of the out-of-balance force:   5.4542e+00\n",
      "norm of the out-of-balance force:   3.9666e-02\n",
      "norm of the out-of-balance force:   2.4252e-04\n",
      "norm of the out-of-balance force:   3.4279e-06\n",
      "norm of the out-of-balance force:   5.1184e-08\n",
      "+\n",
      "\n",
      " ** Stability check: (smallest eigenvalue of Kt) = 0.019766144251869053\n",
      "\n",
      "+\n",
      "\n",
      "=== next load level ===\n",
      "\n",
      "norm of the out-of-balance force:   2.6766e+01\n",
      "norm of the out-of-balance force:   6.3554e+00\n",
      "norm of the out-of-balance force:   6.4917e-02\n",
      "norm of the out-of-balance force:   4.7910e-04\n",
      "norm of the out-of-balance force:   6.7488e-06\n",
      "norm of the out-of-balance force:   1.3261e-07\n",
      "+\n",
      "\n",
      " ** Stability check: (smallest eigenvalue of Kt) = 0.017677019468273922\n",
      "\n",
      "+\n",
      "\n",
      "=== next load level ===\n",
      "\n",
      "norm of the out-of-balance force:   2.6766e+01\n",
      "norm of the out-of-balance force:   7.2950e+00\n",
      "norm of the out-of-balance force:   1.0750e-01\n",
      "norm of the out-of-balance force:   9.5236e-04\n",
      "norm of the out-of-balance force:   1.3033e-05\n",
      "norm of the out-of-balance force:   3.4362e-07\n",
      "+\n",
      "\n",
      " ** Stability check: (smallest eigenvalue of Kt) = 0.015561114164727316\n",
      "\n",
      "+\n",
      "\n",
      "=== next load level ===\n",
      "\n",
      "[0.0, 0.011111111111111112, 0.022222222222222223, 0.03333333333333333, 0.044444444444444446, 0.05555555555555556, 0.06666666666666667, 0.07777777777777778, 0.08888888888888889, 0.1]\n",
      "[0.03379264486689718, 0.03184240213712757, 0.02987637478306606, 0.027893403189845026, 0.025892737200483303, 0.023872207607355662, 0.021830578191301513, 0.019766144251869053, 0.017677019468273922, 0.015561114164727316]\n"
     ]
    }
   ],
   "source": [
    "\n",
    "\n",
    "target_load_level = 0.10\n",
    "max_steps = 10\n",
    "load_levels = np.linspace(0, target_load_level, max_steps)\n",
    "\n",
    "# initialize the analysis:\n",
    "model.resetDisplacements()   # set U to all zeros\n",
    "model.setLoadFactor(0.0)     # define a known equilibrium solution\n",
    "\n",
    "model.startRecorder()        # not doing anything yet, but will do the data collection soon\n",
    "\n",
    "detKt   = []\n",
    "lambdas = []\n",
    "\n",
    "# solve for all load_levels\n",
    "for loadfactor in load_levels:\n",
    "\n",
    "    # define node X2 as the controled node; downward direction is prescribed:\n",
    "    model.setLoadFactor(loadfactor)\n",
    "    model.solve(verbose=True)\n",
    "\n",
    "    # stability check\n",
    "    lambdas.append(model.loadfactor)\n",
    "    detKt.append(model.solver.checkStability())\n",
    "\n",
    "    # report results\n",
    "    print('+')\n",
    "    #model.report()\n",
    "\n",
    "    print(\"\\n=== next load level ===\\n\")\n",
    "    \n",
    "\n",
    "print(lambdas)\n",
    "print(detKt)\n"
   ]
  },
  {
   "cell_type": "code",
   "execution_count": 5,
   "id": "e4f97d43",
   "metadata": {},
   "outputs": [],
   "source": [
    "#\n",
    "# ==== check the current state of the model ===\n",
    "#\n",
    "\n",
    "#model.report()"
   ]
  },
  {
   "cell_type": "code",
   "execution_count": 6,
   "id": "92a5aa49",
   "metadata": {},
   "outputs": [
    {
     "data": {
      "image/png": "[encoded data removed]",
      "text/plain": [
       "<Figure size 432x288 with 1 Axes>"
      ]
     },
     "metadata": {
      "needs_background": "light"
     },
     "output_type": "display_data"
    },
    {
     "data": {
      "image/png": "[encoded data removed]",
      "text/plain": [
       "<Figure size 432x288 with 1 Axes>"
      ]
     },
     "metadata": {
      "needs_background": "light"
     },
     "output_type": "display_data"
    },
    {
     "data": {
      "image/png": "[encoded data removed]",
      "text/plain": [
       "<Figure size 432x288 with 1 Axes>"
      ]
     },
     "metadata": {
      "needs_background": "light"
     },
     "output_type": "display_data"
    },
    {
     "data": {
      "image/png": "[encoded data removed]",
      "text/plain": [
       "<Figure size 432x288 with 1 Axes>"
      ]
     },
     "metadata": {
      "needs_background": "light"
     },
     "output_type": "display_data"
    },
    {
     "data": {
      "image/png": "[encoded data removed]",
      "text/plain": [
       "<Figure size 432x288 with 1 Axes>"
      ]
     },
     "metadata": {
      "needs_background": "light"
     },
     "output_type": "display_data"
    },
    {
     "data": {
      "image/png": "[encoded data removed]",
      "text/plain": [
       "<Figure size 432x288 with 1 Axes>"
      ]
     },
     "metadata": {
      "needs_background": "light"
     },
     "output_type": "display_data"
    }
   ],
   "source": [
    "#\n",
    "# ==== create some nice plots ===\n",
    "#\n",
    "\n",
    "plt.plot(lambdas,detKt,'--*r')\n",
    "plt.grid(True)\n",
    "plt.xlabel('Load factor, $ \\lambda $')\n",
    "plt.ylabel(\"Stability index, $ {det}\\: {\\\\bf K}_t $\")\n",
    "plt.savefig(\"frame3_stability_check\")\n",
    "plt.show()\n",
    "\n",
    "model.plot(factor=1.0, filename=\"frame5_deformed.png\")\n",
    "\n",
    "model.beamValuePlot(\"F\", filename=\"frame5_force.png\")\n",
    "model.beamValuePlot(\"M\", filename=\"frame5_moment.png\")\n",
    "model.beamValuePlot(\"V\", filename=\"frame5_shear.png\")\n",
    "\n",
    "model.plotBucklingMode(factor=100., filename=\"frame5_buckling_mode0.png\")\n"
   ]
  },
  {
   "cell_type": "code",
   "execution_count": 7,
   "id": "3e4d7e1c",
   "metadata": {},
   "outputs": [
    {
     "name": "stdout",
     "output_type": "stream",
     "text": [
      "Frame2D: node 3 to node 4:\n",
      "   material properties: ElasticSection(Material)({'E': 29000.0, 'A': 20.0, 'I': 10.0, 'nu': 0.0, 'fy': 1e+30})  strain:{'axial': -4.4776710968478534e-05, 'flexure': 0.0}   stress:{'axial': -25.97049236171755, 'flexure': 0.0}  \n",
      "   internal forces: f0=-25.97 V0=1.25 M0=-52.92 fl=-25.97 Vl=1.25 Ml=141.75 Pw=0.00 Mw=0.00\n"
     ]
    }
   ],
   "source": [
    "print(C20)"
   ]
  },
  {
   "cell_type": "code",
   "execution_count": null,
   "id": "8e23a43a",
   "metadata": {},
   "outputs": [],
   "source": []
  }
 ],
 "metadata": {
  "kernelspec": {
   "display_name": "Python 3 (ipykernel)",
   "language": "python",
   "name": "python3"
  },
  "language_info": {
   "codemirror_mode": {
    "name": "ipython",
    "version": 3
   },
   "file_extension": ".py",
   "mimetype": "text/x-python",
   "name": "python",
   "nbconvert_exporter": "python",
   "pygments_lexer": "ipython3",
   "version": "3.10.8"
  }
 },
 "nbformat": 4,
 "nbformat_minor": 5
}
