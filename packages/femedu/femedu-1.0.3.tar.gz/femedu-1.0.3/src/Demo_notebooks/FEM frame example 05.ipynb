{
 "cells": [
  {
   "cell_type": "markdown",
   "id": "9c59a118",
   "metadata": {},
   "source": [
    "# A Finite Element Examples: Frame 05\n",
    "\n",
    "This example is based on the frame04 example distributed with FEM.edu\n",
    "\n",
    "This is a multi story frame system with three bays on each floor."
   ]
  },
  {
   "cell_type": "markdown",
   "id": "59ec54b3",
   "metadata": {},
   "source": [
    "## Load needed components"
   ]
  },
  {
   "cell_type": "markdown",
   "id": "606af4c0",
   "metadata": {},
   "source": [
    "We need to add the local code to the path or python won't find FEM.edu"
   ]
  },
  {
   "cell_type": "code",
   "execution_count": 1,
   "id": "87e9aa99",
   "metadata": {},
   "outputs": [],
   "source": [
    "import sys, os\n",
    "sys.path.insert(0, os.path.abspath(os.path.join(\"..\")))"
   ]
  },
  {
   "cell_type": "markdown",
   "id": "0cbe6efe",
   "metadata": {},
   "source": [
    "Now load the needed components of FEM.edu"
   ]
  },
  {
   "cell_type": "code",
   "execution_count": 2,
   "id": "8677f776",
   "metadata": {},
   "outputs": [],
   "source": [
    "from femedu.domain import *\n",
    "from femedu.solver.NewtonRaphsonSolver import *\n",
    "from femedu.elements.Frame2D import *\n",
    "from femedu.materials.ElasticSection import *"
   ]
  },
  {
   "cell_type": "markdown",
   "id": "e6818727",
   "metadata": {},
   "source": [
    "## Build a model"
   ]
  },
  {
   "cell_type": "code",
   "execution_count": 3,
   "id": "e62cf3a9",
   "metadata": {},
   "outputs": [
    {
     "name": "stdout",
     "output_type": "stream",
     "text": [
      "System object\n",
      "Node0({'ux': 0, 'uy': 1, 'rz': 2}, x=[0. 0.], u=None)\n",
      "Node1({'ux': 0, 'uy': 1, 'rz': 2}, x=[  0. 180.], u=None)\n",
      "Node2({'ux': 0, 'uy': 1, 'rz': 2}, x=[  0. 360.], u=None)\n",
      "Node3({'ux': 0, 'uy': 1, 'rz': 2}, x=[  0. 540.], u=None)\n",
      "Node4({'ux': 0, 'uy': 1, 'rz': 2}, x=[  0. 720.], u=None)\n",
      "Node5({'ux': 0, 'uy': 1, 'rz': 2}, x=[240.   0.], u=None)\n",
      "Node6({'ux': 0, 'uy': 1, 'rz': 2}, x=[240. 180.], u=None)\n",
      "Node7({'ux': 0, 'uy': 1, 'rz': 2}, x=[240. 360.], u=None)\n",
      "Node8({'ux': 0, 'uy': 1, 'rz': 2}, x=[240. 540.], u=None)\n",
      "Node9({'ux': 0, 'uy': 1, 'rz': 2}, x=[240. 720.], u=None)\n",
      "Node10({'ux': 0, 'uy': 1, 'rz': 2}, x=[480.   0.], u=None)\n",
      "Node11({'ux': 0, 'uy': 1, 'rz': 2}, x=[480. 180.], u=None)\n",
      "Node12({'ux': 0, 'uy': 1, 'rz': 2}, x=[480. 360.], u=None)\n",
      "Node13({'ux': 0, 'uy': 1, 'rz': 2}, x=[480. 540.], u=None)\n",
      "Node14({'ux': 0, 'uy': 1, 'rz': 2}, x=[480. 720.], u=None)\n",
      "Node15({'ux': 0, 'uy': 1, 'rz': 2}, x=[720.   0.], u=None)\n",
      "Node16({'ux': 0, 'uy': 1, 'rz': 2}, x=[720. 180.], u=None)\n",
      "Node17({'ux': 0, 'uy': 1, 'rz': 2}, x=[720. 360.], u=None)\n",
      "Node18({'ux': 0, 'uy': 1, 'rz': 2}, x=[720. 540.], u=None)\n",
      "Node19({'ux': 0, 'uy': 1, 'rz': 2}, x=[720. 720.], u=None)\n",
      "Frame2D(Node0({'ux': 0, 'uy': 1, 'rz': 2}, x=[0. 0.], u=None),Node1({'ux': 0, 'uy': 1, 'rz': 2}, x=[  0. 180.], u=None),ElasticSection(Material)({'E': 29000.0, 'A': 150.0, 'I': 250.0, 'nu': 0.0, 'fy': 1e+30}))\n",
      "Frame2D(Node1({'ux': 0, 'uy': 1, 'rz': 2}, x=[  0. 180.], u=None),Node2({'ux': 0, 'uy': 1, 'rz': 2}, x=[  0. 360.], u=None),ElasticSection(Material)({'E': 29000.0, 'A': 150.0, 'I': 250.0, 'nu': 0.0, 'fy': 1e+30}))\n",
      "Frame2D(Node2({'ux': 0, 'uy': 1, 'rz': 2}, x=[  0. 360.], u=None),Node3({'ux': 0, 'uy': 1, 'rz': 2}, x=[  0. 540.], u=None),ElasticSection(Material)({'E': 29000.0, 'A': 150.0, 'I': 250.0, 'nu': 0.0, 'fy': 1e+30}))\n",
      "Frame2D(Node3({'ux': 0, 'uy': 1, 'rz': 2}, x=[  0. 540.], u=None),Node4({'ux': 0, 'uy': 1, 'rz': 2}, x=[  0. 720.], u=None),ElasticSection(Material)({'E': 29000.0, 'A': 150.0, 'I': 250.0, 'nu': 0.0, 'fy': 1e+30}))\n",
      "Frame2D(Node5({'ux': 0, 'uy': 1, 'rz': 2}, x=[240.   0.], u=None),Node6({'ux': 0, 'uy': 1, 'rz': 2}, x=[240. 180.], u=None),ElasticSection(Material)({'E': 29000.0, 'A': 300.0, 'I': 375.0, 'nu': 0.0, 'fy': 1e+30}))\n",
      "Frame2D(Node6({'ux': 0, 'uy': 1, 'rz': 2}, x=[240. 180.], u=None),Node7({'ux': 0, 'uy': 1, 'rz': 2}, x=[240. 360.], u=None),ElasticSection(Material)({'E': 29000.0, 'A': 300.0, 'I': 375.0, 'nu': 0.0, 'fy': 1e+30}))\n",
      "Frame2D(Node7({'ux': 0, 'uy': 1, 'rz': 2}, x=[240. 360.], u=None),Node8({'ux': 0, 'uy': 1, 'rz': 2}, x=[240. 540.], u=None),ElasticSection(Material)({'E': 29000.0, 'A': 300.0, 'I': 375.0, 'nu': 0.0, 'fy': 1e+30}))\n",
      "Frame2D(Node8({'ux': 0, 'uy': 1, 'rz': 2}, x=[240. 540.], u=None),Node9({'ux': 0, 'uy': 1, 'rz': 2}, x=[240. 720.], u=None),ElasticSection(Material)({'E': 29000.0, 'A': 300.0, 'I': 375.0, 'nu': 0.0, 'fy': 1e+30}))\n",
      "Frame2D(Node10({'ux': 0, 'uy': 1, 'rz': 2}, x=[480.   0.], u=None),Node11({'ux': 0, 'uy': 1, 'rz': 2}, x=[480. 180.], u=None),ElasticSection(Material)({'E': 29000.0, 'A': 300.0, 'I': 375.0, 'nu': 0.0, 'fy': 1e+30}))\n",
      "Frame2D(Node11({'ux': 0, 'uy': 1, 'rz': 2}, x=[480. 180.], u=None),Node12({'ux': 0, 'uy': 1, 'rz': 2}, x=[480. 360.], u=None),ElasticSection(Material)({'E': 29000.0, 'A': 300.0, 'I': 375.0, 'nu': 0.0, 'fy': 1e+30}))\n",
      "Frame2D(Node12({'ux': 0, 'uy': 1, 'rz': 2}, x=[480. 360.], u=None),Node13({'ux': 0, 'uy': 1, 'rz': 2}, x=[480. 540.], u=None),ElasticSection(Material)({'E': 29000.0, 'A': 300.0, 'I': 375.0, 'nu': 0.0, 'fy': 1e+30}))\n",
      "Frame2D(Node13({'ux': 0, 'uy': 1, 'rz': 2}, x=[480. 540.], u=None),Node14({'ux': 0, 'uy': 1, 'rz': 2}, x=[480. 720.], u=None),ElasticSection(Material)({'E': 29000.0, 'A': 300.0, 'I': 375.0, 'nu': 0.0, 'fy': 1e+30}))\n",
      "Frame2D(Node15({'ux': 0, 'uy': 1, 'rz': 2}, x=[720.   0.], u=None),Node16({'ux': 0, 'uy': 1, 'rz': 2}, x=[720. 180.], u=None),ElasticSection(Material)({'E': 29000.0, 'A': 150.0, 'I': 250.0, 'nu': 0.0, 'fy': 1e+30}))\n",
      "Frame2D(Node16({'ux': 0, 'uy': 1, 'rz': 2}, x=[720. 180.], u=None),Node17({'ux': 0, 'uy': 1, 'rz': 2}, x=[720. 360.], u=None),ElasticSection(Material)({'E': 29000.0, 'A': 150.0, 'I': 250.0, 'nu': 0.0, 'fy': 1e+30}))\n",
      "Frame2D(Node17({'ux': 0, 'uy': 1, 'rz': 2}, x=[720. 360.], u=None),Node18({'ux': 0, 'uy': 1, 'rz': 2}, x=[720. 540.], u=None),ElasticSection(Material)({'E': 29000.0, 'A': 150.0, 'I': 250.0, 'nu': 0.0, 'fy': 1e+30}))\n",
      "Frame2D(Node18({'ux': 0, 'uy': 1, 'rz': 2}, x=[720. 540.], u=None),Node19({'ux': 0, 'uy': 1, 'rz': 2}, x=[720. 720.], u=None),ElasticSection(Material)({'E': 29000.0, 'A': 150.0, 'I': 250.0, 'nu': 0.0, 'fy': 1e+30}))\n",
      "Frame2D(Node1({'ux': 0, 'uy': 1, 'rz': 2}, x=[  0. 180.], u=None),Node6({'ux': 0, 'uy': 1, 'rz': 2}, x=[240. 180.], u=None),ElasticSection(Material)({'E': 29000.0, 'A': 150.0, 'I': 750.0, 'nu': 0.0, 'fy': 1e+30}))\n",
      "Frame2D(Node6({'ux': 0, 'uy': 1, 'rz': 2}, x=[240. 180.], u=None),Node11({'ux': 0, 'uy': 1, 'rz': 2}, x=[480. 180.], u=None),ElasticSection(Material)({'E': 29000.0, 'A': 150.0, 'I': 750.0, 'nu': 0.0, 'fy': 1e+30}))\n",
      "Frame2D(Node11({'ux': 0, 'uy': 1, 'rz': 2}, x=[480. 180.], u=None),Node16({'ux': 0, 'uy': 1, 'rz': 2}, x=[720. 180.], u=None),ElasticSection(Material)({'E': 29000.0, 'A': 150.0, 'I': 750.0, 'nu': 0.0, 'fy': 1e+30}))\n",
      "Frame2D(Node2({'ux': 0, 'uy': 1, 'rz': 2}, x=[  0. 360.], u=None),Node7({'ux': 0, 'uy': 1, 'rz': 2}, x=[240. 360.], u=None),ElasticSection(Material)({'E': 29000.0, 'A': 150.0, 'I': 750.0, 'nu': 0.0, 'fy': 1e+30}))\n",
      "Frame2D(Node7({'ux': 0, 'uy': 1, 'rz': 2}, x=[240. 360.], u=None),Node12({'ux': 0, 'uy': 1, 'rz': 2}, x=[480. 360.], u=None),ElasticSection(Material)({'E': 29000.0, 'A': 150.0, 'I': 750.0, 'nu': 0.0, 'fy': 1e+30}))\n",
      "Frame2D(Node12({'ux': 0, 'uy': 1, 'rz': 2}, x=[480. 360.], u=None),Node17({'ux': 0, 'uy': 1, 'rz': 2}, x=[720. 360.], u=None),ElasticSection(Material)({'E': 29000.0, 'A': 150.0, 'I': 750.0, 'nu': 0.0, 'fy': 1e+30}))\n",
      "Frame2D(Node3({'ux': 0, 'uy': 1, 'rz': 2}, x=[  0. 540.], u=None),Node8({'ux': 0, 'uy': 1, 'rz': 2}, x=[240. 540.], u=None),ElasticSection(Material)({'E': 29000.0, 'A': 150.0, 'I': 750.0, 'nu': 0.0, 'fy': 1e+30}))\n",
      "Frame2D(Node8({'ux': 0, 'uy': 1, 'rz': 2}, x=[240. 540.], u=None),Node13({'ux': 0, 'uy': 1, 'rz': 2}, x=[480. 540.], u=None),ElasticSection(Material)({'E': 29000.0, 'A': 150.0, 'I': 750.0, 'nu': 0.0, 'fy': 1e+30}))\n",
      "Frame2D(Node13({'ux': 0, 'uy': 1, 'rz': 2}, x=[480. 540.], u=None),Node18({'ux': 0, 'uy': 1, 'rz': 2}, x=[720. 540.], u=None),ElasticSection(Material)({'E': 29000.0, 'A': 150.0, 'I': 750.0, 'nu': 0.0, 'fy': 1e+30}))\n",
      "Frame2D(Node4({'ux': 0, 'uy': 1, 'rz': 2}, x=[  0. 720.], u=None),Node9({'ux': 0, 'uy': 1, 'rz': 2}, x=[240. 720.], u=None),ElasticSection(Material)({'E': 29000.0, 'A': 150.0, 'I': 750.0, 'nu': 0.0, 'fy': 1e+30}))\n",
      "Frame2D(Node9({'ux': 0, 'uy': 1, 'rz': 2}, x=[240. 720.], u=None),Node14({'ux': 0, 'uy': 1, 'rz': 2}, x=[480. 720.], u=None),ElasticSection(Material)({'E': 29000.0, 'A': 150.0, 'I': 750.0, 'nu': 0.0, 'fy': 1e+30}))\n",
      "Frame2D(Node14({'ux': 0, 'uy': 1, 'rz': 2}, x=[480. 720.], u=None),Node19({'ux': 0, 'uy': 1, 'rz': 2}, x=[720. 720.], u=None),ElasticSection(Material)({'E': 29000.0, 'A': 150.0, 'I': 750.0, 'nu': 0.0, 'fy': 1e+30}))\n"
     ]
    }
   ],
   "source": [
    "# initialize a system model\n",
    "\n",
    "N  = 8     # number of elements\n",
    "\n",
    "B = 720.\n",
    "H = 720.\n",
    "\n",
    "E  = 29000.0\n",
    "A = 150.0\n",
    "I = 250.0\n",
    "\n",
    "w = 0.10\n",
    "load_at_nodes_only = False # set to True to apply equivalent nodal forces and moments\n",
    "\n",
    "Ph = 0.00      # additional horizontal load per floor (imperfections)\n",
    "\n",
    "# ========== setting global parameters ==============\n",
    "\n",
    "target_load_level = 20.\n",
    "max_steps = 10\n",
    "load_levels = np.linspace(0, target_load_level, max_steps)\n",
    "\n",
    "# ========= build your structural model =============\n",
    "\n",
    "model = System()\n",
    "model.setSolver(NewtonRaphsonSolver())\n",
    "\n",
    "x0 = 0.0\n",
    "x1 = B / 3\n",
    "x2 = 2 * B / 3\n",
    "x3 = B\n",
    "\n",
    "y0 = 0.0\n",
    "y1 = H / 4\n",
    "y2 = 2 * H / 4\n",
    "y3 = 3 * H / 4\n",
    "y4 = H\n",
    "\n",
    "X10 = Node(x0, y0)\n",
    "X11 = Node(x0, y1)\n",
    "X12 = Node(x0, y2)\n",
    "X13 = Node(x0, y3)\n",
    "X14 = Node(x0, y4)\n",
    "\n",
    "X20 = Node(x1, y0)\n",
    "X21 = Node(x1, y1)\n",
    "X22 = Node(x1, y2)\n",
    "X23 = Node(x1, y3)\n",
    "X24 = Node(x1, y4)\n",
    "\n",
    "X30 = Node(x2, y0)\n",
    "X31 = Node(x2, y1)\n",
    "X32 = Node(x2, y2)\n",
    "X33 = Node(x2, y3)\n",
    "X34 = Node(x2, y4)\n",
    "\n",
    "X40 = Node(x3, y0)\n",
    "X41 = Node(x3, y1)\n",
    "X42 = Node(x3, y2)\n",
    "X43 = Node(x3, y3)\n",
    "X44 = Node(x3, y4)\n",
    "\n",
    "model.addNode(X10,X11,X12,X13,X14)\n",
    "model.addNode(X20,X21,X22,X23,X24)\n",
    "model.addNode(X30,X31,X32,X33,X34)\n",
    "model.addNode(X40,X41,X42,X43,X44)\n",
    "\n",
    "# columns\n",
    "\n",
    "params = {'E': E, 'A': A, 'I': I}\n",
    "\n",
    "C11 = Frame2D(X10, X11, ElasticSection(params))\n",
    "C12 = Frame2D(X11, X12, ElasticSection(params))\n",
    "C13 = Frame2D(X12, X13, ElasticSection(params))\n",
    "C14 = Frame2D(X13, X14, ElasticSection(params))\n",
    "\n",
    "model.addElement(C11,C12,C13,C14)\n",
    "\n",
    "params = {'E': E, 'A': 2*A, 'I': 1.5*I}\n",
    "\n",
    "C21 = Frame2D(X20, X21, ElasticSection(params))\n",
    "C22 = Frame2D(X21, X22, ElasticSection(params))\n",
    "C23 = Frame2D(X22, X23, ElasticSection(params))\n",
    "C24 = Frame2D(X23, X24, ElasticSection(params))\n",
    "\n",
    "model.addElement(C21,C22,C23,C24)\n",
    "\n",
    "C31 = Frame2D(X30, X31, ElasticSection(params))\n",
    "C32 = Frame2D(X31, X32, ElasticSection(params))\n",
    "C33 = Frame2D(X32, X33, ElasticSection(params))\n",
    "C34 = Frame2D(X33, X34, ElasticSection(params))\n",
    "\n",
    "model.addElement(C31,C32,C33,C34)\n",
    "\n",
    "params = {'E': E, 'A': A, 'I': I}\n",
    "\n",
    "C41 = Frame2D(X40, X41, ElasticSection(params))\n",
    "C42 = Frame2D(X41, X42, ElasticSection(params))\n",
    "C43 = Frame2D(X42, X43, ElasticSection(params))\n",
    "C44 = Frame2D(X43, X44, ElasticSection(params))\n",
    "\n",
    "model.addElement(C41,C42,C43,C44)\n",
    "\n",
    "# floors\n",
    "\n",
    "params = {'E': E, 'A': A, 'I': 3*I}\n",
    "\n",
    "F11 = Frame2D(X11, X21, ElasticSection(params))\n",
    "F12 = Frame2D(X21, X31, ElasticSection(params))\n",
    "F13 = Frame2D(X31, X41, ElasticSection(params))\n",
    "\n",
    "model.addElement(F11,F12,F13)\n",
    "\n",
    "F21 = Frame2D(X12, X22, ElasticSection(params))\n",
    "F22 = Frame2D(X22, X32, ElasticSection(params))\n",
    "F23 = Frame2D(X32, X42, ElasticSection(params))\n",
    "\n",
    "model.addElement(F21,F22,F23)\n",
    "\n",
    "F31 = Frame2D(X13, X23, ElasticSection(params))\n",
    "F32 = Frame2D(X23, X33, ElasticSection(params))\n",
    "F33 = Frame2D(X33, X43, ElasticSection(params))\n",
    "\n",
    "model.addElement(F31,F32,F33)\n",
    "\n",
    "F41 = Frame2D(X14, X24, ElasticSection(params))\n",
    "F42 = Frame2D(X24, X34, ElasticSection(params))\n",
    "F43 = Frame2D(X34, X44, ElasticSection(params))\n",
    "\n",
    "model.addElement(F41,F42,F43)\n",
    "\n",
    "# fixities\n",
    "X10.fixDOF('ux','uy','rz')   # fixed\n",
    "X20.fixDOF('ux','uy','rz')   # fixed\n",
    "X30.fixDOF('ux','uy','rz')   # fixed\n",
    "X40.fixDOF('ux','uy','rz')   # fixed\n",
    "\n",
    "# reference load\n",
    "#Pcr = np.pi**2 * EI / L**2\n",
    "model.resetLoad()            # size load vector and initialize\n",
    "#model.addLoad(Xn, -Pcr, dof=0) # add a horizontal force (first dof only) ; remember C-style indexing: 0,1,...,(n-1)\n",
    "\n",
    "if load_at_nodes_only:\n",
    "\n",
    "    # floor loading as nodal loads ...\n",
    "\n",
    "    Pe = w * B/3\n",
    "    Mi = w * (B/3)**2 /12\n",
    "\n",
    "    X11.addLoad([-Pe/2., -Mi],['uy','rz'])\n",
    "    X21.addLoad([-Pe/2.,  0.],['uy','rz'])\n",
    "    X31.addLoad([-Pe/2.,  0.],['uy','rz'])\n",
    "    X41.addLoad([-Pe/2.,  Mi],['uy','rz'])\n",
    "\n",
    "    X12.addLoad([-Pe/2., -Mi],['uy','rz'])\n",
    "    X22.addLoad([-Pe/2.,  0.],['uy','rz'])\n",
    "    X32.addLoad([-Pe/2.,  0.],['uy','rz'])\n",
    "    X42.addLoad([-Pe/2.,  Mi],['uy','rz'])\n",
    "\n",
    "    X13.addLoad([-Pe/2., -Mi],['uy','rz'])\n",
    "    X23.addLoad([-Pe/2.,  0.],['uy','rz'])\n",
    "    X33.addLoad([-Pe/2.,  0.],['uy','rz'])\n",
    "    X43.addLoad([-Pe/2.,  Mi],['uy','rz'])\n",
    "\n",
    "    X14.addLoad([-Pe/2., -Mi],['uy','rz'])\n",
    "    X24.addLoad([-Pe/2.,  0.],['uy','rz'])\n",
    "    X34.addLoad([-Pe/2.,  0.],['uy','rz'])\n",
    "    X44.addLoad([-Pe/2.,  Mi],['uy','rz'])\n",
    "\n",
    "else:\n",
    "\n",
    "    # floor loading as distributed loads ...\n",
    "\n",
    "    F11.setDistLoad(-w)\n",
    "    F12.setDistLoad(-w)\n",
    "    F13.setDistLoad(-w)\n",
    "\n",
    "    F21.setDistLoad(-w)\n",
    "    F22.setDistLoad(-w)\n",
    "    F23.setDistLoad(-w)\n",
    "\n",
    "    F31.setDistLoad(-w)\n",
    "    F32.setDistLoad(-w)\n",
    "    F33.setDistLoad(-w)\n",
    "\n",
    "    F41.setDistLoad(-w)\n",
    "    F42.setDistLoad(-w)\n",
    "    F43.setDistLoad(-w)\n",
    "\n",
    "\n",
    "# wind load ...\n",
    "\n",
    "X11.addLoad([Ph],['ux'])   # horizontal load\n",
    "X12.addLoad([Ph],['ux'])   # horizontal load\n",
    "X13.addLoad([Ph],['ux'])   # horizontal load\n",
    "X14.addLoad([Ph/2],['ux']) # horizontal load\n",
    "\n",
    "\n",
    "# show model information\n",
    "print(model)\n"
   ]
  },
  {
   "cell_type": "markdown",
   "id": "9dc16de0",
   "metadata": {},
   "source": [
    "## Path-Following and Stability Analysis"
   ]
  },
  {
   "cell_type": "code",
   "execution_count": 4,
   "id": "b9aff45d",
   "metadata": {},
   "outputs": [
    {
     "name": "stdout",
     "output_type": "stream",
     "text": [
      "norm of the out-of-balance force:   0.0000e+00\n",
      "+\n",
      "\n",
      " ** Stability check: (smallest eigenvalue of Kt) = 1.4498657938144892\n",
      "\n",
      "+\n",
      "\n",
      "=== next load level ===\n",
      "\n",
      "norm of the out-of-balance force:   3.0217e+03\n",
      "norm of the out-of-balance force:   9.3991e+00\n",
      "norm of the out-of-balance force:   1.5330e-03\n",
      "norm of the out-of-balance force:   3.4141e-07\n",
      "+\n",
      "\n",
      " ** Stability check: (smallest eigenvalue of Kt) = 1.3616847347758743\n",
      "\n",
      "+\n",
      "\n",
      "=== next load level ===\n",
      "\n",
      "norm of the out-of-balance force:   3.0217e+03\n",
      "norm of the out-of-balance force:   1.9094e+01\n",
      "norm of the out-of-balance force:   6.1842e-03\n",
      "norm of the out-of-balance force:   2.7242e-06\n",
      "norm of the out-of-balance force:   1.1603e-07\n",
      "+\n",
      "\n",
      " ** Stability check: (smallest eigenvalue of Kt) = 1.2727390536406615\n",
      "\n",
      "+\n",
      "\n",
      "=== next load level ===\n",
      "\n",
      "norm of the out-of-balance force:   3.0217e+03\n",
      "norm of the out-of-balance force:   2.9015e+01\n",
      "norm of the out-of-balance force:   1.4203e-02\n",
      "norm of the out-of-balance force:   9.3667e-06\n",
      "norm of the out-of-balance force:   4.1263e-08\n",
      "+\n",
      "\n",
      " ** Stability check: (smallest eigenvalue of Kt) = 1.182944081392654\n",
      "\n",
      "+\n",
      "\n",
      "=== next load level ===\n",
      "\n",
      "norm of the out-of-balance force:   3.0217e+03\n",
      "norm of the out-of-balance force:   3.9240e+01\n",
      "norm of the out-of-balance force:   2.5816e-02\n",
      "norm of the out-of-balance force:   2.3040e-05\n",
      "norm of the out-of-balance force:   3.7804e-08\n",
      "+\n",
      "\n",
      " ** Stability check: (smallest eigenvalue of Kt) = 1.0921919153555397\n",
      "\n",
      "+\n",
      "\n",
      "=== next load level ===\n",
      "\n",
      "norm of the out-of-balance force:   3.0217e+03\n",
      "norm of the out-of-balance force:   4.9771e+01\n",
      "norm of the out-of-balance force:   4.1251e-02\n",
      "norm of the out-of-balance force:   4.6609e-05\n",
      "norm of the out-of-balance force:   5.5229e-08\n",
      "+\n",
      "\n",
      " ** Stability check: (smallest eigenvalue of Kt) = 1.000351336121575\n",
      "\n",
      "+\n",
      "\n",
      "=== next load level ===\n",
      "\n",
      "norm of the out-of-balance force:   3.0217e+03\n",
      "norm of the out-of-balance force:   6.0626e+01\n",
      "norm of the out-of-balance force:   6.0769e-02\n",
      "norm of the out-of-balance force:   8.3556e-05\n",
      "norm of the out-of-balance force:   1.0304e-07\n",
      "+\n",
      "\n",
      " ** Stability check: (smallest eigenvalue of Kt) = 0.9072611115398058\n",
      "\n",
      "+\n",
      "\n",
      "=== next load level ===\n",
      "\n",
      "norm of the out-of-balance force:   3.0217e+03\n",
      "norm of the out-of-balance force:   7.1827e+01\n",
      "norm of the out-of-balance force:   8.4649e-02\n",
      "norm of the out-of-balance force:   1.3772e-04\n",
      "norm of the out-of-balance force:   1.8391e-07\n",
      "+\n",
      "\n",
      " ** Stability check: (smallest eigenvalue of Kt) = 0.8127186592360159\n",
      "\n",
      "+\n",
      "\n",
      "=== next load level ===\n",
      "\n",
      "norm of the out-of-balance force:   3.0217e+03\n",
      "norm of the out-of-balance force:   8.3396e+01\n",
      "norm of the out-of-balance force:   1.1319e-01\n",
      "norm of the out-of-balance force:   2.1348e-04\n",
      "norm of the out-of-balance force:   3.5226e-07\n",
      "+\n",
      "\n",
      " ** Stability check: (smallest eigenvalue of Kt) = 0.7164639941797766\n",
      "\n",
      "+\n",
      "\n",
      "=== next load level ===\n",
      "\n",
      "norm of the out-of-balance force:   3.0217e+03\n",
      "norm of the out-of-balance force:   9.5360e+01\n",
      "norm of the out-of-balance force:   1.4672e-01\n",
      "norm of the out-of-balance force:   3.1584e-04\n",
      "norm of the out-of-balance force:   6.0548e-07\n",
      "+\n",
      "\n",
      " ** Stability check: (smallest eigenvalue of Kt) = 0.6181548241599643\n",
      "\n",
      "+\n",
      "\n",
      "=== next load level ===\n",
      "\n",
      "[0.0, 2.2222222222222223, 4.444444444444445, 6.666666666666667, 8.88888888888889, 11.11111111111111, 13.333333333333334, 15.555555555555557, 17.77777777777778, 20.0]\n",
      "[1.4498657938144892, 1.3616847347758743, 1.2727390536406615, 1.182944081392654, 1.0921919153555397, 1.000351336121575, 0.9072611115398058, 0.8127186592360159, 0.7164639941797766, 0.6181548241599643]\n"
     ]
    }
   ],
   "source": [
    "# initialize the analysis:\n",
    "model.resetDisplacements()   # set U to all zeros\n",
    "model.setLoadFactor(0.0)     # define a known equilibrium solution\n",
    "\n",
    "model.startRecorder()        # not doing anything yet, but will do the data collection soon\n",
    "\n",
    "detKt   = []\n",
    "lambdas = []\n",
    "\n",
    "# solve for all load_levels\n",
    "for loadfactor in load_levels:\n",
    "\n",
    "    # define node X2 as the controled node; downward direction is prescribed:\n",
    "    model.setLoadFactor(loadfactor)\n",
    "    model.solve(verbose=True)\n",
    "\n",
    "    # stability check\n",
    "    lambdas.append(model.loadfactor)\n",
    "    detKt.append(model.solver.checkStability())\n",
    "\n",
    "    # report results\n",
    "    print('+')\n",
    "    #model.report()\n",
    "\n",
    "    print(\"\\n=== next load level ===\\n\")\n",
    "    \n",
    "\n",
    "print(lambdas)\n",
    "print(detKt)\n"
   ]
  },
  {
   "cell_type": "code",
   "execution_count": 5,
   "id": "e4f97d43",
   "metadata": {},
   "outputs": [
    {
     "name": "stdout",
     "output_type": "stream",
     "text": [
      "\n",
      "System Analysis Report\n",
      "=======================\n",
      "\n",
      "Nodes:\n",
      "---------------------\n",
      "  Node 0: {'ux': 0, 'uy': 1, 'rz': 2}\n",
      "          x:[0. 0.], fix:['ux', 'uy', 'rz'], \n",
      "          P:[0. 0. 0.], u:[0. 0. 0.]\n",
      "  Node 1: {'ux': 0, 'uy': 1, 'rz': 2}\n",
      "          x:[  0. 180.], fix:[], \n",
      "          P:[0. 0. 0.], u:[-0.00119025 -0.03547532 -0.01397541]\n",
      "  Node 2: {'ux': 0, 'uy': 1, 'rz': 2}\n",
      "          x:[  0. 360.], fix:[], \n",
      "          P:[0. 0. 0.], u:[ 0.00021134 -0.06209611 -0.01190609]\n",
      "  Node 3: {'ux': 0, 'uy': 1, 'rz': 2}\n",
      "          x:[  0. 540.], fix:[], \n",
      "          P:[0. 0. 0.], u:[-0.00060736 -0.07973241 -0.01101183]\n",
      "  Node 4: {'ux': 0, 'uy': 1, 'rz': 2}\n",
      "          x:[  0. 720.], fix:[], \n",
      "          P:[0. 0. 0.], u:[ 0.00291642 -0.08834182 -0.01832313]\n",
      "  Node 5: {'ux': 0, 'uy': 1, 'rz': 2}\n",
      "          x:[240.   0.], fix:['ux', 'uy', 'rz'], \n",
      "          P:[0. 0. 0.], u:[0. 0. 0.]\n",
      "  Node 6: {'ux': 0, 'uy': 1, 'rz': 2}\n",
      "          x:[240. 180.], fix:[], \n",
      "          P:[0. 0. 0.], u:[-0.00033556 -0.04184855  0.00244719]\n",
      "  Node 7: {'ux': 0, 'uy': 1, 'rz': 2}\n",
      "          x:[240. 360.], fix:[], \n",
      "          P:[0. 0. 0.], u:[ 3.23577483e-05 -7.32278075e-02  1.71546476e-03]\n",
      "  Node 8: {'ux': 0, 'uy': 1, 'rz': 2}\n",
      "          x:[240. 540.], fix:[], \n",
      "          P:[0. 0. 0.], u:[-0.00011446 -0.09420276  0.00125063]\n",
      "  Node 9: {'ux': 0, 'uy': 1, 'rz': 2}\n",
      "          x:[240. 720.], fix:[], \n",
      "          P:[0. 0. 0.], u:[ 0.00077999 -0.10479461  0.00406571]\n",
      "  Node 10: {'ux': 0, 'uy': 1, 'rz': 2}\n",
      "          x:[480.   0.], fix:['ux', 'uy', 'rz'], \n",
      "          P:[0. 0. 0.], u:[0. 0. 0.]\n",
      "  Node 11: {'ux': 0, 'uy': 1, 'rz': 2}\n",
      "          x:[480. 180.], fix:[], \n",
      "          P:[0. 0. 0.], u:[ 0.00033556 -0.04184855 -0.00244719]\n",
      "  Node 12: {'ux': 0, 'uy': 1, 'rz': 2}\n",
      "          x:[480. 360.], fix:[], \n",
      "          P:[0. 0. 0.], u:[-3.23577483e-05 -7.32278075e-02 -1.71546476e-03]\n",
      "  Node 13: {'ux': 0, 'uy': 1, 'rz': 2}\n",
      "          x:[480. 540.], fix:[], \n",
      "          P:[0. 0. 0.], u:[ 0.00011446 -0.09420276 -0.00125063]\n",
      "  Node 14: {'ux': 0, 'uy': 1, 'rz': 2}\n",
      "          x:[480. 720.], fix:[], \n",
      "          P:[0. 0. 0.], u:[-0.00077999 -0.10479461 -0.00406571]\n",
      "  Node 15: {'ux': 0, 'uy': 1, 'rz': 2}\n",
      "          x:[720.   0.], fix:['ux', 'uy', 'rz'], \n",
      "          P:[0. 0. 0.], u:[0. 0. 0.]\n",
      "  Node 16: {'ux': 0, 'uy': 1, 'rz': 2}\n",
      "          x:[720. 180.], fix:[], \n",
      "          P:[0. 0. 0.], u:[ 0.00119025 -0.03547532  0.01397541]\n",
      "  Node 17: {'ux': 0, 'uy': 1, 'rz': 2}\n",
      "          x:[720. 360.], fix:[], \n",
      "          P:[0. 0. 0.], u:[-0.00021134 -0.06209611  0.01190609]\n",
      "  Node 18: {'ux': 0, 'uy': 1, 'rz': 2}\n",
      "          x:[720. 540.], fix:[], \n",
      "          P:[0. 0. 0.], u:[ 0.00060736 -0.07973241  0.01101183]\n",
      "  Node 19: {'ux': 0, 'uy': 1, 'rz': 2}\n",
      "          x:[720. 720.], fix:[], \n",
      "          P:[0. 0. 0.], u:[-0.00291642 -0.08834182  0.01832313]\n",
      "\n",
      "Elements:\n",
      "---------------------\n",
      "  Frame2D: node 0 to node 1:\n",
      "     material properties: ElasticSection(Material)({'E': 29000.0, 'A': 150.0, 'I': 250.0, 'nu': 0.0, 'fy': 1e+30})  strain:{'axial': -0.00019708509598928022, 'flexure': 0.0}   stress:{'axial': -857.320167553369, 'flexure': 0.0}  \n",
      "     internal forces: f0=-857.32 V0=-17.54 M0=1208.73 fl=-857.32 Vl=-17.54 Ml=-1949.82 Pw=0.00 Mw=0.00\n",
      "  Frame2D: node 1 to node 2:\n",
      "     material properties: ElasticSection(Material)({'E': 29000.0, 'A': 150.0, 'I': 250.0, 'nu': 0.0, 'fy': 1e+30})  strain:{'axial': -0.0001478932885808865, 'flexure': 0.0}   stress:{'axial': -643.3358053268563, 'flexure': 0.0}  \n",
      "     internal forces: f0=-643.34 V0=-33.03 M0=3034.88 fl=-643.34 Vl=-33.03 Ml=-2910.17 Pw=0.00 Mw=0.00\n",
      "  Frame2D: node 2 to node 3:\n",
      "     material properties: ElasticSection(Material)({'E': 29000.0, 'A': 150.0, 'I': 250.0, 'nu': 0.0, 'fy': 1e+30})  strain:{'axial': -9.797946148411717e-05, 'flexure': 0.0}   stress:{'axial': -426.2106574559097, 'flexure': 0.0}  \n",
      "     internal forces: f0=-426.21 V0=-29.79 M0=2711.29 fl=-426.21 Vl=-29.79 Ml=-2651.07 Pw=0.00 Mw=0.00\n",
      "  Frame2D: node 3 to node 4:\n",
      "     material properties: ElasticSection(Material)({'E': 29000.0, 'A': 150.0, 'I': 250.0, 'nu': 0.0, 'fy': 1e+30})  strain:{'axial': -4.7830054640640334e-05, 'flexure': 0.0}   stress:{'axial': -208.06073768678544, 'flexure': 0.0}  \n",
      "     internal forces: f0=-208.06 V0=-38.72 M0=3213.38 fl=-208.06 Vl=-38.72 Ml=-3755.99 Pw=0.00 Mw=0.00\n",
      "  Frame2D: node 5 to node 6:\n",
      "     material properties: ElasticSection(Material)({'E': 29000.0, 'A': 300.0, 'I': 375.0, 'nu': 0.0, 'fy': 1e+30})  strain:{'axial': -0.00023249193476398237, 'flexure': 0.0}   stress:{'axial': -2022.6798324466467, 'flexure': 0.0}  \n",
      "     internal forces: f0=-2022.68 V0=4.41 M0=-331.46 fl=-2022.68 Vl=4.41 Ml=461.23 Pw=0.00 Mw=0.00\n",
      "  Frame2D: node 6 to node 7:\n",
      "     material properties: ElasticSection(Material)({'E': 29000.0, 'A': 300.0, 'I': 375.0, 'nu': 0.0, 'fy': 1e+30})  strain:{'axial': -0.00017432921777852414, 'flexure': 0.0}   stress:{'axial': -1516.66419467316, 'flexure': 0.0}  \n",
      "     internal forces: f0=-1516.66 V0=7.73 M0=-722.57 fl=-1516.66 Vl=7.73 Ml=670.26 Pw=0.00 Mw=0.00\n",
      "  Frame2D: node 7 to node 8:\n",
      "     material properties: ElasticSection(Material)({'E': 29000.0, 'A': 300.0, 'I': 375.0, 'nu': 0.0, 'fy': 1e+30})  strain:{'axial': -0.00011652751063725323, 'flexure': 0.0}   stress:{'axial': -1013.7893425441031, 'flexure': 0.0}  \n",
      "     internal forces: f0=-1013.79 V0=5.66 M0=-530.29 fl=-1013.79 Vl=5.66 Ml=489.03 Pw=0.00 Mw=0.00\n",
      "  Frame2D: node 8 to node 9:\n",
      "     material properties: ElasticSection(Material)({'E': 29000.0, 'A': 300.0, 'I': 375.0, 'nu': 0.0, 'fy': 1e+30})  strain:{'axial': -5.884359336933547e-05, 'flexure': 0.0}   stress:{'axial': -511.9392623132186, 'flexure': 0.0}  \n",
      "     internal forces: f0=-511.94 V0=10.45 M0=-792.69 fl=-511.94 Vl=10.45 Ml=1088.47 Pw=0.00 Mw=0.00\n",
      "  Frame2D: node 10 to node 11:\n",
      "     material properties: ElasticSection(Material)({'E': 29000.0, 'A': 300.0, 'I': 375.0, 'nu': 0.0, 'fy': 1e+30})  strain:{'axial': -0.00023249193476397812, 'flexure': 0.0}   stress:{'axial': -2022.6798324466097, 'flexure': 0.0}  \n",
      "     internal forces: f0=-2022.68 V0=-4.41 M0=331.46 fl=-2022.68 Vl=-4.41 Ml=-461.23 Pw=0.00 Mw=0.00\n",
      "  Frame2D: node 11 to node 12:\n",
      "     material properties: ElasticSection(Material)({'E': 29000.0, 'A': 300.0, 'I': 375.0, 'nu': 0.0, 'fy': 1e+30})  strain:{'axial': -0.00017432921777851975, 'flexure': 0.0}   stress:{'axial': -1516.6641946731218, 'flexure': 0.0}  \n",
      "     internal forces: f0=-1516.66 V0=-7.73 M0=722.57 fl=-1516.66 Vl=-7.73 Ml=-670.26 Pw=0.00 Mw=0.00\n",
      "  Frame2D: node 12 to node 13:\n",
      "     material properties: ElasticSection(Material)({'E': 29000.0, 'A': 300.0, 'I': 375.0, 'nu': 0.0, 'fy': 1e+30})  strain:{'axial': -0.0001165275106372493, 'flexure': 0.0}   stress:{'axial': -1013.7893425440689, 'flexure': 0.0}  \n",
      "     internal forces: f0=-1013.79 V0=-5.66 M0=530.29 fl=-1013.79 Vl=-5.66 Ml=-489.03 Pw=0.00 Mw=0.00\n",
      "  Frame2D: node 13 to node 14:\n",
      "     material properties: ElasticSection(Material)({'E': 29000.0, 'A': 300.0, 'I': 375.0, 'nu': 0.0, 'fy': 1e+30})  strain:{'axial': -5.8843593369334853e-05, 'flexure': 0.0}   stress:{'axial': -511.93926231321325, 'flexure': 0.0}  \n",
      "     internal forces: f0=-511.94 V0=-10.45 M0=792.69 fl=-511.94 Vl=-10.45 Ml=-1088.47 Pw=0.00 Mw=0.00\n",
      "  Frame2D: node 15 to node 16:\n",
      "     material properties: ElasticSection(Material)({'E': 29000.0, 'A': 150.0, 'I': 250.0, 'nu': 0.0, 'fy': 1e+30})  strain:{'axial': -0.00019708509598928163, 'flexure': 0.0}   stress:{'axial': -857.3201675533751, 'flexure': 0.0}  \n",
      "     internal forces: f0=-857.32 V0=17.54 M0=-1208.73 fl=-857.32 Vl=17.54 Ml=1949.82 Pw=0.00 Mw=0.00\n",
      "  Frame2D: node 16 to node 17:\n",
      "     material properties: ElasticSection(Material)({'E': 29000.0, 'A': 150.0, 'I': 250.0, 'nu': 0.0, 'fy': 1e+30})  strain:{'axial': -0.00014789328858088788, 'flexure': 0.0}   stress:{'axial': -643.3358053268623, 'flexure': 0.0}  \n",
      "     internal forces: f0=-643.34 V0=33.03 M0=-3034.88 fl=-643.34 Vl=33.03 Ml=2910.17 Pw=0.00 Mw=0.00\n",
      "  Frame2D: node 17 to node 18:\n",
      "     material properties: ElasticSection(Material)({'E': 29000.0, 'A': 150.0, 'I': 250.0, 'nu': 0.0, 'fy': 1e+30})  strain:{'axial': -9.79794614841191e-05, 'flexure': 0.0}   stress:{'axial': -426.21065745591807, 'flexure': 0.0}  \n",
      "     internal forces: f0=-426.21 V0=29.79 M0=-2711.29 fl=-426.21 Vl=29.79 Ml=2651.07 Pw=0.00 Mw=0.00\n",
      "  Frame2D: node 18 to node 19:\n",
      "     material properties: ElasticSection(Material)({'E': 29000.0, 'A': 150.0, 'I': 250.0, 'nu': 0.0, 'fy': 1e+30})  strain:{'axial': -4.7830054640639636e-05, 'flexure': 0.0}   stress:{'axial': -208.06073768678243, 'flexure': 0.0}  \n",
      "     internal forces: f0=-208.06 V0=38.72 M0=-3213.38 fl=-208.06 Vl=38.72 Ml=3755.99 Pw=0.00 Mw=0.00\n",
      "  Frame2D: node 1 to node 6:\n",
      "     material properties: ElasticSection(Material)({'E': 29000.0, 'A': 150.0, 'I': 750.0, 'nu': 0.0, 'fy': 1e+30})  strain:{'axial': 3.561208251626945e-06, 'flexure': 0.0}   stress:{'axial': 15.49125589457721, 'flexure': 0.0}  \n",
      "     internal forces: f0=15.49 V0=-26.02 M0=4615.31 fl=15.49 Vl=-26.02 Ml=-1628.54 Pw=-240.00 Mw=-9600.00\n",
      "  Frame2D: node 6 to node 11:\n",
      "     material properties: ElasticSection(Material)({'E': 29000.0, 'A': 150.0, 'I': 750.0, 'nu': 0.0, 'fy': 1e+30})  strain:{'axial': 2.796326580082543e-06, 'flexure': 0.0}   stress:{'axial': 12.164020623359063, 'flexure': 0.0}  \n",
      "     internal forces: f0=12.16 V0=-0.00 M0=-444.74 fl=12.16 Vl=-0.00 Ml=-444.74 Pw=-240.00 Mw=-9600.00\n",
      "  Frame2D: node 11 to node 16:\n",
      "     material properties: ElasticSection(Material)({'E': 29000.0, 'A': 150.0, 'I': 750.0, 'nu': 0.0, 'fy': 1e+30})  strain:{'axial': 3.561208251626298e-06, 'flexure': 0.0}   stress:{'axial': 15.491255894574397, 'flexure': 0.0}  \n",
      "     internal forces: f0=15.49 V0=26.02 M0=-1628.54 fl=15.49 Vl=26.02 Ml=4615.31 Pw=-240.00 Mw=-9600.00\n",
      "  Frame2D: node 2 to node 7:\n",
      "     material properties: ElasticSection(Material)({'E': 29000.0, 'A': 150.0, 'I': 750.0, 'nu': 0.0, 'fy': 1e+30})  strain:{'axial': -7.457712221300174e-07, 'flexure': 0.0}   stress:{'axial': -3.2441048162655757, 'flexure': 0.0}  \n",
      "     internal forces: f0=-3.24 V0=-22.87 M0=3978.53 fl=-3.24 Vl=-22.87 Ml=-1511.39 Pw=-240.00 Mw=-9600.00\n",
      "  Frame2D: node 7 to node 12:\n",
      "     material properties: ElasticSection(Material)({'E': 29000.0, 'A': 150.0, 'I': 750.0, 'nu': 0.0, 'fy': 1e+30})  strain:{'axial': -2.6964790251361203e-07, 'flexure': 0.0}   stress:{'axial': -1.1729683759342122, 'flexure': 0.0}  \n",
      "     internal forces: f0=-1.17 V0=0.00 M0=-310.85 fl=-1.17 Vl=0.00 Ml=-310.85 Pw=-240.00 Mw=-9600.00\n",
      "  Frame2D: node 12 to node 17:\n",
      "     material properties: ElasticSection(Material)({'E': 29000.0, 'A': 150.0, 'I': 750.0, 'nu': 0.0, 'fy': 1e+30})  strain:{'axial': -7.457712221270706e-07, 'flexure': 0.0}   stress:{'axial': -3.2441048162527575, 'flexure': 0.0}  \n",
      "     internal forces: f0=-3.24 V0=22.87 M0=-1511.39 fl=-3.24 Vl=22.87 Ml=3978.53 Pw=-240.00 Mw=-9600.00\n",
      "  Frame2D: node 3 to node 8:\n",
      "     material properties: ElasticSection(Material)({'E': 29000.0, 'A': 150.0, 'I': 750.0, 'nu': 0.0, 'fy': 1e+30})  strain:{'axial': 2.0537536875292634e-06, 'flexure': 0.0}   stress:{'axial': 8.933828540752296, 'flexure': 0.0}  \n",
      "     internal forces: f0=8.93 V0=-21.85 M0=3735.55 fl=8.93 Vl=-21.85 Ml=-1508.60 Pw=-240.00 Mw=-9600.00\n",
      "  Frame2D: node 8 to node 13:\n",
      "     material properties: ElasticSection(Material)({'E': 29000.0, 'A': 150.0, 'I': 750.0, 'nu': 0.0, 'fy': 1e+30})  strain:{'axial': 9.538420836355199e-07, 'flexure': 0.0}   stress:{'axial': 4.1492130638145115, 'flexure': 0.0}  \n",
      "     internal forces: f0=4.15 V0=0.00 M0=-226.89 fl=4.15 Vl=0.00 Ml=-226.89 Pw=-240.00 Mw=-9600.00\n",
      "  Frame2D: node 13 to node 18:\n",
      "     material properties: ElasticSection(Material)({'E': 29000.0, 'A': 150.0, 'I': 750.0, 'nu': 0.0, 'fy': 1e+30})  strain:{'axial': 2.053753687529578e-06, 'flexure': 0.0}   stress:{'axial': 8.933828540753664, 'flexure': 0.0}  \n",
      "     internal forces: f0=8.93 V0=21.85 M0=-1508.60 fl=8.93 Vl=21.85 Ml=3735.55 Pw=-240.00 Mw=-9600.00\n",
      "  Frame2D: node 4 to node 9:\n",
      "     material properties: ElasticSection(Material)({'E': 29000.0, 'A': 150.0, 'I': 750.0, 'nu': 0.0, 'fy': 1e+30})  strain:{'axial': -8.901789512902714e-06, 'flexure': 0.0}   stress:{'axial': -38.72278438112681, 'flexure': 0.0}  \n",
      "     internal forces: f0=-38.72 V0=-31.94 M0=5844.01 fl=-38.72 Vl=-31.94 Ml=-1820.77 Pw=-240.00 Mw=-9600.00\n",
      "  Frame2D: node 9 to node 14:\n",
      "     material properties: ElasticSection(Material)({'E': 29000.0, 'A': 150.0, 'I': 750.0, 'nu': 0.0, 'fy': 1e+30})  strain:{'axial': -6.4998796885277306e-06, 'flexure': 0.0}   stress:{'axial': -28.27447664509563, 'flexure': 0.0}  \n",
      "     internal forces: f0=-28.27 V0=0.00 M0=-732.31 fl=-28.27 Vl=0.00 Ml=-732.31 Pw=-240.00 Mw=-9600.00\n",
      "  Frame2D: node 14 to node 19:\n",
      "     material properties: ElasticSection(Material)({'E': 29000.0, 'A': 150.0, 'I': 750.0, 'nu': 0.0, 'fy': 1e+30})  strain:{'axial': -8.901789512905361e-06, 'flexure': 0.0}   stress:{'axial': -38.722784381138325, 'flexure': 0.0}  \n",
      "     internal forces: f0=-38.72 V0=31.94 M0=-1820.77 fl=-38.72 Vl=31.94 Ml=5844.01 Pw=-240.00 Mw=-9600.00\n",
      "\n"
     ]
    }
   ],
   "source": [
    "#\n",
    "# ==== check the current state of the model ===\n",
    "#\n",
    "\n",
    "model.report()"
   ]
  },
  {
   "cell_type": "code",
   "execution_count": 6,
   "id": "92a5aa49",
   "metadata": {},
   "outputs": [
    {
     "data": {
      "image/png": "[encoded data removed]",
      "text/plain": [
       "<Figure size 432x288 with 1 Axes>"
      ]
     },
     "metadata": {
      "needs_background": "light"
     },
     "output_type": "display_data"
    },
    {
     "data": {
      "image/png": "[encoded data removed]",
      "text/plain": [
       "<Figure size 432x288 with 1 Axes>"
      ]
     },
     "metadata": {
      "needs_background": "light"
     },
     "output_type": "display_data"
    },
    {
     "data": {
      "image/png": "[encoded data removed]",
      "text/plain": [
       "<Figure size 432x288 with 1 Axes>"
      ]
     },
     "metadata": {
      "needs_background": "light"
     },
     "output_type": "display_data"
    },
    {
     "data": {
      "image/png": "[encoded data removed]",
      "text/plain": [
       "<Figure size 432x288 with 1 Axes>"
      ]
     },
     "metadata": {
      "needs_background": "light"
     },
     "output_type": "display_data"
    },
    {
     "data": {
      "image/png": "[encoded data removed]",
      "text/plain": [
       "<Figure size 432x288 with 1 Axes>"
      ]
     },
     "metadata": {
      "needs_background": "light"
     },
     "output_type": "display_data"
    }
   ],
   "source": [
    "#\n",
    "# ==== create some nice plots ===\n",
    "#\n",
    "\n",
    "plt.plot(lambdas,detKt,'--*r')\n",
    "plt.grid(True)\n",
    "plt.xlabel('Load factor, $ \\lambda $')\n",
    "plt.ylabel(\"Stability index, $ {det}\\: {\\\\bf K}_t $\")\n",
    "plt.show()\n",
    "\n",
    "model.plot(factor=10.0)\n",
    "\n",
    "model.beamValuePlot(\"F\")\n",
    "model.beamValuePlot(\"M\")\n",
    "model.beamValuePlot(\"V\")\n"
   ]
  },
  {
   "cell_type": "code",
   "execution_count": 7,
   "id": "024335e9",
   "metadata": {},
   "outputs": [
    {
     "data": {
      "image/png": "[encoded data removed]",
      "text/plain": [
       "<Figure size 432x288 with 1 Axes>"
      ]
     },
     "metadata": {
      "needs_background": "light"
     },
     "output_type": "display_data"
    }
   ],
   "source": [
    "# buckling (mode) shapes can be computed and plotted as well\n",
    "#\n",
    "# mode=0 is the closest mode.  This is the default\n",
    "\n",
    "model.plotBucklingMode(factor=200.)"
   ]
  },
  {
   "cell_type": "markdown",
   "id": "93a74712",
   "metadata": {},
   "source": [
    "## Adding more load steps"
   ]
  },
  {
   "cell_type": "code",
   "execution_count": 11,
   "id": "003acd85",
   "metadata": {},
   "outputs": [
    {
     "name": "stdout",
     "output_type": "stream",
     "text": [
      "norm of the out-of-balance force:   6.0548e-07\n",
      "+\n",
      "\n",
      " ** Stability check: (smallest eigenvalue of Kt) = 0.6181548241599643\n",
      "\n",
      "+\n",
      "\n",
      "=== next load level ===\n",
      "\n",
      "norm of the out-of-balance force:   3.3994e+03\n",
      "norm of the out-of-balance force:   1.2281e+02\n",
      "norm of the out-of-balance force:   2.1460e-01\n",
      "norm of the out-of-balance force:   5.2835e-04\n",
      "norm of the out-of-balance force:   1.1472e-06\n",
      "norm of the out-of-balance force:   2.3657e-08\n",
      "+\n",
      "\n",
      " ** Stability check: (smallest eigenvalue of Kt) = 0.5045154091188202\n",
      "\n",
      "+\n",
      "\n",
      "=== next load level ===\n",
      "\n",
      "norm of the out-of-balance force:   3.3994e+03\n",
      "norm of the out-of-balance force:   1.3914e+02\n",
      "norm of the out-of-balance force:   2.7241e-01\n",
      "norm of the out-of-balance force:   7.5776e-04\n",
      "norm of the out-of-balance force:   1.8531e-06\n",
      "norm of the out-of-balance force:   9.7116e-09\n",
      "+\n",
      "\n",
      " ** Stability check: (smallest eigenvalue of Kt) = 0.38671826439897816\n",
      "\n",
      "+\n",
      "\n",
      "=== next load level ===\n",
      "\n",
      "norm of the out-of-balance force:   3.3994e+03\n",
      "norm of the out-of-balance force:   1.5618e+02\n",
      "norm of the out-of-balance force:   3.3908e-01\n",
      "norm of the out-of-balance force:   1.0553e-03\n",
      "norm of the out-of-balance force:   2.9130e-06\n",
      "norm of the out-of-balance force:   2.3335e-08\n",
      "+\n",
      "\n",
      " ** Stability check: (smallest eigenvalue of Kt) = 0.26324190594114544\n",
      "\n",
      "+\n",
      "\n",
      "=== next load level ===\n",
      "\n",
      "norm of the out-of-balance force:   3.3994e+03\n",
      "norm of the out-of-balance force:   1.7399e+02\n",
      "norm of the out-of-balance force:   4.1530e-01\n",
      "norm of the out-of-balance force:   1.4345e-03\n",
      "norm of the out-of-balance force:   4.4312e-06\n",
      "norm of the out-of-balance force:   1.5044e-08\n",
      "+\n",
      "\n",
      " ** Stability check: (smallest eigenvalue of Kt) = 0.13145774727124127\n",
      "\n",
      "+\n",
      "\n",
      "=== next load level ===\n",
      "\n"
     ]
    }
   ],
   "source": [
    "# solve for all load_levels\n",
    "newxt_load_levels = np.linspace(load_levels[-1], load_levels[-1]+10.0, 5)\n",
    "\n",
    "for loadfactor in newxt_load_levels:\n",
    "\n",
    "    model.setLoadFactor(loadfactor)\n",
    "    model.solve(verbose=True)\n",
    "\n",
    "    # stability check\n",
    "    lambdas.append(model.loadfactor)\n",
    "    detKt.append(model.solver.checkStability())\n",
    "\n",
    "    # report results\n",
    "    print('+')\n",
    "    #model.report()\n",
    "\n",
    "    print(\"\\n=== next load level ===\\n\")"
   ]
  },
  {
   "cell_type": "code",
   "execution_count": 12,
   "id": "b31cbf88",
   "metadata": {},
   "outputs": [
    {
     "data": {
      "image/png": "[encoded data removed]",
      "text/plain": [
       "<Figure size 432x288 with 1 Axes>"
      ]
     },
     "metadata": {
      "needs_background": "light"
     },
     "output_type": "display_data"
    },
    {
     "data": {
      "image/png": "[encoded data removed]",
      "text/plain": [
       "<Figure size 432x288 with 1 Axes>"
      ]
     },
     "metadata": {
      "needs_background": "light"
     },
     "output_type": "display_data"
    },
    {
     "data": {
      "image/png": "[encoded data removed]",
      "text/plain": [
       "<Figure size 432x288 with 1 Axes>"
      ]
     },
     "metadata": {
      "needs_background": "light"
     },
     "output_type": "display_data"
    },
    {
     "data": {
      "image/png": "[encoded data removed]",
      "text/plain": [
       "<Figure size 432x288 with 1 Axes>"
      ]
     },
     "metadata": {
      "needs_background": "light"
     },
     "output_type": "display_data"
    },
    {
     "data": {
      "image/png": "[encoded data removed]",
      "text/plain": [
       "<Figure size 432x288 with 1 Axes>"
      ]
     },
     "metadata": {
      "needs_background": "light"
     },
     "output_type": "display_data"
    }
   ],
   "source": [
    "#\n",
    "# ==== create some nice plots ===\n",
    "#\n",
    "\n",
    "plt.plot(lambdas,detKt,'--*r')\n",
    "plt.grid(True)\n",
    "plt.xlabel('Load factor, $ \\lambda $')\n",
    "plt.ylabel(\"Stability index, $ {det}\\: {\\\\bf K}_t $\")\n",
    "plt.show()\n",
    "\n",
    "model.plot(factor=10.0)\n",
    "\n",
    "model.beamValuePlot(\"F\")\n",
    "model.beamValuePlot(\"M\")\n",
    "model.beamValuePlot(\"V\")\n"
   ]
  },
  {
   "cell_type": "code",
   "execution_count": 13,
   "id": "d5976e9c",
   "metadata": {},
   "outputs": [
    {
     "data": {
      "image/png": "[encoded data removed]",
      "text/plain": [
       "<Figure size 432x288 with 1 Axes>"
      ]
     },
     "metadata": {
      "needs_background": "light"
     },
     "output_type": "display_data"
    }
   ],
   "source": [
    "# buckling (mode) shapes can be computed and plotted as well\n",
    "#\n",
    "# mode=0 is the closest mode.  This is the default\n",
    "\n",
    "model.plotBucklingMode(factor=200.)"
   ]
  },
  {
   "cell_type": "markdown",
   "id": "494e19b8",
   "metadata": {},
   "source": [
    "## Adding just one load step"
   ]
  },
  {
   "cell_type": "code",
   "execution_count": 15,
   "id": "548cb235",
   "metadata": {},
   "outputs": [
    {
     "name": "stdout",
     "output_type": "stream",
     "text": [
      "norm of the out-of-balance force:   2.4391e-08\n",
      "+\n",
      "\n",
      " ** Stability check: (smallest eigenvalue of Kt) = 0.016748315090521947\n",
      "\n"
     ]
    },
    {
     "data": {
      "image/png": "[encoded data removed]",
      "text/plain": [
       "<Figure size 432x288 with 1 Axes>"
      ]
     },
     "metadata": {
      "needs_background": "light"
     },
     "output_type": "display_data"
    },
    {
     "data": {
      "image/png": "[encoded data removed]",
      "text/plain": [
       "<Figure size 432x288 with 1 Axes>"
      ]
     },
     "metadata": {
      "needs_background": "light"
     },
     "output_type": "display_data"
    }
   ],
   "source": [
    "# move to load level 33.\n",
    "\n",
    "model.setLoadFactor(32.)\n",
    "model.solve(verbose=True)\n",
    "\n",
    "# stability check\n",
    "lambdas.append(model.loadfactor)\n",
    "detKt.append(model.solver.checkStability())\n",
    "\n",
    "# buckling (mode) shapes can be computed and plotted as well\n",
    "#\n",
    "# mode=0 is the closest mode.  This is the default\n",
    "\n",
    "plt.plot(lambdas,detKt,'--*r')\n",
    "plt.grid(True)\n",
    "plt.xlabel('Load factor, $ \\lambda $')\n",
    "plt.ylabel(\"Stability index, $ {det}\\: {\\\\bf K}_t $\")\n",
    "plt.show()\n",
    "\n",
    "model.plotBucklingMode(factor=200.)"
   ]
  },
  {
   "cell_type": "code",
   "execution_count": null,
   "id": "af22b66a",
   "metadata": {},
   "outputs": [],
   "source": []
  }
 ],
 "metadata": {
  "kernelspec": {
   "display_name": "Python 3 (ipykernel)",
   "language": "python",
   "name": "python3"
  },
  "language_info": {
   "codemirror_mode": {
    "name": "ipython",
    "version": 3
   },
   "file_extension": ".py",
   "mimetype": "text/x-python",
   "name": "python",
   "nbconvert_exporter": "python",
   "pygments_lexer": "ipython3",
   "version": "3.10.8"
  }
 },
 "nbformat": 4,
 "nbformat_minor": 5
}
