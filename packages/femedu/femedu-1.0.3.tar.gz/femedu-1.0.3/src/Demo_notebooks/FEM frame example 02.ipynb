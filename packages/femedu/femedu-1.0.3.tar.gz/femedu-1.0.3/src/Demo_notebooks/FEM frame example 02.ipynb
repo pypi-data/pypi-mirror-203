{
 "cells": [
  {
   "cell_type": "markdown",
   "id": "9c59a118",
   "metadata": {},
   "source": [
    "# A Finite Element Examples: Frame 02\n",
    "\n",
    "This example is based on the frame02 example distributed with FEM.edu\n",
    "\n",
    "It is a rotated version of frame01 to verify coordinate invariance"
   ]
  },
  {
   "cell_type": "markdown",
   "id": "59ec54b3",
   "metadata": {},
   "source": [
    "## Load needed components"
   ]
  },
  {
   "cell_type": "markdown",
   "id": "606af4c0",
   "metadata": {},
   "source": [
    "We need to add the local code to the path or python won't find FEM.edu"
   ]
  },
  {
   "cell_type": "code",
   "execution_count": 1,
   "id": "87e9aa99",
   "metadata": {},
   "outputs": [],
   "source": [
    "import sys, os\n",
    "sys.path.insert(0, os.path.abspath(os.path.join(\"..\")))"
   ]
  },
  {
   "cell_type": "markdown",
   "id": "0cbe6efe",
   "metadata": {},
   "source": [
    "Now load the needed components of FEM.edu"
   ]
  },
  {
   "cell_type": "code",
   "execution_count": 2,
   "id": "8677f776",
   "metadata": {},
   "outputs": [],
   "source": [
    "from femedu.domain import *\n",
    "from femedu.solver.NewtonRaphsonSolver import *\n",
    "from femedu.elements.Frame2D import *\n",
    "from femedu.materials.ElasticSection import *"
   ]
  },
  {
   "cell_type": "markdown",
   "id": "e6818727",
   "metadata": {},
   "source": [
    "## Build a model"
   ]
  },
  {
   "cell_type": "code",
   "execution_count": 3,
   "id": "27c5939c",
   "metadata": {},
   "outputs": [],
   "source": [
    "# ========== setting mesh parameters ==============\n",
    "\n",
    "N = 8         # number of elements in the mesh\n",
    "L = 100.0     # column free length\n",
    "\n",
    "\n",
    "# ========== setting material parameters ==============\n",
    "\n",
    "params = dict(\n",
    "    E = 20000.,    # Young's modulus\n",
    "    A = 100.0,     # cross section area\n",
    "    I = 10.0       # cross section moment of inertia\n",
    ")\n",
    "\n",
    "# ========== setting load parameters ==============\n",
    "\n",
    "w   = -0.1         # uniform lateral load on the column\n",
    "Pcr = np.pi**2 * params['E'] * params['I'] / L**2    # Euler buckling load\n",
    "\n",
    "# ========== setting analysis parameters ==============\n",
    "\n",
    "target_load_level = 0.99      # 99% of Euler load\n",
    "max_steps = 10                # solve max_steps points on the primary path\n",
    "\n",
    "\n",
    "w   *= 0.01\n",
    "Pcr *= 0.01\n",
    "target_load_level = 99.      # 99% of Euler load\n",
    "\n",
    "\n",
    "\n",
    "# define a list of target load levels\n",
    "load_levels = np.linspace(0, target_load_level, max_steps)\n",
    "\n",
    "#\n",
    "# ==== Build the system model ====\n",
    "#\n",
    "\n",
    "model = System()\n",
    "model.setSolver(NewtonRaphsonSolver())\n",
    "\n",
    "# create nodes\n",
    "\n",
    "nd0 = Node(0.0, 0.0)\n",
    "model += nd0\n",
    "\n",
    "ndi = nd0\n",
    "for i in range(N):\n",
    "    # nodes\n",
    "    ndj = Node( 0.0, (i+1)*L/N )\n",
    "    model += ndj\n",
    "\n",
    "    # elements\n",
    "    elem = Frame2D(ndi, ndj, ElasticSection(params))\n",
    "    model += elem\n",
    "\n",
    "    # ** apply the element portion of the reference load\n",
    "    elem.setDistLoad(w)\n",
    "\n",
    "    ndi = ndj    # jump to next element: make current end-node the next start-node\n",
    "\n",
    "# define support(s)\n",
    "\n",
    "nd0.fixDOF('ux', 'uy')    # horizontal support left end\n",
    "ndi.fixDOF('ux')          # vertical support right end\n",
    "\n",
    "# ==== complete the reference load ====\n",
    "\n",
    "# these are only nodal forces as part of the reference load\n",
    "# .. load only the upper node\n",
    "ndi.setLoad((-Pcr,), ('uy',))\n"
   ]
  },
  {
   "cell_type": "markdown",
   "id": "fc41d46e",
   "metadata": {},
   "source": [
    "## Analyze the model"
   ]
  },
  {
   "cell_type": "code",
   "execution_count": 4,
   "id": "d39cabf8",
   "metadata": {},
   "outputs": [
    {
     "name": "stdout",
     "output_type": "stream",
     "text": [
      "norm of the out-of-balance force:   1.9743e+00\n",
      "norm of the out-of-balance force:   3.2920e-04\n",
      "norm of the out-of-balance force:   9.2303e-11\n",
      "+\n",
      "\n",
      "System Analysis Report\n",
      "=======================\n",
      "\n",
      "Nodes:\n",
      "---------------------\n",
      "  Node 0: {'ux': 0, 'uy': 1, 'rz': 2}\n",
      "          x:[0. 0.], fix:['ux', 'uy'], \n",
      "          P:[0. 0. 0.], u:[ 0.          0.         -0.00021041]\n",
      "  Node 1: {'ux': 0, 'uy': 1, 'rz': 2}\n",
      "          x:[ 0.  12.5], fix:[], \n",
      "          P:[0. 0. 0.], u:[ 2.55316324e-03 -1.23370055e-05 -1.92346700e-04]\n",
      "  Node 2: {'ux': 0, 'uy': 1, 'rz': 2}\n",
      "          x:[ 0. 25.], fix:[], \n",
      "          P:[0. 0. 0.], u:[ 4.68537076e-03 -2.46740110e-05 -1.44693546e-04]\n",
      "  Node 3: {'ux': 0, 'uy': 1, 'rz': 2}\n",
      "          x:[ 0.  37.5], fix:[], \n",
      "          P:[0. 0. 0.], u:[ 6.08819829e-03 -3.70110165e-05 -7.72885446e-05]\n",
      "  Node 4: {'ux': 0, 'uy': 1, 'rz': 2}\n",
      "          x:[ 0. 50.], fix:[], \n",
      "          P:[0. 0. 0.], u:[ 6.57640083e-03 -4.93480220e-05 -2.36611224e-15]\n",
      "  Node 5: {'ux': 0, 'uy': 1, 'rz': 2}\n",
      "          x:[ 0.  62.5], fix:[], \n",
      "          P:[0. 0. 0.], u:[ 6.08819829e-03 -6.16850275e-05  7.72885446e-05]\n",
      "  Node 6: {'ux': 0, 'uy': 1, 'rz': 2}\n",
      "          x:[ 0. 75.], fix:[], \n",
      "          P:[0. 0. 0.], u:[ 4.68537076e-03 -7.40220330e-05  1.44693546e-04]\n",
      "  Node 7: {'ux': 0, 'uy': 1, 'rz': 2}\n",
      "          x:[ 0.  87.5], fix:[], \n",
      "          P:[0. 0. 0.], u:[ 2.55316324e-03 -8.63590385e-05  1.92346700e-04]\n",
      "  Node 8: {'ux': 0, 'uy': 1, 'rz': 2}\n",
      "          x:[  0. 100.], fix:['ux'], \n",
      "          P:[ 0.         -1.97392088  0.        ], u:[ 0.00000000e+00 -9.86960440e-05  2.10410159e-04]\n",
      "\n",
      "Elements:\n",
      "---------------------\n",
      "  Frame2D: node 0 to node 1:\n",
      "     material properties: ElasticSection(Material)({'E': 20000.0, 'A': 100.0, 'I': 10.0, 'nu': 0.0, 'fy': 1e+30})  strain:{'axial': -9.869604401089357e-07, 'flexure': 0.0}   stress:{'axial': -1.9739208802178714, 'flexure': 0.0}  \n",
      "     internal forces: f0=-1.97 V0=0.04 M0=0.01 fl=-1.97 Vl=0.04 Ml=0.56 Pw=-0.01 Mw=-0.01\n",
      "  Frame2D: node 1 to node 2:\n",
      "     material properties: ElasticSection(Material)({'E': 20000.0, 'A': 100.0, 'I': 10.0, 'nu': 0.0, 'fy': 1e+30})  strain:{'axial': -9.869604401089357e-07, 'flexure': 0.0}   stress:{'axial': -1.9739208802178714, 'flexure': 0.0}  \n",
      "     internal forces: f0=-1.97 V0=0.03 M0=0.56 fl=-1.97 Vl=0.03 Ml=0.96 Pw=-0.01 Mw=-0.01\n",
      "  Frame2D: node 2 to node 3:\n",
      "     material properties: ElasticSection(Material)({'E': 20000.0, 'A': 100.0, 'I': 10.0, 'nu': 0.0, 'fy': 1e+30})  strain:{'axial': -9.86960440108936e-07, 'flexure': 0.0}   stress:{'axial': -1.9739208802178718, 'flexure': 0.0}  \n",
      "     internal forces: f0=-1.97 V0=0.02 M0=0.96 fl=-1.97 Vl=0.02 Ml=1.20 Pw=-0.01 Mw=-0.01\n",
      "  Frame2D: node 3 to node 4:\n",
      "     material properties: ElasticSection(Material)({'E': 20000.0, 'A': 100.0, 'I': 10.0, 'nu': 0.0, 'fy': 1e+30})  strain:{'axial': -9.869604401089357e-07, 'flexure': 0.0}   stress:{'axial': -1.9739208802178714, 'flexure': 0.0}  \n",
      "     internal forces: f0=-1.97 V0=0.01 M0=1.20 fl=-1.97 Vl=0.01 Ml=1.28 Pw=-0.01 Mw=-0.01\n",
      "  Frame2D: node 4 to node 5:\n",
      "     material properties: ElasticSection(Material)({'E': 20000.0, 'A': 100.0, 'I': 10.0, 'nu': 0.0, 'fy': 1e+30})  strain:{'axial': -9.869604401089362e-07, 'flexure': 0.0}   stress:{'axial': -1.9739208802178723, 'flexure': 0.0}  \n",
      "     internal forces: f0=-1.97 V0=-0.01 M0=1.28 fl=-1.97 Vl=-0.01 Ml=1.20 Pw=-0.01 Mw=-0.01\n",
      "  Frame2D: node 5 to node 6:\n",
      "     material properties: ElasticSection(Material)({'E': 20000.0, 'A': 100.0, 'I': 10.0, 'nu': 0.0, 'fy': 1e+30})  strain:{'axial': -9.869604401089357e-07, 'flexure': 0.0}   stress:{'axial': -1.9739208802178714, 'flexure': 0.0}  \n",
      "     internal forces: f0=-1.97 V0=-0.02 M0=1.20 fl=-1.97 Vl=-0.02 Ml=0.96 Pw=-0.01 Mw=-0.01\n",
      "  Frame2D: node 6 to node 7:\n",
      "     material properties: ElasticSection(Material)({'E': 20000.0, 'A': 100.0, 'I': 10.0, 'nu': 0.0, 'fy': 1e+30})  strain:{'axial': -9.869604401089357e-07, 'flexure': 0.0}   stress:{'axial': -1.9739208802178714, 'flexure': 0.0}  \n",
      "     internal forces: f0=-1.97 V0=-0.03 M0=0.96 fl=-1.97 Vl=-0.03 Ml=0.56 Pw=-0.01 Mw=-0.01\n",
      "  Frame2D: node 7 to node 8:\n",
      "     material properties: ElasticSection(Material)({'E': 20000.0, 'A': 100.0, 'I': 10.0, 'nu': 0.0, 'fy': 1e+30})  strain:{'axial': -9.869604401089357e-07, 'flexure': 0.0}   stress:{'axial': -1.9739208802178714, 'flexure': 0.0}  \n",
      "     internal forces: f0=-1.97 V0=-0.04 M0=0.56 fl=-1.97 Vl=-0.04 Ml=0.01 Pw=-0.01 Mw=-0.01\n",
      "\n"
     ]
    }
   ],
   "source": [
    "\n",
    "model.solve(verbose=True)\n",
    "\n",
    "model.report()\n"
   ]
  },
  {
   "cell_type": "code",
   "execution_count": 5,
   "id": "95bd9427",
   "metadata": {},
   "outputs": [
    {
     "data": {
      "image/png": "[encoded data removed]",
      "text/plain": [
       "<Figure size 432x288 with 1 Axes>"
      ]
     },
     "metadata": {
      "needs_background": "light"
     },
     "output_type": "display_data"
    },
    {
     "data": {
      "image/png": "[encoded data removed]",
      "text/plain": [
       "<Figure size 432x288 with 1 Axes>"
      ]
     },
     "metadata": {
      "needs_background": "light"
     },
     "output_type": "display_data"
    },
    {
     "data": {
      "image/png": "[encoded data removed]",
      "text/plain": [
       "<Figure size 432x288 with 1 Axes>"
      ]
     },
     "metadata": {
      "needs_background": "light"
     },
     "output_type": "display_data"
    },
    {
     "data": {
      "image/png": "[encoded data removed]",
      "text/plain": [
       "<Figure size 432x288 with 1 Axes>"
      ]
     },
     "metadata": {
      "needs_background": "light"
     },
     "output_type": "display_data"
    }
   ],
   "source": [
    "# create plots\n",
    "\n",
    "model.plot(factor=1000.0, filename=\"frame2_deformed.png\")\n",
    "\n",
    "model.beamValuePlot(\"F\", filename=\"frame2_force.png\")\n",
    "model.beamValuePlot(\"M\", filename=\"frame2_moment.png\")\n",
    "model.beamValuePlot(\"V\", filename=\"frame2_shear.png\")"
   ]
  },
  {
   "cell_type": "markdown",
   "id": "9dc16de0",
   "metadata": {},
   "source": [
    "## Stability Analysis"
   ]
  },
  {
   "cell_type": "code",
   "execution_count": 6,
   "id": "b9aff45d",
   "metadata": {},
   "outputs": [
    {
     "name": "stdout",
     "output_type": "stream",
     "text": [
      "norm of the out-of-balance force:   1.9743e+00\n",
      "norm of the out-of-balance force:   8.2767e-15\n",
      "+\n",
      "\n",
      " ** Stability check: (smallest eigenvalue of Kt) = 2.4321440383415878\n",
      "\n",
      "+\n",
      "\n",
      "=== next load level ===\n",
      "\n",
      "norm of the out-of-balance force:   2.1717e+01\n",
      "norm of the out-of-balance force:   3.9834e-02\n",
      "norm of the out-of-balance force:   3.5499e-11\n",
      "+\n",
      "\n",
      " ** Stability check: (smallest eigenvalue of Kt) = 2.1646162525410557\n",
      "\n",
      "+\n",
      "\n",
      "=== next load level ===\n",
      "\n",
      "norm of the out-of-balance force:   2.1717e+01\n",
      "norm of the out-of-balance force:   8.9520e-02\n",
      "norm of the out-of-balance force:   2.5426e-11\n",
      "+\n",
      "\n",
      " ** Stability check: (smallest eigenvalue of Kt) = 1.8970864808859564\n",
      "\n",
      "+\n",
      "\n",
      "=== next load level ===\n",
      "\n",
      "norm of the out-of-balance force:   2.1717e+01\n",
      "norm of the out-of-balance force:   1.5323e-01\n",
      "norm of the out-of-balance force:   2.8597e-11\n",
      "+\n",
      "\n",
      " ** Stability check: (smallest eigenvalue of Kt) = 1.629554720728684\n",
      "\n",
      "+\n",
      "\n",
      "=== next load level ===\n",
      "\n",
      "norm of the out-of-balance force:   2.1717e+01\n",
      "norm of the out-of-balance force:   2.3787e-01\n",
      "norm of the out-of-balance force:   4.7297e-11\n",
      "+\n",
      "\n",
      " ** Stability check: (smallest eigenvalue of Kt) = 1.3620209694514658\n",
      "\n",
      "+\n",
      "\n",
      "=== next load level ===\n",
      "\n",
      "norm of the out-of-balance force:   2.1717e+01\n",
      "norm of the out-of-balance force:   3.5578e-01\n",
      "norm of the out-of-balance force:   4.8755e-11\n",
      "+\n",
      "\n",
      " ** Stability check: (smallest eigenvalue of Kt) = 1.0944852246259873\n",
      "\n",
      "+\n",
      "\n",
      "=== next load level ===\n",
      "\n",
      "norm of the out-of-balance force:   2.1717e+01\n",
      "norm of the out-of-balance force:   5.3137e-01\n",
      "norm of the out-of-balance force:   2.1480e-11\n",
      "+\n",
      "\n",
      " ** Stability check: (smallest eigenvalue of Kt) = 0.8269474835226704\n",
      "\n",
      "+\n",
      "\n",
      "=== next load level ===\n",
      "\n",
      "norm of the out-of-balance force:   2.1717e+01\n",
      "norm of the out-of-balance force:   8.2064e-01\n",
      "norm of the out-of-balance force:   2.8380e-12\n",
      "+\n",
      "\n",
      " ** Stability check: (smallest eigenvalue of Kt) = 0.5594077438585509\n",
      "\n",
      "+\n",
      "\n",
      "=== next load level ===\n",
      "\n",
      "norm of the out-of-balance force:   2.1717e+01\n",
      "norm of the out-of-balance force:   1.3867e+00\n",
      "norm of the out-of-balance force:   1.9656e-11\n",
      "+\n",
      "\n",
      " ** Stability check: (smallest eigenvalue of Kt) = 0.2918660028754745\n",
      "\n",
      "+\n",
      "\n",
      "=== next load level ===\n",
      "\n",
      "norm of the out-of-balance force:   2.1717e+01\n",
      "norm of the out-of-balance force:   2.9907e+00\n",
      "norm of the out-of-balance force:   6.8057e-09\n",
      "+\n",
      "\n",
      " ** Stability check: (smallest eigenvalue of Kt) = 0.024322257991230584\n",
      "\n",
      "+\n",
      "\n",
      "=== next load level ===\n",
      "\n"
     ]
    }
   ],
   "source": [
    "# initialize the analysis:\n",
    "model.resetDisplacements()   # set U to all zeros\n",
    "model.setLoadFactor(0.0)     # define a known equilibrium solution\n",
    "\n",
    "model.startRecorder()        # not doing anything yet, but will do the data collection soon\n",
    "\n",
    "detKt   = []\n",
    "lambdas = []\n",
    "\n",
    "# solve for all load_levels\n",
    "for loadfactor in load_levels:\n",
    "\n",
    "    # define node X2 as the controled node; downward direction is prescribed:\n",
    "    model.setLoadFactor(loadfactor)\n",
    "    model.solve(verbose=True)\n",
    "\n",
    "    # stability check\n",
    "    lambdas.append(model.loadfactor)\n",
    "    detKt.append(model.solver.checkStability())\n",
    "\n",
    "    # report results\n",
    "    print('+')\n",
    "    #model.report()\n",
    "\n",
    "    print(\"\\n=== next load level ===\\n\")\n"
   ]
  },
  {
   "cell_type": "code",
   "execution_count": 7,
   "id": "e4f97d43",
   "metadata": {},
   "outputs": [
    {
     "name": "stdout",
     "output_type": "stream",
     "text": [
      "\n",
      "System Analysis Report\n",
      "=======================\n",
      "\n",
      "Nodes:\n",
      "---------------------\n",
      "  Node 0: {'ux': 0, 'uy': 1, 'rz': 2}\n",
      "          x:[0. 0.], fix:['ux', 'uy'], \n",
      "          P:[0. 0. 0.], u:[ 0.          0.         -2.03292855]\n",
      "  Node 1: {'ux': 0, 'uy': 1, 'rz': 2}\n",
      "          x:[ 0.  12.5], fix:[], \n",
      "          P:[0. 0. 0.], u:[ 2.47624315e+01 -1.22136354e-03 -1.87795981e+00]\n",
      "  Node 2: {'ux': 0, 'uy': 1, 'rz': 2}\n",
      "          x:[ 0. 25.], fix:[], \n",
      "          P:[0. 0. 0.], u:[ 4.57514676e+01 -2.44272709e-03 -1.43704758e+00]\n",
      "  Node 3: {'ux': 0, 'uy': 1, 'rz': 2}\n",
      "          x:[ 0.  37.5], fix:[], \n",
      "          P:[0. 0. 0.], u:[ 5.97734339e+01 -3.66409063e-03 -7.77608633e-01]\n",
      "  Node 4: {'ux': 0, 'uy': 1, 'rz': 2}\n",
      "          x:[ 0. 50.], fix:[], \n",
      "          P:[0. 0. 0.], u:[ 6.46967903e+01 -4.88545418e-03 -5.09273187e-13]\n",
      "  Node 5: {'ux': 0, 'uy': 1, 'rz': 2}\n",
      "          x:[ 0.  62.5], fix:[], \n",
      "          P:[0. 0. 0.], u:[ 5.97734339e+01 -6.10681772e-03  7.77608633e-01]\n",
      "  Node 6: {'ux': 0, 'uy': 1, 'rz': 2}\n",
      "          x:[ 0. 75.], fix:[], \n",
      "          P:[0. 0. 0.], u:[ 4.57514676e+01 -7.32818127e-03  1.43704758e+00]\n",
      "  Node 7: {'ux': 0, 'uy': 1, 'rz': 2}\n",
      "          x:[ 0.  87.5], fix:[], \n",
      "          P:[0. 0. 0.], u:[ 2.47624315e+01 -8.54954481e-03  1.87795981e+00]\n",
      "  Node 8: {'ux': 0, 'uy': 1, 'rz': 2}\n",
      "          x:[  0. 100.], fix:['ux'], \n",
      "          P:[ 0.         -1.97392088  0.        ], u:[ 0.         -0.00977091  2.03292855]\n",
      "\n",
      "Elements:\n",
      "---------------------\n",
      "  Frame2D: node 0 to node 1:\n",
      "     material properties: ElasticSection(Material)({'E': 20000.0, 'A': 100.0, 'I': 10.0, 'nu': 0.0, 'fy': 1e+30})  strain:{'axial': -9.770908357078466e-05, 'flexure': 0.0}   stress:{'axial': -195.4181671415693, 'flexure': 0.0}  \n",
      "     internal forces: f0=-195.42 V0=4.33 M0=1.29 fl=-195.42 Vl=4.33 Ml=4894.46 Pw=-0.62 Mw=-1.29\n",
      "  Frame2D: node 1 to node 2:\n",
      "     material properties: ElasticSection(Material)({'E': 20000.0, 'A': 100.0, 'I': 10.0, 'nu': 0.0, 'fy': 1e+30})  strain:{'axial': -9.770908357078466e-05, 'flexure': 0.0}   stress:{'axial': -195.4181671415693, 'flexure': 0.0}  \n",
      "     internal forces: f0=-195.42 V0=3.09 M0=4894.46 fl=-195.42 Vl=3.09 Ml=9034.77 Pw=-0.62 Mw=-1.29\n",
      "  Frame2D: node 2 to node 3:\n",
      "     material properties: ElasticSection(Material)({'E': 20000.0, 'A': 100.0, 'I': 10.0, 'nu': 0.0, 'fy': 1e+30})  strain:{'axial': -9.770908357078462e-05, 'flexure': 0.0}   stress:{'axial': -195.41816714156923, 'flexure': 0.0}  \n",
      "     internal forces: f0=-195.42 V0=1.86 M0=9034.77 fl=-195.42 Vl=1.86 Ml=11798.12 Pw=-0.62 Mw=-1.29\n",
      "  Frame2D: node 3 to node 4:\n",
      "     material properties: ElasticSection(Material)({'E': 20000.0, 'A': 100.0, 'I': 10.0, 'nu': 0.0, 'fy': 1e+30})  strain:{'axial': -9.770908357078462e-05, 'flexure': 0.0}   stress:{'axial': -195.41816714156923, 'flexure': 0.0}  \n",
      "     internal forces: f0=-195.42 V0=0.62 M0=11798.12 fl=-195.42 Vl=0.62 Ml=12767.97 Pw=-0.62 Mw=-1.29\n",
      "  Frame2D: node 4 to node 5:\n",
      "     material properties: ElasticSection(Material)({'E': 20000.0, 'A': 100.0, 'I': 10.0, 'nu': 0.0, 'fy': 1e+30})  strain:{'axial': -9.770908357078466e-05, 'flexure': 0.0}   stress:{'axial': -195.4181671415693, 'flexure': 0.0}  \n",
      "     internal forces: f0=-195.42 V0=-0.62 M0=12767.97 fl=-195.42 Vl=-0.62 Ml=11798.12 Pw=-0.62 Mw=-1.29\n",
      "  Frame2D: node 5 to node 6:\n",
      "     material properties: ElasticSection(Material)({'E': 20000.0, 'A': 100.0, 'I': 10.0, 'nu': 0.0, 'fy': 1e+30})  strain:{'axial': -9.770908357078466e-05, 'flexure': 0.0}   stress:{'axial': -195.4181671415693, 'flexure': 0.0}  \n",
      "     internal forces: f0=-195.42 V0=-1.86 M0=11798.12 fl=-195.42 Vl=-1.86 Ml=9034.77 Pw=-0.62 Mw=-1.29\n",
      "  Frame2D: node 6 to node 7:\n",
      "     material properties: ElasticSection(Material)({'E': 20000.0, 'A': 100.0, 'I': 10.0, 'nu': 0.0, 'fy': 1e+30})  strain:{'axial': -9.770908357078466e-05, 'flexure': 0.0}   stress:{'axial': -195.4181671415693, 'flexure': 0.0}  \n",
      "     internal forces: f0=-195.42 V0=-3.09 M0=9034.77 fl=-195.42 Vl=-3.09 Ml=4894.46 Pw=-0.62 Mw=-1.29\n",
      "  Frame2D: node 7 to node 8:\n",
      "     material properties: ElasticSection(Material)({'E': 20000.0, 'A': 100.0, 'I': 10.0, 'nu': 0.0, 'fy': 1e+30})  strain:{'axial': -9.770908357078459e-05, 'flexure': 0.0}   stress:{'axial': -195.4181671415692, 'flexure': 0.0}  \n",
      "     internal forces: f0=-195.42 V0=-4.33 M0=4894.46 fl=-195.42 Vl=-4.33 Ml=1.29 Pw=-0.62 Mw=-1.29\n",
      "\n"
     ]
    }
   ],
   "source": [
    "#\n",
    "# ==== check the current state of the model ===\n",
    "#\n",
    "\n",
    "model.report()"
   ]
  },
  {
   "cell_type": "code",
   "execution_count": 8,
   "id": "92a5aa49",
   "metadata": {},
   "outputs": [
    {
     "data": {
      "image/png": "[encoded data removed]",
      "text/plain": [
       "<Figure size 432x288 with 1 Axes>"
      ]
     },
     "metadata": {
      "needs_background": "light"
     },
     "output_type": "display_data"
    },
    {
     "data": {
      "image/png": "[encoded data removed]",
      "text/plain": [
       "<Figure size 432x288 with 1 Axes>"
      ]
     },
     "metadata": {
      "needs_background": "light"
     },
     "output_type": "display_data"
    },
    {
     "data": {
      "image/png": "[encoded data removed]",
      "text/plain": [
       "<Figure size 432x288 with 1 Axes>"
      ]
     },
     "metadata": {
      "needs_background": "light"
     },
     "output_type": "display_data"
    },
    {
     "data": {
      "image/png": "[encoded data removed]",
      "text/plain": [
       "<Figure size 432x288 with 1 Axes>"
      ]
     },
     "metadata": {
      "needs_background": "light"
     },
     "output_type": "display_data"
    },
    {
     "data": {
      "image/png": "[encoded data removed]",
      "text/plain": [
       "<Figure size 432x288 with 1 Axes>"
      ]
     },
     "metadata": {
      "needs_background": "light"
     },
     "output_type": "display_data"
    },
    {
     "data": {
      "image/png": "[encoded data removed]",
      "text/plain": [
       "<Figure size 432x288 with 1 Axes>"
      ]
     },
     "metadata": {
      "needs_background": "light"
     },
     "output_type": "display_data"
    }
   ],
   "source": [
    "#\n",
    "# ==== create some nice plots ===\n",
    "#\n",
    "\n",
    "plt.plot(lambdas,detKt,'--*r')\n",
    "plt.grid(True)\n",
    "plt.xlabel('Load factor, $ \\lambda $')\n",
    "plt.ylabel(\"Stability index, $ {det}\\: {\\\\bf K}_t $\")\n",
    "plt.show()\n",
    "\n",
    "model.plot(factor=1.0)\n",
    "\n",
    "model.beamValuePlot(\"F\")\n",
    "model.beamValuePlot(\"M\")\n",
    "model.beamValuePlot(\"V\")\n",
    "\n",
    "model.plotBucklingMode(factor=10., filename=\"frame2_buckling_mode0.png\")\n"
   ]
  },
  {
   "cell_type": "code",
   "execution_count": null,
   "id": "7c341f5c",
   "metadata": {},
   "outputs": [],
   "source": []
  }
 ],
 "metadata": {
  "kernelspec": {
   "display_name": "Python 3 (ipykernel)",
   "language": "python",
   "name": "python3"
  },
  "language_info": {
   "codemirror_mode": {
    "name": "ipython",
    "version": 3
   },
   "file_extension": ".py",
   "mimetype": "text/x-python",
   "name": "python",
   "nbconvert_exporter": "python",
   "pygments_lexer": "ipython3",
   "version": "3.10.8"
  }
 },
 "nbformat": 4,
 "nbformat_minor": 5
}
