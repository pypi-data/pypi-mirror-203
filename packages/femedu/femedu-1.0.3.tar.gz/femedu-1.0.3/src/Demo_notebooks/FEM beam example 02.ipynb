{
 "cells": [
  {
   "cell_type": "markdown",
   "id": "9c59a118",
   "metadata": {},
   "source": [
    "# A Finite Element Examples: Beam 02\n",
    "\n",
    "This example is based on the beam02 example distributed with FEM.edu\n",
    "\n",
    "Class demo"
   ]
  },
  {
   "cell_type": "markdown",
   "id": "59ec54b3",
   "metadata": {},
   "source": [
    "## Load needed components"
   ]
  },
  {
   "cell_type": "markdown",
   "id": "606af4c0",
   "metadata": {},
   "source": [
    "We need to add the local code to the path or python won't find FEM.edu"
   ]
  },
  {
   "cell_type": "code",
   "execution_count": 1,
   "id": "87e9aa99",
   "metadata": {},
   "outputs": [],
   "source": [
    "import sys, os\n",
    "sys.path.insert(0, os.path.abspath(os.path.join(\"..\")))"
   ]
  },
  {
   "cell_type": "markdown",
   "id": "0cbe6efe",
   "metadata": {},
   "source": [
    "Now load the needed components of FEM.edu"
   ]
  },
  {
   "cell_type": "code",
   "execution_count": 2,
   "id": "8677f776",
   "metadata": {},
   "outputs": [],
   "source": [
    "from femedu.domain import *\n",
    "from femedu.elements.Beam2D import *\n",
    "from femedu.materials.ElasticSection import ElasticSection"
   ]
  },
  {
   "cell_type": "markdown",
   "id": "e6818727",
   "metadata": {},
   "source": [
    "## Build a model"
   ]
  },
  {
   "cell_type": "code",
   "execution_count": 3,
   "id": "bc78b102",
   "metadata": {},
   "outputs": [],
   "source": [
    "# initialize a system model\n",
    "SpanLengths = [ 8.0 * 12, 10.0 * 12, 8.0 * 12 ]\n",
    "Nelems = 2     # number of elements\n",
    "params = {'E': 29000., 'A': 5, 'I':50}\n",
    "\n",
    "# define load\n",
    "w = -1.00\n",
    "\n",
    "# meshing parameters\n",
    "Xnode  = 0.0\n",
    "Ynode  = 0.0\n",
    "Offset = 0.0\n",
    "\n",
    "model = System()\n",
    "\n",
    "# create left node\n",
    "nd0 = Node(Xnode, Ynode)\n",
    "nd0.fixDOF('ux', 'uy')     # pin support left end\n",
    "model += nd0\n",
    "\n",
    "# initialization for node and element creation\n",
    "ndi = nd0\n",
    "\n",
    "for SpanLength in SpanLengths:\n",
    "\n",
    "    Le = SpanLength / Nelems\n",
    "\n",
    "    for e in range(Nelems):\n",
    "        # create next node\n",
    "        Xnode += Le\n",
    "        ndj = Node(Xnode, Ynode)\n",
    "        model += ndj\n",
    "\n",
    "        # create elements\n",
    "        elem = Beam2D(ndi, ndj, ElasticSection(params))\n",
    "        model += elem\n",
    "\n",
    "        elem.setDistLoad(w)\n",
    "        \n",
    "        # shift one node to the right\n",
    "        ndi = ndj\n",
    "\n",
    "    # define support(s)\n",
    "    ndj.fixDOF('uy')           # roller support right end\n",
    "\n",
    "    # move on to the next span\n",
    "    Offset = Xnode\n",
    "\n",
    "# done building the model"
   ]
  },
  {
   "cell_type": "markdown",
   "id": "fe4851be",
   "metadata": {},
   "source": [
    "## Solve the system equations"
   ]
  },
  {
   "cell_type": "code",
   "execution_count": 4,
   "id": "7b81eed5",
   "metadata": {},
   "outputs": [],
   "source": [
    "# analyze the model\n",
    "model.solve()"
   ]
  },
  {
   "cell_type": "code",
   "execution_count": 5,
   "id": "99be63bf",
   "metadata": {},
   "outputs": [
    {
     "name": "stdout",
     "output_type": "stream",
     "text": [
      "\n",
      "System Analysis Report\n",
      "=======================\n",
      "\n",
      "Nodes:\n",
      "---------------------\n",
      "  Node 0: {'uy': 0, 'rz': 1}\n",
      "          x:[0. 0.], fix:['ux', 'uy'], \n",
      "          P:[0. 0.], u:[ 0.        -0.0123663]\n",
      "  Node 1: {'uy': 0, 'rz': 1}\n",
      "          x:[48.  0.], fix:[], \n",
      "          P:[0. 0.], u:[-0.292646    0.00326429]\n",
      "  Node 2: {'uy': 0, 'rz': 1}\n",
      "          x:[96.  0.], fix:['uy'], \n",
      "          P:[0. 0.], u:[ 0.         -0.00069085]\n",
      "  Node 3: {'uy': 0, 'rz': 1}\n",
      "          x:[156.   0.], fix:[], \n",
      "          P:[0. 0.], u:[-3.93139430e-01 -4.24063967e-19]\n",
      "  Node 4: {'uy': 0, 'rz': 1}\n",
      "          x:[216.   0.], fix:['uy'], \n",
      "          P:[0. 0.], u:[0.         0.00069085]\n",
      "  Node 5: {'uy': 0, 'rz': 1}\n",
      "          x:[264.   0.], fix:[], \n",
      "          P:[0. 0.], u:[-0.292646   -0.00326429]\n",
      "  Node 6: {'uy': 0, 'rz': 1}\n",
      "          x:[312.   0.], fix:['uy'], \n",
      "          P:[0. 0.], u:[0.        0.0123663]\n",
      "\n",
      "Elements:\n",
      "---------------------\n",
      "  Beam2D: node 0 to node 1:\n",
      "     material ElasticSection properties: {'E': 29000.0, 'A': 5, 'I': 50, 'nu': 0.0, 'fy': 1e+30}  strain:{'axial': 0.0, 'flexure': 0.0}   stress:{'axial': 0.0, 'flexure': 0.0}\n",
      "     nodal forces: Vi:11.673913043478258 Mi:-191.99999999999994 Vj:-11.673913043478258 Mj:752.3478260869563\n",
      "  Beam2D: node 1 to node 2:\n",
      "     material ElasticSection properties: {'E': 29000.0, 'A': 5, 'I': 50, 'nu': 0.0, 'fy': 1e+30}  strain:{'axial': 0.0, 'flexure': 0.0}   stress:{'axial': 0.0, 'flexure': 0.0}\n",
      "     nodal forces: Vi:-36.32608695652172 Mi:-752.347826086956 Vj:36.32608695652172 Mj:-991.3043478260865\n",
      "  Beam2D: node 2 to node 3:\n",
      "     material ElasticSection properties: {'E': 29000.0, 'A': 5, 'I': 50, 'nu': 0.0, 'fy': 1e+30}  strain:{'axial': 0.0, 'flexure': 0.0}   stress:{'axial': 0.0, 'flexure': 0.0}\n",
      "     nodal forces: Vi:29.999999999999993 Mi:883.3043478260867 Vj:-29.999999999999993 Mj:916.6956521739128\n",
      "  Beam2D: node 3 to node 4:\n",
      "     material ElasticSection properties: {'E': 29000.0, 'A': 5, 'I': 50, 'nu': 0.0, 'fy': 1e+30}  strain:{'axial': 0.0, 'flexure': 0.0}   stress:{'axial': 0.0, 'flexure': 0.0}\n",
      "     nodal forces: Vi:-29.99999999999999 Mi:-916.6956521739127 Vj:29.99999999999999 Mj:-883.3043478260865\n",
      "  Beam2D: node 4 to node 5:\n",
      "     material ElasticSection properties: {'E': 29000.0, 'A': 5, 'I': 50, 'nu': 0.0, 'fy': 1e+30}  strain:{'axial': 0.0, 'flexure': 0.0}   stress:{'axial': 0.0, 'flexure': 0.0}\n",
      "     nodal forces: Vi:36.32608695652173 Mi:991.3043478260865 Vj:-36.32608695652173 Mj:752.347826086956\n",
      "  Beam2D: node 5 to node 6:\n",
      "     material ElasticSection properties: {'E': 29000.0, 'A': 5, 'I': 50, 'nu': 0.0, 'fy': 1e+30}  strain:{'axial': 0.0, 'flexure': 0.0}   stress:{'axial': 0.0, 'flexure': 0.0}\n",
      "     nodal forces: Vi:-11.673913043478258 Mi:-752.347826086956 Vj:11.673913043478258 Mj:192.0\n",
      "\n"
     ]
    }
   ],
   "source": [
    "# lots of detail on the state of the model\n",
    "model.report()"
   ]
  },
  {
   "cell_type": "code",
   "execution_count": 6,
   "id": "95bd9427",
   "metadata": {},
   "outputs": [
    {
     "data": {
      "image/png": "[encoded data removed]",
      "text/plain": [
       "<Figure size 432x288 with 1 Axes>"
      ]
     },
     "metadata": {
      "needs_background": "light"
     },
     "output_type": "display_data"
    },
    {
     "data": {
      "image/png": "[encoded data removed]",
      "text/plain": [
       "<Figure size 432x288 with 1 Axes>"
      ]
     },
     "metadata": {
      "needs_background": "light"
     },
     "output_type": "display_data"
    },
    {
     "data": {
      "image/png": "[encoded data removed]",
      "text/plain": [
       "<Figure size 432x288 with 1 Axes>"
      ]
     },
     "metadata": {
      "needs_background": "light"
     },
     "output_type": "display_data"
    }
   ],
   "source": [
    "# create plots\n",
    "model.plot(factor=100., filename=\"beam02_deformed.png\")\n",
    "\n",
    "model.beamValuePlot('V', filename=\"beam02_shear.png\")\n",
    "model.beamValuePlot('M', filename=\"beam02_moment.png\")"
   ]
  },
  {
   "cell_type": "code",
   "execution_count": 7,
   "id": "8bbe3a2b",
   "metadata": {},
   "outputs": [
    {
     "name": "stdout",
     "output_type": "stream",
     "text": [
      "Node 5: {'uy': 0, 'rz': 1}\n",
      "        x:[264.   0.], fix:[], \n",
      "        P:[0. 0.], u:[-0.292646   -0.00326429]\n"
     ]
    }
   ],
   "source": [
    "# extracting information for a single node\n",
    "print(ndP)"
   ]
  },
  {
   "cell_type": "code",
   "execution_count": null,
   "id": "92d2264f",
   "metadata": {},
   "outputs": [],
   "source": []
  }
 ],
 "metadata": {
  "kernelspec": {
   "display_name": "Python 3 (ipykernel)",
   "language": "python",
   "name": "python3"
  },
  "language_info": {
   "codemirror_mode": {
    "name": "ipython",
    "version": 3
   },
   "file_extension": ".py",
   "mimetype": "text/x-python",
   "name": "python",
   "nbconvert_exporter": "python",
   "pygments_lexer": "ipython3",
   "version": "3.10.8"
  }
 },
 "nbformat": 4,
 "nbformat_minor": 5
}
