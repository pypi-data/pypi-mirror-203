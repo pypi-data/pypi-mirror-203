{
 "cells": [
  {
   "attachments": {},
   "cell_type": "markdown",
   "metadata": {},
   "source": [
    "# WaterpyBal API Example\n",
    "Here we are going develop an example to demonstrate the usage of WaterpyBal library."
   ]
  },
  {
   "attachments": {},
   "cell_type": "markdown",
   "metadata": {},
   "source": [
    "## Importing Waterpybal"
   ]
  },
  {
   "cell_type": "code",
   "execution_count": null,
   "metadata": {},
   "outputs": [
    {
     "ename": "",
     "evalue": "",
     "output_type": "error",
     "traceback": [
      "\u001b[1;31mRunning cells with 'watbalenv' requires the ipykernel package.\n",
      "\u001b[1;31mRun the following command to install 'ipykernel' into the Python environment. \n",
      "\u001b[1;31mCommand: 'conda install -n watbalenv ipykernel --update-deps --force-reinstall'"
     ]
    }
   ],
   "source": [
    "from waterpybal import dataset_gen,variable_management,SWR,Infiltration,Urban_cycle,PET,Balance, post_process\n",
    "import os\n",
    "import netCDF4 as nc\n",
    "import rasterio as rs\n"
   ]
  },
  {
   "attachments": {},
   "cell_type": "markdown",
   "metadata": {},
   "source": [
    "## Dataset Generation - Defining the dimensions"
   ]
  },
  {
   "cell_type": "code",
   "execution_count": 2,
   "metadata": {},
   "outputs": [],
   "source": [
    "# creating a dataset class\n",
    "dataset_cl=dataset_gen()\n",
    "\n",
    "#definig the dataset dimensions\n",
    "\n",
    "#defining the source that marks the study area.\n",
    "lat_lon_type=\"raster\"\n",
    "\n",
    "#the path to an example of a raster file of the study area\n",
    "sam_raster_dir=r\"...\\example_inputs\\regions.tif\"\n",
    "\n",
    "\n",
    "#defining the time source type\n",
    "time_type=\"time_dic\"\n",
    "time_dic={\n",
    "        \"start\":[\"2018\",\"01\",\"01\",\"00\"],\n",
    "        \"end\":[\"2022\",\"01\",\"01\",\"00\"],\n",
    "        }\n",
    "#Define the time interval of the dataset\n",
    "preferred_date_interval=\"Daily\" \n",
    "\n",
    "dataset_cl.ds_dimensions(\n",
    "\n",
    "            lat_lon_type=lat_lon_type,\n",
    "            lat_lon_source=sam_raster_dir,\n",
    "            time_source=None,\n",
    "            time_type=time_type,\n",
    "            preferred_date_interval=preferred_date_interval,\n",
    "            lat_name=None,\n",
    "            lon_name=None,\n",
    "            time_name=None,\n",
    "            border_res_dic=None,\n",
    "            time_dic=time_dic   \n",
    "        )\n",
    "\n"
   ]
  },
  {
   "attachments": {},
   "cell_type": "markdown",
   "metadata": {},
   "source": [
    "## Dataset Generation - Create the dataset and the variables"
   ]
  },
  {
   "cell_type": "code",
   "execution_count": 3,
   "metadata": {},
   "outputs": [],
   "source": [
    "# the path to save the new dataset\n",
    "dir=r\"...\\example.nc\"\n",
    "#define the extra variables that have to be included in the dataset\n",
    "ds_values_dic={\"tmean\":\"C\",\"tmin\":\"C\",\"tmax\":\"C\"} \n",
    "\n",
    "#If the study area contains an urban zone\n",
    "urban_ds=True\n",
    "#Generate the dataset\n",
    "ds=dataset_cl.var_generation(dir=dir,ds_values_dic=ds_values_dic,urban_ds=urban_ds)"
   ]
  },
  {
   "attachments": {},
   "cell_type": "markdown",
   "metadata": {},
   "source": [
    "## Variable interpolation and addition to the dataset"
   ]
  },
  {
   "cell_type": "code",
   "execution_count": null,
   "metadata": {},
   "outputs": [],
   "source": [
    "ras_sample_dir=sam_raster_dir\n",
    "csv_dir_temps=r\"...\\example_inputs\\monthly_temperature.csv\"\n",
    "csv_dir_prec=r\"...\\example_inputs\\daily_precipitation.csv\"\n",
    "time_csv_col=\"time\"\n",
    "lat_csv_col=\"lat\"\n",
    "lon_csv_col=\"lon\"\n",
    "\n",
    "#define the .csv paths\n",
    "csv_dirs=[csv_dir_prec,csv_dir_temps,csv_dir_temps,csv_dir_temps]\n",
    "#define if the values have to be distributed through the database (refer to manual)\n",
    "multiply=[True,False,False,False]\n",
    "\n",
    "#define the interpolation method\n",
    "method=\"linear: radius=-1:nodata=-9999\"\n",
    "\n",
    "#define the variable names\n",
    "var_names=[\"Prec\",\"tmean\",\"tmin\",\"tmax\"]\n",
    "\n",
    "#define the .CSV time intervals\n",
    "interpolation_time_ints=[\"Daily\",\"Monthly\",\"Monthly\",\"Monthly\"]\n",
    "\n",
    "#interpolate the variables\n",
    "for var_name,interpolation_time_int, csv_dir,mult in zip(var_names,interpolation_time_ints,csv_dirs,multiply):\n",
    "    ds=variable_management.var_interpolation(ds,ras_sample_dir,csv_dir,var_name,method,interpolation_time_int,time_csv_col,lat_csv_col,lon_csv_col,mult)\n"
   ]
  },
  {
   "attachments": {},
   "cell_type": "markdown",
   "metadata": {},
   "source": [
    "## Soil Water Reserve Calculation\n"
   ]
  },
  {
   "cell_type": "code",
   "execution_count": 12,
   "metadata": {},
   "outputs": [],
   "source": [
    "#how the SWR function behaves based on the dataset (refer to the manual)\n",
    "time_steps=None #same soil properties for the whole dataset. variable space.\n",
    "\n",
    "# Path to the multiband raster that contains \"cc\", \"pwp\" & \"rrt\" values. \n",
    "raster_SWR_infil_dir=r\"...\\example_inputs\\V4_cc1_pwp2_rrt3_lu4_hsg5_hc6.tif\"\n",
    "\n",
    "#raster bands\n",
    "raster_bands_dic_or_val=dict()\n",
    "raster_bands_dic_or_val['cc']=1\n",
    "raster_bands_dic_or_val['pwp']=2\n",
    "raster_bands_dic_or_val['rrt']=3\n",
    "\n",
    "ds=SWR.swr(ds,time_steps,raster_SWR_infil_dir,raster_bands_dic_or_val)"
   ]
  },
  {
   "attachments": {},
   "cell_type": "markdown",
   "metadata": {},
   "source": [
    "## ETP Calculation"
   ]
  },
  {
   "cell_type": "code",
   "execution_count": 13,
   "metadata": {},
   "outputs": [],
   "source": [
    "pet_method=\"hargreaves\"\n",
    "\n",
    "#latitude=45 degrees, the temperature values of the database have to be used to calculate the etp\n",
    "ds=PET.pet(ds,method=pet_method,lat=45,tmean=\"ds\",tmin=\"ds\",tmax=\"ds\")"
   ]
  },
  {
   "attachments": {},
   "cell_type": "markdown",
   "metadata": {},
   "source": [
    "## Infiltration Calculation"
   ]
  },
  {
   "cell_type": "code",
   "execution_count": 14,
   "metadata": {},
   "outputs": [
    {
     "name": "stdout",
     "output_type": "stream",
     "text": [
      "inf in runoff inf cal 0 0\n",
      "inf in runoff inf cal 0 after 195120317\n",
      "inf in runoff inf cal 9999 2 278904900\n",
      "inf in runoff inf cal 0 2 195120317\n"
     ]
    }
   ],
   "source": [
    "#curve number table path\n",
    "CN_table_dir=r\"...\\curve_number_standard_table.xls\"\n",
    "\n",
    "#Path to the multi band raster containing the CN table identifier info\n",
    "raster_SWR_infil_dir=raster_SWR_infil_dir\n",
    "#raster bands\n",
    "LU_band,HSG_band,ELEV_or_HC_band=4,5,6\n",
    "\n",
    "#If the Antecedent Moisture Condition (AMC) corrections have to be applied\n",
    "corrected_cn=True\n",
    "\n",
    "ds=Infiltration.inf(ds,CN_table_dir,raster_SWR_infil_dir,HSG_band,LU_band,ELEV_or_HC_band,corrected_cn=corrected_cn)\n"
   ]
  },
  {
   "attachments": {},
   "cell_type": "markdown",
   "metadata": {},
   "source": [
    "## Urban Cycle Calculation"
   ]
  },
  {
   "cell_type": "code",
   "execution_count": 15,
   "metadata": {},
   "outputs": [],
   "source": [
    "#A raster that defines the Urban sites of the study area. other zones have to be nodata (-9999)\n",
    "urban_rasters_folder=r\"...\\example_inputs\\urban_rasters\"\n",
    "\n",
    "#choose any of the rasters as an example of urban area identifier\n",
    "urban_area_raster_dir=os.path.join(urban_rasters_folder,\"DI\"+\".tif\")\n",
    "\n",
    "#Urban cycle calculation variables (constant values in this example; could be rasters ir from the dataset)\n",
    "variables_dic={\n",
    "    'wat_cons': {'input_var':os.path.join(urban_rasters_folder,\"SWC\"+\".tif\"),'dataset_raster_dir_or_value':\"Raster\"},\n",
    "    \"wat_net_loss\":{'input_var':os.path.join(urban_rasters_folder,\"SWNL\"+\".tif\"),'dataset_raster_dir_or_value':\"Raster\"},\n",
    "    \"urb_dir_evap\":{'input_var':os.path.join(urban_rasters_folder,\"DUE\"+\".tif\"),'dataset_raster_dir_or_value':\"Raster\"},\n",
    "    \"urb_indir_evap\":{'input_var':os.path.join(urban_rasters_folder,\"IDUE\"+\".tif\"),'dataset_raster_dir_or_value':\"Raster\"},\n",
    "    \"sew_net_loss_low\":{'input_var':os.path.join(urban_rasters_folder,\"SNLN\"+\".tif\"),'dataset_raster_dir_or_value':\"Raster\"},\n",
    "    \"sew_net_loss_high\":{'input_var':os.path.join(urban_rasters_folder,\"SNLH\"+\".tif\"),'dataset_raster_dir_or_value':\"Raster\"},\n",
    "    \"prec_sewage_threshold\":{'input_var':os.path.join(urban_rasters_folder,\"ThS\"+\".tif\"),'dataset_raster_dir_or_value':\"Raster\"},\n",
    "    \"runoff_to_sewage\":{'input_var':os.path.join(urban_rasters_folder,\"RS\"+\".tif\"),'dataset_raster_dir_or_value':\"Raster\"},\n",
    "    \"dir_infil\":{'input_var':os.path.join(urban_rasters_folder,\"DI\"+\".tif\"),'dataset_raster_dir_or_value':\"Raster\"},\n",
    "    \"wat_supp_wells\":{'input_var':os.path.join(urban_rasters_folder,\"WCNN\"+\".tif\"),'dataset_raster_dir_or_value':\"Raster\"},\n",
    "    \"wat_supp_wells_loss\":{'input_var':os.path.join(urban_rasters_folder,\"WCNNL\"+\".tif\"),'dataset_raster_dir_or_value':\"Raster\"},\n",
    "    \"wat_other\":{'input_var':os.path.join(urban_rasters_folder,\"WO\"+\".tif\"),'dataset_raster_dir_or_value':\"Raster\"},\n",
    "    \"urban_to_ds_inf_PET_ratio\":{'input_var':os.path.join(urban_rasters_folder,\"UrCNRat\"+\".tif\"),'dataset_raster_dir_or_value':\"Raster\"}\n",
    "}\n",
    "\n",
    "ds=Urban_cycle.urban_cycle(ds,urban_area_raster_dir,variables_dic) "
   ]
  },
  {
   "attachments": {},
   "cell_type": "markdown",
   "metadata": {},
   "source": [
    "## Balance Calculation"
   ]
  },
  {
   "cell_type": "code",
   "execution_count": 16,
   "metadata": {},
   "outputs": [],
   "source": [
    "#Initial soil water reserve percentage\n",
    "init_swr=100\n",
    "\n",
    "ds=Balance.balance(ds,init_swr=init_swr)\n"
   ]
  },
  {
   "cell_type": "code",
   "execution_count": 17,
   "metadata": {},
   "outputs": [],
   "source": [
    "#close the dataset\n",
    "ds.close()"
   ]
  },
  {
   "attachments": {},
   "cell_type": "markdown",
   "metadata": {},
   "source": [
    "## Visualization and outputs"
   ]
  },
  {
   "attachments": {},
   "cell_type": "markdown",
   "metadata": {},
   "source": [
    "### Generate a report of the water balance in the study area"
   ]
  },
  {
   "cell_type": "code",
   "execution_count": 20,
   "metadata": {},
   "outputs": [
    {
     "name": "stdout",
     "output_type": "stream",
     "text": [
      "start 2018-01-01T00\n",
      "end 2022-01-01T00\n"
     ]
    }
   ],
   "source": [
    "#path to the dataset\n",
    "ds_dir=r\"...\\example.nc\"\n",
    "#path to save the results\n",
    "save_dir=r\"...\"\n",
    "#list of the variables to include in the report\n",
    "var_name_list=[\"Prec\",\"Irrig\",\"INF\",\"PET\",\"SWR\",\"ETR\",\"Def\",\"Rec\",\"ASWR\",\"URB_INF\",\"URB_EP\",\"Runoff\",\"CN_mod\"]\n",
    "time_dic={\n",
    "        \"start\":[\"2018\",\"01\",\"01\",\"00\"],\n",
    "        \"end\":[\"2022\",\"01\",\"01\",\"00\"],\n",
    "        }\n",
    "#path to the sample raster of the dataset\n",
    "sam_raster_dir=sam_raster_dir\n",
    "#a raster that marks different regions of the study area and the report will create the results based on the are\n",
    "identifier_raster_dir=r\"...\\example_inputs\\regions.tif\"\n",
    "\n",
    "#read the regions raster using raterio\n",
    "ras=rs.open(identifier_raster_dir)\n",
    "identifier_raster_array=ras.read(1)\n",
    "region=[\"1\",\"2\",\"3\",\"4\",\"5\",\"6\"]\n",
    "lat_name,lon_name=\"lat\",\"lon\"\n",
    "\n",
    "post_process.gen_report(ds_dir,time_dic,var_name_list,save_dir,sam_raster_dir,lat_name,lon_name,identifier_raster_array=identifier_raster_array,region=region)    \n"
   ]
  },
  {
   "attachments": {},
   "cell_type": "markdown",
   "metadata": {},
   "source": [
    "### Create Maps and Raster in specific time intervals"
   ]
  },
  {
   "cell_type": "code",
   "execution_count": null,
   "metadata": {},
   "outputs": [],
   "source": [
    "#path to the dataset\n",
    "ds_dir=r\"...\\example.nc\"\n",
    "#path to save the results\n",
    "save_dir=r\"...\"\n",
    "#the range to create the figures or rasters\n",
    "time_dic={\n",
    "        \"start\":[\"2019\",\"05\",\"26\",\"00\"],\n",
    "        \"end\":[\"2019\",\"06\",\"04\",\"00\"],\n",
    "        }\n",
    "var_name=\"tmin\"\n",
    "#fig_csv_raster 'Figure', 'Raster' or 'CSV'. To determine the type of the output.\n",
    "fig_csv_raster=\"Figure\"\n",
    "post_process.raster_fig_csv(ds_dir,save_dir,time_dic,var_name,fig_csv_raster)"
   ]
  },
  {
   "attachments": {},
   "cell_type": "markdown",
   "metadata": {},
   "source": [
    "### Create figures or .csv datasheets in a coordination"
   ]
  },
  {
   "cell_type": "code",
   "execution_count": null,
   "metadata": {},
   "outputs": [],
   "source": [
    "#path to the dataset\n",
    "ds_dir=r\"...\\example.nc\"\n",
    "\n",
    "#path to save the results\n",
    "save_dir=r\"...\"\n",
    "\n",
    "#the range to create the figures or rasters\n",
    "time_dic={\n",
    "        \"start\":[\"YYYY\",\"MM\",\"DD\",\"HH\"],\n",
    "        \"end\":[\"YYYY\",\"MM\",\"DD\",\"HH\"],\n",
    "        }\n",
    "\n",
    "#the latitude and longitude of the point of interest\n",
    "lat_val,lon_val= 1,2\n",
    "\n",
    "#figure or a csv archive? 'Figure', or 'CSV'\n",
    "to_fig_or_csv='Figure'\n",
    "\n",
    "post_process.point_fig_csv(ds_dir,save_dir,time_dic,lat_val,lon_val,var_name_list,to_fig_or_csv)"
   ]
  }
 ],
 "metadata": {
  "kernelspec": {
   "display_name": "Python 3.7.12 ('pysplitenv')",
   "language": "python",
   "name": "python3"
  },
  "language_info": {
   "codemirror_mode": {
    "name": "ipython",
    "version": 3
   },
   "file_extension": ".py",
   "mimetype": "text/x-python",
   "name": "python",
   "nbconvert_exporter": "python",
   "pygments_lexer": "ipython3",
   "version": "3.7.12"
  },
  "orig_nbformat": 4,
  "vscode": {
   "interpreter": {
    "hash": "df5ee4dba632cccc21a7b8fb6f8bef9ed8f734af8cb8bb92cf1eb36fb1b2b8de"
   }
  }
 },
 "nbformat": 4,
 "nbformat_minor": 2
}
