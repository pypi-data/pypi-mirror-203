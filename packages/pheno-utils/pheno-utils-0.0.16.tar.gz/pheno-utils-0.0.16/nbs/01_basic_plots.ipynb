{
 "cells": [
  {
   "cell_type": "raw",
   "metadata": {},
   "source": [
    "---\n",
    "description: Basic plots for visualizing datasets\n",
    "output-file: basic_plots.html\n",
    "title: Basic plots\n",
    "\n",
    "---\n",
    "\n"
   ]
  },
  {
   "cell_type": "code",
   "execution_count": null,
   "metadata": {},
   "outputs": [],
   "source": [
    "#| default_exp basic_plots"
   ]
  },
  {
   "cell_type": "code",
   "execution_count": null,
   "metadata": {},
   "outputs": [],
   "source": [
    "#| hide\n",
    "from nbdev.showdoc import *"
   ]
  },
  {
   "cell_type": "code",
   "execution_count": null,
   "metadata": {},
   "outputs": [],
   "source": [
    "#| export\n",
    "\n",
    "import numpy as np\n",
    "import pandas as pd\n",
    "import matplotlib.pyplot as plt\n",
    "import seaborn as sns\n",
    "from typing import Optional\n",
    "from PIL import Image"
   ]
  },
  {
   "cell_type": "code",
   "execution_count": null,
   "metadata": {},
   "outputs": [],
   "source": [
    "#| export\n",
    "\n",
    "from pheno_utils.config import *"
   ]
  },
  {
   "cell_type": "code",
   "execution_count": null,
   "metadata": {},
   "outputs": [],
   "source": [
    "#| export\n",
    "\n",
    "def hist_ecdf_plots(data: pd.DataFrame, col: str, feature_str: Optional[str] = None,\n",
    "                    gender_col: str = \"sex\") -> None:\n",
    "    \"\"\"\n",
    "    Plots histograms and empirical cumulative distribution functions (ECDFs) from a DataFrame\n",
    "    for a specific column.\n",
    "\n",
    "    Args:\n",
    "        data: The input DataFrame containing the data to plot.\n",
    "        col: The column name to plot.\n",
    "        feature_str: The title of the plot. If not provided, the column name will be used.\n",
    "        gender_col: The column name indicating sex (default is 'sex' - female:0; male:1).\n",
    "\n",
    "    Returns:\n",
    "        None\n",
    "    \"\"\"\n",
    "    try:\n",
    "        assert col in data.columns, f\"Column {col} not found in data\"\n",
    "        assert gender_col in data.columns, f\"Gender column {gender_col} not found in data\"\n",
    "    except AssertionError as e:\n",
    "        print(e)\n",
    "        return\n",
    "\n",
    "    if feature_str is None:\n",
    "        feature_str = col\n",
    "\n",
    "    idx_male = data[gender_col] == 1\n",
    "    idx_female = data[gender_col] == 0\n",
    "\n",
    "    fig, axes = plt.subplots(1, 2, figsize=(10, 4))\n",
    "\n",
    "    # Plot histograms\n",
    "    ax = axes[0]\n",
    "    sns.histplot(data.loc[idx_female, col], ax=ax, color=FEMALE_COLOR,\n",
    "                 label=f'females (N={(data.loc[idx_female, col].count()):,})', alpha=0.5)\n",
    "    sns.histplot(data.loc[idx_male, col], ax=ax, color=MALE_COLOR,\n",
    "                 label=f'males (N={(data.loc[idx_male, col].count()):,})', alpha=0.5)\n",
    "    ax.spines[\"right\"].set_visible(False)\n",
    "    ax.spines[\"top\"].set_visible(False)\n",
    "    ax.legend()\n",
    "\n",
    "    # Plot ECDFs\n",
    "    ax = axes[1]\n",
    "    sns.ecdfplot(data.loc[idx_female, col], ax=ax, color=FEMALE_COLOR,\n",
    "                 label=f'females (N={(data.loc[idx_female, col].count()):,})')\n",
    "    sns.ecdfplot(data.loc[idx_male, col], ax=ax, color=MALE_COLOR,\n",
    "                 label=f'males (N={(data.loc[idx_male, col].count()):,})')\n",
    "    ax.spines[\"right\"].set_visible(False)\n",
    "    ax.spines[\"top\"].set_visible(False)\n",
    "    ax.legend()\n",
    "\n",
    "    fig.suptitle(f\"{feature_str}\")\n",
    "    fig.tight_layout()\n",
    "    plt.show()"
   ]
  },
  {
   "cell_type": "code",
   "execution_count": null,
   "metadata": {},
   "outputs": [
    {
     "data": {
      "image/png": "[encoded data removed]",
      "text/plain": [
       "<Figure size 720x288 with 2 Axes>"
      ]
     },
     "metadata": {
      "needs_background": "light"
     },
     "output_type": "display_data"
    }
   ],
   "source": [
    "data = generate_synthetic_data(n=1000)\n",
    "hist_ecdf_plots(data=data, col=\"val1\")"
   ]
  },
  {
   "cell_type": "code",
   "execution_count": null,
   "metadata": {},
   "outputs": [],
   "source": [
    "#| export\n",
    "\n",
    "def show_fundus(fname: str) -> None:\n",
    "    \"\"\"\n",
    "    Display a fundus image from an input file path.\n",
    "    Args:\n",
    "        fname (str): The file path to the fundus image.\n",
    "    \"\"\"\n",
    "    fig, ax = plt.subplots(1, 1, figsize=(6, 6))\n",
    "    img = Image.open(open(fname, 'rb'))\n",
    "    ax.imshow(img, cmap=\"gray\")\n",
    "    ax.set_xticks([])\n",
    "    ax.set_yticks([])\n",
    "    ax.axis('off')"
   ]
  },
  {
   "cell_type": "code",
   "execution_count": null,
   "metadata": {},
   "outputs": [],
   "source": [
    "#| hide\n",
    "import nbdev; nbdev.nbdev_export()"
   ]
  }
 ],
 "metadata": {
  "kernelspec": {
   "display_name": "python3",
   "language": "python",
   "name": "python3"
  }
 },
 "nbformat": 4,
 "nbformat_minor": 4
}
