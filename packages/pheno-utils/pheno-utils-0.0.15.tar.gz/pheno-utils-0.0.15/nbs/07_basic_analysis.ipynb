{
 "cells": [
  {
   "cell_type": "raw",
   "metadata": {},
   "source": [
    "---\n",
    "description: Basic analysis tools\n",
    "output-file: basic_analysis.html\n",
    "title: Basic analysis\n",
    "\n",
    "---\n",
    "\n"
   ]
  },
  {
   "cell_type": "code",
   "execution_count": null,
   "metadata": {},
   "outputs": [],
   "source": [
    "#| default_exp basic_analysis"
   ]
  },
  {
   "cell_type": "code",
   "execution_count": null,
   "metadata": {},
   "outputs": [],
   "source": [
    "#| hide\n",
    "from nbdev.showdoc import *"
   ]
  },
  {
   "cell_type": "code",
   "execution_count": null,
   "metadata": {},
   "outputs": [],
   "source": [
    "#| export\n",
    "import numpy as np\n",
    "import pandas as pd\n",
    "import matplotlib.pyplot as plt\n",
    "import seaborn as sns\n",
    "from typing import List, Any, Dict, Union, Optional\n"
   ]
  },
  {
   "cell_type": "code",
   "execution_count": null,
   "metadata": {},
   "outputs": [],
   "source": [
    "#| export\n",
    "from pheno_utils.config import *"
   ]
  },
  {
   "cell_type": "code",
   "execution_count": null,
   "metadata": {},
   "outputs": [],
   "source": [
    "#| export\n",
    "\n",
    "def custom_describe(df: pd.DataFrame) -> pd.DataFrame:\n",
    "    \"\"\"\n",
    "    Generates a custom summary statistics dataframe for mixed data types.\n",
    "    \n",
    "    Args:\n",
    "        df: The input pandas DataFrame\n",
    "        \n",
    "    Returns:\n",
    "        A pandas DataFrame containing the summary statistics\n",
    "    \"\"\"\n",
    "    def describe_column(series: pd.Series) -> Dict[str, Union[int, float]]:\n",
    "        \"\"\"\n",
    "        Generates summary statistics for a given column/series.\n",
    "        \n",
    "        Args:\n",
    "            series: The input pandas Series (column)\n",
    "            \n",
    "        Returns:\n",
    "            A dictionary containing the summary statistics\n",
    "        \"\"\"\n",
    "        if pd.api.types.is_numeric_dtype(series):\n",
    "            stats = {\n",
    "                'count': series.count(),\n",
    "                'unique': series.nunique(),\n",
    "                'most_frequent': series.mode().iat[0] if series.mode().size > 0 else np.nan,\n",
    "                'min': series.min(),\n",
    "                'max': series.max(),\n",
    "                'mean': series.mean(),\n",
    "                'median': series.median(),\n",
    "                'std': series.std(),\n",
    "            }\n",
    "        elif pd.api.types.is_datetime64_dtype(series):\n",
    "            stats = {\n",
    "                'count': series.count(),\n",
    "                'unique': series.nunique(),\n",
    "                'most_frequent': np.nan,\n",
    "                'min': series.min(),\n",
    "                'max': series.max(),\n",
    "                'mean': np.nan,\n",
    "                'median': np.nan,\n",
    "                'std': np.nan,\n",
    "            }\n",
    "        else:\n",
    "            stats = {\n",
    "                'count': series.count(),\n",
    "                'unique': series.nunique(),\n",
    "                'most_frequent': series.mode().iat[0] if series.mode().size > 0 else np.nan,\n",
    "                'min': np.nan,\n",
    "                'max': np.nan,\n",
    "                'mean': np.nan,\n",
    "                'median': np.nan,\n",
    "                'std': np.nan,\n",
    "            }\n",
    "        return stats\n",
    "\n",
    "    summary = pd.DataFrame({col: describe_column(df[col]) for col in df.columns}).transpose()\n",
    "    summary = summary[['count', 'unique', 'most_frequent', 'min', 'max', 'mean', 'median', 'std']]\n",
    "    return summary.T"
   ]
  },
  {
   "cell_type": "code",
   "execution_count": null,
   "metadata": {},
   "outputs": [
    {
     "data": {
      "text/html": [
       "<div>\n",
       "<style scoped>\n",
       "    .dataframe tbody tr th:only-of-type {\n",
       "        vertical-align: middle;\n",
       "    }\n",
       "\n",
       "    .dataframe tbody tr th {\n",
       "        vertical-align: top;\n",
       "    }\n",
       "\n",
       "    .dataframe thead th {\n",
       "        text-align: right;\n",
       "    }\n",
       "</style>\n",
       "<table border=\"1\" class=\"dataframe\">\n",
       "  <thead>\n",
       "    <tr style=\"text-align: right;\">\n",
       "      <th></th>\n",
       "      <th>date_of_research_stage</th>\n",
       "      <th>sex</th>\n",
       "      <th>val2</th>\n",
       "    </tr>\n",
       "  </thead>\n",
       "  <tbody>\n",
       "    <tr>\n",
       "      <th>count</th>\n",
       "      <td>100</td>\n",
       "      <td>100.0</td>\n",
       "      <td>100.0</td>\n",
       "    </tr>\n",
       "    <tr>\n",
       "      <th>unique</th>\n",
       "      <td>98</td>\n",
       "      <td>2.0</td>\n",
       "      <td>100.0</td>\n",
       "    </tr>\n",
       "    <tr>\n",
       "      <th>most_frequent</th>\n",
       "      <td>NaN</td>\n",
       "      <td>1.0</td>\n",
       "      <td>32.493697</td>\n",
       "    </tr>\n",
       "    <tr>\n",
       "      <th>min</th>\n",
       "      <td>2020-02-02 00:00:00</td>\n",
       "      <td>0.0</td>\n",
       "      <td>32.493697</td>\n",
       "    </tr>\n",
       "    <tr>\n",
       "      <th>max</th>\n",
       "      <td>2023-04-08 00:00:00</td>\n",
       "      <td>1.0</td>\n",
       "      <td>73.793049</td>\n",
       "    </tr>\n",
       "    <tr>\n",
       "      <th>mean</th>\n",
       "      <td>NaN</td>\n",
       "      <td>0.55</td>\n",
       "      <td>51.305471</td>\n",
       "    </tr>\n",
       "    <tr>\n",
       "      <th>median</th>\n",
       "      <td>NaN</td>\n",
       "      <td>1.0</td>\n",
       "      <td>50.780526</td>\n",
       "    </tr>\n",
       "    <tr>\n",
       "      <th>std</th>\n",
       "      <td>NaN</td>\n",
       "      <td>0.5</td>\n",
       "      <td>9.927957</td>\n",
       "    </tr>\n",
       "  </tbody>\n",
       "</table>\n",
       "</div>"
      ],
      "text/plain": [
       "              date_of_research_stage    sex       val2\n",
       "count                            100  100.0      100.0\n",
       "unique                            98    2.0      100.0\n",
       "most_frequent                    NaN    1.0  32.493697\n",
       "min              2020-02-02 00:00:00    0.0  32.493697\n",
       "max              2023-04-08 00:00:00    1.0  73.793049\n",
       "mean                             NaN   0.55  51.305471\n",
       "median                           NaN    1.0  50.780526\n",
       "std                              NaN    0.5   9.927957"
      ]
     },
     "execution_count": null,
     "metadata": {},
     "output_type": "execute_result"
    }
   ],
   "source": [
    "data = generate_synthetic_data(n=100)\n",
    "\n",
    "custom_describe(data[[\"date_of_research_stage\", \"sex\", \"val2\"]])"
   ]
  },
  {
   "cell_type": "code",
   "execution_count": null,
   "metadata": {},
   "outputs": [],
   "source": [
    "#| hide\n",
    "import nbdev; nbdev.nbdev_export()"
   ]
  }
 ],
 "metadata": {
  "kernelspec": {
   "display_name": "python3",
   "language": "python",
   "name": "python3"
  }
 },
 "nbformat": 4,
 "nbformat_minor": 4
}
