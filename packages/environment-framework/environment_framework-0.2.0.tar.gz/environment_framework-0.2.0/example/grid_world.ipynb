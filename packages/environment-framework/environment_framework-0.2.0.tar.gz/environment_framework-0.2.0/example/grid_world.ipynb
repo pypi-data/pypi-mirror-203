{
 "cells": [
  {
   "cell_type": "markdown",
   "id": "d60e0b29-66d5-421d-b914-fb3029e59e15",
   "metadata": {},
   "source": [
    "# Grid World example\n",
    "\n",
    "In this notebook we implement the GridWorld game with the `environment-framework` and use stable-baseliens3 to train a `DQN`-agent on it."
   ]
  },
  {
   "cell_type": "code",
   "execution_count": null,
   "id": "34ec77d0-740e-4fda-b709-1a237ff49e43",
   "metadata": {
    "lines_to_next_cell": 2,
    "tags": []
   },
   "outputs": [],
   "source": [
    "from enum import Enum\n",
    "from random import randint\n",
    "from typing import Any, List, Tuple\n",
    "\n",
    "from stable_baselines3.common.evaluation import evaluate_policy\n",
    "from stable_baselines3.dqn import DQN\n",
    "\n",
    "from numpy.typing import NDArray\n",
    "from gymnasium.spaces import Space, Discrete\n",
    "\n",
    "import cv2\n",
    "import numpy as np\n",
    "\n",
    "from gymnasium.spaces import Space, Box\n",
    "import math\n",
    "import numpy as np\n",
    "\n",
    "from environment_framework import Level\n",
    "from environment_framework import EnvironmentFrameworkGym\n",
    "from environment_framework import Simulator"
   ]
  },
  {
   "cell_type": "markdown",
   "id": "206b9f02-7f3c-4861-bf6d-81dd4652381e",
   "metadata": {
    "lines_to_next_cell": 2
   },
   "source": [
    "## Implement the `Game`"
   ]
  },
  {
   "cell_type": "code",
   "execution_count": null,
   "id": "42cf31a4-d776-41e9-adbb-44fe9056d083",
   "metadata": {
    "lines_to_next_cell": 2,
    "tags": []
   },
   "outputs": [],
   "source": [
    "class Action(Enum):\n",
    "    UP = 0\n",
    "    DOWN = 1\n",
    "    RIGHT = 2\n",
    "    LEFT = 3\n",
    "\n",
    "\n",
    "class GridWorldGame:\n",
    "    def __init__(self, size: int) -> None:\n",
    "        self.size = size\n",
    "        self.player_position = (0, 0)\n",
    "        self.target_position = (0, 0)\n",
    "        self.reset()\n",
    "\n",
    "    @property\n",
    "    def done(self) -> bool:\n",
    "        return self.player_position == self.target_position\n",
    "    \n",
    "    @property\n",
    "    def space(self) -> Space:\n",
    "        return Discrete(4)\n",
    "        \n",
    "\n",
    "    def act(self, action: Action, **_: Any) -> None:\n",
    "        if action == Action.UP:\n",
    "            self.player_position = (self.player_position[0], self.player_position[1] - 1)\n",
    "        if action == Action.DOWN:\n",
    "            self.player_position = (self.player_position[0], self.player_position[1] + 1)\n",
    "        if action == Action.RIGHT:\n",
    "            self.player_position = (self.player_position[0] + 1, self.player_position[1])\n",
    "        if action == Action.LEFT:\n",
    "            self.player_position = (self.player_position[0] - 1, self.player_position[1])\n",
    "        corrected_x = max(0, min(self.size - 1, self.player_position[0]))\n",
    "        corrected_y = max(0, min(self.size - 1, self.player_position[1]))\n",
    "        self.player_position = (corrected_x, corrected_y)\n",
    "\n",
    "    def reset(self) -> None:\n",
    "        def get_random_position() -> int:\n",
    "            return randint(0, self.size - 1)\n",
    "\n",
    "        self.player_position = (get_random_position(), get_random_position())\n",
    "        self.target_position = (get_random_position(), get_random_position())\n",
    "        if self.done:\n",
    "            self.reset()"
   ]
  },
  {
   "cell_type": "markdown",
   "id": "358b277a-93d1-4596-ac0d-4e8867169827",
   "metadata": {
    "lines_to_next_cell": 2
   },
   "source": [
    "## Implement the `Observer` and the `Estimator`"
   ]
  },
  {
   "cell_type": "code",
   "execution_count": null,
   "id": "e4109d2c-3202-4499-8e2e-0c58e4456f30",
   "metadata": {
    "lines_to_next_cell": 2,
    "tags": []
   },
   "outputs": [],
   "source": [
    "class GridWorldObserver:\n",
    "    def __init__(self, game: GridWorldGame) -> None:\n",
    "        self.game = game\n",
    "\n",
    "    @property\n",
    "    def space(self) -> Space:\n",
    "        return Box(shape=(4,), low=-math.inf, high=math.inf)\n",
    "\n",
    "    def observe(self, _: Any) -> NDArray:\n",
    "        return np.array([*self.game.player_position, *self.game.target_position])\n",
    "\n",
    "\n",
    "class GridWorldEstimator:\n",
    "    def __init__(self, game: GridWorldGame) -> None:\n",
    "        self.game = game\n",
    "\n",
    "    def estimate(self, _: Any) -> float:\n",
    "        return -1 + float(self.game.done)"
   ]
  },
  {
   "cell_type": "markdown",
   "id": "7bee370d-7f88-44a4-a1dd-d9d5a84f24a1",
   "metadata": {
    "lines_to_next_cell": 2,
    "tags": []
   },
   "source": [
    "## Add a nice little `Visualizer`"
   ]
  },
  {
   "cell_type": "code",
   "execution_count": null,
   "id": "b8855c93-3335-4475-80aa-3e3a64ae5300",
   "metadata": {
    "lines_to_next_cell": 2,
    "tags": []
   },
   "outputs": [],
   "source": [
    "class GridWorldVisualizer:\n",
    "    # We use BGR\n",
    "    BLUE = [255, 0, 0]\n",
    "    GREEN = [0, 255, 0]\n",
    "\n",
    "    def __init__(self, game: GridWorldGame) -> None:\n",
    "        self.game = game\n",
    "\n",
    "    def render(self, _: Any) -> Any:\n",
    "        frame = [[[0 for k in range(3)] for j in range(self.game.size)] for i in range(self.game.size)]\n",
    "        frame[self.game.player_position[1]][self.game.player_position[0]] = self.BLUE\n",
    "        frame[self.game.target_position[1]][self.game.target_position[0]] = self.GREEN\n",
    "        return frame"
   ]
  },
  {
   "cell_type": "markdown",
   "id": "30c63509-6c5b-49c5-9717-97ce0cd74e48",
   "metadata": {
    "lines_to_next_cell": 2
   },
   "source": [
    "## Connect all together with a `Level`"
   ]
  },
  {
   "cell_type": "code",
   "execution_count": null,
   "id": "18451c66-de76-411a-adff-51a2b23c5c30",
   "metadata": {
    "tags": []
   },
   "outputs": [],
   "source": [
    "class GridWorldLevel(Level):\n",
    "    _game: GridWorldGame\n",
    "    _observer: GridWorldObserver\n",
    "    _estimator: GridWorldEstimator\n",
    "    _visualizer: GridWorldVisualizer\n",
    "\n",
    "    def __init__(\n",
    "        self,\n",
    "        game: GridWorldGame,\n",
    "        observer: GridWorldObserver,\n",
    "        estimator: GridWorldEstimator,\n",
    "        visualizer: GridWorldVisualizer,\n",
    "    ) -> None:\n",
    "        super().__init__(game, observer, estimator, visualizer)\n",
    "\n",
    "    def reset(self) -> None:\n",
    "        self._game.reset()\n",
    "\n",
    "    def step(self, action: Action) -> Any:\n",
    "        if isinstance(action, np.int64):  # handle integer inputs\n",
    "            action = Action(action)\n",
    "        self._game.act(action)"
   ]
  },
  {
   "cell_type": "markdown",
   "id": "370e3268-a7b6-4e51-9f03-ece9dec0acc3",
   "metadata": {},
   "source": [
    "## Look at a random selecting agent"
   ]
  },
  {
   "cell_type": "code",
   "execution_count": null,
   "id": "89f7c5dc-de16-4dd1-bb63-8b30a349ca02",
   "metadata": {
    "tags": []
   },
   "outputs": [],
   "source": [
    "game = GridWorldGame(7)\n",
    "scale_factor = 50\n",
    "level = GridWorldLevel(game, GridWorldObserver(game), GridWorldEstimator(game), GridWorldVisualizer(game))\n",
    "simulator = Simulator(level)\n",
    "while not simulator.done:\n",
    "    action = Action(randint(0, 3))\n",
    "    simulator.step(action)\n",
    "    frame = np.array(simulator.render(), dtype=np.uint8)\n",
    "    frame = cv2.resize(frame, (scale_factor * game.size, scale_factor * game.size), interpolation=cv2.INTER_AREA)\n",
    "    cv2.imshow(\"GridWorld\", frame)\n",
    "    cv2.waitKey(33)\n",
    "cv2.waitKey(500)\n",
    "cv2.destroyAllWindows()"
   ]
  },
  {
   "cell_type": "markdown",
   "id": "3f3ca062-0efb-42c9-9abc-52b344960c2e",
   "metadata": {},
   "source": [
    "## Use stable-baselines3 to train an DQN-agent in the environment"
   ]
  },
  {
   "cell_type": "code",
   "execution_count": null,
   "id": "3392de7b-d58b-47ae-94e6-5bad09bdfc39",
   "metadata": {
    "tags": []
   },
   "outputs": [],
   "source": [
    "game = GridWorldGame(7)\n",
    "level = GridWorldLevel(game, GridWorldObserver(game), GridWorldEstimator(game), GridWorldVisualizer(game))\n",
    "env = EnvironmentFrameworkGym(level, render_mode=\"rgb_array\")\n",
    "\n",
    "model = DQN(\"MlpPolicy\", env)\n",
    "model.learn(\n",
    "    total_timesteps=int(5e5),\n",
    "    progress_bar=True,\n",
    ")"
   ]
  },
  {
   "cell_type": "code",
   "execution_count": null,
   "id": "bd172f4e-7492-4860-9a42-ada5056eb064",
   "metadata": {},
   "outputs": [],
   "source": [
    "evaluate_policy(model, env, n_eval_episodes=10)"
   ]
  },
  {
   "cell_type": "code",
   "execution_count": null,
   "id": "34db8e65-7046-49f0-b6c4-cdf3b18d2289",
   "metadata": {},
   "outputs": [],
   "source": [
    "model.save(\"gridworld-dqn.zip\")"
   ]
  },
  {
   "cell_type": "code",
   "execution_count": null,
   "id": "ca143958-07db-4562-a43a-72f442a5d2b2",
   "metadata": {
    "tags": []
   },
   "outputs": [],
   "source": [
    "game = GridWorldGame(7)\n",
    "scale_factor = 50\n",
    "level = GridWorldLevel(game, GridWorldObserver(game), GridWorldEstimator(game), GridWorldVisualizer(game))\n",
    "env = EnvironmentFrameworkGym(level, render_mode=\"rgb_array\")\n",
    "\n",
    "model = DQN.load(\"gridworld-dqn.zip\", env=env)\n",
    "vec_env = model.get_env()\n",
    "obs = vec_env.reset()\n",
    "for _ in range(50):\n",
    "    obs = np.array(obs)\n",
    "    action, _states = model.predict(obs)  # type: ignore\n",
    "    obs, _, _, _ = vec_env.step(action)\n",
    "    frame = np.array(vec_env.render(), dtype=np.uint8)\n",
    "    frame = cv2.resize(frame, (scale_factor * game.size, scale_factor * game.size), interpolation=cv2.INTER_AREA)\n",
    "    cv2.imshow(\"GridWorld\", frame)\n",
    "    cv2.waitKey(250)\n",
    "cv2.waitKey(500)\n",
    "cv2.destroyAllWindows()"
   ]
  },
  {
   "cell_type": "code",
   "execution_count": null,
   "id": "07e4cc1f-cc51-4eb2-9872-aa116814209d",
   "metadata": {},
   "outputs": [],
   "source": []
  }
 ],
 "metadata": {
  "jupytext": {
   "formats": "ipynb,py:hydrogen"
  },
  "kernelspec": {
   "display_name": "Python 3 (ipykernel)",
   "language": "python",
   "name": "python3"
  },
  "language_info": {
   "codemirror_mode": {
    "name": "ipython",
    "version": 3
   },
   "file_extension": ".py",
   "mimetype": "text/x-python",
   "name": "python",
   "nbconvert_exporter": "python",
   "pygments_lexer": "ipython3",
   "version": "3.10.6"
  }
 },
 "nbformat": 4,
 "nbformat_minor": 5
}
