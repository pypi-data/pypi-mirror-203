{
 "cells": [
  {
   "cell_type": "markdown",
   "id": "2ee23aa0-22e1-45ae-8fe4-392702f95de5",
   "metadata": {},
   "source": [
    "# Bionty schema"
   ]
  },
  {
   "cell_type": "code",
   "execution_count": null,
   "id": "01c41a39",
   "metadata": {
    "tags": [
     "hide-cell"
    ]
   },
   "outputs": [],
   "source": [
    "!lamin init --storage lnbionty-test --schema bionty"
   ]
  },
  {
   "cell_type": "code",
   "execution_count": 1,
   "id": "7c47093c",
   "metadata": {},
   "outputs": [],
   "source": [
    "import lamindb as ln\n",
    "import lnschema_bionty as bt\n",
    "import pandas as pd"
   ]
  },
  {
   "cell_type": "code",
   "execution_count": null,
   "id": "c8ad40f7",
   "metadata": {},
   "outputs": [],
   "source": [
    "ln.schema.view()"
   ]
  },
  {
   "cell_type": "markdown",
   "id": "160a59ec",
   "metadata": {},
   "source": [
    "## Create a SQL record from scratch\n",
    "\n",
    "This works like any other ORM:"
   ]
  },
  {
   "cell_type": "code",
   "execution_count": 2,
   "id": "1bd5ab84",
   "metadata": {},
   "outputs": [
    {
     "data": {
      "text/plain": [
       "Species(id='zkuh', name='new species')"
      ]
     },
     "execution_count": 2,
     "metadata": {},
     "output_type": "execute_result"
    }
   ],
   "source": [
    "bt.Species(name=\"new species\")"
   ]
  },
  {
   "cell_type": "code",
   "execution_count": 3,
   "id": "3d57e3c6",
   "metadata": {},
   "outputs": [
    {
     "data": {
      "text/plain": [
       "Gene(id='I60qLj8L', symbol='synTCF7')"
      ]
     },
     "execution_count": 3,
     "metadata": {},
     "output_type": "execute_result"
    }
   ],
   "source": [
    "bt.Gene(symbol=\"synTCF7\")"
   ]
  },
  {
   "cell_type": "code",
   "execution_count": 4,
   "id": "089c0849",
   "metadata": {},
   "outputs": [
    {
     "data": {
      "text/plain": [
       "CellType(id='vRc63R2W', ontology_id='my_ontology_id', name='my T cell')"
      ]
     },
     "execution_count": 4,
     "metadata": {},
     "output_type": "execute_result"
    }
   ],
   "source": [
    "bt.CellType(name=\"my T cell\", ontology_id=\"my_ontology_id\")"
   ]
  },
  {
   "cell_type": "markdown",
   "id": "987ca440",
   "metadata": {},
   "source": [
    "## Create a SQL record from knowledge\n",
    "\n",
    "With configured database and version for each entity (see [Bionty Configuration](https://lamin.ai/docs/bionty/guide/config)), all other fields can be auto populated given one field value."
   ]
  },
  {
   "cell_type": "code",
   "execution_count": 5,
   "id": "8b392f09",
   "metadata": {},
   "outputs": [
    {
     "data": {
      "text/plain": [
       "Species(id='vado', name='mouse', taxon_id=10090, scientific_name='mus_musculus')"
      ]
     },
     "execution_count": 5,
     "metadata": {},
     "output_type": "execute_result"
    }
   ],
   "source": [
    "bt.Species.from_bionty(name=\"mouse\")"
   ]
  },
  {
   "cell_type": "code",
   "execution_count": 6,
   "id": "59088c68",
   "metadata": {},
   "outputs": [
    {
     "data": {
      "text/plain": [
       "CellType(id='QvYE8bIq', ontology_id='CL:0000084', name='T cell')"
      ]
     },
     "execution_count": 6,
     "metadata": {},
     "output_type": "execute_result"
    }
   ],
   "source": [
    "bt.CellType.from_bionty(name=\"T cell\")"
   ]
  },
  {
   "cell_type": "code",
   "execution_count": 7,
   "id": "5ad77d01",
   "metadata": {},
   "outputs": [
    {
     "data": {
      "text/plain": [
       "Gene(id='geGss49r', ensembl_gene_id='ENSG00000081059', symbol='TCF7', gene_type='protein_coding', description='transcription factor 7 [Source:HGNC Symbol;Acc:HGNC:11639]', ncbi_gene_id=6932, hgnc_id='HGNC:11639', omim_id=189908, synonyms='TCF-1', version='Ens107')"
      ]
     },
     "execution_count": 7,
     "metadata": {},
     "output_type": "execute_result"
    }
   ],
   "source": [
    "bt.Gene.from_bionty(symbol=\"TCF7\")"
   ]
  },
  {
   "cell_type": "markdown",
   "id": "bc8481cf",
   "metadata": {},
   "source": [
    "```{note}\n",
    "\n",
    "For feature entities: `Gene`, `Protein` and `CellMarker`: make sure you configure the correct species (default is \"human\"):\n",
    "```"
   ]
  },
  {
   "cell_type": "code",
   "execution_count": null,
   "id": "4bd9f1a2",
   "metadata": {},
   "outputs": [],
   "source": [
    "bt.Gene.config_bionty(species=\"mouse\")"
   ]
  },
  {
   "cell_type": "code",
   "execution_count": null,
   "id": "ae5a822f",
   "metadata": {},
   "outputs": [],
   "source": [
    "bt.Gene.from_bionty(symbol=\"Ap5b1\")"
   ]
  },
  {
   "cell_type": "markdown",
   "id": "6179e059",
   "metadata": {},
   "source": [
    "## Create a SQL record from a lookup"
   ]
  },
  {
   "cell_type": "code",
   "execution_count": null,
   "id": "ea30c7f8",
   "metadata": {},
   "outputs": [],
   "source": [
    "bt.Species.lookup.giant_panda"
   ]
  },
  {
   "cell_type": "code",
   "execution_count": null,
   "id": "98d834a6",
   "metadata": {},
   "outputs": [],
   "source": [
    "bt.Species(bt.Species.lookup.giant_panda)"
   ]
  },
  {
   "cell_type": "markdown",
   "id": "0c95f95e",
   "metadata": {},
   "source": [
    "## Access bionty functionalities"
   ]
  },
  {
   "cell_type": "markdown",
   "id": "4e141ff4",
   "metadata": {},
   "source": [
    "```{note}\n",
    "\n",
    "You may use the lnschema-bionty class the same way as a [bionty class](https://lamin.ai/docs/bionty/guide)!\n",
    "```"
   ]
  },
  {
   "cell_type": "code",
   "execution_count": null,
   "id": "ca3fb57c",
   "metadata": {},
   "outputs": [],
   "source": [
    "bt.Species.df.head()"
   ]
  },
  {
   "cell_type": "code",
   "execution_count": null,
   "id": "5417221c",
   "metadata": {},
   "outputs": [],
   "source": [
    "bt.Species.curate(pd.DataFrame(index=[\"human\", \"mouse\"]))"
   ]
  },
  {
   "cell_type": "code",
   "execution_count": null,
   "id": "7870a134",
   "metadata": {},
   "outputs": [],
   "source": [
    "bt.Gene.df.head()"
   ]
  },
  {
   "cell_type": "code",
   "execution_count": null,
   "id": "2b101060",
   "metadata": {},
   "outputs": [],
   "source": [
    "bt.Gene.curate(pd.DataFrame(index=[\"Ap5b1\", \"Gm6713\"]), reference_id=\"symbol\")"
   ]
  }
 ],
 "metadata": {
  "kernelspec": {
   "display_name": "Python 3 (ipykernel)",
   "language": "python",
   "name": "python3"
  },
  "language_info": {
   "codemirror_mode": {
    "name": "ipython",
    "version": 3
   },
   "file_extension": ".py",
   "mimetype": "text/x-python",
   "name": "python",
   "nbconvert_exporter": "python",
   "pygments_lexer": "ipython3",
   "version": "3.9.13"
  },
  "vscode": {
   "interpreter": {
    "hash": "ae1fefc8646a06dd2e75004cd934adda7c5727b046986a772e3b44b0ffba9754"
   }
  }
 },
 "nbformat": 4,
 "nbformat_minor": 5
}
