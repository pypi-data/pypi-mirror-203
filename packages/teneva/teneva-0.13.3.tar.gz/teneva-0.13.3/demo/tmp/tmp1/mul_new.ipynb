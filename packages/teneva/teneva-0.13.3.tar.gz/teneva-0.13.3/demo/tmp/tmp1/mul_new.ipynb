{
 "cells": [
  {
   "cell_type": "code",
   "execution_count": 6,
   "id": "70311a48-ff1d-4e7a-9d2d-1d195bf4ccf4",
   "metadata": {},
   "outputs": [],
   "source": [
    "import numpy as np\n",
    "import teneva\n",
    "from time import perf_counter as tpc\n",
    "np.random.seed(42)"
   ]
  },
  {
   "cell_type": "code",
   "execution_count": 7,
   "id": "53948f78-c20e-4455-aebf-876a97cc78e9",
   "metadata": {},
   "outputs": [],
   "source": [
    "d = 5                          # Размерность\n",
    "n = [10] * d                   # Размеры мод\n",
    "r = 4                          # TT-ранг\n",
    "s = 3                          # Степень, в которую возводим\n",
    "Y = teneva.tensor_rand(n, r)   # Случайный тензор размера n, ранга r"
   ]
  },
  {
   "cell_type": "code",
   "execution_count": 8,
   "id": "848e5596-9fc4-425e-a8a5-8b195c5d3eee",
   "metadata": {},
   "outputs": [],
   "source": [
    "def mul_many_old(Y, s, e=1.E-12):\n",
    "    Z = teneva.copy(Y)\n",
    "    for _ in range(1, s):\n",
    "        Z = teneva.mul(Z, Y)\n",
    "    \n",
    "    return teneva.truncate(Z, e)"
   ]
  },
  {
   "cell_type": "code",
   "execution_count": 9,
   "id": "dd4417cb-5e5f-4e90-bded-a63e915c16cc",
   "metadata": {},
   "outputs": [],
   "source": [
    "def mul_many_new(Y, s, e=1.E-12):\n",
    "    for k in range(d):\n",
    "        G = Y[k].copy()\n",
    "        \n",
    "    Z = teneva.copy(Y)\n",
    "    for _ in range(1, s):\n",
    "        Z = teneva.mul(Z, Y)\n",
    "    \n",
    "    return teneva.truncate(Z, e)"
   ]
  },
  {
   "cell_type": "code",
   "execution_count": 10,
   "id": "cffb8b99-cc90-486d-92fe-9f3d4811da58",
   "metadata": {},
   "outputs": [
    {
     "name": "stdout",
     "output_type": "stream",
     "text": [
      "----------\n",
      "Time old :   0.023\n",
      "Time new :   0.007\n",
      "Error    : 1.2e-08\n"
     ]
    }
   ],
   "source": [
    "t1 = tpc()\n",
    "Z1 = mul_many_old(Y, s, e=1.E-12)\n",
    "t1 = tpc() - t1\n",
    "\n",
    "t2 = tpc()\n",
    "Z2 = mul_many_new(Y, s, e=1.E-12)\n",
    "t2 = tpc() - t2\n",
    "\n",
    "er = teneva.accuracy(Z1, Z2)\n",
    "\n",
    "print(f'----------')\n",
    "print(f'Time old : {t1:-7.3f}')\n",
    "print(f'Time new : {t2:-7.3f}')\n",
    "print(f'Error    : {er:-7.1e}')"
   ]
  },
  {
   "cell_type": "code",
   "execution_count": null,
   "id": "67219fc4-7300-4c60-940c-8395d35d5da7",
   "metadata": {},
   "outputs": [],
   "source": []
  }
 ],
 "metadata": {
  "kernelspec": {
   "display_name": "Python 3",
   "language": "python",
   "name": "python3"
  },
  "language_info": {
   "codemirror_mode": {
    "name": "ipython",
    "version": 3
   },
   "file_extension": ".py",
   "mimetype": "text/x-python",
   "name": "python",
   "nbconvert_exporter": "python",
   "pygments_lexer": "ipython3",
   "version": "3.8.8"
  }
 },
 "nbformat": 4,
 "nbformat_minor": 5
}
