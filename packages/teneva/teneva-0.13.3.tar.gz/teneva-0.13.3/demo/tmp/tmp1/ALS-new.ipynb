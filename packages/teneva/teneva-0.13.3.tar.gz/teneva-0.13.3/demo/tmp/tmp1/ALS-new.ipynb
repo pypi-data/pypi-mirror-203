{
 "cells": [
  {
   "cell_type": "code",
   "execution_count": 1,
   "id": "66822c3e",
   "metadata": {
    "ExecuteTime": {
     "end_time": "2022-09-17T20:45:48.367294Z",
     "start_time": "2022-09-17T20:45:47.601583Z"
    }
   },
   "outputs": [],
   "source": [
    "import numpy as np\n",
    "import scipy as sp\n",
    "import scipy.optimize\n",
    "import teneva\n",
    "from time import perf_counter as tpc\n",
    "from teneva import accuracy_on_data, accuracy, erank\n",
    "from numba import jit\n",
    "from opt_einsum import contract"
   ]
  },
  {
   "cell_type": "code",
   "execution_count": 2,
   "id": "fbab3a84",
   "metadata": {
    "ExecuteTime": {
     "end_time": "2022-09-17T20:45:48.374629Z",
     "start_time": "2022-09-17T20:45:48.368382Z"
    }
   },
   "outputs": [],
   "source": [
    "def rand_tensor_idx(I, r):\n",
    "    d = I.shape[1]\n",
    "    ns = np.max(I, axis=0) + 1\n",
    "    return rand_tensor(d, ns, r)\n",
    "\n",
    "\n",
    "def rand_tensor(d, ns, r):\n",
    "    ranks = [1] + [r]*(d - 1) + [1]\n",
    "    \n",
    "    res = [np.random.rand(*shape) for shape in zip(ranks, ns, ranks[1:])]\n",
    "        \n",
    "    return res\n",
    "    \n",
    "    \n",
    "@jit\n",
    "def _poly_arr(x, n, a=-1, b=1):\n",
    "\n",
    "    x = -1. + 2.*(x - a)/(b-a)\n",
    "        \n",
    "    res = np.ones((len(x), n))\n",
    "    if n == 1:\n",
    "        return res\n",
    "    res[:, 1] = x\n",
    "    for i in range(2, n):\n",
    "        res[:, i] = 2*x*res[:, i-1] - res[:, i-2]\n",
    "        \n",
    "    return res\n",
    "\n",
    "\n",
    "def poly_arr(x, n, a=-1, b=1):\n",
    "    x = np.asarray(x)\n",
    "    reduce_dim = x.ndim == 0\n",
    "    if reduce_dim:\n",
    "        x = x[None]\n",
    "        \n",
    "    res = _poly_arr(x, n, a=-1, b=1)\n",
    "    if reduce_dim:\n",
    "        res = res[0]\n",
    "        \n",
    "    return res"
   ]
  },
  {
   "cell_type": "code",
   "execution_count": 3,
   "id": "4df2e116",
   "metadata": {
    "ExecuteTime": {
     "end_time": "2022-09-17T20:45:48.857985Z",
     "start_time": "2022-09-17T20:45:48.817740Z"
    }
   },
   "outputs": [
    {
     "name": "stdout",
     "output_type": "stream",
     "text": [
      "TT-tensor     5D : |30| |30| |30| |30| |30|\n",
      "<rank>  =    3.0 :    \\3/  \\3/  \\3/  \\3/\n",
      "TT-tensor     5D : |8| |8| |8| |8| |8|\n",
      "<rank>  =    3.0 :   \\3/ \\3/ \\3/ \\3/\n"
     ]
    }
   ],
   "source": [
    "np.random.seed(42)\n",
    "h = 30\n",
    "d = 5\n",
    "N = 100000\n",
    "rank = 3\n",
    "\n",
    "pow_p = 8\n",
    "\n",
    "\n",
    "train = teneva.sample_lhs([h]*d, N)\n",
    "test  = teneva.sample_lhs([h]*d, N)\n",
    "\n",
    "train_x = train.astype(float)/(0.5*h) - 0.5\n",
    "test_x = test.astype(float)/(0.5*h) - 0.5\n",
    "\n",
    "\n",
    "Y0 = rand_tensor_idx(train, rank)\n",
    "teneva.show(Y0)\n",
    "\n",
    "Y0_spec = rand_tensor(d, [pow_p]*d, rank)\n",
    "teneva.show(Y0_spec)\n",
    "\n",
    "\n",
    "Y_train = scipy.optimize.rosen(train_x.T)\n",
    "Y_test = scipy.optimize.rosen(test_x.T)"
   ]
  },
  {
   "cell_type": "markdown",
   "id": "2aff8917",
   "metadata": {
    "ExecuteTime": {
     "end_time": "2022-09-17T20:50:03.142285Z",
     "start_time": "2022-09-17T20:50:03.140168Z"
    }
   },
   "source": [
    "# Demo spectral"
   ]
  },
  {
   "cell_type": "code",
   "execution_count": 4,
   "id": "2c0302d3",
   "metadata": {
    "ExecuteTime": {
     "end_time": "2022-09-17T20:45:49.285452Z",
     "start_time": "2022-09-17T20:45:49.179413Z"
    }
   },
   "outputs": [
    {
     "name": "stdout",
     "output_type": "stream",
     "text": [
      "# pre | time:      0.717 | rank:   3.0 | \n",
      "#   1 | time:      3.940 | rank:   3.0 | eps: 1.1e+08 | \n",
      "#   2 | time:      5.871 | rank:   3.0 | eps: 1.0e+00 | \n",
      "#   3 | time:      7.761 | rank:   3.0 | eps: 1.0e+00 | \n",
      "#   4 | time:      9.692 | rank:   3.0 | eps: 6.4e-02 | \n",
      "#   5 | time:     11.746 | rank:   3.0 | eps: 2.1e-03 | \n",
      "#   6 | time:     13.704 | rank:   3.0 | eps: 0.0e+00 | stop: e | \n"
     ]
    }
   ],
   "source": [
    "Y_als_sp = teneva.als_spectral(train_x,  Y_train, Y0_spec, lambda x: poly_arr(x, Y0_spec[0].shape[1], a=-1, b=1), log=True, nswp=100)"
   ]
  },
  {
   "cell_type": "code",
   "execution_count": 4,
   "id": "fce264b6-5ce9-440f-94cd-f22d814cff4d",
   "metadata": {},
   "outputs": [
    {
     "name": "stdout",
     "output_type": "stream",
     "text": [
      "# pre | time:      0.674 | rank:   3.0 | \n",
      "#   1 | time:      3.936 | rank:   3.0 | eps: 1.1e+08 | \n",
      "#   2 | time:      5.842 | rank:   3.0 | eps: 1.0e+00 | \n",
      "#   3 | time:      7.799 | rank:   3.0 | eps: 1.0e+00 | \n",
      "#   4 | time:      9.756 | rank:   3.0 | eps: 6.4e-02 | \n",
      "#   5 | time:     11.699 | rank:   3.0 | eps: 2.1e-03 | \n",
      "#   6 | time:     13.650 | rank:   3.0 | eps: 0.0e+00 | stop: e | \n"
     ]
    }
   ],
   "source": [
    "Y_als_sp = teneva.als_spectral(train_x,  Y_train, Y0_spec, lambda x: poly_arr(x, Y0_spec[0].shape[1], a=-1, b=1), log=True, nswp=100)"
   ]
  },
  {
   "cell_type": "markdown",
   "id": "f5614658",
   "metadata": {
    "ExecuteTime": {
     "end_time": "2022-09-17T20:50:14.888829Z",
     "start_time": "2022-09-17T20:50:14.886745Z"
    }
   },
   "source": [
    "# Demo adaptive"
   ]
  },
  {
   "cell_type": "code",
   "execution_count": 4,
   "id": "46f6248f-fc1e-477e-82ff-21aee4a269b1",
   "metadata": {},
   "outputs": [
    {
     "name": "stdout",
     "output_type": "stream",
     "text": [
      "# pre | time:      0.061 | rank:   3.0 | \n",
      "#   1 | time:      5.571 | rank:   5.0 | eps: 1.2e+02 | \n",
      "#   2 | time:      9.571 | rank:   5.0 | eps: 2.5e-01 | \n",
      "#   3 | time:     13.693 | rank:   5.0 | eps: 8.3e-02 | \n",
      "#   4 | time:     18.155 | rank:   5.0 | eps: 3.9e-03 | \n",
      "#   5 | time:     23.083 | rank:   4.8 | eps: 1.5e-04 | \n",
      "#   6 | time:     27.432 | rank:   3.0 | eps: 1.0e-05 | \n",
      "#   7 | time:     31.896 | rank:   3.0 | eps: 7.4e-07 | \n",
      "#   8 | time:     36.408 | rank:   3.0 | eps: 0.0e+00 | stop: e | \n"
     ]
    }
   ],
   "source": [
    "Y_als = teneva.als(train,  Y_train, Y0, log=True, e=1e-10, nswp=10, e_adap=1e-3, r=5)"
   ]
  },
  {
   "cell_type": "code",
   "execution_count": 5,
   "id": "753b0dea-81ea-4ae5-b6ce-74b93b8fa82d",
   "metadata": {},
   "outputs": [
    {
     "name": "stdout",
     "output_type": "stream",
     "text": [
      "# pre | time:      0.039 | rank:   3.0 | \n",
      "#   1 | time:      0.282 | rank:   3.0 | eps: 1.2e+02 | \n",
      "#   2 | time:      0.541 | rank:   3.0 | eps: 8.1e-02 | \n",
      "#   3 | time:      0.797 | rank:   3.0 | eps: 4.0e-03 | \n",
      "#   4 | time:      1.062 | rank:   3.0 | eps: 2.3e-04 | \n",
      "#   5 | time:      1.329 | rank:   3.0 | eps: 2.1e-05 | \n",
      "#   6 | time:      1.591 | rank:   3.0 | eps: 2.2e-06 | \n",
      "#   7 | time:      1.856 | rank:   3.0 | eps: 2.5e-07 | \n",
      "#   8 | time:      2.121 | rank:   3.0 | eps: 3.4e-08 | \n",
      "#   9 | time:      2.392 | rank:   3.0 | eps: 2.4e-08 | \n",
      "#  10 | time:      2.657 | rank:   3.0 | eps: 1.7e-08 | stop: nswp | \n"
     ]
    }
   ],
   "source": [
    "Y_als = teneva.als(train,  Y_train, Y0, log=True, e=1e-10, nswp=10)"
   ]
  },
  {
   "cell_type": "code",
   "execution_count": 8,
   "id": "844b1eef",
   "metadata": {
    "ExecuteTime": {
     "end_time": "2022-09-17T20:46:24.194368Z",
     "start_time": "2022-09-17T20:45:51.188617Z"
    }
   },
   "outputs": [
    {
     "name": "stdout",
     "output_type": "stream",
     "text": [
      "# pre | time:      0.063 | rank:   3.0 | \n",
      "#   1 | time:      3.766 | rank:   5.0 | eps: 1.2e+02 | \n",
      "#   2 | time:      7.485 | rank:   5.0 | eps: 2.5e-01 | \n",
      "#   3 | time:     11.209 | rank:   5.0 | eps: 8.3e-02 | \n",
      "#   4 | time:     14.938 | rank:   5.0 | eps: 3.9e-03 | \n",
      "#   5 | time:     18.657 | rank:   4.8 | eps: 1.5e-04 | \n",
      "#   6 | time:     22.252 | rank:   3.0 | eps: 1.0e-05 | \n",
      "#   7 | time:     25.830 | rank:   3.0 | eps: 7.4e-07 | \n",
      "#   8 | time:     29.409 | rank:   3.0 | eps: 2.7e-08 | \n",
      "#   9 | time:     32.999 | rank:   3.0 | eps: 0.0e+00 | stop: e | \n"
     ]
    }
   ],
   "source": [
    "Y_als = teneva.als(train,  Y_train, Y0, log=True, e=1e-10, nswp=10, adaptive=True, maxr=5, eps_adap=1e-3)"
   ]
  },
  {
   "cell_type": "code",
   "execution_count": null,
   "id": "1e5bb277",
   "metadata": {},
   "outputs": [],
   "source": []
  },
  {
   "cell_type": "code",
   "execution_count": 4,
   "id": "b6ec9088-ce94-45f5-bf91-b99c44ecb332",
   "metadata": {},
   "outputs": [
    {
     "name": "stdout",
     "output_type": "stream",
     "text": [
      "\n",
      "--- Base\n",
      "# pre | time:      0.067 | rank:   3.0 | \n",
      "#   1 | time:      1.598 | rank:   3.0 | eps: 1.2e+02 | \n",
      "#   2 | time:      1.841 | rank:   3.0 | eps: 8.1e-02 | \n",
      "#   3 | time:      2.089 | rank:   3.0 | eps: 4.0e-03 | \n",
      "#   4 | time:      2.330 | rank:   3.0 | eps: 2.3e-04 | \n",
      "#   5 | time:      2.560 | rank:   3.0 | eps: 2.1e-05 | \n",
      "#   6 | time:      2.802 | rank:   3.0 | eps: 2.2e-06 | \n",
      "#   7 | time:      3.042 | rank:   3.0 | eps: 2.5e-07 | \n",
      "#   8 | time:      3.285 | rank:   3.0 | eps: 2.6e-08 | \n",
      "#   9 | time:      3.539 | rank:   3.0 | eps: 0.0e+00 | stop: e | \n",
      "\n",
      "--- Rank-adaptive\n",
      "# pre | time:      0.048 | rank:   3.0 | \n",
      "#   1 | time:      4.330 | rank:   5.0 | eps: 1.2e+02 | \n",
      "#   2 | time:      9.107 | rank:   5.0 | eps: 2.5e-01 | \n",
      "#   3 | time:     13.445 | rank:   5.0 | eps: 8.3e-02 | \n",
      "#   4 | time:     18.155 | rank:   5.0 | eps: 3.9e-03 | \n",
      "#   5 | time:     22.694 | rank:   4.8 | eps: 1.5e-04 | \n",
      "#   6 | time:     27.191 | rank:   3.0 | eps: 1.0e-05 | \n",
      "#   7 | time:     32.956 | rank:   3.0 | eps: 7.4e-07 | \n",
      "#   8 | time:     39.169 | rank:   3.0 | eps: 0.0e+00 | stop: e | \n",
      "\n",
      "--- Result\n"
     ]
    },
    {
     "data": {
      "text/plain": [
       "0.0"
      ]
     },
     "execution_count": 4,
     "metadata": {},
     "output_type": "execute_result"
    }
   ],
   "source": [
    "print('\\n--- Base')\n",
    "Y1 = teneva.als(train,  Y_train, Y0, log=True, e=1e-10, nswp=10)\n",
    "print('\\n--- Rank-adaptive')\n",
    "Y2 = teneva.als(train,  Y_train, Y0, log=True, e=1e-10, nswp=10, e_adap=1e-3, r=5)\n",
    "print('\\n--- Result')\n",
    "teneva.accuracy(Y1, Y2)"
   ]
  },
  {
   "cell_type": "code",
   "execution_count": null,
   "id": "127bc2a7-470a-4e8a-96b3-c646455c7825",
   "metadata": {},
   "outputs": [],
   "source": []
  }
 ],
 "metadata": {
  "kernelspec": {
   "display_name": "Python 3",
   "language": "python",
   "name": "python3"
  },
  "language_info": {
   "codemirror_mode": {
    "name": "ipython",
    "version": 3
   },
   "file_extension": ".py",
   "mimetype": "text/x-python",
   "name": "python",
   "nbconvert_exporter": "python",
   "pygments_lexer": "ipython3",
   "version": "3.8.8"
  }
 },
 "nbformat": 4,
 "nbformat_minor": 5
}
