{
 "cells": [
  {
   "cell_type": "markdown",
   "id": "e668b7d0-4158-4c71-acb6-d30719ab63ce",
   "metadata": {},
   "source": [
    "**Странный метод (с) построения TT-аппроксимации**\n",
    "\n",
    "---"
   ]
  },
  {
   "cell_type": "code",
   "execution_count": 1,
   "id": "2172fd9e-60c1-4195-b80d-3c268c75e404",
   "metadata": {},
   "outputs": [],
   "source": [
    "import numpy as np\n",
    "import teneva\n",
    "np.random.seed(42)"
   ]
  },
  {
   "cell_type": "code",
   "execution_count": 86,
   "id": "1069633d-09b7-49f8-96a5-53df269882b7",
   "metadata": {},
   "outputs": [],
   "source": [
    "d = 5\n",
    "n = 8"
   ]
  },
  {
   "cell_type": "code",
   "execution_count": 87,
   "id": "b2bab045-e0e4-43e7-9671-be192cfdbe76",
   "metadata": {},
   "outputs": [],
   "source": [
    "func = teneva.FuncDemoRosenbrock(d)\n",
    "func.set_grid(n, kind='uni')\n",
    "I_full = teneva.grid_flat(func.n)\n",
    "Y_full = func.get_f_ind(I_full).reshape(func.n, order='F')"
   ]
  },
  {
   "cell_type": "code",
   "execution_count": 88,
   "id": "3d1b1b21-34c2-440c-80cf-a99524098911",
   "metadata": {},
   "outputs": [],
   "source": [
    "def f(i):\n",
    "    return Y_full[tuple(i)]"
   ]
  },
  {
   "cell_type": "code",
   "execution_count": 89,
   "id": "fba58635-3b86-4983-86de-c0401dda28a3",
   "metadata": {},
   "outputs": [],
   "source": [
    "m_trn = int(9.E+0)\n",
    "I_trn = teneva.sample_lhs([n]*d, m_trn)\n",
    "Y_trn = np.array([f(i) for i in I_trn])"
   ]
  },
  {
   "cell_type": "code",
   "execution_count": 90,
   "id": "c97f7f65-3a44-4145-a655-9278a37883af",
   "metadata": {},
   "outputs": [],
   "source": [
    "m_tst = int(1.E+4)\n",
    "I_tst = np.vstack([np.random.choice(k, m_tst) for k in [n]*d]).T\n",
    "Y_tst = np.array([f(i) for i in I_tst])"
   ]
  },
  {
   "cell_type": "code",
   "execution_count": 91,
   "id": "7afd7cb4-fd26-4b7c-889b-6535f92517b2",
   "metadata": {},
   "outputs": [],
   "source": [
    "def _pop_random(x):\n",
    "    return x.pop(np.random.choice(range(len(x))))\n",
    "\n",
    "def generate_indices(n, k_fix=None, k_ind=None):\n",
    "    d = len(n)\n",
    "    indices = [list(range(k)) for k in n]\n",
    "    I = [[_pop_random(indices[i]) for i in range(d)] for _ in range(min(n))]\n",
    "    I = np.array(I, dtype=int)\n",
    "    if k_fix is not None and k_ind is not None:\n",
    "        I[:, k_fix] = int(k_ind)\n",
    "    return I\n",
    "\n",
    "\n",
    "def build_random(f, n):\n",
    "    d = len(n)\n",
    "    Y = [np.ones([1, k, 1]) for k in n]\n",
    "    I = generate_indices(n)\n",
    "    for i in I:\n",
    "        v = f(i)\n",
    "        s = abs(v) / v if abs(v) > 1.E-16 else v\n",
    "        v = abs(v)**(1./d) if abs(v) > 1.E-16 else 1.\n",
    "        for k in range(d):\n",
    "            Y[k][0, i[k], 0] = v * (1 if k < d-1 else s)\n",
    "    return Y, I\n",
    "\n",
    "def build_random_fix(f, n, k_fix=None, k_ind=None):\n",
    "    d = len(n)\n",
    "    Y = [np.ones([1, k, 1]) for k in n]\n",
    "    I = generate_indices(n, k_fix, k_ind)\n",
    "    for i in I:\n",
    "        v = f(i)\n",
    "        s = abs(v) / v if abs(v) > 1.E-16 else v\n",
    "        v = abs(v)**(1./(d-1)) if abs(v) > 1.E-16 else 1.\n",
    "        for k in range(d):\n",
    "            if k != k_fix:\n",
    "                Y[k][0, i[k], 0] = v * (1 if k < d-1 else s)\n",
    "            else:\n",
    "                Y[k][0, :, 0] = 0.\n",
    "                Y[k][0, k_ind, 0] = 1.\n",
    "    return Y, I\n",
    "\n",
    "def build_boxes(f, n, k_fix):\n",
    "    Y_all = []\n",
    "    I_all = np.ones((0, len(n)), dtype=int)\n",
    "    for k_ind in range(n[k_fix]):\n",
    "        Y, I = build_random_fix(f, n, k_fix, k_ind)\n",
    "        Y_all.append(Y)\n",
    "        I_all = np.vstack((I_all, I))\n",
    "    return np.array(Y_all), I_all\n",
    "\n",
    "def join(Y_all):\n",
    "    Y = teneva.copy(Y_all[0])\n",
    "    for Y_cur in Y_all[1:]:\n",
    "        Y = teneva.add(Y, Y_cur)\n",
    "    return Y"
   ]
  },
  {
   "cell_type": "code",
   "execution_count": 92,
   "id": "50d9d065-f112-44e6-902d-46366736713e",
   "metadata": {},
   "outputs": [
    {
     "name": "stdout",
     "output_type": "stream",
     "text": [
      "--- Mode  0\n",
      "Rank      :    8.00\n",
      "Error trn : 2.4e-16\n",
      "Error tst : 4.8e-01\n",
      "--- Result\n",
      "Size  trn :      64\n",
      "Size  tst :   10000\n",
      "Rank      :    8.00\n",
      "Error trn : 2.4e-16\n",
      "Error tst : 4.8e-01\n"
     ]
    }
   ],
   "source": [
    "Y_all = []\n",
    "I_trn = np.zeros((0, d), dtype=int)\n",
    "Y_trn = np.zeros(0, dtype=float)\n",
    "\n",
    "for k_fix in [0]: # range(d):\n",
    "    Y_all_cur, I_trn_cur = build_boxes(f, [n]*d, k_fix)\n",
    "    Y_trn_cur = np.array([f(i) for i in I_trn_cur])\n",
    "    Y_cur = join(Y_all_cur)\n",
    "    \n",
    "    print(f'--- Mode {k_fix:-2d}')\n",
    "    r = teneva.erank(Y_cur)\n",
    "    print(f'Rank      : {r:-7.2f}')\n",
    "    err = teneva.accuracy_on_data(Y_cur, I_trn_cur, Y_trn_cur)\n",
    "    print(f'Error trn : {err:-7.1e}')\n",
    "    err = teneva.accuracy_on_data(Y_cur, I_tst, Y_tst)\n",
    "    print(f'Error tst : {err:-7.1e}')\n",
    "    \n",
    "    Y_all.extend(Y_all_cur)\n",
    "    I_trn = np.vstack((I_trn, I_trn_cur))\n",
    "    Y_trn = np.hstack((Y_trn, Y_trn_cur))\n",
    "    \n",
    "Y = join(Y_all)\n",
    "\n",
    "print(f'--- Result')\n",
    "print(f'Size  trn : {I_trn.shape[0]:-7d}')\n",
    "print(f'Size  tst : {I_tst.shape[0]:-7d}')\n",
    "r = teneva.erank(Y_cur)\n",
    "print(f'Rank      : {r:-7.2f}')\n",
    "err = teneva.accuracy_on_data(Y_cur, I_trn, Y_trn)\n",
    "print(f'Error trn : {err:-7.1e}')\n",
    "err = teneva.accuracy_on_data(Y_cur, I_tst, Y_tst)\n",
    "print(f'Error tst : {err:-7.1e}')"
   ]
  }
 ],
 "metadata": {
  "kernelspec": {
   "display_name": "Python 3",
   "language": "python",
   "name": "python3"
  },
  "language_info": {
   "codemirror_mode": {
    "name": "ipython",
    "version": 3
   },
   "file_extension": ".py",
   "mimetype": "text/x-python",
   "name": "python",
   "nbconvert_exporter": "python",
   "pygments_lexer": "ipython3",
   "version": "3.8.8"
  }
 },
 "nbformat": 4,
 "nbformat_minor": 5
}
