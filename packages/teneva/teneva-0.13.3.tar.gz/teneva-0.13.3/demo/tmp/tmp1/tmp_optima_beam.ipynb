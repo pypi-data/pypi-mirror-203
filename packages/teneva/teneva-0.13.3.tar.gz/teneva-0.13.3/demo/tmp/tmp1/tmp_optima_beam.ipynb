{
 "cells": [
  {
   "cell_type": "markdown",
   "metadata": {},
   "source": [
    "**NOTE** Use teneva version 0.9.14 !!!\n",
    "\n",
    "---"
   ]
  },
  {
   "cell_type": "code",
   "execution_count": 1,
   "metadata": {
    "id": "k2jm-ZuekZSc"
   },
   "outputs": [],
   "source": [
    "import numpy as np\n",
    "import teneva\n",
    "from time import perf_counter as tpc\n",
    "np.random.seed(42)"
   ]
  },
  {
   "cell_type": "markdown",
   "metadata": {
    "id": "wFZuHlqSYVeu"
   },
   "source": [
    "# Code"
   ]
  },
  {
   "cell_type": "code",
   "execution_count": 2,
   "metadata": {
    "id": "TW-sbvg2IdOQ"
   },
   "outputs": [],
   "source": [
    "def _ones(n):\n",
    "    return np.ones((n, 1), dtype=int)"
   ]
  },
  {
   "cell_type": "code",
   "execution_count": 3,
   "metadata": {
    "id": "fMIemqLgIeOo"
   },
   "outputs": [],
   "source": [
    "def _range(n):\n",
    "    return np.arange(n).reshape(-1, 1)"
   ]
  },
  {
   "cell_type": "code",
   "execution_count": 4,
   "metadata": {
    "id": "2SV8FpWwu1XW"
   },
   "outputs": [],
   "source": [
    "def optima_tt_beam_left(Y, k=100, ort_num=-1, ret_all=False):\n",
    "    ort_num = ort_num if ort_num >= 0 else len(Y)-1\n",
    "    Z = teneva.orthogonalize(Y, ort_num)\n",
    "    \n",
    "    G = Z[-1]\n",
    "    r1, n, r2 = G.shape\n",
    "    Q = G.reshape(r1, n)\n",
    "    I = _range(n)\n",
    "\n",
    "    for G in Z[:-1][::-1]:\n",
    "        r1, n, r2 = G.shape\n",
    "        Q = np.einsum('qir,rj->qij', G, Q).reshape(r1, -1)\n",
    "        \n",
    "        I1 = np.kron(_range(n), _ones(I.shape[0]))\n",
    "        I2 = np.kron(_ones(n), I)\n",
    "        I = np.hstack((I1, I2))\n",
    "        \n",
    "        norms = np.sum(Q**2, axis=0)\n",
    "        ind = np.argsort(norms)[:-(k+1):-1]\n",
    "        I = I[ind, :]\n",
    "        Q = Q[:, ind]\n",
    "\n",
    "    return I if ret_all else I[0]"
   ]
  },
  {
   "cell_type": "code",
   "execution_count": 5,
   "metadata": {
    "id": "DUA5ysOb1zZJ"
   },
   "outputs": [],
   "source": [
    "def optima_tt_beam_right(Y, k=100, ort_num=0, ret_all=False):\n",
    "    ort_num = ort_num if ort_num >= 0 else len(Y)-1\n",
    "    Z = teneva.orthogonalize(Y, ort_num)\n",
    "    \n",
    "    G = Z[0]\n",
    "    r1, n, r2 = G.shape\n",
    "    Q = G.reshape(n, r2)\n",
    "    I = _range(n)\n",
    "\n",
    "    for G in Z[1:]:\n",
    "        r1, n, r2 = G.shape\n",
    "        Q = np.einsum('ir,rjq->ijq', Q, G).reshape(-1, r2)\n",
    "        \n",
    "        I1 = np.kron(I, _ones(n))\n",
    "        I2 = np.kron(_ones(I.shape[0]), _range(n))\n",
    "        I = np.hstack((I1, I2))\n",
    "        \n",
    "        norms = np.sum(Q**2, axis=1)\n",
    "        ind = np.argsort(norms)[:-(k+1):-1]\n",
    "        I = I[ind]\n",
    "        Q = Q[ind]\n",
    "\n",
    "    return I if ret_all else I[0]"
   ]
  },
  {
   "cell_type": "markdown",
   "metadata": {
    "id": "W9Rx_wKgP6Jn"
   },
   "source": [
    "# Test 1"
   ]
  },
  {
   "cell_type": "code",
   "execution_count": 6,
   "metadata": {
    "colab": {
     "base_uri": "https://localhost:8080/"
    },
    "id": "RW-hmMaTaUkP",
    "outputId": "110f41ac-fd78-4517-f10b-f80afd8025b8"
   },
   "outputs": [
    {
     "name": "stdout",
     "output_type": "stream",
     "text": [
      "DONE   | FUNCS | Total time :  6.4659 sec.\n"
     ]
    }
   ],
   "source": [
    "t = tpc()\n",
    "\n",
    "FUNCS = []\n",
    "\n",
    "for func in teneva.func_demo_all(d=5):\n",
    "    if func.name == 'Brown': continue # We do not like this function!\n",
    "    func.set_grid(n=16, kind='uni')\n",
    "    \n",
    "    I_full_real = teneva.grid_flat(func.n)\n",
    "    Y_full_real = func.get_f_ind(I_full_real).reshape(func.n, order='F')\n",
    "    \n",
    "    Y = teneva.svd(Y_full_real, e=1.E-10)\n",
    "    # Y = teneva.truncate(Y, e=1.E-10)\n",
    "    \n",
    "    Y_full = teneva.full(Y)\n",
    "    i_min = np.unravel_index(np.argmin(Y_full), Y_full.shape)\n",
    "    i_max = np.unravel_index(np.argmax(Y_full), Y_full.shape)\n",
    "    \n",
    "    FUNCS.append({\n",
    "        'Y': Y,\n",
    "        'name': func.name,\n",
    "        'r': teneva.erank(Y),\n",
    "        'i_max': i_max,\n",
    "        'i_min': i_min,\n",
    "        'y_max': Y_full[i_max],\n",
    "        'y_min': Y_full[i_min],\n",
    "    })\n",
    "\n",
    "print(f'DONE   | FUNCS | Total time : {tpc()-t:-7.4f} sec.')"
   ]
  },
  {
   "cell_type": "code",
   "execution_count": 7,
   "metadata": {
    "colab": {
     "base_uri": "https://localhost:8080/"
    },
    "id": "j0F888q_hG3o",
    "outputId": "3d67eb09-8b39-4418-ac4a-3911bcf28172"
   },
   "outputs": [
    {
     "name": "stdout",
     "output_type": "stream",
     "text": [
      "\n",
      "Test 1 | Ort -> : 0 | Ort <- : 4 |\n",
      "\n",
      "Ackley          | di/dy -> :    2 / 7.1e-15 | di/dy <- :    1 / 7.1e-15 | dy best : 7.1e-15\n",
      "Alpine          | di/dy -> :    0 / 0.0e+00 | di/dy <- :    0 / 0.0e+00 | dy best : 0.0e+00\n",
      "Dixon           | di/dy -> :    0 / 0.0e+00 | di/dy <- :    0 / 0.0e+00 | dy best : 0.0e+00\n",
      "Exponential     | di/dy -> :   30 / 1.8e-16 | di/dy <- :   15 / 1.8e-16 | dy best : 1.8e-16\n",
      "Grienwank       | di/dy -> :    1 / 2.6e-13 | di/dy <- :    0 / 0.0e+00 | dy best : 0.0e+00\n",
      "Michalewicz     | di/dy -> :   31 / 2.9e-16 | di/dy <- :   30 / 2.9e-16 | dy best : 2.9e-16\n",
      "Qing            | di/dy -> :    0 / 0.0e+00 | di/dy <- :    0 / 0.0e+00 | dy best : 0.0e+00\n",
      "Rastrigin       | di/dy -> :    3 / 8.4e-14 | di/dy <- :    3 / 8.4e-14 | dy best : 8.4e-14\n",
      "Rosenbrock      | di/dy -> :   12 / 4.4e+00 | di/dy <- :    0 / 0.0e+00 | dy best : 0.0e+00\n",
      "Schaffer        | di/dy -> :    3 / 9.4e-16 | di/dy <- :    2 / 5.0e-16 | dy best : 5.0e-16\n",
      "Schwefel        | di/dy -> :    0 / 0.0e+00 | di/dy <- :    0 / 0.0e+00 | dy best : 0.0e+00\n",
      "\n",
      "Test 1 | Ort -> : 0 | Ort <- : 0 |\n",
      "\n",
      "Ackley          | di/dy -> :    2 / 7.1e-15 | di/dy <- :    2 / 3.4e+00 | dy best : 7.1e-15\n",
      "Alpine          | di/dy -> :    0 / 0.0e+00 | di/dy <- :   19 / 8.9e+00 | dy best : 0.0e+00\n",
      "Dixon           | di/dy -> :    0 / 0.0e+00 | di/dy <- :   28 / 2.6e+05 | dy best : 0.0e+00\n",
      "Exponential     | di/dy -> :   30 / 1.8e-16 | di/dy <- :   27 / 5.0e-01 | dy best : 1.8e-16\n",
      "Grienwank       | di/dy -> :    1 / 2.6e-13 | di/dy <- :    7 / 4.2e+01 | dy best : 2.6e-13\n",
      "Michalewicz     | di/dy -> :   31 / 2.9e-16 | di/dy <- :   59 / 1.1e+00 | dy best : 2.9e-16\n",
      "Qing            | di/dy -> :    0 / 0.0e+00 | di/dy <- :    0 / 0.0e+00 | dy best : 0.0e+00\n",
      "Rastrigin       | di/dy -> :    3 / 8.4e-14 | di/dy <- :   29 / 7.9e+01 | dy best : 8.4e-14\n",
      "Rosenbrock      | di/dy -> :   12 / 4.4e+00 | di/dy <- :    9 / 5.1e+02 | dy best : 4.4e+00 !!!\n",
      "Schaffer        | di/dy -> :    3 / 9.4e-16 | di/dy <- :    3 / 9.4e-16 | dy best : 9.4e-16\n",
      "Schwefel        | di/dy -> :    0 / 0.0e+00 | di/dy <- :   22 / 5.6e+02 | dy best : 0.0e+00\n",
      "\n",
      "Test 1 | Ort -> : 4 | Ort <- : 4 |\n",
      "\n",
      "Ackley          | di/dy -> :    3 / 1.8e-15 | di/dy <- :    1 / 7.1e-15 | dy best : 1.8e-15\n",
      "Alpine          | di/dy -> :   17 / 1.2e+01 | di/dy <- :    0 / 0.0e+00 | dy best : 0.0e+00\n",
      "Dixon           | di/dy -> :   23 / 2.6e+05 | di/dy <- :    0 / 0.0e+00 | dy best : 0.0e+00\n",
      "Exponential     | di/dy -> :   29 / 5.0e-01 | di/dy <- :   15 / 1.8e-16 | dy best : 1.8e-16\n",
      "Grienwank       | di/dy -> :   27 / 2.4e+02 | di/dy <- :    0 / 0.0e+00 | dy best : 0.0e+00\n",
      "Michalewicz     | di/dy -> :   22 / 1.5e+00 | di/dy <- :   30 / 2.9e-16 | dy best : 2.9e-16\n",
      "Qing            | di/dy -> :    5 / 7.7e+08 | di/dy <- :    0 / 0.0e+00 | dy best : 0.0e+00\n",
      "Rastrigin       | di/dy -> :   23 / 1.0e+02 | di/dy <- :    3 / 8.4e-14 | dy best : 8.4e-14\n",
      "Rosenbrock      | di/dy -> :   28 / 5.6e+03 | di/dy <- :    0 / 0.0e+00 | dy best : 0.0e+00\n",
      "Schaffer        | di/dy -> :    3 / 5.6e-17 | di/dy <- :    2 / 5.0e-16 | dy best : 5.6e-17\n",
      "Schwefel        | di/dy -> :   42 / 6.6e+02 | di/dy <- :    0 / 0.0e+00 | dy best : 0.0e+00\n",
      "\n",
      "Test 1 | Ort -> : 4 | Ort <- : 0 |\n",
      "\n",
      "Ackley          | di/dy -> :    3 / 1.8e-15 | di/dy <- :    2 / 3.4e+00 | dy best : 1.8e-15\n",
      "Alpine          | di/dy -> :   17 / 1.2e+01 | di/dy <- :   19 / 8.9e+00 | dy best : 8.9e+00 !!!\n",
      "Dixon           | di/dy -> :   23 / 2.6e+05 | di/dy <- :   28 / 2.6e+05 | dy best : 2.6e+05 !!!\n",
      "Exponential     | di/dy -> :   29 / 5.0e-01 | di/dy <- :   27 / 5.0e-01 | dy best : 5.0e-01 !!!\n",
      "Grienwank       | di/dy -> :   27 / 2.4e+02 | di/dy <- :    7 / 4.2e+01 | dy best : 4.2e+01 !!!\n",
      "Michalewicz     | di/dy -> :   22 / 1.5e+00 | di/dy <- :   59 / 1.1e+00 | dy best : 1.1e+00 !!!\n",
      "Qing            | di/dy -> :    5 / 7.7e+08 | di/dy <- :    0 / 0.0e+00 | dy best : 0.0e+00\n",
      "Rastrigin       | di/dy -> :   23 / 1.0e+02 | di/dy <- :   29 / 7.9e+01 | dy best : 7.9e+01 !!!\n",
      "Rosenbrock      | di/dy -> :   28 / 5.6e+03 | di/dy <- :    9 / 5.1e+02 | dy best : 5.1e+02 !!!\n",
      "Schaffer        | di/dy -> :    3 / 5.6e-17 | di/dy <- :    3 / 9.4e-16 | dy best : 5.6e-17\n",
      "Schwefel        | di/dy -> :   42 / 6.6e+02 | di/dy <- :   22 / 5.6e+02 | dy best : 5.6e+02 !!!\n"
     ]
    }
   ],
   "source": [
    "e = 1.E-8\n",
    "\n",
    "for ort_num_r in [0, 4]:\n",
    "    for ort_num_l in [4, 0]:\n",
    "\n",
    "        print(f'\\nTest 1 | Ort -> : {ort_num_r} | Ort <- : {ort_num_l} |\\n')\n",
    "\n",
    "        for item in FUNCS:\n",
    "            if item['name'] == 'Brown': continue # We do not like this function!\n",
    "\n",
    "            Y = item['Y']\n",
    "            # Y = teneva.truncate(Y, e)\n",
    "\n",
    "            i_ref = item['i_min'] if abs(item['y_min']) < abs(item['y_max']) else item['i_max']\n",
    "            y_ref = item['y_min'] if abs(item['y_min']) < abs(item['y_max']) else item['y_max']\n",
    "\n",
    "            # Left to right :\n",
    "\n",
    "            i_max = optima_tt_beam_right(Y, ort_num=ort_num_r)\n",
    "            y_max = teneva.get(Y, i_max)\n",
    "\n",
    "            D = teneva.tensor_const(teneva.shape(Y), y_max)\n",
    "            Z = teneva.sub(Y, D)\n",
    "            # Z = teneva.truncate(Z, 1.E-10)\n",
    "            \n",
    "            i_min = optima_tt_beam_right(Z, ort_num=ort_num_r)\n",
    "            y_min = teneva.get(Z, i_min) + y_max\n",
    "\n",
    "            di_r = np.sum(np.abs(i_ref - i_min))\n",
    "            dy_r = abs(y_ref - y_min) if di_r > 0 else 0.\n",
    "\n",
    "            # Right to left :\n",
    "\n",
    "            i_max = optima_tt_beam_left(Y, ort_num=ort_num_l)\n",
    "            y_max = teneva.get(Y, i_max)\n",
    "\n",
    "            D = teneva.tensor_const(teneva.shape(Y), y_max)\n",
    "            Z = teneva.sub(Y, D)\n",
    "            # Z = teneva.truncate(Z, 1.E-10)\n",
    "            \n",
    "            i_min = optima_tt_beam_left(Z, ort_num=ort_num_l)\n",
    "            y_min = teneva.get(Z, i_min) + y_max\n",
    "\n",
    "            di_l = np.sum(np.abs(i_ref - i_min))\n",
    "            dy_l = abs(y_ref - y_min) if di_l > 0 else 0.\n",
    "\n",
    "            # Log result:\n",
    "            \n",
    "            text = item['name'] + ' ' * max(0, 15 - len(item['name'])) + f' | '\n",
    "            text += f'di/dy -> : {di_r:-4d} / {dy_r:-7.1e} | '\n",
    "            text += f'di/dy <- : {di_l:-4d} / {dy_l:-7.1e} | '\n",
    "            text += f'dy best : {min(dy_l, dy_r):-7.1e}'\n",
    "            if min(dy_l, dy_r) > 1.E-4:\n",
    "                text += ' !!!'\n",
    "            print(text)"
   ]
  },
  {
   "cell_type": "markdown",
   "metadata": {
    "id": "XMbPBsdTzYn-"
   },
   "source": [
    "# Test 2"
   ]
  },
  {
   "cell_type": "code",
   "execution_count": 8,
   "metadata": {
    "id": "bjil9EKY2j9-"
   },
   "outputs": [],
   "source": [
    "d = 100\n",
    "n = 10\n",
    "r = 2\n",
    "e = 1.E-16\n",
    "y_max_scale = 0.1\n",
    "i_max_ref = [4] * d\n",
    "y_max_ref = 1. + y_max_scale"
   ]
  },
  {
   "cell_type": "code",
   "execution_count": 9,
   "metadata": {
    "colab": {
     "base_uri": "https://localhost:8080/"
    },
    "id": "7D5wShpZzX64",
    "outputId": "4a104ba5-d0a0-4aef-dc2e-699adc9a868c"
   },
   "outputs": [
    {
     "name": "stdout",
     "output_type": "stream",
     "text": [
      "\n",
      "Test 2 | Ort -> : 0 | Ort <- : 99 |\n",
      "\n",
      "#   0 | di/dy -> :  242 / 1.0e-01 | di/dy <- :  248 / 1.0e-01 | dy best : 1.0e-01 !!!\n",
      "#   1 | di/dy -> :  255 / 1.0e-01 | di/dy <- :  257 / 1.0e-01 | dy best : 1.0e-01 !!!\n",
      "#   2 | di/dy -> :  243 / 1.0e-01 | di/dy <- :  247 / 1.0e-01 | dy best : 1.0e-01 !!!\n",
      "#   3 | di/dy -> :  222 / 1.0e-01 | di/dy <- :  224 / 1.0e-01 | dy best : 1.0e-01 !!!\n",
      "#   4 | di/dy -> :  260 / 1.0e-01 | di/dy <- :  255 / 1.0e-01 | dy best : 1.0e-01 !!!\n",
      "\n",
      "Test 2 | Ort -> : 0 | Ort <- : 0 |\n",
      "\n",
      "#   0 | di/dy -> :  241 / 1.0e-01 | di/dy <- :    8 / 1.1e+00 | dy best : 1.0e-01 !!!\n",
      "#   1 | di/dy -> :  263 / 1.0e-01 | di/dy <- :    8 / 1.1e+00 | dy best : 1.0e-01 !!!\n",
      "#   2 | di/dy -> :  245 / 1.0e-01 | di/dy <- :   12 / 1.1e+00 | dy best : 1.0e-01 !!!\n",
      "#   3 | di/dy -> :  248 / 1.0e-01 | di/dy <- :    7 / 1.1e+00 | dy best : 1.0e-01 !!!\n",
      "#   4 | di/dy -> :  252 / 1.0e-01 | di/dy <- :    9 / 1.1e+00 | dy best : 1.0e-01 !!!\n",
      "\n",
      "Test 2 | Ort -> : 99 | Ort <- : 99 |\n",
      "\n",
      "#   0 | di/dy -> :    0 / 3.6e-15 | di/dy <- :  253 / 1.0e-01 | dy best : 3.6e-15\n",
      "#   1 | di/dy -> :    0 / 3.6e-15 | di/dy <- :  244 / 1.0e-01 | dy best : 3.6e-15\n",
      "#   2 | di/dy -> :    0 / 3.6e-15 | di/dy <- :  254 / 1.0e-01 | dy best : 3.6e-15\n",
      "#   3 | di/dy -> :    0 / 3.6e-15 | di/dy <- :  272 / 1.0e-01 | dy best : 3.6e-15\n",
      "#   4 | di/dy -> :    0 / 3.6e-15 | di/dy <- :  257 / 1.0e-01 | dy best : 3.6e-15\n",
      "\n",
      "Test 2 | Ort -> : 99 | Ort <- : 0 |\n",
      "\n",
      "#   0 | di/dy -> :    0 / 3.6e-15 | di/dy <- :    8 / 1.1e+00 | dy best : 3.6e-15\n",
      "#   1 | di/dy -> :    0 / 3.6e-15 | di/dy <- :    4 / 1.1e+00 | dy best : 3.6e-15\n",
      "#   2 | di/dy -> :    0 / 3.6e-15 | di/dy <- :    6 / 1.1e+00 | dy best : 3.6e-15\n",
      "#   3 | di/dy -> :    0 / 3.6e-15 | di/dy <- :    5 / 1.1e+00 | dy best : 3.6e-15\n",
      "#   4 | di/dy -> :    0 / 3.6e-15 | di/dy <- :   15 / 1.1e+00 | dy best : 3.6e-15\n"
     ]
    }
   ],
   "source": [
    "for ort_num_r in [0, d-1]:\n",
    "    for ort_num_l in [d-1, 0]:\n",
    "\n",
    "        print(f'\\nTest 2 | Ort -> : {ort_num_r} | Ort <- : {ort_num_l} |\\n')\n",
    "\n",
    "        for it in range(5):\n",
    "            Y = teneva.tensor_rand([n]*d, r)\n",
    "            # Y = teneva.truncate(Y, e)\n",
    "\n",
    "            # Left to right :\n",
    "\n",
    "            i_max_pre = optima_tt_beam_right(Y, ort_num=ort_num_r)\n",
    "            y_max_pre = teneva.get(Y, i_max_pre)\n",
    "\n",
    "            Z = teneva.mul(Y, 1./y_max_pre)\n",
    "            Z = teneva.truncate(Z, e)\n",
    "\n",
    "            y = teneva.get(Z, i_max_ref)\n",
    "            D = teneva.tensor_delta([n]*d, i_max_ref, y_max_ref - y)\n",
    "            Z = teneva.add(Z, D)\n",
    "            # Z = teneva.truncate(Z, e)\n",
    "\n",
    "            t = tpc()\n",
    "            i_max = optima_tt_beam_right(Z, ort_num=ort_num_r)\n",
    "            y_max = teneva.get(Z, i_max)\n",
    "            t = tpc() - t\n",
    "\n",
    "            di_r = np.sum(np.abs(i_max_ref - i_max))\n",
    "            dy_r = abs(y_max_ref - y_max)\n",
    "\n",
    "            # Right to left :\n",
    "\n",
    "            i_max_pre = optima_tt_beam_left(Y, ort_num=ort_num_l)\n",
    "            y_max_pre = teneva.get(Y, i_max_pre)\n",
    "\n",
    "            Z = teneva.mul(Y, 1./y_max_pre)\n",
    "            # Z = teneva.truncate(Z, e)\n",
    "\n",
    "            y = teneva.get(Z, i_max_ref)\n",
    "            D = teneva.tensor_delta([n]*d, i_max_ref, y_max_ref - y)\n",
    "            Z = teneva.add(Z, D)\n",
    "            # Z = teneva.truncate(Z, e)\n",
    "\n",
    "            t = tpc()\n",
    "            i_max = optima_tt_beam_left(Z, ort_num=ort_num_l)\n",
    "            y_max = teneva.get(Z, i_max)\n",
    "            t = tpc() - t\n",
    "\n",
    "            di_l = np.sum(np.abs(i_max_ref - i_max))\n",
    "            dy_l = abs(y_max_ref - y_max)\n",
    "\n",
    "            # Log result:\n",
    "\n",
    "            text = f'# {it:-3d} | '\n",
    "            text += f'di/dy -> : {di_r:-4d} / {dy_r:-7.1e} | '\n",
    "            text += f'di/dy <- : {di_l:-4d} / {dy_l:-7.1e} | '\n",
    "            text += f'dy best : {min(dy_l, dy_r):-7.1e}'\n",
    "            if min(dy_l, dy_r) > 1.E-4:\n",
    "                text += ' !!!'\n",
    "            print(text)"
   ]
  },
  {
   "cell_type": "markdown",
   "metadata": {},
   "source": [
    "# Test 3"
   ]
  },
  {
   "cell_type": "code",
   "execution_count": 37,
   "metadata": {},
   "outputs": [
    {
     "name": "stdout",
     "output_type": "stream",
     "text": [
      "# pre | time:      0.847 | evals: 0.00e+00 (+ 0.00e+00) | rank:   1.0 | err: 1.0e+00 | \n",
      "#   1 | time:      2.431 | evals: 3.07e+04 (+ 2.08e+03) | rank:   3.0 | err: 2.1e-01 | eps: 2.7e+02 | \n",
      "#   2 | time:      6.055 | evals: 1.37e+05 (+ 1.96e+04) | rank:   5.8 | err: 3.9e-15 | eps: 1.8e-01 | stop: e_vld | \n",
      "\n",
      "Grienwank       [CRO          ] > error: 5.5e-15 / 4.2e-15 / 4.3e-15 | rank:  3.0 | time:   6.061\n"
     ]
    }
   ],
   "source": [
    "func = teneva.FuncDemoGrienwank(d=5)\n",
    "func.set_grid(n=1024)\n",
    "func.build_vld_ind(m=1.E+3)\n",
    "func.build_tst_ind(m=1.E+4)\n",
    "func.rand(r=1)\n",
    "func.cross(m=1.E+8, e_vld=1.E-10, log=True)\n",
    "func.check()\n",
    "func.info()"
   ]
  },
  {
   "cell_type": "code",
   "execution_count": 59,
   "metadata": {},
   "outputs": [
    {
     "name": "stdout",
     "output_type": "stream",
     "text": [
      "[512 512 512 512 512]\n",
      "0.660843894011238\n"
     ]
    }
   ],
   "source": [
    "Y = func.Y\n",
    "i_ref = teneva.poi_to_ind(func.x_min, func.a, func.b, func.n)\n",
    "y_ref = teneva.get(Y, i_ref)\n",
    "print(i_ref)\n",
    "print(y_ref)"
   ]
  },
  {
   "cell_type": "code",
   "execution_count": 60,
   "metadata": {},
   "outputs": [],
   "source": [
    "def run(Y, func, ort_num, i_ref, y_ref, is_max=False):\n",
    "    i_max = func(Y, ort_num=ort_num)\n",
    "    y_max = teneva.get(Y, i_max)\n",
    "\n",
    "    if is_max:\n",
    "        i_min = i_max\n",
    "        y_min = y_max\n",
    "    else:\n",
    "        D = teneva.tensor_const(teneva.shape(Y), y_max)\n",
    "        Z = teneva.sub(Y, D)\n",
    "        # Z = teneva.truncate(Z, 1.E-10)\n",
    "\n",
    "        i_min = func(Z, ort_num=ort_num)\n",
    "        y_min = teneva.get(Z, i_min) + y_max\n",
    "    print(y_min, y_max)\n",
    "    di = np.sum(np.abs(i_ref - i_min))\n",
    "    dy = abs(y_ref - y_min) if di > 0 else 0.\n",
    "    return di, dy"
   ]
  },
  {
   "cell_type": "code",
   "execution_count": 61,
   "metadata": {},
   "outputs": [
    {
     "name": "stdout",
     "output_type": "stream",
     "text": [
      "338.10298570775916 449.3405234170433\n",
      "450.9948725271845 94.38462198614768\n",
      "Grienwank       | di/dy -> : 1828 / 3.4e+02 | di/dy <- : 2556 / 4.5e+02 | dy best : 3.4e+02 !!!\n"
     ]
    }
   ],
   "source": [
    "# Left to right :\n",
    "di_r, dy_r = run(Y, optima_tt_beam_right, -1, i_ref, y_ref)\n",
    "\n",
    "# Right to left :\n",
    "di_l, dy_l = run(Y, optima_tt_beam_left, 0, i_ref, y_ref)\n",
    "\n",
    "# Log result:\n",
    "text = func.name + ' ' * max(0, 15 - len(func.name)) + f' | '\n",
    "text += f'di/dy -> : {di_r:-4d} / {dy_r:-7.1e} | '\n",
    "text += f'di/dy <- : {di_l:-4d} / {dy_l:-7.1e} | '\n",
    "text += f'dy best : {min(dy_l, dy_r):-7.1e}'\n",
    "if min(dy_l, dy_r) > 1.E-4:\n",
    "    text += ' !!!'\n",
    "print(text)"
   ]
  },
  {
   "cell_type": "code",
   "execution_count": 62,
   "metadata": {},
   "outputs": [],
   "source": [
    "def _ones(n):\n",
    "    return np.ones((n, 1), dtype=int)"
   ]
  },
  {
   "cell_type": "code",
   "execution_count": 63,
   "metadata": {},
   "outputs": [],
   "source": [
    "def _range(n):\n",
    "    return np.arange(n).reshape(-1, 1)"
   ]
  },
  {
   "cell_type": "code",
   "execution_count": 64,
   "metadata": {},
   "outputs": [],
   "source": [
    "def _reshape(A, shape):\n",
    "    # return A.reshape(shape, order='F')\n",
    "    return A.reshape(shape)"
   ]
  },
  {
   "cell_type": "code",
   "execution_count": 67,
   "metadata": {},
   "outputs": [],
   "source": [
    "def optima_tt_beam(Y, k=200, core_only=None, log=False):\n",
    "    d = len(Y)\n",
    "    get = teneva.getter(Y)\n",
    "\n",
    "    i_opt = None\n",
    "    y_opt = None\n",
    "    \n",
    "    for m in range(d):\n",
    "        if core_only is not None and m != core_only:\n",
    "            continue\n",
    "\n",
    "        Z = teneva.copy(Y)\n",
    "        teneva.orthogonalize(Z, m)\n",
    "\n",
    "        if m > 0:\n",
    "            G = Z[m].copy()\n",
    "            r1, n, r2 = G.shape\n",
    "            Ql = _reshape(G, (r1, n*r2))\n",
    "            Il = np.kron(_ones(r2), _range(n))\n",
    "\n",
    "            for m2 in range(m-1, -1, -1):\n",
    "                G = Z[m2].copy()\n",
    "                r1, n, r2 = G.shape\n",
    "                Ql = np.einsum('qir,rj->qij', G, Ql)\n",
    "                Ql = _reshape(Ql, (r1, -1))\n",
    "\n",
    "                Il_ext = np.kron(_ones(n), Il)\n",
    "                Il_new = np.kron(_range(n), _ones(Il.shape[0]))\n",
    "                Il = np.hstack((Il_new, Il_ext))\n",
    "\n",
    "                ind = np.argsort(np.sum(Ql**2, axis=0))[:-(k+1):-1]\n",
    "                Ql = Ql[:, ind]\n",
    "                Il = Il[ind, :]\n",
    "\n",
    "        if m < d-1:\n",
    "            G = Z[m].copy()\n",
    "            r1, n, r2 = G.shape\n",
    "            Qr = _reshape(G, (r1*n, r2))\n",
    "            Ir = np.kron(_range(n), _ones(r1))\n",
    "            \n",
    "            for m2 in range(m+1, d):\n",
    "                G = Z[m2].copy()\n",
    "                r1, n, r2 = G.shape\n",
    "\n",
    "                Qr = np.einsum('ir,rjq->ijq', Qr, G)\n",
    "                Qr = _reshape(Qr, (-1, r2))\n",
    "\n",
    "                Ir_ext = np.kron(Ir, _ones(n))\n",
    "                Ir_new = np.kron(_ones(Ir.shape[0]), _range(n))\n",
    "                Ir = np.hstack((Ir_ext, Ir_new))\n",
    "\n",
    "                ind = np.argsort(np.sum(Qr**2, axis=1))[:-(k+1):-1]\n",
    "                Qr = Qr[ind, :]\n",
    "                Ir = Ir[ind, :]\n",
    "\n",
    "        if m == 0:\n",
    "            I = Ir.copy()\n",
    "        elif m == d-1:\n",
    "            I = Il.copy()\n",
    "        else:\n",
    "            I = []\n",
    "            for il in Il:\n",
    "                for ir in Ir:\n",
    "                    I.append(np.hstack((il[:-1], ir)))\n",
    "                    I.append(np.hstack((il, ir[1:])))\n",
    "            I = np.array(I, dtype=int)\n",
    "\n",
    "        y = [teneva.get(Y, i) for i in I]\n",
    "        ind = np.argmax(np.abs(y))\n",
    "        i_new = I[ind]\n",
    "        y_new = y[ind]\n",
    "\n",
    "        i_new = I[0]\n",
    "        y_new = teneva.get(Y, i_new)\n",
    "\n",
    "        if y_opt is None or abs(y_new) > abs(y_opt):\n",
    "            i_opt = i_new.copy()\n",
    "            y_opt = y_new\n",
    "            \n",
    "            if log:\n",
    "                print(f'TT-core # {m:-3d} | y_opt: {y_opt:-16.9e}')\n",
    "\n",
    "    return i_opt"
   ]
  },
  {
   "cell_type": "code",
   "execution_count": 68,
   "metadata": {},
   "outputs": [],
   "source": [
    "def run2(Y, i_ref, y_ref, is_max=False):\n",
    "    i_max = optima_tt_beam(Y)\n",
    "    y_max = teneva.get(Y, i_max)\n",
    "\n",
    "    if is_max:\n",
    "        i_min = i_max\n",
    "        y_min = y_max\n",
    "    else:\n",
    "        D = teneva.tensor_const(teneva.shape(Y), y_max)\n",
    "        Z = teneva.sub(Y, D)\n",
    "        # Z = teneva.truncate(Z, 1.E-10)\n",
    "\n",
    "        i_min = optima_tt_beam(Z)\n",
    "        y_min = teneva.get(Z, i_min) + y_max\n",
    "    print(y_min, y_max)\n",
    "    di = np.sum(np.abs(i_ref - i_min))\n",
    "    dy = abs(y_ref - y_min) if di > 0 else 0.\n",
    "    return di, dy"
   ]
  },
  {
   "cell_type": "code",
   "execution_count": 69,
   "metadata": {},
   "outputs": [
    {
     "name": "stdout",
     "output_type": "stream",
     "text": [
      "1.1642163271931736 450.9959786735153\n",
      "Grienwank       | di/dy -> :   63 / 5.0e-01 | di/dy <- :   63 / 5.0e-01 | dy best : 5.0e-01 !!!\n"
     ]
    }
   ],
   "source": [
    "# Left to right :\n",
    "di_r, dy_r = run2(Y, i_ref, y_ref)\n",
    "\n",
    "# Right to left :\n",
    "di_l, dy_l = di_r, dy_r\n",
    "\n",
    "# Log result:\n",
    "text = func.name + ' ' * max(0, 15 - len(func.name)) + f' | '\n",
    "text += f'di/dy -> : {di_r:-4d} / {dy_r:-7.1e} | '\n",
    "text += f'di/dy <- : {di_l:-4d} / {dy_l:-7.1e} | '\n",
    "text += f'dy best : {min(dy_l, dy_r):-7.1e}'\n",
    "if min(dy_l, dy_r) > 1.E-4:\n",
    "    text += ' !!!'\n",
    "print(text)"
   ]
  },
  {
   "cell_type": "code",
   "execution_count": 70,
   "metadata": {},
   "outputs": [
    {
     "name": "stdout",
     "output_type": "stream",
     "text": [
      "TT-core #   0 | y_opt:  4.509959787e+02\n"
     ]
    }
   ],
   "source": [
    "i_opt = optima_tt_beam(Y, k=100, log=True)"
   ]
  },
  {
   "cell_type": "code",
   "execution_count": 36,
   "metadata": {},
   "outputs": [
    {
     "name": "stdout",
     "output_type": "stream",
     "text": [
      "0.7448211122939488\n"
     ]
    }
   ],
   "source": [
    "y_ref = teneva.get(Y, i_ref)\n",
    "print(y_ref)"
   ]
  },
  {
   "cell_type": "markdown",
   "metadata": {
    "id": "swlYgojZQHDj"
   },
   "source": [
    "---"
   ]
  }
 ],
 "metadata": {
  "colab": {
   "collapsed_sections": [
    "NqgIS_sFkXOX",
    "wFZuHlqSYVeu"
   ],
   "name": "teneva_test_optima_tt.ipynb",
   "provenance": []
  },
  "kernelspec": {
   "display_name": "Python 3",
   "language": "python",
   "name": "python3"
  },
  "language_info": {
   "codemirror_mode": {
    "name": "ipython",
    "version": 3
   },
   "file_extension": ".py",
   "mimetype": "text/x-python",
   "name": "python",
   "nbconvert_exporter": "python",
   "pygments_lexer": "ipython3",
   "version": "3.8.8"
  }
 },
 "nbformat": 4,
 "nbformat_minor": 4
}
