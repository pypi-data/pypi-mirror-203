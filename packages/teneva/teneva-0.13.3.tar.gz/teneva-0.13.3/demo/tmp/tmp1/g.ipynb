{
 "cells": [
  {
   "cell_type": "markdown",
   "id": "143435a9-6525-4055-9996-166fd4c54c0b",
   "metadata": {},
   "source": [
    "**teneva_research: power**\n",
    "\n",
    "Исследование поэлементного возведения TT-тензоров в степень\n",
    "\n",
    "---"
   ]
  },
  {
   "cell_type": "markdown",
   "id": "08063300-38c1-4334-ab7c-8bdf1aa00750",
   "metadata": {},
   "source": [
    "# Установка и импорт модулей"
   ]
  },
  {
   "cell_type": "code",
   "execution_count": 1,
   "id": "aaacce5b-3497-4858-93fd-d5526781883f",
   "metadata": {},
   "outputs": [],
   "source": [
    "import numpy as np\n",
    "import teneva # Используется версия 0.11.4!\n",
    "from time import perf_counter as tpc"
   ]
  },
  {
   "cell_type": "markdown",
   "id": "13d6507d-c61b-444a-bf32-0907fe63b8be",
   "metadata": {},
   "source": [
    "# Подготовка тензоров"
   ]
  },
  {
   "cell_type": "markdown",
   "id": "5bfc2557-6fe2-4ed7-ba86-c4de9d1479ec",
   "metadata": {},
   "source": [
    "Мы рассматриваем только те модельные функции, для которых известна явная форма TT-ядер и которые имеют минимум в нуле (поскольку мы берем нечетное число узлов сетки, то мульти-индекс тензора попадет точно в оптимум):"
   ]
  },
  {
   "cell_type": "code",
   "execution_count": 2,
   "id": "a8705769-3b48-4bff-88a1-e446ed9f3a18",
   "metadata": {},
   "outputs": [],
   "source": [
    "func_names = ['Alpine', 'Rastrigin', 'Rosenbrock', 'Schwefel']\n",
    "           # 'Exponential' - min и max перепутаны, пока отложил\n",
    "           # 'Grienwank' - плохо работает ;(\n",
    "d          = 100       # Размерность функции\n",
    "n          = 2**6 + 1  # Число узлов сетки\n",
    "data       = []"
   ]
  },
  {
   "cell_type": "markdown",
   "id": "db884128-e61e-4b80-a6d8-e1ea8007e778",
   "metadata": {},
   "source": [
    "Для каждой функции мы:\n",
    "- Явно строим ее TT-ядра\n",
    "- Находим максимальное по модулю значение $y_{max}$, используя \"optima_tt\"\n",
    "- Вычитаем из TT-тензора $y_{max}$ без округления (теперь в начале координат функция имеет минимум, который одновременно является максимальным по модулю значением)\n",
    "- Сохраняем значение полученного TT-тензора в начале координат как референсное"
   ]
  },
  {
   "cell_type": "code",
   "execution_count": 3,
   "id": "e0f69fca-70a9-42b1-a4d8-8cbdc9fbefe5",
   "metadata": {},
   "outputs": [
    {
     "name": "stdout",
     "output_type": "stream",
     "text": [
      "Alpine      | r =   3.00 | y =             -864.0927477 | t =    2.611 | \n",
      "Rastrigin   | r =   3.00 | y =            -3999.1547013 | t =    2.598 | \n",
      "Rosenbrock  | r =   4.00 | y =          -386680.6600335 | t =    3.304 | \n",
      "Schwefel    | r =   3.00 | y =           -83775.8442853 | t =    2.389 | \n"
     ]
    }
   ],
   "source": [
    "for func in teneva.func_demo_all(d, names=func_names):\n",
    "    func.set_grid(n, kind='uni')\n",
    "    \n",
    "    t = tpc()\n",
    "    func.cores()\n",
    "    t = tpc() - t\n",
    "    \n",
    "    y_max = teneva.optima_tt_max(func.Y)[-1]\n",
    "    func.Y = teneva.sub(func.Y, y_max)\n",
    "    \n",
    "    i = teneva.poi_to_ind(func.x_min, func.a, func.b, func.n)\n",
    "    y = teneva.get(func.Y, i)\n",
    "    data.append({'name': func.name, 'Y': func.Y, 'i': i, 'y': y})\n",
    "\n",
    "    text = ''\n",
    "    text += func.name + ' '*max(0, 12-len(func.name)) + '| '\n",
    "    text += f'r = {teneva.erank(func.Y):-6.2f} | '\n",
    "    text += f'y = {y:-24.7f} | '\n",
    "    text += f't = {t:-8.3f} | '\n",
    "    print(text)"
   ]
  },
  {
   "cell_type": "markdown",
   "id": "81b369db-657d-4353-9047-26ad89c1e33e",
   "metadata": {},
   "source": [
    "# Явное возведение в степень"
   ]
  },
  {
   "cell_type": "markdown",
   "id": "1637050f-755e-4509-baed-500767efee2e",
   "metadata": {},
   "source": [
    "Будем возводить тензор в степень s, округляя результат после каждой операции и дополнительно нормируя тензор (мы сохраняем все промежуточные нормировки и используем их при вычислении итогового результата), также найдем индекс оптимума (максимума по модулю) для тензора, возведенного в степень, и оценим ошибку (берем значение исходного тензора в найденном мульти-индексе и смотрим на отклонение от точного значения)."
   ]
  },
  {
   "cell_type": "code",
   "execution_count": 4,
   "id": "7ce5a2ab-eb8a-4134-b487-f0cd7347ff67",
   "metadata": {},
   "outputs": [],
   "source": [
    "def power_mul(Y, s, e_trunc):\n",
    "    Z = teneva.copy(Y)\n",
    "    p = 1.\n",
    "    for _ in range(s-1):\n",
    "        Z = teneva.mul(Z, Y)\n",
    "        Z = teneva.truncate(Z, e_trunc)\n",
    "        p_curr = teneva.norm(Z)\n",
    "        Z = teneva.mul(Z, 1./p_curr)\n",
    "        Z = teneva.truncate(Z, e_trunc)\n",
    "        p *= p_curr\n",
    "    return Z, p"
   ]
  },
  {
   "cell_type": "code",
   "execution_count": 6,
   "id": "0b8319e3-ac7d-4e48-bddb-a65b8c5cb402",
   "metadata": {},
   "outputs": [],
   "source": [
    "def run(data, s, power, e_trunc=1.E-12, name='MUL'):\n",
    "    print('-'*103 + f'\\n-> RUN {name}  | d = {d:-3d}, n = {n:-5d}, power = {s}, e_trunc = {e_trunc:-7.1e}\\n' + '-'*103)\n",
    "    \n",
    "    for item in data:\n",
    "        t = tpc()\n",
    "        Z, p = power(item['Y'], s, e_trunc)\n",
    "        t = tpc() - t\n",
    "\n",
    "        z = teneva.get(Z, item['i'])\n",
    "        z = (z * p)**(1./s)\n",
    "        \n",
    "        e_val = abs(abs(item['y']) - abs(z))\n",
    "\n",
    "        i_opt = teneva.optima_tt_max(Z, k=10)[0]\n",
    "        y_opt = teneva.get(item['Y'], i_opt)\n",
    "        e_opt = abs(item['y'] - y_opt)\n",
    "\n",
    "        text = ''\n",
    "        text += item['name'] + ' '*max(0, 12-len(item['name'])) + '| '\n",
    "        text += f'e val = {e_val:7.1e} | '\n",
    "        text += f'e opt = {e_opt:7.1e} | '\n",
    "        #text += f'r full = {teneva.erank(item[\"Y\"])**s:-10.1f} | '\n",
    "        text += f'r real = {teneva.erank(Z):-5.1f} | '\n",
    "        text += f't = {t:-8.3f} | '\n",
    "        print(text)"
   ]
  },
  {
   "cell_type": "code",
   "execution_count": 7,
   "id": "49aafab6-4f22-456e-82da-72467b052194",
   "metadata": {},
   "outputs": [
    {
     "name": "stdout",
     "output_type": "stream",
     "text": [
      "-------------------------------------------------------------------------------------------------------\n",
      "-> RUN MUL  | d = 100, n =    65, power = 8, e_trunc = 1.0e-12\n",
      "-------------------------------------------------------------------------------------------------------\n",
      "Alpine      | e val = 7.6e-04 | e opt = 0.0e+00 | r real =   5.8 | t =    0.695 | \n",
      "Rastrigin   | e val = 5.0e-02 | e opt = 0.0e+00 | r real =   5.9 | t =    0.740 | \n",
      "Rosenbrock  | e val = 8.8e-03 | e opt = 8.3e+01 | r real =  18.1 | t =   12.167 | \n",
      "Schwefel    | e val = 4.1e+00 | e opt = 0.0e+00 | r real =   5.9 | t =    0.715 | \n"
     ]
    }
   ],
   "source": [
    "run(data, 8, power_mul)"
   ]
  },
  {
   "cell_type": "markdown",
   "id": "db78f88b-f74f-4a61-9fd5-0baccf0b41f0",
   "metadata": {},
   "source": [
    "# Возведение сразу в большую степень с использованием `cross_act`"
   ]
  },
  {
   "cell_type": "code",
   "execution_count": 8,
   "id": "6a6d2786",
   "metadata": {},
   "outputs": [],
   "source": [
    "def power_act2_exp(Y, s, e_trunc, act_e=1.E-8, act_nswp=5, act_r=1, act_dr=2, act_dr2=0):\n",
    "    def f(X):\n",
    "        return np.exp(s*X[:, 0])\n",
    "        #return X.reshape(-1)\n",
    "    R = teneva.tensor_rand(teneva.shape(Y), r=act_r)\n",
    "    Z = teneva.cross_act(f, [Y], R,\n",
    "        e=act_e, nswp=act_nswp, r=9999, dr=act_dr, dr2=act_dr2, log=False)\n",
    "    Z = teneva.truncate(Z, e=e_trunc)\n",
    "    return Z, 1."
   ]
  },
  {
   "cell_type": "code",
   "execution_count": 9,
   "id": "8ab89e3e",
   "metadata": {},
   "outputs": [
    {
     "name": "stdout",
     "output_type": "stream",
     "text": [
      "-------------------------------------------------------------------------------------------------------\n",
      "-> RUN MUL  | d = 100, n =    65, power = 0.1, e_trunc = 1.0e-12\n",
      "-------------------------------------------------------------------------------------------------------\n",
      "Alpine      | e val = 8.6e+02 | e opt = 8.6e+02 | r real =   1.0 | t =    0.395 | \n",
      "Rastrigin   | e val = 4.0e+03 | e opt = 4.0e+03 | r real =   1.0 | t =    0.372 | \n"
     ]
    },
    {
     "name": "stderr",
     "output_type": "stream",
     "text": [
      "/Users/andrei/opt/anaconda3/lib/python3.8/site-packages/teneva-0.11.4-py3.8.egg/teneva/core/act_two.py:35: RuntimeWarning: divide by zero encountered in double_scalars\n",
      "/Users/andrei/opt/anaconda3/lib/python3.8/site-packages/teneva-0.11.4-py3.8.egg/teneva/core/act_two.py:35: RuntimeWarning: invalid value encountered in double_scalars\n"
     ]
    },
    {
     "name": "stdout",
     "output_type": "stream",
     "text": [
      "Rosenbrock  | e val = 3.9e+05 | e opt = 3.9e+05 | r real =   1.0 | t =    0.375 | \n",
      "Schwefel    | e val = 8.4e+04 | e opt = 3.4e+04 | r real =   1.0 | t =    0.404 | \n"
     ]
    },
    {
     "name": "stderr",
     "output_type": "stream",
     "text": [
      "/Users/andrei/opt/anaconda3/lib/python3.8/site-packages/teneva-0.11.4-py3.8.egg/teneva/core/optima.py:154: RuntimeWarning: invalid value encountered in true_divide\n"
     ]
    }
   ],
   "source": [
    "Z = run(data, 0.1, power_act2_exp)"
   ]
  },
  {
   "cell_type": "code",
   "execution_count": 116,
   "id": "9143309e-8873-421b-8399-182e3075f22f",
   "metadata": {},
   "outputs": [],
   "source": [
    "import scipy as sp\n",
    "\n",
    "\n",
    "from teneva import copy\n",
    "from teneva import matrix_svd\n",
    "from teneva import _reshape"
   ]
  },
  {
   "cell_type": "code",
   "execution_count": 117,
   "id": "a5f238fc-8653-4e4d-b176-318d6aa164ee",
   "metadata": {},
   "outputs": [],
   "source": [
    "def core_stab(G, p0=0, thr=1.E-100):\n",
    "    \"\"\"Scaling for the passed TT-core, i.e., G -> (Q, p), G = 2^p * Q.\n",
    "\n",
    "    Args:\n",
    "        G (np.ndarray): TT-core in the form of 3-dimensional array.\n",
    "        p0 (int): optional initial value of the power-factor (it will be added\n",
    "            to returned value \"p\").\n",
    "        thr (float): threshold value for applying scaling (if the maximum\n",
    "            modulo element in the TT-core is less than this value, then scaling\n",
    "            will not be performed).\n",
    "\n",
    "    Returns:\n",
    "        (np.ndarray, int): scaled TT-core (Q) and power-factor (p), such that\n",
    "            G = 2^p * Q.\n",
    "\n",
    "    \"\"\"\n",
    "    v_max = float(np.max(np.abs(G)))\n",
    "\n",
    "    if v_max <= thr:\n",
    "        return G, p0\n",
    "\n",
    "    p = int(np.floor(np.log2(v_max)))\n",
    "    Q = G / 2**p\n",
    "\n",
    "    return Q, p0 + p"
   ]
  },
  {
   "cell_type": "code",
   "execution_count": 118,
   "id": "23a7dc93-2752-4b79-88e8-d6797ece1bb3",
   "metadata": {},
   "outputs": [],
   "source": [
    "def orthogonalize(Y, k=None, use_stab=False):\n",
    "    \"\"\"Orthogonalize TT-tensor.\n",
    "\n",
    "    Args:\n",
    "        Y (list): TT-tensor.\n",
    "        k (int): the leading mode for orthogonalization. The TT-cores 0, 1, ...,\n",
    "            k-1 will be left-orthogonalized and the TT-cores k+1, k+2, ..., d-1\n",
    "            will be right-orthogonalized. It will be the last mode by default.\n",
    "        use_stab (bool): if flag is set, then function will also return the\n",
    "            second argument \"p\", which is the factor of 2-power.\n",
    "\n",
    "    Returns:\n",
    "        list: orthogonalized TT-tensor.\n",
    "\n",
    "    \"\"\"\n",
    "    d = len(Y)\n",
    "    k = d - 1 if k is None else k\n",
    "\n",
    "    if k is None or k < 0 or k > d-1:\n",
    "        raise ValueError('Invalid mode number')\n",
    "\n",
    "    Z = copy(Y)\n",
    "    p = 0\n",
    "\n",
    "    for i in range(d-1, k, -1):\n",
    "        orthogonalize_right(Z, i, inplace=True)\n",
    "        if use_stab:\n",
    "            Z[i-1], p = core_stab(Z[i-1], p)\n",
    "\n",
    "    return (Z, p) if use_stab else Z"
   ]
  },
  {
   "cell_type": "code",
   "execution_count": 119,
   "id": "eb67599c-3c63-457e-8642-f360b7039b8b",
   "metadata": {},
   "outputs": [],
   "source": [
    "def orthogonalize_right(Y, i, inplace=False):\n",
    "    \"\"\"Right-orthogonalization for TT-tensor.\n",
    "\n",
    "    Args:\n",
    "        Y (list): d-dimensional TT-tensor.\n",
    "        i (int): mode for orthogonalization (> 0 and <= d-1).\n",
    "        inplace (bool): if flag is set, then the original TT-tensor (i.e.,\n",
    "            the function argument) will be transformed. Otherwise, a copy of\n",
    "            the TT-tensor will be returned.\n",
    "\n",
    "    Returns:\n",
    "        list: TT-tensor with right orthogonalized i-th mode.\n",
    "\n",
    "    \"\"\"\n",
    "    d = len(Y)\n",
    "\n",
    "    if i is None or i <= 0 or i > d-1:\n",
    "        raise ValueError('Invalid mode number')\n",
    "\n",
    "    Z = Y if inplace else copy(Y)\n",
    "\n",
    "    r2, n2, r3 = Z[i].shape\n",
    "    G2 = _reshape(Z[i], (r2, n2 * r3))\n",
    "    R, Q = sp.linalg.rq(G2, mode='economic', check_finite=False)\n",
    "    Z[i] = _reshape(Q, (Q.shape[0], n2, r3))\n",
    "\n",
    "    r1, n1, r2 = Z[i-1].shape\n",
    "    G1 = _reshape(Z[i-1], (r1 * n1, r2))\n",
    "    G1 = G1 @ R\n",
    "    Z[i-1] = _reshape(G1, (r1, n1, G1.shape[1]))\n",
    "\n",
    "    return Z\n"
   ]
  },
  {
   "cell_type": "code",
   "execution_count": 120,
   "id": "b9f8a999-d173-4b51-b1e1-461b21d6278f",
   "metadata": {},
   "outputs": [
    {
     "name": "stdout",
     "output_type": "stream",
     "text": [
      "-------------------------------------------------------------------------------------------------------\n",
      "-> RUN MUL  | d = 100, n =    65, power = 0.1, e_trunc = 1.0e-12\n",
      "-------------------------------------------------------------------------------------------------------\n"
     ]
    }
   ],
   "source": [
    "Z = run(data, 0.1, power_act2_exp)"
   ]
  },
  {
   "cell_type": "code",
   "execution_count": 121,
   "id": "dba9f6ab-d2bc-42ac-9c60-23a7bb9b47a7",
   "metadata": {},
   "outputs": [],
   "source": [
    "Z, p = orthogonalize(Z, 0, use_stab=True)"
   ]
  },
  {
   "cell_type": "code",
   "execution_count": 125,
   "id": "991e3194-9aaf-4974-adc4-818dd88a4d2a",
   "metadata": {},
   "outputs": [
    {
     "data": {
      "text/plain": [
       "dtype('O')"
      ]
     },
     "execution_count": 125,
     "metadata": {},
     "output_type": "execute_result"
    }
   ],
   "source": [
    "Z[0].dtype"
   ]
  },
  {
   "cell_type": "code",
   "execution_count": 9,
   "id": "fd54cf95-4275-46df-a52d-1bd972d2b667",
   "metadata": {},
   "outputs": [],
   "source": [
    "G = Z[0]\n",
    "r1, n, r2 = G.shape\n",
    "Q = G.reshape(n, r2)\n",
    "G = Z[1]\n",
    "Q = np.einsum('kr,riq->kiq', Q, G, optimize='optimal')"
   ]
  },
  {
   "cell_type": "markdown",
   "id": "42ad0007-c1cc-4d0a-ab5a-168301ec57b3",
   "metadata": {},
   "source": [
    "---"
   ]
  }
 ],
 "metadata": {
  "kernelspec": {
   "display_name": "Python 3",
   "language": "python",
   "name": "python3"
  },
  "language_info": {
   "codemirror_mode": {
    "name": "ipython",
    "version": 3
   },
   "file_extension": ".py",
   "mimetype": "text/x-python",
   "name": "python",
   "nbconvert_exporter": "python",
   "pygments_lexer": "ipython3",
   "version": "3.8.8"
  }
 },
 "nbformat": 4,
 "nbformat_minor": 5
}
