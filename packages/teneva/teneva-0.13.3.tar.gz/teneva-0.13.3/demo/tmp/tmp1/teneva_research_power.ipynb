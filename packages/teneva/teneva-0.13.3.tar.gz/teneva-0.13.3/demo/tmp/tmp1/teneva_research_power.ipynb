{
 "cells": [
  {
   "cell_type": "markdown",
   "id": "143435a9-6525-4055-9996-166fd4c54c0b",
   "metadata": {},
   "source": [
    "**teneva_research: power**\n",
    "\n",
    "Исследование поэлементного возведения TT-тензоров в степень\n",
    "\n",
    "---"
   ]
  },
  {
   "cell_type": "markdown",
   "id": "08063300-38c1-4334-ab7c-8bdf1aa00750",
   "metadata": {},
   "source": [
    "# Установка и импорт модулей"
   ]
  },
  {
   "cell_type": "code",
   "execution_count": 1,
   "id": "aaacce5b-3497-4858-93fd-d5526781883f",
   "metadata": {},
   "outputs": [],
   "source": [
    "import numpy as np\n",
    "import teneva # Используется версия 0.11.4!\n",
    "from time import perf_counter as tpc"
   ]
  },
  {
   "cell_type": "markdown",
   "id": "13d6507d-c61b-444a-bf32-0907fe63b8be",
   "metadata": {},
   "source": [
    "# Подготовка тензоров"
   ]
  },
  {
   "cell_type": "markdown",
   "id": "5bfc2557-6fe2-4ed7-ba86-c4de9d1479ec",
   "metadata": {},
   "source": [
    "Мы рассматриваем только те модельные функции, для которых известна явная форма TT-ядер и которые имеют минимум в нуле (поскольку мы берем нечетное число узлов сетки, то мульти-индекс тензора попадет точно в оптимум):"
   ]
  },
  {
   "cell_type": "code",
   "execution_count": 2,
   "id": "a8705769-3b48-4bff-88a1-e446ed9f3a18",
   "metadata": {},
   "outputs": [],
   "source": [
    "func_names = ['Alpine', 'Rastrigin', 'Rosenbrock', 'Schwefel']\n",
    "           # 'Exponential' - min и max перепутаны, пока отложил\n",
    "           # 'Grienwank' - плохо работает ;(\n",
    "d          = 100       # Размерность функции\n",
    "n          = 2**6 + 1  # Число узлов сетки\n",
    "data       = []"
   ]
  },
  {
   "cell_type": "markdown",
   "id": "db884128-e61e-4b80-a6d8-e1ea8007e778",
   "metadata": {},
   "source": [
    "Для каждой функции мы:\n",
    "- Явно строим ее TT-ядра\n",
    "- Находим максимальное по модулю значение $y_{max}$, используя \"optima_tt\"\n",
    "- Вычитаем из TT-тензора $y_{max}$ без округления (теперь в начале координат функция имеет минимум, который одновременно является максимальным по модулю значением)\n",
    "- Сохраняем значение полученного TT-тензора в начале координат как референсное"
   ]
  },
  {
   "cell_type": "code",
   "execution_count": 3,
   "id": "e0f69fca-70a9-42b1-a4d8-8cbdc9fbefe5",
   "metadata": {},
   "outputs": [
    {
     "name": "stdout",
     "output_type": "stream",
     "text": [
      "Alpine      | r =   3.00 | y =             -864.0927477 | t =    2.411 | \n",
      "Rastrigin   | r =   3.00 | y =            -3999.1547013 | t =    2.462 | \n",
      "Rosenbrock  | r =   4.00 | y =          -386680.6600335 | t =    3.230 | \n",
      "Schwefel    | r =   3.00 | y =           -83775.8442853 | t =    2.291 | \n"
     ]
    }
   ],
   "source": [
    "for func in teneva.func_demo_all(d, names=func_names):\n",
    "    func.set_grid(n, kind='uni')\n",
    "    \n",
    "    t = tpc()\n",
    "    func.cores()\n",
    "    t = tpc() - t\n",
    "    \n",
    "    y_max = teneva.optima_tt_max(func.Y)[-1]\n",
    "    func.Y = teneva.sub(func.Y, y_max)\n",
    "    \n",
    "    i = teneva.poi_to_ind(func.x_min, func.a, func.b, func.n)\n",
    "    y = teneva.get(func.Y, i)\n",
    "    data.append({'name': func.name, 'Y': func.Y, 'i': i, 'y': y})\n",
    "\n",
    "    text = ''\n",
    "    text += func.name + ' '*max(0, 12-len(func.name)) + '| '\n",
    "    text += f'r = {teneva.erank(func.Y):-6.2f} | '\n",
    "    text += f'y = {y:-24.7f} | '\n",
    "    text += f't = {t:-8.3f} | '\n",
    "    print(text)"
   ]
  },
  {
   "cell_type": "markdown",
   "id": "81b369db-657d-4353-9047-26ad89c1e33e",
   "metadata": {},
   "source": [
    "# Явное возведение в степень"
   ]
  },
  {
   "cell_type": "markdown",
   "id": "1637050f-755e-4509-baed-500767efee2e",
   "metadata": {},
   "source": [
    "Будем возводить тензор в степень s, округляя результат после каждой операции и дополнительно нормируя тензор (мы сохраняем все промежуточные нормировки и используем их при вычислении итогового результата), также найдем индекс оптимума (максимума по модулю) для тензора, возведенного в степень, и оценим ошибку (берем значение исходного тензора в найденном мульти-индексе и смотрим на отклонение от точного значения)."
   ]
  },
  {
   "cell_type": "code",
   "execution_count": 11,
   "id": "7ce5a2ab-eb8a-4134-b487-f0cd7347ff67",
   "metadata": {},
   "outputs": [],
   "source": [
    "def power_mul(Y, s, e_trunc):\n",
    "    Z = teneva.copy(Y)\n",
    "    p = 1.\n",
    "    for _ in range(s-1):\n",
    "        Z = teneva.mul(Z, Y)\n",
    "        Z = teneva.truncate(Z, e_trunc)\n",
    "        p_curr = teneva.norm(Z)\n",
    "        Z = teneva.mul(Z, 1./p_curr)\n",
    "        Z = teneva.truncate(Z, e_trunc)\n",
    "        p *= p_curr\n",
    "    return Z, p"
   ]
  },
  {
   "cell_type": "code",
   "execution_count": 21,
   "id": "0b8319e3-ac7d-4e48-bddb-a65b8c5cb402",
   "metadata": {},
   "outputs": [],
   "source": [
    "def run(data, s, power, e_trunc=1.E-12, name='MUL'):\n",
    "    print('-'*103 + f'\\n-> RUN {name}  | d = {d:-3d}, n = {n:-5d}, power = {s:-2d}, e_trunc = {e_trunc:-7.1e}\\n' + '-'*103)\n",
    "    \n",
    "    for item in data:\n",
    "        t = tpc()\n",
    "        Z, p = power(item['Y'], s, e_trunc)\n",
    "        t = tpc() - t\n",
    "\n",
    "        z = teneva.get(Z, item['i'])\n",
    "        z = (z * p)**(1./s)\n",
    "        \n",
    "        e_val = abs(abs(item['y']) - abs(z))\n",
    "        \n",
    "        i_opt = teneva.optima_tt_max(Z, k=10)[0]\n",
    "        y_opt = teneva.get(item['Y'], i_opt)\n",
    "        e_opt = abs(item['y'] - y_opt)\n",
    "\n",
    "        text = ''\n",
    "        text += item['name'] + ' '*max(0, 12-len(item['name'])) + '| '\n",
    "        text += f'e val = {e_val:7.1e} | '\n",
    "        text += f'e opt = {e_opt:7.1e} | '\n",
    "        text += f'r full = {teneva.erank(item[\"Y\"])**s:-10.1f} | '\n",
    "        text += f'r real = {teneva.erank(Z):-5.1f} | '\n",
    "        text += f't = {t:-8.3f} | '\n",
    "        print(text)"
   ]
  },
  {
   "cell_type": "code",
   "execution_count": 22,
   "id": "49aafab6-4f22-456e-82da-72467b052194",
   "metadata": {},
   "outputs": [
    {
     "name": "stdout",
     "output_type": "stream",
     "text": [
      "-------------------------------------------------------------------------------------------------------\n",
      "-> RUN MUL  | d = 100, n =    65, power =  8, e_trunc = 1.0e-12\n",
      "-------------------------------------------------------------------------------------------------------\n",
      "Alpine      | e val = 7.6e-04 | e opt = 0.0e+00 | r full =     6561.0 | r real =   5.8 | t =    0.678 | \n",
      "Rastrigin   | e val = 5.0e-02 | e opt = 0.0e+00 | r full =     6561.0 | r real =   5.9 | t =    0.711 | \n",
      "Rosenbrock  | e val = 8.8e-03 | e opt = 8.3e+01 | r full =    65536.0 | r real =  18.1 | t =   10.826 | \n",
      "Schwefel    | e val = 4.1e+00 | e opt = 0.0e+00 | r full =     6561.0 | r real =   5.9 | t =    0.673 | \n"
     ]
    }
   ],
   "source": [
    "run(data, 8, power_mul)"
   ]
  },
  {
   "cell_type": "markdown",
   "id": "e2bc0bdc-bf8a-4f5a-b780-8ed374ce98ea",
   "metadata": {},
   "source": [
    "# Возведение в степень с использованием `cross_act`"
   ]
  },
  {
   "cell_type": "code",
   "execution_count": 31,
   "id": "ed132461-df60-4e94-8bc7-d3832a28ff52",
   "metadata": {},
   "outputs": [],
   "source": [
    "def power_act(Y, s, e_trunc, act_e=1.E-8, act_nswp=5, act_r=1, act_dr=2, act_dr2=0):\n",
    "    def f(X):\n",
    "        return np.prod(X, axis=1)\n",
    "        \n",
    "    Z = teneva.copy(Y)\n",
    "    p = 1.\n",
    "    for _ in range(s-1):\n",
    "        R = teneva.tensor_rand(teneva.shape(Y), r=act_r)\n",
    "        Z = teneva.cross_act(f, [Z, Y], R,\n",
    "            e=act_e, nswp=act_nswp, r=9999, dr=act_dr, dr2=act_dr2, log=False)\n",
    "        Z = teneva.truncate(Z, e=e_trunc)\n",
    "        p_curr = teneva.norm(Z)\n",
    "        Z = teneva.mul(Z, 1./p_curr)\n",
    "        Z = teneva.truncate(Z, e_trunc)\n",
    "        p *= p_curr\n",
    "    return Z, p"
   ]
  },
  {
   "cell_type": "code",
   "execution_count": 32,
   "id": "6e43a239-f596-417f-9c3c-3131009fe85c",
   "metadata": {},
   "outputs": [
    {
     "name": "stdout",
     "output_type": "stream",
     "text": [
      "-------------------------------------------------------------------------------------------------------\n",
      "-> RUN MUL  | d = 100, n =    65, power =  8, e_trunc = 1.0e-12\n",
      "-------------------------------------------------------------------------------------------------------\n",
      "Alpine      | e val = 7.6e-05 | e opt = 0.0e+00 | r full =     6561.0 | r real =   6.6 | t =    8.041 | \n",
      "Rastrigin   | e val = 3.0e-02 | e opt = 0.0e+00 | r full =     6561.0 | r real =   7.2 | t =    7.360 | \n",
      "Rosenbrock  | e val = 9.7e+00 | e opt = 9.2e+01 | r full =    65536.0 | r real =  13.0 | t =   16.531 | \n",
      "Schwefel    | e val = 6.6e+00 | e opt = 0.0e+00 | r full =     6561.0 | r real =   7.6 | t =    7.345 | \n"
     ]
    }
   ],
   "source": [
    "run(data, 8, power_act)"
   ]
  },
  {
   "cell_type": "markdown",
   "id": "db78f88b-f74f-4a61-9fd5-0baccf0b41f0",
   "metadata": {},
   "source": [
    "# Возведение сразу в большую степень с использованием `cross_act`"
   ]
  },
  {
   "cell_type": "code",
   "execution_count": 35,
   "id": "5d3aa528-ff14-402a-a2f5-1604ef20ba4c",
   "metadata": {},
   "outputs": [],
   "source": [
    "def power_act2(Y, s, e_trunc, act_e=1.E-8, act_nswp=5, act_r=1, act_dr=2, act_dr2=0):\n",
    "    def f(X):\n",
    "        return np.prod(X, axis=1)\n",
    "\n",
    "    R = teneva.tensor_rand(teneva.shape(Y), r=act_r)\n",
    "    Z = teneva.cross_act(f, [Y]*s, R,\n",
    "        e=act_e, nswp=act_nswp, r=9999, dr=act_dr, dr2=act_dr2, log=False)\n",
    "    Z = teneva.truncate(Z, e=e_trunc)\n",
    "    return Z, 1."
   ]
  },
  {
   "cell_type": "code",
   "execution_count": 36,
   "id": "0c88eac8-09bc-40bd-b0ac-91c7a31e5610",
   "metadata": {},
   "outputs": [
    {
     "name": "stdout",
     "output_type": "stream",
     "text": [
      "-------------------------------------------------------------------------------------------------------\n",
      "-> RUN MUL  | d = 100, n =    65, power =  8, e_trunc = 1.0e-12\n",
      "-------------------------------------------------------------------------------------------------------\n",
      "Alpine      | e val = 2.3e-03 | e opt = 0.0e+00 | r full =     6561.0 | r real =   6.3 | t =    2.156 | \n",
      "Rastrigin   | e val = 1.5e-08 | e opt = 0.0e+00 | r full =     6561.0 | r real =   6.6 | t =    1.437 | \n",
      "Rosenbrock  | e val = 7.6e-02 | e opt = 8.3e+01 | r full =    65536.0 | r real =  13.0 | t =    3.142 | \n",
      "Schwefel    | e val = 2.3e-06 | e opt = 0.0e+00 | r full =     6561.0 | r real =   6.7 | t =    2.123 | \n"
     ]
    }
   ],
   "source": [
    "run(data, 8, power_act2)"
   ]
  },
  {
   "cell_type": "markdown",
   "id": "42ad0007-c1cc-4d0a-ab5a-168301ec57b3",
   "metadata": {},
   "source": [
    "---"
   ]
  }
 ],
 "metadata": {
  "kernelspec": {
   "display_name": "Python 3",
   "language": "python",
   "name": "python3"
  },
  "language_info": {
   "codemirror_mode": {
    "name": "ipython",
    "version": 3
   },
   "file_extension": ".py",
   "mimetype": "text/x-python",
   "name": "python",
   "nbconvert_exporter": "python",
   "pygments_lexer": "ipython3",
   "version": "3.8.8"
  }
 },
 "nbformat": 4,
 "nbformat_minor": 5
}
