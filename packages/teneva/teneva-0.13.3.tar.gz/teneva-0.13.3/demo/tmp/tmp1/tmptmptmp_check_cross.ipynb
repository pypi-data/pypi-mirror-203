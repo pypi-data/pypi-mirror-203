{
 "cells": [
  {
   "cell_type": "markdown",
   "id": "4cb79482-5e8c-47cf-b628-5c582c3268d9",
   "metadata": {},
   "source": [
    "**Анализ метода оптимизации многомерных массивов на основе малоранговых тензорных аппроксимаций (TT-метод).**\n",
    "\n",
    "---"
   ]
  },
  {
   "cell_type": "code",
   "execution_count": 1,
   "id": "6672d158-829f-40a2-b9ce-ff4496a9a522",
   "metadata": {},
   "outputs": [],
   "source": [
    "import numpy as np\n",
    "from qttopt import QTTOpt\n",
    "import teneva\n",
    "from time import perf_counter as tpc\n",
    "np.random.seed(42)"
   ]
  },
  {
   "cell_type": "markdown",
   "id": "ca553823-07c6-4622-bdfa-8756bb1f2707",
   "metadata": {},
   "source": [
    "## Построение целевого тензора"
   ]
  },
  {
   "cell_type": "markdown",
   "id": "6e08cd02-313e-4f73-b59b-f7f77d7b16ef",
   "metadata": {},
   "source": [
    "Построим явный тензор значений $d$-мерной модельной функции на равномерной сетке из $n$ узлов $Y_{full\\_real} \\in \\mathbb{R}^{n \\times n \\times \\ldots \\times n}$:"
   ]
  },
  {
   "cell_type": "code",
   "execution_count": 2,
   "id": "0dfc7eed-a5fa-4769-b84a-ca206c89610a",
   "metadata": {},
   "outputs": [
    {
     "name": "stdout",
     "output_type": "stream",
     "text": [
      "Number of elements : 1.7e+07\n"
     ]
    }
   ],
   "source": [
    "d = 6\n",
    "n = 16\n",
    "name = 'Rosenbrock'\n",
    "f = teneva.func_demo_all(d, names=[name])[0]\n",
    "Y_full_real = f.get_f_ind(teneva.grid_flat([n]*d)).reshape([n]*d, order='F')\n",
    "\n",
    "print(f'Number of elements : {np.size(Y_full_real):-7.1e}')"
   ]
  },
  {
   "cell_type": "markdown",
   "id": "89d89fef-cefe-45b4-92b3-47484bcf43cc",
   "metadata": {},
   "source": [
    "Проверим, на всякий случай, что мы построили правильный тензор:"
   ]
  },
  {
   "cell_type": "code",
   "execution_count": 3,
   "id": "d6d26c1e-d6d6-4d13-8269-3663646964c8",
   "metadata": {},
   "outputs": [
    {
     "name": "stdout",
     "output_type": "stream",
     "text": [
      "3196.7185927525265\n",
      "3196.7185927525265\n"
     ]
    }
   ],
   "source": [
    "i = [3, 2, 3, 8, 5, 10]    # Мульти-индекс для проверки\n",
    "y1 = f.get_f_ind(i)        # Непосредственно значение функции\n",
    "y2 = Y_full_real[tuple(i)] # Значение тензора\n",
    "print(y1)\n",
    "print(y2)"
   ]
  },
  {
   "cell_type": "markdown",
   "id": "520fb96a-10a9-4d39-a875-f5ea84b4f3c1",
   "metadata": {},
   "source": [
    "Вычислим точное минимальное и максимальное значение тензора (**заметим, что эти значения очень сильно отличаются от реальных экстремумов функции** ввиду использования недостаточно густой сетки!):"
   ]
  },
  {
   "cell_type": "code",
   "execution_count": 4,
   "id": "7f1323a3-0680-445e-9a5c-cda4b9e7dfb7",
   "metadata": {},
   "outputs": [
    {
     "name": "stdout",
     "output_type": "stream",
     "text": [
      "Min / max value         :   3.0487e-01 /   1.9530e+04\n",
      "* Real function minimum :   0.0000e+00\n"
     ]
    }
   ],
   "source": [
    "y_min_real = np.min(Y_full_real)\n",
    "y_max_real = np.max(Y_full_real)\n",
    "\n",
    "print(f'Min / max value         : {y_min_real:-12.4e} / {y_max_real:-12.4e}')\n",
    "print(f'* Real function minimum : {f.y_min:-12.4e}')"
   ]
  },
  {
   "cell_type": "markdown",
   "id": "89662a84-9951-4dd3-9360-a5c1599a94f5",
   "metadata": {},
   "source": [
    "## Построение TT-аппроксимации полного тензора посредством TT-SVD"
   ]
  },
  {
   "cell_type": "markdown",
   "id": "02201e31-9910-4495-9867-1951b87d494b",
   "metadata": {},
   "source": [
    "Построим TT-представление тензора посредством TT-SVD:"
   ]
  },
  {
   "cell_type": "code",
   "execution_count": 100,
   "id": "c5b5d0f8-4752-4c0a-8efd-c05d30f09d4d",
   "metadata": {},
   "outputs": [
    {
     "name": "stdout",
     "output_type": "stream",
     "text": [
      "TT-rank of res :        3.0\n",
      "\n",
      " 16 16 16 16 16 16 \n",
      " / \\/ \\/ \\/ \\/ \\/ \\\n",
      " 1  3  3  3  3  3  1 \n",
      "\n"
     ]
    }
   ],
   "source": [
    "Y = teneva.svd(Y_full_real, 1.E-6)  # TT-SVD\n",
    "Y = teneva.truncate(Y, 1.E-6)       # Truncation of result\n",
    "\n",
    "print(f'TT-rank of res : {teneva.erank(Y):-10.1f}\\n')\n",
    "teneva.show(Y)"
   ]
  },
  {
   "cell_type": "markdown",
   "id": "b313ba9b-7bc5-439d-a0a1-e1b8ebef4c54",
   "metadata": {},
   "source": [
    "Проверим точность построенного TT-приближения, переведя построенный TT-тензор в полный формат (замеряем относительную норму разницы тензоров, а также абсолютные ошибки для минимального и максимального значения тензора):"
   ]
  },
  {
   "cell_type": "code",
   "execution_count": 101,
   "id": "0e1d46d6-c678-49f5-ace6-09835a30c40e",
   "metadata": {},
   "outputs": [
    {
     "name": "stdout",
     "output_type": "stream",
     "text": [
      "Error norm      : 7.6e-01\n",
      "Error min value : 3.0e-01\n",
      "Error max value : 3.0e-01\n"
     ]
    }
   ],
   "source": [
    "Y_full_appr = teneva.full(Y)\n",
    "e_norm = teneva.accuracy(Y_full_real, Y_full_appr)\n",
    "e_min = abs(y_min_real - np.min(Y_full_appr))\n",
    "e_max = abs(y_max_real - np.max(Y_full_appr))\n",
    "\n",
    "print(f'Error norm      : {e_norm:-7.1e}')\n",
    "print(f'Error min value : {e_min:-7.1e}')\n",
    "print(f'Error max value : {e_max:-7.1e}')"
   ]
  },
  {
   "cell_type": "markdown",
   "id": "0177ec16-e3d3-4447-9c29-3940d3522380",
   "metadata": {},
   "source": [
    "Попробуем найти максимум в TT-тензоре, используя maxvol:"
   ]
  },
  {
   "cell_type": "code",
   "execution_count": 102,
   "id": "dc9a65b8-4451-4882-bf2e-3ac349719f89",
   "metadata": {},
   "outputs": [],
   "source": [
    "def _ones(k, m=1):\n",
    "    return np.ones((k, m), dtype=int)\n",
    "\n",
    "\n",
    "def _reshape(A, n):\n",
    "    return np.reshape(A, n, order='F')\n",
    "\n",
    "\n",
    "def _maxvol(A, tau=1.1, tau0=1.05, k0=100):\n",
    "    n, r = A.shape\n",
    "    if n <= r:\n",
    "        I = np.arange(n, dtype=int)\n",
    "        B = np.eye(n, dtype=float)\n",
    "    else:\n",
    "        I, B = teneva.maxvol(A, tau0, k0)\n",
    "    return I, B\n",
    "\n",
    "\n",
    "def _iter(Z, Ig, I=None, l2r=True):\n",
    "    r1, n, r2 = Z.shape\n",
    "    Z = _reshape(Z, (r1 * n, r2)) if l2r else _reshape(Z, (r1, n * r2)).T\n",
    "\n",
    "    Q, R = np.linalg.qr(Z)\n",
    "    ind, B = _maxvol(Q)\n",
    "\n",
    "    G = B if l2r else B.T\n",
    "    G = _reshape(G, (r1, n, -1)) if l2r else _reshape(G, (-1, n, r2))\n",
    "\n",
    "    R = Q[ind, :] @ R\n",
    "    R = R if l2r else R.T\n",
    "\n",
    "    Ig = Ig.reshape((-1, 1))\n",
    "    I_new = np.kron(Ig, _ones(r1)) if l2r else np.kron(_ones(r2), Ig)\n",
    "    if I is not None:\n",
    "        I_old = np.kron(_ones(n), I) if l2r else np.kron(I, _ones(n))\n",
    "        I_new = np.hstack((I_old, I_new)) if l2r else np.hstack((I_new, I_old))\n",
    "    I_new = I_new[ind, :]\n",
    "\n",
    "    return G, R, I_new\n",
    "\n",
    "\n",
    "def _func(f, Ig, Ir, Ic):\n",
    "    n = Ig.shape[0]\n",
    "    r1 = Ir.shape[0] if Ir is not None else 1\n",
    "    r2 = Ic.shape[0] if Ic is not None else 1\n",
    "\n",
    "    I = np.kron(np.kron(_ones(r2), Ig), _ones(r1))\n",
    "    if Ir is not None:\n",
    "        Ir_ = np.kron(_ones(n * r2), Ir)\n",
    "        I = np.hstack((Ir_, I))\n",
    "    if Ic is not None:\n",
    "        Ic_ = np.kron(Ic, _ones(r1 * n))\n",
    "        I = np.hstack((I, Ic_))\n",
    "\n",
    "    y = np.array([f(i) for i in I])\n",
    "    return _reshape(y, (r1, n, r2))\n",
    "\n",
    "    \n",
    "def opt_max(Y):\n",
    "    Y = teneva.copy(Y)\n",
    "    d = len(Y)\n",
    "    n = teneva.shape(Y)\n",
    "    \n",
    "    Ig = [_reshape(np.arange(k, dtype=int), (-1, 1)) for k in n]\n",
    "    Ir = [None for i in range(d+1)]\n",
    "    Ic = [None for i in range(d+1)]\n",
    "    \n",
    "    R = np.ones((1, 1))\n",
    "    for i in range(d):\n",
    "        G = np.tensordot(R, Y[i], 1)\n",
    "        n = G.shape[1]\n",
    "        Y[i], R, Ir[i+1] = _iter(G, Ig[i], Ir[i], l2r=True)\n",
    "    Y[d-1] = np.tensordot(Y[d-1], R, 1)\n",
    "\n",
    "    R = np.ones((1, 1))\n",
    "    I = None\n",
    "    for i in range(d-1, -1, -1):\n",
    "        G = np.tensordot(Y[i], R, 1)\n",
    "        n = G.shape[1]\n",
    "        Y[i], R, Ic[i] = _iter(G, Ig[i], Ic[i+1], l2r=False)\n",
    "    Y[0] = np.tensordot(R, Y[0], 1)\n",
    "    \n",
    "    get = teneva.getter(Y)\n",
    "    y_max = None\n",
    "    for i in range(d):\n",
    "        Z = _func(get, Ig[i], Ir[i], Ic[i+1])\n",
    "        y_max_curr = abs(np.max(Z))\n",
    "        if y_max is None or y_max_curr > abs(y_max):\n",
    "            y_max = y_max_curr\n",
    "            \n",
    "    return y_max"
   ]
  },
  {
   "cell_type": "code",
   "execution_count": 103,
   "id": "53813b57-4de0-48c6-b309-903cd7107a79",
   "metadata": {},
   "outputs": [
    {
     "name": "stdout",
     "output_type": "stream",
     "text": [
      "Error max value : 2.8e+01\n"
     ]
    }
   ],
   "source": [
    "y_max = opt_max(Y)\n",
    "e_max = abs(y_max_real - y_max)\n",
    "\n",
    "print(f'Error max value : {e_max:-7.1e}')"
   ]
  },
  {
   "cell_type": "code",
   "execution_count": 95,
   "id": "d80e2423-fd65-4235-9030-27d5b4dcc865",
   "metadata": {},
   "outputs": [
    {
     "name": "stdout",
     "output_type": "stream",
     "text": [
      "Error norm      : 7.6e-01\n",
      "Error min value : 3.0e-01\n",
      "Error max value : 3.0e-01\n"
     ]
    }
   ],
   "source": [
    "Y_sub = teneva.add(y_max, teneva.mul(Y, -1.))\n",
    "Y_sub = teneva.truncate(Y_sub, 1.E-6)\n",
    "\n",
    "Y_full_appr = teneva.full(Y_sub) #+ y_max\n",
    "e_norm = teneva.accuracy(Y_full_real, Y_full_appr)\n",
    "e_min = abs(y_min_real - np.min(Y_full_appr))\n",
    "e_max = abs(y_max_real - np.max(Y_full_appr))\n",
    "\n",
    "print(f'Error norm      : {e_norm:-7.1e}')\n",
    "print(f'Error min value : {e_min:-7.1e}')\n",
    "print(f'Error max value : {e_max:-7.1e}')"
   ]
  },
  {
   "cell_type": "code",
   "execution_count": 96,
   "id": "ea36edd8-f274-40f9-a869-e9f08ae7acf3",
   "metadata": {},
   "outputs": [
    {
     "data": {
      "text/plain": [
       "19529.326264463547"
      ]
     },
     "execution_count": 96,
     "metadata": {},
     "output_type": "execute_result"
    }
   ],
   "source": [
    "np.max(Y_full_appr)"
   ]
  },
  {
   "cell_type": "code",
   "execution_count": 97,
   "id": "ff5bc48b-2d27-4cbf-bb6b-3e86458af39a",
   "metadata": {},
   "outputs": [
    {
     "data": {
      "text/plain": [
       "-2.0161613993988348e-11"
      ]
     },
     "execution_count": 97,
     "metadata": {},
     "output_type": "execute_result"
    }
   ],
   "source": [
    "np.min(Y_full_appr)"
   ]
  },
  {
   "cell_type": "code",
   "execution_count": 98,
   "id": "fee38f08-e8ba-4cb3-86aa-e4853cb0176d",
   "metadata": {},
   "outputs": [
    {
     "data": {
      "text/plain": [
       "19501.29844848573"
      ]
     },
     "execution_count": 98,
     "metadata": {},
     "output_type": "execute_result"
    }
   ],
   "source": [
    "opt_max(Y_sub)"
   ]
  },
  {
   "cell_type": "code",
   "execution_count": 99,
   "id": "545be2f9-77d2-4983-867c-0176aa1e5a16",
   "metadata": {},
   "outputs": [
    {
     "name": "stdout",
     "output_type": "stream",
     "text": [
      "Error min value : 2.8e+01\n"
     ]
    }
   ],
   "source": [
    "y_min = -1 * opt_max(Y_sub) + y_max\n",
    "e_max = abs(y_min_real - y_min)\n",
    "\n",
    "print(f'Error min value : {e_max:-7.1e}')"
   ]
  },
  {
   "cell_type": "markdown",
   "id": "ffa16216-ca0f-4494-ad28-abd73b2ce526",
   "metadata": {},
   "source": [
    "## Построение TT-аппроксимации посредством TT-CROSS"
   ]
  },
  {
   "cell_type": "markdown",
   "id": "f97d256a-e4a6-4e39-af06-4a2db7028684",
   "metadata": {},
   "source": [
    "Теперь построим приближение тензора в TT-формате, используя метод TT-CROSS (для наглядности, будем осуществлять семплирование из построенного точного тензора в полном формате):"
   ]
  },
  {
   "cell_type": "code",
   "execution_count": 61,
   "id": "f662d191-1c3b-443b-a570-6667f9519eec",
   "metadata": {},
   "outputs": [],
   "source": [
    "def func(I):\n",
    "    return np.array([Y_full_real[tuple(i)] for i in I])"
   ]
  },
  {
   "cell_type": "code",
   "execution_count": 62,
   "id": "c83e7348-43fb-4729-9e65-0810d840bfdf",
   "metadata": {},
   "outputs": [
    {
     "name": "stdout",
     "output_type": "stream",
     "text": [
      "Build time     :       0.16\n",
      "Evals func     :       9232\n",
      "Cache uses     :       7344\n",
      "Iter accuracy  :   1.11e+00\n",
      "Sweep number   :          3\n",
      "Stop condition :          m\n",
      "TT-rank of res :        3.0\n"
     ]
    }
   ],
   "source": [
    "t = tpc()\n",
    "info, cache = {}, {}\n",
    "Y = teneva.rand([n]*d, r=1)\n",
    "Y = teneva.cross(func, Y, m=1.E+4, dr_min=1, dr_max=2, info=info, cache=cache)\n",
    "Y = teneva.truncate(Y, 1.E-6)\n",
    "t = tpc() - t\n",
    "\n",
    "print(f'Build time     : {t:-10.2f}')\n",
    "print(f'Evals func     : {info[\"m\"]:-10d}')\n",
    "print(f'Cache uses     : {info[\"m_cache\"]:-10d}')\n",
    "print(f'Iter accuracy  : {info[\"e\"]:-10.2e}')\n",
    "print(f'Sweep number   : {info[\"nswp\"]:-10d}')\n",
    "print(f'Stop condition : {info[\"stop\"]:>10}')\n",
    "print(f'TT-rank of res : {teneva.erank(Y):-10.1f}')"
   ]
  },
  {
   "cell_type": "markdown",
   "id": "5f5ca1c7-f5e4-470f-a6cc-1452e271be33",
   "metadata": {},
   "source": [
    "Проверим точность построенного TT-приближения, переведя построенный TT-тензор в полный формат (замеряем относительную норму разницы тензоров, а также абсолютные ошибки для минимального и максимального значения тензора):"
   ]
  },
  {
   "cell_type": "code",
   "execution_count": 63,
   "id": "87485676-e25b-4b90-ba03-3cb5e5109aa6",
   "metadata": {},
   "outputs": [
    {
     "name": "stdout",
     "output_type": "stream",
     "text": [
      "Error norm      : 6.3e-15\n",
      "Error min value : 8.3e-11\n",
      "Error max value : 1.7e-10\n"
     ]
    }
   ],
   "source": [
    "Y_full_appr = teneva.full(Y)\n",
    "e_norm = teneva.accuracy(Y_full_real, Y_full_appr)\n",
    "e_min = abs(y_min_real - np.min(Y_full_appr))\n",
    "e_max = abs(y_max_real - np.max(Y_full_appr))\n",
    "\n",
    "print(f'Error norm      : {e_norm:-7.1e}')\n",
    "print(f'Error min value : {e_min:-7.1e}')\n",
    "print(f'Error max value : {e_max:-7.1e}')"
   ]
  },
  {
   "cell_type": "markdown",
   "id": "d311a34b-fb3b-42cc-9f5f-c83ea88114be",
   "metadata": {},
   "source": [
    "Найдем минимальное и максимальное значения в кеше (полученном при работе TT-cross) и сравним с точными значениями:"
   ]
  },
  {
   "cell_type": "code",
   "execution_count": 64,
   "id": "c4d078c8-8df5-4be9-8ff1-bedf0b8ef443",
   "metadata": {},
   "outputs": [
    {
     "name": "stdout",
     "output_type": "stream",
     "text": [
      "Error min value : 1.4e+02\n",
      "Error max value : 0.0e+00\n"
     ]
    }
   ],
   "source": [
    "y_min = np.min(list(cache.values()))\n",
    "y_max = np.max(list(cache.values()))\n",
    "\n",
    "e_min = abs(y_min_real - y_min)\n",
    "e_max = abs(y_max_real - y_max)\n",
    "\n",
    "print(f'Error min value : {e_min:-7.1e}')\n",
    "print(f'Error max value : {e_max:-7.1e}')"
   ]
  },
  {
   "cell_type": "markdown",
   "id": "a7b368a5-8c6b-45fc-a7ad-d36c461f6b68",
   "metadata": {},
   "source": [
    "**Наблюдение**. Как можно видеть, построенный посредством TT-cross TT-тензор точно приближает и минимальное, и максимальное значения исходного тензора. Однако в кеше запрошенных значений оказывается только хорошее приближение для максимума тензора (что находится в соответствии с теоремой \"о максволе\")."
   ]
  },
  {
   "cell_type": "markdown",
   "id": "e036e29a-157d-4970-b1b8-8a18fb65af79",
   "metadata": {},
   "source": [
    "В то же время, мы можем получить хорошее приближение для максимума, используя максвол по тензору:"
   ]
  },
  {
   "cell_type": "code",
   "execution_count": 65,
   "id": "1551b322-a325-45b9-a915-1f3f2dee6376",
   "metadata": {},
   "outputs": [
    {
     "name": "stdout",
     "output_type": "stream",
     "text": [
      "Error max value : 1.5e-10\n"
     ]
    }
   ],
   "source": [
    "y_max = opt_max(Y)\n",
    "e_max = abs(y_max_real - y_max)\n",
    "\n",
    "print(f'Error max value : {e_max:-7.1e}')"
   ]
  },
  {
   "cell_type": "markdown",
   "id": "291d2d30-fcfb-442a-9b31-0c1d53be2ee1",
   "metadata": {},
   "source": [
    "## XXX"
   ]
  },
  {
   "cell_type": "code",
   "execution_count": 66,
   "id": "40477b1e-15c9-438f-b488-018c57100118",
   "metadata": {},
   "outputs": [
    {
     "name": "stdout",
     "output_type": "stream",
     "text": [
      "Error norm      : 6.8e-15\n",
      "Error min value : 6.4e-11\n",
      "Error max value : 1.6e-10\n"
     ]
    }
   ],
   "source": [
    "Y_sub = teneva.add(y_max, teneva.mul(Y, -1))\n",
    "Y_sub = teneva.truncate(Y_sub, 1.E-6)\n",
    "\n",
    "Y_full_appr = y_max - teneva.full(Y_sub)\n",
    "e_norm = teneva.accuracy(Y_full_real, Y_full_appr)\n",
    "e_min = abs(y_min_real - np.min(Y_full_appr))\n",
    "e_max = abs(y_max_real - np.max(Y_full_appr))\n",
    "\n",
    "print(f'Error norm      : {e_norm:-7.1e}')\n",
    "print(f'Error min value : {e_min:-7.1e}')\n",
    "print(f'Error max value : {e_max:-7.1e}')"
   ]
  },
  {
   "cell_type": "code",
   "execution_count": 60,
   "id": "954a182b-2131-49ba-b1db-4a8f859c7de4",
   "metadata": {},
   "outputs": [
    {
     "name": "stdout",
     "output_type": "stream",
     "text": [
      "Error min value : 2.8e+01\n"
     ]
    }
   ],
   "source": [
    "y_min = y_max - opt_max(Y_sub)\n",
    "e_max = abs(y_min_real - y_min)\n",
    "\n",
    "print(f'Error min value : {e_max:-7.1e}')"
   ]
  },
  {
   "cell_type": "markdown",
   "id": "bb25b031-c2ab-43ae-8e70-4b4bffac36bc",
   "metadata": {},
   "source": [
    "## Второй шаг с TT-CROSS"
   ]
  },
  {
   "cell_type": "markdown",
   "id": "0f6d0e16-642e-42df-bbb8-982a34e9f30e",
   "metadata": {},
   "source": [
    "Вычтем из целевой функции найденное (с высокой точностью) максимальное значение и повторно запустим метод TT-cross. Мы ожидаем, что теперь в кеше значений окажется хорошее приближение к минимуму целевого тензора."
   ]
  },
  {
   "cell_type": "code",
   "execution_count": 39,
   "id": "07f920d7-5a5c-4b4b-9f4a-52e07851508a",
   "metadata": {},
   "outputs": [],
   "source": [
    "y_max_ref = y_max"
   ]
  },
  {
   "cell_type": "code",
   "execution_count": 40,
   "id": "c5f39840-c413-4c47-962b-3d41fed5afa0",
   "metadata": {},
   "outputs": [],
   "source": [
    "def func(I):\n",
    "    return np.array([Y_full_real[tuple(i)] - y_max_ref for i in I])"
   ]
  },
  {
   "cell_type": "code",
   "execution_count": 41,
   "id": "7eccc2bd-45e9-487d-a0ac-e599b64303b7",
   "metadata": {},
   "outputs": [
    {
     "name": "stdout",
     "output_type": "stream",
     "text": [
      "Build time     :       0.13\n",
      "Evals func     :       9048\n",
      "Cache uses     :       5784\n",
      "Iter accuracy  :   1.57e-01\n",
      "Sweep number   :          3\n",
      "Stop condition :          m\n",
      "TT-rank of res :        7.8\n"
     ]
    }
   ],
   "source": [
    "t = tpc()\n",
    "info, cache = {}, {}\n",
    "Y = teneva.rand([n]*d, r=1)\n",
    "Y = teneva.cross(func, Y, m=1.E+4, dr_min=1, dr_max=2, info=info, cache=cache)\n",
    "Y = teneva.truncate(Y, 1.E-6)\n",
    "t = tpc() - t\n",
    "\n",
    "print(f'Build time     : {t:-10.2f}')\n",
    "print(f'Evals func     : {info[\"m\"]:-10d}')\n",
    "print(f'Cache uses     : {info[\"m_cache\"]:-10d}')\n",
    "print(f'Iter accuracy  : {info[\"e\"]:-10.2e}')\n",
    "print(f'Sweep number   : {info[\"nswp\"]:-10d}')\n",
    "print(f'Stop condition : {info[\"stop\"]:>10}')\n",
    "print(f'TT-rank of res : {teneva.erank(Y):-10.1f}')"
   ]
  },
  {
   "cell_type": "code",
   "execution_count": 42,
   "id": "9eb77b37-1b44-46fd-8491-224aecc582e2",
   "metadata": {},
   "outputs": [
    {
     "name": "stdout",
     "output_type": "stream",
     "text": [
      "Error norm      : 3.9e-01\n",
      "Error min value : 3.0e+03\n",
      "Error max value : 3.4e+02\n"
     ]
    }
   ],
   "source": [
    "Y_full_appr = teneva.full(Y) + y_max_ref\n",
    "e_norm = teneva.accuracy(Y_full_real, Y_full_appr)\n",
    "e_min = abs(y_min_real - np.min(Y_full_appr))\n",
    "e_max = abs(y_max_real - np.max(Y_full_appr))\n",
    "\n",
    "print(f'Error norm      : {e_norm:-7.1e}')\n",
    "print(f'Error min value : {e_min:-7.1e}')\n",
    "print(f'Error max value : {e_max:-7.1e}')"
   ]
  },
  {
   "cell_type": "code",
   "execution_count": 37,
   "id": "cb45b507-8d03-470b-b2fe-e4fbaffdf30b",
   "metadata": {},
   "outputs": [
    {
     "name": "stdout",
     "output_type": "stream",
     "text": [
      "Error min value : 1.2e-12\n",
      "Error max value : 0.0e+00\n"
     ]
    }
   ],
   "source": [
    "y_min = np.min(list(cache.values())) + y_max_ref\n",
    "y_max = np.max(list(cache.values())) + y_max_ref\n",
    "\n",
    "e_min = abs(y_min_real - y_min)\n",
    "e_max = abs(y_max_real - y_max)\n",
    "\n",
    "print(f'Error min value : {e_min:-7.1e}')\n",
    "print(f'Error max value : {e_max:-7.1e}')"
   ]
  },
  {
   "cell_type": "markdown",
   "id": "8d6a31f3-2705-41a0-b983-28d52baeb95b",
   "metadata": {},
   "source": [
    "Вывод: как можно видеть, ни фига не работает."
   ]
  },
  {
   "cell_type": "code",
   "execution_count": null,
   "id": "75f88645-26c0-4575-96e5-a4aa0dd4e225",
   "metadata": {},
   "outputs": [],
   "source": []
  },
  {
   "cell_type": "code",
   "execution_count": 86,
   "id": "cf51443a-ec0c-463f-bbb8-ab8509c3c822",
   "metadata": {},
   "outputs": [],
   "source": [
    "def func(i):\n",
    "    return Y_full_real[tuple(i)]"
   ]
  },
  {
   "cell_type": "code",
   "execution_count": 89,
   "id": "42054f7e-66c5-4418-9528-20ab8f893ef2",
   "metadata": {},
   "outputs": [
    {
     "name": "stdout",
     "output_type": "stream",
     "text": [
      "Rosenbrock | evals: 2.0e+00+1.8e+01 | t: 3.9e-04 | swp:   0 (<-) | err val: 1.6e+03 | \n",
      "Rosenbrock | evals: 8.0e+00+1.3e+02 | t: 2.0e-03 | swp:   0 (<-) | err val: 1.4e+03 | \n",
      "Rosenbrock | evals: 2.6e+01+2.9e+02 | t: 4.1e-03 | swp:   0 (<-) | err val: 1.2e+03 | \n",
      "Rosenbrock | evals: 3.2e+01+1.0e+05 | t: 1.9e+00 | swp: 692 (->) | err val: 1.2e+03 | \n"
     ]
    },
    {
     "data": {
      "text/plain": [
       "(array([1, 1, 1, 1, 0]), 1227.1780660107333)"
      ]
     },
     "execution_count": 89,
     "metadata": {},
     "output_type": "execute_result"
    }
   ],
   "source": [
    "qttopt = QTTOpt(func, d, name, with_log=True)\n",
    "qttopt.set_real(y_min=y_min_real)\n",
    "qttopt.minimize(evals=1.E+4, rank=10)"
   ]
  },
  {
   "cell_type": "code",
   "execution_count": null,
   "id": "3b17fa16-a641-4594-828a-f04799d63a07",
   "metadata": {},
   "outputs": [],
   "source": []
  }
 ],
 "metadata": {
  "kernelspec": {
   "display_name": "Python 3",
   "language": "python",
   "name": "python3"
  },
  "language_info": {
   "codemirror_mode": {
    "name": "ipython",
    "version": 3
   },
   "file_extension": ".py",
   "mimetype": "text/x-python",
   "name": "python",
   "nbconvert_exporter": "python",
   "pygments_lexer": "ipython3",
   "version": "3.8.8"
  }
 },
 "nbformat": 4,
 "nbformat_minor": 5
}
