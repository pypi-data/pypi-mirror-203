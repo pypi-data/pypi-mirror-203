{
  "nbformat": 4,
  "nbformat_minor": 0,
  "metadata": {
    "colab": {
      "name": "ttopt_cross.ipynb",
      "provenance": [],
      "collapsed_sections": []
    },
    "kernelspec": {
      "name": "python3",
      "display_name": "Python 3"
    },
    "language_info": {
      "name": "python"
    }
  },
  "cells": [
    {
      "cell_type": "markdown",
      "source": [
        "**Черновые тесты с крестом**\n",
        "\n",
        "---\n",
        "\n",
        "Обычный TT-cross используется для оптимизации функций."
      ],
      "metadata": {
        "id": "yUDN56QB_xex"
      }
    },
    {
      "cell_type": "markdown",
      "source": [
        "## Loading and importing modules"
      ],
      "metadata": {
        "id": "byVmujvM_ldg"
      }
    },
    {
      "cell_type": "code",
      "source": [
        "from IPython.display import clear_output\n",
        "! pip install teneva==0.11.1\n",
        "clear_output()"
      ],
      "metadata": {
        "id": "0lBWDLHU_oUl"
      },
      "execution_count": 6,
      "outputs": []
    },
    {
      "cell_type": "code",
      "source": [
        "import numpy as np\n",
        "import teneva\n",
        "from time import perf_counter as tpc\n",
        "np.random.seed(42)"
      ],
      "metadata": {
        "id": "C56yOTIL_mix"
      },
      "execution_count": 7,
      "outputs": []
    },
    {
      "cell_type": "markdown",
      "source": [
        "## Code"
      ],
      "metadata": {
        "id": "K_PO9JMK_mxF"
      }
    },
    {
      "cell_type": "code",
      "source": [
        "def solve(func, m):\n",
        "    opt = {'i_max': None, 'y_max': None}\n",
        "\n",
        "    def black_box(I):\n",
        "        y = func.get_f_ind(I)\n",
        "        s = np.argmax(y)\n",
        "        if opt['y_max'] is None or abs(y[s]) > opt['y_max']:\n",
        "            opt['i_max'] = I[s, :].copy()\n",
        "            opt['x_max'] = teneva.ind_to_poi(opt['i_max'], func.a, func.b, func.n, func.kind)\n",
        "            opt['y_max'] = abs(y[s])\n",
        "        return y\n",
        "    \n",
        "    t = tpc()\n",
        "    cache = {}\n",
        "    Y = teneva.tensor_rand(func.n, r=1)\n",
        "    Y = teneva.cross(black_box, Y, m, dr_min=0, dr_max=1, cache=cache, log=False)\n",
        "    Y = teneva.truncate(Y, 1.E-10)\n",
        "\n",
        "    # To check the approximation accuracy:\n",
        "    func.t = tpc() - t\n",
        "    func.method = 'CRO'\n",
        "    func.prep(Y)\n",
        "    I_trn, Y_trn = teneva.cache_to_data(cache)\n",
        "    func.set_trn_ind(I=I_trn, Y=Y_trn)\n",
        "    func.check()\n",
        "    func.info() # Note error: train / test will be printed\n",
        "\n",
        "    return Y, opt"
      ],
      "metadata": {
        "id": "QEHyl1Rs_9pL"
      },
      "execution_count": 15,
      "outputs": []
    },
    {
      "cell_type": "markdown",
      "source": [
        "## Test"
      ],
      "metadata": {
        "id": "zaonWNT9_9w_"
      }
    },
    {
      "cell_type": "code",
      "source": [
        "d = 10        # Dimension\n",
        "n = 64        # Grid size\n",
        "m_trn = 1.E+4 # Train size\n",
        "m_tst = 1.E+4 # Test size"
      ],
      "metadata": {
        "id": "p_EQWmdHAEOx"
      },
      "execution_count": 16,
      "outputs": []
    },
    {
      "cell_type": "code",
      "source": [
        "for func in teneva.func_demo_all(d, only_with_min=True):\n",
        "    func.clear()\n",
        "    func.set_grid(n, kind='uni')\n",
        "    func.build_tst_ind(m_tst)\n",
        "    Y, opt = solve(func, m_trn)\n",
        "    print(opt['y_max'], func.y_min)"
      ],
      "metadata": {
        "colab": {
          "base_uri": "https://localhost:8080/"
        },
        "id": "_1r33wSU_-qQ",
        "outputId": "8a7b42d0-7173-4132-ea58-71545a9686f3"
      },
      "execution_count": 17,
      "outputs": [
        {
          "output_type": "stream",
          "name": "stdout",
          "text": [
            "Ackley          [CRO          ] > error: 3.8e-03 / 2.7e-02 | rank:  1.0 | time:   0.281\n",
            "22.24598392302177 0.0\n",
            "Alpine          [CRO          ] > error: 6.5e-02 / 4.5e-01 | rank:  1.0 | time:   0.204\n",
            "86.7031202338489 0.0\n",
            "Dixon           [CRO          ] > error: 1.1e-01 / 9.8e-01 | rank:  1.0 | time:   0.208\n",
            "2381521.0 0.0\n",
            "Exponential     [CRO          ] > error: 8.2e-16 / 8.4e-16 | rank:  1.0 | time:   0.216\n",
            "0.6058433729196858 -1.0\n",
            "Grienwank       [CRO          ] > error: 5.5e-02 / 4.8e-01 | rank:  1.0 | time:   0.334\n",
            "900.9999607771135 0.0\n",
            "Michalewicz     [CRO          ] > error: 9.7e-02 / 1.9e+00 | rank:  1.0 | time:   0.209\n",
            "8.01426235826608 -9.66015\n",
            "Qing            [CRO          ] > error: 1.4e-01 / 1.1e+00 | rank:  1.0 | time:   0.265\n",
            "624972500385.0 0.0\n",
            "Rastrigin       [CRO          ] > error: 2.5e-02 / 2.4e-01 | rank:  1.0 | time:   0.222\n",
            "398.00479787978617 0.0\n",
            "Rosenbrock      [CRO          ] > error: 9.7e-02 / 1.1e+00 | rank:  1.0 | time:   0.222\n",
            "35153.336041574395 0.0\n",
            "Schaffer        [CRO          ] > error: 5.5e-02 / 2.6e-01 | rank:  1.0 | time:   0.314\n",
            "8.01686724282307 0.0\n",
            "Schwefel        [CRO          ] > error: 5.4e-02 / 2.0e-01 | rank:  1.0 | time:   0.206\n",
            "8379.517273134348 0.0\n"
          ]
        }
      ]
    },
    {
      "cell_type": "markdown",
      "source": [
        "---"
      ],
      "metadata": {
        "id": "S7jf10hK_-5G"
      }
    }
  ]
}