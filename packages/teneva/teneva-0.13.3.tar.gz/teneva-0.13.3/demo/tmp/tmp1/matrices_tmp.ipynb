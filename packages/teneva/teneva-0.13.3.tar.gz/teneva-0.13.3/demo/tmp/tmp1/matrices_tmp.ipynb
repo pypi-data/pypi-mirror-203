{
 "cells": [
  {
   "cell_type": "markdown",
   "id": "e51b9291-f33c-40ad-96ee-e2f9454ffc69",
   "metadata": {},
   "source": [
    "**Demo for `teneva.collection.matrices`**\n",
    "\n",
    "---\n",
    "\n",
    "This module contains the collection of functions for explicit construction of\n",
    "various useful QTT-matrices (delta function and others).\n",
    "\n",
    "Note: This is draft!"
   ]
  },
  {
   "cell_type": "markdown",
   "id": "3896a55c-1131-44fc-b746-1433ad4ddb08",
   "metadata": {},
   "source": [
    "## Loading and importing modules"
   ]
  },
  {
   "cell_type": "code",
   "execution_count": 1,
   "id": "9941ed2c-6272-4144-8c96-4e800f0b5c49",
   "metadata": {},
   "outputs": [],
   "source": [
    "import numpy as np\n",
    "import teneva\n",
    "from time import perf_counter as tpc\n",
    "np.random.seed(42)"
   ]
  },
  {
   "cell_type": "markdown",
   "id": "3f6437a4-a93e-4265-9fc6-7d4f46a76c4d",
   "metadata": {},
   "source": [
    "## Function `matrix_delta`"
   ]
  },
  {
   "cell_type": "markdown",
   "id": "cfe8a9e9-ac37-4f38-8008-f81f857ad833",
   "metadata": {},
   "source": [
    "Build QTT-matrix that is zero everywhere except for a given 2D index."
   ]
  },
  {
   "cell_type": "code",
   "execution_count": 2,
   "id": "068ca212-0f0f-4759-b8bd-a1460811385c",
   "metadata": {},
   "outputs": [],
   "source": [
    "q = 5                               # Quantization level (the size is 2^q)\n",
    "i = 2                               # The col index for nonzero element\n",
    "j = 4                               # The row index for nonzero element\n",
    "v = 42.                             # The value of the matrix at indices \"i, j\"\n",
    "Y = teneva.matrix_delta(q, i, j, v) # Build QTT-matrix"
   ]
  },
  {
   "cell_type": "markdown",
   "id": "5604873b-8e80-46c6-9c9a-18174ee184af",
   "metadata": {},
   "source": [
    "We can also build some big QTT-matrix by \"delta\" function and check the norm of the result:"
   ]
  },
  {
   "cell_type": "code",
   "execution_count": 3,
   "id": "daceea34-ba0e-4396-ac47-cc1ff06145d4",
   "metadata": {},
   "outputs": [
    {
     "data": {
      "text/plain": [
       "42.0"
      ]
     },
     "execution_count": 3,
     "metadata": {},
     "output_type": "execute_result"
    }
   ],
   "source": [
    "q = 100                             # Quantization level (the size is 2^q)\n",
    "i = 2                               # The col index for nonzero element\n",
    "j = 4                               # The row index for nonzero element\n",
    "v = 42.                             # The value of the matrix at indices \"i, j\"\n",
    "Y = teneva.matrix_delta(q, i, j, v) # Build QTT-matrix\n",
    "\n",
    "teneva.norm(Y)"
   ]
  },
  {
   "cell_type": "markdown",
   "id": "a70782bc-e907-4f15-a2c1-562c1f53f897",
   "metadata": {},
   "source": [
    "## Function `matrix_toeplitz`"
   ]
  },
  {
   "cell_type": "code",
   "execution_count": null,
   "id": "3eb09ef5-7ce3-4229-b843-eddab3318fa5",
   "metadata": {},
   "outputs": [],
   "source": [
    "import teneva\n",
    "def matrix_toeplitz(x, d=None, D=None, kind='F'):\n",
    "    \"\"\" Creates multilevel Toeplitz TT-matrix with ``D`` levels.\n",
    "\n",
    "        # Arbitrary multilevel Toeplitz _matrix\n",
    "\n",
    "        Possible _matrix types:\n",
    "\n",
    "        * 'F' - full Toeplitz _matrix,             size(x) = 2^{d+1}\n",
    "        * 'C' - circulant _matrix,                 size(x) = 2^d\n",
    "        * 'L' - lower triangular Toeplitz _matrix, size(x) = 2^d\n",
    "        * 'U' - upper triangular Toeplitz _matrix, size(x) = 2^d\n",
    "\n",
    "        Sample calls:\n",
    "\n",
    "        >>> # one-level Toeplitz _matrix:\n",
    "        >>> T = tt.Toeplitz(x)\n",
    "        >>> # one-level circulant _matrix:\n",
    "        >>> T = tt.Toeplitz(x, kind='C')\n",
    "        >>> # three-level upper-triangular Toeplitz _matrix:\n",
    "        >>> T = tt.Toeplitz(x, D=3, kind='U')\n",
    "        >>> # two-level mixed-type Toeplitz _matrix:\n",
    "        >>> T = tt.Toeplitz(x, kind=['L', 'U'])\n",
    "        >>> # two-level mixed-size Toeplitz _matrix:\n",
    "        >>> T = tt.Toeplitz(x, [3, 4], kind='C')\n",
    "\n",
    "    \"\"\"\n",
    "\n",
    "    # checking for arguments consistency\n",
    "    def check_kinds(D, kind):\n",
    "        if D % len(kind) == 0:\n",
    "            kind.extend(kind * (D // len(kind) - 1))\n",
    "        if len(kind) != D:\n",
    "            raise ValueError(\n",
    "                \"Must give proper amount of _matrix kinds (one or D, for example)\")\n",
    "\n",
    "    dim = len(x)\n",
    "\n",
    "    kind = list(kind)\n",
    "    if not set(kind).issubset(['F', 'C', 'L', 'U']):\n",
    "        raise ValueError(\"Toeplitz _matrix kind must be one of F, C, L, U.\")\n",
    "    if d is None:\n",
    "        if D is None:\n",
    "            D = len(kind)\n",
    "        if dim % D:\n",
    "            raise ValueError(\n",
    "                \"dim must be divisible by D when d is not specified!\")\n",
    "        if len(kind) == 1:\n",
    "            d = np.array([dim // D - (1 if kind[0] == 'F' else 0)]\n",
    "                          * D, dtype=np.int32)\n",
    "            kind = kind * D\n",
    "        else:\n",
    "            check_kinds(D, kind)\n",
    "            if set(kind).issubset(['F']):\n",
    "                d = np.array([dim // D - 1] * D, dtype=np.int32)\n",
    "            elif set(kind).issubset(['C', 'L', 'U']):\n",
    "                d = np.array([dim // D] * D, dtype=np.int32)\n",
    "            else:\n",
    "                raise ValueError(\n",
    "                    \"Only similar _matrix kinds (only F or only C, L and U) are accepted when d is not specified!\")\n",
    "    elif d is not None:\n",
    "        d = np.asarray(d, dtype=np.int32).flatten()\n",
    "        if D is None:\n",
    "            D = d.size\n",
    "        elif d.size == 1:\n",
    "            d = np.array([d[0]] * D, dtype=np.int32)\n",
    "        if D != d.size:\n",
    "            raise ValueError(\"D must be equal to len(d)\")\n",
    "        check_kinds(D, kind)\n",
    "        if np.sum(d) + np.sum([(1 if knd == 'F' else 0)\n",
    "                                 for knd in kind]) != dim:\n",
    "            raise ValueError(\n",
    "                \"Dimensions inconsistency: dim != d_1 + d_2 + ... + d_D\")\n",
    "\n",
    "    I = [[1, 0], [0, 1]]\n",
    "\n",
    "    J = [[0, 1], [0, 0]]\n",
    "\n",
    "    JT = [[0, 0], [1, 0]]\n",
    "\n",
    "    H = [[0, 1], [1, 0]]\n",
    "\n",
    "    S = np.array([[[0], [1]], [[1], [0]]]).transpose()  # 2 x 2 x 1\n",
    "\n",
    "    P = np.zeros((2, 2, 2, 2))\n",
    "    P[:, :, 0, 0] = I\n",
    "    P[:, :, 1, 0] = H\n",
    "    P[:, :, 0, 1] = H\n",
    "    P[:, :, 1, 1] = I\n",
    "    P = np.transpose(P)  # 2 x 2! x 2 x 2 x '1'\n",
    "\n",
    "    Q = np.zeros((2, 2, 2, 2))\n",
    "    Q[:, :, 0, 0] = I\n",
    "    Q[:, :, 1, 0] = JT\n",
    "    Q[:, :, 0, 1] = JT\n",
    "    Q = np.transpose(Q)  # 2 x 2! x 2 x 2 x '1'\n",
    "\n",
    "    R = np.zeros((2, 2, 2, 2))\n",
    "    R[:, :, 1, 0] = J\n",
    "    R[:, :, 0, 1] = J\n",
    "    R[:, :, 1, 1] = I\n",
    "    R = np.transpose(R)  # 2 x 2! x 2 x 2 x '1'\n",
    "\n",
    "    W = np.zeros([2] * 5)  # 2 x 2! x 2 x 2 x 2\n",
    "    W[0, :, :, 0, 0] = W[1, :, :, 1, 1] = I\n",
    "    W[0, :, :, 1, 0] = W[0, :, :, 0, 1] = JT\n",
    "    W[1, :, :, 1, 0] = W[1, :, :, 0, 1] = J\n",
    "    W = np.transpose(W)  # 2 x 2! x 2 x 2 x 2\n",
    "\n",
    "    V = np.zeros((2, 2, 2, 2))\n",
    "    V[0, :, :, 0] = I\n",
    "    V[0, :, :, 1] = JT\n",
    "    V[1, :, :, 1] = J\n",
    "    V = np.transpose(V)  # '1' x 2! x 2 x 2 x 2\n",
    "\n",
    "    crs = []\n",
    "    xcrs = x # _vector.vector.to_list(x)\n",
    "    ranks = teneva.ranks(x)\n",
    "    dp = 0  # dimensions passed\n",
    "    for j in range(D):\n",
    "        currd = d[j]\n",
    "        xcr = xcrs[dp]\n",
    "        cr = np.tensordot(V, xcr, (0, 1))\n",
    "        cr = cr.transpose(3, 0, 1, 2, 4)  # <r_dp| x 2 x 2 x |2> x |r_{dp+1}>\n",
    "        cr = cr.reshape((ranks[dp], 2, 2, 2 * ranks[dp + 1]),\n",
    "                        order='F')  # <r_dp| x 2 x 2 x |2r_{dp+1}>\n",
    "        dp += 1\n",
    "        crs.append(cr)\n",
    "        for i in range(1, currd - 1):\n",
    "            xcr = xcrs[dp]\n",
    "            # (<2| x 2 x 2 x |2>) x <r_dp| x |r_{dp+1}>\n",
    "            cr = np.tensordot(W, xcr, (1, 1))\n",
    "            # <2| x <r_dp| x 2 x 2 x |2> x |r_{dp+1}>\n",
    "            cr = cr.transpose([0, 4, 1, 2, 3, 5])\n",
    "            # <2r_dp| x 2 x 2 x |2r_{dp+1}>\n",
    "            cr = cr.reshape((2 * ranks[dp], 2, 2, 2 * ranks[dp + 1]), order='F')\n",
    "            dp += 1\n",
    "            crs.append(cr)\n",
    "\n",
    "        if kind[j] == 'F':\n",
    "            xcr = xcrs[dp]  # r_dp x 2 x r_{dp+1}\n",
    "            cr = np.tensordot(W, xcr, (1, 1)).transpose([0, 4, 1, 2, 3, 5])\n",
    "            # <2r_dp| x 2 x 2 x |2r_{dp+1}>\n",
    "            cr = cr.reshape((2 * ranks[dp], 2, 2, 2 * ranks[dp + 1]), order='F')\n",
    "            dp += 1\n",
    "            xcr = xcrs[dp]  # r_dp x 2 x r_{dp+1}\n",
    "            # <2| x |1> x <r_dp| x |r_{dp+1}>\n",
    "            tmp = np.tensordot(S, xcr, (1, 1))\n",
    "            # tmp = tmp.transpose([0, 2, 1, 3]) # TODO: figure out WHY THE HELL\n",
    "            # this spoils everything\n",
    "            # <2r_dp| x |r_{dp+1}>\n",
    "            tmp = tmp.reshape((2 * ranks[dp], ranks[dp + 1]), order='F')\n",
    "            # <2r_{dp-1}| x 2 x 2 x |r_{dp+1}>\n",
    "            cr = np.tensordot(cr, tmp, (3, 0))\n",
    "            dp += 1\n",
    "            crs.append(cr)\n",
    "\n",
    "        else:\n",
    "            dotcore = None\n",
    "            if kind[j] == 'C':\n",
    "                dotcore = P\n",
    "            elif kind[j] == 'L':\n",
    "                dotcore = Q\n",
    "            elif kind[j] == 'U':\n",
    "                dotcore = R\n",
    "            xcr = xcrs[dp]  # r_dp x 2 x r_{dp+1}\n",
    "            # <2| x 2 x 2 x |'1'> x <r_dp| x |r_{dp+1}>\n",
    "            cr = np.tensordot(dotcore, xcr, (1, 1))\n",
    "            # <2| x <r_dp| x 2 x 2 x |r_{dp+1}>\n",
    "            cr = cr.transpose([0, 3, 1, 2, 4])\n",
    "            cr = cr.reshape((2 * ranks[dp], 2, 2, ranks[dp + 1]), order='F')\n",
    "            dp += 1\n",
    "            crs.append(cr)\n",
    "\n",
    "    return crs\n"
   ]
  },
  {
   "cell_type": "markdown",
   "id": "2321165c-bd3b-4d5f-876f-24ae35764f37",
   "metadata": {},
   "source": [
    "Build Toeplitz QTT-matrix."
   ]
  },
  {
   "cell_type": "code",
   "execution_count": 4,
   "id": "bfed0b47-7174-41a7-8b32-35a1a2aacc49",
   "metadata": {},
   "outputs": [
    {
     "data": {
      "text/plain": [
       "array([[ 0.,  0.,  0.,  0.,  0.,  0.,  0.,  0.],\n",
       "       [-1.,  0.,  0.,  0.,  0.,  0.,  0.,  0.],\n",
       "       [ 0., -1.,  0.,  0.,  0.,  0.,  0.,  0.],\n",
       "       [ 0.,  0., -1.,  0.,  0.,  0.,  0.,  0.],\n",
       "       [ 0.,  0.,  0., -1.,  0.,  0.,  0.,  0.],\n",
       "       [ 0.,  0.,  0.,  0., -1.,  0.,  0.,  0.],\n",
       "       [ 0.,  0.,  0.,  0.,  0., -1.,  0.,  0.],\n",
       "       [ 0.,  0.,  0.,  0.,  0.,  0., -1.,  0.]])"
      ]
     },
     "execution_count": 4,
     "metadata": {},
     "output_type": "execute_result"
    }
   ],
   "source": [
    "d = 3\n",
    "Z = np.zeros((1, 2, 1))\n",
    "Z[0, :, 0] = [0., 1.]\n",
    "Z = [Z]\n",
    "Y = teneva.outer_many([Z] * d)\n",
    "Y[-1] *= -1\n",
    "\n",
    "Z = teneva.matrix_toeplitz(Y, kind='U')\n",
    "teneva.full_matrix(Z)"
   ]
  },
  {
   "cell_type": "code",
   "execution_count": null,
   "id": "ec4a6e39-529f-4df0-adfc-ee9e8374f8a7",
   "metadata": {},
   "outputs": [],
   "source": []
  },
  {
   "cell_type": "code",
   "execution_count": null,
   "id": "120ce368-c354-4e1f-9c71-f2bfb3d450a1",
   "metadata": {},
   "outputs": [],
   "source": []
  },
  {
   "cell_type": "code",
   "execution_count": 4,
   "id": "177803dd-f4e1-407d-836f-a5aceb9f8cd2",
   "metadata": {},
   "outputs": [],
   "source": [
    "import tt"
   ]
  },
  {
   "cell_type": "code",
   "execution_count": 5,
   "id": "1119db81-27df-4ca7-acc5-db3e1110b374",
   "metadata": {},
   "outputs": [],
   "source": []
  },
  {
   "cell_type": "code",
   "execution_count": 141,
   "id": "7a81be60-44e1-4899-8356-d2fc3d105112",
   "metadata": {},
   "outputs": [
    {
     "data": {
      "text/plain": [
       "array([[[1., 0., 1.],\n",
       "        [0., 0., 0.],\n",
       "        [1., 0., 1.]],\n",
       "\n",
       "       [[0., 0., 0.],\n",
       "        [0., 0., 0.],\n",
       "        [0., 0., 0.]],\n",
       "\n",
       "       [[1., 0., 1.],\n",
       "        [0., 0., 0.],\n",
       "        [1., 0., 1.]]])"
      ]
     },
     "execution_count": 141,
     "metadata": {},
     "output_type": "execute_result"
    }
   ],
   "source": [
    "e1 = tt.tensor(np.array([1., 0., 1.]))\n",
    "Y = tt.vector.to_list(e1)\n",
    "Y = [Y]*3\n",
    "Y = kron(*Y)\n",
    "teneva.full(Y)"
   ]
  },
  {
   "cell_type": "code",
   "execution_count": null,
   "id": "2eebb3c1-7c26-456d-86d9-61ddd40d0132",
   "metadata": {},
   "outputs": [],
   "source": []
  },
  {
   "cell_type": "code",
   "execution_count": 144,
   "id": "d599236f-1d9e-49a7-9e80-547eec89fe95",
   "metadata": {},
   "outputs": [
    {
     "data": {
      "text/plain": [
       "This is a 1-dimensional tensor \n",
       "r(0)=1, n(0)=3 \n",
       "r(1)=1 "
      ]
     },
     "execution_count": 144,
     "metadata": {},
     "output_type": "execute_result"
    }
   ],
   "source": [
    "d = 3\n",
    "e1 = tt.tensor(np.array([1., 0., 1.]))\n",
    "e1"
   ]
  },
  {
   "cell_type": "code",
   "execution_count": 145,
   "id": "10206cae-310b-4a0d-b5d3-61fbba754a25",
   "metadata": {},
   "outputs": [
    {
     "data": {
      "text/plain": [
       "array([[[1., 0., 1.],\n",
       "        [0., 0., 0.],\n",
       "        [1., 0., 1.]],\n",
       "\n",
       "       [[0., 0., 0.],\n",
       "        [0., 0., 0.],\n",
       "        [0., 0., 0.]],\n",
       "\n",
       "       [[1., 0., 1.],\n",
       "        [0., 0., 0.],\n",
       "        [1., 0., 1.]]])"
      ]
     },
     "execution_count": 145,
     "metadata": {},
     "output_type": "execute_result"
    }
   ],
   "source": [
    "e2 = tt.mkron([e1] * d)\n",
    "e2.full()"
   ]
  },
  {
   "cell_type": "code",
   "execution_count": 6,
   "id": "9046c7e5-e0b2-4f8c-b87e-5b3fd5144c2d",
   "metadata": {},
   "outputs": [
    {
     "data": {
      "text/plain": [
       "array([[ 0.,  0.,  0.,  0.,  0.,  0.,  0.,  0.],\n",
       "       [-1.,  0.,  0.,  0.,  0.,  0.,  0.,  0.],\n",
       "       [ 0., -1.,  0.,  0.,  0.,  0.,  0.,  0.],\n",
       "       [ 0.,  0., -1.,  0.,  0.,  0.,  0.,  0.],\n",
       "       [ 0.,  0.,  0., -1.,  0.,  0.,  0.,  0.],\n",
       "       [ 0.,  0.,  0.,  0., -1.,  0.,  0.,  0.],\n",
       "       [ 0.,  0.,  0.,  0.,  0., -1.,  0.,  0.],\n",
       "       [ 0.,  0.,  0.,  0.,  0.,  0., -1.,  0.]])"
      ]
     },
     "execution_count": 6,
     "metadata": {},
     "output_type": "execute_result"
    }
   ],
   "source": [
    "d = 3\n",
    "Z = np.zeros((1, 2, 1))\n",
    "Z[0, :, 0] = [0., 1.]\n",
    "Z = [Z]\n",
    "Y = teneva.outer_many([Z] * d)\n",
    "Y[-1] *= -1\n",
    "\n",
    "Z = teneva.matrix_toeplitz(Y, kind='U')\n",
    "full_matrix(Z)"
   ]
  },
  {
   "cell_type": "code",
   "execution_count": null,
   "id": "52003a60-14ba-4760-9ac7-6468c4af9a88",
   "metadata": {},
   "outputs": [],
   "source": [
    "# Identity _matrix\n",
    "def eye(n, d=None):\n",
    "    \"\"\" Creates an identity TT-matrix\"\"\"\n",
    "    c = _matrix.matrix()\n",
    "    c.tt = _vector.vector()\n",
    "    if d is None:\n",
    "        n0 = _np.asanyarray(n, dtype=_np.int32)\n",
    "        c.tt.d = n0.size\n",
    "    else:\n",
    "        n0 = _np.asanyarray([n] * d, dtype=_np.int32)\n",
    "        c.tt.d = d\n",
    "    c.n = n0.copy()\n",
    "    c.m = n0.copy()\n",
    "    c.tt.n = (c.n) * (c.m)\n",
    "    c.tt.r = _np.ones((c.tt.d + 1,), dtype=_np.int32)\n",
    "    c.tt.get_ps()\n",
    "    c.tt.alloc_core()\n",
    "    for i in range(c.tt.d):\n",
    "        c.tt.core[\n",
    "        c.tt.ps[i] -\n",
    "        1:c.tt.ps[\n",
    "              i +\n",
    "              1] -\n",
    "          1] = _np.eye(\n",
    "            c.n[i]).flatten()\n",
    "    return c"
   ]
  },
  {
   "cell_type": "code",
   "execution_count": 158,
   "id": "1838b574-9846-47d8-a3a5-6c615057bf83",
   "metadata": {},
   "outputs": [
    {
     "data": {
      "text/plain": [
       "array([[1., 0., 0., 0., 0., 0., 0., 0.],\n",
       "       [0., 1., 0., 0., 0., 0., 0., 0.],\n",
       "       [0., 0., 1., 0., 0., 0., 0., 0.],\n",
       "       [0., 0., 0., 1., 0., 0., 0., 0.],\n",
       "       [0., 0., 0., 0., 1., 0., 0., 0.],\n",
       "       [0., 0., 0., 0., 0., 1., 0., 0.],\n",
       "       [0., 0., 0., 0., 0., 0., 1., 0.],\n",
       "       [0., 0., 0., 0., 0., 0., 0., 1.]])"
      ]
     },
     "execution_count": 158,
     "metadata": {},
     "output_type": "execute_result"
    }
   ],
   "source": [
    "tt.eye(2, d).full()"
   ]
  },
  {
   "cell_type": "code",
   "execution_count": 154,
   "id": "c8e4db89-5f3a-4bd2-9cba-34767735a3ce",
   "metadata": {},
   "outputs": [
    {
     "data": {
      "text/plain": [
       "array([[ 0.,  0.,  0.,  0.,  0.,  0.,  0.,  0.],\n",
       "       [-1.,  0.,  0.,  0.,  0.,  0.,  0.,  0.],\n",
       "       [ 0., -1.,  0.,  0.,  0.,  0.,  0.,  0.],\n",
       "       [ 0.,  0., -1.,  0.,  0.,  0.,  0.,  0.],\n",
       "       [ 0.,  0.,  0., -1.,  0.,  0.,  0.,  0.],\n",
       "       [ 0.,  0.,  0.,  0., -1.,  0.,  0.,  0.],\n",
       "       [ 0.,  0.,  0.,  0.,  0., -1.,  0.,  0.],\n",
       "       [ 0.,  0.,  0.,  0.,  0.,  0., -1.,  0.]])"
      ]
     },
     "execution_count": 154,
     "metadata": {},
     "output_type": "execute_result"
    }
   ],
   "source": [
    "\n",
    "\n",
    "e1 = tt.tensor(np.array([0., 1.]))\n",
    "e2 = tt.mkron([e1] * d)\n",
    "x = tt.Toeplitz(-e2, kind='U')\n",
    "full_matrix(tt.vector.to_list(x.tt))"
   ]
  },
  {
   "cell_type": "code",
   "execution_count": null,
   "id": "63afcfc5-1229-43cd-8baa-91e788ca82a4",
   "metadata": {},
   "outputs": [],
   "source": []
  },
  {
   "cell_type": "code",
   "execution_count": 146,
   "id": "7ee0de78-aed3-46ed-87dc-21388beed90d",
   "metadata": {},
   "outputs": [
    {
     "data": {
      "text/plain": [
       "array([[ 0.,  0.,  0.,  0.,  0.,  0.,  0.,  0.],\n",
       "       [-1.,  0.,  0.,  0.,  0.,  0.,  0.,  0.],\n",
       "       [ 0., -1.,  0.,  0.,  0.,  0.,  0.,  0.],\n",
       "       [ 0.,  0., -1.,  0.,  0.,  0.,  0.,  0.],\n",
       "       [ 0.,  0.,  0., -1.,  0.,  0.,  0.,  0.],\n",
       "       [ 0.,  0.,  0.,  0., -1.,  0.,  0.,  0.],\n",
       "       [ 0.,  0.,  0.,  0.,  0., -1.,  0.,  0.],\n",
       "       [ 0.,  0.,  0.,  0.,  0.,  0., -1.,  0.]])"
      ]
     },
     "execution_count": 146,
     "metadata": {},
     "output_type": "execute_result"
    }
   ],
   "source": [
    "d = 3\n",
    "e1 = tt.tensor(np.array([0., 1.]))\n",
    "e2 = tt.mkron([e1] * d)\n",
    "x = tt.Toeplitz(-e2, kind='U')\n",
    "full_matrix(tt.vector.to_list(x.tt))"
   ]
  },
  {
   "cell_type": "code",
   "execution_count": 69,
   "id": "cb4c4838-a814-4191-871a-f1ffe3722f87",
   "metadata": {},
   "outputs": [
    {
     "data": {
      "text/plain": [
       "array([[ 0.,  0.,  0.,  0.,  0.,  0.,  0.,  0.],\n",
       "       [-1.,  0.,  0.,  0.,  0.,  0.,  0.,  0.],\n",
       "       [ 0., -1.,  0.,  0.,  0.,  0.,  0.,  0.],\n",
       "       [ 0.,  0., -1.,  0.,  0.,  0.,  0.,  0.],\n",
       "       [ 0.,  0.,  0., -1.,  0.,  0.,  0.,  0.],\n",
       "       [ 0.,  0.,  0.,  0., -1.,  0.,  0.,  0.],\n",
       "       [ 0.,  0.,  0.,  0.,  0., -1.,  0.,  0.],\n",
       "       [ 0.,  0.,  0.,  0.,  0.,  0., -1.,  0.]])"
      ]
     },
     "execution_count": 69,
     "metadata": {},
     "output_type": "execute_result"
    }
   ],
   "source": [
    "e3 = tt.tensor.to_list(-e2)\n",
    "# e3[-1] *= -1\n",
    "Z = teneva.matrix_toeplitz(e3, kind='U')\n",
    "full_matrix(Z)"
   ]
  },
  {
   "cell_type": "code",
   "execution_count": null,
   "id": "0299e187-6a10-4b3e-a95d-d5f00d954385",
   "metadata": {},
   "outputs": [],
   "source": []
  },
  {
   "cell_type": "code",
   "execution_count": null,
   "id": "ec490174-9861-4383-8a25-c042f6381ae0",
   "metadata": {},
   "outputs": [],
   "source": []
  },
  {
   "cell_type": "markdown",
   "id": "5157c326-a02c-41fc-b82d-af0d55ddfb18",
   "metadata": {},
   "source": [
    "---"
   ]
  }
 ],
 "metadata": {
  "kernelspec": {
   "display_name": "Python 3",
   "language": "python",
   "name": "python3"
  },
  "language_info": {
   "codemirror_mode": {
    "name": "ipython",
    "version": 3
   },
   "file_extension": ".py",
   "mimetype": "text/x-python",
   "name": "python",
   "nbconvert_exporter": "python",
   "pygments_lexer": "ipython3",
   "version": "3.8.8"
  }
 },
 "nbformat": 4,
 "nbformat_minor": 5
}
