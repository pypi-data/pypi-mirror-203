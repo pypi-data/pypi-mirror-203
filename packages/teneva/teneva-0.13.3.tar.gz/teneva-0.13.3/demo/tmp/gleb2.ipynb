{
 "cells": [
  {
   "cell_type": "code",
   "execution_count": 1,
   "id": "51b31a1e-ff0d-4110-a0ab-c3c64d88888e",
   "metadata": {
    "ExecuteTime": {
     "end_time": "2022-09-19T19:18:29.339574Z",
     "start_time": "2022-09-19T19:18:29.335837Z"
    }
   },
   "outputs": [],
   "source": [
    "import numpy as np\n",
    "import scipy as sp\n",
    "import scipy.optimize\n",
    "import teneva\n",
    "np.random.seed(42)\n",
    "\n",
    "from numba import jit"
   ]
  },
  {
   "cell_type": "code",
   "execution_count": 2,
   "id": "5794cb8d",
   "metadata": {
    "ExecuteTime": {
     "end_time": "2022-09-19T19:18:43.745244Z",
     "start_time": "2022-09-19T19:18:43.737552Z"
    }
   },
   "outputs": [],
   "source": [
    "@jit\n",
    "def _poly_arr(x, n, a=-1, b=1):\n",
    "\n",
    "    x = -1. + 2.*(x - a)/(b-a)\n",
    "        \n",
    "    res = np.ones((len(x), n))\n",
    "    if n == 1:\n",
    "        return res\n",
    "    res[:, 1] = x\n",
    "    for i in range(2, n):\n",
    "        res[:, i] = 2*x*res[:, i-1] - res[:, i-2]\n",
    "        \n",
    "    return res\n",
    "        \n",
    "def poly_arr(x, n, a=-1, b=1):\n",
    "    x = np.asarray(x)\n",
    "    reduce_dim = x.ndim == 0\n",
    "    if reduce_dim:\n",
    "        x = x[None]\n",
    "        \n",
    "    res = _poly_arr(x, n, a=a, b=b)\n",
    "    if reduce_dim:\n",
    "        res = res[0]\n",
    "        \n",
    "    return res"
   ]
  },
  {
   "cell_type": "code",
   "execution_count": 3,
   "id": "5cb2401c-3a8a-4d73-96a7-cd9b56c484e5",
   "metadata": {
    "ExecuteTime": {
     "end_time": "2022-09-19T19:18:43.862210Z",
     "start_time": "2022-09-19T19:18:43.859237Z"
    }
   },
   "outputs": [],
   "source": [
    "a = -1.\n",
    "b = +1.\n",
    "d = 4\n",
    "n = 50\n",
    "m = 1.E+5\n",
    "r = 4\n",
    "q = 8"
   ]
  },
  {
   "cell_type": "code",
   "execution_count": 4,
   "id": "36bfda55-2dfc-4007-a1a2-9c0478fbe58e",
   "metadata": {
    "ExecuteTime": {
     "end_time": "2022-09-19T19:18:44.002073Z",
     "start_time": "2022-09-19T19:18:43.945724Z"
    }
   },
   "outputs": [],
   "source": [
    "I_trn = teneva.sample_lhs([n]*d, m)\n",
    "I_tst = teneva.sample_lhs([n]*d, m)\n",
    "\n",
    "X_trn = teneva.ind_to_poi(I_trn, a, b, n, 'cheb')\n",
    "X_tst = teneva.ind_to_poi(I_tst, a, b, n, 'cheb')\n",
    "\n",
    "Y_trn = sp.optimize.rosen(X_trn.T)\n",
    "Y_tst = sp.optimize.rosen(X_tst.T)"
   ]
  },
  {
   "cell_type": "code",
   "execution_count": 5,
   "id": "3f9c6585-bf2b-4202-baea-7c7573f0b49d",
   "metadata": {
    "ExecuteTime": {
     "end_time": "2022-09-19T19:18:44.046585Z",
     "start_time": "2022-09-19T19:18:44.043868Z"
    }
   },
   "outputs": [
    {
     "name": "stdout",
     "output_type": "stream",
     "text": [
      "TT-tensor     4D : |8| |8| |8| |8|\n",
      "<rank>  =    4.0 :   \\4/ \\4/ \\4/\n"
     ]
    }
   ],
   "source": [
    "Y0 = teneva.tensor_rand([q]*d, r)\n",
    "teneva.show(Y0)"
   ]
  },
  {
   "cell_type": "code",
   "execution_count": 9,
   "id": "88c4560b-32fe-412b-8372-45a16703d5a5",
   "metadata": {
    "ExecuteTime": {
     "end_time": "2022-09-19T19:19:23.325889Z",
     "start_time": "2022-09-19T19:18:53.823451Z"
    }
   },
   "outputs": [
    {
     "name": "stdout",
     "output_type": "stream",
     "text": [
      "# pre | time:      0.366 | rank:   4.0 | \n",
      "#   1 | time:      4.128 | rank:   4.0 | eps: 1.4e+00 | \n",
      "#   2 | time:      7.708 | rank:   4.0 | eps: 1.1e-01 | \n",
      "#   3 | time:     11.399 | rank:   4.0 | eps: 2.2e-04 | \n",
      "#   4 | time:     15.485 | rank:   4.0 | eps: 7.4e-07 | \n",
      "#   5 | time:     19.611 | rank:   4.0 | eps: 2.1e-08 | \n",
      "#   6 | time:     23.744 | rank:   4.0 | eps: 0.0e+00 | stop: e | \n"
     ]
    }
   ],
   "source": [
    "f = lambda x: poly_arr(x, q, a, b)\n",
    "A = teneva.als_spectral(X_trn, Y_trn, Y0, f, log=True, nswp=10)"
   ]
  },
  {
   "cell_type": "code",
   "execution_count": 10,
   "id": "60bcfc32-cffa-48ca-8bba-7733fd286211",
   "metadata": {
    "ExecuteTime": {
     "end_time": "2022-09-19T19:19:25.986824Z",
     "start_time": "2022-09-19T19:19:23.335481Z"
    }
   },
   "outputs": [
    {
     "data": {
      "text/plain": [
       "1.981079307000822e-14"
      ]
     },
     "execution_count": 10,
     "metadata": {},
     "output_type": "execute_result"
    }
   ],
   "source": [
    "Y_trn_appr = teneva.cheb_get(X_trn, A, a, b)\n",
    "\n",
    "np.linalg.norm(Y_trn_appr - Y_trn) / np.linalg.norm(Y_trn)"
   ]
  },
  {
   "cell_type": "code",
   "execution_count": 11,
   "id": "0973ca23-0f01-4fc6-a6ea-aea120e17c9a",
   "metadata": {
    "ExecuteTime": {
     "end_time": "2022-09-19T19:19:28.626141Z",
     "start_time": "2022-09-19T19:19:25.988129Z"
    }
   },
   "outputs": [
    {
     "data": {
      "text/plain": [
       "1.9871840843025756e-14"
      ]
     },
     "execution_count": 11,
     "metadata": {},
     "output_type": "execute_result"
    }
   ],
   "source": [
    "Y_tst_appr = teneva.cheb_get(X_tst, A, a, b)\n",
    "\n",
    "np.linalg.norm(Y_tst_appr - Y_tst) / np.linalg.norm(Y_tst)"
   ]
  },
  {
   "cell_type": "code",
   "execution_count": null,
   "id": "7b6760e7-b74b-4273-90ae-6a8c7403cbc7",
   "metadata": {},
   "outputs": [],
   "source": []
  },
  {
   "cell_type": "code",
   "execution_count": null,
   "id": "e8e069df-a86d-4f32-87a8-714729c6c7f7",
   "metadata": {},
   "outputs": [],
   "source": []
  },
  {
   "cell_type": "code",
   "execution_count": null,
   "id": "a5944f31-c4ac-4c2f-8c38-8f325b54df6f",
   "metadata": {},
   "outputs": [],
   "source": [
    "def cheb_pol(X, a=-1., b=+1., m=10):\n",
    "    \"\"\"Compute the Chebyshev polynomials in the given points.\n",
    "\n",
    "    Args:\n",
    "        X (np.ndarray): spatial points of interest (it is 2D array of the shape\n",
    "            [samples, d], where \"d\" is a number of dimensions).\n",
    "        a (float, list, np.ndarray): grid lower bounds for each dimension (list\n",
    "            or np.ndarray of length \"d\"). It may be also float, then the lower\n",
    "            bounds for each dimension will be the same.\n",
    "        b (float, list, np.ndarray): grid upper bounds for each dimension (list\n",
    "            or np.ndarray of length \"d\"). It may be also float, then the upper\n",
    "            bounds for each dimension will be the same.\n",
    "        m (int): maximum order for Chebyshev polynomial (>= 1). The first \"m\"\n",
    "            polynomials (of the order 0, 1, ..., m-1) will be computed.\n",
    "\n",
    "    Returns:\n",
    "        np.ndarray: values of the Chebyshev polynomials of the order 0,1,...,m-1\n",
    "        in X points (it is 3D array of the shape [m, samples, d]).\n",
    "\n",
    "    Note:\n",
    "        Before calculating polynomials, the points are scaled from [a, b] to\n",
    "        standard [-1, 1] limits.\n",
    "\n",
    "    \"\"\"\n",
    "    d = X.shape[-1]\n",
    "    reps = X.shape[0] if len(X.shape) > 1 else None\n",
    "    a, b, _ = teneva.grid_prep_opts(a, b, None, d, reps)\n",
    "    X = (2. * X - b - a) / (b - a)\n",
    "\n",
    "    T = np.ones([m] + list(X.shape))\n",
    "\n",
    "    if m < 2:\n",
    "        return T\n",
    "\n",
    "    T[1, ] = X.copy()\n",
    "    for k in range(2, m):\n",
    "        T[k, ] = 2. * X * T[k - 1, ] - T[k - 2, ]\n",
    "\n",
    "    return T"
   ]
  },
  {
   "cell_type": "code",
   "execution_count": null,
   "id": "c359af7d-26fb-403f-911f-2bde3b64b4b1",
   "metadata": {},
   "outputs": [],
   "source": [
    "def poly_arr(x, n, a=-1, b=1):\n",
    "    x = np.asarray(x)\n",
    "    reduce_dim = x.ndim == 0\n",
    "    if reduce_dim:\n",
    "        x = x[None]\n",
    "        \n",
    "    res = _poly_arr(x, n, a=a, b=b)\n",
    "    if reduce_dim:\n",
    "        res = res[0]\n",
    "        \n",
    "    return res"
   ]
  },
  {
   "cell_type": "code",
   "execution_count": 12,
   "id": "2732b6ad-f95d-4dc8-aca7-600c27d3e5fd",
   "metadata": {},
   "outputs": [],
   "source": [
    "X = np.array([2, 3, 4])"
   ]
  },
  {
   "cell_type": "code",
   "execution_count": 13,
   "id": "76cbf28f-6c05-488c-aa76-0b19d13c6fac",
   "metadata": {},
   "outputs": [],
   "source": [
    "t1 = teneva.cheb_pol(X, a, b, q)"
   ]
  },
  {
   "cell_type": "code",
   "execution_count": 14,
   "id": "7069a48f-ef65-4c6c-b2d0-4af9a2bc3c7c",
   "metadata": {},
   "outputs": [],
   "source": [
    "t2 = poly_arr(X, q, a, b)"
   ]
  },
  {
   "cell_type": "code",
   "execution_count": 17,
   "id": "fce247de-8cd6-43d2-8d47-d8babd2b896e",
   "metadata": {},
   "outputs": [
    {
     "data": {
      "text/plain": [
       "(8, 3)"
      ]
     },
     "execution_count": 17,
     "metadata": {},
     "output_type": "execute_result"
    }
   ],
   "source": [
    "t1.shape"
   ]
  },
  {
   "cell_type": "code",
   "execution_count": 18,
   "id": "3482581c-3ea2-42ae-9f9f-0e4180245ecc",
   "metadata": {},
   "outputs": [
    {
     "data": {
      "text/plain": [
       "(3, 8)"
      ]
     },
     "execution_count": 18,
     "metadata": {},
     "output_type": "execute_result"
    }
   ],
   "source": [
    "t2.shape"
   ]
  },
  {
   "cell_type": "code",
   "execution_count": null,
   "id": "343abc2a-89ad-4896-a35f-a2be587f2acb",
   "metadata": {},
   "outputs": [],
   "source": []
  }
 ],
 "metadata": {
  "kernelspec": {
   "display_name": "Python 3",
   "language": "python",
   "name": "python3"
  },
  "language_info": {
   "codemirror_mode": {
    "name": "ipython",
    "version": 3
   },
   "file_extension": ".py",
   "mimetype": "text/x-python",
   "name": "python",
   "nbconvert_exporter": "python",
   "pygments_lexer": "ipython3",
   "version": "3.8.8"
  }
 },
 "nbformat": 4,
 "nbformat_minor": 5
}
