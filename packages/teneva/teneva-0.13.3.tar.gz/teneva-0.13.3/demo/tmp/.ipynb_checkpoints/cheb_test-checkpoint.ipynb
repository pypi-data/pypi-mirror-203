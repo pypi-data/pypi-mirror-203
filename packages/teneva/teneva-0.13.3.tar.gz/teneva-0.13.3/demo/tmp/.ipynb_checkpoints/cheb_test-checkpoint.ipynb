{
 "cells": [
  {
   "cell_type": "code",
   "execution_count": 2,
   "id": "044128c2-88de-4b9b-9d9e-a74e9e259f47",
   "metadata": {},
   "outputs": [
    {
     "ename": "ZipImportError",
     "evalue": "bad local file header: '/Users/andrei/opt/anaconda3/lib/python3.8/site-packages/teneva-0.11.5-py3.8.egg'",
     "output_type": "error",
     "traceback": [
      "\u001b[0;31m---------------------------------------------------------------------------\u001b[0m",
      "\u001b[0;31mZipImportError\u001b[0m                            Traceback (most recent call last)",
      "\u001b[0;32m<ipython-input-2-86338731f527>\u001b[0m in \u001b[0;36m<module>\u001b[0;34m\u001b[0m\n\u001b[1;32m      1\u001b[0m \u001b[0;32mimport\u001b[0m \u001b[0mmatplotlib\u001b[0m\u001b[0;34m.\u001b[0m\u001b[0mpyplot\u001b[0m \u001b[0;32mas\u001b[0m \u001b[0mplt\u001b[0m\u001b[0;34m\u001b[0m\u001b[0;34m\u001b[0m\u001b[0m\n\u001b[1;32m      2\u001b[0m \u001b[0;32mimport\u001b[0m \u001b[0mnumpy\u001b[0m \u001b[0;32mas\u001b[0m \u001b[0mnp\u001b[0m\u001b[0;34m\u001b[0m\u001b[0;34m\u001b[0m\u001b[0m\n\u001b[0;32m----> 3\u001b[0;31m \u001b[0;32mimport\u001b[0m \u001b[0mteneva\u001b[0m\u001b[0;34m\u001b[0m\u001b[0;34m\u001b[0m\u001b[0m\n\u001b[0m\u001b[1;32m      4\u001b[0m \u001b[0;32mfrom\u001b[0m \u001b[0mtime\u001b[0m \u001b[0;32mimport\u001b[0m \u001b[0mperf_counter\u001b[0m \u001b[0;32mas\u001b[0m \u001b[0mtpc\u001b[0m\u001b[0;34m\u001b[0m\u001b[0;34m\u001b[0m\u001b[0m\n\u001b[1;32m      5\u001b[0m \u001b[0mnp\u001b[0m\u001b[0;34m.\u001b[0m\u001b[0mrandom\u001b[0m\u001b[0;34m.\u001b[0m\u001b[0mseed\u001b[0m\u001b[0;34m(\u001b[0m\u001b[0;36m42\u001b[0m\u001b[0;34m)\u001b[0m\u001b[0;34m\u001b[0m\u001b[0;34m\u001b[0m\u001b[0m\n",
      "\u001b[0;32m<frozen zipimport>\u001b[0m in \u001b[0;36mload_module\u001b[0;34m(self, fullname)\u001b[0m\n",
      "\u001b[0;32m<frozen zipimport>\u001b[0m in \u001b[0;36m_get_module_code\u001b[0;34m(self, fullname)\u001b[0m\n",
      "\u001b[0;32m<frozen zipimport>\u001b[0m in \u001b[0;36m_get_data\u001b[0;34m(archive, toc_entry)\u001b[0m\n",
      "\u001b[0;31mZipImportError\u001b[0m: bad local file header: '/Users/andrei/opt/anaconda3/lib/python3.8/site-packages/teneva-0.11.5-py3.8.egg'"
     ]
    }
   ],
   "source": [
    "import matplotlib.pyplot as plt\n",
    "import numpy as np\n",
    "import teneva\n",
    "from time import perf_counter as tpc\n",
    "np.random.seed(42)"
   ]
  },
  {
   "cell_type": "code",
   "execution_count": null,
   "id": "2bec2af9-28da-4306-81a8-9824e0bfd463",
   "metadata": {},
   "outputs": [],
   "source": [
    "a = -3.   # Grid lower bound\n",
    "b = +3.   # Grid upper bound\n",
    "n = 1000   # Grid size\n",
    "\n",
    "# Function and its first derivative:\n",
    "f     = lambda x: np.sin(x**3) + np.exp(-x**2)\n",
    "\n",
    "# Chebyshev grid and function values on the grid:\n",
    "i = np.arange(n)\n",
    "x = teneva.ind_to_poi(i, a, b, n, kind='cheb')\n",
    "y = f(x)\n",
    "\n",
    "D1, D2, D3 = teneva.cheb_diff_matrix(a, b, n, m=3)\n",
    "z = [D1 @ y, D2 @ y, D3 @ y]\n",
    "\n",
    "z1_real = 3. * x**2 * np.cos(x**3) - 2. * x * np.exp(-x**2)\n",
    "\n",
    "z2_real = 6. * x * np.cos(x**3) - 9. * x**4 * np.sin(x**3)\n",
    "z2_real += - 2. * np.exp(-x**2) + 4. * x**2 * np.exp(-x**2)\n",
    "\n",
    "z3_real = 6. * np.cos(x**3) - 18. * x**3 * np.sin(x**3)\n",
    "z3_real += - 36. * x**3 * np.sin(x**3) - 27. * x**6 * np.cos(x**3)\n",
    "z3_real += 4. * x * np.exp(-x**2)\n",
    "z3_real += 8. * x * np.exp(-x**2) - 8. * x**3 * np.exp(-x**2)\n",
    "\n",
    "z_real = [z1_real, z2_real, z3_real]\n",
    "\n",
    "for k in range(3):\n",
    "    e_nrm = np.linalg.norm(z[k] - z_real[k]) / np.linalg.norm(z_real[k])\n",
    "    e_max = np.max(np.abs(z[k] - z_real[k]) / np.abs(z_real[k]))\n",
    "    print(f'Der # {k+1} | Error nrm : {e_nrm:-7.1e} | Error max : {e_max:-7.1e}')\n",
    "    \n",
    "for k in range(3):\n",
    "    plt.plot(x, abs(z_real[k]-z[k])/abs(z_real[k]), '-')\n",
    "    plt.semilogy()\n",
    "    plt.show()"
   ]
  },
  {
   "cell_type": "code",
   "execution_count": null,
   "id": "5571be5d-fcf9-487a-a3b1-ec6645e26be1",
   "metadata": {},
   "outputs": [],
   "source": [
    "a_all = np.linspace(1., 10., 10)\n",
    "b_all = -a_all\n",
    "n = 1000\n",
    "\n",
    "for a, b in zip(a_all, b_all):\n",
    "    f = lambda x: np.sin(x**3) + np.exp(-x**2)\n",
    "    i = np.arange(n)\n",
    "    x = teneva.ind_to_poi(i, a, b, n, kind='cheb')\n",
    "    y = f(x)\n",
    "\n",
    "    D = teneva.cheb_diff_matrix(a, b, n, m=1)\n",
    "    z = D @ y\n",
    "\n",
    "    z_real = 3. * x**2 * np.cos(x**3) - 2. * x * np.exp(-x**2)\n",
    "\n",
    "    e_nrm = np.linalg.norm(z - z_real) / np.linalg.norm(z_real)\n",
    "    e_max = np.max(np.abs(z - z_real) / np.abs(z_real))\n",
    "    print(f'a: {a:-8.4f} | b: {b:-8.4f} | Error nrm : {e_nrm:-7.1e} | Error max : {e_max:-7.1e}')"
   ]
  },
  {
   "cell_type": "code",
   "execution_count": null,
   "id": "66beaecf-b8dc-40c7-a76c-16dd476f4f43",
   "metadata": {},
   "outputs": [],
   "source": [
    "a_all = np.linspace(1., 20., 10)\n",
    "b_all = -a_all\n",
    "n = 2000\n",
    "\n",
    "for a, b in zip(a_all, b_all):\n",
    "    f = lambda x: np.sin(x**3) + np.exp(-x**2)\n",
    "    i = np.arange(n)\n",
    "    x = teneva.ind_to_poi(i, a, b, n, kind='cheb')\n",
    "    y = f(x)\n",
    "\n",
    "    D = teneva.cheb_diff_matrix(a, b, n, m=1)\n",
    "    z = D @ y\n",
    "\n",
    "    z_real = 3. * x**2 * np.cos(x**3) - 2. * x * np.exp(-x**2)\n",
    "\n",
    "    e_nrm = np.linalg.norm(z - z_real) / np.linalg.norm(z_real)\n",
    "    e_max = np.max(np.abs(z - z_real) / np.abs(z_real))\n",
    "    print(f'a: {a:-8.4f} | b: {b:-8.4f} | Error nrm : {e_nrm:-7.1e} | Error max : {e_max:-7.1e}')"
   ]
  },
  {
   "cell_type": "code",
   "execution_count": null,
   "id": "7b57ef74-961b-4761-8860-5a6a11761e80",
   "metadata": {},
   "outputs": [],
   "source": []
  },
  {
   "cell_type": "code",
   "execution_count": null,
   "id": "12f13daf-10e0-405b-8fa8-a2df5677fc0e",
   "metadata": {},
   "outputs": [],
   "source": []
  }
 ],
 "metadata": {
  "kernelspec": {
   "display_name": "Python 3",
   "language": "python",
   "name": "python3"
  },
  "language_info": {
   "codemirror_mode": {
    "name": "ipython",
    "version": 3
   },
   "file_extension": ".py",
   "mimetype": "text/x-python",
   "name": "python",
   "nbconvert_exporter": "python",
   "pygments_lexer": "ipython3",
   "version": "3.8.8"
  }
 },
 "nbformat": 4,
 "nbformat_minor": 5
}
