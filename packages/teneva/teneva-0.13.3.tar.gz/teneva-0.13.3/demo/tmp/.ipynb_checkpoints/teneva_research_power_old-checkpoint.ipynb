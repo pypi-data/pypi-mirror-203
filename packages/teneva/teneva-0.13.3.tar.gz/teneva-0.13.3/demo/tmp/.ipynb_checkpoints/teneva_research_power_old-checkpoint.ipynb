{
 "cells": [
  {
   "cell_type": "markdown",
   "id": "143435a9-6525-4055-9996-166fd4c54c0b",
   "metadata": {},
   "source": [
    "**teneva_research: power**\n",
    "\n",
    "Исследование поэлементного возведения TT-тензоров в степень\n",
    "\n",
    "---"
   ]
  },
  {
   "cell_type": "markdown",
   "id": "08063300-38c1-4334-ab7c-8bdf1aa00750",
   "metadata": {},
   "source": [
    "# Установка и импорт модулей"
   ]
  },
  {
   "cell_type": "code",
   "execution_count": 1,
   "id": "aaacce5b-3497-4858-93fd-d5526781883f",
   "metadata": {},
   "outputs": [],
   "source": [
    "import numpy as np\n",
    "import teneva # Используется версия 0.11.4!\n",
    "from time import perf_counter as tpc"
   ]
  },
  {
   "cell_type": "markdown",
   "id": "e217870f-5f8a-4daf-9d4e-8d28caa4b44a",
   "metadata": {},
   "source": [
    "# 1. Явное умножение, мелкая сетка, малая степень"
   ]
  },
  {
   "cell_type": "markdown",
   "id": "b9b8982d-c9a8-4104-ab7e-afa245db4bb1",
   "metadata": {},
   "source": [
    "## Подготовка TT-тензора для анализа"
   ]
  },
  {
   "cell_type": "markdown",
   "id": "8a1ca91d-92e5-428e-af5d-f6049ca3dd96",
   "metadata": {},
   "source": [
    "Рассмотрим $d$ мерную функцию Schwefel на равномерной сетке с $n$ узлами по каждой моде и операцию возведения в степень $s$."
   ]
  },
  {
   "cell_type": "code",
   "execution_count": 2,
   "id": "2bd14351-faa9-4b47-92ed-993bf3991f14",
   "metadata": {},
   "outputs": [],
   "source": [
    "d    = 4\n",
    "n    = 2**10 + 1\n",
    "s    = 4\n",
    "func = teneva.FuncDemoSchwefel(d)\n",
    "func.set_grid(n, kind='uni')"
   ]
  },
  {
   "cell_type": "markdown",
   "id": "265293b0-65b9-4958-96cc-14d3f7fd5bc7",
   "metadata": {},
   "source": [
    "**Note**: *Мы берем нечетное число узлов сетки, для того, чтобы пространственная точка \"x=0\" (в которой большинство функций имеет оптимум) точно ложилась на сетку.*"
   ]
  },
  {
   "cell_type": "markdown",
   "id": "eb9ed6f8-98f7-4286-8b1a-bbc63f8a9db3",
   "metadata": {},
   "source": [
    "Мы можем построить явно TT-ядра для этой функции."
   ]
  },
  {
   "cell_type": "code",
   "execution_count": 3,
   "id": "5ad7fb4e-e18a-4521-8f60-8a016b8eeabb",
   "metadata": {},
   "outputs": [
    {
     "name": "stdout",
     "output_type": "stream",
     "text": [
      "  1025 1025 1025 1025 \n",
      "   / \\  / \\  / \\  / \\ \n",
      "  1    2    2    2    1  \n",
      "\n"
     ]
    }
   ],
   "source": [
    "func.cores()\n",
    "Y0 = func.Y\n",
    "\n",
    "teneva.show(Y0)"
   ]
  },
  {
   "cell_type": "markdown",
   "id": "b5701bb8-cb34-4cd5-ac54-266560d3f075",
   "metadata": {},
   "source": [
    "Мы знаем точный глобальный минимум функции, и мы можем вычислить значение TT-тензора в ближайшем к нему мульти-индексе."
   ]
  },
  {
   "cell_type": "code",
   "execution_count": 4,
   "id": "2e91d575-47f0-49bf-9610-53dcf551a808",
   "metadata": {},
   "outputs": [
    {
     "name": "stdout",
     "output_type": "stream",
     "text": [
      "[943 943 943 943]\n",
      "[420.9687 420.9687 420.9687 420.9687]\n",
      "0.0\n",
      "0.002545912405821582\n"
     ]
    }
   ],
   "source": [
    "x_min_real = func.x_min\n",
    "y_min_real = func.y_min\n",
    "\n",
    "i_min_appr = teneva.poi_to_ind(x_min_real, func.a, func.b, func.n)\n",
    "\n",
    "y_min_appr = teneva.get(Y0, i_min_appr)\n",
    "\n",
    "print(i_min_appr) # Мульти-индекс, соответствующий x_min_real\n",
    "print(x_min_real)\n",
    "print(y_min_real) # Точное значение минимума\n",
    "print(y_min_appr) # Значение TT-тензора в i_min_real"
   ]
  },
  {
   "cell_type": "markdown",
   "id": "9576aa8d-6594-4396-9e1b-8fff9ad92820",
   "metadata": {},
   "source": [
    "Точка, соответствующая \"оптимальному\" мульти-индексу тензора:"
   ]
  },
  {
   "cell_type": "code",
   "execution_count": 5,
   "id": "161ddd6a-0cfd-4249-8233-ade7343d1c5c",
   "metadata": {},
   "outputs": [
    {
     "data": {
      "text/plain": [
       "array([420.8984375, 420.8984375, 420.8984375, 420.8984375])"
      ]
     },
     "execution_count": 5,
     "metadata": {},
     "output_type": "execute_result"
    }
   ],
   "source": [
    "x_min_appr = teneva.ind_to_poi(i_min_appr, func.a, func.b, func.n)\n",
    "x_min_appr"
   ]
  },
  {
   "cell_type": "markdown",
   "id": "386a2ba4-defa-43ae-a175-eb371929bd38",
   "metadata": {},
   "source": [
    "**Note**: *Как можем видеть, на выбранной сетке ошибка составляет около `0.0025`. Брать более густую сетку мы не будем, поскольку в этом случае дальнейший код (включая `optima_tt`) будет отчаянно тормозить.*"
   ]
  },
  {
   "cell_type": "markdown",
   "id": "888ef070-70bd-4b91-b904-95f8cd6529ce",
   "metadata": {},
   "source": [
    "Применим базовый \"optima_tt\" метод."
   ]
  },
  {
   "cell_type": "code",
   "execution_count": 6,
   "id": "fc38b0f9-40f9-4024-9523-874dd11c04a1",
   "metadata": {},
   "outputs": [
    {
     "name": "stdout",
     "output_type": "stream",
     "text": [
      "[943 943 943 943] 0.002545912405821582\n",
      "[81 81 81 81] 3351.860654087594\n"
     ]
    }
   ],
   "source": [
    "i_min0, y_min0, i_max0, y_max0 = teneva.optima_tt(Y0, k=10)\n",
    "print(i_min0, y_min0)\n",
    "print(i_max0, y_max0)"
   ]
  },
  {
   "cell_type": "markdown",
   "id": "7fa4f52a-3ada-44f6-a742-1d7b6cbe3ff1",
   "metadata": {},
   "source": [
    "**Note**: *Как можем видеть, `optima_tt` находит в данном случае точный оптимум TT-тензора.*"
   ]
  },
  {
   "cell_type": "markdown",
   "id": "e2f34708-9357-4101-a050-47d50af9dc8a",
   "metadata": {},
   "source": [
    "Для последующего анализа, вычтем из функции максимальное значение, чтобы минимум стал также и максимальным по модулю элементом. Мы не будем делать округление, чтобы сохранить точность минимума."
   ]
  },
  {
   "cell_type": "code",
   "execution_count": 7,
   "id": "56d8fbab-e673-483a-98a6-40e9b5e0ca60",
   "metadata": {},
   "outputs": [
    {
     "name": "stdout",
     "output_type": "stream",
     "text": [
      "  1025 1025 1025 1025 \n",
      "   / \\  / \\  / \\  / \\ \n",
      "  1    3    3    3    1  \n",
      "\n"
     ]
    }
   ],
   "source": [
    "Y0 = teneva.sub(Y0, y_max0)\n",
    "y_min_real -= y_max0\n",
    "y_min_appr -= y_max0\n",
    "\n",
    "teneva.show(Y0)"
   ]
  },
  {
   "cell_type": "markdown",
   "id": "d3d80c86-c819-4fbd-95dc-267727994ba9",
   "metadata": {},
   "source": [
    "Проверим результат \"optima_tt\" на обновленном TT-тензоре."
   ]
  },
  {
   "cell_type": "code",
   "execution_count": 8,
   "id": "db34b205-ccc7-4661-be22-c625399c833b",
   "metadata": {},
   "outputs": [
    {
     "name": "stdout",
     "output_type": "stream",
     "text": [
      "[943 943 943 943] -3351.858108175187 0.0025459124067310768\n",
      "[81 81 81 81] 9.094947017729282e-13 3351.860654087595\n"
     ]
    }
   ],
   "source": [
    "i_min, y_min, i_max, y_max = teneva.optima_tt(Y0, k=10)\n",
    "print(i_min, y_min, y_min+y_max0)\n",
    "print(i_max, y_max, y_max+y_max0)"
   ]
  },
  {
   "cell_type": "markdown",
   "id": "7d579f86-bce8-4538-bc8b-aa752151f303",
   "metadata": {},
   "source": [
    "**Note**: *Как можем видеть, `optima_tt` находит по-прежнему точный оптимум TT-тензора.*"
   ]
  },
  {
   "cell_type": "markdown",
   "id": "4362455c-fbf4-44f2-9bce-732dda5253d1",
   "metadata": {},
   "source": [
    "Таким образом, **теперь мы рассматриваем** смещенный тензор \"Y0\", имеющий минимальное значение \"y_min_appr\" в мульти-индексе \"i_min_appr\", которое также является и максимальным по модулю значением."
   ]
  },
  {
   "cell_type": "code",
   "execution_count": 9,
   "id": "14d3ba0c-28b8-494e-ae1d-e807180611e5",
   "metadata": {},
   "outputs": [
    {
     "name": "stdout",
     "output_type": "stream",
     "text": [
      "Min multi-index         : [943 943 943 943]\n",
      "Min value shifted (abs) :      3351.858108\n",
      "Min value               :         0.002546\n",
      "Rank                    :              3.0\n",
      "TT-tensor Y0            :\n",
      "  1025 1025 1025 1025 \n",
      "   / \\  / \\  / \\  / \\ \n",
      "  1    3    3    3    1  \n",
      "\n"
     ]
    }
   ],
   "source": [
    "print(f'Min multi-index         :', i_min_appr)\n",
    "print(f'Min value shifted (abs) : {abs(y_min_appr):-16.6f}')\n",
    "print(f'Min value               : {y_min_appr + y_max0:-16.6f}')\n",
    "print(f'Rank                    : {teneva.erank(Y0):-16.1f}')\n",
    "print(f'TT-tensor Y0            :')\n",
    "teneva.show(Y0)"
   ]
  },
  {
   "cell_type": "markdown",
   "id": "b84a9a6b-a38c-4e04-8425-f03f217af32e",
   "metadata": {},
   "source": [
    "## Простое возведение в степень"
   ]
  },
  {
   "cell_type": "markdown",
   "id": "b2de29e9-48c0-45d4-a5a2-d8309e5140cc",
   "metadata": {},
   "source": [
    "Мы можем явно умножить заданный TT-тензор поэлементно сам на себя, используя операцию \"mul\" в TT-формате."
   ]
  },
  {
   "cell_type": "code",
   "execution_count": 10,
   "id": "547e9edc-04a7-4488-89c8-0a7075e19ca5",
   "metadata": {},
   "outputs": [
    {
     "name": "stdout",
     "output_type": "stream",
     "text": [
      "Rank expected   :             81.0\n",
      "Rank            :             81.0\n",
      "Opt value       :      3351.858108\n",
      "TT-tensor Z1    :\n",
      "  1025 1025 1025 1025 \n",
      "   / \\  / \\  / \\  / \\ \n",
      "  1   81   81   81    1  \n",
      "\n"
     ]
    }
   ],
   "source": [
    "Z1 = Y0.copy()\n",
    "for _ in range(s-1):\n",
    "    Z1 = teneva.mul(Z1, Y0)\n",
    "\n",
    "y_opt = teneva.get(Z1, i_min_appr)**(1./s)\n",
    "\n",
    "print(f'Rank expected   : {teneva.erank(Y0)**s:-16.1f}')\n",
    "print(f'Rank            : {teneva.erank(Z1):-16.1f}')\n",
    "print(f'Opt value       : {y_opt:-16.6f}')\n",
    "print(f'TT-tensor Z1    :')\n",
    "teneva.show(Z1)"
   ]
  },
  {
   "cell_type": "markdown",
   "id": "9f421674-2588-4beb-b3b5-c156214f1717",
   "metadata": {},
   "source": [
    "Проверим возможность округления результата."
   ]
  },
  {
   "cell_type": "code",
   "execution_count": 11,
   "id": "4b7e9490-e176-48ef-a36f-abe2ac524528",
   "metadata": {},
   "outputs": [
    {
     "name": "stdout",
     "output_type": "stream",
     "text": [
      "e trunc = 1.0e-16 | rank =  27.43 | e y_min = 7.6e-11\n",
      "e trunc = 1.0e-15 | rank =  27.43 | e y_min = 7.6e-11\n",
      "e trunc = 1.0e-14 | rank =  27.43 | e y_min = 7.6e-11\n",
      "e trunc = 1.0e-13 | rank =  27.43 | e y_min = 7.6e-11\n",
      "e trunc = 1.0e-12 | rank =  26.62 | e y_min = 7.5e-11\n",
      "e trunc = 1.0e-11 | rank =  21.86 | e y_min = 2.6e-11\n",
      "e trunc = 1.0e-10 | rank =  11.92 | e y_min = 2.4e-10\n",
      "e trunc = 1.0e-09 | rank =   6.45 | e y_min = 4.7e-11\n",
      "e trunc = 1.0e-08 | rank =   5.00 | e y_min = 7.1e-11\n",
      "e trunc = 1.0e-07 | rank =   5.00 | e y_min = 7.1e-11\n",
      "e trunc = 1.0e-06 | rank =   5.00 | e y_min = 7.1e-11\n",
      "e trunc = 1.0e-05 | rank =   4.00 | e y_min = 4.7e-02\n",
      "e trunc = 1.0e-04 | rank =   4.00 | e y_min = 4.7e-02\n",
      "e trunc = 1.0e-03 | rank =   3.00 | e y_min = 1.7e+00\n",
      "e trunc = 1.0e-02 | rank =   2.00 | e y_min = 3.1e+01\n",
      "e trunc = 1.0e-01 | rank =   1.00 | e y_min = 2.7e+02\n"
     ]
    }
   ],
   "source": [
    "for e in range(16, 0, -1):\n",
    "    e = 10**(-e)\n",
    "    Z2 = teneva.truncate(Z1, e)\n",
    "    y_min = teneva.get(Z2, i_min_appr)**(1./s)\n",
    "    err = abs(abs(y_min) - abs(y_min_appr))\n",
    "    r = teneva.erank(Z2)\n",
    "    print(f'e trunc = {e:-7.1e} | rank = {r:-6.2f} | e y_min = {err:-7.1e}')"
   ]
  },
  {
   "cell_type": "markdown",
   "id": "6abc5d42-9d08-45c6-ab32-f594da8e9512",
   "metadata": {},
   "source": [
    "**Note**: *Как можно видеть, в данном случае мы можем округлить результат даже до ранга \"5\" без существенной потери точности.*"
   ]
  },
  {
   "cell_type": "markdown",
   "id": "3573e6a7-238c-4bed-939f-def067d71559",
   "metadata": {},
   "source": [
    "Проверим результат посредством явного округления до данного ранга \"5\"."
   ]
  },
  {
   "cell_type": "code",
   "execution_count": 12,
   "id": "d5aeb66f-c946-4292-b650-8c03784a77c8",
   "metadata": {},
   "outputs": [
    {
     "name": "stdout",
     "output_type": "stream",
     "text": [
      "e trunc = 1.0e-20 | rank =   5.00 | e y_min = 7.1e-11\n"
     ]
    }
   ],
   "source": [
    "e = 1.E-20\n",
    "Z2 = teneva.truncate(Z1, e, r=5)\n",
    "y_min = teneva.get(Z2, i_min_appr)**(1./s)\n",
    "err = abs(abs(y_min) - abs(y_min_appr))\n",
    "r = teneva.erank(Z2)\n",
    "print(f'e trunc = {e:-7.1e} | rank = {r:-6.2f} | e y_min = {err:-7.1e}')"
   ]
  },
  {
   "cell_type": "markdown",
   "id": "e4e2113f-e1c0-489c-a4da-0cf13595fa2e",
   "metadata": {},
   "source": [
    "## Простое возведение в степень различных функций"
   ]
  },
  {
   "cell_type": "markdown",
   "id": "b1e78186-582a-4dd9-ae7e-5b9a634b105e",
   "metadata": {},
   "source": [
    "Повторим вышеприведенный расчет для всех функций, для которых известна явная форма TT-ядер. Мы будем искать точность округления результата возведения в степень, при которой обеспечивается отклонение значения в мульти-индексе оптимума для результата не более чем на \"err_ok=1.E-6\" относительно исходного тензора."
   ]
  },
  {
   "cell_type": "code",
   "execution_count": 13,
   "id": "8d95aa7c-978e-4fbc-bb57-e98dedb1da57",
   "metadata": {},
   "outputs": [],
   "source": [
    "def find_trunc(Z1, s, i_min_appr, y_min_appr, err_ok=1.E-6):\n",
    "    # Находим точность округления \"e\", при которой абсолютная ошибка\n",
    "    # оптимума не более, чем \"err_ok\":\n",
    "    for e in range(20):\n",
    "        e = 10**(-e)\n",
    "        Z2 = teneva.truncate(Z1, e)\n",
    "        y_min = teneva.get(Z2, i_min_appr)**(1./s)\n",
    "        err = abs(abs(y_min) - abs(y_min_appr))\n",
    "        if err <= err_ok:\n",
    "            return Z2, e\n",
    "    return Z2, -1"
   ]
  },
  {
   "cell_type": "code",
   "execution_count": 14,
   "id": "9d88dcf9-fa18-45d1-b5e5-7b29b436f088",
   "metadata": {},
   "outputs": [
    {
     "name": "stdout",
     "output_type": "stream",
     "text": [
      "Alpine      | dy0 = 0.0e+00 | dy1 = 0.0e+00 | dy2 = 3.9e-13 | r full =  81.00 | r real =   5.00 | e trunc = 1.0e-07 | t work =   13.1198 | \n",
      "Exponential | dy0 = 0.0e+00 | dy1 = 0.0e+00 | dy2 = 2.5e-08 | r full =  16.00 | r real =   4.00 | e trunc = 1.0e-06 | t work =    1.0493 | \n",
      "Grienwank   | dy0 = 0.0e+00 | dy1 = 0.0e+00 | dy2 = 2.7e-06 | r full = 256.00 | r real =  97.16 | e trunc = -1.0e+00 | t work =  549.8700 | \n",
      "Qing        | dy0 = 7.2e-01 | dy1 = 0.0e+00 | dy2 = 3.8e-02 | r full =  81.00 | r real =  28.44 | e trunc = -1.0e+00 | t work =   32.2545 | \n",
      "Rastrigin   | dy0 = 0.0e+00 | dy1 = 0.0e+00 | dy2 = 4.2e-11 | r full =  81.00 | r real =   5.00 | e trunc = 1.0e-06 | t work =   11.7471 | \n",
      "Rosenbrock  | dy0 = 0.0e+00 | dy1 = 4.5e-01 | dy2 = 2.6e-07 | r full = 256.00 | r real =  13.07 | e trunc = 1.0e-09 | t work =  271.9155 | \n",
      "Schwefel    | dy0 = 2.5e-03 | dy1 = 0.0e+00 | dy2 = 7.1e-11 | r full =  81.00 | r real =   5.00 | e trunc = 1.0e-06 | t work =   12.6906 | \n"
     ]
    }
   ],
   "source": [
    "for func in teneva.func_demo_all(d, only_with_cores=True, only_with_min=True, only_with_min_x=True):\n",
    "    t = tpc()\n",
    "    \n",
    "    func.set_grid(n, kind='uni')\n",
    "    func.cores()\n",
    "    Y0 = func.Y\n",
    "    \n",
    "    x_min_real = func.x_min\n",
    "    y_min_real = func.y_min\n",
    "    \n",
    "    i_min_appr = teneva.poi_to_ind(x_min_real, func.a, func.b, func.n)\n",
    "    y_min_appr = teneva.get(Y0, i_min_appr)\n",
    "    dy0 = abs(y_min_real-y_min_appr)\n",
    "    \n",
    "    i_min0, y_min0, i_max0, y_max0 = teneva.optima_tt(Y0, k=10)\n",
    "    dy1 = abs(y_min_appr-y_min0)\n",
    "\n",
    "    Y0 = teneva.sub(Y0, y_max0)\n",
    "    y_min_real -= y_max0\n",
    "    y_min_appr -= y_max0\n",
    "\n",
    "    Z1 = Y0.copy()\n",
    "    for _ in range(s-1):\n",
    "        Z1 = teneva.mul(Z1, Y0)\n",
    "\n",
    "    Z2, e = find_trunc(Z1, s, i_min_appr, y_min_appr)\n",
    "    y_opt = teneva.get(Z2, i_min_appr)**(1./s)\n",
    "    dy2 = abs(abs(y_min_appr) - abs(y_opt))\n",
    "    r = teneva.erank(Z2)\n",
    "\n",
    "    text = ''\n",
    "    text += func.name + ' '*max(0, 12-len(func.name)) + '| '\n",
    "    text += f'dy0 = {dy0:7.1e} | '\n",
    "    text += f'dy1 = {dy1:7.1e} | '\n",
    "    text += f'dy2 = {dy2:7.1e} | '\n",
    "    text += f'r full = {teneva.erank(Y0)**s:-6.2f} | '\n",
    "    text += f'r real = {r:-6.2f} | '\n",
    "    text += f'e trunc = {e:-7.1e} | '\n",
    "    text += f't work = {tpc()-t:-9.4f} | '\n",
    "    print(text)"
   ]
  },
  {
   "cell_type": "markdown",
   "id": "927e7c63-e7fe-4b79-8485-e25ec3fe50cf",
   "metadata": {},
   "source": [
    "**Note**: *Как можно видеть, в большинстве случаев возможно очень существенное округление результата возведения в степень без значительной потери точности оптимума. Однако для функций Grienwank и Qing не удалось найти подходящее округление (обеспечивающее отклонение оптимума не более чем на \"1.E-6\".*"
   ]
  },
  {
   "cell_type": "markdown",
   "id": "529813b0-ed32-4804-9562-34105880c9dd",
   "metadata": {},
   "source": [
    "**Note**: *Результаты имеют следующий смысл. Дискретный TT-тензор имеет в мульти-индексе, ближайшем к оптимуму, отклонение значения относительно реального оптимума функции на \"dy0\". Метод \"optima_tt\" находит оптимум с ошибкой \"dy1\" относительно значения тензора, а возведение в степень с округлением ведет к ошибке \"dy2\" относительно значения тензора, при этом \"r real\" - это ранг округленного тензора, \"r full\" - исходный ранг результата возведения в степень, а \"e trunc\" - использованная точность округления.*"
   ]
  },
  {
   "cell_type": "markdown",
   "id": "13d6507d-c61b-444a-bf32-0907fe63b8be",
   "metadata": {},
   "source": [
    "# 2. Явное умножение, большая степень"
   ]
  },
  {
   "cell_type": "markdown",
   "id": "5bfc2557-6fe2-4ed7-ba86-c4de9d1479ec",
   "metadata": {},
   "source": [
    "Рассмотрим только те функции, которые имеют оптимум в нуле. Подготовим набор TT-тензоров для возведения в степень."
   ]
  },
  {
   "cell_type": "code",
   "execution_count": 6,
   "id": "e0f69fca-70a9-42b1-a4d8-8cbdc9fbefe5",
   "metadata": {},
   "outputs": [
    {
     "name": "stdout",
     "output_type": "stream",
     "text": [
      "Alpine      | r =   3.00 | y =             -864.0927477 | t =    3.017 | \n",
      "Exponential | r =   2.00 | y =               -1.0000000 | t =    1.778 | \n",
      "Rastrigin   | r =   3.00 | y =            -3999.1547013 | t =    2.413 | \n",
      "Rosenbrock  | r =   4.00 | y =          -386680.6600335 | t =    3.418 | \n",
      "Schwefel    | r =   3.00 | y =           -83775.8442853 | t =    2.285 | \n"
     ]
    }
   ],
   "source": [
    "d    = 100       # Размерность функции\n",
    "n    = 2**6 + 1  # Число узлов сетки\n",
    "data = []\n",
    "\n",
    "for func in teneva.func_demo_all(d, names=['Alpine', 'Exponential', 'Rastrigin', 'Rosenbrock', 'Schwefel']):\n",
    "    func.set_grid(n, kind='uni')\n",
    "    \n",
    "    t = tpc()\n",
    "    func.cores()\n",
    "    t = tpc() - t\n",
    "    \n",
    "    y_max = teneva.optima_tt(func.Y, k=10)[-1]\n",
    "    func.Y = teneva.sub(func.Y, y_max)\n",
    "    i = teneva.poi_to_ind(func.x_min, func.a, func.b, func.n)\n",
    "    y = teneva.get(func.Y, i)\n",
    "    data.append({'name': func.name, 'Y': func.Y, 'i': i, 'y': y})\n",
    "\n",
    "    text = ''\n",
    "    text += func.name + ' '*max(0, 12-len(func.name)) + '| '\n",
    "    text += f'r = {teneva.erank(func.Y):-6.2f} | '\n",
    "    text += f'y = {y:-24.7f} | '\n",
    "    text += f't = {t:-8.3f} | '\n",
    "    print(text)"
   ]
  },
  {
   "cell_type": "markdown",
   "id": "1637050f-755e-4509-baed-500767efee2e",
   "metadata": {},
   "source": [
    "Будем возводить в степень, округляя результат **после каждой операции**. Мы пробуем разные значения степени (s)."
   ]
  },
  {
   "cell_type": "code",
   "execution_count": 7,
   "id": "0b8319e3-ac7d-4e48-bddb-a65b8c5cb402",
   "metadata": {},
   "outputs": [],
   "source": [
    "def run(data, s, e_trunc=1.E-12):\n",
    "    print('-'*90 + f'\\n-> RUN MUL  | d = {d:-3d}     | n = {n:-5d}           | power = {s:-2d}         | e_trunc = {e_trunc:-7.1e}')\n",
    "    \n",
    "    for item in data:\n",
    "        t = tpc()\n",
    "        Z = item['Y'].copy()\n",
    "        for _ in range(s-1):\n",
    "            Z = teneva.mul(Z, item['Y'])\n",
    "            Z = teneva.truncate(Z, e_trunc)\n",
    "        t = tpc() - t\n",
    "\n",
    "        z = teneva.get(Z, item['i'])**(1./s)\n",
    "        e = abs(abs(item['y']) - abs(z))\n",
    "\n",
    "        text = ''\n",
    "        text += item['name'] + ' '*max(0, 12-len(item['name'])) + '| '\n",
    "        text += f'e = {e:7.1e} | '\n",
    "        text += f'r full = {teneva.erank(item[\"Y\"])**s:-10.1f} | '\n",
    "        text += f'r real = {teneva.erank(Z):-9.1f} | '\n",
    "        text += f't = {t:-8.3f}      | '\n",
    "        print(text)"
   ]
  },
  {
   "cell_type": "code",
   "execution_count": 8,
   "id": "49aafab6-4f22-456e-82da-72467b052194",
   "metadata": {},
   "outputs": [
    {
     "name": "stdout",
     "output_type": "stream",
     "text": [
      "------------------------------------------------------------------------------------------\n",
      "-> RUN MUL  | d = 100     | n =    65           | power =  2         | e_trunc = 1.0e-12\n",
      "Alpine      | e = 6.3e-12 | r full =        9.0 | r real =       4.8 | t =    0.044      | \n",
      "Exponential | e = 1.9e-13 | r full =        4.0 | r real =       1.0 | t =    0.023      | \n",
      "Rastrigin   | e = 1.5e-11 | r full =        9.0 | r real =       4.9 | t =    0.037      | \n",
      "Rosenbrock  | e = 1.2e-09 | r full =       16.0 | r real =       8.5 | t =    0.074      | \n",
      "Schwefel    | e = 6.8e-09 | r full =        9.0 | r real =       4.8 | t =    0.041      | \n",
      "------------------------------------------------------------------------------------------\n",
      "-> RUN MUL  | d = 100     | n =    65           | power =  4         | e_trunc = 1.0e-12\n",
      "Alpine      | e = 8.1e-08 | r full =       81.0 | r real =       5.8 | t =    0.160      | \n",
      "Exponential | e = 9.7e-14 | r full =       16.0 | r real =       1.0 | t =    0.063      | \n",
      "Rastrigin   | e = 1.8e-07 | r full =       81.0 | r real =       5.6 | t =    0.165      | \n",
      "Rosenbrock  | e = 3.5e-04 | r full =      256.0 | r real =      13.7 | t =    0.698      | \n",
      "Schwefel    | e = 5.4e-06 | r full =       81.0 | r real =       5.3 | t =    0.160      | \n",
      "------------------------------------------------------------------------------------------\n",
      "-> RUN MUL  | d = 100     | n =    65           | power =  6         | e_trunc = 1.0e-12\n",
      "Alpine      | e = 1.1e-03 | r full =      729.0 | r real =       5.7 | t =    0.354      | \n",
      "Exponential | e = 6.4e-14 | r full =       64.0 | r real =       1.0 | t =    0.105      | \n",
      "Rastrigin   | e = 3.9e-02 | r full =      729.0 | r real =       6.6 | t =    0.337      | \n",
      "Rosenbrock  | e = 3.0e-03 | r full =     4096.0 | r real =      16.4 | t =    2.388      | \n",
      "Schwefel    | e = 2.3e+00 | r full =      729.0 | r real =       6.5 | t =    0.329      | \n",
      "------------------------------------------------------------------------------------------\n",
      "-> RUN MUL  | d = 100     | n =    65           | power =  8         | e_trunc = 1.0e-12\n",
      "Alpine      | e = 7.5e-04 | r full =     6561.0 | r real =       6.6 | t =    0.521      | \n",
      "Exponential | e = 4.8e-14 | r full =      256.0 | r real =       1.0 | t =    0.149      | \n",
      "Rastrigin   | e = 5.0e-02 | r full =     6561.0 | r real =       6.7 | t =    0.569      | \n",
      "Rosenbrock  | e = 3.2e-03 | r full =    65536.0 | r real =      16.9 | t =    5.182      | \n",
      "Schwefel    | e = 4.1e+00 | r full =     6561.0 | r real =       6.6 | t =    0.560      | \n",
      "------------------------------------------------------------------------------------------\n",
      "-> RUN MUL  | d = 100     | n =    65           | power = 10         | e_trunc = 1.0e-12\n",
      "Alpine      | e = 2.6e-04 | r full =    59049.0 | r real =       6.7 | t =    0.737      | \n",
      "Exponential | e = 3.8e-14 | r full =     1024.0 | r real =       1.0 | t =    0.177      | \n",
      "Rastrigin   | e = 5.2e-01 | r full =    59049.0 | r real =       6.8 | t =    0.773      | \n",
      "Rosenbrock  | e = 5.8e-03 | r full =  1048576.0 | r real =      19.8 | t =    7.803      | \n",
      "Schwefel    | e = 4.2e+01 | r full =    59049.0 | r real =       6.8 | t =    0.773      | \n"
     ]
    }
   ],
   "source": [
    "for s in [2, 4, 6, 8, 10]:\n",
    "    run(data, s)"
   ]
  },
  {
   "cell_type": "markdown",
   "id": "e2bc0bdc-bf8a-4f5a-b780-8ed374ce98ea",
   "metadata": {},
   "source": [
    "# 3. Возведение в степень с использованием `cross_act`"
   ]
  },
  {
   "cell_type": "markdown",
   "id": "c2a56c7f-cee6-4866-a00a-1375b050e2fe",
   "metadata": {},
   "source": [
    "Проверим эффективность применения для расматриваемой задачи возведения в степень специализированного метода \"cross_act\" для выполнения операций с TT-тензорами. Мы будем использовать набор TT-тензоров, построенный в предыдущем разделе."
   ]
  },
  {
   "cell_type": "code",
   "execution_count": 11,
   "id": "6d9bb169-3cc2-4dbc-9166-ed857495858a",
   "metadata": {},
   "outputs": [],
   "source": [
    "def run_cross_act(data, s, e_trunc=1.E-12, act_e=1.E-12, act_nswp=10, act_r=1, act_dr=2, act_dr2=1):\n",
    "    print('-'*90 + f'\\n-> RUN ACT  | d = {d:-3d}     | n = {n:-5d}           | power = {s:-2d}         | e_trunc = {e_trunc:-7.1e}')\n",
    "    \n",
    "    for item in data:\n",
    "        def f(X):\n",
    "            return np.prod(X, axis=1)\n",
    "    \n",
    "        t = tpc()\n",
    "        Z = teneva.tensor_rand(teneva.shape(item['Y']), r=act_r)\n",
    "        Z = teneva.cross_act(f, [item['Y']]*s, Z,\n",
    "            e=act_e, nswp=act_nswp, r=9999, dr=act_dr, dr2=act_dr2, log=False)\n",
    "        Z = teneva.truncate(Z, e=e_trunc)\n",
    "        t = tpc() - t\n",
    "        \n",
    "        z = teneva.get(Z, item['i'])**(1./s)\n",
    "        e = abs(abs(item['y']) - abs(z))\n",
    "\n",
    "        text = ''\n",
    "        text += item['name'] + ' '*max(0, 12-len(item['name'])) + '| '\n",
    "        text += f'e = {e:7.1e} | '\n",
    "        text += f'r full = {teneva.erank(item[\"Y\"])**s:-10.1f} | '\n",
    "        text += f'r real = {teneva.erank(Z):-9.1f} | '\n",
    "        text += f't = {t:-8.3f}      | '\n",
    "        print(text)"
   ]
  },
  {
   "cell_type": "code",
   "execution_count": 12,
   "id": "2fd7d5d3-4696-4675-96d9-74cec373d6f3",
   "metadata": {},
   "outputs": [
    {
     "name": "stdout",
     "output_type": "stream",
     "text": [
      "------------------------------------------------------------------------------------------\n",
      "-> RUN ACT  | d = 100     | n =    65           | power =  2         | e_trunc = 1.0e-12\n",
      "Alpine      | e = 2.8e-11 | r full =        9.0 | r real =       4.1 | t =    0.508      | \n",
      "Exponential | e = 1.3e-15 | r full =        4.0 | r real =       1.0 | t =    0.452      | \n",
      "Rastrigin   | e = 3.4e-11 | r full =        9.0 | r real =       4.1 | t =    0.477      | \n",
      "Rosenbrock  | e = 2.7e-06 | r full =       16.0 | r real =       7.1 | t =    0.863      | \n",
      "Schwefel    | e = 4.4e-11 | r full =        9.0 | r real =       4.2 | t =    0.499      | \n",
      "------------------------------------------------------------------------------------------\n",
      "-> RUN ACT  | d = 100     | n =    65           | power =  4         | e_trunc = 1.0e-12\n",
      "Alpine      | e = 1.0e-03 | r full =       81.0 | r real =       6.0 | t =    0.940      | \n",
      "Exponential | e = 1.1e-16 | r full =       16.0 | r real =       1.0 | t =    0.524      | \n",
      "Rastrigin   | e = 1.6e-03 | r full =       81.0 | r real =       6.2 | t =    0.925      | \n",
      "Rosenbrock  | e = 3.6e-04 | r full =      256.0 | r real =      13.7 | t =    6.932      | \n",
      "Schwefel    | e = 4.2e-03 | r full =       81.0 | r real =       6.2 | t =    0.615      | \n",
      "------------------------------------------------------------------------------------------\n",
      "-> RUN ACT  | d = 100     | n =    65           | power =  6         | e_trunc = 1.0e-12\n",
      "Alpine      | e = 1.5e-04 | r full =      729.0 | r real =       6.5 | t =    1.083      | \n",
      "Exponential | e = 1.6e-15 | r full =       64.0 | r real =       1.0 | t =    0.600      | \n",
      "Rastrigin   | e = 3.0e-03 | r full =      729.0 | r real =       6.9 | t =    1.078      | \n",
      "Rosenbrock  | e = 7.6e-05 | r full =     4096.0 | r real =      16.6 | t =   11.674      | \n",
      "Schwefel    | e = 1.2e+00 | r full =      729.0 | r real =       6.6 | t =    1.532      | \n",
      "------------------------------------------------------------------------------------------\n",
      "-> RUN ACT  | d = 100     | n =    65           | power =  8         | e_trunc = 1.0e-12\n",
      "Alpine      | e = 1.1e-05 | r full =     6561.0 | r real =       7.7 | t =    5.478      | \n",
      "Exponential | e = 3.3e-16 | r full =      256.0 | r real =       1.0 | t =    0.790      | \n",
      "Rastrigin   | e = 3.7e-02 | r full =     6561.0 | r real =       8.1 | t =    5.758      | \n",
      "Rosenbrock  | e = 2.3e-03 | r full =    65536.0 | r real =      18.0 | t =   21.153      | \n",
      "Schwefel    | e = 3.4e+00 | r full =     6561.0 | r real =       7.6 | t =    5.730      | \n",
      "------------------------------------------------------------------------------------------\n",
      "-> RUN ACT  | d = 100     | n =    65           | power = 10         | e_trunc = 1.0e-12\n",
      "Alpine      | e = 3.7e-04 | r full =    59049.0 | r real =       7.2 | t =    6.783      | \n",
      "Exponential | e = 4.4e-16 | r full =     1024.0 | r real =       1.0 | t =    0.857      | \n",
      "Rastrigin   | e = 1.4e-01 | r full =    59049.0 | r real =       8.3 | t =    7.121      | \n",
      "Rosenbrock  | e = 3.1e-03 | r full =  1048576.0 | r real =      19.5 | t =   35.343      | \n",
      "Schwefel    | e = 4.3e+00 | r full =    59049.0 | r real =       8.4 | t =    6.849      | \n"
     ]
    }
   ],
   "source": [
    "for s in [2, 4, 6, 8, 10]:\n",
    "    run_cross_act(data, s, act_e=1.E-12, act_nswp=10, act_r=1, act_dr=2, act_dr2=1)"
   ]
  },
  {
   "cell_type": "code",
   "execution_count": 13,
   "id": "7a001f09-6d9e-4dea-a24c-ebfa1f2fa976",
   "metadata": {},
   "outputs": [
    {
     "name": "stdout",
     "output_type": "stream",
     "text": [
      "------------------------------------------------------------------------------------------\n",
      "-> RUN ACT  | d = 100     | n =    65           | power =  2         | e_trunc = 1.0e-12\n",
      "Alpine      | e = 1.1e-12 | r full =        9.0 | r real =       4.8 | t =    0.650      | \n",
      "Exponential | e = 4.4e-16 | r full =        4.0 | r real =       1.0 | t =    0.568      | \n",
      "Rastrigin   | e = 1.0e-10 | r full =        9.0 | r real =       4.8 | t =    0.646      | \n",
      "Rosenbrock  | e = 1.8e-06 | r full =       16.0 | r real =       7.7 | t =    0.888      | \n",
      "Schwefel    | e = 4.1e-09 | r full =        9.0 | r real =       4.8 | t =    0.655      | \n",
      "------------------------------------------------------------------------------------------\n",
      "-> RUN ACT  | d = 100     | n =    65           | power =  4         | e_trunc = 1.0e-12\n",
      "Alpine      | e = 3.3e-06 | r full =       81.0 | r real =       6.8 | t =    0.849      | \n",
      "Exponential | e = 6.7e-16 | r full =       16.0 | r real =       1.0 | t =    0.673      | \n",
      "Rastrigin   | e = 3.3e-04 | r full =       81.0 | r real =       6.8 | t =    0.860      | \n",
      "Rosenbrock  | e = 1.0e-05 | r full =      256.0 | r real =      15.3 | t =    6.120      | \n",
      "Schwefel    | e = 1.2e-03 | r full =       81.0 | r real =       6.8 | t =    0.880      | \n",
      "------------------------------------------------------------------------------------------\n",
      "-> RUN ACT  | d = 100     | n =    65           | power =  6         | e_trunc = 1.0e-12\n",
      "Alpine      | e = 3.1e-05 | r full =      729.0 | r real =       7.8 | t =    1.053      | \n",
      "Exponential | e = 1.3e-15 | r full =       64.0 | r real =       1.0 | t =    0.819      | \n",
      "Rastrigin   | e = 5.1e-02 | r full =      729.0 | r real =       7.7 | t =    1.100      | \n",
      "Rosenbrock  | e = 1.0e-03 | r full =     4096.0 | r real =      16.0 | t =   14.619      | \n",
      "Schwefel    | e = 5.3e-02 | r full =      729.0 | r real =       7.8 | t =    0.925      | \n",
      "------------------------------------------------------------------------------------------\n",
      "-> RUN ACT  | d = 100     | n =    65           | power =  8         | e_trunc = 1.0e-12\n",
      "Alpine      | e = 5.6e-05 | r full =     6561.0 | r real =       6.9 | t =    1.542      | \n",
      "Exponential | e = 2.2e-16 | r full =      256.0 | r real =       1.0 | t =    0.908      | \n",
      "Rastrigin   | e = 5.7e-02 | r full =     6561.0 | r real =       6.6 | t =    1.671      | \n",
      "Rosenbrock  | e = 3.8e-03 | r full =    65536.0 | r real =      18.3 | t =   31.223      | \n",
      "Schwefel    | e = 1.2e+01 | r full =     6561.0 | r real =       6.4 | t =    1.641      | \n",
      "------------------------------------------------------------------------------------------\n",
      "-> RUN ACT  | d = 100     | n =    65           | power = 10         | e_trunc = 1.0e-12\n",
      "Alpine      | e = 5.7e-04 | r full =    59049.0 | r real =       8.2 | t =    4.212      | \n",
      "Exponential | e = 2.2e-16 | r full =     1024.0 | r real =       1.0 | t =    0.918      | \n",
      "Rastrigin   | e = 8.6e-02 | r full =    59049.0 | r real =       8.2 | t =    7.136      | \n",
      "Rosenbrock  | e = 2.3e-03 | r full =  1048576.0 | r real =      19.7 | t =   40.055      | \n",
      "Schwefel    | e = 2.2e+01 | r full =    59049.0 | r real =       8.6 | t =    7.790      | \n"
     ]
    }
   ],
   "source": [
    "for s in [2, 4, 6, 8, 10]:\n",
    "    run_cross_act(data, s, act_e=1.E-12, act_nswp=10, act_r=3, act_dr=3, act_dr2=0)"
   ]
  },
  {
   "cell_type": "code",
   "execution_count": 16,
   "id": "10ac2b2a-c675-4791-baca-e88ecee47979",
   "metadata": {},
   "outputs": [
    {
     "name": "stdout",
     "output_type": "stream",
     "text": [
      "------------------------------------------------------------------------------------------\n",
      "-> RUN ACT  | d = 100     | n =    65           | power =  2         | e_trunc = 1.0e-12\n",
      "Alpine      | e = 2.4e-12 | r full =        9.0 | r real =       5.6 | t =    0.856      | \n",
      "Exponential | e = 2.2e-16 | r full =        4.0 | r real =       1.0 | t =    0.653      | \n",
      "Rastrigin   | e = 6.1e-11 | r full =        9.0 | r real =       5.6 | t =    0.783      | \n",
      "Rosenbrock  | e = 1.2e-06 | r full =       16.0 | r real =       8.5 | t =    0.938      | \n",
      "Schwefel    | e = 4.3e-09 | r full =        9.0 | r real =       5.5 | t =    0.706      | \n",
      "------------------------------------------------------------------------------------------\n",
      "-> RUN ACT  | d = 100     | n =    65           | power =  4         | e_trunc = 1.0e-12\n",
      "Alpine      | e = 9.3e-07 | r full =       81.0 | r real =       7.2 | t =    0.879      | \n",
      "Exponential | e = 7.8e-16 | r full =       16.0 | r real =       1.0 | t =    0.734      | \n",
      "Rastrigin   | e = 1.1e-05 | r full =       81.0 | r real =       7.5 | t =    0.889      | \n",
      "Rosenbrock  | e = 3.4e-05 | r full =      256.0 | r real =      13.1 | t =    3.953      | \n",
      "Schwefel    | e = 3.9e-03 | r full =       81.0 | r real =       7.3 | t =    0.919      | \n",
      "------------------------------------------------------------------------------------------\n",
      "-> RUN ACT  | d = 100     | n =    65           | power =  6         | e_trunc = 1.0e-12\n",
      "Alpine      | e = 6.4e-06 | r full =      729.0 | r real =       7.8 | t =    1.000      | \n",
      "Exponential | e = 6.7e-16 | r full =       64.0 | r real =       1.0 | t =    0.807      | \n",
      "Rastrigin   | e = 2.2e-02 | r full =      729.0 | r real =       8.0 | t =    1.037      | \n",
      "Rosenbrock  | e = 1.5e-04 | r full =     4096.0 | r real =      15.5 | t =   19.743      | \n",
      "Schwefel    | e = 4.9e-03 | r full =      729.0 | r real =       8.0 | t =    1.009      | \n",
      "------------------------------------------------------------------------------------------\n",
      "-> RUN ACT  | d = 100     | n =    65           | power =  8         | e_trunc = 1.0e-12\n",
      "Alpine      | e = 8.9e-04 | r full =     6561.0 | r real =       7.3 | t =    1.302      | \n",
      "Exponential | e = 2.2e-16 | r full =      256.0 | r real =       1.0 | t =    0.919      | \n",
      "Rastrigin   | e = 3.5e-01 | r full =     6561.0 | r real =       7.7 | t =    1.242      | \n",
      "Rosenbrock  | e = 1.5e-03 | r full =    65536.0 | r real =      17.5 | t =   26.458      | \n",
      "Schwefel    | e = 1.2e+02 | r full =     6561.0 | r real =       8.1 | t =    1.194      | \n",
      "------------------------------------------------------------------------------------------\n",
      "-> RUN ACT  | d = 100     | n =    65           | power = 10         | e_trunc = 1.0e-12\n",
      "Alpine      | e = 9.4e-04 | r full =    59049.0 | r real =       8.1 | t =    1.629      | \n",
      "Exponential | e = 2.2e-16 | r full =     1024.0 | r real =       1.0 | t =    0.992      | \n",
      "Rastrigin   | e = 1.6e-02 | r full =    59049.0 | r real =       8.2 | t =    1.920      | \n",
      "Rosenbrock  | e = 2.9e-03 | r full =  1048576.0 | r real =      18.3 | t =   31.817      | \n",
      "Schwefel    | e = 2.2e+01 | r full =    59049.0 | r real =       8.7 | t =    1.841      | \n"
     ]
    }
   ],
   "source": [
    "for s in [2, 4, 6, 8, 10]:\n",
    "    run_cross_act(data, s, act_e=1.E-10, act_nswp=10, act_r=3, act_dr=4, act_dr2=2)"
   ]
  },
  {
   "cell_type": "markdown",
   "id": "42ad0007-c1cc-4d0a-ab5a-168301ec57b3",
   "metadata": {},
   "source": [
    "---"
   ]
  }
 ],
 "metadata": {
  "kernelspec": {
   "display_name": "Python 3",
   "language": "python",
   "name": "python3"
  },
  "language_info": {
   "codemirror_mode": {
    "name": "ipython",
    "version": 3
   },
   "file_extension": ".py",
   "mimetype": "text/x-python",
   "name": "python",
   "nbconvert_exporter": "python",
   "pygments_lexer": "ipython3",
   "version": "3.8.8"
  }
 },
 "nbformat": 4,
 "nbformat_minor": 5
}
