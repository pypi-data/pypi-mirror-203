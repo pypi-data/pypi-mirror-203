{
 "cells": [
  {
   "cell_type": "code",
   "execution_count": 1,
   "id": "9941ed2c-6272-4144-8c96-4e800f0b5c49",
   "metadata": {},
   "outputs": [],
   "source": [
    "import numpy as np\n",
    "import teneva\n",
    "from time import perf_counter as tpc\n",
    "np.random.seed(42)"
   ]
  },
  {
   "cell_type": "code",
   "execution_count": 2,
   "id": "6020f053-79e0-4f03-b471-307278a08539",
   "metadata": {},
   "outputs": [],
   "source": [
    "d = 25      # Dimension of the function\n",
    "n = 64      # Shape of the tensor\n",
    "a = -100.   # Lower bounds for spatial grid\n",
    "b = +100.   # Upper bounds for spatial grid"
   ]
  },
  {
   "cell_type": "code",
   "execution_count": 3,
   "id": "292818e4-17df-484a-9e78-3ff5ef62a9f0",
   "metadata": {},
   "outputs": [],
   "source": [
    "def func(I):\n",
    "    \"\"\"Schaffer function.\"\"\"\n",
    "    X = teneva.ind_to_poi(I, a, b, n)\n",
    "    Z = X[:, :-1]**2 + X[:, 1:]**2\n",
    "    Y = 0.5 + (np.sin(np.sqrt(Z))**2 - 0.5) / (1. + 0.001 * Z)**2\n",
    "    return np.sum(Y, axis=1)"
   ]
  },
  {
   "cell_type": "code",
   "execution_count": 4,
   "id": "01f924d7-c5c6-4843-96fc-acdf2befbe68",
   "metadata": {},
   "outputs": [],
   "source": [
    "r_max = 20\n",
    "m_tst = int(1.E+4)\n",
    "I_tst = np.vstack([np.random.choice(n, m_tst) for i in range(d)]).T\n",
    "Y_tst = func(I_tst)"
   ]
  },
  {
   "cell_type": "code",
   "execution_count": 5,
   "id": "5d844cf8-c8f4-428e-90dc-21d91d81858b",
   "metadata": {},
   "outputs": [
    {
     "name": "stdout",
     "output_type": "stream",
     "text": [
      "#  1 | m: 9.6e+03 | r: 1.0e+00 | e: 2.3e-01 | t:    1.56    ||| VS | r: 1.0e+00 | e: 2.3e-01 | t:    1.10\n",
      "#  2 | m: 1.9e+04 | r: 2.0e+00 | e: 1.2e-01 | t:    3.10    ||| VS | r: 2.0e+00 | e: 3.9e-02 | t:    1.40\n",
      "#  3 | m: 2.9e+04 | r: 3.0e+00 | e: 1.9e-01 | t:    4.99    ||| VS | r: 3.0e+00 | e: 4.4e-02 | t:    1.96\n",
      "#  4 | m: 4.5e+04 | r: 4.0e+00 | e: 6.5e-02 | t:    6.42    ||| VS | r: 4.0e+00 | e: 3.6e-02 | t:    1.22\n",
      "#  5 | m: 5.4e+04 | r: 5.0e+00 | e: 5.3e-02 | t:    7.81    ||| VS | r: 5.0e+00 | e: 3.3e-02 | t:    1.44\n",
      "#  6 | m: 6.7e+04 | r: 5.9e+00 | e: 1.3e-01 | t:    9.40    ||| VS | r: 6.0e+00 | e: 2.9e-02 | t:    1.52\n",
      "#  7 | m: 8.0e+04 | r: 6.9e+00 | e: 3.4e-02 | t:   11.16    ||| VS | r: 7.0e+00 | e: 2.7e-02 | t:    1.60\n",
      "#  8 | m: 9.0e+04 | r: 7.9e+00 | e: 1.0e-01 | t:   12.84    ||| VS | r: 8.0e+00 | e: 1.1e+00 | t:    1.77\n",
      "#  9 | m: 1.0e+05 | r: 8.9e+00 | e: 3.5e-02 | t:   14.78    ||| VS | r: 9.0e+00 | e: 1.0e+00 | t:    1.92\n",
      "# 10 | m: 1.2e+05 | r: 9.8e+00 | e: 6.1e-02 | t:   16.77    ||| VS | r: 1.0e+01 | e: 1.0e+00 | t:    1.98\n",
      "# 11 | m: 1.2e+05 | r: 1.1e+01 | e: 8.5e-02 | t:   18.93    ||| VS | r: 1.1e+01 | e: 1.0e+00 | t:    2.09\n",
      "# 12 | m: 1.4e+05 | r: 1.2e+01 | e: 1.9e-01 | t:   21.14    ||| VS | r: 1.2e+01 | e: 1.0e+00 | t:    2.39\n",
      "# 13 | m: 1.5e+05 | r: 1.3e+01 | e: 5.3e-02 | t:   23.45    ||| VS | r: 1.3e+01 | e: 1.0e+00 | t:    2.42\n",
      "# 14 | m: 1.6e+05 | r: 1.4e+01 | e: 4.2e-02 | t:   26.05    ||| VS | r: 1.4e+01 | e: 1.0e+00 | t:    2.66\n",
      "# 15 | m: 1.7e+05 | r: 1.5e+01 | e: 8.2e-02 | t:   28.63    ||| VS | r: 1.5e+01 | e: 1.0e+00 | t:    2.94\n",
      "# 16 | m: 1.8e+05 | r: 1.6e+01 | e: 1.2e-01 | t:   31.36    ||| VS | r: 1.6e+01 | e: 1.0e+00 | t:    2.94\n",
      "# 17 | m: 1.9e+05 | r: 1.7e+01 | e: 4.2e-02 | t:   34.34    ||| VS | r: 1.7e+01 | e: 1.0e+00 | t:    3.15\n",
      "# 18 | m: 2.0e+05 | r: 1.8e+01 | e: 4.3e-02 | t:   37.69    ||| VS | r: 1.8e+01 | e: 1.0e+00 | t:    3.37\n",
      "# 19 | m: 2.1e+05 | r: 1.8e+01 | e: 1.4e-01 | t:   40.99    ||| VS | r: 1.9e+01 | e: 1.0e+00 | t:    3.64\n",
      "# 20 | m: 2.2e+05 | r: 1.9e+01 | e: 5.4e-02 | t:   44.67    ||| VS | r: 2.0e+01 | e: 1.0e+00 | t:    3.81\n"
     ]
    }
   ],
   "source": [
    "Y = None\n",
    "m = 0\n",
    "t = 0\n",
    "\n",
    "for r_curr in range(1, r_max+1):\n",
    "    t_ = tpc()\n",
    "    \n",
    "    def func_curr(I):\n",
    "        y = func(I)\n",
    "        y -= 0. if Y is None else teneva.get_many(Y, I)\n",
    "        return y \n",
    "\n",
    "    info = {}\n",
    "    Y_curr = teneva.tensor_rand([n]*d, r=1)\n",
    "    Y_curr = teneva.cross(func_curr, Y_curr, e=1.E-12, dr_max=0, info=info, log=False)\n",
    "\n",
    "    Y = teneva.copy(Y_curr) if Y is None else teneva.add(Y, Y_curr)\n",
    "    Y = teneva.truncate(Y, 1.E-12)\n",
    "\n",
    "    r = teneva.erank(Y)\n",
    "    e = teneva.accuracy_on_data(Y, I_tst, Y_tst)\n",
    "    m += info['m']\n",
    "    t += tpc() - t_\n",
    "    \n",
    "    # VS:\n",
    "    t_ = tpc()\n",
    "\n",
    "    Y2 = teneva.tensor_rand([n]*d, r=r_curr)\n",
    "    Y2 = teneva.cross(func, Y2, m=m, dr_max=0, log=False)\n",
    "    Y2 = teneva.truncate(Y2, 1.E-12)\n",
    "\n",
    "    r2 = teneva.erank(Y2)\n",
    "    e2 = teneva.accuracy_on_data(Y2, I_tst, Y_tst)\n",
    "    t2 = tpc() - t_\n",
    "    \n",
    "    text = ''\n",
    "    text += f'# {r_curr:-2d} | m: {m:-7.1e} | r: {r:-7.1e} | e: {e:-7.1e} | t: {t:-7.2f}'\n",
    "    text += f'    ||| VS | r: {r2:-7.1e} | e: {e2:-7.1e} | t: {t2:-7.2f}'\n",
    "    print(text)"
   ]
  },
  {
   "cell_type": "markdown",
   "id": "5157c326-a02c-41fc-b82d-af0d55ddfb18",
   "metadata": {},
   "source": [
    "---"
   ]
  }
 ],
 "metadata": {
  "kernelspec": {
   "display_name": "Python 3",
   "language": "python",
   "name": "python3"
  },
  "language_info": {
   "codemirror_mode": {
    "name": "ipython",
    "version": 3
   },
   "file_extension": ".py",
   "mimetype": "text/x-python",
   "name": "python",
   "nbconvert_exporter": "python",
   "pygments_lexer": "ipython3",
   "version": "3.8.8"
  }
 },
 "nbformat": 4,
 "nbformat_minor": 5
}
