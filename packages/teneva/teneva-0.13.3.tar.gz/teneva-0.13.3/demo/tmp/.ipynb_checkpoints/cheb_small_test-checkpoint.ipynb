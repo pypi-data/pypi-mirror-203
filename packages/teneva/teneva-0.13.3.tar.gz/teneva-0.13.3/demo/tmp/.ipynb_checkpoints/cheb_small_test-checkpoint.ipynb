{
 "cells": [
  {
   "cell_type": "code",
   "execution_count": 5,
   "id": "9941ed2c-6272-4144-8c96-4e800f0b5c49",
   "metadata": {},
   "outputs": [],
   "source": [
    "import numpy as np\n",
    "import teneva\n",
    "from time import perf_counter as tpc\n",
    "np.random.seed(42)"
   ]
  },
  {
   "cell_type": "code",
   "execution_count": 6,
   "id": "55022123-b452-4df3-aa2e-e061b6005969",
   "metadata": {},
   "outputs": [],
   "source": [
    "from scipy.optimize import rosen\n",
    "f = lambda X: rosen(X.T)\n",
    "\n",
    "a = [-2., -4.]\n",
    "b = [+1., +3.]"
   ]
  },
  {
   "cell_type": "code",
   "execution_count": 7,
   "id": "eb195d25-18df-43e4-b32c-f8525db0da8a",
   "metadata": {},
   "outputs": [
    {
     "name": "stdout",
     "output_type": "stream",
     "text": [
      "[[ 1742.  -2100.    612.5]\n",
      " [ -904.5  1050.      0. ]]\n"
     ]
    }
   ],
   "source": [
    "n = [2, 3]\n",
    "Y1 = teneva.cheb_bld_full(f, a, b, n)\n",
    "A1 = teneva.cheb_int_full(Y1)\n",
    "A1[np.abs(A1) < 1.E-12] = 0\n",
    "print(A1)"
   ]
  },
  {
   "cell_type": "code",
   "execution_count": 8,
   "id": "a71cd4e7-2e8d-41b7-a7e5-78f16e950533",
   "metadata": {},
   "outputs": [
    {
     "name": "stdout",
     "output_type": "stream",
     "text": [
      "[[ 1742.  -2100.    612.5     0.      0.      0. ]\n",
      " [ -904.5  1050.      0.      0.      0.      0. ]\n",
      " [    0.      0.      0.      0.      0.      0. ]\n",
      " [    0.      0.      0.      0.      0.      0. ]\n",
      " [    0.      0.      0.      0.      0.      0. ]]\n"
     ]
    }
   ],
   "source": [
    "m = [5, 6]\n",
    "Y2 = teneva.cheb_gets_full(A1, a, b, m)\n",
    "A2 = teneva.cheb_int_full(Y2)\n",
    "A2[np.abs(A2) < 1.E-12] = 0\n",
    "print(A2)"
   ]
  },
  {
   "cell_type": "markdown",
   "id": "5157c326-a02c-41fc-b82d-af0d55ddfb18",
   "metadata": {},
   "source": [
    "---"
   ]
  }
 ],
 "metadata": {
  "kernelspec": {
   "display_name": "Python 3",
   "language": "python",
   "name": "python3"
  },
  "language_info": {
   "codemirror_mode": {
    "name": "ipython",
    "version": 3
   },
   "file_extension": ".py",
   "mimetype": "text/x-python",
   "name": "python",
   "nbconvert_exporter": "python",
   "pygments_lexer": "ipython3",
   "version": "3.8.8"
  }
 },
 "nbformat": 4,
 "nbformat_minor": 5
}
