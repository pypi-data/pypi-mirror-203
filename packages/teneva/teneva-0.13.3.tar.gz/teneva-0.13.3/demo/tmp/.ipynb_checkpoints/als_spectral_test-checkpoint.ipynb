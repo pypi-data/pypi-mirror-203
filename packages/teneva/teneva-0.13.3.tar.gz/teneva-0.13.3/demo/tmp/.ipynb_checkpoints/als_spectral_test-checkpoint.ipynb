{
 "cells": [
  {
   "cell_type": "code",
   "execution_count": 1,
   "id": "51b31a1e-ff0d-4110-a0ab-c3c64d88888e",
   "metadata": {},
   "outputs": [],
   "source": [
    "import numpy as np\n",
    "import scipy as sp\n",
    "import scipy.optimize\n",
    "import teneva\n",
    "np.random.seed(42)"
   ]
  },
  {
   "cell_type": "code",
   "execution_count": 2,
   "id": "5cb2401c-3a8a-4d73-96a7-cd9b56c484e5",
   "metadata": {},
   "outputs": [],
   "source": [
    "a = -1.\n",
    "b = +1.\n",
    "d = 5\n",
    "n = 10\n",
    "m = 1.E+5\n",
    "r = 4\n",
    "q = 8"
   ]
  },
  {
   "cell_type": "code",
   "execution_count": 3,
   "id": "36bfda55-2dfc-4007-a1a2-9c0478fbe58e",
   "metadata": {},
   "outputs": [],
   "source": [
    "I_trn = teneva.sample_lhs([n]*d, m)\n",
    "I_tst = teneva.sample_lhs([n]*d, m)\n",
    "\n",
    "X_trn = teneva.ind_to_poi(I_trn, a, b, n, 'cheb')\n",
    "X_tst = teneva.ind_to_poi(I_tst, a, b, n, 'cheb')\n",
    "\n",
    "Y_trn = sp.optimize.rosen(X_trn.T)\n",
    "Y_tst = sp.optimize.rosen(X_tst.T)"
   ]
  },
  {
   "cell_type": "code",
   "execution_count": 4,
   "id": "3f9c6585-bf2b-4202-baea-7c7573f0b49d",
   "metadata": {},
   "outputs": [
    {
     "name": "stdout",
     "output_type": "stream",
     "text": [
      "TT-tensor     5D : |8| |8| |8| |8| |8|\n",
      "<rank>  =    4.0 :   \\4/ \\4/ \\4/ \\4/\n"
     ]
    }
   ],
   "source": [
    "Y0 = teneva.tensor_rand([q]*d, r)\n",
    "teneva.show(Y0)"
   ]
  },
  {
   "cell_type": "code",
   "execution_count": 5,
   "id": "88c4560b-32fe-412b-8372-45a16703d5a5",
   "metadata": {},
   "outputs": [
    {
     "name": "stdout",
     "output_type": "stream",
     "text": [
      "# pre | time:      0.063 | rank:   4.0 | \n",
      "#   1 | time:      4.860 | rank:   4.0 | eps: 1.3e+00 | \n",
      "#   2 | time:      8.230 | rank:   4.0 | eps: 1.0e-01 | \n",
      "#   3 | time:     11.930 | rank:   4.0 | eps: 2.0e-04 | \n",
      "#   4 | time:     15.922 | rank:   4.0 | eps: 7.2e-07 | \n",
      "#   5 | time:     19.937 | rank:   4.0 | eps: 0.0e+00 | stop: e | \n"
     ]
    }
   ],
   "source": [
    "f = lambda X: teneva.cheb_pol(X, a, b, q).T\n",
    "A = teneva.als_spectral(X_trn, Y_trn, Y0, f, log=True, nswp=10)"
   ]
  },
  {
   "cell_type": "code",
   "execution_count": null,
   "id": "a398ee58-ab03-4674-a26a-9ac9a8f5c153",
   "metadata": {},
   "outputs": [],
   "source": [
    "A = teneva.als_spectral_cheb(X_trn, Y_trn, Y0, a, b, nswp=10, log=True)"
   ]
  },
  {
   "cell_type": "code",
   "execution_count": 14,
   "id": "60bcfc32-cffa-48ca-8bba-7733fd286211",
   "metadata": {},
   "outputs": [
    {
     "data": {
      "text/plain": [
       "1.008764332500467e-12"
      ]
     },
     "execution_count": 14,
     "metadata": {},
     "output_type": "execute_result"
    }
   ],
   "source": [
    "Y_trn_appr = teneva.cheb_get(X_trn, A, a, b)\n",
    "\n",
    "np.linalg.norm(Y_trn_appr - Y_trn) / np.linalg.norm(Y_trn)"
   ]
  },
  {
   "cell_type": "code",
   "execution_count": 15,
   "id": "0973ca23-0f01-4fc6-a6ea-aea120e17c9a",
   "metadata": {},
   "outputs": [
    {
     "data": {
      "text/plain": [
       "1.0302479856814679e-12"
      ]
     },
     "execution_count": 15,
     "metadata": {},
     "output_type": "execute_result"
    }
   ],
   "source": [
    "Y_tst_appr = teneva.cheb_get(X_tst, A, a, b)\n",
    "\n",
    "np.linalg.norm(Y_tst_appr - Y_tst) / np.linalg.norm(Y_tst)"
   ]
  },
  {
   "cell_type": "code",
   "execution_count": null,
   "id": "7b6760e7-b74b-4273-90ae-6a8c7403cbc7",
   "metadata": {},
   "outputs": [],
   "source": []
  }
 ],
 "metadata": {
  "kernelspec": {
   "display_name": "Python 3",
   "language": "python",
   "name": "python3"
  },
  "language_info": {
   "codemirror_mode": {
    "name": "ipython",
    "version": 3
   },
   "file_extension": ".py",
   "mimetype": "text/x-python",
   "name": "python",
   "nbconvert_exporter": "python",
   "pygments_lexer": "ipython3",
   "version": "3.8.8"
  }
 },
 "nbformat": 4,
 "nbformat_minor": 5
}
