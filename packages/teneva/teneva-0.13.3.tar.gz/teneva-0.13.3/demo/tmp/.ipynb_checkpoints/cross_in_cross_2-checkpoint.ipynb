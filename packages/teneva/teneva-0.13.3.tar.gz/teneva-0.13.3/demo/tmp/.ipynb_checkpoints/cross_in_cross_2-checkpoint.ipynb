{
 "cells": [
  {
   "cell_type": "code",
   "execution_count": 1,
   "metadata": {},
   "outputs": [],
   "source": [
    "import matplotlib.pyplot as plt\n",
    "import numpy as np\n",
    "import teneva\n",
    "from time import perf_counter as tpc\n",
    "np.random.seed(42)"
   ]
  },
  {
   "cell_type": "code",
   "execution_count": 2,
   "metadata": {},
   "outputs": [],
   "source": [
    "def cross_matrix_spec(f, I1, I2):\n",
    "    n1 = I1.shape[0]\n",
    "    n2 = I2.shape[0]\n",
    "    \n",
    "    q1 = int(np.log2(n1))\n",
    "    q2 = int(np.log2(n2))\n",
    "    q = q1 + q2\n",
    "    \n",
    "    if 2**q1 != n1 or 2**q2 != n2:\n",
    "        raise NotImplementedError('Mode size and rank should be power of 2')\n",
    "\n",
    "    def func(I):\n",
    "        I1_base = teneva.ind_qtt_to_tt(I[:, :q1], q1)[:, 0]\n",
    "        I2_base = teneva.ind_qtt_to_tt(I[:, q1:], q2)[:, 0]\n",
    "        I1_base = I1[I1_base, :]\n",
    "        I2_base = I2[I2_base, :]\n",
    "        I_base = np.hstack((I1_base, I2_base))\n",
    "        return f(I_base)\n",
    "    \n",
    "    info = {}\n",
    "    Y = teneva.tensor_rand([2]*q, r=opts_qtt['r'])\n",
    "    Y = teneva.cross(func, Y, nswp=opts_qtt['nswp'], e=opts_qtt['e'],\n",
    "        dr_min=opts_qtt['dr_min'], dr_max=opts_qtt['dr_max'],\n",
    "        cache={}, info=info, log=False)\n",
    "    Y = teneva.full(Y).reshape(n1, n2, order='F')\n",
    "    \n",
    "    return Y, info['m']"
   ]
  },
  {
   "cell_type": "code",
   "execution_count": 3,
   "metadata": {},
   "outputs": [],
   "source": [
    "def _ones(k, m=1):\n",
    "    return np.ones((k, m), dtype=int)"
   ]
  },
  {
   "cell_type": "code",
   "execution_count": 4,
   "metadata": {},
   "outputs": [],
   "source": [
    "def _reshape(A, n, order='F'):\n",
    "    return np.reshape(A, n, order=order)"
   ]
  },
  {
   "cell_type": "code",
   "execution_count": 5,
   "metadata": {},
   "outputs": [],
   "source": [
    "def _func_new(f, Ig, Ir, Ic, info, cache=None):\n",
    "    if cache is not None:\n",
    "        raise NotImplementedError('Cache is not supported in fast cross')\n",
    "    \n",
    "    n = Ig.shape[0]\n",
    "    r1 = Ir.shape[0] if Ir is not None else 1\n",
    "    r2 = Ic.shape[0] if Ic is not None else 1\n",
    "\n",
    "    if info['m_max'] is not None and info['m'] + r1*n*r2 > info['m_max']:\n",
    "        return None\n",
    "\n",
    "    if Ic is not None:\n",
    "        I2 = Ic\n",
    "    else:\n",
    "        I = np.kron(np.kron(_ones(r2), Ig), _ones(r1))\n",
    "        Ir_ = np.kron(_ones(n * r2), Ir)\n",
    "        I = np.hstack((Ir_, I))\n",
    "        \n",
    "        y = f(I)\n",
    "        info['m'] += len(y)\n",
    "        \n",
    "        return _reshape(y, (r1, n, r2))\n",
    "\n",
    "    I1 = np.kron(Ig, _ones(r1))\n",
    "    if Ir is not None:\n",
    "        I1 = np.hstack((np.kron(_ones(n), Ir), I1))\n",
    "    \n",
    "    y, m = cross_matrix_spec(f, I1, I2)\n",
    "    info['m'] += m\n",
    "    \n",
    "    return _reshape(y, (r1, n, r2))"
   ]
  },
  {
   "cell_type": "code",
   "execution_count": 6,
   "metadata": {},
   "outputs": [],
   "source": [
    "def func_cross(func, Y0, nswp=1, with_info=False, is_new=False):\n",
    "    func.clear()\n",
    "    \n",
    "    func.prep(Y0)\n",
    "    func.cross(nswp=nswp, dr_max=0, cache=None, func=_func_new if is_new else None)\n",
    "    \n",
    "    if is_new:\n",
    "        func.method += '-FAST'\n",
    "    \n",
    "    func.check()\n",
    "    if with_info:\n",
    "        func.info(f'm = {func.m:7.1e}')\n",
    "    \n",
    "    return {'t': func.t, 'm': func.m, 'e': func.e_tst_ind}"
   ]
  },
  {
   "cell_type": "code",
   "execution_count": null,
   "metadata": {},
   "outputs": [],
   "source": [
    "opts_qtt = {\n",
    "    'r': 2,\n",
    "    'e': 1.E-5,\n",
    "    'nswp': 999,\n",
    "    'dr_min': 1,\n",
    "    'dr_max': 1,\n",
    "}"
   ]
  },
  {
   "cell_type": "code",
   "execution_count": 10,
   "metadata": {},
   "outputs": [
    {
     "name": "stdout",
     "output_type": "stream",
     "text": [
      "One sweep is : 1.6e+05\n"
     ]
    }
   ],
   "source": [
    "d         = 10       # Dimension\n",
    "n         = 1024     # Grid size\n",
    "r         = 4        # TT-rank\n",
    "nswp      = 1        # Number of sweeps\n",
    "with_info = True     # If true, then logs will be printed\n",
    "\n",
    "print(f'One sweep is : {d * n * r * r:-7.1e}')"
   ]
  },
  {
   "cell_type": "code",
   "execution_count": 12,
   "metadata": {},
   "outputs": [
    {
     "name": "stdout",
     "output_type": "stream",
     "text": [
      "Ackley          [CRO          ] > error: 3.5e-03 | rank:  4.0 | time:   2.133 | m = 2.8e+05\n",
      "Ackley          [CRO-FAST     ] > error: 3.3e-03 | rank:  4.0 | time:   8.503 | m = 9.6e+04\n",
      "\n",
      "Alpine          [CRO          ] > error: 2.2e-15 | rank:  2.0 | time:   2.091 | m = 2.8e+05\n",
      "Alpine          [CRO-FAST     ] > error: 4.4e-15 | rank:  2.0 | time:   6.691 | m = 8.8e+04\n",
      "\n",
      "Dixon           [CRO          ] > error: 5.7e-15 | rank:  3.0 | time:   2.215 | m = 2.8e+05\n",
      "Dixon           [CRO-FAST     ] > error: 1.6e-14 | rank:  3.0 | time:   2.390 | m = 2.4e+04\n",
      "\n",
      "Exponential     [CRO          ] > error: 2.4e-15 | rank:  1.0 | time:   2.090 | m = 2.8e+05\n",
      "Exponential     [CRO-FAST     ] > error: 9.4e-15 | rank:  1.0 | time:   2.177 | m = 2.4e+04\n",
      "\n",
      "Grienwank       [CRO          ] > error: 2.3e-14 | rank:  3.0 | time:   2.169 | m = 2.8e+05\n",
      "Grienwank       [CRO-FAST     ] > error: 4.2e-15 | rank:  3.0 | time:   2.215 | m = 2.4e+04\n",
      "\n",
      "Michalewicz     [CRO          ] > error: 2.1e-15 | rank:  2.0 | time:   2.014 | m = 2.8e+05\n",
      "Michalewicz     [CRO-FAST     ] > error: 1.3e-06 | rank:  2.0 | time:   7.574 | m = 8.2e+04\n",
      "\n",
      "Qing            [CRO          ] > error: 8.9e-16 | rank:  2.0 | time:   2.063 | m = 2.8e+05\n",
      "Qing            [CRO-FAST     ] > error: 3.8e-15 | rank:  2.0 | time:   2.937 | m = 2.6e+04\n",
      "\n",
      "Rastrigin       [CRO          ] > error: 1.9e-15 | rank:  2.0 | time:   2.028 | m = 2.8e+05\n",
      "Rastrigin       [CRO-FAST     ] > error: 2.3e-15 | rank:  2.0 | time:   2.880 | m = 2.7e+04\n",
      "\n",
      "Rosenbrock      [CRO          ] > error: 2.1e-14 | rank:  3.0 | time:   2.254 | m = 2.8e+05\n",
      "Rosenbrock      [CRO-FAST     ] > error: 1.7e-14 | rank:  3.0 | time:   3.843 | m = 3.2e+04\n",
      "\n",
      "Schaffer        [CRO          ] > error: 6.5e-02 | rank:  4.0 | time:   2.323 | m = 2.8e+05\n",
      "Schaffer        [CRO-FAST     ] > error: 5.8e-02 | rank:  4.0 | time:   9.687 | m = 7.5e+04\n",
      "\n",
      "Schwefel        [CRO          ] > error: 2.5e-15 | rank:  2.0 | time:   2.252 | m = 2.8e+05\n",
      "Schwefel        [CRO-FAST     ] > error: 3.3e-08 | rank:  2.0 | time:   5.084 | m = 5.3e+04\n",
      "\n"
     ]
    }
   ],
   "source": [
    "result = {}\n",
    "\n",
    "for func in teneva.func_demo_all(d):\n",
    "    func.set_grid(n, kind='uni')\n",
    "    func.build_tst_ind(1.E+3)\n",
    "\n",
    "    Y0 = teneva.tensor_rand(func.n, r)\n",
    "\n",
    "    result[func.name] = {'old': [], 'new': []}\n",
    "    \n",
    "    result[func.name]['old'] = func_cross(func, Y0, nswp, with_info)\n",
    "    result[func.name]['new'] = func_cross(func, Y0, nswp, with_info, is_new=True)\n",
    "\n",
    "    if with_info:\n",
    "        print()"
   ]
  },
  {
   "cell_type": "code",
   "execution_count": null,
   "metadata": {},
   "outputs": [],
   "source": []
  }
 ],
 "metadata": {
  "colab": {
   "collapsed_sections": [
    "byVmujvM_ldg",
    "K_PO9JMK_mxF"
   ],
   "name": "cross_in_cross.ipynb",
   "provenance": []
  },
  "kernelspec": {
   "display_name": "Python 3",
   "language": "python",
   "name": "python3"
  },
  "language_info": {
   "codemirror_mode": {
    "name": "ipython",
    "version": 3
   },
   "file_extension": ".py",
   "mimetype": "text/x-python",
   "name": "python",
   "nbconvert_exporter": "python",
   "pygments_lexer": "ipython3",
   "version": "3.8.8"
  }
 },
 "nbformat": 4,
 "nbformat_minor": 4
}
