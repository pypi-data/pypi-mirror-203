{
 "cells": [
  {
   "cell_type": "code",
   "execution_count": 1,
   "id": "51b31a1e-ff0d-4110-a0ab-c3c64d88888e",
   "metadata": {},
   "outputs": [],
   "source": [
    "from numba import jit\n",
    "import numpy as np\n",
    "import scipy as sp\n",
    "import scipy.optimize\n",
    "import teneva\n",
    "np.random.seed(42)"
   ]
  },
  {
   "cell_type": "code",
   "execution_count": 2,
   "id": "f934ff36-c0e0-460c-a04d-f0d326cb5729",
   "metadata": {},
   "outputs": [],
   "source": [
    "def rand_tensor_idx(I, r):\n",
    "    d = I.shape[1]\n",
    "    ns = np.max(I, axis=0) + 1\n",
    "    return rand_tensor(d, ns, r)"
   ]
  },
  {
   "cell_type": "code",
   "execution_count": 3,
   "id": "fab89d34-eefd-4d8a-883b-991adec9f727",
   "metadata": {},
   "outputs": [],
   "source": [
    "def rand_tensor(d, ns, r):\n",
    "    ranks = [1] + [r]*(d - 1) + [1]\n",
    "    return [np.random.rand(*shape) for shape in zip(ranks, ns, ranks[1:])]"
   ]
  },
  {
   "cell_type": "code",
   "execution_count": 4,
   "id": "5cb2401c-3a8a-4d73-96a7-cd9b56c484e5",
   "metadata": {},
   "outputs": [],
   "source": [
    "a = -1.\n",
    "b = +1.\n",
    "d = 4\n",
    "n = 50\n",
    "m = 1.E+5\n",
    "r = 4\n",
    "q = 8"
   ]
  },
  {
   "cell_type": "code",
   "execution_count": 5,
   "id": "36bfda55-2dfc-4007-a1a2-9c0478fbe58e",
   "metadata": {},
   "outputs": [],
   "source": [
    "I_trn = teneva.sample_lhs([n]*d, m)\n",
    "I_tst = teneva.sample_lhs([n]*d, m)\n",
    "\n",
    "X_trn = teneva.ind_to_poi(I_trn, a, b, n, 'cheb') # I_trn.astype(float)/(0.5*h) - 0.5\n",
    "X_tst = teneva.ind_to_poi(I_tst, a, b, n, 'cheb') # I_tst.astype(float)/(0.5*h) - 0.5\n",
    "\n",
    "Y_trn = sp.optimize.rosen(X_trn.T)\n",
    "Y_tst = sp.optimize.rosen(X_tst.T)"
   ]
  },
  {
   "cell_type": "code",
   "execution_count": 6,
   "id": "cdcd23d4-d43e-4c46-a7f5-8fb6f8fc7368",
   "metadata": {},
   "outputs": [
    {
     "name": "stdout",
     "output_type": "stream",
     "text": [
      "TT-tensor     4D : |50| |50| |50| |50|\n",
      "<rank>  =    4.0 :    \\4/  \\4/  \\4/\n"
     ]
    }
   ],
   "source": [
    "Y0 = rand_tensor_idx(I_trn, r)\n",
    "teneva.show(Y0)"
   ]
  },
  {
   "cell_type": "code",
   "execution_count": 9,
   "id": "3f9c6585-bf2b-4202-baea-7c7573f0b49d",
   "metadata": {},
   "outputs": [
    {
     "name": "stdout",
     "output_type": "stream",
     "text": [
      "TT-tensor     4D : |8| |8| |8| |8|\n",
      "<rank>  =    4.0 :   \\4/ \\4/ \\4/\n"
     ]
    }
   ],
   "source": [
    "Y0_spec = rand_tensor(d, [q]*d, r)\n",
    "teneva.show(Y0_spec)"
   ]
  },
  {
   "cell_type": "code",
   "execution_count": 10,
   "id": "0731f957-6e9d-4ab8-a9e8-1a4e3babe4a2",
   "metadata": {},
   "outputs": [
    {
     "name": "stdout",
     "output_type": "stream",
     "text": [
      "# pre | time:      0.078 | rank:   4.0 | \n",
      "#   1 | time:      5.264 | rank:   4.0 | eps: 1.0e+00 | \n",
      "#   2 | time:      9.080 | rank:   4.0 | eps: 5.2e-01 | \n",
      "#   3 | time:     12.974 | rank:   4.0 | eps: 3.1e-01 | \n",
      "#   4 | time:     16.990 | rank:   4.0 | eps: 2.5e-01 | \n",
      "#   5 | time:     20.986 | rank:   4.0 | eps: 2.1e-01 | stop: nswp | \n"
     ]
    }
   ],
   "source": [
    "f = lambda x: poly_arr(x, Y0_spec[0].shape[1], a=-1, b=1)\n",
    "f = lambda X: teneva.cheb_pol(X, a, b, q)\n",
    "A = teneva.als_spectral(X_trn, Y_trn, Y0_spec, f, log=True, nswp=5)"
   ]
  },
  {
   "cell_type": "code",
   "execution_count": 11,
   "id": "0973ca23-0f01-4fc6-a6ea-aea120e17c9a",
   "metadata": {},
   "outputs": [
    {
     "data": {
      "text/plain": [
       "1.0044085247166028"
      ]
     },
     "execution_count": 11,
     "metadata": {},
     "output_type": "execute_result"
    }
   ],
   "source": [
    "Y_tst_appr = teneva.cheb_get(X_trn, A, a, b)\n",
    "\n",
    "np.linalg.norm(Y_tst_appr - Y_tst) / np.linalg.norm(Y_tst)"
   ]
  },
  {
   "cell_type": "code",
   "execution_count": null,
   "id": "23093f96-38bd-4dca-893d-aabd0ff947dc",
   "metadata": {},
   "outputs": [],
   "source": []
  }
 ],
 "metadata": {
  "kernelspec": {
   "display_name": "Python 3",
   "language": "python",
   "name": "python3"
  },
  "language_info": {
   "codemirror_mode": {
    "name": "ipython",
    "version": 3
   },
   "file_extension": ".py",
   "mimetype": "text/x-python",
   "name": "python",
   "nbconvert_exporter": "python",
   "pygments_lexer": "ipython3",
   "version": "3.8.8"
  }
 },
 "nbformat": 4,
 "nbformat_minor": 5
}
