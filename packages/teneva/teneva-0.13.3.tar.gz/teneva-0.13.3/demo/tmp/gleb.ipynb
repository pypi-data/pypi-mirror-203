{
 "cells": [
  {
   "cell_type": "code",
   "execution_count": 6,
   "id": "66822c3e",
   "metadata": {
    "ExecuteTime": {
     "end_time": "2022-09-17T20:45:48.367294Z",
     "start_time": "2022-09-17T20:45:47.601583Z"
    }
   },
   "outputs": [],
   "source": [
    "import scipy as sp\n",
    "import scipy.optimize\n",
    "import teneva\n",
    "from time import perf_counter as tpc\n",
    "from teneva import accuracy_on_data, accuracy, erank\n",
    "from numba import jit\n",
    "from opt_einsum import contract"
   ]
  },
  {
   "cell_type": "code",
   "execution_count": 7,
   "id": "fbab3a84",
   "metadata": {
    "ExecuteTime": {
     "end_time": "2022-09-17T20:45:48.374629Z",
     "start_time": "2022-09-17T20:45:48.368382Z"
    }
   },
   "outputs": [],
   "source": [
    "def rand_tensor_idx(I, r):\n",
    "    d = I.shape[1]\n",
    "    ns = np.max(I, axis=0) + 1\n",
    "    return rand_tensor(d, ns, r)\n",
    "\n",
    "\n",
    "def rand_tensor(d, ns, r):\n",
    "    ranks = [1] + [r]*(d - 1) + [1]\n",
    "    \n",
    "    res = [np.random.rand(*shape) for shape in zip(ranks, ns, ranks[1:])]\n",
    "        \n",
    "    return res\n",
    "    \n",
    "    \n",
    "@jit\n",
    "def _poly_arr(x, n, a=-1, b=1):\n",
    "\n",
    "    x = -1. + 2.*(x - a)/(b-a)\n",
    "        \n",
    "    res = np.ones((len(x), n))\n",
    "    if n == 1:\n",
    "        return res\n",
    "    res[:, 1] = x\n",
    "    for i in range(2, n):\n",
    "        res[:, i] = 2*x*res[:, i-1] - res[:, i-2]\n",
    "        \n",
    "    return res\n",
    "        \n",
    "def poly_arr(x, n, a=-1, b=1):\n",
    "    x = np.asarray(x)\n",
    "    reduce_dim = x.ndim == 0\n",
    "    if reduce_dim:\n",
    "        x = x[None]\n",
    "        \n",
    "    res = _poly_arr(x, n, a=-1, b=1)\n",
    "    if reduce_dim:\n",
    "        res = res[0]\n",
    "        \n",
    "    return res\n",
    "\n",
    "    \n",
    "    \n",
    "    \n",
    "    "
   ]
  },
  {
   "cell_type": "code",
   "execution_count": 8,
   "id": "4df2e116",
   "metadata": {
    "ExecuteTime": {
     "end_time": "2022-09-17T20:45:48.857985Z",
     "start_time": "2022-09-17T20:45:48.817740Z"
    }
   },
   "outputs": [
    {
     "name": "stdout",
     "output_type": "stream",
     "text": [
      "TT-tensor     5D : |30| |30| |30| |30| |30|\n",
      "<rank>  =    3.0 :    \\3/  \\3/  \\3/  \\3/\n",
      "TT-tensor     5D : |8| |8| |8| |8| |8|\n",
      "<rank>  =    3.0 :   \\3/ \\3/ \\3/ \\3/\n"
     ]
    }
   ],
   "source": [
    "np.random.seed(42)\n",
    "h = 30\n",
    "d = 5\n",
    "N = 100000\n",
    "rank = 3\n",
    "\n",
    "pow_p = 8\n",
    "\n",
    "\n",
    "train = teneva.sample_lhs([h]*d, N)\n",
    "test  = teneva.sample_lhs([h]*d, N)\n",
    "\n",
    "train_x = train.astype(float)/(0.5*h) - 0.5\n",
    "test_x = test.astype(float)/(0.5*h) - 0.5\n",
    "\n",
    "\n",
    "Y0 = rand_tensor_idx(train, rank)\n",
    "teneva.show(Y0)\n",
    "\n",
    "Y0_spec = rand_tensor(d, [pow_p]*d, rank)\n",
    "teneva.show(Y0_spec)\n",
    "\n",
    "\n",
    "Y_train = scipy.optimize.rosen(train_x.T)\n",
    "Y_test = scipy.optimize.rosen(test_x.T)\n",
    "Y_train;"
   ]
  },
  {
   "cell_type": "markdown",
   "id": "2aff8917",
   "metadata": {
    "ExecuteTime": {
     "end_time": "2022-09-17T20:50:03.142285Z",
     "start_time": "2022-09-17T20:50:03.140168Z"
    }
   },
   "source": [
    "# Demo spectral"
   ]
  },
  {
   "cell_type": "code",
   "execution_count": 9,
   "id": "2c0302d3",
   "metadata": {
    "ExecuteTime": {
     "end_time": "2022-09-17T20:45:49.285452Z",
     "start_time": "2022-09-17T20:45:49.179413Z"
    }
   },
   "outputs": [
    {
     "name": "stdout",
     "output_type": "stream",
     "text": [
      "# pre | time:      0.862 | rank:   3.0 | \n",
      "#   1 | time:      4.249 | rank:   3.0 | eps: 1.1e+08 | \n",
      "#   2 | time:      6.196 | rank:   3.0 | eps: 1.0e+00 | \n",
      "#   3 | time:      8.113 | rank:   3.0 | eps: 1.0e+00 | \n",
      "#   4 | time:      9.984 | rank:   3.0 | eps: 6.4e-02 | \n",
      "#   5 | time:     11.946 | rank:   3.0 | eps: 2.1e-03 | \n",
      "#   6 | time:     13.908 | rank:   3.0 | eps: 0.0e+00 | stop: e | \n"
     ]
    }
   ],
   "source": [
    "Y_als_sp = teneva.als_spectral(train_x,  Y_train, Y0_spec, lambda x: poly_arr(x, Y0_spec[0].shape[1], a=-1, b=1), log=True, nswp=100)"
   ]
  },
  {
   "cell_type": "markdown",
   "id": "f5614658",
   "metadata": {
    "ExecuteTime": {
     "end_time": "2022-09-17T20:50:14.888829Z",
     "start_time": "2022-09-17T20:50:14.886745Z"
    }
   },
   "source": [
    "# Demo adaptive"
   ]
  },
  {
   "cell_type": "code",
   "execution_count": 8,
   "id": "844b1eef",
   "metadata": {
    "ExecuteTime": {
     "end_time": "2022-09-17T20:46:24.194368Z",
     "start_time": "2022-09-17T20:45:51.188617Z"
    }
   },
   "outputs": [
    {
     "name": "stdout",
     "output_type": "stream",
     "text": [
      "# pre | time:      0.063 | rank:   3.0 | \n",
      "#   1 | time:      3.766 | rank:   5.0 | eps: 1.2e+02 | \n",
      "#   2 | time:      7.485 | rank:   5.0 | eps: 2.5e-01 | \n",
      "#   3 | time:     11.209 | rank:   5.0 | eps: 8.3e-02 | \n",
      "#   4 | time:     14.938 | rank:   5.0 | eps: 3.9e-03 | \n",
      "#   5 | time:     18.657 | rank:   4.8 | eps: 1.5e-04 | \n",
      "#   6 | time:     22.252 | rank:   3.0 | eps: 1.0e-05 | \n",
      "#   7 | time:     25.830 | rank:   3.0 | eps: 7.4e-07 | \n",
      "#   8 | time:     29.409 | rank:   3.0 | eps: 2.7e-08 | \n",
      "#   9 | time:     32.999 | rank:   3.0 | eps: 0.0e+00 | stop: e | \n"
     ]
    }
   ],
   "source": [
    "Y_als = teneva.als(train,  Y_train, Y0, log=True, e=1e-10, nswp=10, adaptive=True, maxr=5, eps_adap=1e-3)"
   ]
  },
  {
   "cell_type": "code",
   "execution_count": null,
   "id": "1e5bb277",
   "metadata": {},
   "outputs": [],
   "source": []
  },
  {
   "cell_type": "code",
   "execution_count": null,
   "id": "f4d16cf3",
   "metadata": {},
   "outputs": [],
   "source": []
  },
  {
   "cell_type": "code",
   "execution_count": null,
   "id": "40e7fa22",
   "metadata": {},
   "outputs": [],
   "source": []
  },
  {
   "cell_type": "code",
   "execution_count": null,
   "id": "ae54bb94",
   "metadata": {},
   "outputs": [],
   "source": []
  },
  {
   "cell_type": "code",
   "execution_count": null,
   "id": "643755e6",
   "metadata": {},
   "outputs": [],
   "source": []
  },
  {
   "cell_type": "code",
   "execution_count": null,
   "id": "6c4ceb04",
   "metadata": {},
   "outputs": [],
   "source": []
  },
  {
   "cell_type": "markdown",
   "id": "7c628119",
   "metadata": {
    "ExecuteTime": {
     "end_time": "2022-09-17T20:50:38.454988Z",
     "start_time": "2022-09-17T20:50:38.452847Z"
    }
   },
   "source": [
    "# Дальше нерелевантно"
   ]
  },
  {
   "cell_type": "code",
   "execution_count": 507,
   "id": "ac744315",
   "metadata": {
    "ExecuteTime": {
     "end_time": "2022-09-17T18:18:11.715299Z",
     "start_time": "2022-09-17T18:18:11.658095Z"
    }
   },
   "outputs": [],
   "source": [
    "def als(I_trn, Y_trn, Y0, nswp=50, e=1.E-16, *, info={}, I_vld=None, Y_vld=None, e_vld=None, \n",
    "        log=False, adaptive=False, maxr=20, eps_adap=1e-3):\n",
    "    \"\"\"Build TT-tensor by TT-ALS from the given random tensor samples.\n",
    "\n",
    "    Args:\n",
    "        I_trn (np.ndarray): multi-indices for the tensor in the form of array\n",
    "            of the shape [samples, d].\n",
    "        Y_trn (np.ndarray): values of the tensor for multi-indices I in the form\n",
    "            of array of the shape [samples].\n",
    "        Y0 (list): TT-tensor, which is the initial approximation for algorithm.\n",
    "        nswp (int): number of ALS iterations (sweeps). If \"e\" or \"e_vld\"\n",
    "            parameter is set, then the real number of sweeps may be less (see\n",
    "            \"info\" dict with the exact number of performed sweeps).\n",
    "        e (float): optional algorithm convergence criterion (> 0). If between\n",
    "            iterations (sweeps) the relative rate of solution change is less\n",
    "            than this value, then the operation of the algorithm will be\n",
    "            interrupted.\n",
    "        info (dict): an optionally set dictionary, which will be filled with\n",
    "            reference information about the process of the algorithm operation.\n",
    "            At the end of the function work, it will contain parameters: \"e\" -\n",
    "            the final value of the convergence criterion; \"e_vld\" - the final\n",
    "            error on the validation dataset; \"nswp\" - the real number of\n",
    "            performed iterations (sweeps); \"stop\" - stop type of the algorithm\n",
    "            (\"nswp\", \"e\" or \"e_vld\").\n",
    "        I_vld (np.ndarray): optional multi-indices for items of validation\n",
    "            dataset in the form of array of the shape [samples, d].\n",
    "        Y_vld (np.ndarray): optional values for items related to \"I_vld\" of\n",
    "            validation dataset in the form of array of the shape [samples].\n",
    "        e_vld (float): optional algorithm convergence criterion (> 0). If\n",
    "            after sweep, the error on the validation dataset is less than this\n",
    "            value, then the operation of the algorithm will be interrupted.\n",
    "        log (bool): if flag is set, then the information about the progress of\n",
    "            the algorithm will be printed after each sweep.\n",
    "\n",
    "    Returns:\n",
    "        list: TT-tensor, which represents the TT-approximation for the tensor.\n",
    "\n",
    "    \"\"\"\n",
    "    _time = tpc()\n",
    "\n",
    "    info['r'] = erank(Y0)\n",
    "    info['e'] = -1.\n",
    "    info['e_vld'] = -1.\n",
    "    info['nswp'] = 0\n",
    "    info['stop'] = None\n",
    "    \n",
    "    if eps_adap is None:\n",
    "        eps_adap = e\n",
    "\n",
    "    I_trn = np.asanyarray(I_trn, dtype=int)\n",
    "    Y_trn = np.asanyarray(Y_trn, dtype=float)\n",
    "\n",
    "    Y = copy(Y0)\n",
    "\n",
    "    m = I_trn.shape[0]\n",
    "    d = I_trn.shape[1]\n",
    "\n",
    "    for k in range(d):\n",
    "        if np.unique(I_trn[:, k]).size != Y[k].shape[1]:\n",
    "            raise ValueError('One groundtruth sample is needed for every slice')\n",
    "\n",
    "    Yl = [np.ones((m, Y[k].shape[0])) for k in range(d)]\n",
    "    Yr = [np.ones((Y[k].shape[2], m)) for k in range(d)]\n",
    "            \n",
    "    for k in range(d-1, 0, -1):\n",
    "        i = I_trn[:, k]\n",
    "        Q = Y[k][:, i, :]\n",
    "        contract('riq,qi->ri', Q, Yr[k], out=Yr[k-1])\n",
    "\n",
    "    _info(Y, info, _time, I_vld, Y_vld, e_vld, log)\n",
    "    \n",
    "    while True:\n",
    "        Yold = copy(Y)\n",
    "\n",
    "        for k in range(0, d - 1 - adaptive, +1):\n",
    "            i = I_trn[:, k]\n",
    "            if adaptive:\n",
    "                Y[k], Y[k+1] = _optimize_core_adaptive(Y[k], Y[k+1], i, I_trn[:, k+1], Y_trn, Yl[k], Yr[k+1], maxr=maxr, eps_adap=eps_adap)\n",
    "                Yl[k+1] = contract('jk,kjl->jl', Yl[k], Y[k][:, i, :])\n",
    "            else:\n",
    "                _optimize_core(Y[k], i, Y_trn, Yl[k], Yr[k])\n",
    "                contract('jk,kjl->jl', Yl[k], Y[k][:, i, :], out=Yl[k+1])\n",
    "\n",
    "        for k in range(d-1, 0 + adaptive, -1):\n",
    "            i = I_trn[:, k]\n",
    "            if adaptive:\n",
    "                Y[k-1], Y[k] = _optimize_core_adaptive(Y[k-1], Y[k], I_trn[:, k-1], i, Y_trn, Yl[k-1], Yr[k], maxr=maxr, eps_adap=eps_adap)\n",
    "                Yr[k-1] = contract('ijk,kj->ij', Y[k][:, i, :], Yr[k])\n",
    "            else:\n",
    "                _optimize_core(Y[k], i, Y_trn, Yl[k], Yr[k])\n",
    "                contract('ijk,kj->ij', Y[k][:, i, :], Yr[k], out=Yr[k-1])\n",
    "\n",
    "        stop = None\n",
    "\n",
    "        info['e'] = accuracy(Y, Yold)\n",
    "        if stop is None and info['e'] >= 0 and not np.isinf(info['e']):\n",
    "            if e is not None and info['e'] <= e:\n",
    "                stop = 'e'\n",
    "\n",
    "        info['nswp'] += 1\n",
    "        if stop is None:\n",
    "            if nswp is not None and info['nswp'] >= nswp:\n",
    "                stop = 'nswp'\n",
    "\n",
    "        if _info(Y, info, _time, I_vld, Y_vld, e_vld, log, stop):\n",
    "            return Y\n",
    "\n",
    "        \n",
    "        \n",
    "def als_spectral(X_trn, Y_trn, Y0, Hf, nswp=50, e=1.E-16, info={}, I_vld=None, Y_vld=None, e_vld=None, log=False):\n",
    "    \"\"\"Build TT-tensor by TT-ALS from the given random tensor samples.\n",
    "\n",
    "    Args:\n",
    "        I_trn (np.ndarray): multi-indices for the tensor in the form of array\n",
    "            of the shape [samples, d].\n",
    "        Y_trn (np.ndarray): values of the tensor for multi-indices I in the form\n",
    "            of array of the shape [samples].\n",
    "        Y0 (list): TT-tensor, which is the initial approximation for algorithm.\n",
    "        nswp (int): number of ALS iterations (sweeps). If \"e\" or \"e_vld\"\n",
    "            parameter is set, then the real number of sweeps may be less (see\n",
    "            \"info\" dict with the exact number of performed sweeps).\n",
    "        e (float): optional algorithm convergence criterion (> 0). If between\n",
    "            iterations (sweeps) the relative rate of solution change is less\n",
    "            than this value, then the operation of the algorithm will be\n",
    "            interrupted.\n",
    "        info (dict): an optionally set dictionary, which will be filled with\n",
    "            reference information about the process of the algorithm operation.\n",
    "            At the end of the function work, it will contain parameters: \"e\" -\n",
    "            the final value of the convergence criterion; \"e_vld\" - the final\n",
    "            error on the validation dataset; \"nswp\" - the real number of\n",
    "            performed iterations (sweeps); \"stop\" - stop type of the algorithm\n",
    "            (\"nswp\", \"e\" or \"e_vld\").\n",
    "        I_vld (np.ndarray): optional multi-indices for items of validation\n",
    "            dataset in the form of array of the shape [samples, d].\n",
    "        Y_vld (np.ndarray): optional values for items related to \"I_vld\" of\n",
    "            validation dataset in the form of array of the shape [samples].\n",
    "        e_vld (float): optional algorithm convergence criterion (> 0). If\n",
    "            after sweep, the error on the validation dataset is less than this\n",
    "            value, then the operation of the algorithm will be interrupted.\n",
    "        log (bool): if flag is set, then the information about the progress of\n",
    "            the algorithm will be printed after each sweep.\n",
    "\n",
    "    Returns:\n",
    "        list: TT-tensor, which represents the TT-approximation for the tensor.\n",
    "\n",
    "    \"\"\"\n",
    "    _time = tpc()\n",
    "\n",
    "    info['r'] = erank(Y0)\n",
    "    info['e'] = -1.\n",
    "    info['e_vld'] = -1.\n",
    "    info['nswp'] = 0\n",
    "    info['stop'] = None\n",
    "\n",
    "    X_trn = np.asanyarray(X_trn, dtype=float)\n",
    "    Y_trn = np.asanyarray(Y_trn, dtype=float)\n",
    "    \n",
    "    Y = copy(Y0)\n",
    "\n",
    "    m = X_trn.shape[0]\n",
    "    d = X_trn.shape[1]\n",
    "\n",
    "    Yl = [np.ones((m, Y[k].shape[0])) for k in range(d)]\n",
    "    Yr = [np.ones((Y[k].shape[2], m)) for k in range(d)]\n",
    "\n",
    "    n_shape = Y[0].shape[1] # Assuming they are all the same for now\n",
    "    \n",
    "    H = Hf(X_trn.reshape(-1)).reshape((*X_trn.shape, n_shape))\n",
    "    del X_trn\n",
    "    \n",
    "    for k in range(d-1, 0, -1):\n",
    "        contract('ik,rkq,qi->ri', H[:, k, :], Y[k], Yr[k], out=Yr[k-1])\n",
    "\n",
    "    _info(Y, info, _time, I_vld, Y_vld, e_vld, log)\n",
    "\n",
    "    while True:\n",
    "        Yold = copy(Y)\n",
    "\n",
    "        for k in range(0, d-1, +1):\n",
    "            Hk =  H[:, k, :]\n",
    "            _optimize_core_spec(Y[k],Y_trn, Yl[k], Yr[k], Hk)\n",
    "            contract('jr,jk,krl->jl', Hk, Yl[k], Y[k], out=Yl[k+1])\n",
    "\n",
    "        for k in range(d-1, 0, -1):\n",
    "            Hk =  H[:, k, :]\n",
    "            _optimize_core_spec(Y[k], Y_trn, Yl[k], Yr[k], Hk)\n",
    "            contract('jr,irk,kj->ij', Hk, Y[k], Yr[k], out=Yr[k-1])\n",
    "\n",
    "        stop = None\n",
    "\n",
    "        info['e'] = accuracy(Y, Yold)\n",
    "        if stop is None and info['e'] >= 0 and not np.isinf(info['e']):\n",
    "            if e is not None and info['e'] <= e:\n",
    "                stop = 'e'\n",
    "\n",
    "        info['nswp'] += 1\n",
    "        if stop is None:\n",
    "            if nswp is not None and info['nswp'] >= nswp:\n",
    "                stop = 'nswp'\n",
    "\n",
    "        if _info(Y, info, _time, I_vld, Y_vld, e_vld, log, stop):\n",
    "            return Y\n",
    "        \n",
    "\n",
    "def als_old(I_trn, Y_trn, Y0, nswp=50, e=1.E-16, info={}, I_vld=None, Y_vld=None, e_vld=None, log=False):\n",
    "    \"\"\"Build TT-tensor by TT-ALS from the given random tensor samples.\n",
    "\n",
    "    Args:\n",
    "        I_trn (np.ndarray): multi-indices for the tensor in the form of array\n",
    "            of the shape [samples, d].\n",
    "        Y_trn (np.ndarray): values of the tensor for multi-indices I in the form\n",
    "            of array of the shape [samples].\n",
    "        Y0 (list): TT-tensor, which is the initial approximation for algorithm.\n",
    "        nswp (int): number of ALS iterations (sweeps). If \"e\" or \"e_vld\"\n",
    "            parameter is set, then the real number of sweeps may be less (see\n",
    "            \"info\" dict with the exact number of performed sweeps).\n",
    "        e (float): optional algorithm convergence criterion (> 0). If between\n",
    "            iterations (sweeps) the relative rate of solution change is less\n",
    "            than this value, then the operation of the algorithm will be\n",
    "            interrupted.\n",
    "        info (dict): an optionally set dictionary, which will be filled with\n",
    "            reference information about the process of the algorithm operation.\n",
    "            At the end of the function work, it will contain parameters: \"e\" -\n",
    "            the final value of the convergence criterion; \"e_vld\" - the final\n",
    "            error on the validation dataset; \"nswp\" - the real number of\n",
    "            performed iterations (sweeps); \"stop\" - stop type of the algorithm\n",
    "            (\"nswp\", \"e\" or \"e_vld\").\n",
    "        I_vld (np.ndarray): optional multi-indices for items of validation\n",
    "            dataset in the form of array of the shape [samples, d].\n",
    "        Y_vld (np.ndarray): optional values for items related to \"I_vld\" of\n",
    "            validation dataset in the form of array of the shape [samples].\n",
    "        e_vld (float): optional algorithm convergence criterion (> 0). If\n",
    "            after sweep, the error on the validation dataset is less than this\n",
    "            value, then the operation of the algorithm will be interrupted.\n",
    "        log (bool): if flag is set, then the information about the progress of\n",
    "            the algorithm will be printed after each sweep.\n",
    "\n",
    "    Returns:\n",
    "        list: TT-tensor, which represents the TT-approximation for the tensor.\n",
    "\n",
    "    \"\"\"\n",
    "    _time = tpc()\n",
    "\n",
    "    info['r'] = erank(Y0)\n",
    "    info['e'] = -1.\n",
    "    info['e_vld'] = -1.\n",
    "    info['nswp'] = 0\n",
    "    info['stop'] = None\n",
    "\n",
    "    I_trn = np.asanyarray(I_trn, dtype=int)\n",
    "    Y_trn = np.asanyarray(Y_trn, dtype=float)\n",
    "\n",
    "    Y = copy(Y0)\n",
    "\n",
    "    m = I_trn.shape[0]\n",
    "    d = I_trn.shape[1]\n",
    "\n",
    "    for k in range(d):\n",
    "        if np.unique(I_trn[:, k]).size != Y[k].shape[1]:\n",
    "            raise ValueError('One groundtruth sample is needed for every slice')\n",
    "\n",
    "    Yl = [np.ones((1, m, Y[k].shape[0])) for k in range(d)]\n",
    "\n",
    "    Yr = [None for _ in range(d-1)] + [np.ones((1, m, 1))]\n",
    "    for k in range(d-1, 0, -1):\n",
    "        i = I_trn[:, k]\n",
    "        Q = Y[k][:, i, :]\n",
    "        Yr[k-1] = np.einsum('riq,qis->ris', Q, Yr[k])\n",
    "\n",
    "    _info(Y, info, _time, I_vld, Y_vld, e_vld, log)\n",
    "\n",
    "    while True:\n",
    "        Yold = copy(Y)\n",
    "\n",
    "        for k in range(0, d-1, +1):\n",
    "            i = I_trn[:, k]\n",
    "            Y[k] = _optimize_core(Y[k], i, Y_trn, Yl[k], Yr[k])\n",
    "            Yl[k+1] = np.einsum('ijk,kjl->ijl', Yl[k], Y[k][:, i, :])\n",
    "\n",
    "        for k in range(d-1, 0, -1):\n",
    "            i = I_trn[:, k]\n",
    "            Y[k] = _optimize_core(Y[k], i, Y_trn, Yl[k], Yr[k])\n",
    "            Yr[k-1] = np.einsum('ijk,kjl->ijl', Y[k][:, i, :], Yr[k])\n",
    "\n",
    "        stop = None\n",
    "\n",
    "        info['e'] = accuracy(Y, Yold)\n",
    "        if stop is None and info['e'] >= 0 and not np.isinf(info['e']):\n",
    "            if e is not None and info['e'] <= e:\n",
    "                stop = 'e'\n",
    "\n",
    "        info['nswp'] += 1\n",
    "        if stop is None:\n",
    "            if nswp is not None and info['nswp'] >= nswp:\n",
    "                stop = 'nswp'\n",
    "\n",
    "        if _info(Y, info, _time, I_vld, Y_vld, e_vld, log, stop):\n",
    "            return Y\n",
    "\n",
    "\n",
    "        \n",
    "\n",
    "def _optimize_core(Q, i, Y_trn, Yl, Yr):\n",
    "    for k in range(Q.shape[1]):\n",
    "        idx = np.where(i == k)[0]\n",
    "        lhs = Yr[:, idx].T[:, np.newaxis, :]\n",
    "        rhs = Yl[idx, :]  [:, :, np.newaxis]\n",
    "        A = (lhs * rhs).reshape(len(idx), -1)\n",
    "        Ar = A.shape[1]\n",
    "        b = Y_trn[idx]\n",
    "        sol, residuals, rank, s = sp.linalg.lstsq(A, b, \n",
    "                                                  overwrite_a=True, \n",
    "                                                  overwrite_b=True, \n",
    "                                                  lapack_driver='gelsy')\n",
    "        if rank < Ar:\n",
    "            print(f\"Bad cond in LSTSQ: {rank} < {Ar}\")\n",
    "        Q[:, k, :] = sol.reshape(Q[:, k, :].shape)\n",
    "\n",
    "\n",
    "def _optimize_core_spec(Q, Y_trn, Yl, Yr, Hk):\n",
    "        m = Yl.shape[0]\n",
    "        A = contract(\"li,ik,ij->ikjl\", Yr, Yl, Hk).reshape(m, -1)\n",
    "        b = Y_trn\n",
    "        Ar = A.shape[1]\n",
    "        sol, residuals, rank, s = sp.linalg.lstsq(A, b, \n",
    "                                                  overwrite_a=True, \n",
    "                                                  overwrite_b=True, \n",
    "                                                  lapack_driver='gelsy')\n",
    "        if rank < Ar:\n",
    "            print(f\"Bad cond in LSTSQ: {rank} < {Ar}\")\n",
    "            \n",
    "        Q[...] = sol.reshape(Q.shape)\n",
    "\n",
    "        \n",
    "def _optimize_core_adaptive(Q1, Q2, i, i2, Y_trn, Yl, Yr, maxr=None, eps_adap=1e-6):\n",
    "    shape = Q1.shape[0], Q2.shape[2]\n",
    "    Q = np.empty((Q1.shape[0], Q1.shape[1], Q2.shape[1], Q2.shape[2]))\n",
    "    for k in range(Q1.shape[1]):\n",
    "        for k2 in range(Q2.shape[1]):\n",
    "            #idx = np.where(i == k)[0] & np.where(i2 == k2)[0]\n",
    "            idx = (i == k) & (i2 == k2)\n",
    "            assert idx.any(), 'Non enouph samples' # Add this check to the main func at the beggining\n",
    "\n",
    "            lhs = Yr[:, idx].T[:, np.newaxis, :]\n",
    "            rhs = Yl[idx, :]  [:, :, np.newaxis]\n",
    "            A = (lhs * rhs).reshape(idx.sum(), -1)\n",
    "            Ar = A.shape[1]\n",
    "            b = Y_trn[idx]\n",
    "            sol, residuals, rank, s = sp.linalg.lstsq(A, b, \n",
    "                                                      overwrite_a=True, \n",
    "                                                      overwrite_b=True, \n",
    "                                                      lapack_driver='gelsy')\n",
    "            if rank < Ar:\n",
    "                print(f\"Bad cond in LSTSQ: {rank} < {Ar}\")\n",
    "            Q[:, k, k2, :] = sol.reshape(shape)\n",
    "            \n",
    "    Q = Q.reshape(np.prod(Q.shape[:2]), -1)\n",
    "    V1, V2 = matrix_skeleton(Q, r=maxr, e=eps_adap, rel=True)\n",
    "    return V1.reshape(*Q1.shape[:2], -1), V2.reshape(-1, *Q2.shape[1:])\n",
    "        \n",
    "    \n",
    "def matrix_skeleton(A, e=1.E-10, r=1.E+12, hermitian=False, rel=False):\n",
    "    \"\"\"Construct truncated skeleton decomposition A = U V for the given matrix.\n",
    "\n",
    "    Args:\n",
    "        A (np.ndarray): matrix of the shape [m, n].\n",
    "        e (float): desired approximation accuracy (> 0).\n",
    "        r (int, float): maximum rank for the SVD decomposition (> 0).\n",
    "        hermitian (flag): if True, then \"hermitian\" SVD will be used.\n",
    "\n",
    "    Returns:\n",
    "        [np.ndarray, np.ndarray]: factor matrix U of the shape [m, q] and factor\n",
    "        matrix V of the shape [q, n], where \"q\" is selected rank (q <= r).\n",
    "\n",
    "    \"\"\"\n",
    "    U, s, V = np.linalg.svd(A, full_matrices=False, hermitian=hermitian)\n",
    "    if rel:\n",
    "        r = max(1, min(int(r), sum(s/s[0] > e)))\n",
    "    else:\n",
    "        r = max(1, min(int(r), sum(s > e)))\n",
    "            \n",
    "    S = np.diag(np.sqrt(s[:r]))\n",
    "    return U[:, :r] @ S, S @ V[:r, :]\n"
   ]
  },
  {
   "cell_type": "code",
   "execution_count": 511,
   "id": "ffe34181",
   "metadata": {
    "ExecuteTime": {
     "end_time": "2022-09-17T20:41:21.630895Z",
     "start_time": "2022-09-17T20:41:21.503590Z"
    }
   },
   "outputs": [
    {
     "name": "stdout",
     "output_type": "stream",
     "text": [
      "~/anaconda2/envs/py36/bin/python\n"
     ]
    }
   ],
   "source": [
    "!which python"
   ]
  },
  {
   "cell_type": "code",
   "execution_count": 431,
   "id": "4248fed6",
   "metadata": {
    "ExecuteTime": {
     "end_time": "2022-09-17T16:30:32.996491Z",
     "start_time": "2022-09-17T16:30:32.985877Z"
    }
   },
   "outputs": [],
   "source": [
    "\n",
    "\n",
    "def _info(Y, info, t, I_vld, Y_vld, e_vld, log=False, stop=None):\n",
    "    info['e_vld'] = accuracy_on_data(Y, I_vld, Y_vld)\n",
    "\n",
    "    if stop is None and info['e_vld'] >= 0 and not np.isinf(info['e_vld']):\n",
    "        if e_vld is not None and info['e_vld'] <= e_vld:\n",
    "            stop = 'e_vld'\n",
    "    info['stop'] = stop\n",
    "\n",
    "    info['r'] = erank(Y)\n",
    "    info['t'] = tpc() - t\n",
    "\n",
    "    _log(Y, info, log)\n",
    "\n",
    "    return info['stop']\n",
    "\n",
    "\n",
    "def _log(Y, info, log):\n",
    "    if not log:\n",
    "        return\n",
    "\n",
    "    text = ''\n",
    "\n",
    "    if info['nswp'] == 0:\n",
    "        text += f'# pre | '\n",
    "    else:\n",
    "        text += f'# {info[\"nswp\"]:-3d} | '\n",
    "\n",
    "    text += f'time: {info[\"t\"]:-10.3f} | '\n",
    "\n",
    "    text += f'rank: {info[\"r\"]:-5.1f} | '\n",
    "\n",
    "    if info['e_vld'] >= 0:\n",
    "        text += f'err: {info[\"e_vld\"]:-7.1e} | '\n",
    "\n",
    "    if info['e'] >= 0:\n",
    "        text += f'eps: {info[\"e\"]:-7.1e} | '\n",
    "\n",
    "    if info['stop']:\n",
    "        text += f'stop: {info[\"stop\"]} | '\n",
    "\n",
    "    print(text)\n",
    "\n",
    "\n",
    "\n",
    "def copy(Y):\n",
    "    \"\"\"Return a copy of the given TT-tensor.\n",
    "\n",
    "    Args:\n",
    "        Y (int, float, list): TT-tensor (or it may be int/float).\n",
    "\n",
    "    Returns:\n",
    "        list: TT-tensor, which is a copy of the given TT-tensor. If Y is a\n",
    "        number, then result will be the same number. If Y is np.ndarray, then\n",
    "        the result will the corresponding copy in numpy format.\n",
    "\n",
    "    \"\"\"\n",
    "    if _is_num(Y):\n",
    "        return Y\n",
    "    elif isinstance(Y, np.ndarray):\n",
    "        return Y.copy()\n",
    "    else:\n",
    "        return [G.copy() for G in Y]\n",
    "    \n",
    "def _is_num(A):\n",
    "    return isinstance(A, (int, float))\n",
    "\n",
    "\n"
   ]
  },
  {
   "cell_type": "code",
   "execution_count": 502,
   "id": "4231aa18",
   "metadata": {
    "ExecuteTime": {
     "end_time": "2022-09-17T18:14:13.276711Z",
     "start_time": "2022-09-17T18:14:01.569108Z"
    }
   },
   "outputs": [
    {
     "name": "stdout",
     "output_type": "stream",
     "text": [
      "# pre | time:      0.082 | rank:   3.0 | \n",
      "#   1 | time:      2.143 | rank:   3.0 | eps: 1.1e+08 | \n",
      "#   2 | time:      4.046 | rank:   3.0 | eps: 1.0e+00 | \n",
      "#   3 | time:      6.087 | rank:   3.0 | eps: 1.0e+00 | \n",
      "#   4 | time:      7.929 | rank:   3.0 | eps: 6.4e-02 | \n",
      "#   5 | time:      9.791 | rank:   3.0 | eps: 2.1e-03 | \n",
      "#   6 | time:     11.698 | rank:   3.0 | eps: 0.0e+00 | stop: e | \n"
     ]
    }
   ],
   "source": [
    "Y_als_sp = als_spectral(train_x,  Y_train, Y0_spec, lambda x: poly_arr(x, Y0_spec[0].shape[1], a=-1, b=1), log=True, nswp=100)"
   ]
  },
  {
   "cell_type": "code",
   "execution_count": 400,
   "id": "35a15274",
   "metadata": {
    "ExecuteTime": {
     "end_time": "2022-09-17T16:20:34.991636Z",
     "start_time": "2022-09-17T16:20:34.989628Z"
    }
   },
   "outputs": [],
   "source": [
    "train_x;"
   ]
  },
  {
   "cell_type": "code",
   "execution_count": 429,
   "id": "f9b09645",
   "metadata": {
    "ExecuteTime": {
     "end_time": "2022-09-17T16:30:22.477252Z",
     "start_time": "2022-09-17T16:30:22.473436Z"
    }
   },
   "outputs": [
    {
     "data": {
      "text/plain": [
       "array([[[ 5.0538269570e+03, -4.4028972898e+03, -3.6335756338e+02],\n",
       "        [-4.5443186427e+03,  4.1854380358e+03,  9.6032635919e+01],\n",
       "        [ 1.8294720097e+03, -3.5971013082e+02, -1.0663748303e+03],\n",
       "        [ 4.9775722720e-04, -3.1466939565e-04, -1.4673316688e-04],\n",
       "        [ 2.8929418011e+02, -2.6644765627e+02, -6.1134552863e+00],\n",
       "        [ 1.1389822358e-04, -9.3466894069e-05, -1.7285449819e-05],\n",
       "        [-3.0282662009e-05,  3.1610129949e-05, -5.2744781996e-07],\n",
       "        [ 3.3183212291e-06, -4.6514015596e-06,  9.5360670022e-07]],\n",
       "\n",
       "       [[ 5.6011000254e+03, -4.8931980883e+03, -3.8893421596e+02],\n",
       "        [-4.6106746223e+03,  4.2465536268e+03,  9.7434925563e+01],\n",
       "        [ 1.9293850525e+03, -3.7935503191e+02, -1.1246127880e+03],\n",
       "        [ 4.6603694019e-04, -2.9551680120e-04, -1.3655036366e-04],\n",
       "        [ 3.0509343467e+02, -2.8099918356e+02, -6.4473376491e+00],\n",
       "        [ 1.0696964105e-04, -8.7863877875e-05, -1.6128252388e-05],\n",
       "        [-2.8532706226e-05,  2.9740746367e-05, -4.7804384350e-07],\n",
       "        [ 3.1379160442e-06, -4.3786969470e-06,  8.8853427264e-07]],\n",
       "\n",
       "       [[ 4.8355801598e+03, -4.2244314968e+03, -3.3577521939e+02],\n",
       "        [-4.4137998145e+03,  4.0652266991e+03,  9.3274481491e+01],\n",
       "        [ 1.6656747110e+03, -3.2750436466e+02, -9.7089957080e+02],\n",
       "        [ 4.4289988237e-04, -2.8435427015e-04, -1.2705410339e-04],\n",
       "        [ 2.6339293688e+02, -2.4259191655e+02, -5.5661054295e+00],\n",
       "        [ 1.0139094427e-04, -8.4479039525e-05, -1.4363607085e-05],\n",
       "        [-2.6929647058e-05,  2.8571075367e-05, -8.3614862419e-07],\n",
       "        [ 2.9387046723e-06, -4.2036597551e-06,  9.1080682783e-07]]])"
      ]
     },
     "execution_count": 429,
     "metadata": {},
     "output_type": "execute_result"
    }
   ],
   "source": [
    "Y_als_sp[1]\n"
   ]
  },
  {
   "cell_type": "code",
   "execution_count": 509,
   "id": "c20279f9",
   "metadata": {
    "ExecuteTime": {
     "end_time": "2022-09-17T18:19:27.736674Z",
     "start_time": "2022-09-17T18:18:55.009315Z"
    }
   },
   "outputs": [
    {
     "name": "stdout",
     "output_type": "stream",
     "text": [
      "# pre | time:      0.032 | rank:   3.0 | \n",
      "#   1 | time:      3.758 | rank:   5.0 | eps: 1.2e+02 | \n",
      "#   2 | time:      7.447 | rank:   5.0 | eps: 2.5e-01 | \n",
      "#   3 | time:     11.139 | rank:   5.0 | eps: 8.3e-02 | \n",
      "#   4 | time:     14.836 | rank:   5.0 | eps: 3.9e-03 | \n",
      "#   5 | time:     18.526 | rank:   4.8 | eps: 1.5e-04 | \n",
      "#   6 | time:     22.091 | rank:   3.0 | eps: 1.0e-05 | \n",
      "#   7 | time:     25.635 | rank:   3.0 | eps: 7.4e-07 | \n",
      "#   8 | time:     29.175 | rank:   3.0 | eps: 2.7e-08 | \n",
      "#   9 | time:     32.725 | rank:   3.0 | eps: 0.0e+00 | stop: e | \n"
     ]
    }
   ],
   "source": [
    "Y_als = als(train,  Y_train, Y0, log=True, e=1e-10, nswp=10, adaptive=True, maxr=5, eps_adap=1e-3)"
   ]
  },
  {
   "cell_type": "code",
   "execution_count": 299,
   "id": "5d78dd69",
   "metadata": {
    "ExecuteTime": {
     "end_time": "2022-09-17T15:53:56.096404Z",
     "start_time": "2022-09-17T15:53:55.520225Z"
    }
   },
   "outputs": [
    {
     "name": "stdout",
     "output_type": "stream",
     "text": [
      "# pre | time:      0.001 | rank:   3.0 | \n",
      "#   1 | time:      0.029 | rank:   3.0 | eps: 2.1e+02 | \n",
      "#   2 | time:      0.057 | rank:   3.0 | eps: 4.2e-01 | \n",
      "#   3 | time:      0.075 | rank:   3.0 | eps: 2.5e-01 | \n",
      "#   4 | time:      0.094 | rank:   3.0 | eps: 1.6e-01 | \n",
      "#   5 | time:      0.112 | rank:   3.0 | eps: 1.1e-01 | \n",
      "#   6 | time:      0.131 | rank:   3.0 | eps: 8.9e-02 | \n",
      "#   7 | time:      0.149 | rank:   3.0 | eps: 7.8e-02 | \n",
      "#   8 | time:      0.168 | rank:   3.0 | eps: 7.0e-02 | \n",
      "#   9 | time:      0.186 | rank:   3.0 | eps: 6.4e-02 | \n",
      "#  10 | time:      0.205 | rank:   3.0 | eps: 5.9e-02 | \n",
      "#  11 | time:      0.224 | rank:   3.0 | eps: 5.5e-02 | \n",
      "#  12 | time:      0.242 | rank:   3.0 | eps: 5.2e-02 | \n",
      "#  13 | time:      0.261 | rank:   3.0 | eps: 5.0e-02 | \n",
      "#  14 | time:      0.279 | rank:   3.0 | eps: 4.7e-02 | \n",
      "#  15 | time:      0.298 | rank:   3.0 | eps: 4.2e-02 | \n",
      "#  16 | time:      0.316 | rank:   3.0 | eps: 3.8e-02 | \n",
      "#  17 | time:      0.334 | rank:   3.0 | eps: 3.4e-02 | \n",
      "#  18 | time:      0.353 | rank:   3.0 | eps: 3.2e-02 | \n",
      "#  19 | time:      0.371 | rank:   3.0 | eps: 3.0e-02 | \n",
      "#  20 | time:      0.389 | rank:   3.0 | eps: 2.8e-02 | \n",
      "#  21 | time:      0.409 | rank:   3.0 | eps: 2.7e-02 | \n",
      "#  22 | time:      0.427 | rank:   3.0 | eps: 2.6e-02 | \n",
      "#  23 | time:      0.445 | rank:   3.0 | eps: 2.5e-02 | \n",
      "#  24 | time:      0.464 | rank:   3.0 | eps: 2.4e-02 | \n",
      "#  25 | time:      0.482 | rank:   3.0 | eps: 2.3e-02 | \n",
      "#  26 | time:      0.500 | rank:   3.0 | eps: 2.2e-02 | \n",
      "#  27 | time:      0.519 | rank:   3.0 | eps: 2.1e-02 | \n",
      "#  28 | time:      0.537 | rank:   3.0 | eps: 2.0e-02 | \n",
      "#  29 | time:      0.555 | rank:   3.0 | eps: 2.0e-02 | \n",
      "#  30 | time:      0.574 | rank:   3.0 | eps: 1.9e-02 | stop: nswp | \n"
     ]
    }
   ],
   "source": [
    "Y_als = teneva.als(train,  Y_train, Y0, log=True, nswp=30)"
   ]
  },
  {
   "cell_type": "code",
   "execution_count": 492,
   "id": "e749780e",
   "metadata": {
    "ExecuteTime": {
     "end_time": "2022-09-17T18:09:13.618026Z",
     "start_time": "2022-09-17T18:09:13.615130Z"
    }
   },
   "outputs": [],
   "source": [
    "Y_als[1];"
   ]
  },
  {
   "cell_type": "code",
   "execution_count": 510,
   "id": "88bbcb3f",
   "metadata": {
    "ExecuteTime": {
     "end_time": "2022-09-17T18:19:33.734541Z",
     "start_time": "2022-09-17T18:19:32.955665Z"
    }
   },
   "outputs": [
    {
     "data": {
      "text/plain": [
       "(2.0847552792748135e-12, 2.123440281771813e-12)"
      ]
     },
     "execution_count": 510,
     "metadata": {},
     "output_type": "execute_result"
    }
   ],
   "source": [
    "accuracy_on_data(Y_als, train, Y_train), accuracy_on_data(Y_als, test, Y_test)"
   ]
  },
  {
   "cell_type": "code",
   "execution_count": null,
   "id": "83883ba9",
   "metadata": {},
   "outputs": [],
   "source": []
  },
  {
   "cell_type": "code",
   "execution_count": 162,
   "id": "2c754158",
   "metadata": {
    "ExecuteTime": {
     "end_time": "2022-09-17T13:03:29.437141Z",
     "start_time": "2022-09-17T13:03:29.434739Z"
    }
   },
   "outputs": [
    {
     "data": {
      "text/plain": [
       "((1000, 5), 5)"
      ]
     },
     "execution_count": 162,
     "metadata": {},
     "output_type": "execute_result"
    }
   ],
   "source": [
    "train.shape, len(Y0)"
   ]
  },
  {
   "cell_type": "code",
   "execution_count": 452,
   "id": "2ce8eb78",
   "metadata": {
    "ExecuteTime": {
     "end_time": "2022-09-17T17:59:10.738530Z",
     "start_time": "2022-09-17T17:59:10.734381Z"
    }
   },
   "outputs": [
    {
     "data": {
      "text/plain": [
       "(array([5, 6, 7, 8, 9]),)"
      ]
     },
     "execution_count": 452,
     "metadata": {},
     "output_type": "execute_result"
    }
   ],
   "source": [
    "np.where(np.arange(10) > 4)"
   ]
  },
  {
   "cell_type": "code",
   "execution_count": null,
   "id": "ff899988",
   "metadata": {},
   "outputs": [],
   "source": []
  }
 ],
 "metadata": {
  "kernelspec": {
   "display_name": "Python 3",
   "language": "python",
   "name": "python3"
  },
  "language_info": {
   "codemirror_mode": {
    "name": "ipython",
    "version": 3
   },
   "file_extension": ".py",
   "mimetype": "text/x-python",
   "name": "python",
   "nbconvert_exporter": "python",
   "pygments_lexer": "ipython3",
   "version": "3.8.8"
  }
 },
 "nbformat": 4,
 "nbformat_minor": 5
}
