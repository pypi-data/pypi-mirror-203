{
 "cells": [
  {
   "cell_type": "code",
   "execution_count": 56,
   "id": "a4c0716c-e3a6-4755-8199-2cfa0e1c44de",
   "metadata": {
    "tags": []
   },
   "outputs": [],
   "source": [
    "import numpy as np\n",
    "import teneva\n",
    "from time import perf_counter as tpc\n",
    "np.random.seed(42)"
   ]
  },
  {
   "cell_type": "code",
   "execution_count": 141,
   "id": "3bf8b663-09e5-47de-97dd-faa231d62f60",
   "metadata": {
    "tags": []
   },
   "outputs": [],
   "source": [
    "def f_build(d=10, n=5):\n",
    "    \n",
    "    a = -5.12\n",
    "    b = +5.12\n",
    "    \n",
    "    par_A = 10.\n",
    "    \n",
    "    def f(I):\n",
    "        X = teneva.ind_to_poi(I, a, b, n)\n",
    "        y1 = par_A * d\n",
    "        y2 = np.sum(X**2 - par_A * np.cos(2. * np.pi * X), axis=1)\n",
    "        return y1 + y2\n",
    "    \n",
    "    f.d = d\n",
    "    f.n = n\n",
    "    \n",
    "    return f"
   ]
  },
  {
   "cell_type": "code",
   "execution_count": 142,
   "id": "0dd8ce3d-5abc-4d0b-bb2f-85235609cc51",
   "metadata": {
    "tags": []
   },
   "outputs": [],
   "source": [
    "f = f_build()\n",
    "\n",
    "m_trn = int(1.E+4)\n",
    "I_trn = np.vstack([np.random.choice(f.n, m_trn) for k in range(f.d)]).T\n",
    "y_trn = f(I_trn)\n",
    "\n",
    "m_tst = int(1.E+4)\n",
    "I_tst = np.vstack([np.random.choice(f.n, m_tst) for k in range(f.d)]).T\n",
    "y_tst = f(I_tst)"
   ]
  },
  {
   "cell_type": "code",
   "execution_count": 143,
   "id": "6fee23a5-2cf3-4eae-99a1-a81c112a1bf2",
   "metadata": {
    "tags": []
   },
   "outputs": [],
   "source": [
    "def to_tt(Y):\n",
    "    return [G.reshape(1, -1, 1) for G in Y]"
   ]
  },
  {
   "cell_type": "code",
   "execution_count": 144,
   "id": "e74cbbdf-aeb3-4e5b-9518-293091b8b1ed",
   "metadata": {
    "tags": []
   },
   "outputs": [],
   "source": [
    "def get(Y, i):\n",
    "    return np.prod([G[j] for (G, j) in zip(Y, i)])"
   ]
  },
  {
   "cell_type": "code",
   "execution_count": 145,
   "id": "1604aa41-078a-4362-94b9-a91a4a9ab2c1",
   "metadata": {
    "tags": []
   },
   "outputs": [],
   "source": [
    "def set(Y, i, w, I_hist):\n",
    "    d = len(Y)\n",
    "    \n",
    "    for k in range(d):\n",
    "        Y[k][i[k]] *= w\n",
    "             \n",
    "        for i_hist in I_hist:\n",
    "            if i_hist[k] != i[k]:\n",
    "                continue\n",
    "                    \n",
    "            c = np.sum(i_hist == i)\n",
    "            \n",
    "            if c == 0:\n",
    "                continue\n",
    "            \n",
    "            v = w**(d-c)\n",
    "\n",
    "            for k2 in range(d):\n",
    "                if i_hist[k2] == i[k2]:\n",
    "                    continue\n",
    "\n",
    "                Y[k2][i_hist[k2]] /= v "
   ]
  },
  {
   "cell_type": "code",
   "execution_count": 146,
   "id": "ab0dff6f-c56e-4cb2-b23f-dd9eebe4e0cd",
   "metadata": {
    "tags": []
   },
   "outputs": [
    {
     "name": "stdout",
     "output_type": "stream",
     "text": [
      "TT-tensor    10D : |5| |5| |5| |5| |5| |5| |5| |5| |5| |5|\n",
      "<rank>  =    1.0 :   \\1/ \\1/ \\1/ \\1/ \\1/ \\1/ \\1/ \\1/ \\1/\n",
      "Iter #      1 : 5.7e-14\n",
      "Iter #      2 : 5.7e-14, 1.7e-13\n",
      "Iter #      3 : 1.6e+02, 2.2e+02, 1.7e-13\n",
      "Iter #      4 : 1.6e+02, 2.2e+02, 2.4e+02, 2.6e-13\n",
      "Iter #      5 : 1.6e+02, 2.2e+02, 2.4e+02, 2.5e+02, 3.1e-12\n",
      "Iter #      6 :     nan,     nan,     nan,     nan,     nan,     nan\n",
      "Iter #      7 :     nan,     nan,     nan,     nan,     nan,     nan,     nan\n",
      "Iter #      8 :     nan,     nan,     nan,     nan,     nan,     nan,     nan,     nan\n",
      "Iter #      9 :     nan,     nan,     nan,     nan,     nan,     nan,     nan,     nan,     nan\n",
      "Iter #     10 :     nan,     nan,     nan,     nan,     nan,     nan,     nan,     nan,     nan,     nan\n",
      "Iter #     11 :     nan,     nan,     nan,     nan,     nan,     nan,     nan,     nan,     nan,     nan,     nan\n",
      "Iter #     12 :     nan,     nan,     nan,     nan,     nan,     nan,     nan,     nan,     nan,     nan,     nan,     nan\n"
     ]
    },
    {
     "name": "stderr",
     "output_type": "stream",
     "text": [
      "/var/folders/lx/fvbjhm6j19d8w7f5ylv8x15w0000gn/T/ipykernel_83575/4232390218.py:11: RuntimeWarning: divide by zero encountered in double_scalars\n",
      "  w = (y_data / y)**(1/d)\n",
      "/var/folders/lx/fvbjhm6j19d8w7f5ylv8x15w0000gn/T/ipykernel_83575/878628479.py:5: RuntimeWarning: invalid value encountered in double_scalars\n",
      "  Y[k][i[k]] *= w\n"
     ]
    }
   ],
   "source": [
    "d = f.d\n",
    "n = f.n\n",
    "Y = [np.ones(n) for k in range(d)]\n",
    "teneva.show(to_tt(Y))\n",
    "\n",
    "for k in range(m_trn):\n",
    "    i_data = I_trn[k]\n",
    "    y_data = y_trn[k]\n",
    "    \n",
    "    y = get(Y, i_data)\n",
    "    w = (y_data / y)**(1/d)\n",
    "    set(Y, i_data, w, I_trn[:k] if k>0 else [])\n",
    "\n",
    "    e_list = []\n",
    "    for q in range(k+1):\n",
    "        y_pred = get(Y, I_trn[q])\n",
    "        y_real = y_trn[q]\n",
    "        e_list.append(np.abs(y_pred - y_real))\n",
    "    e_list = ', '.join([f'{e:-7.1e}' for e in e_list])\n",
    "    print(f'Iter # {k+1:-6d} : {e_list}')\n",
    "  \n",
    "    # print(i_data)\n",
    "    # print(np.array(Y).T)\n",
    "        \n",
    "    if k > 10:\n",
    "        break"
   ]
  },
  {
   "cell_type": "code",
   "execution_count": 24,
   "id": "c051eb3f-c610-42ad-a77c-783368f9cd5b",
   "metadata": {
    "tags": []
   },
   "outputs": [
    {
     "data": {
      "text/plain": [
       "75.60309831340474"
      ]
     },
     "execution_count": 24,
     "metadata": {},
     "output_type": "execute_result"
    }
   ],
   "source": [
    "k = 0\n",
    "i_data = I_trn[k]\n",
    "y_data = y_trn[k]\n",
    "y_data"
   ]
  },
  {
   "cell_type": "code",
   "execution_count": 28,
   "id": "13a6e3cc-2560-4ed0-b927-e55eba2e8528",
   "metadata": {
    "tags": []
   },
   "outputs": [
    {
     "data": {
      "text/plain": [
       "75.60309831340477"
      ]
     },
     "execution_count": 28,
     "metadata": {},
     "output_type": "execute_result"
    }
   ],
   "source": [
    "y = get(Y, i_data)\n",
    "w = (y_data / y)**(1/d)\n",
    "set(Y, i_data, w)\n",
    "get(Y, i_data)"
   ]
  },
  {
   "cell_type": "code",
   "execution_count": null,
   "id": "16d3638e-dd13-4204-a0a8-2c2a1b84177c",
   "metadata": {},
   "outputs": [],
   "source": []
  },
  {
   "cell_type": "code",
   "execution_count": null,
   "id": "fbb7de51-e3ab-42cb-bd7a-298b74401969",
   "metadata": {},
   "outputs": [],
   "source": []
  },
  {
   "cell_type": "code",
   "execution_count": null,
   "id": "f8439f0f-54f8-4f87-9cc1-02adaa564c82",
   "metadata": {},
   "outputs": [],
   "source": []
  }
 ],
 "metadata": {
  "kernelspec": {
   "display_name": "Python 3 (ipykernel)",
   "language": "python",
   "name": "python3"
  },
  "language_info": {
   "codemirror_mode": {
    "name": "ipython",
    "version": 3
   },
   "file_extension": ".py",
   "mimetype": "text/x-python",
   "name": "python",
   "nbconvert_exporter": "python",
   "pygments_lexer": "ipython3",
   "version": "3.8.16"
  }
 },
 "nbformat": 4,
 "nbformat_minor": 5
}
