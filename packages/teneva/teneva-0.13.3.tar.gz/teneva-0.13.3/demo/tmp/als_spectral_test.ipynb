{
 "cells": [
  {
   "cell_type": "code",
   "execution_count": 1,
   "id": "51b31a1e-ff0d-4110-a0ab-c3c64d88888e",
   "metadata": {},
   "outputs": [],
   "source": [
    "import numpy as np\n",
    "import scipy as sp\n",
    "import scipy.optimize\n",
    "import teneva\n",
    "np.random.seed(42)"
   ]
  },
  {
   "cell_type": "code",
   "execution_count": 2,
   "id": "5cb2401c-3a8a-4d73-96a7-cd9b56c484e5",
   "metadata": {},
   "outputs": [],
   "source": [
    "a = -1.\n",
    "b = +1.\n",
    "d = 5\n",
    "n = 10\n",
    "m = 1.E+5\n",
    "r = 4\n",
    "q = 8"
   ]
  },
  {
   "cell_type": "code",
   "execution_count": 3,
   "id": "36bfda55-2dfc-4007-a1a2-9c0478fbe58e",
   "metadata": {},
   "outputs": [],
   "source": [
    "I_trn = teneva.sample_lhs([n]*d, m)\n",
    "I_tst = teneva.sample_lhs([n]*d, m)\n",
    "\n",
    "X_trn = teneva.ind_to_poi(I_trn, a, b, n, 'cheb')\n",
    "X_tst = teneva.ind_to_poi(I_tst, a, b, n, 'cheb')\n",
    "\n",
    "Y_trn = sp.optimize.rosen(X_trn.T)\n",
    "Y_tst = sp.optimize.rosen(X_tst.T)"
   ]
  },
  {
   "cell_type": "code",
   "execution_count": 4,
   "id": "3f9c6585-bf2b-4202-baea-7c7573f0b49d",
   "metadata": {},
   "outputs": [
    {
     "name": "stdout",
     "output_type": "stream",
     "text": [
      "TT-tensor     5D : |8| |8| |8| |8| |8|\n",
      "<rank>  =    4.0 :   \\4/ \\4/ \\4/ \\4/\n"
     ]
    }
   ],
   "source": [
    "Y0 = teneva.tensor_rand([q]*d, r)\n",
    "teneva.show(Y0)"
   ]
  },
  {
   "cell_type": "code",
   "execution_count": 5,
   "id": "88c4560b-32fe-412b-8372-45a16703d5a5",
   "metadata": {},
   "outputs": [
    {
     "name": "stdout",
     "output_type": "stream",
     "text": [
      "# pre | time:      0.063 | rank:   4.0 | \n",
      "#   1 | time:      4.860 | rank:   4.0 | eps: 1.3e+00 | \n",
      "#   2 | time:      8.230 | rank:   4.0 | eps: 1.0e-01 | \n",
      "#   3 | time:     11.930 | rank:   4.0 | eps: 2.0e-04 | \n",
      "#   4 | time:     15.922 | rank:   4.0 | eps: 7.2e-07 | \n",
      "#   5 | time:     19.937 | rank:   4.0 | eps: 0.0e+00 | stop: e | \n"
     ]
    }
   ],
   "source": [
    "f = lambda X: teneva.cheb_pol(X, a, b, q).T\n",
    "A = teneva.als_spectral(X_trn, Y_trn, Y0, f, log=True, nswp=10)"
   ]
  },
  {
   "cell_type": "code",
   "execution_count": 5,
   "id": "a398ee58-ab03-4674-a26a-9ac9a8f5c153",
   "metadata": {},
   "outputs": [
    {
     "name": "stdout",
     "output_type": "stream",
     "text": [
      "# pre | time:      0.078 | rank:   4.0 | \n",
      "#   1 | time:      6.846 | rank:   4.0 | eps: 1.0e+00 | \n",
      "#   2 | time:     12.224 | rank:   4.0 | eps: 1.4e-01 | \n",
      "#   3 | time:     17.611 | rank:   4.0 | eps: 5.0e-04 | \n",
      "#   4 | time:     23.076 | rank:   4.0 | eps: 2.6e-06 | \n",
      "#   5 | time:     28.854 | rank:   4.0 | eps: 0.0e+00 | stop: e | \n"
     ]
    }
   ],
   "source": [
    "A = teneva.als_spectral_cheb(X_trn, Y_trn, Y0, a, b, nswp=10, log=True)"
   ]
  },
  {
   "cell_type": "code",
   "execution_count": 6,
   "id": "60bcfc32-cffa-48ca-8bba-7733fd286211",
   "metadata": {},
   "outputs": [
    {
     "data": {
      "text/plain": [
       "1.1270514591387253e-10"
      ]
     },
     "execution_count": 6,
     "metadata": {},
     "output_type": "execute_result"
    }
   ],
   "source": [
    "Y_trn_appr = teneva.cheb_get(X_trn, A, a, b)\n",
    "\n",
    "np.linalg.norm(Y_trn_appr - Y_trn) / np.linalg.norm(Y_trn)"
   ]
  },
  {
   "cell_type": "code",
   "execution_count": 7,
   "id": "0973ca23-0f01-4fc6-a6ea-aea120e17c9a",
   "metadata": {},
   "outputs": [
    {
     "data": {
      "text/plain": [
       "1.145845511391676e-10"
      ]
     },
     "execution_count": 7,
     "metadata": {},
     "output_type": "execute_result"
    }
   ],
   "source": [
    "Y_tst_appr = teneva.cheb_get(X_tst, A, a, b)\n",
    "\n",
    "np.linalg.norm(Y_tst_appr - Y_tst) / np.linalg.norm(Y_tst)"
   ]
  },
  {
   "cell_type": "code",
   "execution_count": null,
   "id": "6e96acc3-6d4f-45ee-89e1-7e028cd91901",
   "metadata": {},
   "outputs": [],
   "source": []
  },
  {
   "cell_type": "code",
   "execution_count": null,
   "id": "376cc0af-9d89-406c-8760-e56adc8c2a2b",
   "metadata": {},
   "outputs": [],
   "source": []
  },
  {
   "cell_type": "code",
   "execution_count": 8,
   "id": "7c801c84-fe06-4018-988f-2b5e4d5a8458",
   "metadata": {},
   "outputs": [],
   "source": [
    "from time import perf_counter as tpc"
   ]
  },
  {
   "cell_type": "code",
   "execution_count": 10,
   "id": "7b6760e7-b74b-4273-90ae-6a8c7403cbc7",
   "metadata": {},
   "outputs": [
    {
     "ename": "ValueError",
     "evalue": "Invalid grid option",
     "output_type": "error",
     "traceback": [
      "\u001b[0;31m---------------------------------------------------------------------------\u001b[0m",
      "\u001b[0;31mValueError\u001b[0m                                Traceback (most recent call last)",
      "\u001b[0;32m<ipython-input-10-9964bda5a657>\u001b[0m in \u001b[0;36m<module>\u001b[0;34m\u001b[0m\n\u001b[1;32m      8\u001b[0m     \u001b[0mq\u001b[0m \u001b[0;34m=\u001b[0m \u001b[0;36m3\u001b[0m\u001b[0;34m\u001b[0m\u001b[0;34m\u001b[0m\u001b[0m\n\u001b[1;32m      9\u001b[0m     \u001b[0mA0\u001b[0m \u001b[0;34m=\u001b[0m \u001b[0mteneva\u001b[0m\u001b[0;34m.\u001b[0m\u001b[0mtensor_rand\u001b[0m\u001b[0;34m(\u001b[0m\u001b[0;34m[\u001b[0m\u001b[0mq\u001b[0m\u001b[0;34m]\u001b[0m\u001b[0;34m*\u001b[0m\u001b[0mfunc\u001b[0m\u001b[0;34m.\u001b[0m\u001b[0md\u001b[0m\u001b[0;34m,\u001b[0m \u001b[0mr\u001b[0m\u001b[0;34m=\u001b[0m\u001b[0;36m4\u001b[0m\u001b[0;34m)\u001b[0m\u001b[0;34m\u001b[0m\u001b[0;34m\u001b[0m\u001b[0m\n\u001b[0;32m---> 10\u001b[0;31m     func.A = teneva.als_spectral_cheb(func.X_trn_ind, func.Y_trn_ind, A0,\n\u001b[0m\u001b[1;32m     11\u001b[0m         func.a, func.b, nswp=10, log=True)\n\u001b[1;32m     12\u001b[0m     \u001b[0mfunc\u001b[0m\u001b[0;34m.\u001b[0m\u001b[0mt\u001b[0m \u001b[0;34m+=\u001b[0m \u001b[0mtpc\u001b[0m\u001b[0;34m(\u001b[0m\u001b[0;34m)\u001b[0m \u001b[0;34m-\u001b[0m \u001b[0mt\u001b[0m\u001b[0;34m\u001b[0m\u001b[0;34m\u001b[0m\u001b[0m\n",
      "\u001b[0;32m~/opt/anaconda3/lib/python3.8/site-packages/teneva-0.11.6-py3.8.egg/teneva/core/als_spectral.py\u001b[0m in \u001b[0;36mals_spectral_cheb\u001b[0;34m(X_trn, Y_trn, A0, a, b, nswp, e, info, log)\u001b[0m\n\u001b[1;32m    110\u001b[0m     \u001b[0mn\u001b[0m \u001b[0;34m=\u001b[0m \u001b[0mteneva\u001b[0m\u001b[0;34m.\u001b[0m\u001b[0mshape\u001b[0m\u001b[0;34m(\u001b[0m\u001b[0mA0\u001b[0m\u001b[0;34m)\u001b[0m\u001b[0;34m\u001b[0m\u001b[0;34m\u001b[0m\u001b[0m\n\u001b[1;32m    111\u001b[0m     \u001b[0mfh\u001b[0m \u001b[0;34m=\u001b[0m \u001b[0;32mlambda\u001b[0m \u001b[0mX\u001b[0m\u001b[0;34m:\u001b[0m \u001b[0mteneva\u001b[0m\u001b[0;34m.\u001b[0m\u001b[0mcheb_pol\u001b[0m\u001b[0;34m(\u001b[0m\u001b[0mX\u001b[0m\u001b[0;34m,\u001b[0m \u001b[0ma\u001b[0m\u001b[0;34m,\u001b[0m \u001b[0mb\u001b[0m\u001b[0;34m,\u001b[0m \u001b[0mn\u001b[0m\u001b[0;34m[\u001b[0m\u001b[0;36m0\u001b[0m\u001b[0;34m]\u001b[0m\u001b[0;34m)\u001b[0m\u001b[0;34m.\u001b[0m\u001b[0mT\u001b[0m\u001b[0;34m\u001b[0m\u001b[0;34m\u001b[0m\u001b[0m\n\u001b[0;32m--> 112\u001b[0;31m     \u001b[0mA\u001b[0m \u001b[0;34m=\u001b[0m \u001b[0mals_spectral\u001b[0m\u001b[0;34m(\u001b[0m\u001b[0mX_trn\u001b[0m\u001b[0;34m,\u001b[0m \u001b[0mY_trn\u001b[0m\u001b[0;34m,\u001b[0m \u001b[0mA0\u001b[0m\u001b[0;34m,\u001b[0m \u001b[0mfh\u001b[0m\u001b[0;34m,\u001b[0m \u001b[0mnswp\u001b[0m\u001b[0;34m,\u001b[0m \u001b[0me\u001b[0m\u001b[0;34m,\u001b[0m \u001b[0minfo\u001b[0m\u001b[0;34m,\u001b[0m \u001b[0mlog\u001b[0m\u001b[0;34m=\u001b[0m\u001b[0mlog\u001b[0m\u001b[0;34m)\u001b[0m\u001b[0;34m\u001b[0m\u001b[0;34m\u001b[0m\u001b[0m\n\u001b[0m\u001b[1;32m    113\u001b[0m     \u001b[0;31m#_info(A, info, _time, log=log)\u001b[0m\u001b[0;34m\u001b[0m\u001b[0;34m\u001b[0m\u001b[0;34m\u001b[0m\u001b[0m\n\u001b[1;32m    114\u001b[0m     \u001b[0;32mreturn\u001b[0m \u001b[0mA\u001b[0m\u001b[0;34m\u001b[0m\u001b[0;34m\u001b[0m\u001b[0m\n",
      "\u001b[0;32m~/opt/anaconda3/lib/python3.8/site-packages/teneva-0.11.6-py3.8.egg/teneva/core/als_spectral.py\u001b[0m in \u001b[0;36mals_spectral\u001b[0;34m(X_trn, Y_trn, Y0, fh, nswp, e, info, log)\u001b[0m\n\u001b[1;32m     68\u001b[0m     \u001b[0;31m# Assuming they are all the same for now:\u001b[0m\u001b[0;34m\u001b[0m\u001b[0;34m\u001b[0m\u001b[0;34m\u001b[0m\u001b[0m\n\u001b[1;32m     69\u001b[0m     \u001b[0mn_shape\u001b[0m \u001b[0;34m=\u001b[0m \u001b[0mY\u001b[0m\u001b[0;34m[\u001b[0m\u001b[0;36m0\u001b[0m\u001b[0;34m]\u001b[0m\u001b[0;34m.\u001b[0m\u001b[0mshape\u001b[0m\u001b[0;34m[\u001b[0m\u001b[0;36m1\u001b[0m\u001b[0;34m]\u001b[0m\u001b[0;34m\u001b[0m\u001b[0;34m\u001b[0m\u001b[0m\n\u001b[0;32m---> 70\u001b[0;31m     \u001b[0mH\u001b[0m \u001b[0;34m=\u001b[0m \u001b[0mfh\u001b[0m\u001b[0;34m(\u001b[0m\u001b[0mX_trn\u001b[0m\u001b[0;34m.\u001b[0m\u001b[0mreshape\u001b[0m\u001b[0;34m(\u001b[0m\u001b[0;34m-\u001b[0m\u001b[0;36m1\u001b[0m\u001b[0;34m)\u001b[0m\u001b[0;34m)\u001b[0m\u001b[0;34m.\u001b[0m\u001b[0mreshape\u001b[0m\u001b[0;34m(\u001b[0m\u001b[0;34m(\u001b[0m\u001b[0;34m*\u001b[0m\u001b[0mX_trn\u001b[0m\u001b[0;34m.\u001b[0m\u001b[0mshape\u001b[0m\u001b[0;34m,\u001b[0m \u001b[0mn_shape\u001b[0m\u001b[0;34m)\u001b[0m\u001b[0;34m)\u001b[0m\u001b[0;34m\u001b[0m\u001b[0;34m\u001b[0m\u001b[0m\n\u001b[0m\u001b[1;32m     71\u001b[0m     \u001b[0;32mdel\u001b[0m \u001b[0mX_trn\u001b[0m \u001b[0;31m# For test and for memory\u001b[0m\u001b[0;34m\u001b[0m\u001b[0;34m\u001b[0m\u001b[0m\n\u001b[1;32m     72\u001b[0m \u001b[0;34m\u001b[0m\u001b[0m\n",
      "\u001b[0;32m~/opt/anaconda3/lib/python3.8/site-packages/teneva-0.11.6-py3.8.egg/teneva/core/als_spectral.py\u001b[0m in \u001b[0;36m<lambda>\u001b[0;34m(X)\u001b[0m\n\u001b[1;32m    109\u001b[0m     \u001b[0minfo\u001b[0m \u001b[0;34m=\u001b[0m \u001b[0;34m{\u001b[0m\u001b[0;34m}\u001b[0m\u001b[0;34m\u001b[0m\u001b[0;34m\u001b[0m\u001b[0m\n\u001b[1;32m    110\u001b[0m     \u001b[0mn\u001b[0m \u001b[0;34m=\u001b[0m \u001b[0mteneva\u001b[0m\u001b[0;34m.\u001b[0m\u001b[0mshape\u001b[0m\u001b[0;34m(\u001b[0m\u001b[0mA0\u001b[0m\u001b[0;34m)\u001b[0m\u001b[0;34m\u001b[0m\u001b[0;34m\u001b[0m\u001b[0m\n\u001b[0;32m--> 111\u001b[0;31m     \u001b[0mfh\u001b[0m \u001b[0;34m=\u001b[0m \u001b[0;32mlambda\u001b[0m \u001b[0mX\u001b[0m\u001b[0;34m:\u001b[0m \u001b[0mteneva\u001b[0m\u001b[0;34m.\u001b[0m\u001b[0mcheb_pol\u001b[0m\u001b[0;34m(\u001b[0m\u001b[0mX\u001b[0m\u001b[0;34m,\u001b[0m \u001b[0ma\u001b[0m\u001b[0;34m,\u001b[0m \u001b[0mb\u001b[0m\u001b[0;34m,\u001b[0m \u001b[0mn\u001b[0m\u001b[0;34m[\u001b[0m\u001b[0;36m0\u001b[0m\u001b[0;34m]\u001b[0m\u001b[0;34m)\u001b[0m\u001b[0;34m.\u001b[0m\u001b[0mT\u001b[0m\u001b[0;34m\u001b[0m\u001b[0;34m\u001b[0m\u001b[0m\n\u001b[0m\u001b[1;32m    112\u001b[0m     \u001b[0mA\u001b[0m \u001b[0;34m=\u001b[0m \u001b[0mals_spectral\u001b[0m\u001b[0;34m(\u001b[0m\u001b[0mX_trn\u001b[0m\u001b[0;34m,\u001b[0m \u001b[0mY_trn\u001b[0m\u001b[0;34m,\u001b[0m \u001b[0mA0\u001b[0m\u001b[0;34m,\u001b[0m \u001b[0mfh\u001b[0m\u001b[0;34m,\u001b[0m \u001b[0mnswp\u001b[0m\u001b[0;34m,\u001b[0m \u001b[0me\u001b[0m\u001b[0;34m,\u001b[0m \u001b[0minfo\u001b[0m\u001b[0;34m,\u001b[0m \u001b[0mlog\u001b[0m\u001b[0;34m=\u001b[0m\u001b[0mlog\u001b[0m\u001b[0;34m)\u001b[0m\u001b[0;34m\u001b[0m\u001b[0;34m\u001b[0m\u001b[0m\n\u001b[1;32m    113\u001b[0m     \u001b[0;31m#_info(A, info, _time, log=log)\u001b[0m\u001b[0;34m\u001b[0m\u001b[0;34m\u001b[0m\u001b[0;34m\u001b[0m\u001b[0m\n",
      "\u001b[0;32m~/opt/anaconda3/lib/python3.8/site-packages/teneva-0.11.6-py3.8.egg/teneva/core/cheb.py\u001b[0m in \u001b[0;36mcheb_pol\u001b[0;34m(X, a, b, m)\u001b[0m\n\u001b[1;32m    260\u001b[0m     \u001b[0md\u001b[0m \u001b[0;34m=\u001b[0m \u001b[0mX\u001b[0m\u001b[0;34m.\u001b[0m\u001b[0mshape\u001b[0m\u001b[0;34m[\u001b[0m\u001b[0;34m-\u001b[0m\u001b[0;36m1\u001b[0m\u001b[0;34m]\u001b[0m\u001b[0;34m\u001b[0m\u001b[0;34m\u001b[0m\u001b[0m\n\u001b[1;32m    261\u001b[0m     \u001b[0mreps\u001b[0m \u001b[0;34m=\u001b[0m \u001b[0mX\u001b[0m\u001b[0;34m.\u001b[0m\u001b[0mshape\u001b[0m\u001b[0;34m[\u001b[0m\u001b[0;36m0\u001b[0m\u001b[0;34m]\u001b[0m \u001b[0;32mif\u001b[0m \u001b[0mlen\u001b[0m\u001b[0;34m(\u001b[0m\u001b[0mX\u001b[0m\u001b[0;34m.\u001b[0m\u001b[0mshape\u001b[0m\u001b[0;34m)\u001b[0m \u001b[0;34m>\u001b[0m \u001b[0;36m1\u001b[0m \u001b[0;32melse\u001b[0m \u001b[0;32mNone\u001b[0m\u001b[0;34m\u001b[0m\u001b[0;34m\u001b[0m\u001b[0m\n\u001b[0;32m--> 262\u001b[0;31m     \u001b[0ma\u001b[0m\u001b[0;34m,\u001b[0m \u001b[0mb\u001b[0m\u001b[0;34m,\u001b[0m \u001b[0m_\u001b[0m \u001b[0;34m=\u001b[0m \u001b[0mteneva\u001b[0m\u001b[0;34m.\u001b[0m\u001b[0mgrid_prep_opts\u001b[0m\u001b[0;34m(\u001b[0m\u001b[0ma\u001b[0m\u001b[0;34m,\u001b[0m \u001b[0mb\u001b[0m\u001b[0;34m,\u001b[0m \u001b[0;32mNone\u001b[0m\u001b[0;34m,\u001b[0m \u001b[0md\u001b[0m\u001b[0;34m,\u001b[0m \u001b[0mreps\u001b[0m\u001b[0;34m)\u001b[0m\u001b[0;34m\u001b[0m\u001b[0;34m\u001b[0m\u001b[0m\n\u001b[0m\u001b[1;32m    263\u001b[0m     \u001b[0mX\u001b[0m \u001b[0;34m=\u001b[0m \u001b[0;34m(\u001b[0m\u001b[0;36m2.\u001b[0m \u001b[0;34m*\u001b[0m \u001b[0mX\u001b[0m \u001b[0;34m-\u001b[0m \u001b[0mb\u001b[0m \u001b[0;34m-\u001b[0m \u001b[0ma\u001b[0m\u001b[0;34m)\u001b[0m \u001b[0;34m/\u001b[0m \u001b[0;34m(\u001b[0m\u001b[0mb\u001b[0m \u001b[0;34m-\u001b[0m \u001b[0ma\u001b[0m\u001b[0;34m)\u001b[0m\u001b[0;34m\u001b[0m\u001b[0;34m\u001b[0m\u001b[0m\n\u001b[1;32m    264\u001b[0m \u001b[0;34m\u001b[0m\u001b[0m\n",
      "\u001b[0;32m~/opt/anaconda3/lib/python3.8/site-packages/teneva-0.11.6-py3.8.egg/teneva/core/grid.py\u001b[0m in \u001b[0;36mgrid_prep_opts\u001b[0;34m(a, b, n, d, reps)\u001b[0m\n\u001b[1;32m    115\u001b[0m                 \u001b[0md\u001b[0m \u001b[0;34m=\u001b[0m \u001b[0mlen\u001b[0m\u001b[0;34m(\u001b[0m\u001b[0mitem\u001b[0m\u001b[0;34m)\u001b[0m\u001b[0;34m\u001b[0m\u001b[0;34m\u001b[0m\u001b[0m\n\u001b[1;32m    116\u001b[0m             \u001b[0;32melif\u001b[0m \u001b[0md\u001b[0m \u001b[0;34m!=\u001b[0m \u001b[0mlen\u001b[0m\u001b[0;34m(\u001b[0m\u001b[0mitem\u001b[0m\u001b[0;34m)\u001b[0m\u001b[0;34m:\u001b[0m\u001b[0;34m\u001b[0m\u001b[0;34m\u001b[0m\u001b[0m\n\u001b[0;32m--> 117\u001b[0;31m                 \u001b[0;32mraise\u001b[0m \u001b[0mValueError\u001b[0m\u001b[0;34m(\u001b[0m\u001b[0;34m'Invalid grid option'\u001b[0m\u001b[0;34m)\u001b[0m\u001b[0;34m\u001b[0m\u001b[0;34m\u001b[0m\u001b[0m\n\u001b[0m\u001b[1;32m    118\u001b[0m \u001b[0;34m\u001b[0m\u001b[0m\n\u001b[1;32m    119\u001b[0m     \u001b[0ma\u001b[0m \u001b[0;34m=\u001b[0m \u001b[0mgrid_prep_opt\u001b[0m\u001b[0;34m(\u001b[0m\u001b[0ma\u001b[0m\u001b[0;34m,\u001b[0m \u001b[0md\u001b[0m\u001b[0;34m,\u001b[0m \u001b[0mfloat\u001b[0m\u001b[0;34m,\u001b[0m \u001b[0mreps\u001b[0m\u001b[0;34m)\u001b[0m\u001b[0;34m\u001b[0m\u001b[0;34m\u001b[0m\u001b[0m\n",
      "\u001b[0;31mValueError\u001b[0m: Invalid grid option"
     ]
    }
   ],
   "source": [
    "for func in teneva.func_demo_all(d=7, with_piston=True):\n",
    "    func.build_trn_ind(1.E+5)\n",
    "    func.build_tst_poi(1.E+5)\n",
    "    \n",
    "    func.method = func.method + '-ALS_SPEC' if func.method else 'ALS_SPEC'\n",
    "\n",
    "    t = tpc()\n",
    "    q = 3\n",
    "    A0 = teneva.tensor_rand([q]*func.d, r=4)\n",
    "    func.A = teneva.als_spectral_cheb(func.X_trn_ind, func.Y_trn_ind, A0,\n",
    "        func.a, func.b, nswp=10, log=True)\n",
    "    func.t += tpc() - t\n",
    "\n",
    "    if not func.m:\n",
    "        func.m = func.m_trn_ind\n",
    "\n",
    "    func.Y = teneva.cheb.gets(func.A, func.a, func.b, func.n)\n",
    "    func.r = teneva.erank(func.Y)\n",
    "\n",
    "    func._get = teneva.getter(func.Y)\n"
   ]
  },
  {
   "cell_type": "code",
   "execution_count": null,
   "id": "c56dfed1-67c0-4b01-bdd3-2aa9bc422be4",
   "metadata": {},
   "outputs": [],
   "source": []
  }
 ],
 "metadata": {
  "kernelspec": {
   "display_name": "Python 3",
   "language": "python",
   "name": "python3"
  },
  "language_info": {
   "codemirror_mode": {
    "name": "ipython",
    "version": 3
   },
   "file_extension": ".py",
   "mimetype": "text/x-python",
   "name": "python",
   "nbconvert_exporter": "python",
   "pygments_lexer": "ipython3",
   "version": "3.8.8"
  }
 },
 "nbformat": 4,
 "nbformat_minor": 5
}
