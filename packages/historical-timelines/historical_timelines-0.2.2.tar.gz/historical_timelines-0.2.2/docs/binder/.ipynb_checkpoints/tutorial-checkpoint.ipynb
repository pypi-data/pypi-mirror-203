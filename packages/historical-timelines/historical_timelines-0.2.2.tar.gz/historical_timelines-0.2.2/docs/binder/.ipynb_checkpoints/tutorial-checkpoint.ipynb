{
 "cells": [
  {
   "cell_type": "markdown",
   "id": "9f8d6e67",
   "metadata": {},
   "source": [
    "# historical-timelines Tutorial\n",
    "\n",
    "This tutorial will teach you the basic features of how to use the historical-timelines library"
   ]
  },
  {
   "cell_type": "code",
   "execution_count": null,
   "id": "0ae377ec",
   "metadata": {},
   "outputs": [],
   "source": [
    "# Install the historical-timelines package\n",
    "import sys\n",
    "!{sys.executable} -m pip install historical-timelines"
   ]
  },
  {
   "cell_type": "code",
   "execution_count": null,
   "id": "c2b9af96",
   "metadata": {},
   "outputs": [],
   "source": [
    "# Import the module\n",
    "import historical_timelines\n",
    "\n",
    "# Import the HistoricalTimeline object\n",
    "from historical_timelines import HistoricalTimeline\n",
    "\n",
    "# Allow notebooks to be displayed in jupyter\n",
    "from historical_timelines import output_notebook\n",
    "output_notebook()"
   ]
  },
  {
   "cell_type": "markdown",
   "id": "3c52f22a",
   "metadata": {},
   "source": [
    "## Using historical-timelines"
   ]
  },
  {
   "cell_type": "markdown",
   "id": "c53a14bd",
   "metadata": {},
   "source": [
    "### Creating a random timeline"
   ]
  },
  {
   "cell_type": "code",
   "execution_count": null,
   "id": "723fc744",
   "metadata": {},
   "outputs": [],
   "source": [
    "# Populate the timeline with data\n",
    "rt = HistoricalTimeline(\"Random Timeline\")\n",
    "rt.populate_random_timeline()"
   ]
  },
  {
   "cell_type": "code",
   "execution_count": null,
   "id": "eb64f5e9",
   "metadata": {},
   "outputs": [],
   "source": [
    "# Render the timeline\n",
    "rt.render_timeline(\"timeline.html\", True)"
   ]
  },
  {
   "cell_type": "markdown",
   "id": "98e6b20c",
   "metadata": {},
   "source": [
    "### Creating a timeline from csv\n",
    "\n",
    "Now we can create a timeline based on a csv. In this case, we'll use `timeline_egypt.csv`, which is included in this folder."
   ]
  },
  {
   "cell_type": "code",
   "execution_count": null,
   "id": "34f6065c",
   "metadata": {},
   "outputs": [],
   "source": [
    "et = HistoricalTimeline(\"Timeline from my csv\")"
   ]
  }
 ],
 "metadata": {
  "kernelspec": {
   "display_name": "Python 3 (ipykernel)",
   "language": "python",
   "name": "python3"
  },
  "language_info": {
   "codemirror_mode": {
    "name": "ipython",
    "version": 3
   },
   "file_extension": ".py",
   "mimetype": "text/x-python",
   "name": "python",
   "nbconvert_exporter": "python",
   "pygments_lexer": "ipython3",
   "version": "3.10.6"
  }
 },
 "nbformat": 4,
 "nbformat_minor": 5
}
