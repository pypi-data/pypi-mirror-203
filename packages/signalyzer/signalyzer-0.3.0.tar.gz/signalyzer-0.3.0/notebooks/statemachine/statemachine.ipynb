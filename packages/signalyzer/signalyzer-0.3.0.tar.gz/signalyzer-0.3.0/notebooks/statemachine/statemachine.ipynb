{
 "cells": [
  {
   "cell_type": "markdown",
   "id": "e0f8d02f-6ad3-4bbc-b026-a5745aa62442",
   "metadata": {
    "tags": []
   },
   "source": [
    "# Tutorial `Statemachine` *data class*\n",
    "\n",
    "This tutorial shall give you an overview of the features of the `Statemachine` class provided by the `signalyzer` Python package.\n",
    "\n",
    "For more details please read the documentation hosted on [gitlab.com](https://signalytics.gitlab.io/signalyzer)."
   ]
  },
  {
   "cell_type": "code",
   "execution_count": null,
   "id": "eddcb868-2e74-4b36-afac-0f00c0b99c63",
   "metadata": {},
   "outputs": [],
   "source": [
    "import plotly.graph_objects as go"
   ]
  },
  {
   "cell_type": "code",
   "execution_count": null,
   "id": "dcd30f9a-7eb7-486f-b276-508c76933c91",
   "metadata": {},
   "outputs": [],
   "source": [
    "from signalyzer import Statemachine, Trace"
   ]
  },
  {
   "cell_type": "markdown",
   "id": "de5f34b3-b229-4779-a98b-ba46e84d05db",
   "metadata": {},
   "source": [
    "## Statemachine: Creation "
   ]
  },
  {
   "cell_type": "markdown",
   "id": "a9d58049-f7a6-47d8-8d7f-1a1aeca03807",
   "metadata": {},
   "source": [
    "### Empty Statemachine"
   ]
  },
  {
   "cell_type": "code",
   "execution_count": null,
   "id": "7be786ec-bec9-4448-9295-89450c0008d4",
   "metadata": {
    "tags": []
   },
   "outputs": [],
   "source": [
    "Statemachine(states={})"
   ]
  },
  {
   "cell_type": "code",
   "execution_count": null,
   "id": "80212da6-4bb7-4ffb-bb2f-f77bae6ae25f",
   "metadata": {},
   "outputs": [],
   "source": [
    "Statemachine({})"
   ]
  },
  {
   "cell_type": "markdown",
   "id": "909456ec-f7f8-49f0-b275-7725918f6b60",
   "metadata": {},
   "source": [
    "### Statemachine with a Number of States"
   ]
  },
  {
   "cell_type": "markdown",
   "id": "4898bc1c-70fa-4a38-8ae2-5d2ff89bb3ef",
   "metadata": {},
   "source": [
    "Statemachine with ``3`` *states* starting with ``0``"
   ]
  },
  {
   "cell_type": "code",
   "execution_count": null,
   "id": "1ec6f6b0-c394-46e5-a2f5-2b335e46fa3c",
   "metadata": {},
   "outputs": [],
   "source": [
    "Statemachine.create(states=3)"
   ]
  },
  {
   "cell_type": "code",
   "execution_count": null,
   "id": "80020f9f-d442-469c-8286-1302d6cc8d37",
   "metadata": {},
   "outputs": [],
   "source": [
    "Statemachine.create(3)"
   ]
  },
  {
   "cell_type": "markdown",
   "id": "80994e5d-fbc3-4222-b2bc-198c838f4c8c",
   "metadata": {},
   "source": [
    "Statemachine with ``3`` *states* starting with ``-1``"
   ]
  },
  {
   "cell_type": "code",
   "execution_count": null,
   "id": "1cb2d61c-2bd4-4b93-a276-6c10410e59b5",
   "metadata": {},
   "outputs": [],
   "source": [
    "Statemachine.create(states=3, start=-1)"
   ]
  },
  {
   "cell_type": "code",
   "execution_count": null,
   "id": "ba10b270-7250-4fe3-9116-44a8f4fe9ef0",
   "metadata": {},
   "outputs": [],
   "source": [
    "Statemachine.create(3, -1)"
   ]
  },
  {
   "cell_type": "markdown",
   "id": "470d441a-49c1-4c56-a984-91173b2d64ef",
   "metadata": {},
   "source": [
    "### Statemachine from a List of State Labels"
   ]
  },
  {
   "cell_type": "markdown",
   "id": "8d39edca-62b9-47e2-8697-728d340db4c6",
   "metadata": {},
   "source": [
    "Statemachine with ``3`` *states* starting with ``0``"
   ]
  },
  {
   "cell_type": "code",
   "execution_count": null,
   "id": "6445c74c-7fc3-4b12-8c62-be89b1bdfac5",
   "metadata": {},
   "outputs": [],
   "source": [
    "Statemachine.create(['Negative', 'Zero', 'Positive'])"
   ]
  },
  {
   "cell_type": "markdown",
   "id": "78a1d846-8c87-410d-9049-896916f44991",
   "metadata": {},
   "source": [
    "Statemachine with ``3`` *states* starting with ``-1``"
   ]
  },
  {
   "cell_type": "code",
   "execution_count": null,
   "id": "03e5dc37-2e4d-4e36-9269-ad9edd6e9a24",
   "metadata": {},
   "outputs": [],
   "source": [
    "Statemachine.create(['Negative', 'Zero', 'Positive'], -1)"
   ]
  },
  {
   "cell_type": "markdown",
   "id": "ae648e7d-1486-4f99-a9bb-53857ee4c7e6",
   "metadata": {},
   "source": [
    "## Statemachine: Properties"
   ]
  },
  {
   "cell_type": "code",
   "execution_count": null,
   "id": "a0604f1e-ecdc-40bc-b6cb-19a4c3fb1d3a",
   "metadata": {},
   "outputs": [],
   "source": [
    "machine = Statemachine.create(['Negative', 'Zero', 'Positive'], -1)"
   ]
  },
  {
   "cell_type": "markdown",
   "id": "94c6103d-fac9-4b6d-98e0-affe3d0c80e1",
   "metadata": {
    "tags": []
   },
   "source": [
    "### Get States"
   ]
  },
  {
   "cell_type": "code",
   "execution_count": null,
   "id": "10cc31da-7053-4d36-a40c-99c953c01ff8",
   "metadata": {},
   "outputs": [],
   "source": [
    "machine.states"
   ]
  },
  {
   "cell_type": "markdown",
   "id": "b6498699-c195-4cb5-b405-ae25c90c3f3f",
   "metadata": {
    "tags": []
   },
   "source": [
    "### Get State Numbers"
   ]
  },
  {
   "cell_type": "code",
   "execution_count": null,
   "id": "45a668ca-8e00-49ce-b86e-84445ebdf9aa",
   "metadata": {},
   "outputs": [],
   "source": [
    "machine.numbers"
   ]
  },
  {
   "cell_type": "markdown",
   "id": "ea49262d-0053-4c7e-b1b0-51ca46563324",
   "metadata": {
    "tags": []
   },
   "source": [
    "### Get State Labels"
   ]
  },
  {
   "cell_type": "code",
   "execution_count": null,
   "id": "fabb99cc-9311-43e0-86d6-9bf77536e179",
   "metadata": {},
   "outputs": [],
   "source": [
    "machine.labels"
   ]
  },
  {
   "cell_type": "markdown",
   "id": "28028f93-8977-41df-aa28-9e1d83093b46",
   "metadata": {
    "tags": []
   },
   "source": [
    "### Get Signal Trace"
   ]
  },
  {
   "cell_type": "code",
   "execution_count": null,
   "id": "3f92572d-fa0a-4ded-8191-9970b5e96541",
   "metadata": {},
   "outputs": [],
   "source": [
    "machine.signal"
   ]
  },
  {
   "cell_type": "markdown",
   "id": "2751f0e4-e344-4679-a3e0-399ed085cdcd",
   "metadata": {},
   "source": [
    "### Set Signal Trace"
   ]
  },
  {
   "cell_type": "code",
   "execution_count": null,
   "id": "ad35d33d-74c8-4a3b-91ee-b0a4b5459434",
   "metadata": {},
   "outputs": [],
   "source": [
    "trace = Trace('States', [-1, -1, 0, 0, 1, -1, 0, -1])"
   ]
  },
  {
   "cell_type": "code",
   "execution_count": null,
   "id": "2005fd92-3040-4ba3-aff5-aa4326485f75",
   "metadata": {},
   "outputs": [],
   "source": [
    "machine.signal"
   ]
  },
  {
   "cell_type": "code",
   "execution_count": null,
   "id": "6377af79-ab3c-4756-8698-55d55c240f87",
   "metadata": {},
   "outputs": [],
   "source": [
    "machine.signal = trace"
   ]
  },
  {
   "cell_type": "code",
   "execution_count": null,
   "id": "17f484c6-d5f3-452e-b833-c80868adaa25",
   "metadata": {},
   "outputs": [],
   "source": [
    "machine.signal"
   ]
  },
  {
   "cell_type": "markdown",
   "id": "5224bd00-1eb7-4ae8-ab76-88a433da440a",
   "metadata": {
    "tags": []
   },
   "source": [
    "### Get State Transition Matrix"
   ]
  },
  {
   "cell_type": "code",
   "execution_count": null,
   "id": "9524774e-39ca-4b65-b02a-fd1f840aa201",
   "metadata": {
    "tags": []
   },
   "outputs": [],
   "source": [
    "machine.matrix"
   ]
  },
  {
   "cell_type": "markdown",
   "id": "609593a9-59c8-43cc-9f57-562a55a46e28",
   "metadata": {},
   "source": [
    "## Statemachine: Iterators"
   ]
  },
  {
   "cell_type": "markdown",
   "id": "4ed5e399-f953-4bcd-9605-25b0cc8c8cf4",
   "metadata": {},
   "source": [
    "### Get Number of States"
   ]
  },
  {
   "cell_type": "code",
   "execution_count": null,
   "id": "1b122558-9fdf-4d0e-ad4a-74064d18d54f",
   "metadata": {},
   "outputs": [],
   "source": [
    "len(machine)"
   ]
  },
  {
   "cell_type": "markdown",
   "id": "b7bc5de0-a3fb-47e8-9dc5-a3cc24d9e0cb",
   "metadata": {},
   "source": [
    "### State Items"
   ]
  },
  {
   "cell_type": "code",
   "execution_count": null,
   "id": "e5d2978b-5526-4b77-8582-d1b124c4a0d3",
   "metadata": {},
   "outputs": [],
   "source": [
    "machine.items()"
   ]
  },
  {
   "cell_type": "code",
   "execution_count": null,
   "id": "e4359424-035d-403f-83d4-18351f14b6b3",
   "metadata": {},
   "outputs": [],
   "source": [
    "list(machine.items())"
   ]
  },
  {
   "cell_type": "markdown",
   "id": "dd86efad-d84e-4cfa-b8b5-32b36851494e",
   "metadata": {},
   "source": [
    "### State Keys"
   ]
  },
  {
   "cell_type": "code",
   "execution_count": null,
   "id": "f3837091-6464-4bc7-a13a-01defbd9f2b9",
   "metadata": {},
   "outputs": [],
   "source": [
    "machine.keys()"
   ]
  },
  {
   "cell_type": "code",
   "execution_count": null,
   "id": "373d817a-9b8d-4e3d-a6fb-56d41dce5e40",
   "metadata": {},
   "outputs": [],
   "source": [
    "list(machine.keys())"
   ]
  },
  {
   "cell_type": "markdown",
   "id": "0e4be333-f01a-421e-b996-569adaeef480",
   "metadata": {},
   "source": [
    "### State Values"
   ]
  },
  {
   "cell_type": "code",
   "execution_count": null,
   "id": "d1c27c19-42c7-46bb-8a09-c856c320c555",
   "metadata": {},
   "outputs": [],
   "source": [
    "machine.values()"
   ]
  },
  {
   "cell_type": "code",
   "execution_count": null,
   "id": "19f6ba5b-d1db-42f7-8431-83730a904518",
   "metadata": {},
   "outputs": [],
   "source": [
    "list(machine.values())"
   ]
  },
  {
   "cell_type": "markdown",
   "id": "c63c8c2f-ee2f-48f5-a791-5ecd0793341d",
   "metadata": {},
   "source": [
    "### Get State Value by Number"
   ]
  },
  {
   "cell_type": "code",
   "execution_count": null,
   "id": "f89a68e6-b10d-4a9c-9c74-9fdb57b97e47",
   "metadata": {
    "tags": []
   },
   "outputs": [],
   "source": [
    "machine[-1]"
   ]
  },
  {
   "cell_type": "markdown",
   "id": "d64a49ca-e55b-4ce9-96f5-ae7e9c81948e",
   "metadata": {},
   "source": [
    "## Statemachine: State Transitions"
   ]
  },
  {
   "cell_type": "markdown",
   "id": "1349ba8a-9f4c-4bb2-9d32-d4b1c33bf6f3",
   "metadata": {},
   "source": [
    "### Create zeroed State Transition Matrix"
   ]
  },
  {
   "cell_type": "code",
   "execution_count": null,
   "id": "dea9d9e1-2bab-4e87-8050-c30682699536",
   "metadata": {},
   "outputs": [],
   "source": [
    "machine.zeroed_matrix()"
   ]
  },
  {
   "cell_type": "markdown",
   "id": "2144feb4-7db7-41c6-896e-7f52efabe865",
   "metadata": {},
   "source": [
    "### Create zeroed State Transition Counters"
   ]
  },
  {
   "cell_type": "code",
   "execution_count": null,
   "id": "d2e0a0a3-7beb-488d-ba68-25f9870545cb",
   "metadata": {},
   "outputs": [],
   "source": [
    "machine.zeroed_counters()"
   ]
  },
  {
   "cell_type": "markdown",
   "id": "a2bc2143-545e-402b-b924-317bc4b97b1f",
   "metadata": {},
   "source": [
    "## Statemachine: Evaluation"
   ]
  },
  {
   "cell_type": "markdown",
   "id": "090004e6-aace-494a-8c62-a4c1e7bfc4a4",
   "metadata": {
    "tags": []
   },
   "source": [
    "### Evaluation of assigned Signal Trace"
   ]
  },
  {
   "cell_type": "code",
   "execution_count": null,
   "id": "9999f0f6-e96f-4ce5-b2c3-d690be8a601b",
   "metadata": {},
   "outputs": [],
   "source": [
    "machine = Statemachine.create(['Negative', 'Zero', 'Positive'], -1)"
   ]
  },
  {
   "cell_type": "code",
   "execution_count": null,
   "id": "a9baaa0e-f0cb-49ee-a924-78420562d53e",
   "metadata": {},
   "outputs": [],
   "source": [
    "machine.signal = Trace('States', [-1, -1, 0, 0, 1, -1, 0, -1])"
   ]
  },
  {
   "cell_type": "code",
   "execution_count": null,
   "id": "83819252-59fa-4f4d-ab0e-802516ff9de9",
   "metadata": {
    "tags": []
   },
   "outputs": [],
   "source": [
    "machine.evaluate()"
   ]
  },
  {
   "cell_type": "markdown",
   "id": "1afeb75d-d6fa-4af6-bbe5-c547624a9315",
   "metadata": {},
   "source": [
    "### Evaluation at Creation-Point of a Signal Trace"
   ]
  },
  {
   "cell_type": "code",
   "execution_count": null,
   "id": "f6fba7d1-6406-4481-a30e-8fda6d2696d8",
   "metadata": {
    "tags": []
   },
   "outputs": [],
   "source": [
    "Statemachine.create(['Negative', 'Zero', 'Positive'], -1, signal=Trace('States', [-1, -1, 0, 0, 1, -1, 0, -1]))"
   ]
  },
  {
   "cell_type": "markdown",
   "id": "51e71674-dc7d-4c24-9003-82001ac33973",
   "metadata": {},
   "source": [
    "### Evaluation after Creation-Point of a Signal Trace"
   ]
  },
  {
   "cell_type": "code",
   "execution_count": null,
   "id": "8e6f8bbe-579e-41d8-aa2e-aff99c2b5614",
   "metadata": {},
   "outputs": [],
   "source": [
    "machine = Statemachine.create(['Negative', 'Zero', 'Positive'], -1)"
   ]
  },
  {
   "cell_type": "code",
   "execution_count": null,
   "id": "7049a699-f602-4074-8d0d-ab40ae76f497",
   "metadata": {
    "tags": []
   },
   "outputs": [],
   "source": [
    "machine"
   ]
  },
  {
   "cell_type": "code",
   "execution_count": null,
   "id": "9bbb115b-1711-4cf9-982e-10f6000794bf",
   "metadata": {},
   "outputs": [],
   "source": [
    "machine.evaluate(Trace('States', [-1, -1, 0, 0, 1, -1, 0, -1]))"
   ]
  },
  {
   "cell_type": "markdown",
   "id": "40302399-6f0f-4d8b-b9c0-1e21a8e9a87d",
   "metadata": {},
   "source": [
    "## Statemachine: Transition Table"
   ]
  },
  {
   "cell_type": "markdown",
   "id": "6673cbec-1917-42a9-b96d-d9e2bb71342e",
   "metadata": {},
   "source": [
    "### Get Data Table"
   ]
  },
  {
   "cell_type": "code",
   "execution_count": null,
   "id": "d336d006-32f0-4e2b-8640-b64e75f86412",
   "metadata": {},
   "outputs": [],
   "source": [
    "machine.data()"
   ]
  },
  {
   "cell_type": "markdown",
   "id": "f080d276-225a-4ef0-8cc3-d844288eba03",
   "metadata": {},
   "source": [
    "### Table Figure"
   ]
  },
  {
   "cell_type": "code",
   "execution_count": null,
   "id": "6c680e17-7b12-48c7-895e-f8a99bc44dd0",
   "metadata": {
    "tags": []
   },
   "outputs": [],
   "source": [
    "machine.table()"
   ]
  },
  {
   "cell_type": "markdown",
   "id": "fbb40c43-a0ed-4951-8d3c-2e8d28e9fc08",
   "metadata": {},
   "source": [
    "## Statemachine: Transition Heatmap"
   ]
  },
  {
   "cell_type": "markdown",
   "id": "8bccff2d-81fa-4e65-9ef6-9446d7918f83",
   "metadata": {},
   "source": [
    "### Heatmap Figure"
   ]
  },
  {
   "cell_type": "code",
   "execution_count": null,
   "id": "fdde2f4d-30ae-489e-a52c-3abc14a83854",
   "metadata": {},
   "outputs": [],
   "source": [
    "machine.heatmap()"
   ]
  },
  {
   "cell_type": "markdown",
   "id": "1e02be5e-41f3-4376-9d7b-d63e35aec074",
   "metadata": {},
   "source": [
    "### Heatmap Plot"
   ]
  },
  {
   "cell_type": "code",
   "execution_count": null,
   "id": "b795f11e-6ec6-4622-9709-6b307061b416",
   "metadata": {},
   "outputs": [],
   "source": [
    "machine.plot()"
   ]
  },
  {
   "cell_type": "code",
   "execution_count": null,
   "id": "3b24e42f-c29a-47a7-9a6a-5f3776065850",
   "metadata": {},
   "outputs": [],
   "source": [
    "go.Figure(machine.plot())"
   ]
  },
  {
   "cell_type": "markdown",
   "id": "2a54c95c-a3ff-438d-879f-9b84950fc894",
   "metadata": {},
   "source": [
    "## Statemachine: Transition Flowchart"
   ]
  },
  {
   "cell_type": "code",
   "execution_count": null,
   "id": "7bb9efce-3614-4c34-a436-aee0b7722a00",
   "metadata": {},
   "outputs": [],
   "source": [
    "machine.flowchart()"
   ]
  },
  {
   "cell_type": "code",
   "execution_count": null,
   "id": "120a3131-52c9-4e19-bdbd-965fb7a78b6a",
   "metadata": {},
   "outputs": [],
   "source": [
    "go.Figure(machine.flowchart())"
   ]
  },
  {
   "cell_type": "code",
   "execution_count": null,
   "id": "4c9920d1-6400-48df-a3b4-7ed1538da53b",
   "metadata": {},
   "outputs": [],
   "source": []
  }
 ],
 "metadata": {
  "kernelspec": {
   "display_name": "Python 3 (ipykernel)",
   "language": "python",
   "name": "python3"
  },
  "language_info": {
   "codemirror_mode": {
    "name": "ipython",
    "version": 3
   },
   "file_extension": ".py",
   "mimetype": "text/x-python",
   "name": "python",
   "nbconvert_exporter": "python",
   "pygments_lexer": "ipython3",
   "version": "3.9.10"
  }
 },
 "nbformat": 4,
 "nbformat_minor": 5
}
