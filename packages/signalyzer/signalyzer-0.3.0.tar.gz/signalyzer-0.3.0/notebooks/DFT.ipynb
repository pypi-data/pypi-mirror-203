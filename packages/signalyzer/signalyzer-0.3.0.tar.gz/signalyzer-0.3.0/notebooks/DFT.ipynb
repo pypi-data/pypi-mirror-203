{
 "cells": [
  {
   "cell_type": "markdown",
   "id": "4d0f8909-9c7a-41b2-9aad-21b9f0800e75",
   "metadata": {},
   "source": [
    "# DFT"
   ]
  },
  {
   "cell_type": "code",
   "execution_count": null,
   "id": "38d645f8-3283-49e6-bc94-91c49cee3c9f",
   "metadata": {},
   "outputs": [],
   "source": [
    "import numpy as np"
   ]
  },
  {
   "cell_type": "code",
   "execution_count": null,
   "id": "d15fc2e3-5ce4-4f06-981e-3cc79de92b77",
   "metadata": {},
   "outputs": [],
   "source": [
    "import scipy"
   ]
  },
  {
   "cell_type": "code",
   "execution_count": null,
   "id": "64bdf6c7-0725-4f33-9ffc-0e2a8025bcf7",
   "metadata": {},
   "outputs": [],
   "source": [
    "import plotly.graph_objects as go"
   ]
  },
  {
   "cell_type": "code",
   "execution_count": null,
   "id": "e7df302b-bf3a-48b3-af76-ebc519363526",
   "metadata": {},
   "outputs": [],
   "source": [
    "import plotly.figure_factory as ff"
   ]
  },
  {
   "cell_type": "code",
   "execution_count": null,
   "id": "1da2d51e-79a6-4b41-ab87-82fbb917df12",
   "metadata": {},
   "outputs": [],
   "source": [
    "import plotly.express as px"
   ]
  },
  {
   "cell_type": "code",
   "execution_count": null,
   "id": "ef95373f-3fe4-474d-ab96-02271016f646",
   "metadata": {},
   "outputs": [],
   "source": [
    "from signalyzer import Trace"
   ]
  },
  {
   "cell_type": "code",
   "execution_count": null,
   "id": "fb8b182c-cf15-45bc-824c-e336a5e13cc7",
   "metadata": {},
   "outputs": [],
   "source": [
    "dt = 0.01"
   ]
  },
  {
   "cell_type": "code",
   "execution_count": null,
   "id": "5ffb9983-c2a1-4602-8bbf-b53016ecb1c6",
   "metadata": {},
   "outputs": [],
   "source": [
    "1 / dt"
   ]
  },
  {
   "cell_type": "code",
   "execution_count": null,
   "id": "b8a16217-ea0a-4181-b40e-bcfd1d16d4cc",
   "metadata": {},
   "outputs": [],
   "source": [
    "trace = Trace('Signal', map(np.sin, [np.pi * i / 50 for i in range(101)]))"
   ]
  },
  {
   "cell_type": "code",
   "execution_count": null,
   "id": "21f069c3-afad-4b52-8076-2351abde8908",
   "metadata": {},
   "outputs": [],
   "source": [
    "trace.figure()"
   ]
  },
  {
   "cell_type": "code",
   "execution_count": null,
   "id": "d9cfbbc4-aab1-45b8-aff7-0960894cc605",
   "metadata": {},
   "outputs": [],
   "source": [
    "def _dft(x):\n",
    "    \"\"\"\n",
    "    Function to calculate the discrete Fourier Transform of a 1D real-valued signal x.\n",
    "    \"\"\"\n",
    "    N = len(x)\n",
    "    n = np.arange(N)\n",
    "    k = n.reshape((N, 1))\n",
    "    e = np.exp(-2j * np.pi * k * (n / N))\n",
    "    X = np.dot(e, x)\n",
    "    return X"
   ]
  },
  {
   "cell_type": "code",
   "execution_count": null,
   "id": "4e34e7db-01da-4346-9dc1-acf012468703",
   "metadata": {},
   "outputs": [],
   "source": [
    "_dft(trace)"
   ]
  },
  {
   "cell_type": "code",
   "execution_count": null,
   "id": "52178519-1366-487f-9206-b6f48ca70914",
   "metadata": {},
   "outputs": [],
   "source": [
    "def dft(trace):\n",
    "    \"\"\"\n",
    "    Function to calculate the discrete Fourier Transform of a 1D real-valued signal x\n",
    "    \"\"\"\n",
    "    N = len(trace)\n",
    "    return (scipy.fft.fftfreq(N), scipy.fft.fft(trace, N))"
   ]
  },
  {
   "cell_type": "code",
   "execution_count": null,
   "id": "f386a66a-2ab6-4caf-989d-eb9d05212ece",
   "metadata": {},
   "outputs": [],
   "source": [
    "f, A = dft(trace)"
   ]
  },
  {
   "cell_type": "code",
   "execution_count": null,
   "id": "b85e48b9-b0c4-4e8a-b76c-daf2f5667c4d",
   "metadata": {},
   "outputs": [],
   "source": [
    "go.Figure(go.Scatter(x=f / dt, y=abs(A), mode='lines'))"
   ]
  },
  {
   "cell_type": "code",
   "execution_count": null,
   "id": "466a445d-fc51-4784-8c39-5850085e0b25",
   "metadata": {},
   "outputs": [],
   "source": []
  }
 ],
 "metadata": {
  "kernelspec": {
   "display_name": "Python 3 (ipykernel)",
   "language": "python",
   "name": "python3"
  },
  "language_info": {
   "codemirror_mode": {
    "name": "ipython",
    "version": 3
   },
   "file_extension": ".py",
   "mimetype": "text/x-python",
   "name": "python",
   "nbconvert_exporter": "python",
   "pygments_lexer": "ipython3",
   "version": "3.9.10"
  }
 },
 "nbformat": 4,
 "nbformat_minor": 5
}
