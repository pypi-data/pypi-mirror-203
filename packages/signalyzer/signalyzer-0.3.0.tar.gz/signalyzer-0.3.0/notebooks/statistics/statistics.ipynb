{
 "cells": [
  {
   "cell_type": "markdown",
   "id": "192c745a-b487-4dc9-a364-f14d082d0f03",
   "metadata": {
    "tags": []
   },
   "source": [
    "# Signal `Trace` *data class* Tutorial: Signal Statistics\n",
    "\n",
    "This tutorial shall give you an overview of the **descriptive statistics** features of the `Trace` class provided by the `signalyzer` Python package.\n",
    "\n",
    "For more details please read the documentation hosted on [gitlab.com](https://signalytics.gitlab.io/signalyzer)."
   ]
  },
  {
   "cell_type": "code",
   "execution_count": null,
   "id": "75ebfd64-178e-464b-b5ad-a7a0e09234f5",
   "metadata": {},
   "outputs": [],
   "source": [
    "import math"
   ]
  },
  {
   "cell_type": "code",
   "execution_count": null,
   "id": "78aaa21d-8618-4a03-9503-60ebe861cb8d",
   "metadata": {
    "tags": []
   },
   "outputs": [],
   "source": [
    "import statistics as stats"
   ]
  },
  {
   "cell_type": "code",
   "execution_count": null,
   "id": "7435cc51-e3dd-4f22-bdc0-a397bc62ef7e",
   "metadata": {},
   "outputs": [],
   "source": [
    "import numpy as np"
   ]
  },
  {
   "cell_type": "code",
   "execution_count": null,
   "id": "ea3004ce-2009-4b17-8ef1-4ee99874349f",
   "metadata": {},
   "outputs": [],
   "source": [
    "from scipy.stats import skewnorm"
   ]
  },
  {
   "cell_type": "code",
   "execution_count": null,
   "id": "72e39480-1f27-4056-a861-fcffbf80da9d",
   "metadata": {},
   "outputs": [],
   "source": [
    "import plotly.express as px"
   ]
  },
  {
   "cell_type": "code",
   "execution_count": null,
   "id": "fbbb38e4-a415-4c0e-87ce-8dae141d6e68",
   "metadata": {},
   "outputs": [],
   "source": [
    "import plotly.graph_objects as go"
   ]
  },
  {
   "cell_type": "code",
   "execution_count": null,
   "id": "04e13f8f-3401-4c62-9a55-5fed64734b33",
   "metadata": {},
   "outputs": [],
   "source": [
    "import plotly.figure_factory as ff"
   ]
  },
  {
   "cell_type": "code",
   "execution_count": null,
   "id": "32df35a1-9912-4f91-ae7c-65695d12c1cc",
   "metadata": {},
   "outputs": [],
   "source": [
    "from signalyzer import Trace"
   ]
  },
  {
   "cell_type": "markdown",
   "id": "124037ba-f635-45a0-9d43-abac6608e1c4",
   "metadata": {},
   "source": [
    "## Signal Samples"
   ]
  },
  {
   "cell_type": "code",
   "execution_count": null,
   "id": "6445c74c-7fc3-4b12-8c62-be89b1bdfac5",
   "metadata": {},
   "outputs": [],
   "source": [
    "signal = Trace('Signal', [1.5, 1.6, 1.4, 2.5, 1.3, 1.7])"
   ]
  },
  {
   "cell_type": "code",
   "execution_count": null,
   "id": "03e5dc37-2e4d-4e36-9269-ad9edd6e9a24",
   "metadata": {},
   "outputs": [],
   "source": [
    "signal"
   ]
  },
  {
   "cell_type": "code",
   "execution_count": null,
   "id": "bf776dfc-84cf-4c09-a50e-e2a76ad87089",
   "metadata": {},
   "outputs": [],
   "source": [
    "go.Figure(signal.plot(mode='markers+lines'))"
   ]
  },
  {
   "cell_type": "markdown",
   "id": "230661a0-a619-469a-9ce9-5e430a0e213f",
   "metadata": {
    "tags": []
   },
   "source": [
    "## Minimum"
   ]
  },
  {
   "cell_type": "code",
   "execution_count": null,
   "id": "44010fef-5a15-4ae9-9075-9b0cb1b81e5a",
   "metadata": {},
   "outputs": [],
   "source": [
    "signal.min()"
   ]
  },
  {
   "cell_type": "code",
   "execution_count": null,
   "id": "db0b1a34-f383-4343-9435-8d9a6f2074da",
   "metadata": {
    "tags": []
   },
   "outputs": [],
   "source": [
    "min(signal)"
   ]
  },
  {
   "cell_type": "code",
   "execution_count": null,
   "id": "10f2dc99-8741-4dfd-bef5-1ddb5e2a9eba",
   "metadata": {
    "tags": []
   },
   "outputs": [],
   "source": [
    "trace = Trace('Minimum', [signal.min()] * len(signal))"
   ]
  },
  {
   "cell_type": "code",
   "execution_count": null,
   "id": "31f85393-582b-44f5-aeb6-a0d3b1ada1b8",
   "metadata": {},
   "outputs": [],
   "source": [
    "trace"
   ]
  },
  {
   "cell_type": "code",
   "execution_count": null,
   "id": "627a2d2d-eac8-4369-b67d-0fc4c2274db6",
   "metadata": {},
   "outputs": [],
   "source": [
    "go.Figure([\n",
    "    signal.plot(),\n",
    "    trace.plot()]\n",
    ").update_traces(mode='markers+lines')"
   ]
  },
  {
   "cell_type": "markdown",
   "id": "3d72e629-725e-4fe5-bc98-08c39b017d79",
   "metadata": {},
   "source": [
    "## Maximum"
   ]
  },
  {
   "cell_type": "code",
   "execution_count": null,
   "id": "c64650ee-e9a5-4618-b3e9-23902eca7f7f",
   "metadata": {},
   "outputs": [],
   "source": [
    "signal.max()"
   ]
  },
  {
   "cell_type": "code",
   "execution_count": null,
   "id": "357a5d87-08bb-4536-8104-9f43a2990377",
   "metadata": {
    "tags": []
   },
   "outputs": [],
   "source": [
    " max(signal)"
   ]
  },
  {
   "cell_type": "code",
   "execution_count": null,
   "id": "0810510b-8bd1-4297-b151-40684efb1927",
   "metadata": {
    "tags": []
   },
   "outputs": [],
   "source": [
    "trace = Trace('Maximum', [signal.max()] * len(signal))"
   ]
  },
  {
   "cell_type": "code",
   "execution_count": null,
   "id": "4cd77ea5-ba88-4f87-b35c-25cd90a4c43b",
   "metadata": {},
   "outputs": [],
   "source": [
    "trace"
   ]
  },
  {
   "cell_type": "code",
   "execution_count": null,
   "id": "07b140e7-ea3b-4c7f-beb4-2eb44119bece",
   "metadata": {},
   "outputs": [],
   "source": [
    "go.Figure([\n",
    "    signal.plot(),\n",
    "    trace.plot()]\n",
    ").update_traces(mode='markers+lines')"
   ]
  },
  {
   "cell_type": "markdown",
   "id": "65b0ce1a-7ff9-406d-8c6f-b8075a498bfc",
   "metadata": {
    "tags": []
   },
   "source": [
    "## Range"
   ]
  },
  {
   "cell_type": "code",
   "execution_count": null,
   "id": "10d746da-be13-4ede-898f-6458218e3ec4",
   "metadata": {
    "tags": []
   },
   "outputs": [],
   "source": [
    "span = signal.range()"
   ]
  },
  {
   "cell_type": "code",
   "execution_count": null,
   "id": "03568aa5-ee0c-4ad8-8350-b026b58b371a",
   "metadata": {},
   "outputs": [],
   "source": [
    "span"
   ]
  },
  {
   "cell_type": "code",
   "execution_count": null,
   "id": "574ca069-5d7c-4e56-8c80-46b531cf87df",
   "metadata": {
    "tags": []
   },
   "outputs": [],
   "source": [
    "trace = Trace('Range', [signal.min()] * len(signal) + [signal.max()] * len(signal))"
   ]
  },
  {
   "cell_type": "code",
   "execution_count": null,
   "id": "689de2d9-12cc-4c9e-8cc3-10168977a12e",
   "metadata": {},
   "outputs": [],
   "source": [
    "trace"
   ]
  },
  {
   "cell_type": "code",
   "execution_count": null,
   "id": "13768419-9516-43f7-b2d9-87317a22e48c",
   "metadata": {},
   "outputs": [],
   "source": [
    "go.Figure([\n",
    "    signal.plot(),\n",
    "    trace.plot(\n",
    "        x=signal.x_values + list(reversed(signal.x_values)),\n",
    "        fill='toself',\n",
    "        line_color='rgba(255,255,255,0)',\n",
    "        fillcolor='rgba(0,176,246,0.2)')]\n",
    ").update_traces(mode='markers+lines')"
   ]
  },
  {
   "cell_type": "markdown",
   "id": "8a178e8f-3a6c-439f-9001-53c946a5cd85",
   "metadata": {
    "tags": []
   },
   "source": [
    "## Mid-Range"
   ]
  },
  {
   "cell_type": "code",
   "execution_count": null,
   "id": "977c159b-68f4-412f-87b2-14416a47579c",
   "metadata": {
    "tags": []
   },
   "outputs": [],
   "source": [
    "trace = Trace('Mid-Range', [signal.midrange()] * len(signal))"
   ]
  },
  {
   "cell_type": "code",
   "execution_count": null,
   "id": "0fc97802-79f8-4e2a-9c27-82b6fd0be323",
   "metadata": {},
   "outputs": [],
   "source": [
    "trace"
   ]
  },
  {
   "cell_type": "code",
   "execution_count": null,
   "id": "b6036233-e01c-4160-a284-1be0db51a498",
   "metadata": {
    "tags": []
   },
   "outputs": [],
   "source": [
    "go.Figure([\n",
    "    signal.plot(),\n",
    "    trace.plot()]\n",
    ").update_traces(mode='markers+lines')"
   ]
  },
  {
   "cell_type": "markdown",
   "id": "99aa66de-ecff-4ecd-863c-dd33d5d10ca6",
   "metadata": {},
   "source": [
    "## Sum"
   ]
  },
  {
   "cell_type": "code",
   "execution_count": null,
   "id": "e680e35d-dadb-4cc5-b303-53d60f14f2b5",
   "metadata": {},
   "outputs": [],
   "source": [
    "signal.sum()"
   ]
  },
  {
   "cell_type": "code",
   "execution_count": null,
   "id": "af9c7f1a-e20f-4c01-a7b2-24d91b937a65",
   "metadata": {},
   "outputs": [],
   "source": [
    "sum(signal)"
   ]
  },
  {
   "cell_type": "markdown",
   "id": "c07b9574-0289-4884-8c31-c922a5f3240a",
   "metadata": {},
   "source": [
    "## Mean (1st Common Moment)"
   ]
  },
  {
   "cell_type": "code",
   "execution_count": null,
   "id": "38adb999-1aba-4318-b0e3-4a0cfed005f3",
   "metadata": {},
   "outputs": [],
   "source": [
    "stats.mean(signal)"
   ]
  },
  {
   "cell_type": "code",
   "execution_count": null,
   "id": "f7ac7a0b-66bd-42c7-b7d3-d02c26d08967",
   "metadata": {},
   "outputs": [],
   "source": [
    "trace = Trace('Mean', [signal.mean()] * len(signal))"
   ]
  },
  {
   "cell_type": "code",
   "execution_count": null,
   "id": "ab6696af-6ee2-4cb1-bfd6-95b763092764",
   "metadata": {
    "tags": []
   },
   "outputs": [],
   "source": [
    "trace"
   ]
  },
  {
   "cell_type": "code",
   "execution_count": null,
   "id": "70c1e00b-3eb3-4afb-aef0-a3f1c60941cb",
   "metadata": {},
   "outputs": [],
   "source": [
    "go.Figure([\n",
    "    signal.plot(),\n",
    "    trace.plot()]\n",
    ").update_traces(mode='markers+lines')"
   ]
  },
  {
   "cell_type": "markdown",
   "id": "f7d65d45-02ac-4043-b434-e7c92fdd493a",
   "metadata": {},
   "source": [
    "## Linear-Weighted Mean (1st Common Moment)"
   ]
  },
  {
   "cell_type": "code",
   "execution_count": null,
   "id": "eceb4f19-272f-4b29-8d86-28b8bb2b14ad",
   "metadata": {},
   "outputs": [],
   "source": [
    "trace = Trace('Linear-Weighted Mean', [signal.weighted_mean()] * len(signal))"
   ]
  },
  {
   "cell_type": "code",
   "execution_count": null,
   "id": "41ea3059-ec1a-4f74-801f-ef6627f04ebe",
   "metadata": {},
   "outputs": [],
   "source": [
    "trace"
   ]
  },
  {
   "cell_type": "code",
   "execution_count": null,
   "id": "749b52e6-2cee-4960-8eaf-93d486a17a43",
   "metadata": {},
   "outputs": [],
   "source": [
    "go.Figure([\n",
    "    signal.plot(),\n",
    "    trace.plot()]\n",
    ").update_traces(mode='markers+lines')"
   ]
  },
  {
   "cell_type": "markdown",
   "id": "a0b6fa1d-5ab6-49ae-a0e7-fe6db99215c7",
   "metadata": {},
   "source": [
    "## Winsor Mean"
   ]
  },
  {
   "cell_type": "code",
   "execution_count": null,
   "id": "35d80299-1771-4cf0-bbea-7ab0fd59311e",
   "metadata": {},
   "outputs": [],
   "source": [
    "trace = Trace('Winsor Mean', [signal.winsor_mean(0.2)] * len(signal))"
   ]
  },
  {
   "cell_type": "code",
   "execution_count": null,
   "id": "30b91437-3ea5-43d8-bf0d-53eb23ae656b",
   "metadata": {},
   "outputs": [],
   "source": [
    "trace"
   ]
  },
  {
   "cell_type": "code",
   "execution_count": null,
   "id": "bc08903d-5741-4b78-a719-a00e896734a4",
   "metadata": {},
   "outputs": [],
   "source": [
    "go.Figure([\n",
    "    signal.plot(),\n",
    "    trace.plot()]\n",
    ").update_traces(mode='markers+lines')"
   ]
  },
  {
   "cell_type": "markdown",
   "id": "9b36a163-a927-4c87-a322-e6b776a79ff8",
   "metadata": {
    "tags": []
   },
   "source": [
    "## Median"
   ]
  },
  {
   "cell_type": "code",
   "execution_count": null,
   "id": "6cae79fc-68c4-404a-8b2f-ab2523ae0872",
   "metadata": {},
   "outputs": [],
   "source": [
    "stats.median(signal)"
   ]
  },
  {
   "cell_type": "code",
   "execution_count": null,
   "id": "610daeec-af5c-40a9-a2ad-2b372b8fd81b",
   "metadata": {},
   "outputs": [],
   "source": [
    "signal.sort()"
   ]
  },
  {
   "cell_type": "code",
   "execution_count": null,
   "id": "6f01d1e4-f6f4-417e-9dfe-39294052534f",
   "metadata": {},
   "outputs": [],
   "source": [
    "sorted(signal)"
   ]
  },
  {
   "cell_type": "code",
   "execution_count": null,
   "id": "77c09fc2-10b9-44c4-871e-522b108f8ec1",
   "metadata": {},
   "outputs": [],
   "source": [
    "trace = Trace('Median', [signal.median()] * len(signal))"
   ]
  },
  {
   "cell_type": "code",
   "execution_count": null,
   "id": "0e2355da-add3-4015-a612-a887976fae3d",
   "metadata": {},
   "outputs": [],
   "source": [
    "trace"
   ]
  },
  {
   "cell_type": "code",
   "execution_count": null,
   "id": "3be281bc-2c05-4c23-ae9e-2ec9d46995ed",
   "metadata": {},
   "outputs": [],
   "source": [
    "go.Figure([\n",
    "    signal.plot(),\n",
    "    trace.plot()]\n",
    ").update_traces(mode='markers+lines')"
   ]
  },
  {
   "cell_type": "markdown",
   "id": "ecc4d7b8-bc1b-4dfe-af05-5116b9510a06",
   "metadata": {},
   "source": [
    "## Mode"
   ]
  },
  {
   "cell_type": "code",
   "execution_count": null,
   "id": "a5a71be6-5803-483b-a384-eaf9777ce63e",
   "metadata": {},
   "outputs": [],
   "source": [
    "stats.mode(signal)"
   ]
  },
  {
   "cell_type": "code",
   "execution_count": null,
   "id": "4efd76a0-fcd1-4663-b484-20ffdc795a7f",
   "metadata": {},
   "outputs": [],
   "source": [
    "trace = Trace('Mode', [signal.mode()] * len(signal))"
   ]
  },
  {
   "cell_type": "code",
   "execution_count": null,
   "id": "de4fa48f-b275-4b68-80dd-05fe9935600b",
   "metadata": {},
   "outputs": [],
   "source": [
    "trace"
   ]
  },
  {
   "cell_type": "code",
   "execution_count": null,
   "id": "0befe595-e5ba-48de-b0f7-dfd0fa5758f3",
   "metadata": {},
   "outputs": [],
   "source": [
    "go.Figure([\n",
    "    signal.plot(),\n",
    "    trace.plot()]\n",
    ").update_traces(mode='markers+lines')"
   ]
  },
  {
   "cell_type": "markdown",
   "id": "d084b559-2755-4d60-be0c-326e3f3c58fb",
   "metadata": {},
   "source": [
    "## Root Mean Square"
   ]
  },
  {
   "cell_type": "code",
   "execution_count": null,
   "id": "f1609f62-c825-431f-b213-22f1984cf5e4",
   "metadata": {},
   "outputs": [],
   "source": [
    "trace = Trace('Rms', [signal.rms()] * len(signal))"
   ]
  },
  {
   "cell_type": "code",
   "execution_count": null,
   "id": "a84abe02-3f66-47e5-9a3d-3d6a861bc173",
   "metadata": {},
   "outputs": [],
   "source": [
    "trace"
   ]
  },
  {
   "cell_type": "code",
   "execution_count": null,
   "id": "f687ffac-d605-411a-9e8c-4145dc127874",
   "metadata": {},
   "outputs": [],
   "source": [
    "go.Figure([\n",
    "    signal.plot(),\n",
    "    trace.plot()]\n",
    ").update_traces(mode='markers+lines')"
   ]
  },
  {
   "cell_type": "markdown",
   "id": "a0190325-0d18-447f-adbc-037b4fcb690b",
   "metadata": {},
   "source": [
    "## Center"
   ]
  },
  {
   "cell_type": "code",
   "execution_count": null,
   "id": "300d9cf4-a21b-454d-910e-577cc789116d",
   "metadata": {},
   "outputs": [],
   "source": [
    "center = signal.mean()"
   ]
  },
  {
   "cell_type": "markdown",
   "id": "d6fa2ec3-725f-4fd0-b56a-df53018a5020",
   "metadata": {},
   "source": [
    "## Error"
   ]
  },
  {
   "cell_type": "code",
   "execution_count": null,
   "id": "53cdd89d-a941-41aa-a781-e33e118ab408",
   "metadata": {},
   "outputs": [],
   "source": [
    "trace = Trace('Error', signal - center)"
   ]
  },
  {
   "cell_type": "code",
   "execution_count": null,
   "id": "71271c76-1a00-4835-8eb4-fb9ba34f6b5c",
   "metadata": {},
   "outputs": [],
   "source": [
    "trace"
   ]
  },
  {
   "cell_type": "code",
   "execution_count": null,
   "id": "5d80f23e-df45-4e43-ad6c-fd3605ed7b86",
   "metadata": {},
   "outputs": [],
   "source": [
    "go.Figure([\n",
    "    signal.plot(), \n",
    "    trace.plot()]\n",
    ").update_traces(mode='markers+lines')"
   ]
  },
  {
   "cell_type": "markdown",
   "id": "8821361b-ce92-4512-9c29-cd274ff838e0",
   "metadata": {},
   "source": [
    "## Absolute Error (1st Central Moment)"
   ]
  },
  {
   "cell_type": "code",
   "execution_count": null,
   "id": "cb3fd051-cf76-4645-a378-247c401a3885",
   "metadata": {},
   "outputs": [],
   "source": [
    "signal.aad()"
   ]
  },
  {
   "cell_type": "code",
   "execution_count": null,
   "id": "62695581-64ef-4687-a3ff-b69659be4bbf",
   "metadata": {},
   "outputs": [],
   "source": [
    "trace = Trace('Absolute Error', [signal.aad()] * len(signal))"
   ]
  },
  {
   "cell_type": "code",
   "execution_count": null,
   "id": "ee14aad4-bb0e-4b40-83f3-4ff98165cb47",
   "metadata": {},
   "outputs": [],
   "source": [
    "trace"
   ]
  },
  {
   "cell_type": "code",
   "execution_count": null,
   "id": "4c3b685b-4dde-4d73-ab38-f67e2920d843",
   "metadata": {},
   "outputs": [],
   "source": [
    "go.Figure([\n",
    "    signal.plot(), \n",
    "    trace.plot()]\n",
    ").update_traces(mode='markers+lines')"
   ]
  },
  {
   "cell_type": "markdown",
   "id": "b171382b-cc3e-4534-b734-03350a4df407",
   "metadata": {},
   "source": [
    "## Variance (2nd Central Moment)"
   ]
  },
  {
   "cell_type": "code",
   "execution_count": null,
   "id": "309db313-07ba-4111-9769-94bc58c06fb8",
   "metadata": {},
   "outputs": [],
   "source": [
    "signal.variance(center=center)"
   ]
  },
  {
   "cell_type": "code",
   "execution_count": null,
   "id": "bc988f89-db1b-40d1-8b36-54c8aba274bf",
   "metadata": {},
   "outputs": [],
   "source": [
    "trace = Trace('Variance', [signal.variance(center=center)] * len(signal))"
   ]
  },
  {
   "cell_type": "code",
   "execution_count": null,
   "id": "4052c6b9-5ef9-4e89-83e9-9bc050225943",
   "metadata": {},
   "outputs": [],
   "source": [
    "trace"
   ]
  },
  {
   "cell_type": "code",
   "execution_count": null,
   "id": "42d53133-8549-4255-b0e9-7438071d8ca6",
   "metadata": {},
   "outputs": [],
   "source": [
    "go.Figure([\n",
    "    signal.plot(), \n",
    "    trace.plot()]\n",
    ").update_traces(mode='markers+lines')"
   ]
  },
  {
   "cell_type": "markdown",
   "id": "9a58b7b8-b59c-4e66-8903-77ee3642edf6",
   "metadata": {},
   "source": [
    "## Standard Deviation (2nd Central Moment)"
   ]
  },
  {
   "cell_type": "code",
   "execution_count": null,
   "id": "56606cdc-9ee4-4da4-9c16-929c2ec0f59b",
   "metadata": {},
   "outputs": [],
   "source": [
    "signal.std(center=center)"
   ]
  },
  {
   "cell_type": "code",
   "execution_count": null,
   "id": "4c87e47a-d2c4-4122-8037-eac4b1adf852",
   "metadata": {},
   "outputs": [],
   "source": [
    "trace = Trace('Deviation', [signal.std(center=center)] * len(signal))"
   ]
  },
  {
   "cell_type": "code",
   "execution_count": null,
   "id": "025594e2-ed08-434c-a984-107f01da42e4",
   "metadata": {},
   "outputs": [],
   "source": [
    "trace"
   ]
  },
  {
   "cell_type": "code",
   "execution_count": null,
   "id": "0324fcfe-75c6-434a-8af7-990dcba364f3",
   "metadata": {},
   "outputs": [],
   "source": [
    "go.Figure([\n",
    "    signal.plot(), \n",
    "    trace.plot()]\n",
    ").update_traces(mode='markers+lines')"
   ]
  },
  {
   "cell_type": "markdown",
   "id": "e073c9d2-1072-40c9-b452-19cf9c4baa7f",
   "metadata": {},
   "source": [
    "## Coefficient of Variation"
   ]
  },
  {
   "cell_type": "code",
   "execution_count": null,
   "id": "2d22a413-79e6-4cc5-8062-83960f451bb5",
   "metadata": {},
   "outputs": [],
   "source": [
    "signal.coefficient(center=center)"
   ]
  },
  {
   "cell_type": "code",
   "execution_count": null,
   "id": "01d276fd-de74-4072-8add-7ffbbbe3acca",
   "metadata": {},
   "outputs": [],
   "source": [
    "trace = Trace('Coefficient', [signal.coefficient(center=signal.mean())] * len(signal))"
   ]
  },
  {
   "cell_type": "code",
   "execution_count": null,
   "id": "3678541d-250e-431f-b474-9c2ac129af59",
   "metadata": {},
   "outputs": [],
   "source": [
    "trace"
   ]
  },
  {
   "cell_type": "code",
   "execution_count": null,
   "id": "61e6f2d0-9598-42ea-b5d5-a0a4fe3949a6",
   "metadata": {},
   "outputs": [],
   "source": [
    "go.Figure([\n",
    "    signal.plot(), \n",
    "    trace.plot()]\n",
    ").update_traces(mode='markers+lines')"
   ]
  },
  {
   "cell_type": "markdown",
   "id": "d6f07c6c-3263-4c47-b926-e12b3ffe7d22",
   "metadata": {},
   "source": [
    "## Skew (3rd Central Moment)"
   ]
  },
  {
   "cell_type": "code",
   "execution_count": null,
   "id": "a139703b-4b67-448c-b364-af24228065a7",
   "metadata": {},
   "outputs": [],
   "source": [
    "signal.skew(center=center)"
   ]
  },
  {
   "cell_type": "code",
   "execution_count": null,
   "id": "97c7e56a-ea75-4330-98d5-9f9a6f132ccf",
   "metadata": {},
   "outputs": [],
   "source": [
    "trace = Trace('Skew', [signal.skew(center=center)] * len(signal))"
   ]
  },
  {
   "cell_type": "code",
   "execution_count": null,
   "id": "ea87fdcf-e0a7-4574-8169-5aa3d61b67c8",
   "metadata": {},
   "outputs": [],
   "source": [
    "trace"
   ]
  },
  {
   "cell_type": "code",
   "execution_count": null,
   "id": "c59857ed-35b8-4985-baba-8252fd2dd8ea",
   "metadata": {},
   "outputs": [],
   "source": [
    "go.Figure([\n",
    "    signal.plot(), \n",
    "    trace.plot()]\n",
    ").update_traces(mode='markers+lines')"
   ]
  },
  {
   "cell_type": "markdown",
   "id": "0eb8890c-bd08-45ed-bc7c-cfb99ee27690",
   "metadata": {},
   "source": [
    "## Kurtosis (4th Central Moment)"
   ]
  },
  {
   "cell_type": "code",
   "execution_count": null,
   "id": "5f2e6892-7c99-4f2f-a0dc-ce7fa80ae4b3",
   "metadata": {},
   "outputs": [],
   "source": [
    "signal.kurtosis(center=center)"
   ]
  },
  {
   "cell_type": "code",
   "execution_count": null,
   "id": "051b10ff-0c83-45cb-9dff-b219d97ac986",
   "metadata": {},
   "outputs": [],
   "source": [
    "trace = Trace('kurtosis', [signal.kurtosis(center=center)] * len(signal))"
   ]
  },
  {
   "cell_type": "code",
   "execution_count": null,
   "id": "17d6be9a-07d7-48cf-8e54-43e6c6610523",
   "metadata": {},
   "outputs": [],
   "source": [
    "trace"
   ]
  },
  {
   "cell_type": "code",
   "execution_count": null,
   "id": "3cc61f36-bc81-47c3-8166-5a4964988a35",
   "metadata": {},
   "outputs": [],
   "source": [
    "go.Figure([\n",
    "    signal.plot(), \n",
    "    trace.plot()]\n",
    ").update_traces(mode='markers+lines')"
   ]
  },
  {
   "cell_type": "markdown",
   "id": "df6a6c38-314f-4569-8f1a-318a1837dc1d",
   "metadata": {},
   "source": [
    "## Distribution"
   ]
  },
  {
   "cell_type": "markdown",
   "id": "354e167c-21b1-4bb7-a3f1-f32490a1e530",
   "metadata": {
    "tags": []
   },
   "source": [
    "### Histogram Plot"
   ]
  },
  {
   "cell_type": "code",
   "execution_count": null,
   "id": "fcc3ef46-6f0d-4db7-b44b-a0a8ce39231b",
   "metadata": {},
   "outputs": [],
   "source": [
    "go.Figure([go.Histogram(x=list(signal), nbinsy=7)])"
   ]
  },
  {
   "cell_type": "markdown",
   "id": "cf81f7d2-34bb-4c23-8a34-1458973f8aa3",
   "metadata": {},
   "source": [
    "### Empirical Cumulative Distribution Function (ECDF) Plot"
   ]
  },
  {
   "cell_type": "code",
   "execution_count": null,
   "id": "7144c796-610a-4ef9-befd-67c044b6e47c",
   "metadata": {},
   "outputs": [],
   "source": [
    "px.ecdf(x=signal, markers=True, marginal=\"histogram\")"
   ]
  },
  {
   "cell_type": "markdown",
   "id": "1cd7ecbe-7a9e-4ac5-85ba-a9065a0c7e20",
   "metadata": {},
   "source": [
    "### Distribution Plot"
   ]
  },
  {
   "cell_type": "code",
   "execution_count": null,
   "id": "0967dffe-7ce9-413f-9253-4a05bc439eb8",
   "metadata": {},
   "outputs": [],
   "source": [
    "ff.create_distplot([signal.samples], [signal.label], bin_size=(signal.range() / len(signal)))"
   ]
  },
  {
   "cell_type": "markdown",
   "id": "15e9822c-8977-44c0-b189-3edfc157d995",
   "metadata": {},
   "source": [
    "## Quantiles "
   ]
  },
  {
   "cell_type": "code",
   "execution_count": null,
   "id": "234c0926-4a64-4f55-b598-6c106f499a3d",
   "metadata": {},
   "outputs": [],
   "source": [
    " stats.quantiles(signal, method='inclusive')"
   ]
  },
  {
   "cell_type": "markdown",
   "id": "02a7f7c1-8596-4289-9254-89f991bacc2d",
   "metadata": {},
   "source": [
    "### Box Plot"
   ]
  },
  {
   "cell_type": "code",
   "execution_count": null,
   "id": "766a9269-5167-469e-8995-67d6cd8b7b53",
   "metadata": {},
   "outputs": [],
   "source": [
    "go.Figure([go.Box(name=signal.label, x=list(signal), quartilemethod='inclusive', boxpoints='all', boxmean='sd')])"
   ]
  },
  {
   "cell_type": "markdown",
   "id": "6371743b-040c-4101-8588-77287f335ec6",
   "metadata": {},
   "source": [
    "### Violin Plot"
   ]
  },
  {
   "cell_type": "code",
   "execution_count": null,
   "id": "e3ff5d95-4f8d-4a58-b5fa-cbb22ec235af",
   "metadata": {},
   "outputs": [],
   "source": [
    "go.Figure([go.Violin(name=signal.label, x=list(signal), box_visible=True, points='all', meanline_visible=True)])"
   ]
  },
  {
   "cell_type": "markdown",
   "id": "1d64278d-827a-4642-add5-554158ae3c4f",
   "metadata": {},
   "source": [
    "## Z-Score"
   ]
  },
  {
   "cell_type": "code",
   "execution_count": null,
   "id": "38f14168-c58e-4933-b557-edaa6094454e",
   "metadata": {},
   "outputs": [],
   "source": [
    "trace = signal.zscore(center=center)"
   ]
  },
  {
   "cell_type": "code",
   "execution_count": null,
   "id": "e90fecba-2f74-4679-8cef-e2e96e177d7f",
   "metadata": {},
   "outputs": [],
   "source": [
    "trace"
   ]
  },
  {
   "cell_type": "code",
   "execution_count": null,
   "id": "5aa010ab-90b7-4503-9cb7-f435a970b178",
   "metadata": {
    "tags": []
   },
   "outputs": [],
   "source": [
    "go.Figure([\n",
    "    signal.plot(), \n",
    "    trace.plot()]\n",
    ").update_traces(mode='markers+lines')"
   ]
  },
  {
   "cell_type": "markdown",
   "id": "5b0cb9df-0bbe-46a3-8111-97c5ddb9f0b4",
   "metadata": {
    "tags": []
   },
   "source": [
    "### Histogram Plot"
   ]
  },
  {
   "cell_type": "code",
   "execution_count": null,
   "id": "e9c8e36c-09fc-4441-8a83-00729971d96d",
   "metadata": {},
   "outputs": [],
   "source": [
    "go.Figure([go.Histogram(x=list(signal.zscore(center=center)), nbinsy=7)])"
   ]
  },
  {
   "cell_type": "markdown",
   "id": "eb33de0c-d8c7-4be6-91b5-be46d322ef7d",
   "metadata": {},
   "source": [
    "## Normal Distribution"
   ]
  },
  {
   "cell_type": "code",
   "execution_count": null,
   "id": "12904254-9534-47dc-ad96-3306a2010e2a",
   "metadata": {},
   "outputs": [],
   "source": [
    "def normal_distribution(x , center , deviation):\n",
    "    \"\"\" Normal (Gauss) distribution function. \n",
    "    \n",
    "    param float center: mean, median or mode of the signal samples\n",
    "    param float deviation: standard deviation of the signal samples\n",
    "    \"\"\"\n",
    "    density = (1.0 / np.sqrt(2 * np.pi * (deviation **2))) * np.exp(-0.5 * ((x - center) / deviation)**2)\n",
    "    return density"
   ]
  },
  {
   "cell_type": "code",
   "execution_count": null,
   "id": "53933db3-73c7-49a4-ae00-15f1586e217d",
   "metadata": {},
   "outputs": [],
   "source": [
    "X = np.linspace(center - 3, center + 3, 200)\n",
    "go.Figure([\n",
    "    Trace('Normal Distribution', map(lambda x: normal_distribution(x, center, 1), X)).plot(x=X),\n",
    "    Trace('Signal Distribution', map(lambda x: normal_distribution(x, center, signal.std(center=center)), X)).plot(x=X),\n",
    "])"
   ]
  },
  {
   "cell_type": "markdown",
   "id": "40ef39e3-45c9-4cca-b12a-4f8ed9442a97",
   "metadata": {
    "tags": []
   },
   "source": [
    "## Skewed Normal Distribution"
   ]
  },
  {
   "cell_type": "code",
   "execution_count": null,
   "id": "4fd4e0ff-5518-44dd-909b-425943fbb10c",
   "metadata": {
    "tags": []
   },
   "outputs": [],
   "source": [
    "Z = np.linspace(-3, 3, 200)\n",
    "go.Figure([\n",
    "    Trace('Normal Distribution', map(lambda x: normal_distribution(x, 0, 1), Z)).plot(x=Z),\n",
    "    Trace('Skewed Normal Distribution', skewnorm.pdf(Z, signal.skew(center=center))).plot(x=Z)\n",
    "])"
   ]
  },
  {
   "cell_type": "code",
   "execution_count": null,
   "id": "9a70f119-8d9e-4d0e-9c2d-c20ff98e22e2",
   "metadata": {},
   "outputs": [],
   "source": []
  }
 ],
 "metadata": {
  "kernelspec": {
   "display_name": "Python 3 (ipykernel)",
   "language": "python",
   "name": "python3"
  },
  "language_info": {
   "codemirror_mode": {
    "name": "ipython",
    "version": 3
   },
   "file_extension": ".py",
   "mimetype": "text/x-python",
   "name": "python",
   "nbconvert_exporter": "python",
   "pygments_lexer": "ipython3",
   "version": "3.9.10"
  }
 },
 "nbformat": 4,
 "nbformat_minor": 5
}
